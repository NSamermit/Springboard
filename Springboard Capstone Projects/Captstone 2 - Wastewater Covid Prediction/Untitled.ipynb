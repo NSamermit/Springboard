{
 "cells": [
  {
   "cell_type": "code",
   "execution_count": 1,
   "id": "46522f26",
   "metadata": {},
   "outputs": [],
   "source": [
    "import pandas as pd\n",
    "import numpy as np\n",
    "import matplotlib.pyplot as plt\n",
    "import seaborn as sns\n",
    "import pickle\n",
    "from functools import reduce"
   ]
  },
  {
   "cell_type": "code",
   "execution_count": null,
   "id": "4d45a6b4",
   "metadata": {},
   "outputs": [],
   "source": [
    "def get_sources(source_list):\n",
    "    '''\n",
    "    this function takes a list of urls, ID's their format, requests dataset from source,\n",
    "    converts data into a dataframe, then saves it as a pickled file.\n",
    "    '''\n",
    "    for counter, source in enumerate(source_list):\n",
    "        name = str(counter) + '_df.pkl'\n",
    "        \n",
    "        if source.endswith('.json'):\n",
    "            response = requests.get(source)\n",
    "            data = response.json()\n",
    "            json_df = pd.DataFrame(data)            \n",
    "            json_df.to_pickle(name)\n",
    "            print(name, ' created using this source: ', source)\n",
    "        \n",
    "        if source.endswith('.csv'):\n",
    "            csv = pd.read_csv(source)\n",
    "            csv.to_pickle(name)\n",
    "            \n",
    "        else:\n",
    "            response = requests.get(source, allow_redirects=True)\n",
    "            with open('excel_data.xlsx', 'wb') as file:\n",
    "                file.write(response.content)\n",
    "            \n",
    "            #using pd.read_excel on a multi-spreadsheet xls yields a dictionary\n",
    "            excel_dict = pd.read_excel('excel_data.xlsx', sheet_name=None)\n",
    "            name = str(counter) + '_df.pkl'\n",
    "            #can ID sheetnames by evaluating keys\n",
    "            #print(excel_dict.keys())\n",
    "            if len(excel_dict.keys()) > 1:\n",
    "                print('There are more than one sheet in this .csv file.','\\n',\n",
    "                      source, '\\n', excel_dict.keys())\n",
    "                myInput = input('Which of these sheets do  you want to use?')\n",
    "                #print(myInput)\n",
    "                excel_specified_sheet = excel_dict[myInput]\n",
    "                excel_specified_sheet.to_pickle(name)\n",
    "            else:\n",
    "                excel_dict.to_pickle(name)\n",
    "            \n",
    "            print(name,' created using this source', source)"
   ]
  },
  {
   "cell_type": "code",
   "execution_count": 2,
   "id": "0f68e09b",
   "metadata": {},
   "outputs": [],
   "source": [
    "cases_by_county = 'Biobot Data/cases_by_county.csv'\n",
    "cases_county = pd.read_csv(cases_by_county, parse_dates=['date'])"
   ]
  },
  {
   "cell_type": "code",
   "execution_count": 3,
   "id": "4e2cb13e",
   "metadata": {},
   "outputs": [
    {
     "name": "stdout",
     "output_type": "stream",
     "text": [
      "<class 'pandas.core.frame.DataFrame'>\n",
      "RangeIndex: 15000 entries, 0 to 14999\n",
      "Data columns (total 6 columns):\n",
      " #   Column                                   Non-Null Count  Dtype         \n",
      "---  ------                                   --------------  -----         \n",
      " 0   date                                     15000 non-null  datetime64[ns]\n",
      " 1   rolling_average_cases_per_100k_centered  15000 non-null  float64       \n",
      " 2   region                                   15000 non-null  object        \n",
      " 3   state                                    15000 non-null  object        \n",
      " 4   county_fips_code                         15000 non-null  int64         \n",
      " 5   county_name                              15000 non-null  object        \n",
      "dtypes: datetime64[ns](1), float64(1), int64(1), object(3)\n",
      "memory usage: 703.2+ KB\n"
     ]
    }
   ],
   "source": [
    "cases_county.info()"
   ]
  },
  {
   "cell_type": "code",
   "execution_count": 59,
   "id": "9bbbad77",
   "metadata": {},
   "outputs": [
    {
     "data": {
      "text/plain": [
       "30"
      ]
     },
     "execution_count": 59,
     "metadata": {},
     "output_type": "execute_result"
    }
   ],
   "source": [
    "cases_county.county_fips_code.nunique()"
   ]
  },
  {
   "cell_type": "code",
   "execution_count": 4,
   "id": "39be90a9",
   "metadata": {},
   "outputs": [],
   "source": [
    "cases_by_region = 'Biobot Data/cases_by_region.csv'\n",
    "cases_region = pd.read_csv(cases_by_region, parse_dates=['date'])"
   ]
  },
  {
   "cell_type": "code",
   "execution_count": 5,
   "id": "967868ea",
   "metadata": {},
   "outputs": [
    {
     "name": "stdout",
     "output_type": "stream",
     "text": [
      "<class 'pandas.core.frame.DataFrame'>\n",
      "RangeIndex: 2500 entries, 0 to 2499\n",
      "Data columns (total 3 columns):\n",
      " #   Column                                   Non-Null Count  Dtype         \n",
      "---  ------                                   --------------  -----         \n",
      " 0   date                                     2500 non-null   datetime64[ns]\n",
      " 1   rolling_average_cases_per_100k_centered  2500 non-null   float64       \n",
      " 2   region                                   2500 non-null   object        \n",
      "dtypes: datetime64[ns](1), float64(1), object(1)\n",
      "memory usage: 58.7+ KB\n"
     ]
    }
   ],
   "source": [
    "cases_region.info()"
   ]
  },
  {
   "cell_type": "code",
   "execution_count": 6,
   "id": "0dec5ebf",
   "metadata": {},
   "outputs": [],
   "source": [
    "wastewater_by_county = 'Biobot Data/wastewater_by_county.csv'\n",
    "wastewater_county = pd.read_csv(wastewater_by_county, parse_dates=['sampling_week'])"
   ]
  },
  {
   "cell_type": "code",
   "execution_count": 7,
   "id": "b5c8dda9",
   "metadata": {},
   "outputs": [
    {
     "name": "stdout",
     "output_type": "stream",
     "text": [
      "<class 'pandas.core.frame.DataFrame'>\n",
      "RangeIndex: 1267 entries, 0 to 1266\n",
      "Data columns (total 7 columns):\n",
      " #   Column                                    Non-Null Count  Dtype         \n",
      "---  ------                                    --------------  -----         \n",
      " 0   sampling_week                             1267 non-null   datetime64[ns]\n",
      " 1   normalized_concentration_rolling_average  1267 non-null   float64       \n",
      " 2   population                                1267 non-null   object        \n",
      " 3   region                                    1267 non-null   object        \n",
      " 4   state                                     1267 non-null   object        \n",
      " 5   county_fips_code                          1267 non-null   int64         \n",
      " 6   county_name                               1267 non-null   object        \n",
      "dtypes: datetime64[ns](1), float64(1), int64(1), object(4)\n",
      "memory usage: 69.4+ KB\n"
     ]
    }
   ],
   "source": [
    "wastewater_county.info()"
   ]
  },
  {
   "cell_type": "code",
   "execution_count": 60,
   "id": "941f19e1",
   "metadata": {},
   "outputs": [
    {
     "data": {
      "text/plain": [
       "30"
      ]
     },
     "execution_count": 60,
     "metadata": {},
     "output_type": "execute_result"
    }
   ],
   "source": [
    "wastewater_county.county_fips_code.nunique()"
   ]
  },
  {
   "cell_type": "code",
   "execution_count": 8,
   "id": "b1e2e01c",
   "metadata": {},
   "outputs": [],
   "source": [
    "wastewater_by_region = 'Biobot Data/wastewater_by_region.csv'\n",
    "wastewater_region = pd.read_csv(wastewater_by_region, parse_dates=['sampling_week'])"
   ]
  },
  {
   "cell_type": "code",
   "execution_count": 9,
   "id": "2b1b348a",
   "metadata": {},
   "outputs": [
    {
     "name": "stdout",
     "output_type": "stream",
     "text": [
      "<class 'pandas.core.frame.DataFrame'>\n",
      "RangeIndex: 315 entries, 0 to 314\n",
      "Data columns (total 4 columns):\n",
      " #   Column                                    Non-Null Count  Dtype         \n",
      "---  ------                                    --------------  -----         \n",
      " 0   sampling_week                             315 non-null    datetime64[ns]\n",
      " 1   normalized_concentration_rolling_average  315 non-null    float64       \n",
      " 2   population                                315 non-null    object        \n",
      " 3   region                                    315 non-null    object        \n",
      "dtypes: datetime64[ns](1), float64(1), object(2)\n",
      "memory usage: 10.0+ KB\n"
     ]
    }
   ],
   "source": [
    "wastewater_region.info()"
   ]
  },
  {
   "cell_type": "code",
   "execution_count": 10,
   "id": "898e4d19",
   "metadata": {},
   "outputs": [],
   "source": [
    "wastewater_county['date'] = wastewater_county['sampling_week']"
   ]
  },
  {
   "cell_type": "code",
   "execution_count": null,
   "id": "c4784b59",
   "metadata": {},
   "outputs": [],
   "source": [
    "cases_data_frames = [cases_county, cases_region]\n",
    "wastewater_data_frames = [wastewater_county, wastewater_region]"
   ]
  },
  {
   "cell_type": "code",
   "execution_count": 230,
   "id": "ca6185ff",
   "metadata": {},
   "outputs": [],
   "source": [
    "county_merged = cases_county.reset_index().merge(wastewater_county)"
   ]
  },
  {
   "cell_type": "code",
   "execution_count": 231,
   "id": "f5cc773e",
   "metadata": {},
   "outputs": [
    {
     "name": "stdout",
     "output_type": "stream",
     "text": [
      "<class 'pandas.core.frame.DataFrame'>\n",
      "Int64Index: 1251 entries, 0 to 1250\n",
      "Data columns (total 10 columns):\n",
      " #   Column                                    Non-Null Count  Dtype         \n",
      "---  ------                                    --------------  -----         \n",
      " 0   index                                     1251 non-null   int64         \n",
      " 1   date                                      1251 non-null   datetime64[ns]\n",
      " 2   rolling_average_cases_per_100k_centered   1251 non-null   float64       \n",
      " 3   region                                    1251 non-null   object        \n",
      " 4   state                                     1251 non-null   object        \n",
      " 5   county_fips_code                          1251 non-null   int64         \n",
      " 6   county_name                               1251 non-null   object        \n",
      " 7   sampling_week                             1251 non-null   datetime64[ns]\n",
      " 8   normalized_concentration_rolling_average  1251 non-null   float64       \n",
      " 9   population                                1251 non-null   object        \n",
      "dtypes: datetime64[ns](2), float64(2), int64(2), object(4)\n",
      "memory usage: 107.5+ KB\n"
     ]
    }
   ],
   "source": [
    "county_merged.info()"
   ]
  },
  {
   "cell_type": "code",
   "execution_count": 232,
   "id": "244f8edc",
   "metadata": {},
   "outputs": [
    {
     "data": {
      "text/plain": [
       "Index(['index', 'date', 'rolling_average_cases_per_100k_centered', 'region',\n",
       "       'state', 'county_fips_code', 'county_name', 'sampling_week',\n",
       "       'normalized_concentration_rolling_average', 'population'],\n",
       "      dtype='object')"
      ]
     },
     "execution_count": 232,
     "metadata": {},
     "output_type": "execute_result"
    }
   ],
   "source": [
    "county_merged.columns"
   ]
  },
  {
   "cell_type": "code",
   "execution_count": 309,
   "id": "cd1f88fb",
   "metadata": {},
   "outputs": [
    {
     "data": {
      "text/plain": [
       "<AxesSubplot:xlabel='date', ylabel='normalized_concentration_rolling_average'>"
      ]
     },
     "execution_count": 309,
     "metadata": {},
     "output_type": "execute_result"
    },
    {
     "data": {
      "image/png": "[encoded data removed]",
      "text/plain": [
       "<Figure size 1152x648 with 1 Axes>"
      ]
     },
     "metadata": {
      "needs_background": "light"
     },
     "output_type": "display_data"
    }
   ],
   "source": [
    "plt.figure(figsize=(16,9))\n",
    "sns.lineplot(x='date', y='normalized_concentration_rolling_average', \n",
    "            data=county_merged, hue=(county_merged.state == 'MA'))"
   ]
  },
  {
   "cell_type": "code",
   "execution_count": 298,
   "id": "3dc1b2ac",
   "metadata": {},
   "outputs": [
    {
     "data": {
      "text/html": [
       "<div>\n",
       "<style scoped>\n",
       "    .dataframe tbody tr th:only-of-type {\n",
       "        vertical-align: middle;\n",
       "    }\n",
       "\n",
       "    .dataframe tbody tr th {\n",
       "        vertical-align: top;\n",
       "    }\n",
       "\n",
       "    .dataframe thead th {\n",
       "        text-align: right;\n",
       "    }\n",
       "</style>\n",
       "<table border=\"1\" class=\"dataframe\">\n",
       "  <thead>\n",
       "    <tr style=\"text-align: right;\">\n",
       "      <th></th>\n",
       "      <th>date</th>\n",
       "      <th>rolling_average_cases_per_100k_centered</th>\n",
       "      <th>region</th>\n",
       "      <th>state</th>\n",
       "      <th>county_fips_code</th>\n",
       "      <th>county_name</th>\n",
       "      <th>normalized_concentration_rolling_average</th>\n",
       "      <th>population</th>\n",
       "    </tr>\n",
       "    <tr>\n",
       "      <th>sampling_week</th>\n",
       "      <th></th>\n",
       "      <th></th>\n",
       "      <th></th>\n",
       "      <th></th>\n",
       "      <th></th>\n",
       "      <th></th>\n",
       "      <th></th>\n",
       "      <th></th>\n",
       "    </tr>\n",
       "  </thead>\n",
       "  <tbody>\n",
       "    <tr>\n",
       "      <th>2020-05-13</th>\n",
       "      <td>2020-05-13</td>\n",
       "      <td>12.358572</td>\n",
       "      <td>Midwest</td>\n",
       "      <td>IN</td>\n",
       "      <td>18089</td>\n",
       "      <td>Lake</td>\n",
       "      <td>124.219023</td>\n",
       "      <td>200000-500000</td>\n",
       "    </tr>\n",
       "    <tr>\n",
       "      <th>2020-05-20</th>\n",
       "      <td>2020-05-20</td>\n",
       "      <td>11.152140</td>\n",
       "      <td>Midwest</td>\n",
       "      <td>IN</td>\n",
       "      <td>18089</td>\n",
       "      <td>Lake</td>\n",
       "      <td>86.285771</td>\n",
       "      <td>200000-500000</td>\n",
       "    </tr>\n",
       "    <tr>\n",
       "      <th>2020-05-27</th>\n",
       "      <td>2020-05-27</td>\n",
       "      <td>10.210534</td>\n",
       "      <td>Midwest</td>\n",
       "      <td>IN</td>\n",
       "      <td>18089</td>\n",
       "      <td>Lake</td>\n",
       "      <td>66.981292</td>\n",
       "      <td>200000-500000</td>\n",
       "    </tr>\n",
       "    <tr>\n",
       "      <th>2020-06-03</th>\n",
       "      <td>2020-06-03</td>\n",
       "      <td>11.093289</td>\n",
       "      <td>Midwest</td>\n",
       "      <td>IN</td>\n",
       "      <td>18089</td>\n",
       "      <td>Lake</td>\n",
       "      <td>21.675411</td>\n",
       "      <td>200000-500000</td>\n",
       "    </tr>\n",
       "    <tr>\n",
       "      <th>2020-06-17</th>\n",
       "      <td>2020-06-17</td>\n",
       "      <td>7.268017</td>\n",
       "      <td>Midwest</td>\n",
       "      <td>IN</td>\n",
       "      <td>18089</td>\n",
       "      <td>Lake</td>\n",
       "      <td>43.899843</td>\n",
       "      <td>200000-500000</td>\n",
       "    </tr>\n",
       "    <tr>\n",
       "      <th>2020-06-24</th>\n",
       "      <td>2020-06-24</td>\n",
       "      <td>10.004558</td>\n",
       "      <td>Midwest</td>\n",
       "      <td>IN</td>\n",
       "      <td>18089</td>\n",
       "      <td>Lake</td>\n",
       "      <td>65.623157</td>\n",
       "      <td>100000-200000</td>\n",
       "    </tr>\n",
       "    <tr>\n",
       "      <th>2020-07-08</th>\n",
       "      <td>2020-07-08</td>\n",
       "      <td>14.241783</td>\n",
       "      <td>Midwest</td>\n",
       "      <td>IN</td>\n",
       "      <td>18089</td>\n",
       "      <td>Lake</td>\n",
       "      <td>145.255103</td>\n",
       "      <td>200000-500000</td>\n",
       "    </tr>\n",
       "    <tr>\n",
       "      <th>2020-07-15</th>\n",
       "      <td>2020-07-15</td>\n",
       "      <td>14.565459</td>\n",
       "      <td>Midwest</td>\n",
       "      <td>IN</td>\n",
       "      <td>18089</td>\n",
       "      <td>Lake</td>\n",
       "      <td>160.476485</td>\n",
       "      <td>200000-500000</td>\n",
       "    </tr>\n",
       "    <tr>\n",
       "      <th>2020-07-22</th>\n",
       "      <td>2020-07-22</td>\n",
       "      <td>14.918561</td>\n",
       "      <td>Midwest</td>\n",
       "      <td>IN</td>\n",
       "      <td>18089</td>\n",
       "      <td>Lake</td>\n",
       "      <td>172.795243</td>\n",
       "      <td>200000-500000</td>\n",
       "    </tr>\n",
       "    <tr>\n",
       "      <th>2020-07-29</th>\n",
       "      <td>2020-07-29</td>\n",
       "      <td>11.887769</td>\n",
       "      <td>Midwest</td>\n",
       "      <td>IN</td>\n",
       "      <td>18089</td>\n",
       "      <td>Lake</td>\n",
       "      <td>140.406348</td>\n",
       "      <td>200000-500000</td>\n",
       "    </tr>\n",
       "  </tbody>\n",
       "</table>\n",
       "</div>"
      ],
      "text/plain": [
       "                    date  rolling_average_cases_per_100k_centered   region  \\\n",
       "sampling_week                                                                \n",
       "2020-05-13    2020-05-13                                12.358572  Midwest   \n",
       "2020-05-20    2020-05-20                                11.152140  Midwest   \n",
       "2020-05-27    2020-05-27                                10.210534  Midwest   \n",
       "2020-06-03    2020-06-03                                11.093289  Midwest   \n",
       "2020-06-17    2020-06-17                                 7.268017  Midwest   \n",
       "2020-06-24    2020-06-24                                10.004558  Midwest   \n",
       "2020-07-08    2020-07-08                                14.241783  Midwest   \n",
       "2020-07-15    2020-07-15                                14.565459  Midwest   \n",
       "2020-07-22    2020-07-22                                14.918561  Midwest   \n",
       "2020-07-29    2020-07-29                                11.887769  Midwest   \n",
       "\n",
       "              state  county_fips_code county_name  \\\n",
       "sampling_week                                       \n",
       "2020-05-13       IN             18089        Lake   \n",
       "2020-05-20       IN             18089        Lake   \n",
       "2020-05-27       IN             18089        Lake   \n",
       "2020-06-03       IN             18089        Lake   \n",
       "2020-06-17       IN             18089        Lake   \n",
       "2020-06-24       IN             18089        Lake   \n",
       "2020-07-08       IN             18089        Lake   \n",
       "2020-07-15       IN             18089        Lake   \n",
       "2020-07-22       IN             18089        Lake   \n",
       "2020-07-29       IN             18089        Lake   \n",
       "\n",
       "               normalized_concentration_rolling_average     population  \n",
       "sampling_week                                                           \n",
       "2020-05-13                                   124.219023  200000-500000  \n",
       "2020-05-20                                    86.285771  200000-500000  \n",
       "2020-05-27                                    66.981292  200000-500000  \n",
       "2020-06-03                                    21.675411  200000-500000  \n",
       "2020-06-17                                    43.899843  200000-500000  \n",
       "2020-06-24                                    65.623157  100000-200000  \n",
       "2020-07-08                                   145.255103  200000-500000  \n",
       "2020-07-15                                   160.476485  200000-500000  \n",
       "2020-07-22                                   172.795243  200000-500000  \n",
       "2020-07-29                                   140.406348  200000-500000  "
      ]
     },
     "execution_count": 298,
     "metadata": {},
     "output_type": "execute_result"
    }
   ],
   "source": [
    "county_merged.head(10)"
   ]
  },
  {
   "cell_type": "code",
   "execution_count": 233,
   "id": "3c3c4159",
   "metadata": {},
   "outputs": [
    {
     "data": {
      "text/plain": [
       "0"
      ]
     },
     "execution_count": 233,
     "metadata": {},
     "output_type": "execute_result"
    }
   ],
   "source": [
    "county_merged['sampling_week'].isnull().sum()"
   ]
  },
  {
   "cell_type": "code",
   "execution_count": 234,
   "id": "4080dea6",
   "metadata": {},
   "outputs": [
    {
     "data": {
      "text/plain": [
       "66"
      ]
     },
     "execution_count": 234,
     "metadata": {},
     "output_type": "execute_result"
    }
   ],
   "source": [
    "county_merged['sampling_week'].nunique()"
   ]
  },
  {
   "cell_type": "code",
   "execution_count": 235,
   "id": "d6b31bf2",
   "metadata": {},
   "outputs": [
    {
     "data": {
      "text/plain": [
       "dtype('<M8[ns]')"
      ]
     },
     "execution_count": 235,
     "metadata": {},
     "output_type": "execute_result"
    }
   ],
   "source": [
    "county_merged['sampling_week'].dtype"
   ]
  },
  {
   "cell_type": "code",
   "execution_count": 236,
   "id": "9be8920c",
   "metadata": {},
   "outputs": [
    {
     "data": {
      "text/plain": [
       "(1251,)"
      ]
     },
     "execution_count": 236,
     "metadata": {},
     "output_type": "execute_result"
    }
   ],
   "source": [
    "county_merged['sampling_week'].shape"
   ]
  },
  {
   "cell_type": "code",
   "execution_count": 237,
   "id": "d07c433b",
   "metadata": {},
   "outputs": [
    {
     "data": {
      "text/plain": [
       "0"
      ]
     },
     "execution_count": 237,
     "metadata": {},
     "output_type": "execute_result"
    }
   ],
   "source": [
    "county_merged['date'].isnull().sum()"
   ]
  },
  {
   "cell_type": "code",
   "execution_count": 238,
   "id": "33618164",
   "metadata": {},
   "outputs": [
    {
     "name": "stdout",
     "output_type": "stream",
     "text": [
      "index 0\n",
      "date 0\n",
      "rolling_average_cases_per_100k_centered 0\n",
      "region 0\n",
      "state 0\n",
      "county_fips_code 0\n",
      "county_name 0\n",
      "sampling_week 0\n",
      "normalized_concentration_rolling_average 0\n",
      "population 0\n"
     ]
    }
   ],
   "source": [
    "for x in county_merged.columns:\n",
    "    print(x, county_merged[x].isnull().sum())"
   ]
  },
  {
   "cell_type": "code",
   "execution_count": 239,
   "id": "99ed809d",
   "metadata": {},
   "outputs": [],
   "source": [
    "def blank_check(df):\n",
    "    ''' A method to check my column cells from a pandas DataFrame for whitespace blanks.'''\n",
    "    return dict(zip(df.columns, [(df[x] == '').sum() for x in df.columns]))"
   ]
  },
  {
   "cell_type": "code",
   "execution_count": 240,
   "id": "1997ca63",
   "metadata": {},
   "outputs": [
    {
     "name": "stdout",
     "output_type": "stream",
     "text": [
      "index 0\n",
      "date 0\n",
      "rolling_average_cases_per_100k_centered 0\n",
      "region 0\n",
      "state 0\n",
      "county_fips_code 0\n",
      "county_name 0\n",
      "sampling_week 0\n",
      "normalized_concentration_rolling_average 0\n",
      "population 0\n"
     ]
    }
   ],
   "source": [
    "for col, blanks in blank_check(county_merged).items():\n",
    "    print(col, blanks)"
   ]
  },
  {
   "cell_type": "code",
   "execution_count": 241,
   "id": "cd13bafa",
   "metadata": {},
   "outputs": [
    {
     "data": {
      "text/html": [
       "<div>\n",
       "<style scoped>\n",
       "    .dataframe tbody tr th:only-of-type {\n",
       "        vertical-align: middle;\n",
       "    }\n",
       "\n",
       "    .dataframe tbody tr th {\n",
       "        vertical-align: top;\n",
       "    }\n",
       "\n",
       "    .dataframe thead th {\n",
       "        text-align: right;\n",
       "    }\n",
       "</style>\n",
       "<table border=\"1\" class=\"dataframe\">\n",
       "  <thead>\n",
       "    <tr style=\"text-align: right;\">\n",
       "      <th></th>\n",
       "      <th>index</th>\n",
       "      <th>date</th>\n",
       "      <th>rolling_average_cases_per_100k_centered</th>\n",
       "      <th>region</th>\n",
       "      <th>state</th>\n",
       "      <th>county_fips_code</th>\n",
       "      <th>county_name</th>\n",
       "      <th>sampling_week</th>\n",
       "      <th>normalized_concentration_rolling_average</th>\n",
       "      <th>population</th>\n",
       "    </tr>\n",
       "  </thead>\n",
       "  <tbody>\n",
       "    <tr>\n",
       "      <th>146</th>\n",
       "      <td>2164</td>\n",
       "      <td>2020-07-08</td>\n",
       "      <td>1.029032</td>\n",
       "      <td>Northeast</td>\n",
       "      <td>MA</td>\n",
       "      <td>25003</td>\n",
       "      <td>Berkshire</td>\n",
       "      <td>2020-07-08</td>\n",
       "      <td>23.265067</td>\n",
       "      <td>50000-100000</td>\n",
       "    </tr>\n",
       "    <tr>\n",
       "      <th>147</th>\n",
       "      <td>2171</td>\n",
       "      <td>2020-07-15</td>\n",
       "      <td>1.257706</td>\n",
       "      <td>Northeast</td>\n",
       "      <td>MA</td>\n",
       "      <td>25003</td>\n",
       "      <td>Berkshire</td>\n",
       "      <td>2020-07-15</td>\n",
       "      <td>15.510045</td>\n",
       "      <td>50000-100000</td>\n",
       "    </tr>\n",
       "    <tr>\n",
       "      <th>148</th>\n",
       "      <td>2192</td>\n",
       "      <td>2020-08-05</td>\n",
       "      <td>1.486380</td>\n",
       "      <td>Northeast</td>\n",
       "      <td>MA</td>\n",
       "      <td>25003</td>\n",
       "      <td>Berkshire</td>\n",
       "      <td>2020-08-05</td>\n",
       "      <td>5.836566</td>\n",
       "      <td>50000-100000</td>\n",
       "    </tr>\n",
       "    <tr>\n",
       "      <th>149</th>\n",
       "      <td>2199</td>\n",
       "      <td>2020-08-12</td>\n",
       "      <td>0.114337</td>\n",
       "      <td>Northeast</td>\n",
       "      <td>MA</td>\n",
       "      <td>25003</td>\n",
       "      <td>Berkshire</td>\n",
       "      <td>2020-08-12</td>\n",
       "      <td>0.000000</td>\n",
       "      <td>50000-100000</td>\n",
       "    </tr>\n",
       "    <tr>\n",
       "      <th>150</th>\n",
       "      <td>2213</td>\n",
       "      <td>2020-08-26</td>\n",
       "      <td>3.087097</td>\n",
       "      <td>Northeast</td>\n",
       "      <td>MA</td>\n",
       "      <td>25003</td>\n",
       "      <td>Berkshire</td>\n",
       "      <td>2020-08-26</td>\n",
       "      <td>0.000000</td>\n",
       "      <td>50000-100000</td>\n",
       "    </tr>\n",
       "    <tr>\n",
       "      <th>...</th>\n",
       "      <td>...</td>\n",
       "      <td>...</td>\n",
       "      <td>...</td>\n",
       "      <td>...</td>\n",
       "      <td>...</td>\n",
       "      <td>...</td>\n",
       "      <td>...</td>\n",
       "      <td>...</td>\n",
       "      <td>...</td>\n",
       "      <td>...</td>\n",
       "    </tr>\n",
       "    <tr>\n",
       "      <th>702</th>\n",
       "      <td>8465</td>\n",
       "      <td>2021-05-05</td>\n",
       "      <td>11.763976</td>\n",
       "      <td>Northeast</td>\n",
       "      <td>MA</td>\n",
       "      <td>25025</td>\n",
       "      <td>Suffolk</td>\n",
       "      <td>2021-05-05</td>\n",
       "      <td>102.059487</td>\n",
       "      <td>2000000-5000000</td>\n",
       "    </tr>\n",
       "    <tr>\n",
       "      <th>703</th>\n",
       "      <td>8472</td>\n",
       "      <td>2021-05-12</td>\n",
       "      <td>6.841587</td>\n",
       "      <td>Northeast</td>\n",
       "      <td>MA</td>\n",
       "      <td>25025</td>\n",
       "      <td>Suffolk</td>\n",
       "      <td>2021-05-12</td>\n",
       "      <td>69.625957</td>\n",
       "      <td>2000000-5000000</td>\n",
       "    </tr>\n",
       "    <tr>\n",
       "      <th>704</th>\n",
       "      <td>8479</td>\n",
       "      <td>2021-05-19</td>\n",
       "      <td>8.245446</td>\n",
       "      <td>Northeast</td>\n",
       "      <td>MA</td>\n",
       "      <td>25025</td>\n",
       "      <td>Suffolk</td>\n",
       "      <td>2021-05-19</td>\n",
       "      <td>50.628972</td>\n",
       "      <td>2000000-5000000</td>\n",
       "    </tr>\n",
       "    <tr>\n",
       "      <th>705</th>\n",
       "      <td>8486</td>\n",
       "      <td>2021-05-26</td>\n",
       "      <td>4.193804</td>\n",
       "      <td>Northeast</td>\n",
       "      <td>MA</td>\n",
       "      <td>25025</td>\n",
       "      <td>Suffolk</td>\n",
       "      <td>2021-05-26</td>\n",
       "      <td>38.508182</td>\n",
       "      <td>2000000-5000000</td>\n",
       "    </tr>\n",
       "    <tr>\n",
       "      <th>706</th>\n",
       "      <td>8493</td>\n",
       "      <td>2021-06-02</td>\n",
       "      <td>2.327917</td>\n",
       "      <td>Northeast</td>\n",
       "      <td>MA</td>\n",
       "      <td>25025</td>\n",
       "      <td>Suffolk</td>\n",
       "      <td>2021-06-02</td>\n",
       "      <td>28.980287</td>\n",
       "      <td>2000000-5000000</td>\n",
       "    </tr>\n",
       "  </tbody>\n",
       "</table>\n",
       "<p>253 rows × 10 columns</p>\n",
       "</div>"
      ],
      "text/plain": [
       "     index       date  rolling_average_cases_per_100k_centered     region  \\\n",
       "146   2164 2020-07-08                                 1.029032  Northeast   \n",
       "147   2171 2020-07-15                                 1.257706  Northeast   \n",
       "148   2192 2020-08-05                                 1.486380  Northeast   \n",
       "149   2199 2020-08-12                                 0.114337  Northeast   \n",
       "150   2213 2020-08-26                                 3.087097  Northeast   \n",
       "..     ...        ...                                      ...        ...   \n",
       "702   8465 2021-05-05                                11.763976  Northeast   \n",
       "703   8472 2021-05-12                                 6.841587  Northeast   \n",
       "704   8479 2021-05-19                                 8.245446  Northeast   \n",
       "705   8486 2021-05-26                                 4.193804  Northeast   \n",
       "706   8493 2021-06-02                                 2.327917  Northeast   \n",
       "\n",
       "    state  county_fips_code county_name sampling_week  \\\n",
       "146    MA             25003   Berkshire    2020-07-08   \n",
       "147    MA             25003   Berkshire    2020-07-15   \n",
       "148    MA             25003   Berkshire    2020-08-05   \n",
       "149    MA             25003   Berkshire    2020-08-12   \n",
       "150    MA             25003   Berkshire    2020-08-26   \n",
       "..    ...               ...         ...           ...   \n",
       "702    MA             25025     Suffolk    2021-05-05   \n",
       "703    MA             25025     Suffolk    2021-05-12   \n",
       "704    MA             25025     Suffolk    2021-05-19   \n",
       "705    MA             25025     Suffolk    2021-05-26   \n",
       "706    MA             25025     Suffolk    2021-06-02   \n",
       "\n",
       "     normalized_concentration_rolling_average       population  \n",
       "146                                 23.265067     50000-100000  \n",
       "147                                 15.510045     50000-100000  \n",
       "148                                  5.836566     50000-100000  \n",
       "149                                  0.000000     50000-100000  \n",
       "150                                  0.000000     50000-100000  \n",
       "..                                        ...              ...  \n",
       "702                                102.059487  2000000-5000000  \n",
       "703                                 69.625957  2000000-5000000  \n",
       "704                                 50.628972  2000000-5000000  \n",
       "705                                 38.508182  2000000-5000000  \n",
       "706                                 28.980287  2000000-5000000  \n",
       "\n",
       "[253 rows x 10 columns]"
      ]
     },
     "execution_count": 241,
     "metadata": {},
     "output_type": "execute_result"
    }
   ],
   "source": [
    "county_merged[county_merged['state']=='MA']"
   ]
  },
  {
   "cell_type": "code",
   "execution_count": 249,
   "id": "1f6cbb15",
   "metadata": {},
   "outputs": [
    {
     "data": {
      "text/plain": [
       "(253, 8)"
      ]
     },
     "execution_count": 249,
     "metadata": {},
     "output_type": "execute_result"
    }
   ],
   "source": [
    "Mass_df = pd.DataFrame(county_merged[county_merged['state']=='MA'])\n",
    "Mass_df.shape"
   ]
  },
  {
   "cell_type": "code",
   "execution_count": 284,
   "id": "b8eacc3b",
   "metadata": {},
   "outputs": [
    {
     "data": {
      "text/plain": [
       "<AxesSubplot:xlabel='date', ylabel='normalized_concentration_rolling_average'>"
      ]
     },
     "execution_count": 284,
     "metadata": {},
     "output_type": "execute_result"
    },
    {
     "data": {
      "image/png": "[encoded data removed]",
      "text/plain": [
       "<Figure size 432x288 with 1 Axes>"
      ]
     },
     "metadata": {
      "needs_background": "light"
     },
     "output_type": "display_data"
    },
    {
     "data": {
      "text/plain": [
       "<Figure size 1512x648 with 0 Axes>"
      ]
     },
     "metadata": {},
     "output_type": "display_data"
    }
   ],
   "source": [
    "fig, axs = plt.subplots()\n",
    "plt.figure(figsize=(21,9))\n",
    "sns.lineplot(x='date', y='normalized_concentration_rolling_average', \n",
    "            data=Mass_df, hue=Mass_df.county_name, ax=axs)"
   ]
  },
  {
   "cell_type": "code",
   "execution_count": 251,
   "id": "0d43a2cf",
   "metadata": {},
   "outputs": [
    {
     "data": {
      "text/plain": [
       "6"
      ]
     },
     "execution_count": 251,
     "metadata": {},
     "output_type": "execute_result"
    }
   ],
   "source": [
    "Mass_df.county_name.nunique()"
   ]
  },
  {
   "cell_type": "code",
   "execution_count": 260,
   "id": "5e325319",
   "metadata": {},
   "outputs": [
    {
     "ename": "TypeError",
     "evalue": "no numeric data to plot",
     "output_type": "error",
     "traceback": [
      "\u001b[1;31m---------------------------------------------------------------------------\u001b[0m",
      "\u001b[1;31mTypeError\u001b[0m                                 Traceback (most recent call last)",
      "\u001b[1;32m<ipython-input-260-cf8aeca222d8>\u001b[0m in \u001b[0;36m<module>\u001b[1;34m\u001b[0m\n\u001b[0;32m      1\u001b[0m \u001b[0mfig\u001b[0m\u001b[1;33m,\u001b[0m \u001b[0max\u001b[0m \u001b[1;33m=\u001b[0m \u001b[0mplt\u001b[0m\u001b[1;33m.\u001b[0m\u001b[0msubplots\u001b[0m\u001b[1;33m(\u001b[0m\u001b[1;33m)\u001b[0m\u001b[1;33m\u001b[0m\u001b[1;33m\u001b[0m\u001b[0m\n\u001b[1;32m----> 2\u001b[1;33m \u001b[0mMass_df\u001b[0m\u001b[1;33m.\u001b[0m\u001b[0mcounty_name\u001b[0m\u001b[1;33m.\u001b[0m\u001b[0mplot\u001b[0m\u001b[1;33m(\u001b[0m\u001b[1;33m)\u001b[0m\u001b[1;33m\u001b[0m\u001b[1;33m\u001b[0m\u001b[0m\n\u001b[0m",
      "\u001b[1;32m~\\anaconda3\\lib\\site-packages\\pandas\\plotting\\_core.py\u001b[0m in \u001b[0;36m__call__\u001b[1;34m(self, *args, **kwargs)\u001b[0m\n\u001b[0;32m    953\u001b[0m                     \u001b[0mdata\u001b[0m\u001b[1;33m.\u001b[0m\u001b[0mcolumns\u001b[0m \u001b[1;33m=\u001b[0m \u001b[0mlabel_name\u001b[0m\u001b[1;33m\u001b[0m\u001b[1;33m\u001b[0m\u001b[0m\n\u001b[0;32m    954\u001b[0m \u001b[1;33m\u001b[0m\u001b[0m\n\u001b[1;32m--> 955\u001b[1;33m         \u001b[1;32mreturn\u001b[0m \u001b[0mplot_backend\u001b[0m\u001b[1;33m.\u001b[0m\u001b[0mplot\u001b[0m\u001b[1;33m(\u001b[0m\u001b[0mdata\u001b[0m\u001b[1;33m,\u001b[0m \u001b[0mkind\u001b[0m\u001b[1;33m=\u001b[0m\u001b[0mkind\u001b[0m\u001b[1;33m,\u001b[0m \u001b[1;33m**\u001b[0m\u001b[0mkwargs\u001b[0m\u001b[1;33m)\u001b[0m\u001b[1;33m\u001b[0m\u001b[1;33m\u001b[0m\u001b[0m\n\u001b[0m\u001b[0;32m    956\u001b[0m \u001b[1;33m\u001b[0m\u001b[0m\n\u001b[0;32m    957\u001b[0m     \u001b[0m__call__\u001b[0m\u001b[1;33m.\u001b[0m\u001b[0m__doc__\u001b[0m \u001b[1;33m=\u001b[0m \u001b[0m__doc__\u001b[0m\u001b[1;33m\u001b[0m\u001b[1;33m\u001b[0m\u001b[0m\n",
      "\u001b[1;32m~\\anaconda3\\lib\\site-packages\\pandas\\plotting\\_matplotlib\\__init__.py\u001b[0m in \u001b[0;36mplot\u001b[1;34m(data, kind, **kwargs)\u001b[0m\n\u001b[0;32m     59\u001b[0m             \u001b[0mkwargs\u001b[0m\u001b[1;33m[\u001b[0m\u001b[1;34m\"ax\"\u001b[0m\u001b[1;33m]\u001b[0m \u001b[1;33m=\u001b[0m \u001b[0mgetattr\u001b[0m\u001b[1;33m(\u001b[0m\u001b[0max\u001b[0m\u001b[1;33m,\u001b[0m \u001b[1;34m\"left_ax\"\u001b[0m\u001b[1;33m,\u001b[0m \u001b[0max\u001b[0m\u001b[1;33m)\u001b[0m\u001b[1;33m\u001b[0m\u001b[1;33m\u001b[0m\u001b[0m\n\u001b[0;32m     60\u001b[0m     \u001b[0mplot_obj\u001b[0m \u001b[1;33m=\u001b[0m \u001b[0mPLOT_CLASSES\u001b[0m\u001b[1;33m[\u001b[0m\u001b[0mkind\u001b[0m\u001b[1;33m]\u001b[0m\u001b[1;33m(\u001b[0m\u001b[0mdata\u001b[0m\u001b[1;33m,\u001b[0m \u001b[1;33m**\u001b[0m\u001b[0mkwargs\u001b[0m\u001b[1;33m)\u001b[0m\u001b[1;33m\u001b[0m\u001b[1;33m\u001b[0m\u001b[0m\n\u001b[1;32m---> 61\u001b[1;33m     \u001b[0mplot_obj\u001b[0m\u001b[1;33m.\u001b[0m\u001b[0mgenerate\u001b[0m\u001b[1;33m(\u001b[0m\u001b[1;33m)\u001b[0m\u001b[1;33m\u001b[0m\u001b[1;33m\u001b[0m\u001b[0m\n\u001b[0m\u001b[0;32m     62\u001b[0m     \u001b[0mplot_obj\u001b[0m\u001b[1;33m.\u001b[0m\u001b[0mdraw\u001b[0m\u001b[1;33m(\u001b[0m\u001b[1;33m)\u001b[0m\u001b[1;33m\u001b[0m\u001b[1;33m\u001b[0m\u001b[0m\n\u001b[0;32m     63\u001b[0m     \u001b[1;32mreturn\u001b[0m \u001b[0mplot_obj\u001b[0m\u001b[1;33m.\u001b[0m\u001b[0mresult\u001b[0m\u001b[1;33m\u001b[0m\u001b[1;33m\u001b[0m\u001b[0m\n",
      "\u001b[1;32m~\\anaconda3\\lib\\site-packages\\pandas\\plotting\\_matplotlib\\core.py\u001b[0m in \u001b[0;36mgenerate\u001b[1;34m(self)\u001b[0m\n\u001b[0;32m    276\u001b[0m     \u001b[1;32mdef\u001b[0m \u001b[0mgenerate\u001b[0m\u001b[1;33m(\u001b[0m\u001b[0mself\u001b[0m\u001b[1;33m)\u001b[0m\u001b[1;33m:\u001b[0m\u001b[1;33m\u001b[0m\u001b[1;33m\u001b[0m\u001b[0m\n\u001b[0;32m    277\u001b[0m         \u001b[0mself\u001b[0m\u001b[1;33m.\u001b[0m\u001b[0m_args_adjust\u001b[0m\u001b[1;33m(\u001b[0m\u001b[1;33m)\u001b[0m\u001b[1;33m\u001b[0m\u001b[1;33m\u001b[0m\u001b[0m\n\u001b[1;32m--> 278\u001b[1;33m         \u001b[0mself\u001b[0m\u001b[1;33m.\u001b[0m\u001b[0m_compute_plot_data\u001b[0m\u001b[1;33m(\u001b[0m\u001b[1;33m)\u001b[0m\u001b[1;33m\u001b[0m\u001b[1;33m\u001b[0m\u001b[0m\n\u001b[0m\u001b[0;32m    279\u001b[0m         \u001b[0mself\u001b[0m\u001b[1;33m.\u001b[0m\u001b[0m_setup_subplots\u001b[0m\u001b[1;33m(\u001b[0m\u001b[1;33m)\u001b[0m\u001b[1;33m\u001b[0m\u001b[1;33m\u001b[0m\u001b[0m\n\u001b[0;32m    280\u001b[0m         \u001b[0mself\u001b[0m\u001b[1;33m.\u001b[0m\u001b[0m_make_plot\u001b[0m\u001b[1;33m(\u001b[0m\u001b[1;33m)\u001b[0m\u001b[1;33m\u001b[0m\u001b[1;33m\u001b[0m\u001b[0m\n",
      "\u001b[1;32m~\\anaconda3\\lib\\site-packages\\pandas\\plotting\\_matplotlib\\core.py\u001b[0m in \u001b[0;36m_compute_plot_data\u001b[1;34m(self)\u001b[0m\n\u001b[0;32m    439\u001b[0m         \u001b[1;31m# no non-numeric frames or series allowed\u001b[0m\u001b[1;33m\u001b[0m\u001b[1;33m\u001b[0m\u001b[1;33m\u001b[0m\u001b[0m\n\u001b[0;32m    440\u001b[0m         \u001b[1;32mif\u001b[0m \u001b[0mis_empty\u001b[0m\u001b[1;33m:\u001b[0m\u001b[1;33m\u001b[0m\u001b[1;33m\u001b[0m\u001b[0m\n\u001b[1;32m--> 441\u001b[1;33m             \u001b[1;32mraise\u001b[0m \u001b[0mTypeError\u001b[0m\u001b[1;33m(\u001b[0m\u001b[1;34m\"no numeric data to plot\"\u001b[0m\u001b[1;33m)\u001b[0m\u001b[1;33m\u001b[0m\u001b[1;33m\u001b[0m\u001b[0m\n\u001b[0m\u001b[0;32m    442\u001b[0m \u001b[1;33m\u001b[0m\u001b[0m\n\u001b[0;32m    443\u001b[0m         \u001b[0mself\u001b[0m\u001b[1;33m.\u001b[0m\u001b[0mdata\u001b[0m \u001b[1;33m=\u001b[0m \u001b[0mnumeric_data\u001b[0m\u001b[1;33m.\u001b[0m\u001b[0mapply\u001b[0m\u001b[1;33m(\u001b[0m\u001b[0mself\u001b[0m\u001b[1;33m.\u001b[0m\u001b[0m_convert_to_ndarray\u001b[0m\u001b[1;33m)\u001b[0m\u001b[1;33m\u001b[0m\u001b[1;33m\u001b[0m\u001b[0m\n",
      "\u001b[1;31mTypeError\u001b[0m: no numeric data to plot"
     ]
    },
    {
     "data": {
      "image/png": "[encoded data removed]",
      "text/plain": [
       "<Figure size 432x288 with 1 Axes>"
      ]
     },
     "metadata": {
      "needs_background": "light"
     },
     "output_type": "display_data"
    }
   ],
   "source": [
    "fig, ax = plt.subplots()\n",
    "Mass_df.county_name.plot(y='normalized_concentration_rolling_average')"
   ]
  },
  {
   "cell_type": "code",
   "execution_count": 242,
   "id": "cdfa1114",
   "metadata": {},
   "outputs": [
    {
     "data": {
      "text/plain": [
       "(1251, 10)"
      ]
     },
     "execution_count": 242,
     "metadata": {},
     "output_type": "execute_result"
    }
   ],
   "source": [
    "county_merged.shape"
   ]
  },
  {
   "cell_type": "code",
   "execution_count": 244,
   "id": "66f96e8e",
   "metadata": {},
   "outputs": [],
   "source": [
    "county_merged.set_index('sampling_week', drop=True, inplace=True)"
   ]
  },
  {
   "cell_type": "code",
   "execution_count": 245,
   "id": "0b1e56cd",
   "metadata": {},
   "outputs": [
    {
     "data": {
      "text/plain": [
       "(1251, 9)"
      ]
     },
     "execution_count": 245,
     "metadata": {},
     "output_type": "execute_result"
    }
   ],
   "source": [
    "county_merged.shape"
   ]
  },
  {
   "cell_type": "code",
   "execution_count": 246,
   "id": "a9f57fbc",
   "metadata": {},
   "outputs": [],
   "source": [
    "county_merged.drop(columns='index', inplace=True)"
   ]
  },
  {
   "cell_type": "code",
   "execution_count": 247,
   "id": "40c5d63b",
   "metadata": {},
   "outputs": [
    {
     "data": {
      "text/plain": [
       "(1251, 8)"
      ]
     },
     "execution_count": 247,
     "metadata": {},
     "output_type": "execute_result"
    }
   ],
   "source": [
    "county_merged.shape"
   ]
  },
  {
   "cell_type": "code",
   "execution_count": 248,
   "id": "456e78d5",
   "metadata": {},
   "outputs": [
    {
     "data": {
      "text/plain": [
       "<AxesSubplot:xlabel='date'>"
      ]
     },
     "execution_count": 248,
     "metadata": {},
     "output_type": "execute_result"
    },
    {
     "data": {
      "image/png": "[encoded data removed]",
      "text/plain": [
       "<Figure size 432x288 with 1 Axes>"
      ]
     },
     "metadata": {
      "needs_background": "light"
     },
     "output_type": "display_data"
    }
   ],
   "source": [
    "county_merged.plot(x='date', y='normalized_concentration_rolling_average')"
   ]
  },
  {
   "cell_type": "code",
   "execution_count": null,
   "id": "be7c95e9",
   "metadata": {},
   "outputs": [],
   "source": [
    "county_merged['date'].nunique()"
   ]
  },
  {
   "cell_type": "code",
   "execution_count": 19,
   "id": "2d94008f",
   "metadata": {},
   "outputs": [],
   "source": [
    "test_df = county_merged.set_index('date', drop=True)"
   ]
  },
  {
   "cell_type": "code",
   "execution_count": 25,
   "id": "828bdfd5",
   "metadata": {},
   "outputs": [],
   "source": [
    "test_df.drop(columns='index', inplace=True)"
   ]
  },
  {
   "cell_type": "code",
   "execution_count": 26,
   "id": "71f7b01f",
   "metadata": {},
   "outputs": [
    {
     "name": "stdout",
     "output_type": "stream",
     "text": [
      "<class 'pandas.core.frame.DataFrame'>\n",
      "DatetimeIndex: 37530 entries, 2020-03-04 to 2021-06-02\n",
      "Data columns (total 12 columns):\n",
      " #   Column                                    Non-Null Count  Dtype         \n",
      "---  ------                                    --------------  -----         \n",
      " 0   rolling_average_cases_per_100k_centered   37530 non-null  float64       \n",
      " 1   region_x                                  37530 non-null  object        \n",
      " 2   state_x                                   37530 non-null  object        \n",
      " 3   county_fips_code_x                        37530 non-null  int64         \n",
      " 4   county_name_x                             37530 non-null  object        \n",
      " 5   sampling_week                             37530 non-null  datetime64[ns]\n",
      " 6   normalized_concentration_rolling_average  37530 non-null  float64       \n",
      " 7   population                                37530 non-null  object        \n",
      " 8   region_y                                  37530 non-null  object        \n",
      " 9   state_y                                   37530 non-null  object        \n",
      " 10  county_fips_code_y                        37530 non-null  int64         \n",
      " 11  county_name_y                             37530 non-null  object        \n",
      "dtypes: datetime64[ns](1), float64(2), int64(2), object(7)\n",
      "memory usage: 4.7+ MB\n"
     ]
    }
   ],
   "source": [
    "test_df.info()"
   ]
  },
  {
   "cell_type": "code",
   "execution_count": null,
   "id": "e15cb292",
   "metadata": {},
   "outputs": [],
   "source": [
    "test_df[['state_x','state_y']].shape"
   ]
  },
  {
   "cell_type": "code",
   "execution_count": 28,
   "id": "5d1b8d0b",
   "metadata": {},
   "outputs": [],
   "source": [
    "state_filter = test_df.loc[~(test_df['state_x'] == test_df['state_y'])]"
   ]
  },
  {
   "cell_type": "code",
   "execution_count": 33,
   "id": "4b3feefe",
   "metadata": {},
   "outputs": [
    {
     "data": {
      "text/html": [
       "<div>\n",
       "<style scoped>\n",
       "    .dataframe tbody tr th:only-of-type {\n",
       "        vertical-align: middle;\n",
       "    }\n",
       "\n",
       "    .dataframe tbody tr th {\n",
       "        vertical-align: top;\n",
       "    }\n",
       "\n",
       "    .dataframe thead th {\n",
       "        text-align: right;\n",
       "    }\n",
       "</style>\n",
       "<table border=\"1\" class=\"dataframe\">\n",
       "  <thead>\n",
       "    <tr style=\"text-align: right;\">\n",
       "      <th></th>\n",
       "      <th>state_x</th>\n",
       "      <th>state_y</th>\n",
       "    </tr>\n",
       "    <tr>\n",
       "      <th>date</th>\n",
       "      <th></th>\n",
       "      <th></th>\n",
       "    </tr>\n",
       "  </thead>\n",
       "  <tbody>\n",
       "    <tr>\n",
       "      <th>2020-03-04</th>\n",
       "      <td>IN</td>\n",
       "      <td>MA</td>\n",
       "    </tr>\n",
       "    <tr>\n",
       "      <th>2020-03-04</th>\n",
       "      <td>IL</td>\n",
       "      <td>MA</td>\n",
       "    </tr>\n",
       "    <tr>\n",
       "      <th>2020-03-04</th>\n",
       "      <td>MN</td>\n",
       "      <td>MA</td>\n",
       "    </tr>\n",
       "    <tr>\n",
       "      <th>2020-03-04</th>\n",
       "      <td>IN</td>\n",
       "      <td>MA</td>\n",
       "    </tr>\n",
       "    <tr>\n",
       "      <th>2020-03-04</th>\n",
       "      <td>PA</td>\n",
       "      <td>MA</td>\n",
       "    </tr>\n",
       "    <tr>\n",
       "      <th>...</th>\n",
       "      <td>...</td>\n",
       "      <td>...</td>\n",
       "    </tr>\n",
       "    <tr>\n",
       "      <th>2021-06-02</th>\n",
       "      <td>CA</td>\n",
       "      <td>FL</td>\n",
       "    </tr>\n",
       "    <tr>\n",
       "      <th>2021-06-02</th>\n",
       "      <td>CA</td>\n",
       "      <td>TN</td>\n",
       "    </tr>\n",
       "    <tr>\n",
       "      <th>2021-06-02</th>\n",
       "      <td>CA</td>\n",
       "      <td>VA</td>\n",
       "    </tr>\n",
       "    <tr>\n",
       "      <th>2021-06-02</th>\n",
       "      <td>CA</td>\n",
       "      <td>CO</td>\n",
       "    </tr>\n",
       "    <tr>\n",
       "      <th>2021-06-02</th>\n",
       "      <td>CA</td>\n",
       "      <td>NV</td>\n",
       "    </tr>\n",
       "  </tbody>\n",
       "</table>\n",
       "<p>34000 rows × 2 columns</p>\n",
       "</div>"
      ],
      "text/plain": [
       "           state_x state_y\n",
       "date                      \n",
       "2020-03-04      IN      MA\n",
       "2020-03-04      IL      MA\n",
       "2020-03-04      MN      MA\n",
       "2020-03-04      IN      MA\n",
       "2020-03-04      PA      MA\n",
       "...            ...     ...\n",
       "2021-06-02      CA      FL\n",
       "2021-06-02      CA      TN\n",
       "2021-06-02      CA      VA\n",
       "2021-06-02      CA      CO\n",
       "2021-06-02      CA      NV\n",
       "\n",
       "[34000 rows x 2 columns]"
      ]
     },
     "execution_count": 33,
     "metadata": {},
     "output_type": "execute_result"
    }
   ],
   "source": [
    "state_filter[['state_x', 'state_y']]"
   ]
  },
  {
   "cell_type": "code",
   "execution_count": 64,
   "id": "62ea2bc0",
   "metadata": {},
   "outputs": [],
   "source": [
    "county_merged_by_fips = cases_county.reset_index().merge(wastewater_county, \n",
    "                                                         on='county_fips_code',\n",
    "                                                         how='left').fillna(np.nan)"
   ]
  },
  {
   "cell_type": "code",
   "execution_count": 66,
   "id": "66120155",
   "metadata": {},
   "outputs": [
    {
     "name": "stdout",
     "output_type": "stream",
     "text": [
      "<class 'pandas.core.frame.DataFrame'>\n",
      "Int64Index: 633500 entries, 0 to 633499\n",
      "Data columns (total 14 columns):\n",
      " #   Column                                    Non-Null Count   Dtype         \n",
      "---  ------                                    --------------   -----         \n",
      " 0   index                                     633500 non-null  int64         \n",
      " 1   date_x                                    633500 non-null  datetime64[ns]\n",
      " 2   rolling_average_cases_per_100k_centered   633500 non-null  float64       \n",
      " 3   region_x                                  633500 non-null  object        \n",
      " 4   state_x                                   633500 non-null  object        \n",
      " 5   county_fips_code                          633500 non-null  int64         \n",
      " 6   county_name_x                             633500 non-null  object        \n",
      " 7   sampling_week                             633500 non-null  datetime64[ns]\n",
      " 8   normalized_concentration_rolling_average  633500 non-null  float64       \n",
      " 9   population                                633500 non-null  object        \n",
      " 10  region_y                                  633500 non-null  object        \n",
      " 11  state_y                                   633500 non-null  object        \n",
      " 12  county_name_y                             633500 non-null  object        \n",
      " 13  date_y                                    633500 non-null  datetime64[ns]\n",
      "dtypes: datetime64[ns](3), float64(2), int64(2), object(7)\n",
      "memory usage: 72.5+ MB\n"
     ]
    }
   ],
   "source": [
    "county_merged_by_fips.info()"
   ]
  },
  {
   "cell_type": "code",
   "execution_count": 67,
   "id": "d2af9bff",
   "metadata": {},
   "outputs": [
    {
     "data": {
      "text/plain": [
       "19005000"
      ]
     },
     "execution_count": 67,
     "metadata": {},
     "output_type": "execute_result"
    }
   ],
   "source": [
    "15000*1267"
   ]
  },
  {
   "cell_type": "code",
   "execution_count": 68,
   "id": "a45cb378",
   "metadata": {},
   "outputs": [
    {
     "data": {
      "text/html": [
       "<div>\n",
       "<style scoped>\n",
       "    .dataframe tbody tr th:only-of-type {\n",
       "        vertical-align: middle;\n",
       "    }\n",
       "\n",
       "    .dataframe tbody tr th {\n",
       "        vertical-align: top;\n",
       "    }\n",
       "\n",
       "    .dataframe thead th {\n",
       "        text-align: right;\n",
       "    }\n",
       "</style>\n",
       "<table border=\"1\" class=\"dataframe\">\n",
       "  <thead>\n",
       "    <tr style=\"text-align: right;\">\n",
       "      <th></th>\n",
       "      <th>index</th>\n",
       "      <th>date_x</th>\n",
       "      <th>rolling_average_cases_per_100k_centered</th>\n",
       "      <th>region_x</th>\n",
       "      <th>state_x</th>\n",
       "      <th>county_fips_code</th>\n",
       "      <th>county_name_x</th>\n",
       "      <th>sampling_week</th>\n",
       "      <th>normalized_concentration_rolling_average</th>\n",
       "      <th>population</th>\n",
       "      <th>region_y</th>\n",
       "      <th>state_y</th>\n",
       "      <th>county_name_y</th>\n",
       "      <th>date_y</th>\n",
       "    </tr>\n",
       "  </thead>\n",
       "  <tbody>\n",
       "    <tr>\n",
       "      <th>0</th>\n",
       "      <td>0</td>\n",
       "      <td>2020-01-26</td>\n",
       "      <td>0.0</td>\n",
       "      <td>Midwest</td>\n",
       "      <td>IN</td>\n",
       "      <td>18089</td>\n",
       "      <td>Lake</td>\n",
       "      <td>2020-05-13</td>\n",
       "      <td>124.219023</td>\n",
       "      <td>200000-500000</td>\n",
       "      <td>Midwest</td>\n",
       "      <td>IN</td>\n",
       "      <td>Lake</td>\n",
       "      <td>2020-05-13</td>\n",
       "    </tr>\n",
       "  </tbody>\n",
       "</table>\n",
       "</div>"
      ],
      "text/plain": [
       "   index     date_x  rolling_average_cases_per_100k_centered region_x state_x  \\\n",
       "0      0 2020-01-26                                      0.0  Midwest      IN   \n",
       "\n",
       "   county_fips_code county_name_x sampling_week  \\\n",
       "0             18089          Lake    2020-05-13   \n",
       "\n",
       "   normalized_concentration_rolling_average     population region_y state_y  \\\n",
       "0                                124.219023  200000-500000  Midwest      IN   \n",
       "\n",
       "  county_name_y     date_y  \n",
       "0          Lake 2020-05-13  "
      ]
     },
     "execution_count": 68,
     "metadata": {},
     "output_type": "execute_result"
    }
   ],
   "source": [
    "county_merged_by_fips.head(1)"
   ]
  },
  {
   "cell_type": "code",
   "execution_count": 69,
   "id": "3e783e8b",
   "metadata": {},
   "outputs": [],
   "source": [
    "state_filter_by_fips = county_merged_by_fips.loc[\n",
    "    ~(county_merged_by_fips['state_x'] == county_merged_by_fips['state_y'])]"
   ]
  },
  {
   "cell_type": "code",
   "execution_count": 71,
   "id": "f1cbef53",
   "metadata": {},
   "outputs": [
    {
     "data": {
      "text/plain": [
       "(0, 14)"
      ]
     },
     "execution_count": 71,
     "metadata": {},
     "output_type": "execute_result"
    }
   ],
   "source": [
    "state_filter_by_fips.shape"
   ]
  },
  {
   "cell_type": "code",
   "execution_count": 74,
   "id": "ed6214da",
   "metadata": {},
   "outputs": [
    {
     "data": {
      "text/plain": [
       "state_y\n",
       "MA    128500\n",
       "PA     92000\n",
       "CA     70500\n",
       "IN     40500\n",
       "TN     32500\n",
       "FL     29500\n",
       "NV     29000\n",
       "KY     27500\n",
       "CT     27000\n",
       "OR     24500\n",
       "VA     24500\n",
       "CO     24000\n",
       "NY     19000\n",
       "DE     18000\n",
       "IL     17500\n",
       "MN     15000\n",
       "NJ     14000\n",
       "dtype: int64"
      ]
     },
     "execution_count": 74,
     "metadata": {},
     "output_type": "execute_result"
    }
   ],
   "source": [
    "county_merged_by_fips.value_counts('state_y')"
   ]
  },
  {
   "cell_type": "code",
   "execution_count": 91,
   "id": "893a7e6a",
   "metadata": {},
   "outputs": [],
   "source": [
    "Mass_cases = pd.DataFrame(cases_county.loc[(cases_county.state == 'MA')])"
   ]
  },
  {
   "cell_type": "code",
   "execution_count": 92,
   "id": "6267b55f",
   "metadata": {},
   "outputs": [],
   "source": [
    "Mass_wastewater = pd.DataFrame(wastewater_county.loc[(wastewater_county.state == 'MA')])"
   ]
  },
  {
   "cell_type": "code",
   "execution_count": 93,
   "id": "81be7ded",
   "metadata": {},
   "outputs": [
    {
     "data": {
      "text/plain": [
       "(3000, 6)"
      ]
     },
     "execution_count": 93,
     "metadata": {},
     "output_type": "execute_result"
    }
   ],
   "source": [
    "Mass_cases.shape"
   ]
  },
  {
   "cell_type": "code",
   "execution_count": 94,
   "id": "cb1b1c55",
   "metadata": {},
   "outputs": [
    {
     "data": {
      "text/plain": [
       "(257, 8)"
      ]
     },
     "execution_count": 94,
     "metadata": {},
     "output_type": "execute_result"
    }
   ],
   "source": [
    "Mass_wastewater.shape"
   ]
  },
  {
   "cell_type": "code",
   "execution_count": 95,
   "id": "a1b576fb",
   "metadata": {},
   "outputs": [],
   "source": [
    "Mass_wastewater['date'] = Mass_wastewater['sampling_week']"
   ]
  },
  {
   "cell_type": "code",
   "execution_count": 96,
   "id": "1327e715",
   "metadata": {},
   "outputs": [],
   "source": [
    "Mass_wastewater.drop(columns='sampling_week', inplace=True)"
   ]
  },
  {
   "cell_type": "code",
   "execution_count": 98,
   "id": "a55ce2b4",
   "metadata": {},
   "outputs": [
    {
     "data": {
      "text/plain": [
       "Index(['date', 'rolling_average_cases_per_100k_centered', 'region', 'state',\n",
       "       'county_fips_code', 'county_name'],\n",
       "      dtype='object')"
      ]
     },
     "execution_count": 98,
     "metadata": {},
     "output_type": "execute_result"
    }
   ],
   "source": [
    "Mass_cases.columns"
   ]
  },
  {
   "cell_type": "code",
   "execution_count": 99,
   "id": "5984b07e",
   "metadata": {},
   "outputs": [
    {
     "data": {
      "text/plain": [
       "Index(['normalized_concentration_rolling_average', 'population', 'region',\n",
       "       'state', 'county_fips_code', 'county_name', 'date'],\n",
       "      dtype='object')"
      ]
     },
     "execution_count": 99,
     "metadata": {},
     "output_type": "execute_result"
    }
   ],
   "source": [
    "Mass_wastewater.columns"
   ]
  },
  {
   "cell_type": "code",
   "execution_count": 206,
   "id": "12fa826e",
   "metadata": {},
   "outputs": [],
   "source": [
    "Mass_merged_df = Mass_cases.reset_index().merge(Mass_wastewater, how='cross')"
   ]
  },
  {
   "cell_type": "code",
   "execution_count": 207,
   "id": "d9f83418",
   "metadata": {},
   "outputs": [
    {
     "data": {
      "text/plain": [
       "(771000, 14)"
      ]
     },
     "execution_count": 207,
     "metadata": {},
     "output_type": "execute_result"
    }
   ],
   "source": [
    "Mass_merged_df.shape"
   ]
  },
  {
   "cell_type": "code",
   "execution_count": 208,
   "id": "5faa38da",
   "metadata": {},
   "outputs": [
    {
     "data": {
      "text/plain": [
       "Index(['index', 'date_x', 'rolling_average_cases_per_100k_centered',\n",
       "       'region_x', 'state_x', 'county_fips_code_x', 'county_name_x',\n",
       "       'normalized_concentration_rolling_average', 'population', 'region_y',\n",
       "       'state_y', 'county_fips_code_y', 'county_name_y', 'date_y'],\n",
       "      dtype='object')"
      ]
     },
     "execution_count": 208,
     "metadata": {},
     "output_type": "execute_result"
    }
   ],
   "source": [
    "Mass_merged_df.columns"
   ]
  },
  {
   "cell_type": "code",
   "execution_count": 200,
   "id": "f66f7a52",
   "metadata": {},
   "outputs": [
    {
     "data": {
      "text/plain": [
       "index                                          0\n",
       "date                                           0\n",
       "rolling_average_cases_per_100k_centered        0\n",
       "region                                         0\n",
       "state                                          0\n",
       "county_fips_code                               0\n",
       "county_name                                    0\n",
       "normalized_concentration_rolling_average    2747\n",
       "population                                  2747\n",
       "dtype: int64"
      ]
     },
     "execution_count": 200,
     "metadata": {},
     "output_type": "execute_result"
    }
   ],
   "source": [
    "Mass_merged_df.isnull().sum()"
   ]
  },
  {
   "cell_type": "code",
   "execution_count": 221,
   "id": "4972595a",
   "metadata": {},
   "outputs": [],
   "source": [
    "x = Mass_merged_df.copy()\n",
    "county_slice = x.loc[~(x.county_name_x == x.county_name_y)]"
   ]
  },
  {
   "cell_type": "code",
   "execution_count": 222,
   "id": "92b714c3",
   "metadata": {},
   "outputs": [
    {
     "data": {
      "text/plain": [
       "642500"
      ]
     },
     "execution_count": 222,
     "metadata": {},
     "output_type": "execute_result"
    }
   ],
   "source": [
    "len(county_slice)"
   ]
  },
  {
   "cell_type": "code",
   "execution_count": 229,
   "id": "fe5051f2",
   "metadata": {},
   "outputs": [
    {
     "data": {
      "text/html": [
       "<div>\n",
       "<style scoped>\n",
       "    .dataframe tbody tr th:only-of-type {\n",
       "        vertical-align: middle;\n",
       "    }\n",
       "\n",
       "    .dataframe tbody tr th {\n",
       "        vertical-align: top;\n",
       "    }\n",
       "\n",
       "    .dataframe thead th {\n",
       "        text-align: right;\n",
       "    }\n",
       "</style>\n",
       "<table border=\"1\" class=\"dataframe\">\n",
       "  <thead>\n",
       "    <tr style=\"text-align: right;\">\n",
       "      <th></th>\n",
       "      <th>index</th>\n",
       "      <th>date_x</th>\n",
       "      <th>rolling_average_cases_per_100k_centered</th>\n",
       "      <th>region_x</th>\n",
       "      <th>state_x</th>\n",
       "      <th>county_fips_code_x</th>\n",
       "      <th>county_name_x</th>\n",
       "      <th>normalized_concentration_rolling_average</th>\n",
       "      <th>population</th>\n",
       "      <th>region_y</th>\n",
       "      <th>state_y</th>\n",
       "      <th>county_fips_code_y</th>\n",
       "      <th>county_name_y</th>\n",
       "      <th>date_y</th>\n",
       "    </tr>\n",
       "  </thead>\n",
       "  <tbody>\n",
       "    <tr>\n",
       "      <th>30</th>\n",
       "      <td>2000</td>\n",
       "      <td>2020-01-26</td>\n",
       "      <td>0.0</td>\n",
       "      <td>Northeast</td>\n",
       "      <td>MA</td>\n",
       "      <td>25003</td>\n",
       "      <td>Berkshire</td>\n",
       "      <td>3.445926</td>\n",
       "      <td>20000-50000</td>\n",
       "      <td>Northeast</td>\n",
       "      <td>MA</td>\n",
       "      <td>25009</td>\n",
       "      <td>Essex</td>\n",
       "      <td>2020-08-05</td>\n",
       "    </tr>\n",
       "    <tr>\n",
       "      <th>31</th>\n",
       "      <td>2000</td>\n",
       "      <td>2020-01-26</td>\n",
       "      <td>0.0</td>\n",
       "      <td>Northeast</td>\n",
       "      <td>MA</td>\n",
       "      <td>25003</td>\n",
       "      <td>Berkshire</td>\n",
       "      <td>2.297284</td>\n",
       "      <td>20000-50000</td>\n",
       "      <td>Northeast</td>\n",
       "      <td>MA</td>\n",
       "      <td>25009</td>\n",
       "      <td>Essex</td>\n",
       "      <td>2020-08-12</td>\n",
       "    </tr>\n",
       "    <tr>\n",
       "      <th>32</th>\n",
       "      <td>2000</td>\n",
       "      <td>2020-01-26</td>\n",
       "      <td>0.0</td>\n",
       "      <td>Northeast</td>\n",
       "      <td>MA</td>\n",
       "      <td>25003</td>\n",
       "      <td>Berkshire</td>\n",
       "      <td>4.016684</td>\n",
       "      <td>20000-50000</td>\n",
       "      <td>Northeast</td>\n",
       "      <td>MA</td>\n",
       "      <td>25009</td>\n",
       "      <td>Essex</td>\n",
       "      <td>2020-08-19</td>\n",
       "    </tr>\n",
       "    <tr>\n",
       "      <th>33</th>\n",
       "      <td>2000</td>\n",
       "      <td>2020-01-26</td>\n",
       "      <td>0.0</td>\n",
       "      <td>Northeast</td>\n",
       "      <td>MA</td>\n",
       "      <td>25003</td>\n",
       "      <td>Berkshire</td>\n",
       "      <td>1.719400</td>\n",
       "      <td>20000-50000</td>\n",
       "      <td>Northeast</td>\n",
       "      <td>MA</td>\n",
       "      <td>25009</td>\n",
       "      <td>Essex</td>\n",
       "      <td>2020-08-26</td>\n",
       "    </tr>\n",
       "    <tr>\n",
       "      <th>34</th>\n",
       "      <td>2000</td>\n",
       "      <td>2020-01-26</td>\n",
       "      <td>0.0</td>\n",
       "      <td>Northeast</td>\n",
       "      <td>MA</td>\n",
       "      <td>25003</td>\n",
       "      <td>Berkshire</td>\n",
       "      <td>3.112600</td>\n",
       "      <td>20000-50000</td>\n",
       "      <td>Northeast</td>\n",
       "      <td>MA</td>\n",
       "      <td>25009</td>\n",
       "      <td>Essex</td>\n",
       "      <td>2020-09-02</td>\n",
       "    </tr>\n",
       "    <tr>\n",
       "      <th>35</th>\n",
       "      <td>2000</td>\n",
       "      <td>2020-01-26</td>\n",
       "      <td>0.0</td>\n",
       "      <td>Northeast</td>\n",
       "      <td>MA</td>\n",
       "      <td>25003</td>\n",
       "      <td>Berkshire</td>\n",
       "      <td>1.393199</td>\n",
       "      <td>20000-50000</td>\n",
       "      <td>Northeast</td>\n",
       "      <td>MA</td>\n",
       "      <td>25009</td>\n",
       "      <td>Essex</td>\n",
       "      <td>2020-09-09</td>\n",
       "    </tr>\n",
       "    <tr>\n",
       "      <th>36</th>\n",
       "      <td>2000</td>\n",
       "      <td>2020-01-26</td>\n",
       "      <td>0.0</td>\n",
       "      <td>Northeast</td>\n",
       "      <td>MA</td>\n",
       "      <td>25003</td>\n",
       "      <td>Berkshire</td>\n",
       "      <td>4.165386</td>\n",
       "      <td>20000-50000</td>\n",
       "      <td>Northeast</td>\n",
       "      <td>MA</td>\n",
       "      <td>25009</td>\n",
       "      <td>Essex</td>\n",
       "      <td>2020-09-16</td>\n",
       "    </tr>\n",
       "    <tr>\n",
       "      <th>37</th>\n",
       "      <td>2000</td>\n",
       "      <td>2020-01-26</td>\n",
       "      <td>0.0</td>\n",
       "      <td>Northeast</td>\n",
       "      <td>MA</td>\n",
       "      <td>25003</td>\n",
       "      <td>Berkshire</td>\n",
       "      <td>2.772187</td>\n",
       "      <td>20000-50000</td>\n",
       "      <td>Northeast</td>\n",
       "      <td>MA</td>\n",
       "      <td>25009</td>\n",
       "      <td>Essex</td>\n",
       "      <td>2020-09-23</td>\n",
       "    </tr>\n",
       "    <tr>\n",
       "      <th>38</th>\n",
       "      <td>2000</td>\n",
       "      <td>2020-01-26</td>\n",
       "      <td>0.0</td>\n",
       "      <td>Northeast</td>\n",
       "      <td>MA</td>\n",
       "      <td>25003</td>\n",
       "      <td>Berkshire</td>\n",
       "      <td>5.888057</td>\n",
       "      <td>20000-50000</td>\n",
       "      <td>Northeast</td>\n",
       "      <td>MA</td>\n",
       "      <td>25009</td>\n",
       "      <td>Essex</td>\n",
       "      <td>2020-09-30</td>\n",
       "    </tr>\n",
       "    <tr>\n",
       "      <th>39</th>\n",
       "      <td>2000</td>\n",
       "      <td>2020-01-26</td>\n",
       "      <td>0.0</td>\n",
       "      <td>Northeast</td>\n",
       "      <td>MA</td>\n",
       "      <td>25003</td>\n",
       "      <td>Berkshire</td>\n",
       "      <td>26.521146</td>\n",
       "      <td>20000-50000</td>\n",
       "      <td>Northeast</td>\n",
       "      <td>MA</td>\n",
       "      <td>25009</td>\n",
       "      <td>Essex</td>\n",
       "      <td>2020-10-07</td>\n",
       "    </tr>\n",
       "  </tbody>\n",
       "</table>\n",
       "</div>"
      ],
      "text/plain": [
       "    index     date_x  rolling_average_cases_per_100k_centered   region_x  \\\n",
       "30   2000 2020-01-26                                      0.0  Northeast   \n",
       "31   2000 2020-01-26                                      0.0  Northeast   \n",
       "32   2000 2020-01-26                                      0.0  Northeast   \n",
       "33   2000 2020-01-26                                      0.0  Northeast   \n",
       "34   2000 2020-01-26                                      0.0  Northeast   \n",
       "35   2000 2020-01-26                                      0.0  Northeast   \n",
       "36   2000 2020-01-26                                      0.0  Northeast   \n",
       "37   2000 2020-01-26                                      0.0  Northeast   \n",
       "38   2000 2020-01-26                                      0.0  Northeast   \n",
       "39   2000 2020-01-26                                      0.0  Northeast   \n",
       "\n",
       "   state_x  county_fips_code_x county_name_x  \\\n",
       "30      MA               25003     Berkshire   \n",
       "31      MA               25003     Berkshire   \n",
       "32      MA               25003     Berkshire   \n",
       "33      MA               25003     Berkshire   \n",
       "34      MA               25003     Berkshire   \n",
       "35      MA               25003     Berkshire   \n",
       "36      MA               25003     Berkshire   \n",
       "37      MA               25003     Berkshire   \n",
       "38      MA               25003     Berkshire   \n",
       "39      MA               25003     Berkshire   \n",
       "\n",
       "    normalized_concentration_rolling_average   population   region_y state_y  \\\n",
       "30                                  3.445926  20000-50000  Northeast      MA   \n",
       "31                                  2.297284  20000-50000  Northeast      MA   \n",
       "32                                  4.016684  20000-50000  Northeast      MA   \n",
       "33                                  1.719400  20000-50000  Northeast      MA   \n",
       "34                                  3.112600  20000-50000  Northeast      MA   \n",
       "35                                  1.393199  20000-50000  Northeast      MA   \n",
       "36                                  4.165386  20000-50000  Northeast      MA   \n",
       "37                                  2.772187  20000-50000  Northeast      MA   \n",
       "38                                  5.888057  20000-50000  Northeast      MA   \n",
       "39                                 26.521146  20000-50000  Northeast      MA   \n",
       "\n",
       "    county_fips_code_y county_name_y     date_y  \n",
       "30               25009         Essex 2020-08-05  \n",
       "31               25009         Essex 2020-08-12  \n",
       "32               25009         Essex 2020-08-19  \n",
       "33               25009         Essex 2020-08-26  \n",
       "34               25009         Essex 2020-09-02  \n",
       "35               25009         Essex 2020-09-09  \n",
       "36               25009         Essex 2020-09-16  \n",
       "37               25009         Essex 2020-09-23  \n",
       "38               25009         Essex 2020-09-30  \n",
       "39               25009         Essex 2020-10-07  "
      ]
     },
     "execution_count": 229,
     "metadata": {},
     "output_type": "execute_result"
    }
   ],
   "source": [
    "county_slice.head(10)"
   ]
  },
  {
   "cell_type": "code",
   "execution_count": 178,
   "id": "b456dbfd",
   "metadata": {},
   "outputs": [
    {
     "data": {
      "text/plain": [
       "6"
      ]
     },
     "execution_count": 178,
     "metadata": {},
     "output_type": "execute_result"
    }
   ],
   "source": [
    "Mass_merged_df.county_fips_code.nunique()"
   ]
  },
  {
   "cell_type": "code",
   "execution_count": 179,
   "id": "1b8f13e8",
   "metadata": {},
   "outputs": [
    {
     "data": {
      "text/plain": [
       "6"
      ]
     },
     "execution_count": 179,
     "metadata": {},
     "output_type": "execute_result"
    }
   ],
   "source": [
    "Mass_merged_df.county_name.nunique()"
   ]
  },
  {
   "cell_type": "code",
   "execution_count": 168,
   "id": "b5b3f41f",
   "metadata": {},
   "outputs": [],
   "source": [
    "kept_features = ['date', 'rolling_average_cases_per_100k_centered', 'region_x', 'state_x',\n",
    "                'county_fips_code_x', 'county_name_x']"
   ]
  },
  {
   "cell_type": "code",
   "execution_count": 169,
   "id": "e95b4e71",
   "metadata": {},
   "outputs": [
    {
     "ename": "KeyError",
     "evalue": "'county_name_x'",
     "output_type": "error",
     "traceback": [
      "\u001b[1;31m---------------------------------------------------------------------------\u001b[0m",
      "\u001b[1;31mKeyError\u001b[0m                                  Traceback (most recent call last)",
      "\u001b[1;32m~\\anaconda3\\lib\\site-packages\\pandas\\core\\indexes\\base.py\u001b[0m in \u001b[0;36mget_loc\u001b[1;34m(self, key, method, tolerance)\u001b[0m\n\u001b[0;32m   3079\u001b[0m             \u001b[1;32mtry\u001b[0m\u001b[1;33m:\u001b[0m\u001b[1;33m\u001b[0m\u001b[1;33m\u001b[0m\u001b[0m\n\u001b[1;32m-> 3080\u001b[1;33m                 \u001b[1;32mreturn\u001b[0m \u001b[0mself\u001b[0m\u001b[1;33m.\u001b[0m\u001b[0m_engine\u001b[0m\u001b[1;33m.\u001b[0m\u001b[0mget_loc\u001b[0m\u001b[1;33m(\u001b[0m\u001b[0mcasted_key\u001b[0m\u001b[1;33m)\u001b[0m\u001b[1;33m\u001b[0m\u001b[1;33m\u001b[0m\u001b[0m\n\u001b[0m\u001b[0;32m   3081\u001b[0m             \u001b[1;32mexcept\u001b[0m \u001b[0mKeyError\u001b[0m \u001b[1;32mas\u001b[0m \u001b[0merr\u001b[0m\u001b[1;33m:\u001b[0m\u001b[1;33m\u001b[0m\u001b[1;33m\u001b[0m\u001b[0m\n",
      "\u001b[1;32mpandas\\_libs\\index.pyx\u001b[0m in \u001b[0;36mpandas._libs.index.IndexEngine.get_loc\u001b[1;34m()\u001b[0m\n",
      "\u001b[1;32mpandas\\_libs\\index.pyx\u001b[0m in \u001b[0;36mpandas._libs.index.IndexEngine.get_loc\u001b[1;34m()\u001b[0m\n",
      "\u001b[1;32mpandas\\_libs\\hashtable_class_helper.pxi\u001b[0m in \u001b[0;36mpandas._libs.hashtable.PyObjectHashTable.get_item\u001b[1;34m()\u001b[0m\n",
      "\u001b[1;32mpandas\\_libs\\hashtable_class_helper.pxi\u001b[0m in \u001b[0;36mpandas._libs.hashtable.PyObjectHashTable.get_item\u001b[1;34m()\u001b[0m\n",
      "\u001b[1;31mKeyError\u001b[0m: 'county_name_x'",
      "\nThe above exception was the direct cause of the following exception:\n",
      "\u001b[1;31mKeyError\u001b[0m                                  Traceback (most recent call last)",
      "\u001b[1;32m<ipython-input-169-08ec9b5f5e0b>\u001b[0m in \u001b[0;36m<module>\u001b[1;34m\u001b[0m\n\u001b[1;32m----> 1\u001b[1;33m \u001b[0mMass_county_filter\u001b[0m \u001b[1;33m=\u001b[0m \u001b[0mMass_merged_df\u001b[0m\u001b[1;33m.\u001b[0m\u001b[0mloc\u001b[0m\u001b[1;33m[\u001b[0m\u001b[1;33m~\u001b[0m\u001b[1;33m(\u001b[0m\u001b[0mMass_merged_df\u001b[0m\u001b[1;33m[\u001b[0m\u001b[1;34m'county_name_x'\u001b[0m\u001b[1;33m]\u001b[0m \u001b[1;33m==\u001b[0m \u001b[0mMass_merged_df\u001b[0m\u001b[1;33m[\u001b[0m\u001b[1;34m'county_name_y'\u001b[0m\u001b[1;33m]\u001b[0m\u001b[1;33m)\u001b[0m\u001b[1;33m]\u001b[0m\u001b[1;33m\u001b[0m\u001b[1;33m\u001b[0m\u001b[0m\n\u001b[0m",
      "\u001b[1;32m~\\anaconda3\\lib\\site-packages\\pandas\\core\\frame.py\u001b[0m in \u001b[0;36m__getitem__\u001b[1;34m(self, key)\u001b[0m\n\u001b[0;32m   3022\u001b[0m             \u001b[1;32mif\u001b[0m \u001b[0mself\u001b[0m\u001b[1;33m.\u001b[0m\u001b[0mcolumns\u001b[0m\u001b[1;33m.\u001b[0m\u001b[0mnlevels\u001b[0m \u001b[1;33m>\u001b[0m \u001b[1;36m1\u001b[0m\u001b[1;33m:\u001b[0m\u001b[1;33m\u001b[0m\u001b[1;33m\u001b[0m\u001b[0m\n\u001b[0;32m   3023\u001b[0m                 \u001b[1;32mreturn\u001b[0m \u001b[0mself\u001b[0m\u001b[1;33m.\u001b[0m\u001b[0m_getitem_multilevel\u001b[0m\u001b[1;33m(\u001b[0m\u001b[0mkey\u001b[0m\u001b[1;33m)\u001b[0m\u001b[1;33m\u001b[0m\u001b[1;33m\u001b[0m\u001b[0m\n\u001b[1;32m-> 3024\u001b[1;33m             \u001b[0mindexer\u001b[0m \u001b[1;33m=\u001b[0m \u001b[0mself\u001b[0m\u001b[1;33m.\u001b[0m\u001b[0mcolumns\u001b[0m\u001b[1;33m.\u001b[0m\u001b[0mget_loc\u001b[0m\u001b[1;33m(\u001b[0m\u001b[0mkey\u001b[0m\u001b[1;33m)\u001b[0m\u001b[1;33m\u001b[0m\u001b[1;33m\u001b[0m\u001b[0m\n\u001b[0m\u001b[0;32m   3025\u001b[0m             \u001b[1;32mif\u001b[0m \u001b[0mis_integer\u001b[0m\u001b[1;33m(\u001b[0m\u001b[0mindexer\u001b[0m\u001b[1;33m)\u001b[0m\u001b[1;33m:\u001b[0m\u001b[1;33m\u001b[0m\u001b[1;33m\u001b[0m\u001b[0m\n\u001b[0;32m   3026\u001b[0m                 \u001b[0mindexer\u001b[0m \u001b[1;33m=\u001b[0m \u001b[1;33m[\u001b[0m\u001b[0mindexer\u001b[0m\u001b[1;33m]\u001b[0m\u001b[1;33m\u001b[0m\u001b[1;33m\u001b[0m\u001b[0m\n",
      "\u001b[1;32m~\\anaconda3\\lib\\site-packages\\pandas\\core\\indexes\\base.py\u001b[0m in \u001b[0;36mget_loc\u001b[1;34m(self, key, method, tolerance)\u001b[0m\n\u001b[0;32m   3080\u001b[0m                 \u001b[1;32mreturn\u001b[0m \u001b[0mself\u001b[0m\u001b[1;33m.\u001b[0m\u001b[0m_engine\u001b[0m\u001b[1;33m.\u001b[0m\u001b[0mget_loc\u001b[0m\u001b[1;33m(\u001b[0m\u001b[0mcasted_key\u001b[0m\u001b[1;33m)\u001b[0m\u001b[1;33m\u001b[0m\u001b[1;33m\u001b[0m\u001b[0m\n\u001b[0;32m   3081\u001b[0m             \u001b[1;32mexcept\u001b[0m \u001b[0mKeyError\u001b[0m \u001b[1;32mas\u001b[0m \u001b[0merr\u001b[0m\u001b[1;33m:\u001b[0m\u001b[1;33m\u001b[0m\u001b[1;33m\u001b[0m\u001b[0m\n\u001b[1;32m-> 3082\u001b[1;33m                 \u001b[1;32mraise\u001b[0m \u001b[0mKeyError\u001b[0m\u001b[1;33m(\u001b[0m\u001b[0mkey\u001b[0m\u001b[1;33m)\u001b[0m \u001b[1;32mfrom\u001b[0m \u001b[0merr\u001b[0m\u001b[1;33m\u001b[0m\u001b[1;33m\u001b[0m\u001b[0m\n\u001b[0m\u001b[0;32m   3083\u001b[0m \u001b[1;33m\u001b[0m\u001b[0m\n\u001b[0;32m   3084\u001b[0m         \u001b[1;32mif\u001b[0m \u001b[0mtolerance\u001b[0m \u001b[1;32mis\u001b[0m \u001b[1;32mnot\u001b[0m \u001b[1;32mNone\u001b[0m\u001b[1;33m:\u001b[0m\u001b[1;33m\u001b[0m\u001b[1;33m\u001b[0m\u001b[0m\n",
      "\u001b[1;31mKeyError\u001b[0m: 'county_name_x'"
     ]
    }
   ],
   "source": [
    "Mass_county_filter = Mass_merged_df.loc[~(Mass_merged_df['county_name_x'] == Mass_merged_df['county_name_y'])]"
   ]
  },
  {
   "cell_type": "code",
   "execution_count": 163,
   "id": "e71d9261",
   "metadata": {},
   "outputs": [
    {
     "data": {
      "text/plain": [
       "(1265, 13)"
      ]
     },
     "execution_count": 163,
     "metadata": {},
     "output_type": "execute_result"
    }
   ],
   "source": [
    "Mass_county_filter.shape"
   ]
  },
  {
   "cell_type": "code",
   "execution_count": 164,
   "id": "16e94d0a",
   "metadata": {},
   "outputs": [
    {
     "data": {
      "text/html": [
       "<div>\n",
       "<style scoped>\n",
       "    .dataframe tbody tr th:only-of-type {\n",
       "        vertical-align: middle;\n",
       "    }\n",
       "\n",
       "    .dataframe tbody tr th {\n",
       "        vertical-align: top;\n",
       "    }\n",
       "\n",
       "    .dataframe thead th {\n",
       "        text-align: right;\n",
       "    }\n",
       "</style>\n",
       "<table border=\"1\" class=\"dataframe\">\n",
       "  <thead>\n",
       "    <tr style=\"text-align: right;\">\n",
       "      <th></th>\n",
       "      <th>index</th>\n",
       "      <th>date</th>\n",
       "      <th>rolling_average_cases_per_100k_centered</th>\n",
       "      <th>region_x</th>\n",
       "      <th>state_x</th>\n",
       "      <th>county_fips_code_x</th>\n",
       "      <th>county_name_x</th>\n",
       "      <th>normalized_concentration_rolling_average</th>\n",
       "      <th>population</th>\n",
       "      <th>region_y</th>\n",
       "      <th>state_y</th>\n",
       "      <th>county_fips_code_y</th>\n",
       "      <th>county_name_y</th>\n",
       "    </tr>\n",
       "  </thead>\n",
       "  <tbody>\n",
       "    <tr>\n",
       "      <th>1512</th>\n",
       "      <td>6993</td>\n",
       "      <td>2021-06-02</td>\n",
       "      <td>1.253243</td>\n",
       "      <td>Northeast</td>\n",
       "      <td>MA</td>\n",
       "      <td>25019</td>\n",
       "      <td>Nantucket</td>\n",
       "      <td>2.898029e+01</td>\n",
       "      <td>2000000-5000000</td>\n",
       "      <td>Northeast</td>\n",
       "      <td>MA</td>\n",
       "      <td>25025</td>\n",
       "      <td>Suffolk</td>\n",
       "    </tr>\n",
       "    <tr>\n",
       "      <th>1513</th>\n",
       "      <td>8493</td>\n",
       "      <td>2021-06-02</td>\n",
       "      <td>2.327917</td>\n",
       "      <td>Northeast</td>\n",
       "      <td>MA</td>\n",
       "      <td>25025</td>\n",
       "      <td>Suffolk</td>\n",
       "      <td>1.370887e+01</td>\n",
       "      <td>50000-100000</td>\n",
       "      <td>Northeast</td>\n",
       "      <td>MA</td>\n",
       "      <td>25003</td>\n",
       "      <td>Berkshire</td>\n",
       "    </tr>\n",
       "    <tr>\n",
       "      <th>1514</th>\n",
       "      <td>8493</td>\n",
       "      <td>2021-06-02</td>\n",
       "      <td>2.327917</td>\n",
       "      <td>Northeast</td>\n",
       "      <td>MA</td>\n",
       "      <td>25025</td>\n",
       "      <td>Suffolk</td>\n",
       "      <td>6.631732e-14</td>\n",
       "      <td>20000-50000</td>\n",
       "      <td>Northeast</td>\n",
       "      <td>MA</td>\n",
       "      <td>25009</td>\n",
       "      <td>Essex</td>\n",
       "    </tr>\n",
       "    <tr>\n",
       "      <th>1515</th>\n",
       "      <td>8493</td>\n",
       "      <td>2021-06-02</td>\n",
       "      <td>2.327917</td>\n",
       "      <td>Northeast</td>\n",
       "      <td>MA</td>\n",
       "      <td>25025</td>\n",
       "      <td>Suffolk</td>\n",
       "      <td>2.343160e+00</td>\n",
       "      <td>100000-200000</td>\n",
       "      <td>Northeast</td>\n",
       "      <td>MA</td>\n",
       "      <td>25017</td>\n",
       "      <td>Middlesex</td>\n",
       "    </tr>\n",
       "    <tr>\n",
       "      <th>1516</th>\n",
       "      <td>8493</td>\n",
       "      <td>2021-06-02</td>\n",
       "      <td>2.327917</td>\n",
       "      <td>Northeast</td>\n",
       "      <td>MA</td>\n",
       "      <td>25025</td>\n",
       "      <td>Suffolk</td>\n",
       "      <td>9.712605e-01</td>\n",
       "      <td>10000-20000</td>\n",
       "      <td>Northeast</td>\n",
       "      <td>MA</td>\n",
       "      <td>25019</td>\n",
       "      <td>Nantucket</td>\n",
       "    </tr>\n",
       "  </tbody>\n",
       "</table>\n",
       "</div>"
      ],
      "text/plain": [
       "      index       date  rolling_average_cases_per_100k_centered   region_x  \\\n",
       "1512   6993 2021-06-02                                 1.253243  Northeast   \n",
       "1513   8493 2021-06-02                                 2.327917  Northeast   \n",
       "1514   8493 2021-06-02                                 2.327917  Northeast   \n",
       "1515   8493 2021-06-02                                 2.327917  Northeast   \n",
       "1516   8493 2021-06-02                                 2.327917  Northeast   \n",
       "\n",
       "     state_x  county_fips_code_x county_name_x  \\\n",
       "1512      MA               25019     Nantucket   \n",
       "1513      MA               25025       Suffolk   \n",
       "1514      MA               25025       Suffolk   \n",
       "1515      MA               25025       Suffolk   \n",
       "1516      MA               25025       Suffolk   \n",
       "\n",
       "      normalized_concentration_rolling_average       population   region_y  \\\n",
       "1512                              2.898029e+01  2000000-5000000  Northeast   \n",
       "1513                              1.370887e+01     50000-100000  Northeast   \n",
       "1514                              6.631732e-14      20000-50000  Northeast   \n",
       "1515                              2.343160e+00    100000-200000  Northeast   \n",
       "1516                              9.712605e-01      10000-20000  Northeast   \n",
       "\n",
       "     state_y  county_fips_code_y county_name_y  \n",
       "1512      MA               25025       Suffolk  \n",
       "1513      MA               25003     Berkshire  \n",
       "1514      MA               25009         Essex  \n",
       "1515      MA               25017     Middlesex  \n",
       "1516      MA               25019     Nantucket  "
      ]
     },
     "execution_count": 164,
     "metadata": {},
     "output_type": "execute_result"
    }
   ],
   "source": [
    "Mass_county_filter.tail()"
   ]
  },
  {
   "cell_type": "code",
   "execution_count": 310,
   "id": "0512e7da",
   "metadata": {},
   "outputs": [],
   "source": [
    "import requests, json\n",
    "\n",
    "def get_sources(source_list):\n",
    "    '''\n",
    "    this function takes a list of urls, ID's their format, requests dataset from source,\n",
    "    converts data into a dataframe, then saves it as a pickled file.\n",
    "    '''\n",
    "    for source in source_list:\n",
    "        if source.endswith('.json'):\n",
    "            response = requests.get(source)\n",
    "            data = response.json()\n",
    "            json_df = pd.DataFrame(data)\n",
    "            json_df.to_pickle('Cambridge.pkl')\n",
    "            print('Cambridge.pkl created using this source: ', source)\n",
    "            \n",
    "        else:\n",
    "            response = requests.get(source, allow_redirects=True)\n",
    "            with open('excel_data.xlsx', 'wb') as file:\n",
    "                file.write(response.content)\n",
    "            \n",
    "            #using pd.read_excel on a multi-spreadsheet xls yields a dictionary\n",
    "            excel_dict = pd.read_excel('excel_data.xlsx', sheet_name=None)\n",
    "            \n",
    "            #can ID sheetnames by evaluating keys\n",
    "            #print(excel_dict.keys())\n",
    "            \n",
    "            #Will be using the \"Weekly_City_Town\" sheet\n",
    "            Mass_weekly_city = excel_dict['Weekly_City_Town']\n",
    "            \n",
    "            #Use df.to_pickle to save as .pkl file\n",
    "            Mass_weekly_city.to_pickle('Mass_Weekly_City_df.pkl')\n",
    "            \n",
    "            print('Mass_Weekly_City.pkl created using this source', source)"
   ]
  },
  {
   "cell_type": "code",
   "execution_count": 312,
   "id": "aeacabf1",
   "metadata": {},
   "outputs": [],
   "source": [
    "from bs4 import BeautifulSoup\n",
    "from urllib.request import urlopen, Request"
   ]
  },
  {
   "cell_type": "code",
   "execution_count": 317,
   "id": "0883294b",
   "metadata": {},
   "outputs": [
    {
     "data": {
      "text/plain": [
       "'/doc/covid-19-raw-data-july-29-2021/download'"
      ]
     },
     "execution_count": 317,
     "metadata": {},
     "output_type": "execute_result"
    }
   ],
   "source": [
    "# Use BS to identify/isolate the html \"class\" pointing to the href of the .xls \n",
    "#class and \"ma__download-link__file-link\" was identified by inspecting the page's elements in chrome\n",
    "source = requests.get(\"https://www.mass.gov/doc/covid-19-raw-data-july-29-2021/\")\n",
    "BeautifulSoup(source.content).find(\"a\", {\"class\":\"ma__download-link__file-link\"}).get(\"href\")"
   ]
  },
  {
   "cell_type": "code",
   "execution_count": 442,
   "id": "cbe00c3c",
   "metadata": {},
   "outputs": [
    {
     "ename": "AttributeError",
     "evalue": "'str' object has no attribute 'content'",
     "output_type": "error",
     "traceback": [
      "\u001b[1;31m---------------------------------------------------------------------------\u001b[0m",
      "\u001b[1;31mAttributeError\u001b[0m                            Traceback (most recent call last)",
      "\u001b[1;32m<ipython-input-442-34b20087af20>\u001b[0m in \u001b[0;36m<module>\u001b[1;34m\u001b[0m\n\u001b[0;32m      1\u001b[0m \u001b[0mVax_source\u001b[0m \u001b[1;33m=\u001b[0m \u001b[1;34m'https://www.mass.gov/doc/daily-covid-19-vaccine-report-july-29-2021/'\u001b[0m\u001b[1;33m\u001b[0m\u001b[1;33m\u001b[0m\u001b[0m\n\u001b[1;32m----> 2\u001b[1;33m \u001b[0mBeautifulSoup\u001b[0m\u001b[1;33m(\u001b[0m\u001b[0mVax_source\u001b[0m\u001b[1;33m.\u001b[0m\u001b[0mcontent\u001b[0m\u001b[1;33m)\u001b[0m\u001b[1;33m.\u001b[0m\u001b[0mfind\u001b[0m\u001b[1;33m(\u001b[0m\u001b[1;34m\"a\"\u001b[0m\u001b[1;33m,\u001b[0m \u001b[1;33m{\u001b[0m\u001b[1;34m\"class\"\u001b[0m\u001b[1;33m:\u001b[0m\u001b[1;34m\"ma__download-link__file-link\"\u001b[0m\u001b[1;33m}\u001b[0m\u001b[1;33m)\u001b[0m\u001b[1;33m.\u001b[0m\u001b[0mget\u001b[0m\u001b[1;33m(\u001b[0m\u001b[1;34m\"href\"\u001b[0m\u001b[1;33m)\u001b[0m\u001b[1;33m\u001b[0m\u001b[1;33m\u001b[0m\u001b[0m\n\u001b[0m",
      "\u001b[1;31mAttributeError\u001b[0m: 'str' object has no attribute 'content'"
     ]
    }
   ],
   "source": [
    "Vax_source = 'https://www.mass.gov/doc/daily-covid-19-vaccine-report-july-29-2021/'\n",
    "BeautifulSoup(Vax_source.content).find(\"a\", {\"class\":\"ma__download-link__file-link\"}).get(\"href\")"
   ]
  },
  {
   "cell_type": "code",
   "execution_count": 321,
   "id": "3ce270ff",
   "metadata": {},
   "outputs": [],
   "source": [
    "data = 'https://www.mass.gov/doc/covid-19-raw-data-july-29-2021/download'"
   ]
  },
  {
   "cell_type": "code",
   "execution_count": 322,
   "id": "9d256fb5",
   "metadata": {},
   "outputs": [],
   "source": [
    "response = requests.get(data, allow_redirects=True)\n",
    "with open('excel_data.xlsx', 'wb') as file:\n",
    "    file.write(response.content)\n",
    "    \n",
    "excel_dict = pd.read_excel('excel_data.xlsx', sheet_name=None, parse_dates=True)\n",
    "\n",
    "Mass_updated_weekly = excel_dict['Weekly_City_Town']"
   ]
  },
  {
   "cell_type": "code",
   "execution_count": 323,
   "id": "d03f87b0",
   "metadata": {},
   "outputs": [
    {
     "name": "stdout",
     "output_type": "stream",
     "text": [
      "<class 'pandas.core.frame.DataFrame'>\n",
      "RangeIndex: 11296 entries, 0 to 11295\n",
      "Data columns (total 17 columns):\n",
      " #   Column                      Non-Null Count  Dtype         \n",
      "---  ------                      --------------  -----         \n",
      " 0   City/Town                   11296 non-null  object        \n",
      " 1   County                      11296 non-null  object        \n",
      " 2   Population                  11296 non-null  object        \n",
      " 3   Total Case Counts           11296 non-null  object        \n",
      " 4   Two Week Case Counts        11296 non-null  object        \n",
      " 5   Average Daily Rate          11296 non-null  object        \n",
      " 6   Color                       9495 non-null   object        \n",
      " 7   Change in Last Week         11296 non-null  object        \n",
      " 8   Total Tests                 11296 non-null  int64         \n",
      " 9   Total Tests Last Two Weeks  11295 non-null  float64       \n",
      " 10  Total Positive Tests        11295 non-null  float64       \n",
      " 11  Percent Positivity          11295 non-null  object        \n",
      " 12  Change Since Last Week      11296 non-null  object        \n",
      " 13  Testing Rate                11292 non-null  object        \n",
      " 14  Report Date                 11296 non-null  datetime64[ns]\n",
      " 15  Start_Date                  11296 non-null  datetime64[ns]\n",
      " 16  End_Date                    11296 non-null  datetime64[ns]\n",
      "dtypes: datetime64[ns](3), float64(2), int64(1), object(11)\n",
      "memory usage: 1.5+ MB\n"
     ]
    }
   ],
   "source": [
    "Mass_updated_weekly.info()"
   ]
  },
  {
   "cell_type": "code",
   "execution_count": 325,
   "id": "b18edb94",
   "metadata": {},
   "outputs": [],
   "source": [
    "ProvinceTown = Mass_updated_weekly[Mass_updated_weekly['City/Town']=='Provincetown']"
   ]
  },
  {
   "cell_type": "code",
   "execution_count": 326,
   "id": "bd6f233e",
   "metadata": {},
   "outputs": [
    {
     "data": {
      "text/html": [
       "<div>\n",
       "<style scoped>\n",
       "    .dataframe tbody tr th:only-of-type {\n",
       "        vertical-align: middle;\n",
       "    }\n",
       "\n",
       "    .dataframe tbody tr th {\n",
       "        vertical-align: top;\n",
       "    }\n",
       "\n",
       "    .dataframe thead th {\n",
       "        text-align: right;\n",
       "    }\n",
       "</style>\n",
       "<table border=\"1\" class=\"dataframe\">\n",
       "  <thead>\n",
       "    <tr style=\"text-align: right;\">\n",
       "      <th></th>\n",
       "      <th>City/Town</th>\n",
       "      <th>County</th>\n",
       "      <th>Population</th>\n",
       "      <th>Total Case Counts</th>\n",
       "      <th>Two Week Case Counts</th>\n",
       "      <th>Average Daily Rate</th>\n",
       "      <th>Color</th>\n",
       "      <th>Change in Last Week</th>\n",
       "      <th>Total Tests</th>\n",
       "      <th>Total Tests Last Two Weeks</th>\n",
       "      <th>Total Positive Tests</th>\n",
       "      <th>Percent Positivity</th>\n",
       "      <th>Change Since Last Week</th>\n",
       "      <th>Testing Rate</th>\n",
       "      <th>Report Date</th>\n",
       "      <th>Start_Date</th>\n",
       "      <th>End_Date</th>\n",
       "    </tr>\n",
       "  </thead>\n",
       "  <tbody>\n",
       "    <tr>\n",
       "      <th>242</th>\n",
       "      <td>Provincetown</td>\n",
       "      <td>Barnstable</td>\n",
       "      <td>2582.83182</td>\n",
       "      <td>40</td>\n",
       "      <td>5</td>\n",
       "      <td>13.827569</td>\n",
       "      <td>Grey</td>\n",
       "      <td>Higher</td>\n",
       "      <td>2934</td>\n",
       "      <td>297.0</td>\n",
       "      <td>6.0</td>\n",
       "      <td>0.020202</td>\n",
       "      <td>Higher</td>\n",
       "      <td>11499.006542</td>\n",
       "      <td>2020-12-24</td>\n",
       "      <td>2020-12-06</td>\n",
       "      <td>2020-12-19</td>\n",
       "    </tr>\n",
       "    <tr>\n",
       "      <th>595</th>\n",
       "      <td>Provincetown</td>\n",
       "      <td>Barnstable</td>\n",
       "      <td>2582.83182</td>\n",
       "      <td>43</td>\n",
       "      <td>6</td>\n",
       "      <td>16.593083</td>\n",
       "      <td>Grey</td>\n",
       "      <td>No Change</td>\n",
       "      <td>3085</td>\n",
       "      <td>269.0</td>\n",
       "      <td>6.0</td>\n",
       "      <td>0.022305</td>\n",
       "      <td>No Change</td>\n",
       "      <td>10414.925117</td>\n",
       "      <td>2020-12-31</td>\n",
       "      <td>2020-12-13</td>\n",
       "      <td>2020-12-26</td>\n",
       "    </tr>\n",
       "    <tr>\n",
       "      <th>948</th>\n",
       "      <td>Provincetown</td>\n",
       "      <td>Barnstable</td>\n",
       "      <td>2582.83182</td>\n",
       "      <td>47</td>\n",
       "      <td>6</td>\n",
       "      <td>16.593083</td>\n",
       "      <td>Grey</td>\n",
       "      <td>No Change</td>\n",
       "      <td>3169</td>\n",
       "      <td>231.0</td>\n",
       "      <td>7.0</td>\n",
       "      <td>0.030303</td>\n",
       "      <td>Higher</td>\n",
       "      <td>8943.671755</td>\n",
       "      <td>2021-01-07</td>\n",
       "      <td>2020-12-20</td>\n",
       "      <td>2021-01-02</td>\n",
       "    </tr>\n",
       "    <tr>\n",
       "      <th>1301</th>\n",
       "      <td>Provincetown</td>\n",
       "      <td>Barnstable</td>\n",
       "      <td>2582.83182</td>\n",
       "      <td>51</td>\n",
       "      <td>9</td>\n",
       "      <td>24.889625</td>\n",
       "      <td>Grey</td>\n",
       "      <td>Higher</td>\n",
       "      <td>3342</td>\n",
       "      <td>242.0</td>\n",
       "      <td>10.0</td>\n",
       "      <td>0.041322</td>\n",
       "      <td>Higher</td>\n",
       "      <td>9369.560886</td>\n",
       "      <td>2021-01-14</td>\n",
       "      <td>2020-12-27</td>\n",
       "      <td>2021-01-09</td>\n",
       "    </tr>\n",
       "    <tr>\n",
       "      <th>1654</th>\n",
       "      <td>Provincetown</td>\n",
       "      <td>Barnstable</td>\n",
       "      <td>2582.83182</td>\n",
       "      <td>55</td>\n",
       "      <td>8</td>\n",
       "      <td>22.124111</td>\n",
       "      <td>Grey</td>\n",
       "      <td>Lower</td>\n",
       "      <td>3437</td>\n",
       "      <td>258.0</td>\n",
       "      <td>9.0</td>\n",
       "      <td>0.034884</td>\n",
       "      <td>Lower</td>\n",
       "      <td>9989.035986</td>\n",
       "      <td>2021-01-21</td>\n",
       "      <td>2021-01-03</td>\n",
       "      <td>2021-01-16</td>\n",
       "    </tr>\n",
       "    <tr>\n",
       "      <th>2007</th>\n",
       "      <td>Provincetown</td>\n",
       "      <td>Barnstable</td>\n",
       "      <td>2582.83182</td>\n",
       "      <td>57</td>\n",
       "      <td>6</td>\n",
       "      <td>16.593083</td>\n",
       "      <td>Grey</td>\n",
       "      <td>Lower</td>\n",
       "      <td>3569</td>\n",
       "      <td>253.0</td>\n",
       "      <td>7.0</td>\n",
       "      <td>0.027668</td>\n",
       "      <td>Lower</td>\n",
       "      <td>9795.450018</td>\n",
       "      <td>2021-01-28</td>\n",
       "      <td>2021-01-10</td>\n",
       "      <td>2021-01-23</td>\n",
       "    </tr>\n",
       "    <tr>\n",
       "      <th>2360</th>\n",
       "      <td>Provincetown</td>\n",
       "      <td>Barnstable</td>\n",
       "      <td>2582.83182</td>\n",
       "      <td>59</td>\n",
       "      <td>&lt;5</td>\n",
       "      <td>11.062055</td>\n",
       "      <td>Grey</td>\n",
       "      <td>Lower</td>\n",
       "      <td>3738</td>\n",
       "      <td>259.0</td>\n",
       "      <td>4.0</td>\n",
       "      <td>0.015444</td>\n",
       "      <td>Lower</td>\n",
       "      <td>10027.75318</td>\n",
       "      <td>2021-02-04</td>\n",
       "      <td>2021-01-17</td>\n",
       "      <td>2021-01-30</td>\n",
       "    </tr>\n",
       "    <tr>\n",
       "      <th>2713</th>\n",
       "      <td>Provincetown</td>\n",
       "      <td>Barnstable</td>\n",
       "      <td>2582.83182</td>\n",
       "      <td>60</td>\n",
       "      <td>&lt;5</td>\n",
       "      <td>8.296542</td>\n",
       "      <td>Grey</td>\n",
       "      <td>Lower</td>\n",
       "      <td>3868</td>\n",
       "      <td>278.0</td>\n",
       "      <td>4.0</td>\n",
       "      <td>0.014388</td>\n",
       "      <td>No Change</td>\n",
       "      <td>10763.379861</td>\n",
       "      <td>2021-02-11</td>\n",
       "      <td>2021-01-24</td>\n",
       "      <td>2021-02-06</td>\n",
       "    </tr>\n",
       "    <tr>\n",
       "      <th>3066</th>\n",
       "      <td>Provincetown</td>\n",
       "      <td>Barnstable</td>\n",
       "      <td>2582.83182</td>\n",
       "      <td>60</td>\n",
       "      <td>2</td>\n",
       "      <td>5.531028</td>\n",
       "      <td>Grey</td>\n",
       "      <td>Lower</td>\n",
       "      <td>3975</td>\n",
       "      <td>251.0</td>\n",
       "      <td>4.0</td>\n",
       "      <td>0.015936</td>\n",
       "      <td>Higher</td>\n",
       "      <td>9718.01563</td>\n",
       "      <td>2021-02-18</td>\n",
       "      <td>2021-01-31</td>\n",
       "      <td>2021-02-13</td>\n",
       "    </tr>\n",
       "    <tr>\n",
       "      <th>3419</th>\n",
       "      <td>Provincetown</td>\n",
       "      <td>Barnstable</td>\n",
       "      <td>2582.83182</td>\n",
       "      <td>61</td>\n",
       "      <td>0</td>\n",
       "      <td>0</td>\n",
       "      <td>Grey</td>\n",
       "      <td>Lower</td>\n",
       "      <td>4112</td>\n",
       "      <td>233.0</td>\n",
       "      <td>1.0</td>\n",
       "      <td>0.004292</td>\n",
       "      <td>Lower</td>\n",
       "      <td>9021.106143</td>\n",
       "      <td>2021-02-25</td>\n",
       "      <td>2021-02-07</td>\n",
       "      <td>2021-02-20</td>\n",
       "    </tr>\n",
       "    <tr>\n",
       "      <th>3772</th>\n",
       "      <td>Provincetown</td>\n",
       "      <td>Barnstable</td>\n",
       "      <td>2582.83182</td>\n",
       "      <td>62</td>\n",
       "      <td>&lt;5</td>\n",
       "      <td>5.531028</td>\n",
       "      <td>Grey</td>\n",
       "      <td>Higher</td>\n",
       "      <td>4260</td>\n",
       "      <td>256.0</td>\n",
       "      <td>3.0</td>\n",
       "      <td>0.011719</td>\n",
       "      <td>Higher</td>\n",
       "      <td>9911.601599</td>\n",
       "      <td>2021-03-04</td>\n",
       "      <td>2021-02-14</td>\n",
       "      <td>2021-02-27</td>\n",
       "    </tr>\n",
       "    <tr>\n",
       "      <th>4125</th>\n",
       "      <td>Provincetown</td>\n",
       "      <td>Barnstable</td>\n",
       "      <td>2582.83182</td>\n",
       "      <td>65</td>\n",
       "      <td>5</td>\n",
       "      <td>13.827569</td>\n",
       "      <td>Grey</td>\n",
       "      <td>Higher</td>\n",
       "      <td>4341</td>\n",
       "      <td>256.0</td>\n",
       "      <td>7.0</td>\n",
       "      <td>0.027344</td>\n",
       "      <td>Higher</td>\n",
       "      <td>9911.601599</td>\n",
       "      <td>2021-03-11</td>\n",
       "      <td>2021-02-21</td>\n",
       "      <td>2021-03-06</td>\n",
       "    </tr>\n",
       "    <tr>\n",
       "      <th>4478</th>\n",
       "      <td>Provincetown</td>\n",
       "      <td>Barnstable</td>\n",
       "      <td>2582.83182</td>\n",
       "      <td>69</td>\n",
       "      <td>7</td>\n",
       "      <td>19.358597</td>\n",
       "      <td>Grey</td>\n",
       "      <td>Higher</td>\n",
       "      <td>4484</td>\n",
       "      <td>223.0</td>\n",
       "      <td>8.0</td>\n",
       "      <td>0.035874</td>\n",
       "      <td>Higher</td>\n",
       "      <td>8633.934205</td>\n",
       "      <td>2021-03-18</td>\n",
       "      <td>2021-02-28</td>\n",
       "      <td>2021-03-13</td>\n",
       "    </tr>\n",
       "    <tr>\n",
       "      <th>4831</th>\n",
       "      <td>Provincetown</td>\n",
       "      <td>Barnstable</td>\n",
       "      <td>2582.83182</td>\n",
       "      <td>71</td>\n",
       "      <td>5</td>\n",
       "      <td>13.827569</td>\n",
       "      <td>Grey</td>\n",
       "      <td>Lower</td>\n",
       "      <td>4587</td>\n",
       "      <td>218.0</td>\n",
       "      <td>6.0</td>\n",
       "      <td>0.027523</td>\n",
       "      <td>Lower</td>\n",
       "      <td>8440.348236</td>\n",
       "      <td>2021-03-25</td>\n",
       "      <td>2021-03-07</td>\n",
       "      <td>2021-03-20</td>\n",
       "    </tr>\n",
       "    <tr>\n",
       "      <th>5184</th>\n",
       "      <td>Provincetown</td>\n",
       "      <td>Barnstable</td>\n",
       "      <td>2582.83182</td>\n",
       "      <td>71</td>\n",
       "      <td>&lt;5</td>\n",
       "      <td>5.531028</td>\n",
       "      <td>Grey</td>\n",
       "      <td>Lower</td>\n",
       "      <td>4670</td>\n",
       "      <td>194.0</td>\n",
       "      <td>3.0</td>\n",
       "      <td>0.015464</td>\n",
       "      <td>Lower</td>\n",
       "      <td>7511.135587</td>\n",
       "      <td>2021-04-01</td>\n",
       "      <td>2021-03-14</td>\n",
       "      <td>2021-03-27</td>\n",
       "    </tr>\n",
       "    <tr>\n",
       "      <th>5537</th>\n",
       "      <td>Provincetown</td>\n",
       "      <td>Barnstable</td>\n",
       "      <td>2582.83182</td>\n",
       "      <td>72</td>\n",
       "      <td>0</td>\n",
       "      <td>0</td>\n",
       "      <td>Grey</td>\n",
       "      <td>Lower</td>\n",
       "      <td>4807</td>\n",
       "      <td>187.0</td>\n",
       "      <td>0.0</td>\n",
       "      <td>0</td>\n",
       "      <td>Lower</td>\n",
       "      <td>7240.11523</td>\n",
       "      <td>2021-04-08</td>\n",
       "      <td>2021-03-21</td>\n",
       "      <td>2021-04-03</td>\n",
       "    </tr>\n",
       "    <tr>\n",
       "      <th>5890</th>\n",
       "      <td>Provincetown</td>\n",
       "      <td>Barnstable</td>\n",
       "      <td>2582.83182</td>\n",
       "      <td>76</td>\n",
       "      <td>&lt;5</td>\n",
       "      <td>2.765514</td>\n",
       "      <td>Grey</td>\n",
       "      <td>Higher</td>\n",
       "      <td>4909</td>\n",
       "      <td>216.0</td>\n",
       "      <td>1.0</td>\n",
       "      <td>0.00463</td>\n",
       "      <td>Higher</td>\n",
       "      <td>8362.913849</td>\n",
       "      <td>2021-04-15</td>\n",
       "      <td>2021-03-28</td>\n",
       "      <td>2021-04-10</td>\n",
       "    </tr>\n",
       "    <tr>\n",
       "      <th>6243</th>\n",
       "      <td>Provincetown</td>\n",
       "      <td>Barnstable</td>\n",
       "      <td>2582.83182</td>\n",
       "      <td>76</td>\n",
       "      <td>5</td>\n",
       "      <td>13.827569</td>\n",
       "      <td>Grey</td>\n",
       "      <td>Higher</td>\n",
       "      <td>5015</td>\n",
       "      <td>209.0</td>\n",
       "      <td>5.0</td>\n",
       "      <td>0.023923</td>\n",
       "      <td>Higher</td>\n",
       "      <td>8091.893493</td>\n",
       "      <td>2021-04-22</td>\n",
       "      <td>2021-04-04</td>\n",
       "      <td>2021-04-17</td>\n",
       "    </tr>\n",
       "    <tr>\n",
       "      <th>6596</th>\n",
       "      <td>Provincetown</td>\n",
       "      <td>Barnstable</td>\n",
       "      <td>2582.83182</td>\n",
       "      <td>76</td>\n",
       "      <td>&lt;5</td>\n",
       "      <td>11.062055</td>\n",
       "      <td>Grey</td>\n",
       "      <td>Lower</td>\n",
       "      <td>5120</td>\n",
       "      <td>211.0</td>\n",
       "      <td>4.0</td>\n",
       "      <td>0.018957</td>\n",
       "      <td>Lower</td>\n",
       "      <td>8169.32788</td>\n",
       "      <td>2021-04-29</td>\n",
       "      <td>2021-04-11</td>\n",
       "      <td>2021-04-24</td>\n",
       "    </tr>\n",
       "    <tr>\n",
       "      <th>6949</th>\n",
       "      <td>Provincetown</td>\n",
       "      <td>Barnstable</td>\n",
       "      <td>2582.83182</td>\n",
       "      <td>81</td>\n",
       "      <td>5</td>\n",
       "      <td>13.827569</td>\n",
       "      <td>Grey</td>\n",
       "      <td>Higher</td>\n",
       "      <td>5171</td>\n",
       "      <td>215.0</td>\n",
       "      <td>5.0</td>\n",
       "      <td>0.023256</td>\n",
       "      <td>Higher</td>\n",
       "      <td>8324.196655</td>\n",
       "      <td>2021-05-06</td>\n",
       "      <td>2021-04-18</td>\n",
       "      <td>2021-05-01</td>\n",
       "    </tr>\n",
       "    <tr>\n",
       "      <th>7302</th>\n",
       "      <td>Provincetown</td>\n",
       "      <td>Barnstable</td>\n",
       "      <td>2582.83182</td>\n",
       "      <td>82</td>\n",
       "      <td>6</td>\n",
       "      <td>16.593083</td>\n",
       "      <td>Grey</td>\n",
       "      <td>Higher</td>\n",
       "      <td>5280</td>\n",
       "      <td>212.0</td>\n",
       "      <td>6.0</td>\n",
       "      <td>0.028302</td>\n",
       "      <td>Higher</td>\n",
       "      <td>8208.045074</td>\n",
       "      <td>2021-05-13</td>\n",
       "      <td>2021-04-25</td>\n",
       "      <td>2021-05-08</td>\n",
       "    </tr>\n",
       "    <tr>\n",
       "      <th>7655</th>\n",
       "      <td>Provincetown</td>\n",
       "      <td>Barnstable</td>\n",
       "      <td>2582.83182</td>\n",
       "      <td>82</td>\n",
       "      <td>&lt;5</td>\n",
       "      <td>2.765514</td>\n",
       "      <td>Grey</td>\n",
       "      <td>Lower</td>\n",
       "      <td>5345</td>\n",
       "      <td>164.0</td>\n",
       "      <td>1.0</td>\n",
       "      <td>0.006098</td>\n",
       "      <td>Lower</td>\n",
       "      <td>6349.619774</td>\n",
       "      <td>2021-05-20</td>\n",
       "      <td>2021-05-02</td>\n",
       "      <td>2021-05-15</td>\n",
       "    </tr>\n",
       "    <tr>\n",
       "      <th>8008</th>\n",
       "      <td>Provincetown</td>\n",
       "      <td>Barnstable</td>\n",
       "      <td>2582.83182</td>\n",
       "      <td>82</td>\n",
       "      <td>0</td>\n",
       "      <td>0</td>\n",
       "      <td>Grey</td>\n",
       "      <td>Lower</td>\n",
       "      <td>5397</td>\n",
       "      <td>114.0</td>\n",
       "      <td>0.0</td>\n",
       "      <td>0</td>\n",
       "      <td>Lower</td>\n",
       "      <td>4413.760087</td>\n",
       "      <td>2021-05-27</td>\n",
       "      <td>2021-05-09</td>\n",
       "      <td>2021-05-22</td>\n",
       "    </tr>\n",
       "    <tr>\n",
       "      <th>8361</th>\n",
       "      <td>Provincetown</td>\n",
       "      <td>Barnstable</td>\n",
       "      <td>2582.83182</td>\n",
       "      <td>82</td>\n",
       "      <td>0</td>\n",
       "      <td>0</td>\n",
       "      <td>Grey</td>\n",
       "      <td>No Change</td>\n",
       "      <td>5434</td>\n",
       "      <td>94.0</td>\n",
       "      <td>0.0</td>\n",
       "      <td>0</td>\n",
       "      <td>No Change</td>\n",
       "      <td>3639.416212</td>\n",
       "      <td>2021-06-03</td>\n",
       "      <td>2021-05-16</td>\n",
       "      <td>2021-05-29</td>\n",
       "    </tr>\n",
       "    <tr>\n",
       "      <th>8714</th>\n",
       "      <td>Provincetown</td>\n",
       "      <td>Barnstable</td>\n",
       "      <td>2582.83182</td>\n",
       "      <td>82</td>\n",
       "      <td>0</td>\n",
       "      <td>0</td>\n",
       "      <td>Grey</td>\n",
       "      <td>No Change</td>\n",
       "      <td>5479</td>\n",
       "      <td>86.0</td>\n",
       "      <td>0.0</td>\n",
       "      <td>0</td>\n",
       "      <td>No Change</td>\n",
       "      <td>3329.678662</td>\n",
       "      <td>2021-06-10</td>\n",
       "      <td>2021-05-23</td>\n",
       "      <td>2021-06-05</td>\n",
       "    </tr>\n",
       "    <tr>\n",
       "      <th>9067</th>\n",
       "      <td>Provincetown</td>\n",
       "      <td>Barnstable</td>\n",
       "      <td>2582.83182</td>\n",
       "      <td>82</td>\n",
       "      <td>0</td>\n",
       "      <td>0</td>\n",
       "      <td>Grey</td>\n",
       "      <td>No Change</td>\n",
       "      <td>5528</td>\n",
       "      <td>90.0</td>\n",
       "      <td>0.0</td>\n",
       "      <td>0</td>\n",
       "      <td>No Change</td>\n",
       "      <td>3484.547437</td>\n",
       "      <td>2021-06-17</td>\n",
       "      <td>2021-05-30</td>\n",
       "      <td>2021-06-12</td>\n",
       "    </tr>\n",
       "    <tr>\n",
       "      <th>9420</th>\n",
       "      <td>Provincetown</td>\n",
       "      <td>Barnstable</td>\n",
       "      <td>2582.83182</td>\n",
       "      <td>82</td>\n",
       "      <td>0</td>\n",
       "      <td>0</td>\n",
       "      <td>Grey</td>\n",
       "      <td>No Change</td>\n",
       "      <td>5579</td>\n",
       "      <td>96.0</td>\n",
       "      <td>0.0</td>\n",
       "      <td>0</td>\n",
       "      <td>No Change</td>\n",
       "      <td>3716.8506</td>\n",
       "      <td>2021-06-24</td>\n",
       "      <td>2021-06-06</td>\n",
       "      <td>2021-06-19</td>\n",
       "    </tr>\n",
       "    <tr>\n",
       "      <th>9772</th>\n",
       "      <td>Provincetown</td>\n",
       "      <td>Barnstable</td>\n",
       "      <td>2582.83182</td>\n",
       "      <td>82</td>\n",
       "      <td>0</td>\n",
       "      <td>0</td>\n",
       "      <td>NaN</td>\n",
       "      <td>No Change</td>\n",
       "      <td>5626</td>\n",
       "      <td>99.0</td>\n",
       "      <td>0.0</td>\n",
       "      <td>0</td>\n",
       "      <td>No Change</td>\n",
       "      <td>3833.002181</td>\n",
       "      <td>2021-07-01</td>\n",
       "      <td>2021-06-13</td>\n",
       "      <td>2021-06-26</td>\n",
       "    </tr>\n",
       "    <tr>\n",
       "      <th>10125</th>\n",
       "      <td>Provincetown</td>\n",
       "      <td>Barnstable</td>\n",
       "      <td>2582.83182</td>\n",
       "      <td>82</td>\n",
       "      <td>0</td>\n",
       "      <td>0</td>\n",
       "      <td>NaN</td>\n",
       "      <td>No Change</td>\n",
       "      <td>5664</td>\n",
       "      <td>85.0</td>\n",
       "      <td>0.0</td>\n",
       "      <td>0</td>\n",
       "      <td>No Change</td>\n",
       "      <td>3290.961468</td>\n",
       "      <td>2021-07-08</td>\n",
       "      <td>2021-06-20</td>\n",
       "      <td>2021-07-03</td>\n",
       "    </tr>\n",
       "    <tr>\n",
       "      <th>10478</th>\n",
       "      <td>Provincetown</td>\n",
       "      <td>Barnstable</td>\n",
       "      <td>2582.83182</td>\n",
       "      <td>88</td>\n",
       "      <td>5</td>\n",
       "      <td>13.827569</td>\n",
       "      <td>NaN</td>\n",
       "      <td>Higher</td>\n",
       "      <td>5709</td>\n",
       "      <td>94.0</td>\n",
       "      <td>5.0</td>\n",
       "      <td>0.053191</td>\n",
       "      <td>Higher</td>\n",
       "      <td>3639.416212</td>\n",
       "      <td>2021-07-15</td>\n",
       "      <td>2021-06-27</td>\n",
       "      <td>2021-07-10</td>\n",
       "    </tr>\n",
       "    <tr>\n",
       "      <th>10831</th>\n",
       "      <td>Provincetown</td>\n",
       "      <td>Barnstable</td>\n",
       "      <td>2582.83182</td>\n",
       "      <td>185</td>\n",
       "      <td>64</td>\n",
       "      <td>176.992886</td>\n",
       "      <td>NaN</td>\n",
       "      <td>Higher</td>\n",
       "      <td>6597</td>\n",
       "      <td>543.0</td>\n",
       "      <td>67.0</td>\n",
       "      <td>0.123389</td>\n",
       "      <td>Higher</td>\n",
       "      <td>21023.436204</td>\n",
       "      <td>2021-07-22</td>\n",
       "      <td>2021-07-04</td>\n",
       "      <td>2021-07-17</td>\n",
       "    </tr>\n",
       "    <tr>\n",
       "      <th>11184</th>\n",
       "      <td>Provincetown</td>\n",
       "      <td>Barnstable</td>\n",
       "      <td>2582.83182</td>\n",
       "      <td>270</td>\n",
       "      <td>165</td>\n",
       "      <td>456.309783</td>\n",
       "      <td>NaN</td>\n",
       "      <td>Higher</td>\n",
       "      <td>7702</td>\n",
       "      <td>1694.0</td>\n",
       "      <td>188.0</td>\n",
       "      <td>0.11098</td>\n",
       "      <td>Lower</td>\n",
       "      <td>65586.926204</td>\n",
       "      <td>2021-07-29</td>\n",
       "      <td>2021-07-11</td>\n",
       "      <td>2021-07-24</td>\n",
       "    </tr>\n",
       "  </tbody>\n",
       "</table>\n",
       "</div>"
      ],
      "text/plain": [
       "          City/Town      County  Population Total Case Counts  \\\n",
       "242    Provincetown  Barnstable  2582.83182                40   \n",
       "595    Provincetown  Barnstable  2582.83182                43   \n",
       "948    Provincetown  Barnstable  2582.83182                47   \n",
       "1301   Provincetown  Barnstable  2582.83182                51   \n",
       "1654   Provincetown  Barnstable  2582.83182                55   \n",
       "2007   Provincetown  Barnstable  2582.83182                57   \n",
       "2360   Provincetown  Barnstable  2582.83182                59   \n",
       "2713   Provincetown  Barnstable  2582.83182                60   \n",
       "3066   Provincetown  Barnstable  2582.83182                60   \n",
       "3419   Provincetown  Barnstable  2582.83182                61   \n",
       "3772   Provincetown  Barnstable  2582.83182                62   \n",
       "4125   Provincetown  Barnstable  2582.83182                65   \n",
       "4478   Provincetown  Barnstable  2582.83182                69   \n",
       "4831   Provincetown  Barnstable  2582.83182                71   \n",
       "5184   Provincetown  Barnstable  2582.83182                71   \n",
       "5537   Provincetown  Barnstable  2582.83182                72   \n",
       "5890   Provincetown  Barnstable  2582.83182                76   \n",
       "6243   Provincetown  Barnstable  2582.83182                76   \n",
       "6596   Provincetown  Barnstable  2582.83182                76   \n",
       "6949   Provincetown  Barnstable  2582.83182                81   \n",
       "7302   Provincetown  Barnstable  2582.83182                82   \n",
       "7655   Provincetown  Barnstable  2582.83182                82   \n",
       "8008   Provincetown  Barnstable  2582.83182                82   \n",
       "8361   Provincetown  Barnstable  2582.83182                82   \n",
       "8714   Provincetown  Barnstable  2582.83182                82   \n",
       "9067   Provincetown  Barnstable  2582.83182                82   \n",
       "9420   Provincetown  Barnstable  2582.83182                82   \n",
       "9772   Provincetown  Barnstable  2582.83182                82   \n",
       "10125  Provincetown  Barnstable  2582.83182                82   \n",
       "10478  Provincetown  Barnstable  2582.83182                88   \n",
       "10831  Provincetown  Barnstable  2582.83182               185   \n",
       "11184  Provincetown  Barnstable  2582.83182               270   \n",
       "\n",
       "      Two Week Case Counts Average Daily Rate Color Change in Last Week  \\\n",
       "242                      5          13.827569  Grey              Higher   \n",
       "595                      6          16.593083  Grey           No Change   \n",
       "948                      6          16.593083  Grey           No Change   \n",
       "1301                     9          24.889625  Grey              Higher   \n",
       "1654                     8          22.124111  Grey               Lower   \n",
       "2007                     6          16.593083  Grey               Lower   \n",
       "2360                    <5          11.062055  Grey               Lower   \n",
       "2713                    <5           8.296542  Grey               Lower   \n",
       "3066                     2           5.531028  Grey               Lower   \n",
       "3419                     0                  0  Grey               Lower   \n",
       "3772                    <5           5.531028  Grey              Higher   \n",
       "4125                     5          13.827569  Grey              Higher   \n",
       "4478                     7          19.358597  Grey              Higher   \n",
       "4831                     5          13.827569  Grey               Lower   \n",
       "5184                    <5           5.531028  Grey               Lower   \n",
       "5537                     0                  0  Grey               Lower   \n",
       "5890                    <5           2.765514  Grey              Higher   \n",
       "6243                     5          13.827569  Grey              Higher   \n",
       "6596                    <5          11.062055  Grey               Lower   \n",
       "6949                     5          13.827569  Grey              Higher   \n",
       "7302                     6          16.593083  Grey              Higher   \n",
       "7655                    <5           2.765514  Grey               Lower   \n",
       "8008                     0                  0  Grey               Lower   \n",
       "8361                     0                  0  Grey           No Change   \n",
       "8714                     0                  0  Grey           No Change   \n",
       "9067                     0                  0  Grey           No Change   \n",
       "9420                     0                  0  Grey           No Change   \n",
       "9772                     0                  0   NaN           No Change   \n",
       "10125                    0                  0   NaN           No Change   \n",
       "10478                    5          13.827569   NaN              Higher   \n",
       "10831                   64         176.992886   NaN              Higher   \n",
       "11184                  165         456.309783   NaN              Higher   \n",
       "\n",
       "       Total Tests  Total Tests Last Two Weeks  Total Positive Tests  \\\n",
       "242           2934                       297.0                   6.0   \n",
       "595           3085                       269.0                   6.0   \n",
       "948           3169                       231.0                   7.0   \n",
       "1301          3342                       242.0                  10.0   \n",
       "1654          3437                       258.0                   9.0   \n",
       "2007          3569                       253.0                   7.0   \n",
       "2360          3738                       259.0                   4.0   \n",
       "2713          3868                       278.0                   4.0   \n",
       "3066          3975                       251.0                   4.0   \n",
       "3419          4112                       233.0                   1.0   \n",
       "3772          4260                       256.0                   3.0   \n",
       "4125          4341                       256.0                   7.0   \n",
       "4478          4484                       223.0                   8.0   \n",
       "4831          4587                       218.0                   6.0   \n",
       "5184          4670                       194.0                   3.0   \n",
       "5537          4807                       187.0                   0.0   \n",
       "5890          4909                       216.0                   1.0   \n",
       "6243          5015                       209.0                   5.0   \n",
       "6596          5120                       211.0                   4.0   \n",
       "6949          5171                       215.0                   5.0   \n",
       "7302          5280                       212.0                   6.0   \n",
       "7655          5345                       164.0                   1.0   \n",
       "8008          5397                       114.0                   0.0   \n",
       "8361          5434                        94.0                   0.0   \n",
       "8714          5479                        86.0                   0.0   \n",
       "9067          5528                        90.0                   0.0   \n",
       "9420          5579                        96.0                   0.0   \n",
       "9772          5626                        99.0                   0.0   \n",
       "10125         5664                        85.0                   0.0   \n",
       "10478         5709                        94.0                   5.0   \n",
       "10831         6597                       543.0                  67.0   \n",
       "11184         7702                      1694.0                 188.0   \n",
       "\n",
       "      Percent Positivity Change Since Last Week  Testing Rate Report Date  \\\n",
       "242             0.020202                 Higher  11499.006542  2020-12-24   \n",
       "595             0.022305              No Change  10414.925117  2020-12-31   \n",
       "948             0.030303                 Higher   8943.671755  2021-01-07   \n",
       "1301            0.041322                 Higher   9369.560886  2021-01-14   \n",
       "1654            0.034884                  Lower   9989.035986  2021-01-21   \n",
       "2007            0.027668                  Lower   9795.450018  2021-01-28   \n",
       "2360            0.015444                  Lower   10027.75318  2021-02-04   \n",
       "2713            0.014388              No Change  10763.379861  2021-02-11   \n",
       "3066            0.015936                 Higher    9718.01563  2021-02-18   \n",
       "3419            0.004292                  Lower   9021.106143  2021-02-25   \n",
       "3772            0.011719                 Higher   9911.601599  2021-03-04   \n",
       "4125            0.027344                 Higher   9911.601599  2021-03-11   \n",
       "4478            0.035874                 Higher   8633.934205  2021-03-18   \n",
       "4831            0.027523                  Lower   8440.348236  2021-03-25   \n",
       "5184            0.015464                  Lower   7511.135587  2021-04-01   \n",
       "5537                   0                  Lower    7240.11523  2021-04-08   \n",
       "5890             0.00463                 Higher   8362.913849  2021-04-15   \n",
       "6243            0.023923                 Higher   8091.893493  2021-04-22   \n",
       "6596            0.018957                  Lower    8169.32788  2021-04-29   \n",
       "6949            0.023256                 Higher   8324.196655  2021-05-06   \n",
       "7302            0.028302                 Higher   8208.045074  2021-05-13   \n",
       "7655            0.006098                 Lower    6349.619774  2021-05-20   \n",
       "8008                   0                 Lower    4413.760087  2021-05-27   \n",
       "8361                   0              No Change   3639.416212  2021-06-03   \n",
       "8714                   0              No Change   3329.678662  2021-06-10   \n",
       "9067                   0              No Change   3484.547437  2021-06-17   \n",
       "9420                   0              No Change     3716.8506  2021-06-24   \n",
       "9772                   0              No Change   3833.002181  2021-07-01   \n",
       "10125                  0              No Change   3290.961468  2021-07-08   \n",
       "10478           0.053191                 Higher   3639.416212  2021-07-15   \n",
       "10831           0.123389                 Higher  21023.436204  2021-07-22   \n",
       "11184            0.11098                  Lower  65586.926204  2021-07-29   \n",
       "\n",
       "      Start_Date   End_Date  \n",
       "242   2020-12-06 2020-12-19  \n",
       "595   2020-12-13 2020-12-26  \n",
       "948   2020-12-20 2021-01-02  \n",
       "1301  2020-12-27 2021-01-09  \n",
       "1654  2021-01-03 2021-01-16  \n",
       "2007  2021-01-10 2021-01-23  \n",
       "2360  2021-01-17 2021-01-30  \n",
       "2713  2021-01-24 2021-02-06  \n",
       "3066  2021-01-31 2021-02-13  \n",
       "3419  2021-02-07 2021-02-20  \n",
       "3772  2021-02-14 2021-02-27  \n",
       "4125  2021-02-21 2021-03-06  \n",
       "4478  2021-02-28 2021-03-13  \n",
       "4831  2021-03-07 2021-03-20  \n",
       "5184  2021-03-14 2021-03-27  \n",
       "5537  2021-03-21 2021-04-03  \n",
       "5890  2021-03-28 2021-04-10  \n",
       "6243  2021-04-04 2021-04-17  \n",
       "6596  2021-04-11 2021-04-24  \n",
       "6949  2021-04-18 2021-05-01  \n",
       "7302  2021-04-25 2021-05-08  \n",
       "7655  2021-05-02 2021-05-15  \n",
       "8008  2021-05-09 2021-05-22  \n",
       "8361  2021-05-16 2021-05-29  \n",
       "8714  2021-05-23 2021-06-05  \n",
       "9067  2021-05-30 2021-06-12  \n",
       "9420  2021-06-06 2021-06-19  \n",
       "9772  2021-06-13 2021-06-26  \n",
       "10125 2021-06-20 2021-07-03  \n",
       "10478 2021-06-27 2021-07-10  \n",
       "10831 2021-07-04 2021-07-17  \n",
       "11184 2021-07-11 2021-07-24  "
      ]
     },
     "execution_count": 326,
     "metadata": {},
     "output_type": "execute_result"
    }
   ],
   "source": [
    "ProvinceTown"
   ]
  },
  {
   "cell_type": "code",
   "execution_count": 367,
   "id": "ba51b612",
   "metadata": {},
   "outputs": [],
   "source": [
    "province_df = pd.DataFrame(ProvinceTown[['Report Date', 'Total Case Counts']])"
   ]
  },
  {
   "cell_type": "code",
   "execution_count": 368,
   "id": "50cebeec",
   "metadata": {},
   "outputs": [],
   "source": [
    "import seaborn as sns\n",
    "\n",
    "province_df.set_index('Report Date', drop=True, inplace=True)"
   ]
  },
  {
   "cell_type": "code",
   "execution_count": 508,
   "id": "79209060",
   "metadata": {},
   "outputs": [],
   "source": [
    "Barnstable = Mass_updated_weekly[Mass_updated_weekly['County']=='Barnstable']\n",
    "\n",
    "Barnstable_df = pd.DataFrame(Barnstable[['Report Date', 'Total Case Counts', 'City/Town', 'Population']])\n",
    "Barnstable_df.set_index('Report Date', drop=True, inplace=True)\n",
    "Barnstable_df['Total Case Counts'] = Barnstable_df['Total Case Counts'].astype('int32')"
   ]
  },
  {
   "cell_type": "code",
   "execution_count": 375,
   "id": "4c97ea26",
   "metadata": {},
   "outputs": [],
   "source": [
    "province_df['Total Case Counts'] = province_df['Total Case Counts'].astype('int32')"
   ]
  },
  {
   "cell_type": "code",
   "execution_count": 423,
   "id": "4ccb705f",
   "metadata": {},
   "outputs": [
    {
     "data": {
      "text/plain": [
       "<AxesSubplot:>"
      ]
     },
     "execution_count": 423,
     "metadata": {},
     "output_type": "execute_result"
    },
    {
     "data": {
      "image/png": "[encoded data removed]",
      "text/plain": [
       "<Figure size 432x288 with 1 Axes>"
      ]
     },
     "metadata": {
      "needs_background": "light"
     },
     "output_type": "display_data"
    }
   ],
   "source": [
    "Barnstable_df[['City/Town', 'Population']].sort_values('Population', ascending=False)"
   ]
  },
  {
   "cell_type": "code",
   "execution_count": 434,
   "id": "2a3b6146",
   "metadata": {},
   "outputs": [
    {
     "data": {
      "text/plain": [
       "<AxesSubplot:xlabel='City/Town', ylabel='Population'>"
      ]
     },
     "execution_count": 434,
     "metadata": {},
     "output_type": "execute_result"
    },
    {
     "data": {
      "image/png": "[encoded data removed]",
      "text/plain": [
       "<Figure size 1152x648 with 1 Axes>"
      ]
     },
     "metadata": {
      "needs_background": "light"
     },
     "output_type": "display_data"
    }
   ],
   "source": [
    "plt.figure(figsize=(16,9))\n",
    "sns.barplot(data=Barnstable_df, x='City/Town', y='Population')"
   ]
  },
  {
   "cell_type": "code",
   "execution_count": 440,
   "id": "61504279",
   "metadata": {},
   "outputs": [
    {
     "ename": "KeyError",
     "evalue": "\"None of [Float64Index([  44772.5204478296,   21025.5302833235,   9926.46739931273,\\n                5829.53447903184,   13087.7126354983,   4602.61502950431,\\n                31190.3374670891,   12588.6400801333,   15535.1939863677,\\n                5620.27871863707,\\n              ...\\n                4602.61502950431,   31190.3374670891,   12588.6400801333,\\n                15535.1939863677,   5620.27871863707,   2582.83182035878,\\n                21077.9581513104,   1968.13052799018,   2759.83426324726,\\n              24061.696973528105],\\n             dtype='float64', name='Report Date', length=480)] are in the [index]\"",
     "output_type": "error",
     "traceback": [
      "\u001b[1;31m---------------------------------------------------------------------------\u001b[0m",
      "\u001b[1;31mKeyError\u001b[0m                                  Traceback (most recent call last)",
      "\u001b[1;32m<ipython-input-440-5a721d143b75>\u001b[0m in \u001b[0;36m<module>\u001b[1;34m\u001b[0m\n\u001b[1;32m----> 1\u001b[1;33m \u001b[0mBarnstable_df\u001b[0m\u001b[1;33m.\u001b[0m\u001b[0mloc\u001b[0m\u001b[1;33m[\u001b[0m\u001b[0mBarnstable_df\u001b[0m\u001b[1;33m[\u001b[0m\u001b[1;34m'Population'\u001b[0m\u001b[1;33m]\u001b[0m\u001b[1;33m,\u001b[0m \u001b[0mBarnstable_df\u001b[0m\u001b[1;33m[\u001b[0m\u001b[1;34m'City/Town'\u001b[0m\u001b[1;33m]\u001b[0m\u001b[1;33m]\u001b[0m\u001b[1;33m\u001b[0m\u001b[1;33m\u001b[0m\u001b[0m\n\u001b[0m",
      "\u001b[1;32m~\\anaconda3\\lib\\site-packages\\pandas\\core\\indexing.py\u001b[0m in \u001b[0;36m__getitem__\u001b[1;34m(self, key)\u001b[0m\n\u001b[0;32m    887\u001b[0m                     \u001b[1;31m# AttributeError for IntervalTree get_value\u001b[0m\u001b[1;33m\u001b[0m\u001b[1;33m\u001b[0m\u001b[1;33m\u001b[0m\u001b[0m\n\u001b[0;32m    888\u001b[0m                     \u001b[1;32mreturn\u001b[0m \u001b[0mself\u001b[0m\u001b[1;33m.\u001b[0m\u001b[0mobj\u001b[0m\u001b[1;33m.\u001b[0m\u001b[0m_get_value\u001b[0m\u001b[1;33m(\u001b[0m\u001b[1;33m*\u001b[0m\u001b[0mkey\u001b[0m\u001b[1;33m,\u001b[0m \u001b[0mtakeable\u001b[0m\u001b[1;33m=\u001b[0m\u001b[0mself\u001b[0m\u001b[1;33m.\u001b[0m\u001b[0m_takeable\u001b[0m\u001b[1;33m)\u001b[0m\u001b[1;33m\u001b[0m\u001b[1;33m\u001b[0m\u001b[0m\n\u001b[1;32m--> 889\u001b[1;33m             \u001b[1;32mreturn\u001b[0m \u001b[0mself\u001b[0m\u001b[1;33m.\u001b[0m\u001b[0m_getitem_tuple\u001b[0m\u001b[1;33m(\u001b[0m\u001b[0mkey\u001b[0m\u001b[1;33m)\u001b[0m\u001b[1;33m\u001b[0m\u001b[1;33m\u001b[0m\u001b[0m\n\u001b[0m\u001b[0;32m    890\u001b[0m         \u001b[1;32melse\u001b[0m\u001b[1;33m:\u001b[0m\u001b[1;33m\u001b[0m\u001b[1;33m\u001b[0m\u001b[0m\n\u001b[0;32m    891\u001b[0m             \u001b[1;31m# we by definition only have the 0th axis\u001b[0m\u001b[1;33m\u001b[0m\u001b[1;33m\u001b[0m\u001b[1;33m\u001b[0m\u001b[0m\n",
      "\u001b[1;32m~\\anaconda3\\lib\\site-packages\\pandas\\core\\indexing.py\u001b[0m in \u001b[0;36m_getitem_tuple\u001b[1;34m(self, tup)\u001b[0m\n\u001b[0;32m   1065\u001b[0m         \u001b[1;31m# ugly hack for GH #836\u001b[0m\u001b[1;33m\u001b[0m\u001b[1;33m\u001b[0m\u001b[1;33m\u001b[0m\u001b[0m\n\u001b[0;32m   1066\u001b[0m         \u001b[1;32mif\u001b[0m \u001b[0mself\u001b[0m\u001b[1;33m.\u001b[0m\u001b[0m_multi_take_opportunity\u001b[0m\u001b[1;33m(\u001b[0m\u001b[0mtup\u001b[0m\u001b[1;33m)\u001b[0m\u001b[1;33m:\u001b[0m\u001b[1;33m\u001b[0m\u001b[1;33m\u001b[0m\u001b[0m\n\u001b[1;32m-> 1067\u001b[1;33m             \u001b[1;32mreturn\u001b[0m \u001b[0mself\u001b[0m\u001b[1;33m.\u001b[0m\u001b[0m_multi_take\u001b[0m\u001b[1;33m(\u001b[0m\u001b[0mtup\u001b[0m\u001b[1;33m)\u001b[0m\u001b[1;33m\u001b[0m\u001b[1;33m\u001b[0m\u001b[0m\n\u001b[0m\u001b[0;32m   1068\u001b[0m \u001b[1;33m\u001b[0m\u001b[0m\n\u001b[0;32m   1069\u001b[0m         \u001b[1;32mreturn\u001b[0m \u001b[0mself\u001b[0m\u001b[1;33m.\u001b[0m\u001b[0m_getitem_tuple_same_dim\u001b[0m\u001b[1;33m(\u001b[0m\u001b[0mtup\u001b[0m\u001b[1;33m)\u001b[0m\u001b[1;33m\u001b[0m\u001b[1;33m\u001b[0m\u001b[0m\n",
      "\u001b[1;32m~\\anaconda3\\lib\\site-packages\\pandas\\core\\indexing.py\u001b[0m in \u001b[0;36m_multi_take\u001b[1;34m(self, tup)\u001b[0m\n\u001b[0;32m   1017\u001b[0m         \"\"\"\n\u001b[0;32m   1018\u001b[0m         \u001b[1;31m# GH 836\u001b[0m\u001b[1;33m\u001b[0m\u001b[1;33m\u001b[0m\u001b[1;33m\u001b[0m\u001b[0m\n\u001b[1;32m-> 1019\u001b[1;33m         d = {\n\u001b[0m\u001b[0;32m   1020\u001b[0m             \u001b[0maxis\u001b[0m\u001b[1;33m:\u001b[0m \u001b[0mself\u001b[0m\u001b[1;33m.\u001b[0m\u001b[0m_get_listlike_indexer\u001b[0m\u001b[1;33m(\u001b[0m\u001b[0mkey\u001b[0m\u001b[1;33m,\u001b[0m \u001b[0maxis\u001b[0m\u001b[1;33m)\u001b[0m\u001b[1;33m\u001b[0m\u001b[1;33m\u001b[0m\u001b[0m\n\u001b[0;32m   1021\u001b[0m             \u001b[1;32mfor\u001b[0m \u001b[1;33m(\u001b[0m\u001b[0mkey\u001b[0m\u001b[1;33m,\u001b[0m \u001b[0maxis\u001b[0m\u001b[1;33m)\u001b[0m \u001b[1;32min\u001b[0m \u001b[0mzip\u001b[0m\u001b[1;33m(\u001b[0m\u001b[0mtup\u001b[0m\u001b[1;33m,\u001b[0m \u001b[0mself\u001b[0m\u001b[1;33m.\u001b[0m\u001b[0mobj\u001b[0m\u001b[1;33m.\u001b[0m\u001b[0m_AXIS_ORDERS\u001b[0m\u001b[1;33m)\u001b[0m\u001b[1;33m\u001b[0m\u001b[1;33m\u001b[0m\u001b[0m\n",
      "\u001b[1;32m~\\anaconda3\\lib\\site-packages\\pandas\\core\\indexing.py\u001b[0m in \u001b[0;36m<dictcomp>\u001b[1;34m(.0)\u001b[0m\n\u001b[0;32m   1018\u001b[0m         \u001b[1;31m# GH 836\u001b[0m\u001b[1;33m\u001b[0m\u001b[1;33m\u001b[0m\u001b[1;33m\u001b[0m\u001b[0m\n\u001b[0;32m   1019\u001b[0m         d = {\n\u001b[1;32m-> 1020\u001b[1;33m             \u001b[0maxis\u001b[0m\u001b[1;33m:\u001b[0m \u001b[0mself\u001b[0m\u001b[1;33m.\u001b[0m\u001b[0m_get_listlike_indexer\u001b[0m\u001b[1;33m(\u001b[0m\u001b[0mkey\u001b[0m\u001b[1;33m,\u001b[0m \u001b[0maxis\u001b[0m\u001b[1;33m)\u001b[0m\u001b[1;33m\u001b[0m\u001b[1;33m\u001b[0m\u001b[0m\n\u001b[0m\u001b[0;32m   1021\u001b[0m             \u001b[1;32mfor\u001b[0m \u001b[1;33m(\u001b[0m\u001b[0mkey\u001b[0m\u001b[1;33m,\u001b[0m \u001b[0maxis\u001b[0m\u001b[1;33m)\u001b[0m \u001b[1;32min\u001b[0m \u001b[0mzip\u001b[0m\u001b[1;33m(\u001b[0m\u001b[0mtup\u001b[0m\u001b[1;33m,\u001b[0m \u001b[0mself\u001b[0m\u001b[1;33m.\u001b[0m\u001b[0mobj\u001b[0m\u001b[1;33m.\u001b[0m\u001b[0m_AXIS_ORDERS\u001b[0m\u001b[1;33m)\u001b[0m\u001b[1;33m\u001b[0m\u001b[1;33m\u001b[0m\u001b[0m\n\u001b[0;32m   1022\u001b[0m         }\n",
      "\u001b[1;32m~\\anaconda3\\lib\\site-packages\\pandas\\core\\indexing.py\u001b[0m in \u001b[0;36m_get_listlike_indexer\u001b[1;34m(self, key, axis, raise_missing)\u001b[0m\n\u001b[0;32m   1264\u001b[0m             \u001b[0mkeyarr\u001b[0m\u001b[1;33m,\u001b[0m \u001b[0mindexer\u001b[0m\u001b[1;33m,\u001b[0m \u001b[0mnew_indexer\u001b[0m \u001b[1;33m=\u001b[0m \u001b[0max\u001b[0m\u001b[1;33m.\u001b[0m\u001b[0m_reindex_non_unique\u001b[0m\u001b[1;33m(\u001b[0m\u001b[0mkeyarr\u001b[0m\u001b[1;33m)\u001b[0m\u001b[1;33m\u001b[0m\u001b[1;33m\u001b[0m\u001b[0m\n\u001b[0;32m   1265\u001b[0m \u001b[1;33m\u001b[0m\u001b[0m\n\u001b[1;32m-> 1266\u001b[1;33m         \u001b[0mself\u001b[0m\u001b[1;33m.\u001b[0m\u001b[0m_validate_read_indexer\u001b[0m\u001b[1;33m(\u001b[0m\u001b[0mkeyarr\u001b[0m\u001b[1;33m,\u001b[0m \u001b[0mindexer\u001b[0m\u001b[1;33m,\u001b[0m \u001b[0maxis\u001b[0m\u001b[1;33m,\u001b[0m \u001b[0mraise_missing\u001b[0m\u001b[1;33m=\u001b[0m\u001b[0mraise_missing\u001b[0m\u001b[1;33m)\u001b[0m\u001b[1;33m\u001b[0m\u001b[1;33m\u001b[0m\u001b[0m\n\u001b[0m\u001b[0;32m   1267\u001b[0m         \u001b[1;32mreturn\u001b[0m \u001b[0mkeyarr\u001b[0m\u001b[1;33m,\u001b[0m \u001b[0mindexer\u001b[0m\u001b[1;33m\u001b[0m\u001b[1;33m\u001b[0m\u001b[0m\n\u001b[0;32m   1268\u001b[0m \u001b[1;33m\u001b[0m\u001b[0m\n",
      "\u001b[1;32m~\\anaconda3\\lib\\site-packages\\pandas\\core\\indexing.py\u001b[0m in \u001b[0;36m_validate_read_indexer\u001b[1;34m(self, key, indexer, axis, raise_missing)\u001b[0m\n\u001b[0;32m   1306\u001b[0m             \u001b[1;32mif\u001b[0m \u001b[0mmissing\u001b[0m \u001b[1;33m==\u001b[0m \u001b[0mlen\u001b[0m\u001b[1;33m(\u001b[0m\u001b[0mindexer\u001b[0m\u001b[1;33m)\u001b[0m\u001b[1;33m:\u001b[0m\u001b[1;33m\u001b[0m\u001b[1;33m\u001b[0m\u001b[0m\n\u001b[0;32m   1307\u001b[0m                 \u001b[0maxis_name\u001b[0m \u001b[1;33m=\u001b[0m \u001b[0mself\u001b[0m\u001b[1;33m.\u001b[0m\u001b[0mobj\u001b[0m\u001b[1;33m.\u001b[0m\u001b[0m_get_axis_name\u001b[0m\u001b[1;33m(\u001b[0m\u001b[0maxis\u001b[0m\u001b[1;33m)\u001b[0m\u001b[1;33m\u001b[0m\u001b[1;33m\u001b[0m\u001b[0m\n\u001b[1;32m-> 1308\u001b[1;33m                 \u001b[1;32mraise\u001b[0m \u001b[0mKeyError\u001b[0m\u001b[1;33m(\u001b[0m\u001b[1;34mf\"None of [{key}] are in the [{axis_name}]\"\u001b[0m\u001b[1;33m)\u001b[0m\u001b[1;33m\u001b[0m\u001b[1;33m\u001b[0m\u001b[0m\n\u001b[0m\u001b[0;32m   1309\u001b[0m \u001b[1;33m\u001b[0m\u001b[0m\n\u001b[0;32m   1310\u001b[0m             \u001b[0max\u001b[0m \u001b[1;33m=\u001b[0m \u001b[0mself\u001b[0m\u001b[1;33m.\u001b[0m\u001b[0mobj\u001b[0m\u001b[1;33m.\u001b[0m\u001b[0m_get_axis\u001b[0m\u001b[1;33m(\u001b[0m\u001b[0maxis\u001b[0m\u001b[1;33m)\u001b[0m\u001b[1;33m\u001b[0m\u001b[1;33m\u001b[0m\u001b[0m\n",
      "\u001b[1;31mKeyError\u001b[0m: \"None of [Float64Index([  44772.5204478296,   21025.5302833235,   9926.46739931273,\\n                5829.53447903184,   13087.7126354983,   4602.61502950431,\\n                31190.3374670891,   12588.6400801333,   15535.1939863677,\\n                5620.27871863707,\\n              ...\\n                4602.61502950431,   31190.3374670891,   12588.6400801333,\\n                15535.1939863677,   5620.27871863707,   2582.83182035878,\\n                21077.9581513104,   1968.13052799018,   2759.83426324726,\\n              24061.696973528105],\\n             dtype='float64', name='Report Date', length=480)] are in the [index]\""
     ]
    }
   ],
   "source": [
    "Barnstable_df.loc[Barnstable_df['Population'], Barnstable_df['City/Town']]"
   ]
  },
  {
   "cell_type": "code",
   "execution_count": 509,
   "id": "4d25de2a",
   "metadata": {},
   "outputs": [
    {
     "data": {
      "text/html": [
       "<div>\n",
       "<style scoped>\n",
       "    .dataframe tbody tr th:only-of-type {\n",
       "        vertical-align: middle;\n",
       "    }\n",
       "\n",
       "    .dataframe tbody tr th {\n",
       "        vertical-align: top;\n",
       "    }\n",
       "\n",
       "    .dataframe thead th {\n",
       "        text-align: right;\n",
       "    }\n",
       "</style>\n",
       "<table border=\"1\" class=\"dataframe\">\n",
       "  <thead>\n",
       "    <tr style=\"text-align: right;\">\n",
       "      <th></th>\n",
       "      <th>Total Case Counts</th>\n",
       "      <th>City/Town</th>\n",
       "      <th>Population</th>\n",
       "    </tr>\n",
       "    <tr>\n",
       "      <th>Report Date</th>\n",
       "      <th></th>\n",
       "      <th></th>\n",
       "      <th></th>\n",
       "    </tr>\n",
       "  </thead>\n",
       "  <tbody>\n",
       "    <tr>\n",
       "      <th>2020-12-24</th>\n",
       "      <td>1531</td>\n",
       "      <td>Barnstable</td>\n",
       "      <td>44772.520448</td>\n",
       "    </tr>\n",
       "    <tr>\n",
       "      <th>2020-12-24</th>\n",
       "      <td>493</td>\n",
       "      <td>Bourne</td>\n",
       "      <td>21025.530283</td>\n",
       "    </tr>\n",
       "    <tr>\n",
       "      <th>2020-12-24</th>\n",
       "      <td>187</td>\n",
       "      <td>Brewster</td>\n",
       "      <td>9926.467399</td>\n",
       "    </tr>\n",
       "    <tr>\n",
       "      <th>2020-12-24</th>\n",
       "      <td>76</td>\n",
       "      <td>Chatham</td>\n",
       "      <td>5829.534479</td>\n",
       "    </tr>\n",
       "    <tr>\n",
       "      <th>2020-12-24</th>\n",
       "      <td>248</td>\n",
       "      <td>Dennis</td>\n",
       "      <td>13087.712635</td>\n",
       "    </tr>\n",
       "    <tr>\n",
       "      <th>...</th>\n",
       "      <td>...</td>\n",
       "      <td>...</td>\n",
       "      <td>...</td>\n",
       "    </tr>\n",
       "    <tr>\n",
       "      <th>2021-07-29</th>\n",
       "      <td>270</td>\n",
       "      <td>Provincetown</td>\n",
       "      <td>2582.83182</td>\n",
       "    </tr>\n",
       "    <tr>\n",
       "      <th>2021-07-29</th>\n",
       "      <td>1234</td>\n",
       "      <td>Sandwich</td>\n",
       "      <td>21077.958151</td>\n",
       "    </tr>\n",
       "    <tr>\n",
       "      <th>2021-07-29</th>\n",
       "      <td>80</td>\n",
       "      <td>Truro</td>\n",
       "      <td>1968.130528</td>\n",
       "    </tr>\n",
       "    <tr>\n",
       "      <th>2021-07-29</th>\n",
       "      <td>88</td>\n",
       "      <td>Wellfleet</td>\n",
       "      <td>2759.834263</td>\n",
       "    </tr>\n",
       "    <tr>\n",
       "      <th>2021-07-29</th>\n",
       "      <td>1677</td>\n",
       "      <td>Yarmouth</td>\n",
       "      <td>24061.696974</td>\n",
       "    </tr>\n",
       "  </tbody>\n",
       "</table>\n",
       "<p>480 rows × 3 columns</p>\n",
       "</div>"
      ],
      "text/plain": [
       "             Total Case Counts     City/Town    Population\n",
       "Report Date                                               \n",
       "2020-12-24                1531    Barnstable  44772.520448\n",
       "2020-12-24                 493        Bourne  21025.530283\n",
       "2020-12-24                 187      Brewster   9926.467399\n",
       "2020-12-24                  76       Chatham   5829.534479\n",
       "2020-12-24                 248        Dennis  13087.712635\n",
       "...                        ...           ...           ...\n",
       "2021-07-29                 270  Provincetown    2582.83182\n",
       "2021-07-29                1234      Sandwich  21077.958151\n",
       "2021-07-29                  80         Truro   1968.130528\n",
       "2021-07-29                  88     Wellfleet   2759.834263\n",
       "2021-07-29                1677      Yarmouth  24061.696974\n",
       "\n",
       "[480 rows x 3 columns]"
      ]
     },
     "execution_count": 509,
     "metadata": {},
     "output_type": "execute_result"
    }
   ],
   "source": [
    "Barnstable_df"
   ]
  },
  {
   "cell_type": "code",
   "execution_count": 402,
   "id": "b01ad790",
   "metadata": {},
   "outputs": [],
   "source": [
    "all_but_provincetown = Barnstable_df[~(Barnstable_df['City/Town']=='Provincetown')]\n",
    "province = Barnstable_df[Barnstable_df['City/Town']=='Provincetown']"
   ]
  },
  {
   "cell_type": "code",
   "execution_count": 410,
   "id": "e771e891",
   "metadata": {},
   "outputs": [
    {
     "name": "stderr",
     "output_type": "stream",
     "text": [
      "No handles with labels found to put in legend.\n"
     ]
    },
    {
     "data": {
      "text/plain": [
       "<matplotlib.legend.Legend at 0x19bbcb5d100>"
      ]
     },
     "execution_count": 410,
     "metadata": {},
     "output_type": "execute_result"
    },
    {
     "data": {
      "image/png": "[encoded data removed]",
      "text/plain": [
       "<Figure size 1152x648 with 1 Axes>"
      ]
     },
     "metadata": {
      "needs_background": "light"
     },
     "output_type": "display_data"
    }
   ],
   "source": [
    "#sns.lineplot(data=df)\n",
    "plt.figure(figsize=(16,9))\n",
    "#sns.lineplot(data=all_but_provincetown, x=all_but_provincetown.index, y='Total Case Counts', hue='City/Town')\n",
    "sns.lineplot(data=province, x=province.index, \n",
    "            y='Total Case Counts')\n",
    "plt.legend()"
   ]
  },
  {
   "cell_type": "code",
   "execution_count": 408,
   "id": "7f41e29e",
   "metadata": {},
   "outputs": [
    {
     "data": {
      "text/plain": [
       "<AxesSubplot:xlabel='Report Date', ylabel='Total Case Counts'>"
      ]
     },
     "execution_count": 408,
     "metadata": {},
     "output_type": "execute_result"
    },
    {
     "data": {
      "image/png": "[encoded data removed]",
      "text/plain": [
       "<Figure size 432x288 with 1 Axes>"
      ]
     },
     "metadata": {
      "needs_background": "light"
     },
     "output_type": "display_data"
    }
   ],
   "source": [
    "sns.lineplot(data=province, x=province.index, y='Total Case Counts')"
   ]
  },
  {
   "cell_type": "code",
   "execution_count": 366,
   "id": "90763dbb",
   "metadata": {},
   "outputs": [
    {
     "data": {
      "text/html": [
       "<div>\n",
       "<style scoped>\n",
       "    .dataframe tbody tr th:only-of-type {\n",
       "        vertical-align: middle;\n",
       "    }\n",
       "\n",
       "    .dataframe tbody tr th {\n",
       "        vertical-align: top;\n",
       "    }\n",
       "\n",
       "    .dataframe thead th {\n",
       "        text-align: right;\n",
       "    }\n",
       "</style>\n",
       "<table border=\"1\" class=\"dataframe\">\n",
       "  <thead>\n",
       "    <tr style=\"text-align: right;\">\n",
       "      <th></th>\n",
       "      <th>Total Case Counts</th>\n",
       "    </tr>\n",
       "    <tr>\n",
       "      <th>Report Date</th>\n",
       "      <th></th>\n",
       "    </tr>\n",
       "  </thead>\n",
       "  <tbody>\n",
       "    <tr>\n",
       "      <th>2021-07-01</th>\n",
       "      <td>82</td>\n",
       "    </tr>\n",
       "    <tr>\n",
       "      <th>2021-07-08</th>\n",
       "      <td>82</td>\n",
       "    </tr>\n",
       "    <tr>\n",
       "      <th>2021-07-15</th>\n",
       "      <td>88</td>\n",
       "    </tr>\n",
       "    <tr>\n",
       "      <th>2021-07-22</th>\n",
       "      <td>185</td>\n",
       "    </tr>\n",
       "    <tr>\n",
       "      <th>2021-07-29</th>\n",
       "      <td>270</td>\n",
       "    </tr>\n",
       "  </tbody>\n",
       "</table>\n",
       "</div>"
      ],
      "text/plain": [
       "             Total Case Counts\n",
       "Report Date                   \n",
       "2021-07-01                  82\n",
       "2021-07-08                  82\n",
       "2021-07-15                  88\n",
       "2021-07-22                 185\n",
       "2021-07-29                 270"
      ]
     },
     "execution_count": 366,
     "metadata": {},
     "output_type": "execute_result"
    }
   ],
   "source": [
    "df.tail(5)"
   ]
  },
  {
   "cell_type": "code",
   "execution_count": 450,
   "id": "ee92be25",
   "metadata": {},
   "outputs": [],
   "source": [
    "first_dose_pct = [0.257,0.290,0.332,0.382,0.441,0.485,0.529,0.561,0.587,0.608,0.627,0.640,0.653,0.662,0.668,0.674,0.678,0.683,0.687,0.692]\n",
    "fully_vaccinated_pct = [0.141,0.163,0.192,0.226,0.270,0.307,0.350,0.390,0.439,0.473,0.506,0.531,0.560,0.579,0.592,0.605,0.611,0.616,0.620,0.624]"
   ]
  },
  {
   "cell_type": "code",
   "execution_count": 445,
   "id": "da45a010",
   "metadata": {},
   "outputs": [
    {
     "data": {
      "text/plain": [
       "DatetimeIndex(['2021-03-16', '2021-03-23', '2021-03-30', '2021-04-06',\n",
       "               '2021-04-13', '2021-04-20', '2021-04-27', '2021-05-04',\n",
       "               '2021-05-11', '2021-05-18', '2021-05-25', '2021-06-01',\n",
       "               '2021-06-08', '2021-06-15', '2021-06-22', '2021-06-29',\n",
       "               '2021-07-06', '2021-07-13', '2021-07-20', '2021-07-27'],\n",
       "              dtype='datetime64[ns]', freq=None)"
      ]
     },
     "execution_count": 445,
     "metadata": {},
     "output_type": "execute_result"
    }
   ],
   "source": [
    "pd.date_range(start='3/16/2021', end='7/27/2021', periods=20)"
   ]
  },
  {
   "cell_type": "code",
   "execution_count": 449,
   "id": "078de47b",
   "metadata": {},
   "outputs": [],
   "source": [
    "the_date = [date for date in pd.date_range(start='3/16/2021', end='7/27/2021', periods=20)]\n"
   ]
  },
  {
   "cell_type": "code",
   "execution_count": 452,
   "id": "29e3b444",
   "metadata": {},
   "outputs": [],
   "source": [
    "first_dose = (dict(zip(the_date, first_dose_pct)))"
   ]
  },
  {
   "cell_type": "code",
   "execution_count": 465,
   "id": "4d4836ea",
   "metadata": {},
   "outputs": [],
   "source": [
    "fully_vaxd = dict(zip(the_date, fully_vaccinated_pct))"
   ]
  },
  {
   "cell_type": "code",
   "execution_count": 471,
   "id": "c6e4b755",
   "metadata": {},
   "outputs": [],
   "source": [
    "vaccine_first = pd.DataFrame(list(first_dose.items()), columns=['Report Date', 'First Dose Pct'])"
   ]
  },
  {
   "cell_type": "code",
   "execution_count": 466,
   "id": "7304d4e7",
   "metadata": {},
   "outputs": [],
   "source": [
    "vaccine_full = pd.Series(list(fully_vaxd.items()), columns=['Report Date', 'Fully Vaxxed Pct'])"
   ]
  },
  {
   "cell_type": "code",
   "execution_count": 473,
   "id": "f2ff9f60",
   "metadata": {},
   "outputs": [],
   "source": [
    "Vaccine_df = pd.merge(vaccine_first, vaccine_full)"
   ]
  },
  {
   "cell_type": "code",
   "execution_count": 474,
   "id": "41fd9d1a",
   "metadata": {},
   "outputs": [
    {
     "data": {
      "text/html": [
       "<div>\n",
       "<style scoped>\n",
       "    .dataframe tbody tr th:only-of-type {\n",
       "        vertical-align: middle;\n",
       "    }\n",
       "\n",
       "    .dataframe tbody tr th {\n",
       "        vertical-align: top;\n",
       "    }\n",
       "\n",
       "    .dataframe thead th {\n",
       "        text-align: right;\n",
       "    }\n",
       "</style>\n",
       "<table border=\"1\" class=\"dataframe\">\n",
       "  <thead>\n",
       "    <tr style=\"text-align: right;\">\n",
       "      <th></th>\n",
       "      <th>Report Date</th>\n",
       "      <th>First Dose Pct</th>\n",
       "      <th>Fully Vaxxed Pct</th>\n",
       "    </tr>\n",
       "  </thead>\n",
       "  <tbody>\n",
       "    <tr>\n",
       "      <th>0</th>\n",
       "      <td>2021-03-16</td>\n",
       "      <td>0.257</td>\n",
       "      <td>0.141</td>\n",
       "    </tr>\n",
       "    <tr>\n",
       "      <th>1</th>\n",
       "      <td>2021-03-23</td>\n",
       "      <td>0.290</td>\n",
       "      <td>0.163</td>\n",
       "    </tr>\n",
       "    <tr>\n",
       "      <th>2</th>\n",
       "      <td>2021-03-30</td>\n",
       "      <td>0.332</td>\n",
       "      <td>0.192</td>\n",
       "    </tr>\n",
       "    <tr>\n",
       "      <th>3</th>\n",
       "      <td>2021-04-06</td>\n",
       "      <td>0.382</td>\n",
       "      <td>0.226</td>\n",
       "    </tr>\n",
       "    <tr>\n",
       "      <th>4</th>\n",
       "      <td>2021-04-13</td>\n",
       "      <td>0.441</td>\n",
       "      <td>0.270</td>\n",
       "    </tr>\n",
       "    <tr>\n",
       "      <th>5</th>\n",
       "      <td>2021-04-20</td>\n",
       "      <td>0.485</td>\n",
       "      <td>0.307</td>\n",
       "    </tr>\n",
       "    <tr>\n",
       "      <th>6</th>\n",
       "      <td>2021-04-27</td>\n",
       "      <td>0.529</td>\n",
       "      <td>0.350</td>\n",
       "    </tr>\n",
       "    <tr>\n",
       "      <th>7</th>\n",
       "      <td>2021-05-04</td>\n",
       "      <td>0.561</td>\n",
       "      <td>0.390</td>\n",
       "    </tr>\n",
       "    <tr>\n",
       "      <th>8</th>\n",
       "      <td>2021-05-11</td>\n",
       "      <td>0.587</td>\n",
       "      <td>0.439</td>\n",
       "    </tr>\n",
       "    <tr>\n",
       "      <th>9</th>\n",
       "      <td>2021-05-18</td>\n",
       "      <td>0.608</td>\n",
       "      <td>0.473</td>\n",
       "    </tr>\n",
       "    <tr>\n",
       "      <th>10</th>\n",
       "      <td>2021-05-25</td>\n",
       "      <td>0.627</td>\n",
       "      <td>0.506</td>\n",
       "    </tr>\n",
       "    <tr>\n",
       "      <th>11</th>\n",
       "      <td>2021-06-01</td>\n",
       "      <td>0.640</td>\n",
       "      <td>0.531</td>\n",
       "    </tr>\n",
       "    <tr>\n",
       "      <th>12</th>\n",
       "      <td>2021-06-08</td>\n",
       "      <td>0.653</td>\n",
       "      <td>0.560</td>\n",
       "    </tr>\n",
       "    <tr>\n",
       "      <th>13</th>\n",
       "      <td>2021-06-15</td>\n",
       "      <td>0.662</td>\n",
       "      <td>0.579</td>\n",
       "    </tr>\n",
       "    <tr>\n",
       "      <th>14</th>\n",
       "      <td>2021-06-22</td>\n",
       "      <td>0.668</td>\n",
       "      <td>0.592</td>\n",
       "    </tr>\n",
       "    <tr>\n",
       "      <th>15</th>\n",
       "      <td>2021-06-29</td>\n",
       "      <td>0.674</td>\n",
       "      <td>0.605</td>\n",
       "    </tr>\n",
       "    <tr>\n",
       "      <th>16</th>\n",
       "      <td>2021-07-06</td>\n",
       "      <td>0.678</td>\n",
       "      <td>0.611</td>\n",
       "    </tr>\n",
       "    <tr>\n",
       "      <th>17</th>\n",
       "      <td>2021-07-13</td>\n",
       "      <td>0.683</td>\n",
       "      <td>0.616</td>\n",
       "    </tr>\n",
       "    <tr>\n",
       "      <th>18</th>\n",
       "      <td>2021-07-20</td>\n",
       "      <td>0.687</td>\n",
       "      <td>0.620</td>\n",
       "    </tr>\n",
       "    <tr>\n",
       "      <th>19</th>\n",
       "      <td>2021-07-27</td>\n",
       "      <td>0.692</td>\n",
       "      <td>0.624</td>\n",
       "    </tr>\n",
       "  </tbody>\n",
       "</table>\n",
       "</div>"
      ],
      "text/plain": [
       "   Report Date  First Dose Pct  Fully Vaxxed Pct\n",
       "0   2021-03-16           0.257             0.141\n",
       "1   2021-03-23           0.290             0.163\n",
       "2   2021-03-30           0.332             0.192\n",
       "3   2021-04-06           0.382             0.226\n",
       "4   2021-04-13           0.441             0.270\n",
       "5   2021-04-20           0.485             0.307\n",
       "6   2021-04-27           0.529             0.350\n",
       "7   2021-05-04           0.561             0.390\n",
       "8   2021-05-11           0.587             0.439\n",
       "9   2021-05-18           0.608             0.473\n",
       "10  2021-05-25           0.627             0.506\n",
       "11  2021-06-01           0.640             0.531\n",
       "12  2021-06-08           0.653             0.560\n",
       "13  2021-06-15           0.662             0.579\n",
       "14  2021-06-22           0.668             0.592\n",
       "15  2021-06-29           0.674             0.605\n",
       "16  2021-07-06           0.678             0.611\n",
       "17  2021-07-13           0.683             0.616\n",
       "18  2021-07-20           0.687             0.620\n",
       "19  2021-07-27           0.692             0.624"
      ]
     },
     "execution_count": 474,
     "metadata": {},
     "output_type": "execute_result"
    }
   ],
   "source": [
    "Vaccine_df.set_index('Report Date', drop=True, inplace=True)"
   ]
  },
  {
   "cell_type": "code",
   "execution_count": 480,
   "id": "bff36f79",
   "metadata": {},
   "outputs": [],
   "source": [
    "Vaccine_df['First Dose Pct'] = Vaccine_df['First Dose Pct']*100"
   ]
  },
  {
   "cell_type": "code",
   "execution_count": 481,
   "id": "bb042cad",
   "metadata": {},
   "outputs": [],
   "source": [
    "Vaccine_df['Fully Vaxxed Pct'] = Vaccine_df['Fully Vaxxed Pct']*100"
   ]
  },
  {
   "cell_type": "code",
   "execution_count": 537,
   "id": "13617ff6",
   "metadata": {},
   "outputs": [
    {
     "data": {
      "text/plain": [
       "[Text(0.5, 0, 'Report Date'), Text(0, 0.5, 'Percentage of State Population')]"
      ]
     },
     "execution_count": 537,
     "metadata": {},
     "output_type": "execute_result"
    },
    {
     "data": {
      "image/png": "[encoded data removed]",
      "text/plain": [
       "<Figure size 1152x648 with 1 Axes>"
      ]
     },
     "metadata": {
      "needs_background": "light"
     },
     "output_type": "display_data"
    }
   ],
   "source": [
    "plt.figure(figsize=(16,9))\n",
    "_ = sns.lineplot(data=Vaccine_df, x='Report Date', y='First Dose Pct')\n",
    "_ = sns.lineplot(data=Vaccine_df, x='Report Date', y='Fully Vaxxed Pct')\n",
    "_.set(xlabel='Report Date', ylabel='Percentage of State Population')"
   ]
  },
  {
   "cell_type": "code",
   "execution_count": 502,
   "id": "9e03c284",
   "metadata": {},
   "outputs": [
    {
     "ename": "KeyError",
     "evalue": "'2021-03-16'",
     "output_type": "error",
     "traceback": [
      "\u001b[1;31m---------------------------------------------------------------------------\u001b[0m",
      "\u001b[1;31mKeyError\u001b[0m                                  Traceback (most recent call last)",
      "\u001b[1;32m~\\anaconda3\\lib\\site-packages\\pandas\\core\\indexes\\base.py\u001b[0m in \u001b[0;36mget_loc\u001b[1;34m(self, key, method, tolerance)\u001b[0m\n\u001b[0;32m   3079\u001b[0m             \u001b[1;32mtry\u001b[0m\u001b[1;33m:\u001b[0m\u001b[1;33m\u001b[0m\u001b[1;33m\u001b[0m\u001b[0m\n\u001b[1;32m-> 3080\u001b[1;33m                 \u001b[1;32mreturn\u001b[0m \u001b[0mself\u001b[0m\u001b[1;33m.\u001b[0m\u001b[0m_engine\u001b[0m\u001b[1;33m.\u001b[0m\u001b[0mget_loc\u001b[0m\u001b[1;33m(\u001b[0m\u001b[0mcasted_key\u001b[0m\u001b[1;33m)\u001b[0m\u001b[1;33m\u001b[0m\u001b[1;33m\u001b[0m\u001b[0m\n\u001b[0m\u001b[0;32m   3081\u001b[0m             \u001b[1;32mexcept\u001b[0m \u001b[0mKeyError\u001b[0m \u001b[1;32mas\u001b[0m \u001b[0merr\u001b[0m\u001b[1;33m:\u001b[0m\u001b[1;33m\u001b[0m\u001b[1;33m\u001b[0m\u001b[0m\n",
      "\u001b[1;32mpandas\\_libs\\index.pyx\u001b[0m in \u001b[0;36mpandas._libs.index.IndexEngine.get_loc\u001b[1;34m()\u001b[0m\n",
      "\u001b[1;32mpandas\\_libs\\index.pyx\u001b[0m in \u001b[0;36mpandas._libs.index.IndexEngine.get_loc\u001b[1;34m()\u001b[0m\n",
      "\u001b[1;32mpandas\\_libs\\hashtable_class_helper.pxi\u001b[0m in \u001b[0;36mpandas._libs.hashtable.PyObjectHashTable.get_item\u001b[1;34m()\u001b[0m\n",
      "\u001b[1;32mpandas\\_libs\\hashtable_class_helper.pxi\u001b[0m in \u001b[0;36mpandas._libs.hashtable.PyObjectHashTable.get_item\u001b[1;34m()\u001b[0m\n",
      "\u001b[1;31mKeyError\u001b[0m: '2021-03-16'",
      "\nThe above exception was the direct cause of the following exception:\n",
      "\u001b[1;31mKeyError\u001b[0m                                  Traceback (most recent call last)",
      "\u001b[1;32m<ipython-input-502-970a98663ae3>\u001b[0m in \u001b[0;36m<module>\u001b[1;34m\u001b[0m\n\u001b[1;32m----> 1\u001b[1;33m \u001b[0mBarnstable_df\u001b[0m\u001b[1;33m[\u001b[0m\u001b[1;34m'2021-03-16'\u001b[0m\u001b[1;33m]\u001b[0m\u001b[1;33m\u001b[0m\u001b[1;33m\u001b[0m\u001b[0m\n\u001b[0m",
      "\u001b[1;32m~\\anaconda3\\lib\\site-packages\\pandas\\core\\frame.py\u001b[0m in \u001b[0;36m__getitem__\u001b[1;34m(self, key)\u001b[0m\n\u001b[0;32m   3022\u001b[0m             \u001b[1;32mif\u001b[0m \u001b[0mself\u001b[0m\u001b[1;33m.\u001b[0m\u001b[0mcolumns\u001b[0m\u001b[1;33m.\u001b[0m\u001b[0mnlevels\u001b[0m \u001b[1;33m>\u001b[0m \u001b[1;36m1\u001b[0m\u001b[1;33m:\u001b[0m\u001b[1;33m\u001b[0m\u001b[1;33m\u001b[0m\u001b[0m\n\u001b[0;32m   3023\u001b[0m                 \u001b[1;32mreturn\u001b[0m \u001b[0mself\u001b[0m\u001b[1;33m.\u001b[0m\u001b[0m_getitem_multilevel\u001b[0m\u001b[1;33m(\u001b[0m\u001b[0mkey\u001b[0m\u001b[1;33m)\u001b[0m\u001b[1;33m\u001b[0m\u001b[1;33m\u001b[0m\u001b[0m\n\u001b[1;32m-> 3024\u001b[1;33m             \u001b[0mindexer\u001b[0m \u001b[1;33m=\u001b[0m \u001b[0mself\u001b[0m\u001b[1;33m.\u001b[0m\u001b[0mcolumns\u001b[0m\u001b[1;33m.\u001b[0m\u001b[0mget_loc\u001b[0m\u001b[1;33m(\u001b[0m\u001b[0mkey\u001b[0m\u001b[1;33m)\u001b[0m\u001b[1;33m\u001b[0m\u001b[1;33m\u001b[0m\u001b[0m\n\u001b[0m\u001b[0;32m   3025\u001b[0m             \u001b[1;32mif\u001b[0m \u001b[0mis_integer\u001b[0m\u001b[1;33m(\u001b[0m\u001b[0mindexer\u001b[0m\u001b[1;33m)\u001b[0m\u001b[1;33m:\u001b[0m\u001b[1;33m\u001b[0m\u001b[1;33m\u001b[0m\u001b[0m\n\u001b[0;32m   3026\u001b[0m                 \u001b[0mindexer\u001b[0m \u001b[1;33m=\u001b[0m \u001b[1;33m[\u001b[0m\u001b[0mindexer\u001b[0m\u001b[1;33m]\u001b[0m\u001b[1;33m\u001b[0m\u001b[1;33m\u001b[0m\u001b[0m\n",
      "\u001b[1;32m~\\anaconda3\\lib\\site-packages\\pandas\\core\\indexes\\base.py\u001b[0m in \u001b[0;36mget_loc\u001b[1;34m(self, key, method, tolerance)\u001b[0m\n\u001b[0;32m   3080\u001b[0m                 \u001b[1;32mreturn\u001b[0m \u001b[0mself\u001b[0m\u001b[1;33m.\u001b[0m\u001b[0m_engine\u001b[0m\u001b[1;33m.\u001b[0m\u001b[0mget_loc\u001b[0m\u001b[1;33m(\u001b[0m\u001b[0mcasted_key\u001b[0m\u001b[1;33m)\u001b[0m\u001b[1;33m\u001b[0m\u001b[1;33m\u001b[0m\u001b[0m\n\u001b[0;32m   3081\u001b[0m             \u001b[1;32mexcept\u001b[0m \u001b[0mKeyError\u001b[0m \u001b[1;32mas\u001b[0m \u001b[0merr\u001b[0m\u001b[1;33m:\u001b[0m\u001b[1;33m\u001b[0m\u001b[1;33m\u001b[0m\u001b[0m\n\u001b[1;32m-> 3082\u001b[1;33m                 \u001b[1;32mraise\u001b[0m \u001b[0mKeyError\u001b[0m\u001b[1;33m(\u001b[0m\u001b[0mkey\u001b[0m\u001b[1;33m)\u001b[0m \u001b[1;32mfrom\u001b[0m \u001b[0merr\u001b[0m\u001b[1;33m\u001b[0m\u001b[1;33m\u001b[0m\u001b[0m\n\u001b[0m\u001b[0;32m   3083\u001b[0m \u001b[1;33m\u001b[0m\u001b[0m\n\u001b[0;32m   3084\u001b[0m         \u001b[1;32mif\u001b[0m \u001b[0mtolerance\u001b[0m \u001b[1;32mis\u001b[0m \u001b[1;32mnot\u001b[0m \u001b[1;32mNone\u001b[0m\u001b[1;33m:\u001b[0m\u001b[1;33m\u001b[0m\u001b[1;33m\u001b[0m\u001b[0m\n",
      "\u001b[1;31mKeyError\u001b[0m: '2021-03-16'"
     ]
    }
   ],
   "source": [
    "Barnstable_df['2021-03-16']"
   ]
  },
  {
   "cell_type": "code",
   "execution_count": 525,
   "id": "626d6b11",
   "metadata": {},
   "outputs": [],
   "source": [
    "Barnstable_vaccine_slice = pd.DataFrame(Barnstable_df.loc[Barnstable_df.index == '2021-03-18'])"
   ]
  },
  {
   "cell_type": "code",
   "execution_count": 527,
   "id": "c64565fd",
   "metadata": {},
   "outputs": [],
   "source": [
    "Barnstable_vaccine_slice = Barnstable_df[Barnstable_df.index.slice_indexer('2021-03-16', '2021-07-27')]"
   ]
  },
  {
   "cell_type": "code",
   "execution_count": 529,
   "id": "21a26fad",
   "metadata": {},
   "outputs": [],
   "source": [
    "Barnstable_vaccine_slice = pd.DataFrame(Barnstable_vaccine_slice) "
   ]
  },
  {
   "cell_type": "code",
   "execution_count": 532,
   "id": "a7b162b2",
   "metadata": {},
   "outputs": [],
   "source": [
    "Barnstable_vaccine_slice.reset_index(inplace=True)"
   ]
  },
  {
   "cell_type": "code",
   "execution_count": 533,
   "id": "4b798d73",
   "metadata": {},
   "outputs": [
    {
     "data": {
      "text/html": [
       "<div>\n",
       "<style scoped>\n",
       "    .dataframe tbody tr th:only-of-type {\n",
       "        vertical-align: middle;\n",
       "    }\n",
       "\n",
       "    .dataframe tbody tr th {\n",
       "        vertical-align: top;\n",
       "    }\n",
       "\n",
       "    .dataframe thead th {\n",
       "        text-align: right;\n",
       "    }\n",
       "</style>\n",
       "<table border=\"1\" class=\"dataframe\">\n",
       "  <thead>\n",
       "    <tr style=\"text-align: right;\">\n",
       "      <th></th>\n",
       "      <th>Report Date</th>\n",
       "      <th>Total Case Counts</th>\n",
       "      <th>City/Town</th>\n",
       "      <th>Population</th>\n",
       "    </tr>\n",
       "  </thead>\n",
       "  <tbody>\n",
       "    <tr>\n",
       "      <th>0</th>\n",
       "      <td>2021-03-18</td>\n",
       "      <td>3283</td>\n",
       "      <td>Barnstable</td>\n",
       "      <td>44772.520448</td>\n",
       "    </tr>\n",
       "    <tr>\n",
       "      <th>1</th>\n",
       "      <td>2021-03-18</td>\n",
       "      <td>1077</td>\n",
       "      <td>Bourne</td>\n",
       "      <td>21025.530283</td>\n",
       "    </tr>\n",
       "    <tr>\n",
       "      <th>2</th>\n",
       "      <td>2021-03-18</td>\n",
       "      <td>392</td>\n",
       "      <td>Brewster</td>\n",
       "      <td>9926.467399</td>\n",
       "    </tr>\n",
       "    <tr>\n",
       "      <th>3</th>\n",
       "      <td>2021-03-18</td>\n",
       "      <td>276</td>\n",
       "      <td>Chatham</td>\n",
       "      <td>5829.534479</td>\n",
       "    </tr>\n",
       "    <tr>\n",
       "      <th>4</th>\n",
       "      <td>2021-03-18</td>\n",
       "      <td>601</td>\n",
       "      <td>Dennis</td>\n",
       "      <td>13087.712635</td>\n",
       "    </tr>\n",
       "    <tr>\n",
       "      <th>...</th>\n",
       "      <td>...</td>\n",
       "      <td>...</td>\n",
       "      <td>...</td>\n",
       "      <td>...</td>\n",
       "    </tr>\n",
       "    <tr>\n",
       "      <th>280</th>\n",
       "      <td>2021-07-22</td>\n",
       "      <td>185</td>\n",
       "      <td>Provincetown</td>\n",
       "      <td>2582.83182</td>\n",
       "    </tr>\n",
       "    <tr>\n",
       "      <th>281</th>\n",
       "      <td>2021-07-22</td>\n",
       "      <td>1223</td>\n",
       "      <td>Sandwich</td>\n",
       "      <td>21077.958151</td>\n",
       "    </tr>\n",
       "    <tr>\n",
       "      <th>282</th>\n",
       "      <td>2021-07-22</td>\n",
       "      <td>65</td>\n",
       "      <td>Truro</td>\n",
       "      <td>1968.130528</td>\n",
       "    </tr>\n",
       "    <tr>\n",
       "      <th>283</th>\n",
       "      <td>2021-07-22</td>\n",
       "      <td>81</td>\n",
       "      <td>Wellfleet</td>\n",
       "      <td>2759.834263</td>\n",
       "    </tr>\n",
       "    <tr>\n",
       "      <th>284</th>\n",
       "      <td>2021-07-22</td>\n",
       "      <td>1632</td>\n",
       "      <td>Yarmouth</td>\n",
       "      <td>24061.696974</td>\n",
       "    </tr>\n",
       "  </tbody>\n",
       "</table>\n",
       "<p>285 rows × 4 columns</p>\n",
       "</div>"
      ],
      "text/plain": [
       "    Report Date  Total Case Counts     City/Town    Population\n",
       "0    2021-03-18               3283    Barnstable  44772.520448\n",
       "1    2021-03-18               1077        Bourne  21025.530283\n",
       "2    2021-03-18                392      Brewster   9926.467399\n",
       "3    2021-03-18                276       Chatham   5829.534479\n",
       "4    2021-03-18                601        Dennis  13087.712635\n",
       "..          ...                ...           ...           ...\n",
       "280  2021-07-22                185  Provincetown    2582.83182\n",
       "281  2021-07-22               1223      Sandwich  21077.958151\n",
       "282  2021-07-22                 65         Truro   1968.130528\n",
       "283  2021-07-22                 81     Wellfleet   2759.834263\n",
       "284  2021-07-22               1632      Yarmouth  24061.696974\n",
       "\n",
       "[285 rows x 4 columns]"
      ]
     },
     "execution_count": 533,
     "metadata": {},
     "output_type": "execute_result"
    }
   ],
   "source": [
    "Barnstable_vaccine_slice"
   ]
  },
  {
   "cell_type": "code",
   "execution_count": 535,
   "id": "240a7eb9",
   "metadata": {},
   "outputs": [],
   "source": [
    "df1 = Barnstable_vaccine_slice.copy()\n",
    "df1['Positive Percentage'] = (df1['Total Case Counts'] / df1['Population'])*100"
   ]
  },
  {
   "cell_type": "code",
   "execution_count": 536,
   "id": "3fd9b4e3",
   "metadata": {},
   "outputs": [
    {
     "data": {
      "text/html": [
       "<div>\n",
       "<style scoped>\n",
       "    .dataframe tbody tr th:only-of-type {\n",
       "        vertical-align: middle;\n",
       "    }\n",
       "\n",
       "    .dataframe tbody tr th {\n",
       "        vertical-align: top;\n",
       "    }\n",
       "\n",
       "    .dataframe thead th {\n",
       "        text-align: right;\n",
       "    }\n",
       "</style>\n",
       "<table border=\"1\" class=\"dataframe\">\n",
       "  <thead>\n",
       "    <tr style=\"text-align: right;\">\n",
       "      <th></th>\n",
       "      <th>Report Date</th>\n",
       "      <th>Total Case Counts</th>\n",
       "      <th>City/Town</th>\n",
       "      <th>Population</th>\n",
       "      <th>Positive Percentage</th>\n",
       "    </tr>\n",
       "  </thead>\n",
       "  <tbody>\n",
       "    <tr>\n",
       "      <th>0</th>\n",
       "      <td>2021-03-18</td>\n",
       "      <td>3283</td>\n",
       "      <td>Barnstable</td>\n",
       "      <td>44772.520448</td>\n",
       "      <td>7.332623</td>\n",
       "    </tr>\n",
       "    <tr>\n",
       "      <th>1</th>\n",
       "      <td>2021-03-18</td>\n",
       "      <td>1077</td>\n",
       "      <td>Bourne</td>\n",
       "      <td>21025.530283</td>\n",
       "      <td>5.122344</td>\n",
       "    </tr>\n",
       "    <tr>\n",
       "      <th>2</th>\n",
       "      <td>2021-03-18</td>\n",
       "      <td>392</td>\n",
       "      <td>Brewster</td>\n",
       "      <td>9926.467399</td>\n",
       "      <td>3.949038</td>\n",
       "    </tr>\n",
       "    <tr>\n",
       "      <th>3</th>\n",
       "      <td>2021-03-18</td>\n",
       "      <td>276</td>\n",
       "      <td>Chatham</td>\n",
       "      <td>5829.534479</td>\n",
       "      <td>4.734512</td>\n",
       "    </tr>\n",
       "    <tr>\n",
       "      <th>4</th>\n",
       "      <td>2021-03-18</td>\n",
       "      <td>601</td>\n",
       "      <td>Dennis</td>\n",
       "      <td>13087.712635</td>\n",
       "      <td>4.592093</td>\n",
       "    </tr>\n",
       "    <tr>\n",
       "      <th>...</th>\n",
       "      <td>...</td>\n",
       "      <td>...</td>\n",
       "      <td>...</td>\n",
       "      <td>...</td>\n",
       "      <td>...</td>\n",
       "    </tr>\n",
       "    <tr>\n",
       "      <th>280</th>\n",
       "      <td>2021-07-22</td>\n",
       "      <td>185</td>\n",
       "      <td>Provincetown</td>\n",
       "      <td>2582.83182</td>\n",
       "      <td>7.162681</td>\n",
       "    </tr>\n",
       "    <tr>\n",
       "      <th>281</th>\n",
       "      <td>2021-07-22</td>\n",
       "      <td>1223</td>\n",
       "      <td>Sandwich</td>\n",
       "      <td>21077.958151</td>\n",
       "      <td>5.80227</td>\n",
       "    </tr>\n",
       "    <tr>\n",
       "      <th>282</th>\n",
       "      <td>2021-07-22</td>\n",
       "      <td>65</td>\n",
       "      <td>Truro</td>\n",
       "      <td>1968.130528</td>\n",
       "      <td>3.302626</td>\n",
       "    </tr>\n",
       "    <tr>\n",
       "      <th>283</th>\n",
       "      <td>2021-07-22</td>\n",
       "      <td>81</td>\n",
       "      <td>Wellfleet</td>\n",
       "      <td>2759.834263</td>\n",
       "      <td>2.934959</td>\n",
       "    </tr>\n",
       "    <tr>\n",
       "      <th>284</th>\n",
       "      <td>2021-07-22</td>\n",
       "      <td>1632</td>\n",
       "      <td>Yarmouth</td>\n",
       "      <td>24061.696974</td>\n",
       "      <td>6.782564</td>\n",
       "    </tr>\n",
       "  </tbody>\n",
       "</table>\n",
       "<p>285 rows × 5 columns</p>\n",
       "</div>"
      ],
      "text/plain": [
       "    Report Date  Total Case Counts     City/Town    Population  \\\n",
       "0    2021-03-18               3283    Barnstable  44772.520448   \n",
       "1    2021-03-18               1077        Bourne  21025.530283   \n",
       "2    2021-03-18                392      Brewster   9926.467399   \n",
       "3    2021-03-18                276       Chatham   5829.534479   \n",
       "4    2021-03-18                601        Dennis  13087.712635   \n",
       "..          ...                ...           ...           ...   \n",
       "280  2021-07-22                185  Provincetown    2582.83182   \n",
       "281  2021-07-22               1223      Sandwich  21077.958151   \n",
       "282  2021-07-22                 65         Truro   1968.130528   \n",
       "283  2021-07-22                 81     Wellfleet   2759.834263   \n",
       "284  2021-07-22               1632      Yarmouth  24061.696974   \n",
       "\n",
       "    Positive Percentage  \n",
       "0              7.332623  \n",
       "1              5.122344  \n",
       "2              3.949038  \n",
       "3              4.734512  \n",
       "4              4.592093  \n",
       "..                  ...  \n",
       "280            7.162681  \n",
       "281             5.80227  \n",
       "282            3.302626  \n",
       "283            2.934959  \n",
       "284            6.782564  \n",
       "\n",
       "[285 rows x 5 columns]"
      ]
     },
     "execution_count": 536,
     "metadata": {},
     "output_type": "execute_result"
    }
   ],
   "source": [
    "df1"
   ]
  },
  {
   "cell_type": "code",
   "execution_count": 538,
   "id": "5bd55434",
   "metadata": {},
   "outputs": [
    {
     "data": {
      "text/html": [
       "<div>\n",
       "<style scoped>\n",
       "    .dataframe tbody tr th:only-of-type {\n",
       "        vertical-align: middle;\n",
       "    }\n",
       "\n",
       "    .dataframe tbody tr th {\n",
       "        vertical-align: top;\n",
       "    }\n",
       "\n",
       "    .dataframe thead th {\n",
       "        text-align: right;\n",
       "    }\n",
       "</style>\n",
       "<table border=\"1\" class=\"dataframe\">\n",
       "  <thead>\n",
       "    <tr style=\"text-align: right;\">\n",
       "      <th></th>\n",
       "      <th>Report Date</th>\n",
       "      <th>First Dose Pct</th>\n",
       "    </tr>\n",
       "  </thead>\n",
       "  <tbody>\n",
       "    <tr>\n",
       "      <th>0</th>\n",
       "      <td>2021-03-16</td>\n",
       "      <td>0.257</td>\n",
       "    </tr>\n",
       "    <tr>\n",
       "      <th>1</th>\n",
       "      <td>2021-03-23</td>\n",
       "      <td>0.290</td>\n",
       "    </tr>\n",
       "    <tr>\n",
       "      <th>2</th>\n",
       "      <td>2021-03-30</td>\n",
       "      <td>0.332</td>\n",
       "    </tr>\n",
       "    <tr>\n",
       "      <th>3</th>\n",
       "      <td>2021-04-06</td>\n",
       "      <td>0.382</td>\n",
       "    </tr>\n",
       "    <tr>\n",
       "      <th>4</th>\n",
       "      <td>2021-04-13</td>\n",
       "      <td>0.441</td>\n",
       "    </tr>\n",
       "    <tr>\n",
       "      <th>5</th>\n",
       "      <td>2021-04-20</td>\n",
       "      <td>0.485</td>\n",
       "    </tr>\n",
       "    <tr>\n",
       "      <th>6</th>\n",
       "      <td>2021-04-27</td>\n",
       "      <td>0.529</td>\n",
       "    </tr>\n",
       "    <tr>\n",
       "      <th>7</th>\n",
       "      <td>2021-05-04</td>\n",
       "      <td>0.561</td>\n",
       "    </tr>\n",
       "    <tr>\n",
       "      <th>8</th>\n",
       "      <td>2021-05-11</td>\n",
       "      <td>0.587</td>\n",
       "    </tr>\n",
       "    <tr>\n",
       "      <th>9</th>\n",
       "      <td>2021-05-18</td>\n",
       "      <td>0.608</td>\n",
       "    </tr>\n",
       "    <tr>\n",
       "      <th>10</th>\n",
       "      <td>2021-05-25</td>\n",
       "      <td>0.627</td>\n",
       "    </tr>\n",
       "    <tr>\n",
       "      <th>11</th>\n",
       "      <td>2021-06-01</td>\n",
       "      <td>0.640</td>\n",
       "    </tr>\n",
       "    <tr>\n",
       "      <th>12</th>\n",
       "      <td>2021-06-08</td>\n",
       "      <td>0.653</td>\n",
       "    </tr>\n",
       "    <tr>\n",
       "      <th>13</th>\n",
       "      <td>2021-06-15</td>\n",
       "      <td>0.662</td>\n",
       "    </tr>\n",
       "    <tr>\n",
       "      <th>14</th>\n",
       "      <td>2021-06-22</td>\n",
       "      <td>0.668</td>\n",
       "    </tr>\n",
       "    <tr>\n",
       "      <th>15</th>\n",
       "      <td>2021-06-29</td>\n",
       "      <td>0.674</td>\n",
       "    </tr>\n",
       "    <tr>\n",
       "      <th>16</th>\n",
       "      <td>2021-07-06</td>\n",
       "      <td>0.678</td>\n",
       "    </tr>\n",
       "    <tr>\n",
       "      <th>17</th>\n",
       "      <td>2021-07-13</td>\n",
       "      <td>0.683</td>\n",
       "    </tr>\n",
       "    <tr>\n",
       "      <th>18</th>\n",
       "      <td>2021-07-20</td>\n",
       "      <td>0.687</td>\n",
       "    </tr>\n",
       "    <tr>\n",
       "      <th>19</th>\n",
       "      <td>2021-07-27</td>\n",
       "      <td>0.692</td>\n",
       "    </tr>\n",
       "  </tbody>\n",
       "</table>\n",
       "</div>"
      ],
      "text/plain": [
       "   Report Date  First Dose Pct\n",
       "0   2021-03-16           0.257\n",
       "1   2021-03-23           0.290\n",
       "2   2021-03-30           0.332\n",
       "3   2021-04-06           0.382\n",
       "4   2021-04-13           0.441\n",
       "5   2021-04-20           0.485\n",
       "6   2021-04-27           0.529\n",
       "7   2021-05-04           0.561\n",
       "8   2021-05-11           0.587\n",
       "9   2021-05-18           0.608\n",
       "10  2021-05-25           0.627\n",
       "11  2021-06-01           0.640\n",
       "12  2021-06-08           0.653\n",
       "13  2021-06-15           0.662\n",
       "14  2021-06-22           0.668\n",
       "15  2021-06-29           0.674\n",
       "16  2021-07-06           0.678\n",
       "17  2021-07-13           0.683\n",
       "18  2021-07-20           0.687\n",
       "19  2021-07-27           0.692"
      ]
     },
     "execution_count": 538,
     "metadata": {},
     "output_type": "execute_result"
    }
   ],
   "source": [
    "vaccine_df"
   ]
  },
  {
   "cell_type": "code",
   "execution_count": 546,
   "id": "0057bf78",
   "metadata": {},
   "outputs": [
    {
     "name": "stdout",
     "output_type": "stream",
     "text": [
      "<class 'pandas.core.frame.DataFrame'>\n",
      "Int64Index: 20 entries, 0 to 19\n",
      "Data columns (total 3 columns):\n",
      " #   Column            Non-Null Count  Dtype         \n",
      "---  ------            --------------  -----         \n",
      " 0   Report Date       20 non-null     datetime64[ns]\n",
      " 1   First Dose Pct    20 non-null     float64       \n",
      " 2   Fully Vaxxed Pct  20 non-null     float64       \n",
      "dtypes: datetime64[ns](1), float64(2)\n",
      "memory usage: 1.2 KB\n"
     ]
    }
   ],
   "source": [
    "Vaccine_df.info()"
   ]
  },
  {
   "cell_type": "code",
   "execution_count": 547,
   "id": "ab7d644b",
   "metadata": {},
   "outputs": [
    {
     "name": "stdout",
     "output_type": "stream",
     "text": [
      "<class 'pandas.core.frame.DataFrame'>\n",
      "RangeIndex: 285 entries, 0 to 284\n",
      "Data columns (total 5 columns):\n",
      " #   Column               Non-Null Count  Dtype         \n",
      "---  ------               --------------  -----         \n",
      " 0   Report Date          285 non-null    datetime64[ns]\n",
      " 1   Total Case Counts    285 non-null    int32         \n",
      " 2   City/Town            285 non-null    object        \n",
      " 3   Population           285 non-null    object        \n",
      " 4   Positive Percentage  285 non-null    object        \n",
      "dtypes: datetime64[ns](1), int32(1), object(3)\n",
      "memory usage: 10.1+ KB\n"
     ]
    }
   ],
   "source": [
    "df1.info()"
   ]
  },
  {
   "cell_type": "code",
   "execution_count": 551,
   "id": "ae6d9604",
   "metadata": {},
   "outputs": [],
   "source": [
    "df1['Positive Percentage'] = df1['Positive Percentage'].astype('float64')"
   ]
  },
  {
   "cell_type": "code",
   "execution_count": 555,
   "id": "dab66e12",
   "metadata": {},
   "outputs": [],
   "source": [
    "df1['Population'] = df1['Population'].astype('int32')\n",
    "df1['City/Town'] = df1['City/Town'].astype('category')"
   ]
  },
  {
   "cell_type": "code",
   "execution_count": 567,
   "id": "19714c16",
   "metadata": {},
   "outputs": [
    {
     "data": {
      "text/html": [
       "<div>\n",
       "<style scoped>\n",
       "    .dataframe tbody tr th:only-of-type {\n",
       "        vertical-align: middle;\n",
       "    }\n",
       "\n",
       "    .dataframe tbody tr th {\n",
       "        vertical-align: top;\n",
       "    }\n",
       "\n",
       "    .dataframe thead th {\n",
       "        text-align: right;\n",
       "    }\n",
       "</style>\n",
       "<table border=\"1\" class=\"dataframe\">\n",
       "  <thead>\n",
       "    <tr style=\"text-align: right;\">\n",
       "      <th></th>\n",
       "      <th>Report Date</th>\n",
       "      <th>Total Case Counts</th>\n",
       "      <th>City/Town</th>\n",
       "      <th>Population</th>\n",
       "      <th>Positive Percentage</th>\n",
       "    </tr>\n",
       "  </thead>\n",
       "  <tbody>\n",
       "    <tr>\n",
       "      <th>0</th>\n",
       "      <td>2021-03-18</td>\n",
       "      <td>3283</td>\n",
       "      <td>Barnstable</td>\n",
       "      <td>44772</td>\n",
       "      <td>7.332623</td>\n",
       "    </tr>\n",
       "    <tr>\n",
       "      <th>1</th>\n",
       "      <td>2021-03-18</td>\n",
       "      <td>1077</td>\n",
       "      <td>Bourne</td>\n",
       "      <td>21025</td>\n",
       "      <td>5.122344</td>\n",
       "    </tr>\n",
       "    <tr>\n",
       "      <th>2</th>\n",
       "      <td>2021-03-18</td>\n",
       "      <td>392</td>\n",
       "      <td>Brewster</td>\n",
       "      <td>9926</td>\n",
       "      <td>3.949038</td>\n",
       "    </tr>\n",
       "    <tr>\n",
       "      <th>3</th>\n",
       "      <td>2021-03-18</td>\n",
       "      <td>276</td>\n",
       "      <td>Chatham</td>\n",
       "      <td>5829</td>\n",
       "      <td>4.734512</td>\n",
       "    </tr>\n",
       "    <tr>\n",
       "      <th>4</th>\n",
       "      <td>2021-03-18</td>\n",
       "      <td>601</td>\n",
       "      <td>Dennis</td>\n",
       "      <td>13087</td>\n",
       "      <td>4.592093</td>\n",
       "    </tr>\n",
       "    <tr>\n",
       "      <th>...</th>\n",
       "      <td>...</td>\n",
       "      <td>...</td>\n",
       "      <td>...</td>\n",
       "      <td>...</td>\n",
       "      <td>...</td>\n",
       "    </tr>\n",
       "    <tr>\n",
       "      <th>280</th>\n",
       "      <td>2021-07-22</td>\n",
       "      <td>185</td>\n",
       "      <td>Provincetown</td>\n",
       "      <td>2582</td>\n",
       "      <td>7.162681</td>\n",
       "    </tr>\n",
       "    <tr>\n",
       "      <th>281</th>\n",
       "      <td>2021-07-22</td>\n",
       "      <td>1223</td>\n",
       "      <td>Sandwich</td>\n",
       "      <td>21077</td>\n",
       "      <td>5.802270</td>\n",
       "    </tr>\n",
       "    <tr>\n",
       "      <th>282</th>\n",
       "      <td>2021-07-22</td>\n",
       "      <td>65</td>\n",
       "      <td>Truro</td>\n",
       "      <td>1968</td>\n",
       "      <td>3.302626</td>\n",
       "    </tr>\n",
       "    <tr>\n",
       "      <th>283</th>\n",
       "      <td>2021-07-22</td>\n",
       "      <td>81</td>\n",
       "      <td>Wellfleet</td>\n",
       "      <td>2759</td>\n",
       "      <td>2.934959</td>\n",
       "    </tr>\n",
       "    <tr>\n",
       "      <th>284</th>\n",
       "      <td>2021-07-22</td>\n",
       "      <td>1632</td>\n",
       "      <td>Yarmouth</td>\n",
       "      <td>24061</td>\n",
       "      <td>6.782564</td>\n",
       "    </tr>\n",
       "  </tbody>\n",
       "</table>\n",
       "<p>285 rows × 5 columns</p>\n",
       "</div>"
      ],
      "text/plain": [
       "    Report Date  Total Case Counts     City/Town  Population  \\\n",
       "0    2021-03-18               3283    Barnstable       44772   \n",
       "1    2021-03-18               1077        Bourne       21025   \n",
       "2    2021-03-18                392      Brewster        9926   \n",
       "3    2021-03-18                276       Chatham        5829   \n",
       "4    2021-03-18                601        Dennis       13087   \n",
       "..          ...                ...           ...         ...   \n",
       "280  2021-07-22                185  Provincetown        2582   \n",
       "281  2021-07-22               1223      Sandwich       21077   \n",
       "282  2021-07-22                 65         Truro        1968   \n",
       "283  2021-07-22                 81     Wellfleet        2759   \n",
       "284  2021-07-22               1632      Yarmouth       24061   \n",
       "\n",
       "     Positive Percentage  \n",
       "0               7.332623  \n",
       "1               5.122344  \n",
       "2               3.949038  \n",
       "3               4.734512  \n",
       "4               4.592093  \n",
       "..                   ...  \n",
       "280             7.162681  \n",
       "281             5.802270  \n",
       "282             3.302626  \n",
       "283             2.934959  \n",
       "284             6.782564  \n",
       "\n",
       "[285 rows x 5 columns]"
      ]
     },
     "execution_count": 567,
     "metadata": {},
     "output_type": "execute_result"
    }
   ],
   "source": [
    "df1"
   ]
  },
  {
   "cell_type": "code",
   "execution_count": 568,
   "id": "e8691e35",
   "metadata": {},
   "outputs": [
    {
     "data": {
      "text/plain": [
       "Text(0.5, 1.0, 'Population Percentage of Covid-19 Positive Tests')"
      ]
     },
     "execution_count": 568,
     "metadata": {},
     "output_type": "execute_result"
    },
    {
     "data": {
      "image/png": "[encoded data removed]",
      "text/plain": [
       "<Figure size 1152x648 with 1 Axes>"
      ]
     },
     "metadata": {
      "needs_background": "light"
     },
     "output_type": "display_data"
    }
   ],
   "source": [
    "plt.figure(figsize=(16,9))\n",
    "#sns.lineplot(data=Vaccine_df, x='Report Date', y='First Dose Pct')\n",
    "sns.lineplot(data=df1, x='Report Date', y='Positive Percentage')\n",
    "plt.title('Population Percentage of Covid-19 Positive Tests')"
   ]
  },
  {
   "cell_type": "code",
   "execution_count": 571,
   "id": "63b04168",
   "metadata": {},
   "outputs": [
    {
     "data": {
      "text/plain": [
       "Text(0.5, 1.0, 'Barnstable County Covid-19 Positive Population Percentage')"
      ]
     },
     "execution_count": 571,
     "metadata": {},
     "output_type": "execute_result"
    },
    {
     "data": {
      "image/png": "[encoded data removed]",
      "text/plain": [
       "<Figure size 1152x648 with 1 Axes>"
      ]
     },
     "metadata": {
      "needs_background": "light"
     },
     "output_type": "display_data"
    }
   ],
   "source": [
    "plt.figure(figsize=(16,9))\n",
    "sns.barplot(data=df1, x='City/Town', y='Positive Percentage')\n",
    "plt.title('Barnstable County Covid-19 Positive Population Percentage')"
   ]
  },
  {
   "cell_type": "code",
   "execution_count": null,
   "id": "3e334d0d",
   "metadata": {},
   "outputs": [],
   "source": []
  },
  {
   "cell_type": "code",
   "execution_count": 560,
   "id": "6872d195",
   "metadata": {},
   "outputs": [
    {
     "data": {
      "text/plain": [
       "<AxesSubplot:xlabel='Report Date', ylabel='Total Case Counts'>"
      ]
     },
     "execution_count": 560,
     "metadata": {},
     "output_type": "execute_result"
    },
    {
     "data": {
      "image/png": "[encoded data removed]",
      "text/plain": [
       "<Figure size 1152x648 with 1 Axes>"
      ]
     },
     "metadata": {
      "needs_background": "light"
     },
     "output_type": "display_data"
    }
   ],
   "source": [
    "barnstable = Barnstable_df[Barnstable_df['City/Town']=='Barnstable']\n",
    "plt.figure(figsize=(16,9))\n",
    "sns.lineplot(data=barnstable, x=barnstable.index, y='Total Case Counts')"
   ]
  },
  {
   "cell_type": "code",
   "execution_count": 580,
   "id": "9b18f946",
   "metadata": {},
   "outputs": [
    {
     "data": {
      "text/plain": [
       "<AxesSubplot:xlabel='Report Date', ylabel='Total Case Counts'>"
      ]
     },
     "execution_count": 580,
     "metadata": {},
     "output_type": "execute_result"
    },
    {
     "data": {
      "image/png": "[encoded data removed]",
      "text/plain": [
       "<Figure size 1512x648 with 1 Axes>"
      ]
     },
     "metadata": {
      "needs_background": "light"
     },
     "output_type": "display_data"
    }
   ],
   "source": [
    "plt.figure(figsize=(21,9))\n",
    "sns.lineplot(data=df1, x='Report Date', y='Total Case Counts', hue='City/Town')"
   ]
  },
  {
   "cell_type": "code",
   "execution_count": 587,
   "id": "60fa4619",
   "metadata": {},
   "outputs": [
    {
     "data": {
      "text/plain": [
       "Text(0.5, 1.0, 'Population of the cities of Barnstable County')"
      ]
     },
     "execution_count": 587,
     "metadata": {},
     "output_type": "execute_result"
    },
    {
     "data": {
      "image/png": "[encoded data removed]",
      "text/plain": [
       "<Figure size 1512x648 with 1 Axes>"
      ]
     },
     "metadata": {
      "needs_background": "light"
     },
     "output_type": "display_data"
    }
   ],
   "source": [
    "plt.figure(figsize=(21,9))\n",
    "sns.barplot(data=df1, x='City/Town', y='Population')\n",
    "plt.title('Population of the cities of Barnstable County')"
   ]
  },
  {
   "cell_type": "code",
   "execution_count": null,
   "id": "08084088",
   "metadata": {},
   "outputs": [],
   "source": []
  }
 ],
 "metadata": {
  "kernelspec": {
   "display_name": "Python 3",
   "language": "python",
   "name": "python3"
  },
  "language_info": {
   "codemirror_mode": {
    "name": "ipython",
    "version": 3
   },
   "file_extension": ".py",
   "mimetype": "text/x-python",
   "name": "python",
   "nbconvert_exporter": "python",
   "pygments_lexer": "ipython3",
   "version": "3.8.8"
  }
 },
 "nbformat": 4,
 "nbformat_minor": 5
}
