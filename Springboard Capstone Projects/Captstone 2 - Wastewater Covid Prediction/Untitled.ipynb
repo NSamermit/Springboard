{
 "cells": [
  {
   "cell_type": "code",
   "execution_count": 1,
   "id": "46522f26",
   "metadata": {},
   "outputs": [],
   "source": [
    "import pandas as pd\n",
    "import numpy as np\n",
    "import matplotlib.pyplot as plt\n",
    "import seaborn as sns\n",
    "import pickle\n",
    "from functools import reduce"
   ]
  },
  {
   "cell_type": "code",
   "execution_count": 2,
   "id": "0f68e09b",
   "metadata": {},
   "outputs": [],
   "source": [
    "cases_by_county = 'Biobot Data/cases_by_county.csv'\n",
    "cases_county = pd.read_csv(cases_by_county, parse_dates=['date'])"
   ]
  },
  {
   "cell_type": "code",
   "execution_count": 3,
   "id": "4e2cb13e",
   "metadata": {},
   "outputs": [
    {
     "name": "stdout",
     "output_type": "stream",
     "text": [
      "<class 'pandas.core.frame.DataFrame'>\n",
      "RangeIndex: 15000 entries, 0 to 14999\n",
      "Data columns (total 6 columns):\n",
      " #   Column                                   Non-Null Count  Dtype         \n",
      "---  ------                                   --------------  -----         \n",
      " 0   date                                     15000 non-null  datetime64[ns]\n",
      " 1   rolling_average_cases_per_100k_centered  15000 non-null  float64       \n",
      " 2   region                                   15000 non-null  object        \n",
      " 3   state                                    15000 non-null  object        \n",
      " 4   county_fips_code                         15000 non-null  int64         \n",
      " 5   county_name                              15000 non-null  object        \n",
      "dtypes: datetime64[ns](1), float64(1), int64(1), object(3)\n",
      "memory usage: 703.2+ KB\n"
     ]
    }
   ],
   "source": [
    "cases_county.info()"
   ]
  },
  {
   "cell_type": "code",
   "execution_count": 59,
   "id": "9bbbad77",
   "metadata": {},
   "outputs": [
    {
     "data": {
      "text/plain": [
       "30"
      ]
     },
     "execution_count": 59,
     "metadata": {},
     "output_type": "execute_result"
    }
   ],
   "source": [
    "cases_county.county_fips_code.nunique()"
   ]
  },
  {
   "cell_type": "code",
   "execution_count": 4,
   "id": "39be90a9",
   "metadata": {},
   "outputs": [],
   "source": [
    "cases_by_region = 'Biobot Data/cases_by_region.csv'\n",
    "cases_region = pd.read_csv(cases_by_region, parse_dates=['date'])"
   ]
  },
  {
   "cell_type": "code",
   "execution_count": 5,
   "id": "967868ea",
   "metadata": {},
   "outputs": [
    {
     "name": "stdout",
     "output_type": "stream",
     "text": [
      "<class 'pandas.core.frame.DataFrame'>\n",
      "RangeIndex: 2500 entries, 0 to 2499\n",
      "Data columns (total 3 columns):\n",
      " #   Column                                   Non-Null Count  Dtype         \n",
      "---  ------                                   --------------  -----         \n",
      " 0   date                                     2500 non-null   datetime64[ns]\n",
      " 1   rolling_average_cases_per_100k_centered  2500 non-null   float64       \n",
      " 2   region                                   2500 non-null   object        \n",
      "dtypes: datetime64[ns](1), float64(1), object(1)\n",
      "memory usage: 58.7+ KB\n"
     ]
    }
   ],
   "source": [
    "cases_region.info()"
   ]
  },
  {
   "cell_type": "code",
   "execution_count": 6,
   "id": "0dec5ebf",
   "metadata": {},
   "outputs": [],
   "source": [
    "wastewater_by_county = 'Biobot Data/wastewater_by_county.csv'\n",
    "wastewater_county = pd.read_csv(wastewater_by_county, parse_dates=['sampling_week'])"
   ]
  },
  {
   "cell_type": "code",
   "execution_count": 7,
   "id": "b5c8dda9",
   "metadata": {},
   "outputs": [
    {
     "name": "stdout",
     "output_type": "stream",
     "text": [
      "<class 'pandas.core.frame.DataFrame'>\n",
      "RangeIndex: 1267 entries, 0 to 1266\n",
      "Data columns (total 7 columns):\n",
      " #   Column                                    Non-Null Count  Dtype         \n",
      "---  ------                                    --------------  -----         \n",
      " 0   sampling_week                             1267 non-null   datetime64[ns]\n",
      " 1   normalized_concentration_rolling_average  1267 non-null   float64       \n",
      " 2   population                                1267 non-null   object        \n",
      " 3   region                                    1267 non-null   object        \n",
      " 4   state                                     1267 non-null   object        \n",
      " 5   county_fips_code                          1267 non-null   int64         \n",
      " 6   county_name                               1267 non-null   object        \n",
      "dtypes: datetime64[ns](1), float64(1), int64(1), object(4)\n",
      "memory usage: 69.4+ KB\n"
     ]
    }
   ],
   "source": [
    "wastewater_county.info()"
   ]
  },
  {
   "cell_type": "code",
   "execution_count": 60,
   "id": "941f19e1",
   "metadata": {},
   "outputs": [
    {
     "data": {
      "text/plain": [
       "30"
      ]
     },
     "execution_count": 60,
     "metadata": {},
     "output_type": "execute_result"
    }
   ],
   "source": [
    "wastewater_county.county_fips_code.nunique()"
   ]
  },
  {
   "cell_type": "code",
   "execution_count": 8,
   "id": "b1e2e01c",
   "metadata": {},
   "outputs": [],
   "source": [
    "wastewater_by_region = 'Biobot Data/wastewater_by_region.csv'\n",
    "wastewater_region = pd.read_csv(wastewater_by_region, parse_dates=['sampling_week'])"
   ]
  },
  {
   "cell_type": "code",
   "execution_count": 9,
   "id": "2b1b348a",
   "metadata": {},
   "outputs": [
    {
     "name": "stdout",
     "output_type": "stream",
     "text": [
      "<class 'pandas.core.frame.DataFrame'>\n",
      "RangeIndex: 315 entries, 0 to 314\n",
      "Data columns (total 4 columns):\n",
      " #   Column                                    Non-Null Count  Dtype         \n",
      "---  ------                                    --------------  -----         \n",
      " 0   sampling_week                             315 non-null    datetime64[ns]\n",
      " 1   normalized_concentration_rolling_average  315 non-null    float64       \n",
      " 2   population                                315 non-null    object        \n",
      " 3   region                                    315 non-null    object        \n",
      "dtypes: datetime64[ns](1), float64(1), object(2)\n",
      "memory usage: 10.0+ KB\n"
     ]
    }
   ],
   "source": [
    "wastewater_region.info()"
   ]
  },
  {
   "cell_type": "code",
   "execution_count": 10,
   "id": "898e4d19",
   "metadata": {},
   "outputs": [],
   "source": [
    "wastewater_county['date'] = wastewater_county['sampling_week']"
   ]
  },
  {
   "cell_type": "code",
   "execution_count": null,
   "id": "c4784b59",
   "metadata": {},
   "outputs": [],
   "source": [
    "cases_data_frames = [cases_county, cases_region]\n",
    "wastewater_data_frames = [wastewater_county, wastewater_region]"
   ]
  },
  {
   "cell_type": "code",
   "execution_count": 230,
   "id": "ca6185ff",
   "metadata": {},
   "outputs": [],
   "source": [
    "county_merged = cases_county.reset_index().merge(wastewater_county)"
   ]
  },
  {
   "cell_type": "code",
   "execution_count": 231,
   "id": "f5cc773e",
   "metadata": {},
   "outputs": [
    {
     "name": "stdout",
     "output_type": "stream",
     "text": [
      "<class 'pandas.core.frame.DataFrame'>\n",
      "Int64Index: 1251 entries, 0 to 1250\n",
      "Data columns (total 10 columns):\n",
      " #   Column                                    Non-Null Count  Dtype         \n",
      "---  ------                                    --------------  -----         \n",
      " 0   index                                     1251 non-null   int64         \n",
      " 1   date                                      1251 non-null   datetime64[ns]\n",
      " 2   rolling_average_cases_per_100k_centered   1251 non-null   float64       \n",
      " 3   region                                    1251 non-null   object        \n",
      " 4   state                                     1251 non-null   object        \n",
      " 5   county_fips_code                          1251 non-null   int64         \n",
      " 6   county_name                               1251 non-null   object        \n",
      " 7   sampling_week                             1251 non-null   datetime64[ns]\n",
      " 8   normalized_concentration_rolling_average  1251 non-null   float64       \n",
      " 9   population                                1251 non-null   object        \n",
      "dtypes: datetime64[ns](2), float64(2), int64(2), object(4)\n",
      "memory usage: 107.5+ KB\n"
     ]
    }
   ],
   "source": [
    "county_merged.info()"
   ]
  },
  {
   "cell_type": "code",
   "execution_count": 232,
   "id": "244f8edc",
   "metadata": {},
   "outputs": [
    {
     "data": {
      "text/plain": [
       "Index(['index', 'date', 'rolling_average_cases_per_100k_centered', 'region',\n",
       "       'state', 'county_fips_code', 'county_name', 'sampling_week',\n",
       "       'normalized_concentration_rolling_average', 'population'],\n",
       "      dtype='object')"
      ]
     },
     "execution_count": 232,
     "metadata": {},
     "output_type": "execute_result"
    }
   ],
   "source": [
    "county_merged.columns"
   ]
  },
  {
   "cell_type": "code",
   "execution_count": 309,
   "id": "cd1f88fb",
   "metadata": {},
   "outputs": [
    {
     "data": {
      "text/plain": [
       "<AxesSubplot:xlabel='date', ylabel='normalized_concentration_rolling_average'>"
      ]
     },
     "execution_count": 309,
     "metadata": {},
     "output_type": "execute_result"
    },
    {
     "data": {
      "image/png": "[encoded data removed]",
      "text/plain": [
       "<Figure size 1152x648 with 1 Axes>"
      ]
     },
     "metadata": {
      "needs_background": "light"
     },
     "output_type": "display_data"
    }
   ],
   "source": [
    "plt.figure(figsize=(16,9))\n",
    "sns.lineplot(x='date', y='normalized_concentration_rolling_average', \n",
    "            data=county_merged, hue=(county_merged.state == 'MA'))"
   ]
  },
  {
   "cell_type": "code",
   "execution_count": 298,
   "id": "3dc1b2ac",
   "metadata": {},
   "outputs": [
    {
     "data": {
      "text/html": [
       "<div>\n",
       "<style scoped>\n",
       "    .dataframe tbody tr th:only-of-type {\n",
       "        vertical-align: middle;\n",
       "    }\n",
       "\n",
       "    .dataframe tbody tr th {\n",
       "        vertical-align: top;\n",
       "    }\n",
       "\n",
       "    .dataframe thead th {\n",
       "        text-align: right;\n",
       "    }\n",
       "</style>\n",
       "<table border=\"1\" class=\"dataframe\">\n",
       "  <thead>\n",
       "    <tr style=\"text-align: right;\">\n",
       "      <th></th>\n",
       "      <th>date</th>\n",
       "      <th>rolling_average_cases_per_100k_centered</th>\n",
       "      <th>region</th>\n",
       "      <th>state</th>\n",
       "      <th>county_fips_code</th>\n",
       "      <th>county_name</th>\n",
       "      <th>normalized_concentration_rolling_average</th>\n",
       "      <th>population</th>\n",
       "    </tr>\n",
       "    <tr>\n",
       "      <th>sampling_week</th>\n",
       "      <th></th>\n",
       "      <th></th>\n",
       "      <th></th>\n",
       "      <th></th>\n",
       "      <th></th>\n",
       "      <th></th>\n",
       "      <th></th>\n",
       "      <th></th>\n",
       "    </tr>\n",
       "  </thead>\n",
       "  <tbody>\n",
       "    <tr>\n",
       "      <th>2020-05-13</th>\n",
       "      <td>2020-05-13</td>\n",
       "      <td>12.358572</td>\n",
       "      <td>Midwest</td>\n",
       "      <td>IN</td>\n",
       "      <td>18089</td>\n",
       "      <td>Lake</td>\n",
       "      <td>124.219023</td>\n",
       "      <td>200000-500000</td>\n",
       "    </tr>\n",
       "    <tr>\n",
       "      <th>2020-05-20</th>\n",
       "      <td>2020-05-20</td>\n",
       "      <td>11.152140</td>\n",
       "      <td>Midwest</td>\n",
       "      <td>IN</td>\n",
       "      <td>18089</td>\n",
       "      <td>Lake</td>\n",
       "      <td>86.285771</td>\n",
       "      <td>200000-500000</td>\n",
       "    </tr>\n",
       "    <tr>\n",
       "      <th>2020-05-27</th>\n",
       "      <td>2020-05-27</td>\n",
       "      <td>10.210534</td>\n",
       "      <td>Midwest</td>\n",
       "      <td>IN</td>\n",
       "      <td>18089</td>\n",
       "      <td>Lake</td>\n",
       "      <td>66.981292</td>\n",
       "      <td>200000-500000</td>\n",
       "    </tr>\n",
       "    <tr>\n",
       "      <th>2020-06-03</th>\n",
       "      <td>2020-06-03</td>\n",
       "      <td>11.093289</td>\n",
       "      <td>Midwest</td>\n",
       "      <td>IN</td>\n",
       "      <td>18089</td>\n",
       "      <td>Lake</td>\n",
       "      <td>21.675411</td>\n",
       "      <td>200000-500000</td>\n",
       "    </tr>\n",
       "    <tr>\n",
       "      <th>2020-06-17</th>\n",
       "      <td>2020-06-17</td>\n",
       "      <td>7.268017</td>\n",
       "      <td>Midwest</td>\n",
       "      <td>IN</td>\n",
       "      <td>18089</td>\n",
       "      <td>Lake</td>\n",
       "      <td>43.899843</td>\n",
       "      <td>200000-500000</td>\n",
       "    </tr>\n",
       "    <tr>\n",
       "      <th>2020-06-24</th>\n",
       "      <td>2020-06-24</td>\n",
       "      <td>10.004558</td>\n",
       "      <td>Midwest</td>\n",
       "      <td>IN</td>\n",
       "      <td>18089</td>\n",
       "      <td>Lake</td>\n",
       "      <td>65.623157</td>\n",
       "      <td>100000-200000</td>\n",
       "    </tr>\n",
       "    <tr>\n",
       "      <th>2020-07-08</th>\n",
       "      <td>2020-07-08</td>\n",
       "      <td>14.241783</td>\n",
       "      <td>Midwest</td>\n",
       "      <td>IN</td>\n",
       "      <td>18089</td>\n",
       "      <td>Lake</td>\n",
       "      <td>145.255103</td>\n",
       "      <td>200000-500000</td>\n",
       "    </tr>\n",
       "    <tr>\n",
       "      <th>2020-07-15</th>\n",
       "      <td>2020-07-15</td>\n",
       "      <td>14.565459</td>\n",
       "      <td>Midwest</td>\n",
       "      <td>IN</td>\n",
       "      <td>18089</td>\n",
       "      <td>Lake</td>\n",
       "      <td>160.476485</td>\n",
       "      <td>200000-500000</td>\n",
       "    </tr>\n",
       "    <tr>\n",
       "      <th>2020-07-22</th>\n",
       "      <td>2020-07-22</td>\n",
       "      <td>14.918561</td>\n",
       "      <td>Midwest</td>\n",
       "      <td>IN</td>\n",
       "      <td>18089</td>\n",
       "      <td>Lake</td>\n",
       "      <td>172.795243</td>\n",
       "      <td>200000-500000</td>\n",
       "    </tr>\n",
       "    <tr>\n",
       "      <th>2020-07-29</th>\n",
       "      <td>2020-07-29</td>\n",
       "      <td>11.887769</td>\n",
       "      <td>Midwest</td>\n",
       "      <td>IN</td>\n",
       "      <td>18089</td>\n",
       "      <td>Lake</td>\n",
       "      <td>140.406348</td>\n",
       "      <td>200000-500000</td>\n",
       "    </tr>\n",
       "  </tbody>\n",
       "</table>\n",
       "</div>"
      ],
      "text/plain": [
       "                    date  rolling_average_cases_per_100k_centered   region  \\\n",
       "sampling_week                                                                \n",
       "2020-05-13    2020-05-13                                12.358572  Midwest   \n",
       "2020-05-20    2020-05-20                                11.152140  Midwest   \n",
       "2020-05-27    2020-05-27                                10.210534  Midwest   \n",
       "2020-06-03    2020-06-03                                11.093289  Midwest   \n",
       "2020-06-17    2020-06-17                                 7.268017  Midwest   \n",
       "2020-06-24    2020-06-24                                10.004558  Midwest   \n",
       "2020-07-08    2020-07-08                                14.241783  Midwest   \n",
       "2020-07-15    2020-07-15                                14.565459  Midwest   \n",
       "2020-07-22    2020-07-22                                14.918561  Midwest   \n",
       "2020-07-29    2020-07-29                                11.887769  Midwest   \n",
       "\n",
       "              state  county_fips_code county_name  \\\n",
       "sampling_week                                       \n",
       "2020-05-13       IN             18089        Lake   \n",
       "2020-05-20       IN             18089        Lake   \n",
       "2020-05-27       IN             18089        Lake   \n",
       "2020-06-03       IN             18089        Lake   \n",
       "2020-06-17       IN             18089        Lake   \n",
       "2020-06-24       IN             18089        Lake   \n",
       "2020-07-08       IN             18089        Lake   \n",
       "2020-07-15       IN             18089        Lake   \n",
       "2020-07-22       IN             18089        Lake   \n",
       "2020-07-29       IN             18089        Lake   \n",
       "\n",
       "               normalized_concentration_rolling_average     population  \n",
       "sampling_week                                                           \n",
       "2020-05-13                                   124.219023  200000-500000  \n",
       "2020-05-20                                    86.285771  200000-500000  \n",
       "2020-05-27                                    66.981292  200000-500000  \n",
       "2020-06-03                                    21.675411  200000-500000  \n",
       "2020-06-17                                    43.899843  200000-500000  \n",
       "2020-06-24                                    65.623157  100000-200000  \n",
       "2020-07-08                                   145.255103  200000-500000  \n",
       "2020-07-15                                   160.476485  200000-500000  \n",
       "2020-07-22                                   172.795243  200000-500000  \n",
       "2020-07-29                                   140.406348  200000-500000  "
      ]
     },
     "execution_count": 298,
     "metadata": {},
     "output_type": "execute_result"
    }
   ],
   "source": [
    "county_merged.head(10)"
   ]
  },
  {
   "cell_type": "code",
   "execution_count": 233,
   "id": "3c3c4159",
   "metadata": {},
   "outputs": [
    {
     "data": {
      "text/plain": [
       "0"
      ]
     },
     "execution_count": 233,
     "metadata": {},
     "output_type": "execute_result"
    }
   ],
   "source": [
    "county_merged['sampling_week'].isnull().sum()"
   ]
  },
  {
   "cell_type": "code",
   "execution_count": 234,
   "id": "4080dea6",
   "metadata": {},
   "outputs": [
    {
     "data": {
      "text/plain": [
       "66"
      ]
     },
     "execution_count": 234,
     "metadata": {},
     "output_type": "execute_result"
    }
   ],
   "source": [
    "county_merged['sampling_week'].nunique()"
   ]
  },
  {
   "cell_type": "code",
   "execution_count": 235,
   "id": "d6b31bf2",
   "metadata": {},
   "outputs": [
    {
     "data": {
      "text/plain": [
       "dtype('<M8[ns]')"
      ]
     },
     "execution_count": 235,
     "metadata": {},
     "output_type": "execute_result"
    }
   ],
   "source": [
    "county_merged['sampling_week'].dtype"
   ]
  },
  {
   "cell_type": "code",
   "execution_count": 236,
   "id": "9be8920c",
   "metadata": {},
   "outputs": [
    {
     "data": {
      "text/plain": [
       "(1251,)"
      ]
     },
     "execution_count": 236,
     "metadata": {},
     "output_type": "execute_result"
    }
   ],
   "source": [
    "county_merged['sampling_week'].shape"
   ]
  },
  {
   "cell_type": "code",
   "execution_count": 237,
   "id": "d07c433b",
   "metadata": {},
   "outputs": [
    {
     "data": {
      "text/plain": [
       "0"
      ]
     },
     "execution_count": 237,
     "metadata": {},
     "output_type": "execute_result"
    }
   ],
   "source": [
    "county_merged['date'].isnull().sum()"
   ]
  },
  {
   "cell_type": "code",
   "execution_count": 238,
   "id": "33618164",
   "metadata": {},
   "outputs": [
    {
     "name": "stdout",
     "output_type": "stream",
     "text": [
      "index 0\n",
      "date 0\n",
      "rolling_average_cases_per_100k_centered 0\n",
      "region 0\n",
      "state 0\n",
      "county_fips_code 0\n",
      "county_name 0\n",
      "sampling_week 0\n",
      "normalized_concentration_rolling_average 0\n",
      "population 0\n"
     ]
    }
   ],
   "source": [
    "for x in county_merged.columns:\n",
    "    print(x, county_merged[x].isnull().sum())"
   ]
  },
  {
   "cell_type": "code",
   "execution_count": 239,
   "id": "99ed809d",
   "metadata": {},
   "outputs": [],
   "source": [
    "def blank_check(df):\n",
    "    ''' A method to check my column cells from a pandas DataFrame for whitespace blanks.'''\n",
    "    return dict(zip(df.columns, [(df[x] == '').sum() for x in df.columns]))"
   ]
  },
  {
   "cell_type": "code",
   "execution_count": 240,
   "id": "1997ca63",
   "metadata": {},
   "outputs": [
    {
     "name": "stdout",
     "output_type": "stream",
     "text": [
      "index 0\n",
      "date 0\n",
      "rolling_average_cases_per_100k_centered 0\n",
      "region 0\n",
      "state 0\n",
      "county_fips_code 0\n",
      "county_name 0\n",
      "sampling_week 0\n",
      "normalized_concentration_rolling_average 0\n",
      "population 0\n"
     ]
    }
   ],
   "source": [
    "for col, blanks in blank_check(county_merged).items():\n",
    "    print(col, blanks)"
   ]
  },
  {
   "cell_type": "code",
   "execution_count": 241,
   "id": "cd13bafa",
   "metadata": {},
   "outputs": [
    {
     "data": {
      "text/html": [
       "<div>\n",
       "<style scoped>\n",
       "    .dataframe tbody tr th:only-of-type {\n",
       "        vertical-align: middle;\n",
       "    }\n",
       "\n",
       "    .dataframe tbody tr th {\n",
       "        vertical-align: top;\n",
       "    }\n",
       "\n",
       "    .dataframe thead th {\n",
       "        text-align: right;\n",
       "    }\n",
       "</style>\n",
       "<table border=\"1\" class=\"dataframe\">\n",
       "  <thead>\n",
       "    <tr style=\"text-align: right;\">\n",
       "      <th></th>\n",
       "      <th>index</th>\n",
       "      <th>date</th>\n",
       "      <th>rolling_average_cases_per_100k_centered</th>\n",
       "      <th>region</th>\n",
       "      <th>state</th>\n",
       "      <th>county_fips_code</th>\n",
       "      <th>county_name</th>\n",
       "      <th>sampling_week</th>\n",
       "      <th>normalized_concentration_rolling_average</th>\n",
       "      <th>population</th>\n",
       "    </tr>\n",
       "  </thead>\n",
       "  <tbody>\n",
       "    <tr>\n",
       "      <th>146</th>\n",
       "      <td>2164</td>\n",
       "      <td>2020-07-08</td>\n",
       "      <td>1.029032</td>\n",
       "      <td>Northeast</td>\n",
       "      <td>MA</td>\n",
       "      <td>25003</td>\n",
       "      <td>Berkshire</td>\n",
       "      <td>2020-07-08</td>\n",
       "      <td>23.265067</td>\n",
       "      <td>50000-100000</td>\n",
       "    </tr>\n",
       "    <tr>\n",
       "      <th>147</th>\n",
       "      <td>2171</td>\n",
       "      <td>2020-07-15</td>\n",
       "      <td>1.257706</td>\n",
       "      <td>Northeast</td>\n",
       "      <td>MA</td>\n",
       "      <td>25003</td>\n",
       "      <td>Berkshire</td>\n",
       "      <td>2020-07-15</td>\n",
       "      <td>15.510045</td>\n",
       "      <td>50000-100000</td>\n",
       "    </tr>\n",
       "    <tr>\n",
       "      <th>148</th>\n",
       "      <td>2192</td>\n",
       "      <td>2020-08-05</td>\n",
       "      <td>1.486380</td>\n",
       "      <td>Northeast</td>\n",
       "      <td>MA</td>\n",
       "      <td>25003</td>\n",
       "      <td>Berkshire</td>\n",
       "      <td>2020-08-05</td>\n",
       "      <td>5.836566</td>\n",
       "      <td>50000-100000</td>\n",
       "    </tr>\n",
       "    <tr>\n",
       "      <th>149</th>\n",
       "      <td>2199</td>\n",
       "      <td>2020-08-12</td>\n",
       "      <td>0.114337</td>\n",
       "      <td>Northeast</td>\n",
       "      <td>MA</td>\n",
       "      <td>25003</td>\n",
       "      <td>Berkshire</td>\n",
       "      <td>2020-08-12</td>\n",
       "      <td>0.000000</td>\n",
       "      <td>50000-100000</td>\n",
       "    </tr>\n",
       "    <tr>\n",
       "      <th>150</th>\n",
       "      <td>2213</td>\n",
       "      <td>2020-08-26</td>\n",
       "      <td>3.087097</td>\n",
       "      <td>Northeast</td>\n",
       "      <td>MA</td>\n",
       "      <td>25003</td>\n",
       "      <td>Berkshire</td>\n",
       "      <td>2020-08-26</td>\n",
       "      <td>0.000000</td>\n",
       "      <td>50000-100000</td>\n",
       "    </tr>\n",
       "    <tr>\n",
       "      <th>...</th>\n",
       "      <td>...</td>\n",
       "      <td>...</td>\n",
       "      <td>...</td>\n",
       "      <td>...</td>\n",
       "      <td>...</td>\n",
       "      <td>...</td>\n",
       "      <td>...</td>\n",
       "      <td>...</td>\n",
       "      <td>...</td>\n",
       "      <td>...</td>\n",
       "    </tr>\n",
       "    <tr>\n",
       "      <th>702</th>\n",
       "      <td>8465</td>\n",
       "      <td>2021-05-05</td>\n",
       "      <td>11.763976</td>\n",
       "      <td>Northeast</td>\n",
       "      <td>MA</td>\n",
       "      <td>25025</td>\n",
       "      <td>Suffolk</td>\n",
       "      <td>2021-05-05</td>\n",
       "      <td>102.059487</td>\n",
       "      <td>2000000-5000000</td>\n",
       "    </tr>\n",
       "    <tr>\n",
       "      <th>703</th>\n",
       "      <td>8472</td>\n",
       "      <td>2021-05-12</td>\n",
       "      <td>6.841587</td>\n",
       "      <td>Northeast</td>\n",
       "      <td>MA</td>\n",
       "      <td>25025</td>\n",
       "      <td>Suffolk</td>\n",
       "      <td>2021-05-12</td>\n",
       "      <td>69.625957</td>\n",
       "      <td>2000000-5000000</td>\n",
       "    </tr>\n",
       "    <tr>\n",
       "      <th>704</th>\n",
       "      <td>8479</td>\n",
       "      <td>2021-05-19</td>\n",
       "      <td>8.245446</td>\n",
       "      <td>Northeast</td>\n",
       "      <td>MA</td>\n",
       "      <td>25025</td>\n",
       "      <td>Suffolk</td>\n",
       "      <td>2021-05-19</td>\n",
       "      <td>50.628972</td>\n",
       "      <td>2000000-5000000</td>\n",
       "    </tr>\n",
       "    <tr>\n",
       "      <th>705</th>\n",
       "      <td>8486</td>\n",
       "      <td>2021-05-26</td>\n",
       "      <td>4.193804</td>\n",
       "      <td>Northeast</td>\n",
       "      <td>MA</td>\n",
       "      <td>25025</td>\n",
       "      <td>Suffolk</td>\n",
       "      <td>2021-05-26</td>\n",
       "      <td>38.508182</td>\n",
       "      <td>2000000-5000000</td>\n",
       "    </tr>\n",
       "    <tr>\n",
       "      <th>706</th>\n",
       "      <td>8493</td>\n",
       "      <td>2021-06-02</td>\n",
       "      <td>2.327917</td>\n",
       "      <td>Northeast</td>\n",
       "      <td>MA</td>\n",
       "      <td>25025</td>\n",
       "      <td>Suffolk</td>\n",
       "      <td>2021-06-02</td>\n",
       "      <td>28.980287</td>\n",
       "      <td>2000000-5000000</td>\n",
       "    </tr>\n",
       "  </tbody>\n",
       "</table>\n",
       "<p>253 rows × 10 columns</p>\n",
       "</div>"
      ],
      "text/plain": [
       "     index       date  rolling_average_cases_per_100k_centered     region  \\\n",
       "146   2164 2020-07-08                                 1.029032  Northeast   \n",
       "147   2171 2020-07-15                                 1.257706  Northeast   \n",
       "148   2192 2020-08-05                                 1.486380  Northeast   \n",
       "149   2199 2020-08-12                                 0.114337  Northeast   \n",
       "150   2213 2020-08-26                                 3.087097  Northeast   \n",
       "..     ...        ...                                      ...        ...   \n",
       "702   8465 2021-05-05                                11.763976  Northeast   \n",
       "703   8472 2021-05-12                                 6.841587  Northeast   \n",
       "704   8479 2021-05-19                                 8.245446  Northeast   \n",
       "705   8486 2021-05-26                                 4.193804  Northeast   \n",
       "706   8493 2021-06-02                                 2.327917  Northeast   \n",
       "\n",
       "    state  county_fips_code county_name sampling_week  \\\n",
       "146    MA             25003   Berkshire    2020-07-08   \n",
       "147    MA             25003   Berkshire    2020-07-15   \n",
       "148    MA             25003   Berkshire    2020-08-05   \n",
       "149    MA             25003   Berkshire    2020-08-12   \n",
       "150    MA             25003   Berkshire    2020-08-26   \n",
       "..    ...               ...         ...           ...   \n",
       "702    MA             25025     Suffolk    2021-05-05   \n",
       "703    MA             25025     Suffolk    2021-05-12   \n",
       "704    MA             25025     Suffolk    2021-05-19   \n",
       "705    MA             25025     Suffolk    2021-05-26   \n",
       "706    MA             25025     Suffolk    2021-06-02   \n",
       "\n",
       "     normalized_concentration_rolling_average       population  \n",
       "146                                 23.265067     50000-100000  \n",
       "147                                 15.510045     50000-100000  \n",
       "148                                  5.836566     50000-100000  \n",
       "149                                  0.000000     50000-100000  \n",
       "150                                  0.000000     50000-100000  \n",
       "..                                        ...              ...  \n",
       "702                                102.059487  2000000-5000000  \n",
       "703                                 69.625957  2000000-5000000  \n",
       "704                                 50.628972  2000000-5000000  \n",
       "705                                 38.508182  2000000-5000000  \n",
       "706                                 28.980287  2000000-5000000  \n",
       "\n",
       "[253 rows x 10 columns]"
      ]
     },
     "execution_count": 241,
     "metadata": {},
     "output_type": "execute_result"
    }
   ],
   "source": [
    "county_merged[county_merged['state']=='MA']"
   ]
  },
  {
   "cell_type": "code",
   "execution_count": 249,
   "id": "1f6cbb15",
   "metadata": {},
   "outputs": [
    {
     "data": {
      "text/plain": [
       "(253, 8)"
      ]
     },
     "execution_count": 249,
     "metadata": {},
     "output_type": "execute_result"
    }
   ],
   "source": [
    "Mass_df = pd.DataFrame(county_merged[county_merged['state']=='MA'])\n",
    "Mass_df.shape"
   ]
  },
  {
   "cell_type": "code",
   "execution_count": 284,
   "id": "b8eacc3b",
   "metadata": {},
   "outputs": [
    {
     "data": {
      "text/plain": [
       "<AxesSubplot:xlabel='date', ylabel='normalized_concentration_rolling_average'>"
      ]
     },
     "execution_count": 284,
     "metadata": {},
     "output_type": "execute_result"
    },
    {
     "data": {
      "image/png": "[encoded data removed]",
      "text/plain": [
       "<Figure size 432x288 with 1 Axes>"
      ]
     },
     "metadata": {
      "needs_background": "light"
     },
     "output_type": "display_data"
    },
    {
     "data": {
      "text/plain": [
       "<Figure size 1512x648 with 0 Axes>"
      ]
     },
     "metadata": {},
     "output_type": "display_data"
    }
   ],
   "source": [
    "fig, axs = plt.subplots()\n",
    "plt.figure(figsize=(21,9))\n",
    "sns.lineplot(x='date', y='normalized_concentration_rolling_average', \n",
    "            data=Mass_df, hue=Mass_df.county_name, ax=axs)"
   ]
  },
  {
   "cell_type": "code",
   "execution_count": 251,
   "id": "0d43a2cf",
   "metadata": {},
   "outputs": [
    {
     "data": {
      "text/plain": [
       "6"
      ]
     },
     "execution_count": 251,
     "metadata": {},
     "output_type": "execute_result"
    }
   ],
   "source": [
    "Mass_df.county_name.nunique()"
   ]
  },
  {
   "cell_type": "code",
   "execution_count": 260,
   "id": "5e325319",
   "metadata": {},
   "outputs": [
    {
     "ename": "TypeError",
     "evalue": "no numeric data to plot",
     "output_type": "error",
     "traceback": [
      "\u001b[1;31m---------------------------------------------------------------------------\u001b[0m",
      "\u001b[1;31mTypeError\u001b[0m                                 Traceback (most recent call last)",
      "\u001b[1;32m<ipython-input-260-cf8aeca222d8>\u001b[0m in \u001b[0;36m<module>\u001b[1;34m\u001b[0m\n\u001b[0;32m      1\u001b[0m \u001b[0mfig\u001b[0m\u001b[1;33m,\u001b[0m \u001b[0max\u001b[0m \u001b[1;33m=\u001b[0m \u001b[0mplt\u001b[0m\u001b[1;33m.\u001b[0m\u001b[0msubplots\u001b[0m\u001b[1;33m(\u001b[0m\u001b[1;33m)\u001b[0m\u001b[1;33m\u001b[0m\u001b[1;33m\u001b[0m\u001b[0m\n\u001b[1;32m----> 2\u001b[1;33m \u001b[0mMass_df\u001b[0m\u001b[1;33m.\u001b[0m\u001b[0mcounty_name\u001b[0m\u001b[1;33m.\u001b[0m\u001b[0mplot\u001b[0m\u001b[1;33m(\u001b[0m\u001b[1;33m)\u001b[0m\u001b[1;33m\u001b[0m\u001b[1;33m\u001b[0m\u001b[0m\n\u001b[0m",
      "\u001b[1;32m~\\anaconda3\\lib\\site-packages\\pandas\\plotting\\_core.py\u001b[0m in \u001b[0;36m__call__\u001b[1;34m(self, *args, **kwargs)\u001b[0m\n\u001b[0;32m    953\u001b[0m                     \u001b[0mdata\u001b[0m\u001b[1;33m.\u001b[0m\u001b[0mcolumns\u001b[0m \u001b[1;33m=\u001b[0m \u001b[0mlabel_name\u001b[0m\u001b[1;33m\u001b[0m\u001b[1;33m\u001b[0m\u001b[0m\n\u001b[0;32m    954\u001b[0m \u001b[1;33m\u001b[0m\u001b[0m\n\u001b[1;32m--> 955\u001b[1;33m         \u001b[1;32mreturn\u001b[0m \u001b[0mplot_backend\u001b[0m\u001b[1;33m.\u001b[0m\u001b[0mplot\u001b[0m\u001b[1;33m(\u001b[0m\u001b[0mdata\u001b[0m\u001b[1;33m,\u001b[0m \u001b[0mkind\u001b[0m\u001b[1;33m=\u001b[0m\u001b[0mkind\u001b[0m\u001b[1;33m,\u001b[0m \u001b[1;33m**\u001b[0m\u001b[0mkwargs\u001b[0m\u001b[1;33m)\u001b[0m\u001b[1;33m\u001b[0m\u001b[1;33m\u001b[0m\u001b[0m\n\u001b[0m\u001b[0;32m    956\u001b[0m \u001b[1;33m\u001b[0m\u001b[0m\n\u001b[0;32m    957\u001b[0m     \u001b[0m__call__\u001b[0m\u001b[1;33m.\u001b[0m\u001b[0m__doc__\u001b[0m \u001b[1;33m=\u001b[0m \u001b[0m__doc__\u001b[0m\u001b[1;33m\u001b[0m\u001b[1;33m\u001b[0m\u001b[0m\n",
      "\u001b[1;32m~\\anaconda3\\lib\\site-packages\\pandas\\plotting\\_matplotlib\\__init__.py\u001b[0m in \u001b[0;36mplot\u001b[1;34m(data, kind, **kwargs)\u001b[0m\n\u001b[0;32m     59\u001b[0m             \u001b[0mkwargs\u001b[0m\u001b[1;33m[\u001b[0m\u001b[1;34m\"ax\"\u001b[0m\u001b[1;33m]\u001b[0m \u001b[1;33m=\u001b[0m \u001b[0mgetattr\u001b[0m\u001b[1;33m(\u001b[0m\u001b[0max\u001b[0m\u001b[1;33m,\u001b[0m \u001b[1;34m\"left_ax\"\u001b[0m\u001b[1;33m,\u001b[0m \u001b[0max\u001b[0m\u001b[1;33m)\u001b[0m\u001b[1;33m\u001b[0m\u001b[1;33m\u001b[0m\u001b[0m\n\u001b[0;32m     60\u001b[0m     \u001b[0mplot_obj\u001b[0m \u001b[1;33m=\u001b[0m \u001b[0mPLOT_CLASSES\u001b[0m\u001b[1;33m[\u001b[0m\u001b[0mkind\u001b[0m\u001b[1;33m]\u001b[0m\u001b[1;33m(\u001b[0m\u001b[0mdata\u001b[0m\u001b[1;33m,\u001b[0m \u001b[1;33m**\u001b[0m\u001b[0mkwargs\u001b[0m\u001b[1;33m)\u001b[0m\u001b[1;33m\u001b[0m\u001b[1;33m\u001b[0m\u001b[0m\n\u001b[1;32m---> 61\u001b[1;33m     \u001b[0mplot_obj\u001b[0m\u001b[1;33m.\u001b[0m\u001b[0mgenerate\u001b[0m\u001b[1;33m(\u001b[0m\u001b[1;33m)\u001b[0m\u001b[1;33m\u001b[0m\u001b[1;33m\u001b[0m\u001b[0m\n\u001b[0m\u001b[0;32m     62\u001b[0m     \u001b[0mplot_obj\u001b[0m\u001b[1;33m.\u001b[0m\u001b[0mdraw\u001b[0m\u001b[1;33m(\u001b[0m\u001b[1;33m)\u001b[0m\u001b[1;33m\u001b[0m\u001b[1;33m\u001b[0m\u001b[0m\n\u001b[0;32m     63\u001b[0m     \u001b[1;32mreturn\u001b[0m \u001b[0mplot_obj\u001b[0m\u001b[1;33m.\u001b[0m\u001b[0mresult\u001b[0m\u001b[1;33m\u001b[0m\u001b[1;33m\u001b[0m\u001b[0m\n",
      "\u001b[1;32m~\\anaconda3\\lib\\site-packages\\pandas\\plotting\\_matplotlib\\core.py\u001b[0m in \u001b[0;36mgenerate\u001b[1;34m(self)\u001b[0m\n\u001b[0;32m    276\u001b[0m     \u001b[1;32mdef\u001b[0m \u001b[0mgenerate\u001b[0m\u001b[1;33m(\u001b[0m\u001b[0mself\u001b[0m\u001b[1;33m)\u001b[0m\u001b[1;33m:\u001b[0m\u001b[1;33m\u001b[0m\u001b[1;33m\u001b[0m\u001b[0m\n\u001b[0;32m    277\u001b[0m         \u001b[0mself\u001b[0m\u001b[1;33m.\u001b[0m\u001b[0m_args_adjust\u001b[0m\u001b[1;33m(\u001b[0m\u001b[1;33m)\u001b[0m\u001b[1;33m\u001b[0m\u001b[1;33m\u001b[0m\u001b[0m\n\u001b[1;32m--> 278\u001b[1;33m         \u001b[0mself\u001b[0m\u001b[1;33m.\u001b[0m\u001b[0m_compute_plot_data\u001b[0m\u001b[1;33m(\u001b[0m\u001b[1;33m)\u001b[0m\u001b[1;33m\u001b[0m\u001b[1;33m\u001b[0m\u001b[0m\n\u001b[0m\u001b[0;32m    279\u001b[0m         \u001b[0mself\u001b[0m\u001b[1;33m.\u001b[0m\u001b[0m_setup_subplots\u001b[0m\u001b[1;33m(\u001b[0m\u001b[1;33m)\u001b[0m\u001b[1;33m\u001b[0m\u001b[1;33m\u001b[0m\u001b[0m\n\u001b[0;32m    280\u001b[0m         \u001b[0mself\u001b[0m\u001b[1;33m.\u001b[0m\u001b[0m_make_plot\u001b[0m\u001b[1;33m(\u001b[0m\u001b[1;33m)\u001b[0m\u001b[1;33m\u001b[0m\u001b[1;33m\u001b[0m\u001b[0m\n",
      "\u001b[1;32m~\\anaconda3\\lib\\site-packages\\pandas\\plotting\\_matplotlib\\core.py\u001b[0m in \u001b[0;36m_compute_plot_data\u001b[1;34m(self)\u001b[0m\n\u001b[0;32m    439\u001b[0m         \u001b[1;31m# no non-numeric frames or series allowed\u001b[0m\u001b[1;33m\u001b[0m\u001b[1;33m\u001b[0m\u001b[1;33m\u001b[0m\u001b[0m\n\u001b[0;32m    440\u001b[0m         \u001b[1;32mif\u001b[0m \u001b[0mis_empty\u001b[0m\u001b[1;33m:\u001b[0m\u001b[1;33m\u001b[0m\u001b[1;33m\u001b[0m\u001b[0m\n\u001b[1;32m--> 441\u001b[1;33m             \u001b[1;32mraise\u001b[0m \u001b[0mTypeError\u001b[0m\u001b[1;33m(\u001b[0m\u001b[1;34m\"no numeric data to plot\"\u001b[0m\u001b[1;33m)\u001b[0m\u001b[1;33m\u001b[0m\u001b[1;33m\u001b[0m\u001b[0m\n\u001b[0m\u001b[0;32m    442\u001b[0m \u001b[1;33m\u001b[0m\u001b[0m\n\u001b[0;32m    443\u001b[0m         \u001b[0mself\u001b[0m\u001b[1;33m.\u001b[0m\u001b[0mdata\u001b[0m \u001b[1;33m=\u001b[0m \u001b[0mnumeric_data\u001b[0m\u001b[1;33m.\u001b[0m\u001b[0mapply\u001b[0m\u001b[1;33m(\u001b[0m\u001b[0mself\u001b[0m\u001b[1;33m.\u001b[0m\u001b[0m_convert_to_ndarray\u001b[0m\u001b[1;33m)\u001b[0m\u001b[1;33m\u001b[0m\u001b[1;33m\u001b[0m\u001b[0m\n",
      "\u001b[1;31mTypeError\u001b[0m: no numeric data to plot"
     ]
    },
    {
     "data": {
      "image/png": "[encoded data removed]",
      "text/plain": [
       "<Figure size 432x288 with 1 Axes>"
      ]
     },
     "metadata": {
      "needs_background": "light"
     },
     "output_type": "display_data"
    }
   ],
   "source": [
    "fig, ax = plt.subplots()\n",
    "Mass_df.county_name.plot(y='normalized_concentration_rolling_average')"
   ]
  },
  {
   "cell_type": "code",
   "execution_count": 242,
   "id": "cdfa1114",
   "metadata": {},
   "outputs": [
    {
     "data": {
      "text/plain": [
       "(1251, 10)"
      ]
     },
     "execution_count": 242,
     "metadata": {},
     "output_type": "execute_result"
    }
   ],
   "source": [
    "county_merged.shape"
   ]
  },
  {
   "cell_type": "code",
   "execution_count": 244,
   "id": "66f96e8e",
   "metadata": {},
   "outputs": [],
   "source": [
    "county_merged.set_index('sampling_week', drop=True, inplace=True)"
   ]
  },
  {
   "cell_type": "code",
   "execution_count": 245,
   "id": "0b1e56cd",
   "metadata": {},
   "outputs": [
    {
     "data": {
      "text/plain": [
       "(1251, 9)"
      ]
     },
     "execution_count": 245,
     "metadata": {},
     "output_type": "execute_result"
    }
   ],
   "source": [
    "county_merged.shape"
   ]
  },
  {
   "cell_type": "code",
   "execution_count": 246,
   "id": "a9f57fbc",
   "metadata": {},
   "outputs": [],
   "source": [
    "county_merged.drop(columns='index', inplace=True)"
   ]
  },
  {
   "cell_type": "code",
   "execution_count": 247,
   "id": "40c5d63b",
   "metadata": {},
   "outputs": [
    {
     "data": {
      "text/plain": [
       "(1251, 8)"
      ]
     },
     "execution_count": 247,
     "metadata": {},
     "output_type": "execute_result"
    }
   ],
   "source": [
    "county_merged.shape"
   ]
  },
  {
   "cell_type": "code",
   "execution_count": 248,
   "id": "456e78d5",
   "metadata": {},
   "outputs": [
    {
     "data": {
      "text/plain": [
       "<AxesSubplot:xlabel='date'>"
      ]
     },
     "execution_count": 248,
     "metadata": {},
     "output_type": "execute_result"
    },
    {
     "data": {
      "image/png": "[encoded data removed]",
      "text/plain": [
       "<Figure size 432x288 with 1 Axes>"
      ]
     },
     "metadata": {
      "needs_background": "light"
     },
     "output_type": "display_data"
    }
   ],
   "source": [
    "county_merged.plot(x='date', y='normalized_concentration_rolling_average')"
   ]
  },
  {
   "cell_type": "code",
   "execution_count": null,
   "id": "be7c95e9",
   "metadata": {},
   "outputs": [],
   "source": [
    "county_merged['date'].nunique()"
   ]
  },
  {
   "cell_type": "code",
   "execution_count": 19,
   "id": "2d94008f",
   "metadata": {},
   "outputs": [],
   "source": [
    "test_df = county_merged.set_index('date', drop=True)"
   ]
  },
  {
   "cell_type": "code",
   "execution_count": 25,
   "id": "828bdfd5",
   "metadata": {},
   "outputs": [],
   "source": [
    "test_df.drop(columns='index', inplace=True)"
   ]
  },
  {
   "cell_type": "code",
   "execution_count": 26,
   "id": "71f7b01f",
   "metadata": {},
   "outputs": [
    {
     "name": "stdout",
     "output_type": "stream",
     "text": [
      "<class 'pandas.core.frame.DataFrame'>\n",
      "DatetimeIndex: 37530 entries, 2020-03-04 to 2021-06-02\n",
      "Data columns (total 12 columns):\n",
      " #   Column                                    Non-Null Count  Dtype         \n",
      "---  ------                                    --------------  -----         \n",
      " 0   rolling_average_cases_per_100k_centered   37530 non-null  float64       \n",
      " 1   region_x                                  37530 non-null  object        \n",
      " 2   state_x                                   37530 non-null  object        \n",
      " 3   county_fips_code_x                        37530 non-null  int64         \n",
      " 4   county_name_x                             37530 non-null  object        \n",
      " 5   sampling_week                             37530 non-null  datetime64[ns]\n",
      " 6   normalized_concentration_rolling_average  37530 non-null  float64       \n",
      " 7   population                                37530 non-null  object        \n",
      " 8   region_y                                  37530 non-null  object        \n",
      " 9   state_y                                   37530 non-null  object        \n",
      " 10  county_fips_code_y                        37530 non-null  int64         \n",
      " 11  county_name_y                             37530 non-null  object        \n",
      "dtypes: datetime64[ns](1), float64(2), int64(2), object(7)\n",
      "memory usage: 4.7+ MB\n"
     ]
    }
   ],
   "source": [
    "test_df.info()"
   ]
  },
  {
   "cell_type": "code",
   "execution_count": null,
   "id": "e15cb292",
   "metadata": {},
   "outputs": [],
   "source": [
    "test_df[['state_x','state_y']].shape"
   ]
  },
  {
   "cell_type": "code",
   "execution_count": 28,
   "id": "5d1b8d0b",
   "metadata": {},
   "outputs": [],
   "source": [
    "state_filter = test_df.loc[~(test_df['state_x'] == test_df['state_y'])]"
   ]
  },
  {
   "cell_type": "code",
   "execution_count": 33,
   "id": "4b3feefe",
   "metadata": {},
   "outputs": [
    {
     "data": {
      "text/html": [
       "<div>\n",
       "<style scoped>\n",
       "    .dataframe tbody tr th:only-of-type {\n",
       "        vertical-align: middle;\n",
       "    }\n",
       "\n",
       "    .dataframe tbody tr th {\n",
       "        vertical-align: top;\n",
       "    }\n",
       "\n",
       "    .dataframe thead th {\n",
       "        text-align: right;\n",
       "    }\n",
       "</style>\n",
       "<table border=\"1\" class=\"dataframe\">\n",
       "  <thead>\n",
       "    <tr style=\"text-align: right;\">\n",
       "      <th></th>\n",
       "      <th>state_x</th>\n",
       "      <th>state_y</th>\n",
       "    </tr>\n",
       "    <tr>\n",
       "      <th>date</th>\n",
       "      <th></th>\n",
       "      <th></th>\n",
       "    </tr>\n",
       "  </thead>\n",
       "  <tbody>\n",
       "    <tr>\n",
       "      <th>2020-03-04</th>\n",
       "      <td>IN</td>\n",
       "      <td>MA</td>\n",
       "    </tr>\n",
       "    <tr>\n",
       "      <th>2020-03-04</th>\n",
       "      <td>IL</td>\n",
       "      <td>MA</td>\n",
       "    </tr>\n",
       "    <tr>\n",
       "      <th>2020-03-04</th>\n",
       "      <td>MN</td>\n",
       "      <td>MA</td>\n",
       "    </tr>\n",
       "    <tr>\n",
       "      <th>2020-03-04</th>\n",
       "      <td>IN</td>\n",
       "      <td>MA</td>\n",
       "    </tr>\n",
       "    <tr>\n",
       "      <th>2020-03-04</th>\n",
       "      <td>PA</td>\n",
       "      <td>MA</td>\n",
       "    </tr>\n",
       "    <tr>\n",
       "      <th>...</th>\n",
       "      <td>...</td>\n",
       "      <td>...</td>\n",
       "    </tr>\n",
       "    <tr>\n",
       "      <th>2021-06-02</th>\n",
       "      <td>CA</td>\n",
       "      <td>FL</td>\n",
       "    </tr>\n",
       "    <tr>\n",
       "      <th>2021-06-02</th>\n",
       "      <td>CA</td>\n",
       "      <td>TN</td>\n",
       "    </tr>\n",
       "    <tr>\n",
       "      <th>2021-06-02</th>\n",
       "      <td>CA</td>\n",
       "      <td>VA</td>\n",
       "    </tr>\n",
       "    <tr>\n",
       "      <th>2021-06-02</th>\n",
       "      <td>CA</td>\n",
       "      <td>CO</td>\n",
       "    </tr>\n",
       "    <tr>\n",
       "      <th>2021-06-02</th>\n",
       "      <td>CA</td>\n",
       "      <td>NV</td>\n",
       "    </tr>\n",
       "  </tbody>\n",
       "</table>\n",
       "<p>34000 rows × 2 columns</p>\n",
       "</div>"
      ],
      "text/plain": [
       "           state_x state_y\n",
       "date                      \n",
       "2020-03-04      IN      MA\n",
       "2020-03-04      IL      MA\n",
       "2020-03-04      MN      MA\n",
       "2020-03-04      IN      MA\n",
       "2020-03-04      PA      MA\n",
       "...            ...     ...\n",
       "2021-06-02      CA      FL\n",
       "2021-06-02      CA      TN\n",
       "2021-06-02      CA      VA\n",
       "2021-06-02      CA      CO\n",
       "2021-06-02      CA      NV\n",
       "\n",
       "[34000 rows x 2 columns]"
      ]
     },
     "execution_count": 33,
     "metadata": {},
     "output_type": "execute_result"
    }
   ],
   "source": [
    "state_filter[['state_x', 'state_y']]"
   ]
  },
  {
   "cell_type": "code",
   "execution_count": 64,
   "id": "62ea2bc0",
   "metadata": {},
   "outputs": [],
   "source": [
    "county_merged_by_fips = cases_county.reset_index().merge(wastewater_county, \n",
    "                                                         on='county_fips_code',\n",
    "                                                         how='left').fillna(np.nan)"
   ]
  },
  {
   "cell_type": "code",
   "execution_count": 66,
   "id": "66120155",
   "metadata": {},
   "outputs": [
    {
     "name": "stdout",
     "output_type": "stream",
     "text": [
      "<class 'pandas.core.frame.DataFrame'>\n",
      "Int64Index: 633500 entries, 0 to 633499\n",
      "Data columns (total 14 columns):\n",
      " #   Column                                    Non-Null Count   Dtype         \n",
      "---  ------                                    --------------   -----         \n",
      " 0   index                                     633500 non-null  int64         \n",
      " 1   date_x                                    633500 non-null  datetime64[ns]\n",
      " 2   rolling_average_cases_per_100k_centered   633500 non-null  float64       \n",
      " 3   region_x                                  633500 non-null  object        \n",
      " 4   state_x                                   633500 non-null  object        \n",
      " 5   county_fips_code                          633500 non-null  int64         \n",
      " 6   county_name_x                             633500 non-null  object        \n",
      " 7   sampling_week                             633500 non-null  datetime64[ns]\n",
      " 8   normalized_concentration_rolling_average  633500 non-null  float64       \n",
      " 9   population                                633500 non-null  object        \n",
      " 10  region_y                                  633500 non-null  object        \n",
      " 11  state_y                                   633500 non-null  object        \n",
      " 12  county_name_y                             633500 non-null  object        \n",
      " 13  date_y                                    633500 non-null  datetime64[ns]\n",
      "dtypes: datetime64[ns](3), float64(2), int64(2), object(7)\n",
      "memory usage: 72.5+ MB\n"
     ]
    }
   ],
   "source": [
    "county_merged_by_fips.info()"
   ]
  },
  {
   "cell_type": "code",
   "execution_count": 67,
   "id": "d2af9bff",
   "metadata": {},
   "outputs": [
    {
     "data": {
      "text/plain": [
       "19005000"
      ]
     },
     "execution_count": 67,
     "metadata": {},
     "output_type": "execute_result"
    }
   ],
   "source": [
    "15000*1267"
   ]
  },
  {
   "cell_type": "code",
   "execution_count": 68,
   "id": "a45cb378",
   "metadata": {},
   "outputs": [
    {
     "data": {
      "text/html": [
       "<div>\n",
       "<style scoped>\n",
       "    .dataframe tbody tr th:only-of-type {\n",
       "        vertical-align: middle;\n",
       "    }\n",
       "\n",
       "    .dataframe tbody tr th {\n",
       "        vertical-align: top;\n",
       "    }\n",
       "\n",
       "    .dataframe thead th {\n",
       "        text-align: right;\n",
       "    }\n",
       "</style>\n",
       "<table border=\"1\" class=\"dataframe\">\n",
       "  <thead>\n",
       "    <tr style=\"text-align: right;\">\n",
       "      <th></th>\n",
       "      <th>index</th>\n",
       "      <th>date_x</th>\n",
       "      <th>rolling_average_cases_per_100k_centered</th>\n",
       "      <th>region_x</th>\n",
       "      <th>state_x</th>\n",
       "      <th>county_fips_code</th>\n",
       "      <th>county_name_x</th>\n",
       "      <th>sampling_week</th>\n",
       "      <th>normalized_concentration_rolling_average</th>\n",
       "      <th>population</th>\n",
       "      <th>region_y</th>\n",
       "      <th>state_y</th>\n",
       "      <th>county_name_y</th>\n",
       "      <th>date_y</th>\n",
       "    </tr>\n",
       "  </thead>\n",
       "  <tbody>\n",
       "    <tr>\n",
       "      <th>0</th>\n",
       "      <td>0</td>\n",
       "      <td>2020-01-26</td>\n",
       "      <td>0.0</td>\n",
       "      <td>Midwest</td>\n",
       "      <td>IN</td>\n",
       "      <td>18089</td>\n",
       "      <td>Lake</td>\n",
       "      <td>2020-05-13</td>\n",
       "      <td>124.219023</td>\n",
       "      <td>200000-500000</td>\n",
       "      <td>Midwest</td>\n",
       "      <td>IN</td>\n",
       "      <td>Lake</td>\n",
       "      <td>2020-05-13</td>\n",
       "    </tr>\n",
       "  </tbody>\n",
       "</table>\n",
       "</div>"
      ],
      "text/plain": [
       "   index     date_x  rolling_average_cases_per_100k_centered region_x state_x  \\\n",
       "0      0 2020-01-26                                      0.0  Midwest      IN   \n",
       "\n",
       "   county_fips_code county_name_x sampling_week  \\\n",
       "0             18089          Lake    2020-05-13   \n",
       "\n",
       "   normalized_concentration_rolling_average     population region_y state_y  \\\n",
       "0                                124.219023  200000-500000  Midwest      IN   \n",
       "\n",
       "  county_name_y     date_y  \n",
       "0          Lake 2020-05-13  "
      ]
     },
     "execution_count": 68,
     "metadata": {},
     "output_type": "execute_result"
    }
   ],
   "source": [
    "county_merged_by_fips.head(1)"
   ]
  },
  {
   "cell_type": "code",
   "execution_count": 69,
   "id": "3e783e8b",
   "metadata": {},
   "outputs": [],
   "source": [
    "state_filter_by_fips = county_merged_by_fips.loc[\n",
    "    ~(county_merged_by_fips['state_x'] == county_merged_by_fips['state_y'])]"
   ]
  },
  {
   "cell_type": "code",
   "execution_count": 71,
   "id": "f1cbef53",
   "metadata": {},
   "outputs": [
    {
     "data": {
      "text/plain": [
       "(0, 14)"
      ]
     },
     "execution_count": 71,
     "metadata": {},
     "output_type": "execute_result"
    }
   ],
   "source": [
    "state_filter_by_fips.shape"
   ]
  },
  {
   "cell_type": "code",
   "execution_count": 74,
   "id": "ed6214da",
   "metadata": {},
   "outputs": [
    {
     "data": {
      "text/plain": [
       "state_y\n",
       "MA    128500\n",
       "PA     92000\n",
       "CA     70500\n",
       "IN     40500\n",
       "TN     32500\n",
       "FL     29500\n",
       "NV     29000\n",
       "KY     27500\n",
       "CT     27000\n",
       "OR     24500\n",
       "VA     24500\n",
       "CO     24000\n",
       "NY     19000\n",
       "DE     18000\n",
       "IL     17500\n",
       "MN     15000\n",
       "NJ     14000\n",
       "dtype: int64"
      ]
     },
     "execution_count": 74,
     "metadata": {},
     "output_type": "execute_result"
    }
   ],
   "source": [
    "county_merged_by_fips.value_counts('state_y')"
   ]
  },
  {
   "cell_type": "code",
   "execution_count": 91,
   "id": "893a7e6a",
   "metadata": {},
   "outputs": [],
   "source": [
    "Mass_cases = pd.DataFrame(cases_county.loc[(cases_county.state == 'MA')])"
   ]
  },
  {
   "cell_type": "code",
   "execution_count": 92,
   "id": "6267b55f",
   "metadata": {},
   "outputs": [],
   "source": [
    "Mass_wastewater = pd.DataFrame(wastewater_county.loc[(wastewater_county.state == 'MA')])"
   ]
  },
  {
   "cell_type": "code",
   "execution_count": 93,
   "id": "81be7ded",
   "metadata": {},
   "outputs": [
    {
     "data": {
      "text/plain": [
       "(3000, 6)"
      ]
     },
     "execution_count": 93,
     "metadata": {},
     "output_type": "execute_result"
    }
   ],
   "source": [
    "Mass_cases.shape"
   ]
  },
  {
   "cell_type": "code",
   "execution_count": 94,
   "id": "cb1b1c55",
   "metadata": {},
   "outputs": [
    {
     "data": {
      "text/plain": [
       "(257, 8)"
      ]
     },
     "execution_count": 94,
     "metadata": {},
     "output_type": "execute_result"
    }
   ],
   "source": [
    "Mass_wastewater.shape"
   ]
  },
  {
   "cell_type": "code",
   "execution_count": 95,
   "id": "a1b576fb",
   "metadata": {},
   "outputs": [],
   "source": [
    "Mass_wastewater['date'] = Mass_wastewater['sampling_week']"
   ]
  },
  {
   "cell_type": "code",
   "execution_count": 96,
   "id": "1327e715",
   "metadata": {},
   "outputs": [],
   "source": [
    "Mass_wastewater.drop(columns='sampling_week', inplace=True)"
   ]
  },
  {
   "cell_type": "code",
   "execution_count": 98,
   "id": "a55ce2b4",
   "metadata": {},
   "outputs": [
    {
     "data": {
      "text/plain": [
       "Index(['date', 'rolling_average_cases_per_100k_centered', 'region', 'state',\n",
       "       'county_fips_code', 'county_name'],\n",
       "      dtype='object')"
      ]
     },
     "execution_count": 98,
     "metadata": {},
     "output_type": "execute_result"
    }
   ],
   "source": [
    "Mass_cases.columns"
   ]
  },
  {
   "cell_type": "code",
   "execution_count": 99,
   "id": "5984b07e",
   "metadata": {},
   "outputs": [
    {
     "data": {
      "text/plain": [
       "Index(['normalized_concentration_rolling_average', 'population', 'region',\n",
       "       'state', 'county_fips_code', 'county_name', 'date'],\n",
       "      dtype='object')"
      ]
     },
     "execution_count": 99,
     "metadata": {},
     "output_type": "execute_result"
    }
   ],
   "source": [
    "Mass_wastewater.columns"
   ]
  },
  {
   "cell_type": "code",
   "execution_count": 206,
   "id": "12fa826e",
   "metadata": {},
   "outputs": [],
   "source": [
    "Mass_merged_df = Mass_cases.reset_index().merge(Mass_wastewater, how='cross')"
   ]
  },
  {
   "cell_type": "code",
   "execution_count": 207,
   "id": "d9f83418",
   "metadata": {},
   "outputs": [
    {
     "data": {
      "text/plain": [
       "(771000, 14)"
      ]
     },
     "execution_count": 207,
     "metadata": {},
     "output_type": "execute_result"
    }
   ],
   "source": [
    "Mass_merged_df.shape"
   ]
  },
  {
   "cell_type": "code",
   "execution_count": 208,
   "id": "5faa38da",
   "metadata": {},
   "outputs": [
    {
     "data": {
      "text/plain": [
       "Index(['index', 'date_x', 'rolling_average_cases_per_100k_centered',\n",
       "       'region_x', 'state_x', 'county_fips_code_x', 'county_name_x',\n",
       "       'normalized_concentration_rolling_average', 'population', 'region_y',\n",
       "       'state_y', 'county_fips_code_y', 'county_name_y', 'date_y'],\n",
       "      dtype='object')"
      ]
     },
     "execution_count": 208,
     "metadata": {},
     "output_type": "execute_result"
    }
   ],
   "source": [
    "Mass_merged_df.columns"
   ]
  },
  {
   "cell_type": "code",
   "execution_count": 200,
   "id": "f66f7a52",
   "metadata": {},
   "outputs": [
    {
     "data": {
      "text/plain": [
       "index                                          0\n",
       "date                                           0\n",
       "rolling_average_cases_per_100k_centered        0\n",
       "region                                         0\n",
       "state                                          0\n",
       "county_fips_code                               0\n",
       "county_name                                    0\n",
       "normalized_concentration_rolling_average    2747\n",
       "population                                  2747\n",
       "dtype: int64"
      ]
     },
     "execution_count": 200,
     "metadata": {},
     "output_type": "execute_result"
    }
   ],
   "source": [
    "Mass_merged_df.isnull().sum()"
   ]
  },
  {
   "cell_type": "code",
   "execution_count": 221,
   "id": "4972595a",
   "metadata": {},
   "outputs": [],
   "source": [
    "x = Mass_merged_df.copy()\n",
    "county_slice = x.loc[~(x.county_name_x == x.county_name_y)]"
   ]
  },
  {
   "cell_type": "code",
   "execution_count": 222,
   "id": "92b714c3",
   "metadata": {},
   "outputs": [
    {
     "data": {
      "text/plain": [
       "642500"
      ]
     },
     "execution_count": 222,
     "metadata": {},
     "output_type": "execute_result"
    }
   ],
   "source": [
    "len(county_slice)"
   ]
  },
  {
   "cell_type": "code",
   "execution_count": 229,
   "id": "fe5051f2",
   "metadata": {},
   "outputs": [
    {
     "data": {
      "text/html": [
       "<div>\n",
       "<style scoped>\n",
       "    .dataframe tbody tr th:only-of-type {\n",
       "        vertical-align: middle;\n",
       "    }\n",
       "\n",
       "    .dataframe tbody tr th {\n",
       "        vertical-align: top;\n",
       "    }\n",
       "\n",
       "    .dataframe thead th {\n",
       "        text-align: right;\n",
       "    }\n",
       "</style>\n",
       "<table border=\"1\" class=\"dataframe\">\n",
       "  <thead>\n",
       "    <tr style=\"text-align: right;\">\n",
       "      <th></th>\n",
       "      <th>index</th>\n",
       "      <th>date_x</th>\n",
       "      <th>rolling_average_cases_per_100k_centered</th>\n",
       "      <th>region_x</th>\n",
       "      <th>state_x</th>\n",
       "      <th>county_fips_code_x</th>\n",
       "      <th>county_name_x</th>\n",
       "      <th>normalized_concentration_rolling_average</th>\n",
       "      <th>population</th>\n",
       "      <th>region_y</th>\n",
       "      <th>state_y</th>\n",
       "      <th>county_fips_code_y</th>\n",
       "      <th>county_name_y</th>\n",
       "      <th>date_y</th>\n",
       "    </tr>\n",
       "  </thead>\n",
       "  <tbody>\n",
       "    <tr>\n",
       "      <th>30</th>\n",
       "      <td>2000</td>\n",
       "      <td>2020-01-26</td>\n",
       "      <td>0.0</td>\n",
       "      <td>Northeast</td>\n",
       "      <td>MA</td>\n",
       "      <td>25003</td>\n",
       "      <td>Berkshire</td>\n",
       "      <td>3.445926</td>\n",
       "      <td>20000-50000</td>\n",
       "      <td>Northeast</td>\n",
       "      <td>MA</td>\n",
       "      <td>25009</td>\n",
       "      <td>Essex</td>\n",
       "      <td>2020-08-05</td>\n",
       "    </tr>\n",
       "    <tr>\n",
       "      <th>31</th>\n",
       "      <td>2000</td>\n",
       "      <td>2020-01-26</td>\n",
       "      <td>0.0</td>\n",
       "      <td>Northeast</td>\n",
       "      <td>MA</td>\n",
       "      <td>25003</td>\n",
       "      <td>Berkshire</td>\n",
       "      <td>2.297284</td>\n",
       "      <td>20000-50000</td>\n",
       "      <td>Northeast</td>\n",
       "      <td>MA</td>\n",
       "      <td>25009</td>\n",
       "      <td>Essex</td>\n",
       "      <td>2020-08-12</td>\n",
       "    </tr>\n",
       "    <tr>\n",
       "      <th>32</th>\n",
       "      <td>2000</td>\n",
       "      <td>2020-01-26</td>\n",
       "      <td>0.0</td>\n",
       "      <td>Northeast</td>\n",
       "      <td>MA</td>\n",
       "      <td>25003</td>\n",
       "      <td>Berkshire</td>\n",
       "      <td>4.016684</td>\n",
       "      <td>20000-50000</td>\n",
       "      <td>Northeast</td>\n",
       "      <td>MA</td>\n",
       "      <td>25009</td>\n",
       "      <td>Essex</td>\n",
       "      <td>2020-08-19</td>\n",
       "    </tr>\n",
       "    <tr>\n",
       "      <th>33</th>\n",
       "      <td>2000</td>\n",
       "      <td>2020-01-26</td>\n",
       "      <td>0.0</td>\n",
       "      <td>Northeast</td>\n",
       "      <td>MA</td>\n",
       "      <td>25003</td>\n",
       "      <td>Berkshire</td>\n",
       "      <td>1.719400</td>\n",
       "      <td>20000-50000</td>\n",
       "      <td>Northeast</td>\n",
       "      <td>MA</td>\n",
       "      <td>25009</td>\n",
       "      <td>Essex</td>\n",
       "      <td>2020-08-26</td>\n",
       "    </tr>\n",
       "    <tr>\n",
       "      <th>34</th>\n",
       "      <td>2000</td>\n",
       "      <td>2020-01-26</td>\n",
       "      <td>0.0</td>\n",
       "      <td>Northeast</td>\n",
       "      <td>MA</td>\n",
       "      <td>25003</td>\n",
       "      <td>Berkshire</td>\n",
       "      <td>3.112600</td>\n",
       "      <td>20000-50000</td>\n",
       "      <td>Northeast</td>\n",
       "      <td>MA</td>\n",
       "      <td>25009</td>\n",
       "      <td>Essex</td>\n",
       "      <td>2020-09-02</td>\n",
       "    </tr>\n",
       "    <tr>\n",
       "      <th>35</th>\n",
       "      <td>2000</td>\n",
       "      <td>2020-01-26</td>\n",
       "      <td>0.0</td>\n",
       "      <td>Northeast</td>\n",
       "      <td>MA</td>\n",
       "      <td>25003</td>\n",
       "      <td>Berkshire</td>\n",
       "      <td>1.393199</td>\n",
       "      <td>20000-50000</td>\n",
       "      <td>Northeast</td>\n",
       "      <td>MA</td>\n",
       "      <td>25009</td>\n",
       "      <td>Essex</td>\n",
       "      <td>2020-09-09</td>\n",
       "    </tr>\n",
       "    <tr>\n",
       "      <th>36</th>\n",
       "      <td>2000</td>\n",
       "      <td>2020-01-26</td>\n",
       "      <td>0.0</td>\n",
       "      <td>Northeast</td>\n",
       "      <td>MA</td>\n",
       "      <td>25003</td>\n",
       "      <td>Berkshire</td>\n",
       "      <td>4.165386</td>\n",
       "      <td>20000-50000</td>\n",
       "      <td>Northeast</td>\n",
       "      <td>MA</td>\n",
       "      <td>25009</td>\n",
       "      <td>Essex</td>\n",
       "      <td>2020-09-16</td>\n",
       "    </tr>\n",
       "    <tr>\n",
       "      <th>37</th>\n",
       "      <td>2000</td>\n",
       "      <td>2020-01-26</td>\n",
       "      <td>0.0</td>\n",
       "      <td>Northeast</td>\n",
       "      <td>MA</td>\n",
       "      <td>25003</td>\n",
       "      <td>Berkshire</td>\n",
       "      <td>2.772187</td>\n",
       "      <td>20000-50000</td>\n",
       "      <td>Northeast</td>\n",
       "      <td>MA</td>\n",
       "      <td>25009</td>\n",
       "      <td>Essex</td>\n",
       "      <td>2020-09-23</td>\n",
       "    </tr>\n",
       "    <tr>\n",
       "      <th>38</th>\n",
       "      <td>2000</td>\n",
       "      <td>2020-01-26</td>\n",
       "      <td>0.0</td>\n",
       "      <td>Northeast</td>\n",
       "      <td>MA</td>\n",
       "      <td>25003</td>\n",
       "      <td>Berkshire</td>\n",
       "      <td>5.888057</td>\n",
       "      <td>20000-50000</td>\n",
       "      <td>Northeast</td>\n",
       "      <td>MA</td>\n",
       "      <td>25009</td>\n",
       "      <td>Essex</td>\n",
       "      <td>2020-09-30</td>\n",
       "    </tr>\n",
       "    <tr>\n",
       "      <th>39</th>\n",
       "      <td>2000</td>\n",
       "      <td>2020-01-26</td>\n",
       "      <td>0.0</td>\n",
       "      <td>Northeast</td>\n",
       "      <td>MA</td>\n",
       "      <td>25003</td>\n",
       "      <td>Berkshire</td>\n",
       "      <td>26.521146</td>\n",
       "      <td>20000-50000</td>\n",
       "      <td>Northeast</td>\n",
       "      <td>MA</td>\n",
       "      <td>25009</td>\n",
       "      <td>Essex</td>\n",
       "      <td>2020-10-07</td>\n",
       "    </tr>\n",
       "  </tbody>\n",
       "</table>\n",
       "</div>"
      ],
      "text/plain": [
       "    index     date_x  rolling_average_cases_per_100k_centered   region_x  \\\n",
       "30   2000 2020-01-26                                      0.0  Northeast   \n",
       "31   2000 2020-01-26                                      0.0  Northeast   \n",
       "32   2000 2020-01-26                                      0.0  Northeast   \n",
       "33   2000 2020-01-26                                      0.0  Northeast   \n",
       "34   2000 2020-01-26                                      0.0  Northeast   \n",
       "35   2000 2020-01-26                                      0.0  Northeast   \n",
       "36   2000 2020-01-26                                      0.0  Northeast   \n",
       "37   2000 2020-01-26                                      0.0  Northeast   \n",
       "38   2000 2020-01-26                                      0.0  Northeast   \n",
       "39   2000 2020-01-26                                      0.0  Northeast   \n",
       "\n",
       "   state_x  county_fips_code_x county_name_x  \\\n",
       "30      MA               25003     Berkshire   \n",
       "31      MA               25003     Berkshire   \n",
       "32      MA               25003     Berkshire   \n",
       "33      MA               25003     Berkshire   \n",
       "34      MA               25003     Berkshire   \n",
       "35      MA               25003     Berkshire   \n",
       "36      MA               25003     Berkshire   \n",
       "37      MA               25003     Berkshire   \n",
       "38      MA               25003     Berkshire   \n",
       "39      MA               25003     Berkshire   \n",
       "\n",
       "    normalized_concentration_rolling_average   population   region_y state_y  \\\n",
       "30                                  3.445926  20000-50000  Northeast      MA   \n",
       "31                                  2.297284  20000-50000  Northeast      MA   \n",
       "32                                  4.016684  20000-50000  Northeast      MA   \n",
       "33                                  1.719400  20000-50000  Northeast      MA   \n",
       "34                                  3.112600  20000-50000  Northeast      MA   \n",
       "35                                  1.393199  20000-50000  Northeast      MA   \n",
       "36                                  4.165386  20000-50000  Northeast      MA   \n",
       "37                                  2.772187  20000-50000  Northeast      MA   \n",
       "38                                  5.888057  20000-50000  Northeast      MA   \n",
       "39                                 26.521146  20000-50000  Northeast      MA   \n",
       "\n",
       "    county_fips_code_y county_name_y     date_y  \n",
       "30               25009         Essex 2020-08-05  \n",
       "31               25009         Essex 2020-08-12  \n",
       "32               25009         Essex 2020-08-19  \n",
       "33               25009         Essex 2020-08-26  \n",
       "34               25009         Essex 2020-09-02  \n",
       "35               25009         Essex 2020-09-09  \n",
       "36               25009         Essex 2020-09-16  \n",
       "37               25009         Essex 2020-09-23  \n",
       "38               25009         Essex 2020-09-30  \n",
       "39               25009         Essex 2020-10-07  "
      ]
     },
     "execution_count": 229,
     "metadata": {},
     "output_type": "execute_result"
    }
   ],
   "source": [
    "county_slice.head(10)"
   ]
  },
  {
   "cell_type": "code",
   "execution_count": 178,
   "id": "b456dbfd",
   "metadata": {},
   "outputs": [
    {
     "data": {
      "text/plain": [
       "6"
      ]
     },
     "execution_count": 178,
     "metadata": {},
     "output_type": "execute_result"
    }
   ],
   "source": [
    "Mass_merged_df.county_fips_code.nunique()"
   ]
  },
  {
   "cell_type": "code",
   "execution_count": 179,
   "id": "1b8f13e8",
   "metadata": {},
   "outputs": [
    {
     "data": {
      "text/plain": [
       "6"
      ]
     },
     "execution_count": 179,
     "metadata": {},
     "output_type": "execute_result"
    }
   ],
   "source": [
    "Mass_merged_df.county_name.nunique()"
   ]
  },
  {
   "cell_type": "code",
   "execution_count": 168,
   "id": "b5b3f41f",
   "metadata": {},
   "outputs": [],
   "source": [
    "kept_features = ['date', 'rolling_average_cases_per_100k_centered', 'region_x', 'state_x',\n",
    "                'county_fips_code_x', 'county_name_x']"
   ]
  },
  {
   "cell_type": "code",
   "execution_count": 169,
   "id": "e95b4e71",
   "metadata": {},
   "outputs": [
    {
     "ename": "KeyError",
     "evalue": "'county_name_x'",
     "output_type": "error",
     "traceback": [
      "\u001b[1;31m---------------------------------------------------------------------------\u001b[0m",
      "\u001b[1;31mKeyError\u001b[0m                                  Traceback (most recent call last)",
      "\u001b[1;32m~\\anaconda3\\lib\\site-packages\\pandas\\core\\indexes\\base.py\u001b[0m in \u001b[0;36mget_loc\u001b[1;34m(self, key, method, tolerance)\u001b[0m\n\u001b[0;32m   3079\u001b[0m             \u001b[1;32mtry\u001b[0m\u001b[1;33m:\u001b[0m\u001b[1;33m\u001b[0m\u001b[1;33m\u001b[0m\u001b[0m\n\u001b[1;32m-> 3080\u001b[1;33m                 \u001b[1;32mreturn\u001b[0m \u001b[0mself\u001b[0m\u001b[1;33m.\u001b[0m\u001b[0m_engine\u001b[0m\u001b[1;33m.\u001b[0m\u001b[0mget_loc\u001b[0m\u001b[1;33m(\u001b[0m\u001b[0mcasted_key\u001b[0m\u001b[1;33m)\u001b[0m\u001b[1;33m\u001b[0m\u001b[1;33m\u001b[0m\u001b[0m\n\u001b[0m\u001b[0;32m   3081\u001b[0m             \u001b[1;32mexcept\u001b[0m \u001b[0mKeyError\u001b[0m \u001b[1;32mas\u001b[0m \u001b[0merr\u001b[0m\u001b[1;33m:\u001b[0m\u001b[1;33m\u001b[0m\u001b[1;33m\u001b[0m\u001b[0m\n",
      "\u001b[1;32mpandas\\_libs\\index.pyx\u001b[0m in \u001b[0;36mpandas._libs.index.IndexEngine.get_loc\u001b[1;34m()\u001b[0m\n",
      "\u001b[1;32mpandas\\_libs\\index.pyx\u001b[0m in \u001b[0;36mpandas._libs.index.IndexEngine.get_loc\u001b[1;34m()\u001b[0m\n",
      "\u001b[1;32mpandas\\_libs\\hashtable_class_helper.pxi\u001b[0m in \u001b[0;36mpandas._libs.hashtable.PyObjectHashTable.get_item\u001b[1;34m()\u001b[0m\n",
      "\u001b[1;32mpandas\\_libs\\hashtable_class_helper.pxi\u001b[0m in \u001b[0;36mpandas._libs.hashtable.PyObjectHashTable.get_item\u001b[1;34m()\u001b[0m\n",
      "\u001b[1;31mKeyError\u001b[0m: 'county_name_x'",
      "\nThe above exception was the direct cause of the following exception:\n",
      "\u001b[1;31mKeyError\u001b[0m                                  Traceback (most recent call last)",
      "\u001b[1;32m<ipython-input-169-08ec9b5f5e0b>\u001b[0m in \u001b[0;36m<module>\u001b[1;34m\u001b[0m\n\u001b[1;32m----> 1\u001b[1;33m \u001b[0mMass_county_filter\u001b[0m \u001b[1;33m=\u001b[0m \u001b[0mMass_merged_df\u001b[0m\u001b[1;33m.\u001b[0m\u001b[0mloc\u001b[0m\u001b[1;33m[\u001b[0m\u001b[1;33m~\u001b[0m\u001b[1;33m(\u001b[0m\u001b[0mMass_merged_df\u001b[0m\u001b[1;33m[\u001b[0m\u001b[1;34m'county_name_x'\u001b[0m\u001b[1;33m]\u001b[0m \u001b[1;33m==\u001b[0m \u001b[0mMass_merged_df\u001b[0m\u001b[1;33m[\u001b[0m\u001b[1;34m'county_name_y'\u001b[0m\u001b[1;33m]\u001b[0m\u001b[1;33m)\u001b[0m\u001b[1;33m]\u001b[0m\u001b[1;33m\u001b[0m\u001b[1;33m\u001b[0m\u001b[0m\n\u001b[0m",
      "\u001b[1;32m~\\anaconda3\\lib\\site-packages\\pandas\\core\\frame.py\u001b[0m in \u001b[0;36m__getitem__\u001b[1;34m(self, key)\u001b[0m\n\u001b[0;32m   3022\u001b[0m             \u001b[1;32mif\u001b[0m \u001b[0mself\u001b[0m\u001b[1;33m.\u001b[0m\u001b[0mcolumns\u001b[0m\u001b[1;33m.\u001b[0m\u001b[0mnlevels\u001b[0m \u001b[1;33m>\u001b[0m \u001b[1;36m1\u001b[0m\u001b[1;33m:\u001b[0m\u001b[1;33m\u001b[0m\u001b[1;33m\u001b[0m\u001b[0m\n\u001b[0;32m   3023\u001b[0m                 \u001b[1;32mreturn\u001b[0m \u001b[0mself\u001b[0m\u001b[1;33m.\u001b[0m\u001b[0m_getitem_multilevel\u001b[0m\u001b[1;33m(\u001b[0m\u001b[0mkey\u001b[0m\u001b[1;33m)\u001b[0m\u001b[1;33m\u001b[0m\u001b[1;33m\u001b[0m\u001b[0m\n\u001b[1;32m-> 3024\u001b[1;33m             \u001b[0mindexer\u001b[0m \u001b[1;33m=\u001b[0m \u001b[0mself\u001b[0m\u001b[1;33m.\u001b[0m\u001b[0mcolumns\u001b[0m\u001b[1;33m.\u001b[0m\u001b[0mget_loc\u001b[0m\u001b[1;33m(\u001b[0m\u001b[0mkey\u001b[0m\u001b[1;33m)\u001b[0m\u001b[1;33m\u001b[0m\u001b[1;33m\u001b[0m\u001b[0m\n\u001b[0m\u001b[0;32m   3025\u001b[0m             \u001b[1;32mif\u001b[0m \u001b[0mis_integer\u001b[0m\u001b[1;33m(\u001b[0m\u001b[0mindexer\u001b[0m\u001b[1;33m)\u001b[0m\u001b[1;33m:\u001b[0m\u001b[1;33m\u001b[0m\u001b[1;33m\u001b[0m\u001b[0m\n\u001b[0;32m   3026\u001b[0m                 \u001b[0mindexer\u001b[0m \u001b[1;33m=\u001b[0m \u001b[1;33m[\u001b[0m\u001b[0mindexer\u001b[0m\u001b[1;33m]\u001b[0m\u001b[1;33m\u001b[0m\u001b[1;33m\u001b[0m\u001b[0m\n",
      "\u001b[1;32m~\\anaconda3\\lib\\site-packages\\pandas\\core\\indexes\\base.py\u001b[0m in \u001b[0;36mget_loc\u001b[1;34m(self, key, method, tolerance)\u001b[0m\n\u001b[0;32m   3080\u001b[0m                 \u001b[1;32mreturn\u001b[0m \u001b[0mself\u001b[0m\u001b[1;33m.\u001b[0m\u001b[0m_engine\u001b[0m\u001b[1;33m.\u001b[0m\u001b[0mget_loc\u001b[0m\u001b[1;33m(\u001b[0m\u001b[0mcasted_key\u001b[0m\u001b[1;33m)\u001b[0m\u001b[1;33m\u001b[0m\u001b[1;33m\u001b[0m\u001b[0m\n\u001b[0;32m   3081\u001b[0m             \u001b[1;32mexcept\u001b[0m \u001b[0mKeyError\u001b[0m \u001b[1;32mas\u001b[0m \u001b[0merr\u001b[0m\u001b[1;33m:\u001b[0m\u001b[1;33m\u001b[0m\u001b[1;33m\u001b[0m\u001b[0m\n\u001b[1;32m-> 3082\u001b[1;33m                 \u001b[1;32mraise\u001b[0m \u001b[0mKeyError\u001b[0m\u001b[1;33m(\u001b[0m\u001b[0mkey\u001b[0m\u001b[1;33m)\u001b[0m \u001b[1;32mfrom\u001b[0m \u001b[0merr\u001b[0m\u001b[1;33m\u001b[0m\u001b[1;33m\u001b[0m\u001b[0m\n\u001b[0m\u001b[0;32m   3083\u001b[0m \u001b[1;33m\u001b[0m\u001b[0m\n\u001b[0;32m   3084\u001b[0m         \u001b[1;32mif\u001b[0m \u001b[0mtolerance\u001b[0m \u001b[1;32mis\u001b[0m \u001b[1;32mnot\u001b[0m \u001b[1;32mNone\u001b[0m\u001b[1;33m:\u001b[0m\u001b[1;33m\u001b[0m\u001b[1;33m\u001b[0m\u001b[0m\n",
      "\u001b[1;31mKeyError\u001b[0m: 'county_name_x'"
     ]
    }
   ],
   "source": [
    "Mass_county_filter = Mass_merged_df.loc[~(Mass_merged_df['county_name_x'] == Mass_merged_df['county_name_y'])]"
   ]
  },
  {
   "cell_type": "code",
   "execution_count": 163,
   "id": "e71d9261",
   "metadata": {},
   "outputs": [
    {
     "data": {
      "text/plain": [
       "(1265, 13)"
      ]
     },
     "execution_count": 163,
     "metadata": {},
     "output_type": "execute_result"
    }
   ],
   "source": [
    "Mass_county_filter.shape"
   ]
  },
  {
   "cell_type": "code",
   "execution_count": 164,
   "id": "16e94d0a",
   "metadata": {},
   "outputs": [
    {
     "data": {
      "text/html": [
       "<div>\n",
       "<style scoped>\n",
       "    .dataframe tbody tr th:only-of-type {\n",
       "        vertical-align: middle;\n",
       "    }\n",
       "\n",
       "    .dataframe tbody tr th {\n",
       "        vertical-align: top;\n",
       "    }\n",
       "\n",
       "    .dataframe thead th {\n",
       "        text-align: right;\n",
       "    }\n",
       "</style>\n",
       "<table border=\"1\" class=\"dataframe\">\n",
       "  <thead>\n",
       "    <tr style=\"text-align: right;\">\n",
       "      <th></th>\n",
       "      <th>index</th>\n",
       "      <th>date</th>\n",
       "      <th>rolling_average_cases_per_100k_centered</th>\n",
       "      <th>region_x</th>\n",
       "      <th>state_x</th>\n",
       "      <th>county_fips_code_x</th>\n",
       "      <th>county_name_x</th>\n",
       "      <th>normalized_concentration_rolling_average</th>\n",
       "      <th>population</th>\n",
       "      <th>region_y</th>\n",
       "      <th>state_y</th>\n",
       "      <th>county_fips_code_y</th>\n",
       "      <th>county_name_y</th>\n",
       "    </tr>\n",
       "  </thead>\n",
       "  <tbody>\n",
       "    <tr>\n",
       "      <th>1512</th>\n",
       "      <td>6993</td>\n",
       "      <td>2021-06-02</td>\n",
       "      <td>1.253243</td>\n",
       "      <td>Northeast</td>\n",
       "      <td>MA</td>\n",
       "      <td>25019</td>\n",
       "      <td>Nantucket</td>\n",
       "      <td>2.898029e+01</td>\n",
       "      <td>2000000-5000000</td>\n",
       "      <td>Northeast</td>\n",
       "      <td>MA</td>\n",
       "      <td>25025</td>\n",
       "      <td>Suffolk</td>\n",
       "    </tr>\n",
       "    <tr>\n",
       "      <th>1513</th>\n",
       "      <td>8493</td>\n",
       "      <td>2021-06-02</td>\n",
       "      <td>2.327917</td>\n",
       "      <td>Northeast</td>\n",
       "      <td>MA</td>\n",
       "      <td>25025</td>\n",
       "      <td>Suffolk</td>\n",
       "      <td>1.370887e+01</td>\n",
       "      <td>50000-100000</td>\n",
       "      <td>Northeast</td>\n",
       "      <td>MA</td>\n",
       "      <td>25003</td>\n",
       "      <td>Berkshire</td>\n",
       "    </tr>\n",
       "    <tr>\n",
       "      <th>1514</th>\n",
       "      <td>8493</td>\n",
       "      <td>2021-06-02</td>\n",
       "      <td>2.327917</td>\n",
       "      <td>Northeast</td>\n",
       "      <td>MA</td>\n",
       "      <td>25025</td>\n",
       "      <td>Suffolk</td>\n",
       "      <td>6.631732e-14</td>\n",
       "      <td>20000-50000</td>\n",
       "      <td>Northeast</td>\n",
       "      <td>MA</td>\n",
       "      <td>25009</td>\n",
       "      <td>Essex</td>\n",
       "    </tr>\n",
       "    <tr>\n",
       "      <th>1515</th>\n",
       "      <td>8493</td>\n",
       "      <td>2021-06-02</td>\n",
       "      <td>2.327917</td>\n",
       "      <td>Northeast</td>\n",
       "      <td>MA</td>\n",
       "      <td>25025</td>\n",
       "      <td>Suffolk</td>\n",
       "      <td>2.343160e+00</td>\n",
       "      <td>100000-200000</td>\n",
       "      <td>Northeast</td>\n",
       "      <td>MA</td>\n",
       "      <td>25017</td>\n",
       "      <td>Middlesex</td>\n",
       "    </tr>\n",
       "    <tr>\n",
       "      <th>1516</th>\n",
       "      <td>8493</td>\n",
       "      <td>2021-06-02</td>\n",
       "      <td>2.327917</td>\n",
       "      <td>Northeast</td>\n",
       "      <td>MA</td>\n",
       "      <td>25025</td>\n",
       "      <td>Suffolk</td>\n",
       "      <td>9.712605e-01</td>\n",
       "      <td>10000-20000</td>\n",
       "      <td>Northeast</td>\n",
       "      <td>MA</td>\n",
       "      <td>25019</td>\n",
       "      <td>Nantucket</td>\n",
       "    </tr>\n",
       "  </tbody>\n",
       "</table>\n",
       "</div>"
      ],
      "text/plain": [
       "      index       date  rolling_average_cases_per_100k_centered   region_x  \\\n",
       "1512   6993 2021-06-02                                 1.253243  Northeast   \n",
       "1513   8493 2021-06-02                                 2.327917  Northeast   \n",
       "1514   8493 2021-06-02                                 2.327917  Northeast   \n",
       "1515   8493 2021-06-02                                 2.327917  Northeast   \n",
       "1516   8493 2021-06-02                                 2.327917  Northeast   \n",
       "\n",
       "     state_x  county_fips_code_x county_name_x  \\\n",
       "1512      MA               25019     Nantucket   \n",
       "1513      MA               25025       Suffolk   \n",
       "1514      MA               25025       Suffolk   \n",
       "1515      MA               25025       Suffolk   \n",
       "1516      MA               25025       Suffolk   \n",
       "\n",
       "      normalized_concentration_rolling_average       population   region_y  \\\n",
       "1512                              2.898029e+01  2000000-5000000  Northeast   \n",
       "1513                              1.370887e+01     50000-100000  Northeast   \n",
       "1514                              6.631732e-14      20000-50000  Northeast   \n",
       "1515                              2.343160e+00    100000-200000  Northeast   \n",
       "1516                              9.712605e-01      10000-20000  Northeast   \n",
       "\n",
       "     state_y  county_fips_code_y county_name_y  \n",
       "1512      MA               25025       Suffolk  \n",
       "1513      MA               25003     Berkshire  \n",
       "1514      MA               25009         Essex  \n",
       "1515      MA               25017     Middlesex  \n",
       "1516      MA               25019     Nantucket  "
      ]
     },
     "execution_count": 164,
     "metadata": {},
     "output_type": "execute_result"
    }
   ],
   "source": [
    "Mass_county_filter.tail()"
   ]
  },
  {
   "cell_type": "code",
   "execution_count": null,
   "id": "0512e7da",
   "metadata": {},
   "outputs": [],
   "source": []
  }
 ],
 "metadata": {
  "kernelspec": {
   "display_name": "Python 3",
   "language": "python",
   "name": "python3"
  },
  "language_info": {
   "codemirror_mode": {
    "name": "ipython",
    "version": 3
   },
   "file_extension": ".py",
   "mimetype": "text/x-python",
   "name": "python",
   "nbconvert_exporter": "python",
   "pygments_lexer": "ipython3",
   "version": "3.8.8"
  }
 },
 "nbformat": 4,
 "nbformat_minor": 5
}
