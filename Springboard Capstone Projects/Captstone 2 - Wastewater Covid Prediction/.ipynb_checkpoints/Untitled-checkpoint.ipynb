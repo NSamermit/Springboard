{
 "cells": [
  {
   "cell_type": "code",
   "execution_count": 1,
   "id": "092cb2cc",
   "metadata": {},
   "outputs": [],
   "source": [
    "import pandas as pd\n",
    "import numpy as np\n",
    "import matplotlib.pyplot as plt\n",
    "import seaborn as sns\n",
    "import pickle\n",
    "from functools import reduce"
   ]
  },
  {
   "cell_type": "code",
   "execution_count": 2,
   "id": "30ea6b42",
   "metadata": {},
   "outputs": [],
   "source": [
    "cases_by_county = 'Biobot Data/cases_by_county.csv'\n",
    "cases_county = pd.read_csv(cases_by_county, parse_dates=['date'])"
   ]
  },
  {
   "cell_type": "code",
   "execution_count": 3,
   "id": "2be18e60",
   "metadata": {},
   "outputs": [
    {
     "name": "stdout",
     "output_type": "stream",
     "text": [
      "<class 'pandas.core.frame.DataFrame'>\n",
      "RangeIndex: 15000 entries, 0 to 14999\n",
      "Data columns (total 6 columns):\n",
      " #   Column                                   Non-Null Count  Dtype         \n",
      "---  ------                                   --------------  -----         \n",
      " 0   date                                     15000 non-null  datetime64[ns]\n",
      " 1   rolling_average_cases_per_100k_centered  15000 non-null  float64       \n",
      " 2   region                                   15000 non-null  object        \n",
      " 3   state                                    15000 non-null  object        \n",
      " 4   county_fips_code                         15000 non-null  int64         \n",
      " 5   county_name                              15000 non-null  object        \n",
      "dtypes: datetime64[ns](1), float64(1), int64(1), object(3)\n",
      "memory usage: 703.2+ KB\n"
     ]
    }
   ],
   "source": [
    "cases_county.info()"
   ]
  },
  {
   "cell_type": "code",
   "execution_count": 4,
   "id": "bbe78ae1",
   "metadata": {},
   "outputs": [],
   "source": [
    "cases_by_region = 'Biobot Data/cases_by_region.csv'\n",
    "cases_region = pd.read_csv(cases_by_region, parse_dates=['date'])"
   ]
  },
  {
   "cell_type": "code",
   "execution_count": 5,
   "id": "514447d5",
   "metadata": {},
   "outputs": [
    {
     "name": "stdout",
     "output_type": "stream",
     "text": [
      "<class 'pandas.core.frame.DataFrame'>\n",
      "RangeIndex: 2500 entries, 0 to 2499\n",
      "Data columns (total 3 columns):\n",
      " #   Column                                   Non-Null Count  Dtype         \n",
      "---  ------                                   --------------  -----         \n",
      " 0   date                                     2500 non-null   datetime64[ns]\n",
      " 1   rolling_average_cases_per_100k_centered  2500 non-null   float64       \n",
      " 2   region                                   2500 non-null   object        \n",
      "dtypes: datetime64[ns](1), float64(1), object(1)\n",
      "memory usage: 58.7+ KB\n"
     ]
    }
   ],
   "source": [
    "cases_region.info()"
   ]
  },
  {
   "cell_type": "code",
   "execution_count": 6,
   "id": "887d1cb3",
   "metadata": {},
   "outputs": [],
   "source": [
    "wastewater_by_county = 'Biobot Data/wastewater_by_county.csv'\n",
    "wastewater_county = pd.read_csv(wastewater_by_county, parse_dates=['sampling_week'])"
   ]
  },
  {
   "cell_type": "code",
   "execution_count": 7,
   "id": "3d1e0ca6",
   "metadata": {},
   "outputs": [
    {
     "name": "stdout",
     "output_type": "stream",
     "text": [
      "<class 'pandas.core.frame.DataFrame'>\n",
      "RangeIndex: 1267 entries, 0 to 1266\n",
      "Data columns (total 7 columns):\n",
      " #   Column                                    Non-Null Count  Dtype         \n",
      "---  ------                                    --------------  -----         \n",
      " 0   sampling_week                             1267 non-null   datetime64[ns]\n",
      " 1   normalized_concentration_rolling_average  1267 non-null   float64       \n",
      " 2   population                                1267 non-null   object        \n",
      " 3   region                                    1267 non-null   object        \n",
      " 4   state                                     1267 non-null   object        \n",
      " 5   county_fips_code                          1267 non-null   int64         \n",
      " 6   county_name                               1267 non-null   object        \n",
      "dtypes: datetime64[ns](1), float64(1), int64(1), object(4)\n",
      "memory usage: 69.4+ KB\n"
     ]
    }
   ],
   "source": [
    "wastewater_county.info()"
   ]
  },
  {
   "cell_type": "code",
   "execution_count": 8,
   "id": "63a858df",
   "metadata": {},
   "outputs": [],
   "source": [
    "wastewater_by_region = 'Biobot Data/wastewater_by_region.csv'\n",
    "wastewater_region = pd.read_csv(wastewater_by_region, parse_dates=['sampling_week'])"
   ]
  },
  {
   "cell_type": "code",
   "execution_count": 9,
   "id": "c8c43b8c",
   "metadata": {},
   "outputs": [
    {
     "name": "stdout",
     "output_type": "stream",
     "text": [
      "<class 'pandas.core.frame.DataFrame'>\n",
      "RangeIndex: 315 entries, 0 to 314\n",
      "Data columns (total 4 columns):\n",
      " #   Column                                    Non-Null Count  Dtype         \n",
      "---  ------                                    --------------  -----         \n",
      " 0   sampling_week                             315 non-null    datetime64[ns]\n",
      " 1   normalized_concentration_rolling_average  315 non-null    float64       \n",
      " 2   population                                315 non-null    object        \n",
      " 3   region                                    315 non-null    object        \n",
      "dtypes: datetime64[ns](1), float64(1), object(2)\n",
      "memory usage: 10.0+ KB\n"
     ]
    }
   ],
   "source": [
    "wastewater_region.info()"
   ]
  },
  {
   "cell_type": "code",
   "execution_count": null,
   "id": "813465f8",
   "metadata": {},
   "outputs": [],
   "source": [
    "cases_data_frames = [cases_county, cases_region]\n",
    "wastewater_data_frames = [wastewater_county, wastewater_region]"
   ]
  },
  {
   "cell_type": "code",
   "execution_count": 12,
   "id": "c5c896d2",
   "metadata": {},
   "outputs": [],
   "source": [
    "county_merged = cases_county.reset_index().merge(wastewater_county, on='region')"
   ]
  },
  {
   "cell_type": "code",
   "execution_count": 13,
   "id": "2dbd9919",
   "metadata": {},
   "outputs": [
    {
     "name": "stdout",
     "output_type": "stream",
     "text": [
      "<class 'pandas.core.frame.DataFrame'>\n",
      "Int64Index: 6077000 entries, 0 to 6076999\n",
      "Data columns (total 13 columns):\n",
      " #   Column                                    Dtype         \n",
      "---  ------                                    -----         \n",
      " 0   index                                     int64         \n",
      " 1   date                                      datetime64[ns]\n",
      " 2   rolling_average_cases_per_100k_centered   float64       \n",
      " 3   region                                    object        \n",
      " 4   state_x                                   object        \n",
      " 5   county_fips_code_x                        int64         \n",
      " 6   county_name_x                             object        \n",
      " 7   sampling_week                             datetime64[ns]\n",
      " 8   normalized_concentration_rolling_average  float64       \n",
      " 9   population                                object        \n",
      " 10  state_y                                   object        \n",
      " 11  county_fips_code_y                        int64         \n",
      " 12  county_name_y                             object        \n",
      "dtypes: datetime64[ns](2), float64(2), int64(3), object(6)\n",
      "memory usage: 649.1+ MB\n"
     ]
    }
   ],
   "source": [
    "county_merged.info()"
   ]
  },
  {
   "cell_type": "code",
   "execution_count": 15,
   "id": "a27bc4df",
   "metadata": {},
   "outputs": [
    {
     "data": {
      "text/html": [
       "<div>\n",
       "<style scoped>\n",
       "    .dataframe tbody tr th:only-of-type {\n",
       "        vertical-align: middle;\n",
       "    }\n",
       "\n",
       "    .dataframe tbody tr th {\n",
       "        vertical-align: top;\n",
       "    }\n",
       "\n",
       "    .dataframe thead th {\n",
       "        text-align: right;\n",
       "    }\n",
       "</style>\n",
       "<table border=\"1\" class=\"dataframe\">\n",
       "  <thead>\n",
       "    <tr style=\"text-align: right;\">\n",
       "      <th></th>\n",
       "      <th>index</th>\n",
       "      <th>date</th>\n",
       "      <th>rolling_average_cases_per_100k_centered</th>\n",
       "      <th>region</th>\n",
       "      <th>state_x</th>\n",
       "      <th>county_fips_code_x</th>\n",
       "      <th>county_name_x</th>\n",
       "      <th>sampling_week</th>\n",
       "      <th>normalized_concentration_rolling_average</th>\n",
       "      <th>population</th>\n",
       "      <th>state_y</th>\n",
       "      <th>county_fips_code_y</th>\n",
       "      <th>county_name_y</th>\n",
       "    </tr>\n",
       "  </thead>\n",
       "  <tbody>\n",
       "    <tr>\n",
       "      <th>0</th>\n",
       "      <td>0</td>\n",
       "      <td>2020-01-26</td>\n",
       "      <td>0.0</td>\n",
       "      <td>Midwest</td>\n",
       "      <td>IN</td>\n",
       "      <td>18089</td>\n",
       "      <td>Lake</td>\n",
       "      <td>2020-05-13</td>\n",
       "      <td>124.219023</td>\n",
       "      <td>200000-500000</td>\n",
       "      <td>IN</td>\n",
       "      <td>18089</td>\n",
       "      <td>Lake</td>\n",
       "    </tr>\n",
       "    <tr>\n",
       "      <th>1</th>\n",
       "      <td>0</td>\n",
       "      <td>2020-01-26</td>\n",
       "      <td>0.0</td>\n",
       "      <td>Midwest</td>\n",
       "      <td>IN</td>\n",
       "      <td>18089</td>\n",
       "      <td>Lake</td>\n",
       "      <td>2020-05-20</td>\n",
       "      <td>86.285771</td>\n",
       "      <td>200000-500000</td>\n",
       "      <td>IN</td>\n",
       "      <td>18089</td>\n",
       "      <td>Lake</td>\n",
       "    </tr>\n",
       "    <tr>\n",
       "      <th>2</th>\n",
       "      <td>0</td>\n",
       "      <td>2020-01-26</td>\n",
       "      <td>0.0</td>\n",
       "      <td>Midwest</td>\n",
       "      <td>IN</td>\n",
       "      <td>18089</td>\n",
       "      <td>Lake</td>\n",
       "      <td>2020-05-27</td>\n",
       "      <td>66.981292</td>\n",
       "      <td>200000-500000</td>\n",
       "      <td>IN</td>\n",
       "      <td>18089</td>\n",
       "      <td>Lake</td>\n",
       "    </tr>\n",
       "    <tr>\n",
       "      <th>3</th>\n",
       "      <td>0</td>\n",
       "      <td>2020-01-26</td>\n",
       "      <td>0.0</td>\n",
       "      <td>Midwest</td>\n",
       "      <td>IN</td>\n",
       "      <td>18089</td>\n",
       "      <td>Lake</td>\n",
       "      <td>2020-06-03</td>\n",
       "      <td>21.675411</td>\n",
       "      <td>200000-500000</td>\n",
       "      <td>IN</td>\n",
       "      <td>18089</td>\n",
       "      <td>Lake</td>\n",
       "    </tr>\n",
       "    <tr>\n",
       "      <th>4</th>\n",
       "      <td>0</td>\n",
       "      <td>2020-01-26</td>\n",
       "      <td>0.0</td>\n",
       "      <td>Midwest</td>\n",
       "      <td>IN</td>\n",
       "      <td>18089</td>\n",
       "      <td>Lake</td>\n",
       "      <td>2020-06-17</td>\n",
       "      <td>43.899843</td>\n",
       "      <td>200000-500000</td>\n",
       "      <td>IN</td>\n",
       "      <td>18089</td>\n",
       "      <td>Lake</td>\n",
       "    </tr>\n",
       "    <tr>\n",
       "      <th>...</th>\n",
       "      <td>...</td>\n",
       "      <td>...</td>\n",
       "      <td>...</td>\n",
       "      <td>...</td>\n",
       "      <td>...</td>\n",
       "      <td>...</td>\n",
       "      <td>...</td>\n",
       "      <td>...</td>\n",
       "      <td>...</td>\n",
       "      <td>...</td>\n",
       "      <td>...</td>\n",
       "      <td>...</td>\n",
       "      <td>...</td>\n",
       "    </tr>\n",
       "    <tr>\n",
       "      <th>95</th>\n",
       "      <td>0</td>\n",
       "      <td>2020-01-26</td>\n",
       "      <td>0.0</td>\n",
       "      <td>Midwest</td>\n",
       "      <td>IN</td>\n",
       "      <td>18089</td>\n",
       "      <td>Lake</td>\n",
       "      <td>2020-08-19</td>\n",
       "      <td>83.538659</td>\n",
       "      <td>1000000-2000000</td>\n",
       "      <td>MN</td>\n",
       "      <td>27053</td>\n",
       "      <td>Ramsey</td>\n",
       "    </tr>\n",
       "    <tr>\n",
       "      <th>96</th>\n",
       "      <td>0</td>\n",
       "      <td>2020-01-26</td>\n",
       "      <td>0.0</td>\n",
       "      <td>Midwest</td>\n",
       "      <td>IN</td>\n",
       "      <td>18089</td>\n",
       "      <td>Lake</td>\n",
       "      <td>2020-08-26</td>\n",
       "      <td>85.349380</td>\n",
       "      <td>1000000-2000000</td>\n",
       "      <td>MN</td>\n",
       "      <td>27053</td>\n",
       "      <td>Ramsey</td>\n",
       "    </tr>\n",
       "    <tr>\n",
       "      <th>97</th>\n",
       "      <td>0</td>\n",
       "      <td>2020-01-26</td>\n",
       "      <td>0.0</td>\n",
       "      <td>Midwest</td>\n",
       "      <td>IN</td>\n",
       "      <td>18089</td>\n",
       "      <td>Lake</td>\n",
       "      <td>2020-09-02</td>\n",
       "      <td>82.404684</td>\n",
       "      <td>1000000-2000000</td>\n",
       "      <td>MN</td>\n",
       "      <td>27053</td>\n",
       "      <td>Ramsey</td>\n",
       "    </tr>\n",
       "    <tr>\n",
       "      <th>98</th>\n",
       "      <td>0</td>\n",
       "      <td>2020-01-26</td>\n",
       "      <td>0.0</td>\n",
       "      <td>Midwest</td>\n",
       "      <td>IN</td>\n",
       "      <td>18089</td>\n",
       "      <td>Lake</td>\n",
       "      <td>2020-09-09</td>\n",
       "      <td>80.383246</td>\n",
       "      <td>1000000-2000000</td>\n",
       "      <td>MN</td>\n",
       "      <td>27053</td>\n",
       "      <td>Ramsey</td>\n",
       "    </tr>\n",
       "    <tr>\n",
       "      <th>99</th>\n",
       "      <td>0</td>\n",
       "      <td>2020-01-26</td>\n",
       "      <td>0.0</td>\n",
       "      <td>Midwest</td>\n",
       "      <td>IN</td>\n",
       "      <td>18089</td>\n",
       "      <td>Lake</td>\n",
       "      <td>2020-09-16</td>\n",
       "      <td>79.509999</td>\n",
       "      <td>1000000-2000000</td>\n",
       "      <td>MN</td>\n",
       "      <td>27053</td>\n",
       "      <td>Ramsey</td>\n",
       "    </tr>\n",
       "  </tbody>\n",
       "</table>\n",
       "<p>100 rows × 13 columns</p>\n",
       "</div>"
      ],
      "text/plain": [
       "    index       date  rolling_average_cases_per_100k_centered   region  \\\n",
       "0       0 2020-01-26                                      0.0  Midwest   \n",
       "1       0 2020-01-26                                      0.0  Midwest   \n",
       "2       0 2020-01-26                                      0.0  Midwest   \n",
       "3       0 2020-01-26                                      0.0  Midwest   \n",
       "4       0 2020-01-26                                      0.0  Midwest   \n",
       "..    ...        ...                                      ...      ...   \n",
       "95      0 2020-01-26                                      0.0  Midwest   \n",
       "96      0 2020-01-26                                      0.0  Midwest   \n",
       "97      0 2020-01-26                                      0.0  Midwest   \n",
       "98      0 2020-01-26                                      0.0  Midwest   \n",
       "99      0 2020-01-26                                      0.0  Midwest   \n",
       "\n",
       "   state_x  county_fips_code_x county_name_x sampling_week  \\\n",
       "0       IN               18089          Lake    2020-05-13   \n",
       "1       IN               18089          Lake    2020-05-20   \n",
       "2       IN               18089          Lake    2020-05-27   \n",
       "3       IN               18089          Lake    2020-06-03   \n",
       "4       IN               18089          Lake    2020-06-17   \n",
       "..     ...                 ...           ...           ...   \n",
       "95      IN               18089          Lake    2020-08-19   \n",
       "96      IN               18089          Lake    2020-08-26   \n",
       "97      IN               18089          Lake    2020-09-02   \n",
       "98      IN               18089          Lake    2020-09-09   \n",
       "99      IN               18089          Lake    2020-09-16   \n",
       "\n",
       "    normalized_concentration_rolling_average       population state_y  \\\n",
       "0                                 124.219023    200000-500000      IN   \n",
       "1                                  86.285771    200000-500000      IN   \n",
       "2                                  66.981292    200000-500000      IN   \n",
       "3                                  21.675411    200000-500000      IN   \n",
       "4                                  43.899843    200000-500000      IN   \n",
       "..                                       ...              ...     ...   \n",
       "95                                 83.538659  1000000-2000000      MN   \n",
       "96                                 85.349380  1000000-2000000      MN   \n",
       "97                                 82.404684  1000000-2000000      MN   \n",
       "98                                 80.383246  1000000-2000000      MN   \n",
       "99                                 79.509999  1000000-2000000      MN   \n",
       "\n",
       "    county_fips_code_y county_name_y  \n",
       "0                18089          Lake  \n",
       "1                18089          Lake  \n",
       "2                18089          Lake  \n",
       "3                18089          Lake  \n",
       "4                18089          Lake  \n",
       "..                 ...           ...  \n",
       "95               27053        Ramsey  \n",
       "96               27053        Ramsey  \n",
       "97               27053        Ramsey  \n",
       "98               27053        Ramsey  \n",
       "99               27053        Ramsey  \n",
       "\n",
       "[100 rows x 13 columns]"
      ]
     },
     "execution_count": 15,
     "metadata": {},
     "output_type": "execute_result"
    }
   ],
   "source": [
    "county_merged.head(100)"
   ]
  },
  {
   "cell_type": "code",
   "execution_count": 16,
   "id": "eb014d21",
   "metadata": {},
   "outputs": [
    {
     "data": {
      "text/plain": [
       "0"
      ]
     },
     "execution_count": 16,
     "metadata": {},
     "output_type": "execute_result"
    }
   ],
   "source": [
    "county_merged['sampling_week'].isnull().sum()"
   ]
  },
  {
   "cell_type": "code",
   "execution_count": 17,
   "id": "c2da5997",
   "metadata": {},
   "outputs": [
    {
     "data": {
      "text/plain": [
       "67"
      ]
     },
     "execution_count": 17,
     "metadata": {},
     "output_type": "execute_result"
    }
   ],
   "source": [
    "county_merged['sampling_week'].nunique()"
   ]
  },
  {
   "cell_type": "code",
   "execution_count": 20,
   "id": "50c22ca5",
   "metadata": {},
   "outputs": [
    {
     "data": {
      "text/plain": [
       "dtype('<M8[ns]')"
      ]
     },
     "execution_count": 20,
     "metadata": {},
     "output_type": "execute_result"
    }
   ],
   "source": [
    "county_merged['sampling_week'].dtype"
   ]
  },
  {
   "cell_type": "code",
   "execution_count": 21,
   "id": "f00b4447",
   "metadata": {},
   "outputs": [
    {
     "data": {
      "text/plain": [
       "(6077000,)"
      ]
     },
     "execution_count": 21,
     "metadata": {},
     "output_type": "execute_result"
    }
   ],
   "source": [
    "county_merged['sampling_week'].shape"
   ]
  },
  {
   "cell_type": "code",
   "execution_count": 22,
   "id": "56769b6f",
   "metadata": {},
   "outputs": [],
   "source": [
    "def blank_check(df):\n",
    "    ''' A method to check my column cells from a pandas DataFrame for whitespace blanks.'''\n",
    "    return dict(zip(df.columns, [(df[x] == '').sum() for x in df.columns]))"
   ]
  },
  {
   "cell_type": "code",
   "execution_count": 23,
   "id": "9711c810",
   "metadata": {},
   "outputs": [
    {
     "data": {
      "text/plain": [
       "{'index': 0,\n",
       " 'date': 0,\n",
       " 'rolling_average_cases_per_100k_centered': 0,\n",
       " 'region': 0,\n",
       " 'state_x': 0,\n",
       " 'county_fips_code_x': 0,\n",
       " 'county_name_x': 0,\n",
       " 'sampling_week': 0,\n",
       " 'normalized_concentration_rolling_average': 0,\n",
       " 'population': 0,\n",
       " 'state_y': 0,\n",
       " 'county_fips_code_y': 0,\n",
       " 'county_name_y': 0}"
      ]
     },
     "execution_count": 23,
     "metadata": {},
     "output_type": "execute_result"
    }
   ],
   "source": [
    "blank_check(county_merged)"
   ]
  },
  {
   "cell_type": "code",
   "execution_count": null,
   "id": "51a07f54",
   "metadata": {},
   "outputs": [],
   "source": [
    "county_merged.set_index('sampling_week', drop=True)"
   ]
  },
  {
   "cell_type": "code",
   "execution_count": 24,
   "id": "7726d5a3",
   "metadata": {},
   "outputs": [
    {
     "data": {
      "text/plain": [
       "500"
      ]
     },
     "execution_count": 24,
     "metadata": {},
     "output_type": "execute_result"
    }
   ],
   "source": [
    "county_merged['date'].nunique()"
   ]
  },
  {
   "cell_type": "code",
   "execution_count": 28,
   "id": "cf3109ce",
   "metadata": {},
   "outputs": [],
   "source": [
    "test_df = county_merged.set_index('date', drop=True)"
   ]
  },
  {
   "cell_type": "code",
   "execution_count": 27,
   "id": "d6380c7d",
   "metadata": {},
   "outputs": [
    {
     "ename": "AttributeError",
     "evalue": "'DataFrameGroupBy' object has no attribute 'info'",
     "output_type": "error",
     "traceback": [
      "\u001b[1;31m---------------------------------------------------------------------------\u001b[0m",
      "\u001b[1;31mAttributeError\u001b[0m                            Traceback (most recent call last)",
      "\u001b[1;32m<ipython-input-27-53960271f73a>\u001b[0m in \u001b[0;36m<module>\u001b[1;34m\u001b[0m\n\u001b[1;32m----> 1\u001b[1;33m \u001b[0mtest_df\u001b[0m\u001b[1;33m.\u001b[0m\u001b[0minfo\u001b[0m\u001b[1;33m\u001b[0m\u001b[1;33m\u001b[0m\u001b[0m\n\u001b[0m",
      "\u001b[1;32m~\\anaconda3\\lib\\site-packages\\pandas\\core\\groupby\\groupby.py\u001b[0m in \u001b[0;36m__getattr__\u001b[1;34m(self, attr)\u001b[0m\n\u001b[0;32m    750\u001b[0m             \u001b[1;32mreturn\u001b[0m \u001b[0mself\u001b[0m\u001b[1;33m[\u001b[0m\u001b[0mattr\u001b[0m\u001b[1;33m]\u001b[0m\u001b[1;33m\u001b[0m\u001b[1;33m\u001b[0m\u001b[0m\n\u001b[0;32m    751\u001b[0m \u001b[1;33m\u001b[0m\u001b[0m\n\u001b[1;32m--> 752\u001b[1;33m         raise AttributeError(\n\u001b[0m\u001b[0;32m    753\u001b[0m             \u001b[1;34mf\"'{type(self).__name__}' object has no attribute '{attr}'\"\u001b[0m\u001b[1;33m\u001b[0m\u001b[1;33m\u001b[0m\u001b[0m\n\u001b[0;32m    754\u001b[0m         )\n",
      "\u001b[1;31mAttributeError\u001b[0m: 'DataFrameGroupBy' object has no attribute 'info'"
     ]
    }
   ],
   "source": []
  },
  {
   "cell_type": "code",
   "execution_count": null,
   "id": "a4a0e522",
   "metadata": {},
   "outputs": [],
   "source": []
  }
 ],
 "metadata": {
  "kernelspec": {
   "display_name": "Python 3",
   "language": "python",
   "name": "python3"
  },
  "language_info": {
   "codemirror_mode": {
    "name": "ipython",
    "version": 3
   },
   "file_extension": ".py",
   "mimetype": "text/x-python",
   "name": "python",
   "nbconvert_exporter": "python",
   "pygments_lexer": "ipython3",
   "version": "3.8.8"
  }
 },
 "nbformat": 4,
 "nbformat_minor": 5
}
