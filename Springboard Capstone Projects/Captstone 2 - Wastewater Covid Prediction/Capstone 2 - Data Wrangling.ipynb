{
 "cells": [
  {
   "cell_type": "markdown",
   "id": "712e769c",
   "metadata": {},
   "source": [
    "# Springboard Capstone 2: \n",
    "## Covid-19 Wastewater Surveillance Prediction\n",
    "### Author: Nantawat Samermit"
   ]
  },
  {
   "cell_type": "markdown",
   "id": "2d01ad24",
   "metadata": {},
   "source": [
    "## Executive Summary\n",
    "\n",
    "### Problem:\n",
    "The Sars-CoV-19 or 'Covid-19' virus is an ongoing pandemic. Businesses and communities are being affected with each wave. Wastewater surveillance is a non-invasive way to measure mRNA concentrations of the virus.\n",
    "\n",
    "### Exploratory Research Question:\n",
    "Can we use the viral concentration surveilled from wastewater to predict a surge?\n",
    "\n",
    "\n",
    "### Methods\n",
    "    Rationale for Method\n",
    "\n",
    "### Results\n",
    "\n",
    "### Implications"
   ]
  },
  {
   "cell_type": "markdown",
   "id": "8c6fd075",
   "metadata": {},
   "source": [
    "# Data Scraping (Unit 7.2)\n",
    "I'll be scraping two datasets. \n",
    "\n",
    "The first is from the Cambridge MA wastewater data archive. It is listed as JSON, which I will convert to a pandas DataFrame. \n",
    "\n",
    "The URL is here: 'https://data.cambridgema.gov/resource/ayt4-g2ye.json'\n",
    "\n",
    "\n",
    "This is the dataset by which I will train and test my model.\n",
    "The second will be the statewide Massachusetts data. This dataset is where I will test my final model.\n",
    "\n",
    "The URL is here: 'https://www.mass.gov/doc/covid-19-raw-data-june-15-2021/download'"
   ]
  },
  {
   "cell_type": "code",
   "execution_count": 1,
   "id": "04db6ff6",
   "metadata": {},
   "outputs": [],
   "source": [
    "#import relevant modules for data wrangling - keep on adding as needed\n",
    "import pandas as pd\n",
    "import json, requests\n",
    "import fuzzywuzzy \n",
    "import matplotlib.pyplot as plt\n",
    "import numpy as np\n",
    "import seaborn as sns"
   ]
  },
  {
   "cell_type": "markdown",
   "id": "9a194eba",
   "metadata": {},
   "source": [
    "## Notes regarding Massachusetts Data\n",
    "After some attempts, it seems the Massachusetts dataset is a multi-page csv, and it isn't easily accessible.\n",
    "\n",
    "I will have to use BeautifulSoup to isolate the link to the excel file."
   ]
  },
  {
   "cell_type": "code",
   "execution_count": 2,
   "id": "970335e4",
   "metadata": {},
   "outputs": [],
   "source": [
    "from bs4 import BeautifulSoup\n",
    "from urllib.request import urlopen, Request"
   ]
  },
  {
   "cell_type": "code",
   "execution_count": 3,
   "id": "165b8393",
   "metadata": {},
   "outputs": [
    {
     "data": {
      "text/plain": [
       "'/doc/covid-19-raw-data-june-15-2021/download'"
      ]
     },
     "execution_count": 3,
     "metadata": {},
     "output_type": "execute_result"
    }
   ],
   "source": [
    "# Use BS to identify/isolate the html \"class\" pointing to the href of the .xls \n",
    "#class and \"ma__download-link__file-link\" was identified by inspecting the page's elements in chrome\n",
    "source = requests.get(\"https://www.mass.gov/doc/covid-19-raw-data-june-15-2021\")\n",
    "BeautifulSoup(source.content).find(\"a\", {\"class\":\"ma__download-link__file-link\"}).get(\"href\")"
   ]
  },
  {
   "cell_type": "markdown",
   "id": "2375334a",
   "metadata": {},
   "source": [
    "BeautifulSoup has isloated the href link for the .xls spreadsheet. \n",
    "\n",
    "It is here: https://www.mass.gov/doc/covid-19-raw-data-june-15-2021/download"
   ]
  },
  {
   "cell_type": "markdown",
   "id": "27acd9e0",
   "metadata": {},
   "source": [
    "## Scrape, Download, and Save datasets\n",
    "I will write a function to scrape, convert, and save both datasets to my directory as pickle files. "
   ]
  },
  {
   "cell_type": "code",
   "execution_count": 4,
   "id": "acdc8703",
   "metadata": {},
   "outputs": [],
   "source": [
    "#Luka states it is easier (and acceptable) to just download the files to local path. \n",
    "\n",
    "#For the mass.gov dataset, it has mulitiple sheets, so it isolates the intended sheet. (not dynamic, ikr)\n",
    "\n",
    "def get_sources(source_list):\n",
    "    '''\n",
    "    this function takes a list of urls, ID's their format, requests dataset from source,\n",
    "    converts data into a dataframe, then saves it as a pickled file.\n",
    "    '''\n",
    "    for source in source_list:\n",
    "        if source.endswith('.json'):\n",
    "            response = requests.get(source)\n",
    "            data = response.json()\n",
    "            json_df = pd.DataFrame(data)\n",
    "            json_df.to_pickle('Cambridge.pkl')\n",
    "            print('Cambridge.pkl created using this source: ', source)\n",
    "            \n",
    "        else:\n",
    "            response = requests.get(source, allow_redirects=True)\n",
    "            with open('excel_data.xlsx', 'wb') as file:\n",
    "                file.write(response.content)\n",
    "            \n",
    "            #using pd.read_excel on a multi-spreadsheet xls yields a dictionary\n",
    "            excel_dict = pd.read_excel('excel_data.xlsx', sheet_name=None)\n",
    "            \n",
    "            #can ID sheetnames by evaluating keys\n",
    "            #print(excel_dict.keys())\n",
    "            \n",
    "            #Will be using the \"Weekly_City_Town\" sheet\n",
    "            Mass_weekly_city = excel_dict['Weekly_City_Town']\n",
    "            \n",
    "            #Use df.to_pickle to save as .pkl file\n",
    "            Mass_weekly_city.to_pickle('Mass_Weekly_City_df.pkl')\n",
    "            \n",
    "            print('Mass_Weekly_City.pkl created using this source', source)"
   ]
  },
  {
   "cell_type": "code",
   "execution_count": 5,
   "id": "ed3faa63",
   "metadata": {},
   "outputs": [
    {
     "name": "stdout",
     "output_type": "stream",
     "text": [
      "Cambridge.pkl created using this source:  https://data.cambridgema.gov/resource/ayt4-g2ye.json\n",
      "Mass_Weekly_City.pkl created using this source https://www.mass.gov/doc/covid-19-raw-data-june-15-2021/download\n"
     ]
    }
   ],
   "source": [
    "sources = ['https://data.cambridgema.gov/resource/ayt4-g2ye.json', \n",
    "           'https://www.mass.gov/doc/covid-19-raw-data-june-15-2021/download']\n",
    "\n",
    "get_sources(sources)"
   ]
  },
  {
   "cell_type": "markdown",
   "id": "8d53222a",
   "metadata": {},
   "source": [
    "## Use pickle to confirm the saved files can be loaded in Jupyter"
   ]
  },
  {
   "cell_type": "code",
   "execution_count": 6,
   "id": "c5b2fced",
   "metadata": {},
   "outputs": [],
   "source": [
    "import pickle"
   ]
  },
  {
   "cell_type": "code",
   "execution_count": 7,
   "id": "835f2106",
   "metadata": {},
   "outputs": [],
   "source": [
    "#should use context manager to load pickles \n",
    "# Don't forget to state 'rb' param or will get an Unicode Error.\n",
    "with open('Cambridge.pkl', 'rb') as f:\n",
    "    Cambridge_df = pickle.load(f)\n",
    "    \n",
    "with open('Mass_Weekly_City_df.pkl', 'rb') as f:\n",
    "    Mass_df = pickle.load(f)"
   ]
  },
  {
   "cell_type": "code",
   "execution_count": 8,
   "id": "580e35a0",
   "metadata": {},
   "outputs": [
    {
     "name": "stdout",
     "output_type": "stream",
     "text": [
      "<class 'pandas.core.frame.DataFrame'>\n",
      "RangeIndex: 293 entries, 0 to 292\n",
      "Data columns (total 15 columns):\n",
      " #   Column                        Non-Null Count  Dtype \n",
      "---  ------                        --------------  ----- \n",
      " 0   date                          293 non-null    object\n",
      " 1   mwra_concentration            293 non-null    object\n",
      " 2   mwra_7dayaverage              293 non-null    object\n",
      " 3   concentration_mid_cambridge   293 non-null    object\n",
      " 4   concentration_east_cambridge  293 non-null    object\n",
      " 5   concentration_cambridgeport   293 non-null    object\n",
      " 6   concentration_north_west      293 non-null    object\n",
      " 7   highci_mid_cambridge          293 non-null    object\n",
      " 8   highci_east_cambridge         293 non-null    object\n",
      " 9   highci_cambridgeport          293 non-null    object\n",
      " 10  highci_north_west_cambridge   293 non-null    object\n",
      " 11  lowci_mid_cambridge           293 non-null    object\n",
      " 12  lowci_east_cambridge          293 non-null    object\n",
      " 13  lowci_cambridgeport           293 non-null    object\n",
      " 14  lowci_north_west_cambridge    293 non-null    object\n",
      "dtypes: object(15)\n",
      "memory usage: 34.5+ KB\n"
     ]
    }
   ],
   "source": [
    "#testing both dataframes\n",
    "Cambridge_df.info()"
   ]
  },
  {
   "cell_type": "code",
   "execution_count": 9,
   "id": "5ad8a2f7",
   "metadata": {},
   "outputs": [
    {
     "name": "stdout",
     "output_type": "stream",
     "text": [
      "<class 'pandas.core.frame.DataFrame'>\n",
      "RangeIndex: 8800 entries, 0 to 8799\n",
      "Data columns (total 17 columns):\n",
      " #   Column                      Non-Null Count  Dtype         \n",
      "---  ------                      --------------  -----         \n",
      " 0   City/Town                   8800 non-null   object        \n",
      " 1   County                      8800 non-null   object        \n",
      " 2   Population                  8800 non-null   object        \n",
      " 3   Total Case Counts           8800 non-null   object        \n",
      " 4   Two Week Case Counts        8800 non-null   object        \n",
      " 5   Average Daily Rate          8800 non-null   object        \n",
      " 6   Color                       8791 non-null   object        \n",
      " 7   Change in Last Week         8800 non-null   object        \n",
      " 8   Total Tests                 8800 non-null   int64         \n",
      " 9   Total Tests Last Two Weeks  8799 non-null   float64       \n",
      " 10  Total Positive Tests        8799 non-null   float64       \n",
      " 11  Percent Positivity          8799 non-null   object        \n",
      " 12  Change Since Last Week      8800 non-null   object        \n",
      " 13  Testing Rate                8797 non-null   object        \n",
      " 14  Report Date                 8800 non-null   datetime64[ns]\n",
      " 15  Start_Date                  8800 non-null   datetime64[ns]\n",
      " 16  End_Date                    8800 non-null   datetime64[ns]\n",
      "dtypes: datetime64[ns](3), float64(2), int64(1), object(11)\n",
      "memory usage: 1.1+ MB\n"
     ]
    }
   ],
   "source": [
    "Mass_df.info()"
   ]
  },
  {
   "cell_type": "markdown",
   "id": "5c4fb5c1",
   "metadata": {},
   "source": [
    "# Data Wrangling (Unit 7.2)\n",
    "Explore the dataset. Understand the datatypes for the various columns, and confirm that there are no missing values."
   ]
  },
  {
   "cell_type": "markdown",
   "id": "b4ff584b",
   "metadata": {},
   "source": [
    "## Cambridge Data"
   ]
  },
  {
   "cell_type": "code",
   "execution_count": 10,
   "id": "1e058153",
   "metadata": {},
   "outputs": [
    {
     "name": "stdout",
     "output_type": "stream",
     "text": [
      "<class 'pandas.core.frame.DataFrame'>\n",
      "RangeIndex: 293 entries, 0 to 292\n",
      "Data columns (total 15 columns):\n",
      " #   Column                        Non-Null Count  Dtype \n",
      "---  ------                        --------------  ----- \n",
      " 0   date                          293 non-null    object\n",
      " 1   mwra_concentration            293 non-null    object\n",
      " 2   mwra_7dayaverage              293 non-null    object\n",
      " 3   concentration_mid_cambridge   293 non-null    object\n",
      " 4   concentration_east_cambridge  293 non-null    object\n",
      " 5   concentration_cambridgeport   293 non-null    object\n",
      " 6   concentration_north_west      293 non-null    object\n",
      " 7   highci_mid_cambridge          293 non-null    object\n",
      " 8   highci_east_cambridge         293 non-null    object\n",
      " 9   highci_cambridgeport          293 non-null    object\n",
      " 10  highci_north_west_cambridge   293 non-null    object\n",
      " 11  lowci_mid_cambridge           293 non-null    object\n",
      " 12  lowci_east_cambridge          293 non-null    object\n",
      " 13  lowci_cambridgeport           293 non-null    object\n",
      " 14  lowci_north_west_cambridge    293 non-null    object\n",
      "dtypes: object(15)\n",
      "memory usage: 34.5+ KB\n"
     ]
    }
   ],
   "source": [
    "Cambridge_df.info()"
   ]
  },
  {
   "cell_type": "code",
   "execution_count": 11,
   "id": "dc012d40",
   "metadata": {},
   "outputs": [
    {
     "data": {
      "text/html": [
       "<div>\n",
       "<style scoped>\n",
       "    .dataframe tbody tr th:only-of-type {\n",
       "        vertical-align: middle;\n",
       "    }\n",
       "\n",
       "    .dataframe tbody tr th {\n",
       "        vertical-align: top;\n",
       "    }\n",
       "\n",
       "    .dataframe thead th {\n",
       "        text-align: right;\n",
       "    }\n",
       "</style>\n",
       "<table border=\"1\" class=\"dataframe\">\n",
       "  <thead>\n",
       "    <tr style=\"text-align: right;\">\n",
       "      <th></th>\n",
       "      <th>date</th>\n",
       "      <th>mwra_concentration</th>\n",
       "      <th>mwra_7dayaverage</th>\n",
       "      <th>concentration_mid_cambridge</th>\n",
       "      <th>concentration_east_cambridge</th>\n",
       "      <th>concentration_cambridgeport</th>\n",
       "      <th>concentration_north_west</th>\n",
       "      <th>highci_mid_cambridge</th>\n",
       "      <th>highci_east_cambridge</th>\n",
       "      <th>highci_cambridgeport</th>\n",
       "      <th>highci_north_west_cambridge</th>\n",
       "      <th>lowci_mid_cambridge</th>\n",
       "      <th>lowci_east_cambridge</th>\n",
       "      <th>lowci_cambridgeport</th>\n",
       "      <th>lowci_north_west_cambridge</th>\n",
       "    </tr>\n",
       "  </thead>\n",
       "  <tbody>\n",
       "    <tr>\n",
       "      <th>count</th>\n",
       "      <td>293</td>\n",
       "      <td>293</td>\n",
       "      <td>293</td>\n",
       "      <td>293</td>\n",
       "      <td>293</td>\n",
       "      <td>293</td>\n",
       "      <td>293</td>\n",
       "      <td>293</td>\n",
       "      <td>293</td>\n",
       "      <td>293</td>\n",
       "      <td>293</td>\n",
       "      <td>293</td>\n",
       "      <td>293</td>\n",
       "      <td>293</td>\n",
       "      <td>293</td>\n",
       "    </tr>\n",
       "    <tr>\n",
       "      <th>unique</th>\n",
       "      <td>293</td>\n",
       "      <td>232</td>\n",
       "      <td>214</td>\n",
       "      <td>30</td>\n",
       "      <td>35</td>\n",
       "      <td>27</td>\n",
       "      <td>34</td>\n",
       "      <td>30</td>\n",
       "      <td>35</td>\n",
       "      <td>27</td>\n",
       "      <td>34</td>\n",
       "      <td>30</td>\n",
       "      <td>35</td>\n",
       "      <td>27</td>\n",
       "      <td>34</td>\n",
       "    </tr>\n",
       "    <tr>\n",
       "      <th>top</th>\n",
       "      <td>2021-02-10T00:00:00.000</td>\n",
       "      <td></td>\n",
       "      <td>20</td>\n",
       "      <td></td>\n",
       "      <td></td>\n",
       "      <td></td>\n",
       "      <td></td>\n",
       "      <td></td>\n",
       "      <td></td>\n",
       "      <td></td>\n",
       "      <td></td>\n",
       "      <td></td>\n",
       "      <td></td>\n",
       "      <td></td>\n",
       "      <td></td>\n",
       "    </tr>\n",
       "    <tr>\n",
       "      <th>freq</th>\n",
       "      <td>1</td>\n",
       "      <td>14</td>\n",
       "      <td>6</td>\n",
       "      <td>258</td>\n",
       "      <td>256</td>\n",
       "      <td>260</td>\n",
       "      <td>256</td>\n",
       "      <td>258</td>\n",
       "      <td>256</td>\n",
       "      <td>260</td>\n",
       "      <td>256</td>\n",
       "      <td>258</td>\n",
       "      <td>256</td>\n",
       "      <td>260</td>\n",
       "      <td>256</td>\n",
       "    </tr>\n",
       "  </tbody>\n",
       "</table>\n",
       "</div>"
      ],
      "text/plain": [
       "                           date mwra_concentration mwra_7dayaverage  \\\n",
       "count                       293                293              293   \n",
       "unique                      293                232              214   \n",
       "top     2021-02-10T00:00:00.000                                  20   \n",
       "freq                          1                 14                6   \n",
       "\n",
       "       concentration_mid_cambridge concentration_east_cambridge  \\\n",
       "count                          293                          293   \n",
       "unique                          30                           35   \n",
       "top                                                               \n",
       "freq                           258                          256   \n",
       "\n",
       "       concentration_cambridgeport concentration_north_west  \\\n",
       "count                          293                      293   \n",
       "unique                          27                       34   \n",
       "top                                                           \n",
       "freq                           260                      256   \n",
       "\n",
       "       highci_mid_cambridge highci_east_cambridge highci_cambridgeport  \\\n",
       "count                   293                   293                  293   \n",
       "unique                   30                    35                   27   \n",
       "top                                                                      \n",
       "freq                    258                   256                  260   \n",
       "\n",
       "       highci_north_west_cambridge lowci_mid_cambridge lowci_east_cambridge  \\\n",
       "count                          293                 293                  293   \n",
       "unique                          34                  30                   35   \n",
       "top                                                                           \n",
       "freq                           256                 258                  256   \n",
       "\n",
       "       lowci_cambridgeport lowci_north_west_cambridge  \n",
       "count                  293                        293  \n",
       "unique                  27                         34  \n",
       "top                                                    \n",
       "freq                   260                        256  "
      ]
     },
     "execution_count": 11,
     "metadata": {},
     "output_type": "execute_result"
    }
   ],
   "source": [
    "Cambridge_df.describe()"
   ]
  },
  {
   "cell_type": "markdown",
   "id": "5d78d47a",
   "metadata": {},
   "source": [
    "# Note to myself:\n",
    "For my own review!\n",
    "\n",
    "Column Definitions:\n",
    "Date - sample date for 24 hour composite sample\n",
    "\n",
    "\n",
    "MWRA_Concentration - Normalized SARS-CoV2 RNA Copies per ML collected during sampling period.\n",
    "\n",
    "\n",
    "MWRA_7DayAverage - 7 day rolling average for Normalized SARS-CoV2 RNA Copies per ML collected during sampling period.\n",
    "\n",
    "\n",
    "Concentration_* - Normalized SARS-CoV2 RNA Copies per ML collected during sampling period.\n",
    "\n",
    "\n",
    "highci_* - Upper Limit on Confidence Interval for Normalized SARS-CoV2 RNA Copies per ML collected during sampling period.\n",
    "\n",
    "\n",
    "lowci_* - Lower Limit on Confidence Interval for Normalized SARS-CoV2 RNA Copies per ML collected during sampling period.\n",
    "* means there are multiple columns with this prefix which share the same definition - Nantawat\n",
    "\n",
    "A refresher on confidence interval limits - https://bit.ly/3vtuI7h\n"
   ]
  },
  {
   "cell_type": "markdown",
   "id": "7d047b34",
   "metadata": {},
   "source": [
    "## Features observations:\n",
    "1. All the features pf Cambridge_df are object dtypes.\n",
    "2. describe() states they (15 features) are all non-null values. Let's confirm that."
   ]
  },
  {
   "cell_type": "code",
   "execution_count": 12,
   "id": "bc7c62e5",
   "metadata": {},
   "outputs": [
    {
     "data": {
      "text/plain": [
       "date                            0\n",
       "mwra_concentration              0\n",
       "mwra_7dayaverage                0\n",
       "concentration_mid_cambridge     0\n",
       "concentration_east_cambridge    0\n",
       "concentration_cambridgeport     0\n",
       "concentration_north_west        0\n",
       "highci_mid_cambridge            0\n",
       "highci_east_cambridge           0\n",
       "highci_cambridgeport            0\n",
       "highci_north_west_cambridge     0\n",
       "lowci_mid_cambridge             0\n",
       "lowci_east_cambridge            0\n",
       "lowci_cambridgeport             0\n",
       "lowci_north_west_cambridge      0\n",
       "dtype: int64"
      ]
     },
     "execution_count": 12,
     "metadata": {},
     "output_type": "execute_result"
    }
   ],
   "source": [
    "#This confirms that none of the features contain null values. \n",
    "Cambridge_df.isnull().sum()"
   ]
  },
  {
   "cell_type": "code",
   "execution_count": 13,
   "id": "c0c8056e",
   "metadata": {},
   "outputs": [
    {
     "data": {
      "text/html": [
       "<div>\n",
       "<style scoped>\n",
       "    .dataframe tbody tr th:only-of-type {\n",
       "        vertical-align: middle;\n",
       "    }\n",
       "\n",
       "    .dataframe tbody tr th {\n",
       "        vertical-align: top;\n",
       "    }\n",
       "\n",
       "    .dataframe thead th {\n",
       "        text-align: right;\n",
       "    }\n",
       "</style>\n",
       "<table border=\"1\" class=\"dataframe\">\n",
       "  <thead>\n",
       "    <tr style=\"text-align: right;\">\n",
       "      <th></th>\n",
       "      <th>date</th>\n",
       "      <th>mwra_concentration</th>\n",
       "      <th>mwra_7dayaverage</th>\n",
       "      <th>concentration_mid_cambridge</th>\n",
       "      <th>concentration_east_cambridge</th>\n",
       "      <th>concentration_cambridgeport</th>\n",
       "      <th>concentration_north_west</th>\n",
       "      <th>highci_mid_cambridge</th>\n",
       "      <th>highci_east_cambridge</th>\n",
       "      <th>highci_cambridgeport</th>\n",
       "      <th>highci_north_west_cambridge</th>\n",
       "      <th>lowci_mid_cambridge</th>\n",
       "      <th>lowci_east_cambridge</th>\n",
       "      <th>lowci_cambridgeport</th>\n",
       "      <th>lowci_north_west_cambridge</th>\n",
       "    </tr>\n",
       "  </thead>\n",
       "  <tbody>\n",
       "    <tr>\n",
       "      <th>0</th>\n",
       "      <td>2020-10-01T00:00:00.000</td>\n",
       "      <td></td>\n",
       "      <td>31</td>\n",
       "      <td></td>\n",
       "      <td></td>\n",
       "      <td></td>\n",
       "      <td></td>\n",
       "      <td></td>\n",
       "      <td></td>\n",
       "      <td></td>\n",
       "      <td></td>\n",
       "      <td></td>\n",
       "      <td></td>\n",
       "      <td></td>\n",
       "      <td></td>\n",
       "    </tr>\n",
       "    <tr>\n",
       "      <th>1</th>\n",
       "      <td>2020-10-02T00:00:00.000</td>\n",
       "      <td>34</td>\n",
       "      <td>31</td>\n",
       "      <td></td>\n",
       "      <td></td>\n",
       "      <td></td>\n",
       "      <td></td>\n",
       "      <td></td>\n",
       "      <td></td>\n",
       "      <td></td>\n",
       "      <td></td>\n",
       "      <td></td>\n",
       "      <td></td>\n",
       "      <td></td>\n",
       "      <td></td>\n",
       "    </tr>\n",
       "    <tr>\n",
       "      <th>2</th>\n",
       "      <td>2020-10-03T00:00:00.000</td>\n",
       "      <td></td>\n",
       "      <td>31</td>\n",
       "      <td></td>\n",
       "      <td></td>\n",
       "      <td></td>\n",
       "      <td></td>\n",
       "      <td></td>\n",
       "      <td></td>\n",
       "      <td></td>\n",
       "      <td></td>\n",
       "      <td></td>\n",
       "      <td></td>\n",
       "      <td></td>\n",
       "      <td></td>\n",
       "    </tr>\n",
       "    <tr>\n",
       "      <th>3</th>\n",
       "      <td>2020-10-04T00:00:00.000</td>\n",
       "      <td></td>\n",
       "      <td>31</td>\n",
       "      <td></td>\n",
       "      <td></td>\n",
       "      <td></td>\n",
       "      <td></td>\n",
       "      <td></td>\n",
       "      <td></td>\n",
       "      <td></td>\n",
       "      <td></td>\n",
       "      <td></td>\n",
       "      <td></td>\n",
       "      <td></td>\n",
       "      <td></td>\n",
       "    </tr>\n",
       "    <tr>\n",
       "      <th>4</th>\n",
       "      <td>2020-10-05T00:00:00.000</td>\n",
       "      <td>38</td>\n",
       "      <td>30</td>\n",
       "      <td></td>\n",
       "      <td></td>\n",
       "      <td></td>\n",
       "      <td></td>\n",
       "      <td></td>\n",
       "      <td></td>\n",
       "      <td></td>\n",
       "      <td></td>\n",
       "      <td></td>\n",
       "      <td></td>\n",
       "      <td></td>\n",
       "      <td></td>\n",
       "    </tr>\n",
       "  </tbody>\n",
       "</table>\n",
       "</div>"
      ],
      "text/plain": [
       "                      date mwra_concentration mwra_7dayaverage  \\\n",
       "0  2020-10-01T00:00:00.000                                  31   \n",
       "1  2020-10-02T00:00:00.000                 34               31   \n",
       "2  2020-10-03T00:00:00.000                                  31   \n",
       "3  2020-10-04T00:00:00.000                                  31   \n",
       "4  2020-10-05T00:00:00.000                 38               30   \n",
       "\n",
       "  concentration_mid_cambridge concentration_east_cambridge  \\\n",
       "0                                                            \n",
       "1                                                            \n",
       "2                                                            \n",
       "3                                                            \n",
       "4                                                            \n",
       "\n",
       "  concentration_cambridgeport concentration_north_west highci_mid_cambridge  \\\n",
       "0                                                                             \n",
       "1                                                                             \n",
       "2                                                                             \n",
       "3                                                                             \n",
       "4                                                                             \n",
       "\n",
       "  highci_east_cambridge highci_cambridgeport highci_north_west_cambridge  \\\n",
       "0                                                                          \n",
       "1                                                                          \n",
       "2                                                                          \n",
       "3                                                                          \n",
       "4                                                                          \n",
       "\n",
       "  lowci_mid_cambridge lowci_east_cambridge lowci_cambridgeport  \\\n",
       "0                                                                \n",
       "1                                                                \n",
       "2                                                                \n",
       "3                                                                \n",
       "4                                                                \n",
       "\n",
       "  lowci_north_west_cambridge  \n",
       "0                             \n",
       "1                             \n",
       "2                             \n",
       "3                             \n",
       "4                             "
      ]
     },
     "execution_count": 13,
     "metadata": {},
     "output_type": "execute_result"
    }
   ],
   "source": [
    "#This will show that although isnull().sum() returns 0 null values, the cells look blank!\n",
    "Cambridge_df.head(5)"
   ]
  },
  {
   "cell_type": "markdown",
   "id": "6e85d99d",
   "metadata": {},
   "source": [
    "### This does not pass the stench test! mwra_concentration is not 100% non-null"
   ]
  },
  {
   "cell_type": "code",
   "execution_count": 14,
   "id": "06b4ffc3",
   "metadata": {},
   "outputs": [
    {
     "data": {
      "text/plain": [
       "True"
      ]
     },
     "execution_count": 14,
     "metadata": {},
     "output_type": "execute_result"
    }
   ],
   "source": [
    "#Check these blank cells to confirm they are 'filled' with whitespaces\n",
    "Cambridge_df['mwra_concentration'][0] == ''"
   ]
  },
  {
   "cell_type": "code",
   "execution_count": 15,
   "id": "d5371523",
   "metadata": {},
   "outputs": [],
   "source": [
    "#create a method using the logic from the cell above to check for blank cells\n",
    "def blank_check(df):\n",
    "    ''' A method to check my column cells from a pandas DataFrame for whitespace blanks.'''\n",
    "    return dict(zip(df.columns, [(df[x] == '').sum() for x in df.columns]))"
   ]
  },
  {
   "cell_type": "code",
   "execution_count": 16,
   "id": "32ec3840",
   "metadata": {},
   "outputs": [
    {
     "data": {
      "text/plain": [
       "{'date': 0,\n",
       " 'mwra_concentration': 14,\n",
       " 'mwra_7dayaverage': 4,\n",
       " 'concentration_mid_cambridge': 258,\n",
       " 'concentration_east_cambridge': 256,\n",
       " 'concentration_cambridgeport': 260,\n",
       " 'concentration_north_west': 256,\n",
       " 'highci_mid_cambridge': 258,\n",
       " 'highci_east_cambridge': 256,\n",
       " 'highci_cambridgeport': 260,\n",
       " 'highci_north_west_cambridge': 256,\n",
       " 'lowci_mid_cambridge': 258,\n",
       " 'lowci_east_cambridge': 256,\n",
       " 'lowci_cambridgeport': 260,\n",
       " 'lowci_north_west_cambridge': 256}"
      ]
     },
     "execution_count": 16,
     "metadata": {},
     "output_type": "execute_result"
    }
   ],
   "source": [
    "blank_check(Cambridge_df)"
   ]
  },
  {
   "cell_type": "markdown",
   "id": "44e377df",
   "metadata": {},
   "source": [
    "### Looking at how many 'blank' whitespace cells those features have, I think it is prudent to drop them first"
   ]
  },
  {
   "cell_type": "code",
   "execution_count": 17,
   "id": "1a93fbbb",
   "metadata": {},
   "outputs": [],
   "source": [
    "kept_features = ['date', 'mwra_concentration', 'mwra_7dayaverage']\n",
    "Cambridge_df.drop(columns=Cambridge_df.columns.difference(kept_features), inplace=True)"
   ]
  },
  {
   "cell_type": "code",
   "execution_count": 18,
   "id": "7263897f",
   "metadata": {},
   "outputs": [
    {
     "data": {
      "text/html": [
       "<div>\n",
       "<style scoped>\n",
       "    .dataframe tbody tr th:only-of-type {\n",
       "        vertical-align: middle;\n",
       "    }\n",
       "\n",
       "    .dataframe tbody tr th {\n",
       "        vertical-align: top;\n",
       "    }\n",
       "\n",
       "    .dataframe thead th {\n",
       "        text-align: right;\n",
       "    }\n",
       "</style>\n",
       "<table border=\"1\" class=\"dataframe\">\n",
       "  <thead>\n",
       "    <tr style=\"text-align: right;\">\n",
       "      <th></th>\n",
       "      <th>date</th>\n",
       "      <th>mwra_concentration</th>\n",
       "      <th>mwra_7dayaverage</th>\n",
       "    </tr>\n",
       "  </thead>\n",
       "  <tbody>\n",
       "    <tr>\n",
       "      <th>count</th>\n",
       "      <td>293</td>\n",
       "      <td>293</td>\n",
       "      <td>293</td>\n",
       "    </tr>\n",
       "    <tr>\n",
       "      <th>unique</th>\n",
       "      <td>293</td>\n",
       "      <td>232</td>\n",
       "      <td>214</td>\n",
       "    </tr>\n",
       "    <tr>\n",
       "      <th>top</th>\n",
       "      <td>2021-02-10T00:00:00.000</td>\n",
       "      <td></td>\n",
       "      <td>20</td>\n",
       "    </tr>\n",
       "    <tr>\n",
       "      <th>freq</th>\n",
       "      <td>1</td>\n",
       "      <td>14</td>\n",
       "      <td>6</td>\n",
       "    </tr>\n",
       "  </tbody>\n",
       "</table>\n",
       "</div>"
      ],
      "text/plain": [
       "                           date mwra_concentration mwra_7dayaverage\n",
       "count                       293                293              293\n",
       "unique                      293                232              214\n",
       "top     2021-02-10T00:00:00.000                                  20\n",
       "freq                          1                 14                6"
      ]
     },
     "execution_count": 18,
     "metadata": {},
     "output_type": "execute_result"
    }
   ],
   "source": [
    "#confirm those columns were dropped\n",
    "Cambridge_df.describe()"
   ]
  },
  {
   "cell_type": "code",
   "execution_count": 19,
   "id": "e5eec0b1",
   "metadata": {},
   "outputs": [
    {
     "data": {
      "text/plain": [
       "{'date': 0, 'mwra_concentration': 14, 'mwra_7dayaverage': 4}"
      ]
     },
     "execution_count": 19,
     "metadata": {},
     "output_type": "execute_result"
    }
   ],
   "source": [
    "#confirm how many blank cells to wrangle\n",
    "blank_check(Cambridge_df)"
   ]
  },
  {
   "cell_type": "markdown",
   "id": "df0e3d3d",
   "metadata": {},
   "source": [
    "### At this point - Choose:\n",
    "1. Drop those rows with blank columns\n",
    "2. Impute them with something\n",
    "    \n",
    "    A: Can be the mwra_7dayaverage\n",
    "    \n",
    "    B: Can be a front-fill method    \n",
    "    \n",
    "    C:  Can be a back-fill method"
   ]
  },
  {
   "cell_type": "markdown",
   "id": "75c5b58f",
   "metadata": {},
   "source": [
    "#### I chose option 2, and I want to fill with the mwra_7dayaverage where I can. "
   ]
  },
  {
   "cell_type": "code",
   "execution_count": 20,
   "id": "56979c1f",
   "metadata": {},
   "outputs": [],
   "source": [
    "#change 'date' feature into a datetime and assign to index\n",
    "Cambridge_df.date = pd.to_datetime(Cambridge_df.date)\n",
    "Cambridge_df.set_index('date', inplace=True)"
   ]
  },
  {
   "cell_type": "code",
   "execution_count": 21,
   "id": "bc356fe9",
   "metadata": {},
   "outputs": [
    {
     "data": {
      "text/plain": [
       "{'mwra_concentration': 14, 'mwra_7dayaverage': 4}"
      ]
     },
     "execution_count": 21,
     "metadata": {},
     "output_type": "execute_result"
    }
   ],
   "source": [
    "#blank check before the whitespace replacement\n",
    "blank_check(Cambridge_df)"
   ]
  },
  {
   "cell_type": "code",
   "execution_count": 22,
   "id": "a0725783",
   "metadata": {},
   "outputs": [],
   "source": [
    "#replace whitespace with NaN and check for an decrease in blank_check and increase in null\n",
    "#The increase seen with .isnull() is due to us replacing '' with \n",
    "Cambridge_df.replace(r'^\\s*$', np.nan, regex=True, inplace=True)"
   ]
  },
  {
   "cell_type": "code",
   "execution_count": 23,
   "id": "513a71bf",
   "metadata": {},
   "outputs": [
    {
     "data": {
      "text/plain": [
       "{'mwra_concentration': 0, 'mwra_7dayaverage': 0}"
      ]
     },
     "execution_count": 23,
     "metadata": {},
     "output_type": "execute_result"
    }
   ],
   "source": [
    "#blank check after whitespace replacement\n",
    "blank_check(Cambridge_df)"
   ]
  },
  {
   "cell_type": "code",
   "execution_count": 24,
   "id": "ad924061",
   "metadata": {},
   "outputs": [
    {
     "data": {
      "text/plain": [
       "mwra_concentration    14\n",
       "mwra_7dayaverage       4\n",
       "dtype: int64"
      ]
     },
     "execution_count": 24,
     "metadata": {},
     "output_type": "execute_result"
    }
   ],
   "source": [
    "Cambridge_df.isnull().sum()"
   ]
  },
  {
   "cell_type": "markdown",
   "id": "430fef44",
   "metadata": {},
   "source": [
    "#### This passes the stench test now, and we can easily deal with NaNs."
   ]
  },
  {
   "cell_type": "code",
   "execution_count": 25,
   "id": "6f015431",
   "metadata": {},
   "outputs": [
    {
     "data": {
      "text/plain": [
       "mwra_concentration    0\n",
       "mwra_7dayaverage      0\n",
       "dtype: int64"
      ]
     },
     "execution_count": 25,
     "metadata": {},
     "output_type": "execute_result"
    }
   ],
   "source": [
    "#replace mwra_7dayaverage NaNs with .replace() and frontfill method\n",
    "Cambridge_df.mwra_7dayaverage.replace(np.nan, method='ffill', inplace=True)\n",
    "\n",
    "#replace mwra_concentration NaNs with the given mwra_7dayaverage using .fillna()\n",
    "Cambridge_df.mwra_concentration.fillna(Cambridge_df.mwra_7dayaverage, inplace=True)\n",
    "\n",
    "Cambridge_df.isnull().sum()"
   ]
  },
  {
   "cell_type": "code",
   "execution_count": 26,
   "id": "e5ae5d51",
   "metadata": {},
   "outputs": [],
   "source": [
    "Cambridge_cleaned = Cambridge_df.copy()"
   ]
  },
  {
   "cell_type": "markdown",
   "id": "38d556b8",
   "metadata": {},
   "source": [
    "## Masschusetts Data"
   ]
  },
  {
   "cell_type": "code",
   "execution_count": 27,
   "id": "e49dcd55",
   "metadata": {},
   "outputs": [
    {
     "data": {
      "text/plain": [
       "(8800, 17)"
      ]
     },
     "execution_count": 27,
     "metadata": {},
     "output_type": "execute_result"
    }
   ],
   "source": [
    "Mass_df.shape"
   ]
  },
  {
   "cell_type": "code",
   "execution_count": 28,
   "id": "e173bbd9",
   "metadata": {},
   "outputs": [
    {
     "data": {
      "text/plain": [
       "Index(['City/Town', 'County', 'Population', 'Total Case Counts',\n",
       "       'Two Week Case Counts', 'Average Daily Rate', 'Color',\n",
       "       'Change in Last Week', 'Total Tests', 'Total Tests Last Two Weeks',\n",
       "       'Total Positive Tests', 'Percent Positivity', 'Change Since Last Week',\n",
       "       'Testing Rate', 'Report Date', 'Start_Date', 'End_Date'],\n",
       "      dtype='object')"
      ]
     },
     "execution_count": 28,
     "metadata": {},
     "output_type": "execute_result"
    }
   ],
   "source": [
    "Mass_df.columns"
   ]
  },
  {
   "cell_type": "code",
   "execution_count": 29,
   "id": "e140e5b9",
   "metadata": {},
   "outputs": [],
   "source": [
    "#I am only interested in the Cambridge city data.\n",
    "Cambridge_weekly_trend = Mass_df[Mass_df['City/Town'] == 'Cambridge']"
   ]
  },
  {
   "cell_type": "code",
   "execution_count": 30,
   "id": "3a75dec8",
   "metadata": {},
   "outputs": [
    {
     "data": {
      "text/plain": [
       "(25, 17)"
      ]
     },
     "execution_count": 30,
     "metadata": {},
     "output_type": "execute_result"
    }
   ],
   "source": [
    "Cambridge_weekly_trend.shape"
   ]
  },
  {
   "cell_type": "code",
   "execution_count": 31,
   "id": "8f3c3e52",
   "metadata": {},
   "outputs": [
    {
     "data": {
      "text/plain": [
       "City/Town                     0\n",
       "County                        0\n",
       "Population                    0\n",
       "Total Case Counts             0\n",
       "Two Week Case Counts          0\n",
       "Average Daily Rate            0\n",
       "Color                         0\n",
       "Change in Last Week           0\n",
       "Total Tests                   0\n",
       "Total Tests Last Two Weeks    0\n",
       "Total Positive Tests          0\n",
       "Percent Positivity            0\n",
       "Change Since Last Week        0\n",
       "Testing Rate                  0\n",
       "Report Date                   0\n",
       "Start_Date                    0\n",
       "End_Date                      0\n",
       "dtype: int64"
      ]
     },
     "execution_count": 31,
     "metadata": {},
     "output_type": "execute_result"
    }
   ],
   "source": [
    "Cambridge_weekly_trend.isnull().sum()"
   ]
  },
  {
   "cell_type": "code",
   "execution_count": 32,
   "id": "e7adc466",
   "metadata": {},
   "outputs": [
    {
     "data": {
      "text/plain": [
       "{'City/Town': 0,\n",
       " 'County': 0,\n",
       " 'Population': 0,\n",
       " 'Total Case Counts': 0,\n",
       " 'Two Week Case Counts': 0,\n",
       " 'Average Daily Rate': 0,\n",
       " 'Color': 0,\n",
       " 'Change in Last Week': 0,\n",
       " 'Total Tests': 0,\n",
       " 'Total Tests Last Two Weeks': 0,\n",
       " 'Total Positive Tests': 0,\n",
       " 'Percent Positivity': 0,\n",
       " 'Change Since Last Week': 0,\n",
       " 'Testing Rate': 0,\n",
       " 'Report Date': 0,\n",
       " 'Start_Date': 0,\n",
       " 'End_Date': 0}"
      ]
     },
     "execution_count": 32,
     "metadata": {},
     "output_type": "execute_result"
    }
   ],
   "source": [
    "blank_check(Cambridge_weekly_trend)"
   ]
  },
  {
   "cell_type": "markdown",
   "id": "2c34d0f4",
   "metadata": {},
   "source": [
    "#### No stenches here. Let's look at the features and determine what we should keep."
   ]
  },
  {
   "cell_type": "code",
   "execution_count": 33,
   "id": "18e806ac",
   "metadata": {},
   "outputs": [],
   "source": [
    "#dropping index of Cambridge_weekly_trend\n",
    "Cambridge_weekly_trend.reset_index(drop=True, inplace=True)"
   ]
  },
  {
   "cell_type": "code",
   "execution_count": 34,
   "id": "df101129",
   "metadata": {},
   "outputs": [
    {
     "data": {
      "text/plain": [
       "Index(['City/Town', 'County', 'Population', 'Total Case Counts',\n",
       "       'Two Week Case Counts', 'Average Daily Rate', 'Color',\n",
       "       'Change in Last Week', 'Total Tests', 'Total Tests Last Two Weeks',\n",
       "       'Total Positive Tests', 'Percent Positivity', 'Change Since Last Week',\n",
       "       'Testing Rate', 'Report Date', 'Start_Date', 'End_Date'],\n",
       "      dtype='object')"
      ]
     },
     "execution_count": 34,
     "metadata": {},
     "output_type": "execute_result"
    }
   ],
   "source": [
    "Cambridge_weekly_trend.columns"
   ]
  },
  {
   "cell_type": "code",
   "execution_count": 35,
   "id": "573b9ebc",
   "metadata": {},
   "outputs": [
    {
     "name": "stdout",
     "output_type": "stream",
     "text": [
      "<class 'pandas.core.frame.DataFrame'>\n",
      "RangeIndex: 25 entries, 0 to 24\n",
      "Data columns (total 3 columns):\n",
      " #   Column       Non-Null Count  Dtype         \n",
      "---  ------       --------------  -----         \n",
      " 0   Report Date  25 non-null     datetime64[ns]\n",
      " 1   Start_Date   25 non-null     datetime64[ns]\n",
      " 2   End_Date     25 non-null     datetime64[ns]\n",
      "dtypes: datetime64[ns](3)\n",
      "memory usage: 728.0 bytes\n"
     ]
    }
   ],
   "source": [
    "#confirming these columns are datetime types\n",
    "date_columns = ['Report Date', 'Start_Date', 'End_Date']\n",
    "Cambridge_weekly_trend[\n",
    "    [col for col in Cambridge_weekly_trend[date_columns]]].info()"
   ]
  },
  {
   "cell_type": "code",
   "execution_count": 36,
   "id": "d62a492e",
   "metadata": {},
   "outputs": [],
   "source": [
    "#Since I am merging on 'per' below, may not need to set the index to date this early here. \n",
    "#I was wrong, I do need this early or else I can't use .to_period() down below for Cambridge_weekly_trend\n",
    "Cambridge_weekly_trend.set_index('Report Date', drop=True, inplace=True)"
   ]
  },
  {
   "cell_type": "markdown",
   "id": "d2a1aa42",
   "metadata": {},
   "source": [
    "#### I've decided to drop columns after I merge the two datasets."
   ]
  },
  {
   "cell_type": "markdown",
   "id": "26d61ffc",
   "metadata": {},
   "source": [
    "### Even though this is a larger dataset (and may take more computation cycles), I feel more comfortable using .copy() when testing out new things"
   ]
  },
  {
   "cell_type": "code",
   "execution_count": 37,
   "id": "1ffb2453",
   "metadata": {},
   "outputs": [],
   "source": [
    "test_df = Cambridge_cleaned.copy()"
   ]
  },
  {
   "cell_type": "markdown",
   "id": "c670f80f",
   "metadata": {},
   "source": [
    "### There are some common date ranges we can merge on. I will covert the most appropriate datetime Series into 'periods' and merge on them."
   ]
  },
  {
   "cell_type": "code",
   "execution_count": 38,
   "id": "2865f2e8",
   "metadata": {},
   "outputs": [],
   "source": [
    "#remember the index was the original 'date' column converted to datetime\n",
    "test_df['per'] = test_df.index.to_period('w')"
   ]
  },
  {
   "cell_type": "code",
   "execution_count": 39,
   "id": "668da277",
   "metadata": {},
   "outputs": [
    {
     "name": "stderr",
     "output_type": "stream",
     "text": [
      "<ipython-input-39-c79ecc60218b>:2: SettingWithCopyWarning: \n",
      "A value is trying to be set on a copy of a slice from a DataFrame.\n",
      "Try using .loc[row_indexer,col_indexer] = value instead\n",
      "\n",
      "See the caveats in the documentation: https://pandas.pydata.org/pandas-docs/stable/user_guide/indexing.html#returning-a-view-versus-a-copy\n",
      "  Cambridge_weekly_trend['per'] = Cambridge_weekly_trend.index.to_period('w')\n"
     ]
    }
   ],
   "source": [
    "#This will throw a warning, but the code runs in my Jupyter environment. \n",
    "Cambridge_weekly_trend['per'] = Cambridge_weekly_trend.index.to_period('w')"
   ]
  },
  {
   "cell_type": "markdown",
   "id": "fa32c4a3",
   "metadata": {},
   "source": [
    "### Merge the datasets on the 'per' column and do a final inspection"
   ]
  },
  {
   "cell_type": "code",
   "execution_count": 40,
   "id": "b1fa6f48",
   "metadata": {},
   "outputs": [],
   "source": [
    "merged_df = test_df.reset_index().merge(Cambridge_weekly_trend, on='per')"
   ]
  },
  {
   "cell_type": "code",
   "execution_count": 41,
   "id": "8816039f",
   "metadata": {},
   "outputs": [
    {
     "data": {
      "text/plain": [
       "(175, 20)"
      ]
     },
     "execution_count": 41,
     "metadata": {},
     "output_type": "execute_result"
    }
   ],
   "source": [
    "merged_df.shape"
   ]
  },
  {
   "cell_type": "code",
   "execution_count": 42,
   "id": "80e59717",
   "metadata": {},
   "outputs": [
    {
     "name": "stdout",
     "output_type": "stream",
     "text": [
      "<class 'pandas.core.frame.DataFrame'>\n",
      "Int64Index: 175 entries, 0 to 174\n",
      "Data columns (total 20 columns):\n",
      " #   Column                      Non-Null Count  Dtype         \n",
      "---  ------                      --------------  -----         \n",
      " 0   date                        175 non-null    datetime64[ns]\n",
      " 1   mwra_concentration          175 non-null    object        \n",
      " 2   mwra_7dayaverage            175 non-null    object        \n",
      " 3   per                         175 non-null    period[W-SUN] \n",
      " 4   City/Town                   175 non-null    object        \n",
      " 5   County                      175 non-null    object        \n",
      " 6   Population                  175 non-null    object        \n",
      " 7   Total Case Counts           175 non-null    object        \n",
      " 8   Two Week Case Counts        175 non-null    object        \n",
      " 9   Average Daily Rate          175 non-null    object        \n",
      " 10  Color                       175 non-null    object        \n",
      " 11  Change in Last Week         175 non-null    object        \n",
      " 12  Total Tests                 175 non-null    int64         \n",
      " 13  Total Tests Last Two Weeks  175 non-null    float64       \n",
      " 14  Total Positive Tests        175 non-null    float64       \n",
      " 15  Percent Positivity          175 non-null    object        \n",
      " 16  Change Since Last Week      175 non-null    object        \n",
      " 17  Testing Rate                175 non-null    object        \n",
      " 18  Start_Date                  175 non-null    datetime64[ns]\n",
      " 19  End_Date                    175 non-null    datetime64[ns]\n",
      "dtypes: datetime64[ns](3), float64(2), int64(1), object(13), period[W-SUN](1)\n",
      "memory usage: 28.7+ KB\n"
     ]
    }
   ],
   "source": [
    "merged_df.info()"
   ]
  },
  {
   "cell_type": "markdown",
   "id": "7db252f4",
   "metadata": {},
   "source": [
    "### After review, will drop columns with the same values (only 1 unique value), and other datetime64 populated columns other than date. Will also drop the 'per' column as the merged occured already."
   ]
  },
  {
   "cell_type": "code",
   "execution_count": 43,
   "id": "56bdfcf0",
   "metadata": {},
   "outputs": [
    {
     "data": {
      "text/plain": [
       "1"
      ]
     },
     "execution_count": 43,
     "metadata": {},
     "output_type": "execute_result"
    }
   ],
   "source": [
    "merged_df['City/Town'].nunique() #drop"
   ]
  },
  {
   "cell_type": "code",
   "execution_count": 44,
   "id": "5d955739",
   "metadata": {},
   "outputs": [
    {
     "data": {
      "text/plain": [
       "1"
      ]
     },
     "execution_count": 44,
     "metadata": {},
     "output_type": "execute_result"
    }
   ],
   "source": [
    "merged_df['Population'].nunique() #drop"
   ]
  },
  {
   "cell_type": "code",
   "execution_count": 45,
   "id": "db09ada9",
   "metadata": {},
   "outputs": [
    {
     "data": {
      "text/plain": [
       "1"
      ]
     },
     "execution_count": 45,
     "metadata": {},
     "output_type": "execute_result"
    }
   ],
   "source": [
    "merged_df['County'].nunique() #drop"
   ]
  },
  {
   "cell_type": "code",
   "execution_count": 46,
   "id": "bf31c001",
   "metadata": {},
   "outputs": [
    {
     "data": {
      "text/plain": [
       "['date',\n",
       " 'mwra_concentration',\n",
       " 'mwra_7dayaverage',\n",
       " 'Total Case Counts',\n",
       " 'Two Week Case Counts',\n",
       " 'Average Daily Rate',\n",
       " 'Color',\n",
       " 'Change in Last Week',\n",
       " 'Total Tests',\n",
       " 'Total Tests Last Two Weeks',\n",
       " 'Total Positive Tests',\n",
       " 'Percent Positivity',\n",
       " 'Change Since Last Week',\n",
       " 'Testing Rate']"
      ]
     },
     "execution_count": 46,
     "metadata": {},
     "output_type": "execute_result"
    }
   ],
   "source": [
    "drop_list = ['City/Town', 'County', 'Population', 'per', 'Start_Date', 'End_Date']\n",
    "\n",
    "#list comp of all the columns I will keep for the final dataframe\n",
    "kept_merged_features = [x for x in merged_df.columns if x not in drop_list]\n",
    "kept_merged_features"
   ]
  },
  {
   "cell_type": "code",
   "execution_count": 47,
   "id": "596d54d4",
   "metadata": {},
   "outputs": [],
   "source": [
    "cleaned_df = merged_df.drop(columns=merged_df.columns.difference(kept_merged_features), inplace=False)"
   ]
  },
  {
   "cell_type": "code",
   "execution_count": 48,
   "id": "852d75db",
   "metadata": {},
   "outputs": [
    {
     "data": {
      "text/html": [
       "<div>\n",
       "<style scoped>\n",
       "    .dataframe tbody tr th:only-of-type {\n",
       "        vertical-align: middle;\n",
       "    }\n",
       "\n",
       "    .dataframe tbody tr th {\n",
       "        vertical-align: top;\n",
       "    }\n",
       "\n",
       "    .dataframe thead th {\n",
       "        text-align: right;\n",
       "    }\n",
       "</style>\n",
       "<table border=\"1\" class=\"dataframe\">\n",
       "  <thead>\n",
       "    <tr style=\"text-align: right;\">\n",
       "      <th></th>\n",
       "      <th>date</th>\n",
       "      <th>mwra_concentration</th>\n",
       "      <th>mwra_7dayaverage</th>\n",
       "      <th>Total Case Counts</th>\n",
       "      <th>Two Week Case Counts</th>\n",
       "      <th>Average Daily Rate</th>\n",
       "      <th>Color</th>\n",
       "      <th>Change in Last Week</th>\n",
       "      <th>Total Tests</th>\n",
       "      <th>Total Tests Last Two Weeks</th>\n",
       "      <th>Total Positive Tests</th>\n",
       "      <th>Percent Positivity</th>\n",
       "      <th>Change Since Last Week</th>\n",
       "      <th>Testing Rate</th>\n",
       "    </tr>\n",
       "  </thead>\n",
       "  <tbody>\n",
       "    <tr>\n",
       "      <th>0</th>\n",
       "      <td>2020-12-21</td>\n",
       "      <td>775</td>\n",
       "      <td>775</td>\n",
       "      <td>2645</td>\n",
       "      <td>421</td>\n",
       "      <td>26.852121</td>\n",
       "      <td>Yellow</td>\n",
       "      <td>Lower</td>\n",
       "      <td>424399</td>\n",
       "      <td>42729.0</td>\n",
       "      <td>505.0</td>\n",
       "      <td>0.011819</td>\n",
       "      <td>No Change</td>\n",
       "      <td>38154.631981</td>\n",
       "    </tr>\n",
       "    <tr>\n",
       "      <th>30</th>\n",
       "      <td>2021-01-20</td>\n",
       "      <td>422</td>\n",
       "      <td>721</td>\n",
       "      <td>3618</td>\n",
       "      <td>554</td>\n",
       "      <td>35.335095</td>\n",
       "      <td>Yellow</td>\n",
       "      <td>Higher</td>\n",
       "      <td>494699</td>\n",
       "      <td>44470.0</td>\n",
       "      <td>663.0</td>\n",
       "      <td>0.014909</td>\n",
       "      <td>Lower</td>\n",
       "      <td>39709.248618</td>\n",
       "    </tr>\n",
       "    <tr>\n",
       "      <th>60</th>\n",
       "      <td>2021-02-19</td>\n",
       "      <td>579</td>\n",
       "      <td>279</td>\n",
       "      <td>4271</td>\n",
       "      <td>228</td>\n",
       "      <td>14.542241</td>\n",
       "      <td>Yellow</td>\n",
       "      <td>Lower</td>\n",
       "      <td>603952</td>\n",
       "      <td>55154.0</td>\n",
       "      <td>290.0</td>\n",
       "      <td>0.005258</td>\n",
       "      <td>Lower</td>\n",
       "      <td>49249.469267</td>\n",
       "    </tr>\n",
       "    <tr>\n",
       "      <th>90</th>\n",
       "      <td>2021-03-21</td>\n",
       "      <td>227</td>\n",
       "      <td>288</td>\n",
       "      <td>4734</td>\n",
       "      <td>256</td>\n",
       "      <td>16.328131</td>\n",
       "      <td>Yellow</td>\n",
       "      <td>Lower</td>\n",
       "      <td>733535</td>\n",
       "      <td>66767.0</td>\n",
       "      <td>301.0</td>\n",
       "      <td>0.004508</td>\n",
       "      <td>No Change</td>\n",
       "      <td>59619.235496</td>\n",
       "    </tr>\n",
       "    <tr>\n",
       "      <th>120</th>\n",
       "      <td>2021-04-20</td>\n",
       "      <td>131</td>\n",
       "      <td>207</td>\n",
       "      <td>5527</td>\n",
       "      <td>314</td>\n",
       "      <td>20.027473</td>\n",
       "      <td>Yellow</td>\n",
       "      <td>Lower</td>\n",
       "      <td>897975</td>\n",
       "      <td>64183.0</td>\n",
       "      <td>382.0</td>\n",
       "      <td>0.005952</td>\n",
       "      <td>No Change</td>\n",
       "      <td>57311.866518</td>\n",
       "    </tr>\n",
       "    <tr>\n",
       "      <th>150</th>\n",
       "      <td>2021-05-20</td>\n",
       "      <td>57</td>\n",
       "      <td>42</td>\n",
       "      <td>5713</td>\n",
       "      <td>47</td>\n",
       "      <td>2.997743</td>\n",
       "      <td>Green</td>\n",
       "      <td>Lower</td>\n",
       "      <td>1012048</td>\n",
       "      <td>54831.0</td>\n",
       "      <td>63.0</td>\n",
       "      <td>0.001149</td>\n",
       "      <td>No Change</td>\n",
       "      <td>48961.048144</td>\n",
       "    </tr>\n",
       "  </tbody>\n",
       "</table>\n",
       "</div>"
      ],
      "text/plain": [
       "          date mwra_concentration mwra_7dayaverage Total Case Counts  \\\n",
       "0   2020-12-21                775              775              2645   \n",
       "30  2021-01-20                422              721              3618   \n",
       "60  2021-02-19                579              279              4271   \n",
       "90  2021-03-21                227              288              4734   \n",
       "120 2021-04-20                131              207              5527   \n",
       "150 2021-05-20                 57               42              5713   \n",
       "\n",
       "    Two Week Case Counts Average Daily Rate   Color Change in Last Week  \\\n",
       "0                    421          26.852121  Yellow               Lower   \n",
       "30                   554          35.335095  Yellow              Higher   \n",
       "60                   228          14.542241  Yellow               Lower   \n",
       "90                   256          16.328131  Yellow               Lower   \n",
       "120                  314          20.027473  Yellow               Lower   \n",
       "150                   47           2.997743   Green               Lower   \n",
       "\n",
       "     Total Tests  Total Tests Last Two Weeks  Total Positive Tests  \\\n",
       "0         424399                     42729.0                 505.0   \n",
       "30        494699                     44470.0                 663.0   \n",
       "60        603952                     55154.0                 290.0   \n",
       "90        733535                     66767.0                 301.0   \n",
       "120       897975                     64183.0                 382.0   \n",
       "150      1012048                     54831.0                  63.0   \n",
       "\n",
       "    Percent Positivity Change Since Last Week  Testing Rate  \n",
       "0             0.011819              No Change  38154.631981  \n",
       "30            0.014909                  Lower  39709.248618  \n",
       "60            0.005258                  Lower  49249.469267  \n",
       "90            0.004508              No Change  59619.235496  \n",
       "120           0.005952              No Change  57311.866518  \n",
       "150           0.001149              No Change  48961.048144  "
      ]
     },
     "execution_count": 48,
     "metadata": {},
     "output_type": "execute_result"
    }
   ],
   "source": [
    "cleaned_df[::30]"
   ]
  },
  {
   "cell_type": "code",
   "execution_count": 49,
   "id": "62f7be51",
   "metadata": {},
   "outputs": [
    {
     "data": {
      "text/plain": [
       "({'date': 0,\n",
       "  'mwra_concentration': 0,\n",
       "  'mwra_7dayaverage': 0,\n",
       "  'Total Case Counts': 0,\n",
       "  'Two Week Case Counts': 0,\n",
       "  'Average Daily Rate': 0,\n",
       "  'Color': 0,\n",
       "  'Change in Last Week': 0,\n",
       "  'Total Tests': 0,\n",
       "  'Total Tests Last Two Weeks': 0,\n",
       "  'Total Positive Tests': 0,\n",
       "  'Percent Positivity': 0,\n",
       "  'Change Since Last Week': 0,\n",
       "  'Testing Rate': 0},\n",
       " date                          0\n",
       " mwra_concentration            0\n",
       " mwra_7dayaverage              0\n",
       " Total Case Counts             0\n",
       " Two Week Case Counts          0\n",
       " Average Daily Rate            0\n",
       " Color                         0\n",
       " Change in Last Week           0\n",
       " Total Tests                   0\n",
       " Total Tests Last Two Weeks    0\n",
       " Total Positive Tests          0\n",
       " Percent Positivity            0\n",
       " Change Since Last Week        0\n",
       " Testing Rate                  0\n",
       " dtype: int64)"
      ]
     },
     "execution_count": 49,
     "metadata": {},
     "output_type": "execute_result"
    }
   ],
   "source": [
    "blank_check(cleaned_df), cleaned_df.isnull().sum()"
   ]
  },
  {
   "cell_type": "markdown",
   "id": "4f8bee17",
   "metadata": {},
   "source": [
    "#### Setting the index to be the date feature, and dropping that column."
   ]
  },
  {
   "cell_type": "code",
   "execution_count": 50,
   "id": "2b8a930f",
   "metadata": {},
   "outputs": [
    {
     "data": {
      "text/html": [
       "<div>\n",
       "<style scoped>\n",
       "    .dataframe tbody tr th:only-of-type {\n",
       "        vertical-align: middle;\n",
       "    }\n",
       "\n",
       "    .dataframe tbody tr th {\n",
       "        vertical-align: top;\n",
       "    }\n",
       "\n",
       "    .dataframe thead th {\n",
       "        text-align: right;\n",
       "    }\n",
       "</style>\n",
       "<table border=\"1\" class=\"dataframe\">\n",
       "  <thead>\n",
       "    <tr style=\"text-align: right;\">\n",
       "      <th></th>\n",
       "      <th>mwra_concentration</th>\n",
       "      <th>mwra_7dayaverage</th>\n",
       "      <th>Total Case Counts</th>\n",
       "      <th>Two Week Case Counts</th>\n",
       "      <th>Average Daily Rate</th>\n",
       "      <th>Color</th>\n",
       "      <th>Change in Last Week</th>\n",
       "      <th>Total Tests</th>\n",
       "      <th>Total Tests Last Two Weeks</th>\n",
       "      <th>Total Positive Tests</th>\n",
       "      <th>Percent Positivity</th>\n",
       "      <th>Change Since Last Week</th>\n",
       "      <th>Testing Rate</th>\n",
       "    </tr>\n",
       "    <tr>\n",
       "      <th>date</th>\n",
       "      <th></th>\n",
       "      <th></th>\n",
       "      <th></th>\n",
       "      <th></th>\n",
       "      <th></th>\n",
       "      <th></th>\n",
       "      <th></th>\n",
       "      <th></th>\n",
       "      <th></th>\n",
       "      <th></th>\n",
       "      <th></th>\n",
       "      <th></th>\n",
       "      <th></th>\n",
       "    </tr>\n",
       "  </thead>\n",
       "  <tbody>\n",
       "    <tr>\n",
       "      <th>2020-12-21</th>\n",
       "      <td>775</td>\n",
       "      <td>775</td>\n",
       "      <td>2645</td>\n",
       "      <td>421</td>\n",
       "      <td>26.852121</td>\n",
       "      <td>Yellow</td>\n",
       "      <td>Lower</td>\n",
       "      <td>424399</td>\n",
       "      <td>42729.0</td>\n",
       "      <td>505.0</td>\n",
       "      <td>0.011819</td>\n",
       "      <td>No Change</td>\n",
       "      <td>38154.631981</td>\n",
       "    </tr>\n",
       "    <tr>\n",
       "      <th>2020-12-22</th>\n",
       "      <td>995</td>\n",
       "      <td>974</td>\n",
       "      <td>2645</td>\n",
       "      <td>421</td>\n",
       "      <td>26.852121</td>\n",
       "      <td>Yellow</td>\n",
       "      <td>Lower</td>\n",
       "      <td>424399</td>\n",
       "      <td>42729.0</td>\n",
       "      <td>505.0</td>\n",
       "      <td>0.011819</td>\n",
       "      <td>No Change</td>\n",
       "      <td>38154.631981</td>\n",
       "    </tr>\n",
       "    <tr>\n",
       "      <th>2020-12-23</th>\n",
       "      <td>841</td>\n",
       "      <td>968</td>\n",
       "      <td>2645</td>\n",
       "      <td>421</td>\n",
       "      <td>26.852121</td>\n",
       "      <td>Yellow</td>\n",
       "      <td>Lower</td>\n",
       "      <td>424399</td>\n",
       "      <td>42729.0</td>\n",
       "      <td>505.0</td>\n",
       "      <td>0.011819</td>\n",
       "      <td>No Change</td>\n",
       "      <td>38154.631981</td>\n",
       "    </tr>\n",
       "    <tr>\n",
       "      <th>2020-12-24</th>\n",
       "      <td>985</td>\n",
       "      <td>952</td>\n",
       "      <td>2645</td>\n",
       "      <td>421</td>\n",
       "      <td>26.852121</td>\n",
       "      <td>Yellow</td>\n",
       "      <td>Lower</td>\n",
       "      <td>424399</td>\n",
       "      <td>42729.0</td>\n",
       "      <td>505.0</td>\n",
       "      <td>0.011819</td>\n",
       "      <td>No Change</td>\n",
       "      <td>38154.631981</td>\n",
       "    </tr>\n",
       "    <tr>\n",
       "      <th>2020-12-25</th>\n",
       "      <td>907</td>\n",
       "      <td>932</td>\n",
       "      <td>2645</td>\n",
       "      <td>421</td>\n",
       "      <td>26.852121</td>\n",
       "      <td>Yellow</td>\n",
       "      <td>Lower</td>\n",
       "      <td>424399</td>\n",
       "      <td>42729.0</td>\n",
       "      <td>505.0</td>\n",
       "      <td>0.011819</td>\n",
       "      <td>No Change</td>\n",
       "      <td>38154.631981</td>\n",
       "    </tr>\n",
       "    <tr>\n",
       "      <th>...</th>\n",
       "      <td>...</td>\n",
       "      <td>...</td>\n",
       "      <td>...</td>\n",
       "      <td>...</td>\n",
       "      <td>...</td>\n",
       "      <td>...</td>\n",
       "      <td>...</td>\n",
       "      <td>...</td>\n",
       "      <td>...</td>\n",
       "      <td>...</td>\n",
       "      <td>...</td>\n",
       "      <td>...</td>\n",
       "      <td>...</td>\n",
       "    </tr>\n",
       "    <tr>\n",
       "      <th>2021-06-09</th>\n",
       "      <td>14</td>\n",
       "      <td>22</td>\n",
       "      <td>5758</td>\n",
       "      <td>27</td>\n",
       "      <td>1.722108</td>\n",
       "      <td>Green</td>\n",
       "      <td>Lower</td>\n",
       "      <td>1063577</td>\n",
       "      <td>33174.0</td>\n",
       "      <td>31.0</td>\n",
       "      <td>0.000934</td>\n",
       "      <td>No Change</td>\n",
       "      <td>29622.545843</td>\n",
       "    </tr>\n",
       "    <tr>\n",
       "      <th>2021-06-10</th>\n",
       "      <td>33</td>\n",
       "      <td>23</td>\n",
       "      <td>5758</td>\n",
       "      <td>27</td>\n",
       "      <td>1.722108</td>\n",
       "      <td>Green</td>\n",
       "      <td>Lower</td>\n",
       "      <td>1063577</td>\n",
       "      <td>33174.0</td>\n",
       "      <td>31.0</td>\n",
       "      <td>0.000934</td>\n",
       "      <td>No Change</td>\n",
       "      <td>29622.545843</td>\n",
       "    </tr>\n",
       "    <tr>\n",
       "      <th>2021-06-11</th>\n",
       "      <td>40</td>\n",
       "      <td>25</td>\n",
       "      <td>5758</td>\n",
       "      <td>27</td>\n",
       "      <td>1.722108</td>\n",
       "      <td>Green</td>\n",
       "      <td>Lower</td>\n",
       "      <td>1063577</td>\n",
       "      <td>33174.0</td>\n",
       "      <td>31.0</td>\n",
       "      <td>0.000934</td>\n",
       "      <td>No Change</td>\n",
       "      <td>29622.545843</td>\n",
       "    </tr>\n",
       "    <tr>\n",
       "      <th>2021-06-12</th>\n",
       "      <td>32</td>\n",
       "      <td>25</td>\n",
       "      <td>5758</td>\n",
       "      <td>27</td>\n",
       "      <td>1.722108</td>\n",
       "      <td>Green</td>\n",
       "      <td>Lower</td>\n",
       "      <td>1063577</td>\n",
       "      <td>33174.0</td>\n",
       "      <td>31.0</td>\n",
       "      <td>0.000934</td>\n",
       "      <td>No Change</td>\n",
       "      <td>29622.545843</td>\n",
       "    </tr>\n",
       "    <tr>\n",
       "      <th>2021-06-13</th>\n",
       "      <td>20</td>\n",
       "      <td>24</td>\n",
       "      <td>5758</td>\n",
       "      <td>27</td>\n",
       "      <td>1.722108</td>\n",
       "      <td>Green</td>\n",
       "      <td>Lower</td>\n",
       "      <td>1063577</td>\n",
       "      <td>33174.0</td>\n",
       "      <td>31.0</td>\n",
       "      <td>0.000934</td>\n",
       "      <td>No Change</td>\n",
       "      <td>29622.545843</td>\n",
       "    </tr>\n",
       "  </tbody>\n",
       "</table>\n",
       "<p>175 rows × 13 columns</p>\n",
       "</div>"
      ],
      "text/plain": [
       "           mwra_concentration mwra_7dayaverage Total Case Counts  \\\n",
       "date                                                               \n",
       "2020-12-21                775              775              2645   \n",
       "2020-12-22                995              974              2645   \n",
       "2020-12-23                841              968              2645   \n",
       "2020-12-24                985              952              2645   \n",
       "2020-12-25                907              932              2645   \n",
       "...                       ...              ...               ...   \n",
       "2021-06-09                 14               22              5758   \n",
       "2021-06-10                 33               23              5758   \n",
       "2021-06-11                 40               25              5758   \n",
       "2021-06-12                 32               25              5758   \n",
       "2021-06-13                 20               24              5758   \n",
       "\n",
       "           Two Week Case Counts Average Daily Rate   Color  \\\n",
       "date                                                         \n",
       "2020-12-21                  421          26.852121  Yellow   \n",
       "2020-12-22                  421          26.852121  Yellow   \n",
       "2020-12-23                  421          26.852121  Yellow   \n",
       "2020-12-24                  421          26.852121  Yellow   \n",
       "2020-12-25                  421          26.852121  Yellow   \n",
       "...                         ...                ...     ...   \n",
       "2021-06-09                   27           1.722108   Green   \n",
       "2021-06-10                   27           1.722108   Green   \n",
       "2021-06-11                   27           1.722108   Green   \n",
       "2021-06-12                   27           1.722108   Green   \n",
       "2021-06-13                   27           1.722108   Green   \n",
       "\n",
       "           Change in Last Week  Total Tests  Total Tests Last Two Weeks  \\\n",
       "date                                                                      \n",
       "2020-12-21               Lower       424399                     42729.0   \n",
       "2020-12-22               Lower       424399                     42729.0   \n",
       "2020-12-23               Lower       424399                     42729.0   \n",
       "2020-12-24               Lower       424399                     42729.0   \n",
       "2020-12-25               Lower       424399                     42729.0   \n",
       "...                        ...          ...                         ...   \n",
       "2021-06-09               Lower      1063577                     33174.0   \n",
       "2021-06-10               Lower      1063577                     33174.0   \n",
       "2021-06-11               Lower      1063577                     33174.0   \n",
       "2021-06-12               Lower      1063577                     33174.0   \n",
       "2021-06-13               Lower      1063577                     33174.0   \n",
       "\n",
       "            Total Positive Tests Percent Positivity Change Since Last Week  \\\n",
       "date                                                                         \n",
       "2020-12-21                 505.0           0.011819              No Change   \n",
       "2020-12-22                 505.0           0.011819              No Change   \n",
       "2020-12-23                 505.0           0.011819              No Change   \n",
       "2020-12-24                 505.0           0.011819              No Change   \n",
       "2020-12-25                 505.0           0.011819              No Change   \n",
       "...                          ...                ...                    ...   \n",
       "2021-06-09                  31.0           0.000934              No Change   \n",
       "2021-06-10                  31.0           0.000934              No Change   \n",
       "2021-06-11                  31.0           0.000934              No Change   \n",
       "2021-06-12                  31.0           0.000934              No Change   \n",
       "2021-06-13                  31.0           0.000934              No Change   \n",
       "\n",
       "            Testing Rate  \n",
       "date                      \n",
       "2020-12-21  38154.631981  \n",
       "2020-12-22  38154.631981  \n",
       "2020-12-23  38154.631981  \n",
       "2020-12-24  38154.631981  \n",
       "2020-12-25  38154.631981  \n",
       "...                  ...  \n",
       "2021-06-09  29622.545843  \n",
       "2021-06-10  29622.545843  \n",
       "2021-06-11  29622.545843  \n",
       "2021-06-12  29622.545843  \n",
       "2021-06-13  29622.545843  \n",
       "\n",
       "[175 rows x 13 columns]"
      ]
     },
     "execution_count": 50,
     "metadata": {},
     "output_type": "execute_result"
    }
   ],
   "source": [
    "cleaned_df.set_index(cleaned_df.date, inplace=True)\n",
    "cleaned_df.drop(columns=['date'], inplace=True)\n",
    "cleaned_df"
   ]
  },
  {
   "cell_type": "markdown",
   "id": "dfee179f",
   "metadata": {},
   "source": [
    "## Note about this merged dataframe:\n",
    "1. I think this is considered an inner merge. Based on the 'per' column.\n",
    "2. Inner Join imputed the many features from the Mass_df to Cambridge.\n",
    "3. Ready for EDA 7.26.21 NS"
   ]
  },
  {
   "cell_type": "code",
   "execution_count": 51,
   "id": "d412f007",
   "metadata": {},
   "outputs": [
    {
     "data": {
      "text/plain": [
       "(        Total Tests  Total Tests Last Two Weeks  Total Positive Tests\n",
       " count  1.750000e+02                   175.00000             175.00000\n",
       " mean   7.385826e+05                 53117.44000             330.80000\n",
       " std    2.114221e+05                 11891.94666             182.37296\n",
       " min    4.243990e+05                 27189.00000              31.00000\n",
       " 25%    5.491970e+05                 44470.00000             230.00000\n",
       " 50%    7.335350e+05                 55154.00000             301.00000\n",
       " 75%    9.280730e+05                 64183.00000             479.00000\n",
       " max    1.063577e+06                 67166.00000             663.00000,\n",
       " (175, 13))"
      ]
     },
     "execution_count": 51,
     "metadata": {},
     "output_type": "execute_result"
    }
   ],
   "source": [
    "#Some summary statistics\n",
    "cleaned_df.describe(), cleaned_df.shape"
   ]
  },
  {
   "cell_type": "markdown",
   "id": "60f60ba0",
   "metadata": {},
   "source": [
    "### At every Unit submission, I will create a new pickle file."
   ]
  },
  {
   "cell_type": "code",
   "execution_count": null,
   "id": "251d2725",
   "metadata": {},
   "outputs": [],
   "source": [
    "#cleaned_df.to_pickle('Unit11EDA.pkl') #Created 7.27.21 NS and commented out for Github submission"
   ]
  },
  {
   "cell_type": "markdown",
   "id": "190dddda",
   "metadata": {},
   "source": [
    "# Exploratory Data Analysis (Unit 11.5)"
   ]
  },
  {
   "cell_type": "markdown",
   "id": "2021fb27",
   "metadata": {},
   "source": [
    "### Goal from the rubric:\n",
    "1. Investigate every feature using histograms, bi-plots, or other visual and numeric means\n",
    "2. Pearson correlation coefficients and other statistical methods were used to ID statistical relationship strengths"
   ]
  },
  {
   "cell_type": "code",
   "execution_count": 52,
   "id": "f0596ddd",
   "metadata": {},
   "outputs": [],
   "source": [
    "with open('Unit11EDA.pkl', 'rb') as f:\n",
    "    df = pickle.load(f)"
   ]
  },
  {
   "cell_type": "code",
   "execution_count": 53,
   "id": "1b21d1a0",
   "metadata": {},
   "outputs": [
    {
     "name": "stdout",
     "output_type": "stream",
     "text": [
      "<class 'pandas.core.frame.DataFrame'>\n",
      "DatetimeIndex: 175 entries, 2020-12-21 to 2021-06-13\n",
      "Data columns (total 13 columns):\n",
      " #   Column                      Non-Null Count  Dtype  \n",
      "---  ------                      --------------  -----  \n",
      " 0   mwra_concentration          175 non-null    object \n",
      " 1   mwra_7dayaverage            175 non-null    object \n",
      " 2   Total Case Counts           175 non-null    object \n",
      " 3   Two Week Case Counts        175 non-null    object \n",
      " 4   Average Daily Rate          175 non-null    object \n",
      " 5   Color                       175 non-null    object \n",
      " 6   Change in Last Week         175 non-null    object \n",
      " 7   Total Tests                 175 non-null    int64  \n",
      " 8   Total Tests Last Two Weeks  175 non-null    float64\n",
      " 9   Total Positive Tests        175 non-null    float64\n",
      " 10  Percent Positivity          175 non-null    object \n",
      " 11  Change Since Last Week      175 non-null    object \n",
      " 12  Testing Rate                175 non-null    object \n",
      "dtypes: float64(2), int64(1), object(10)\n",
      "memory usage: 19.1+ KB\n"
     ]
    }
   ],
   "source": [
    "df.info()"
   ]
  },
  {
   "cell_type": "markdown",
   "id": "b8dd4690",
   "metadata": {},
   "source": [
    "### The types of the features may be problematic when trying to run statistical analysis. Let's see what types they should be, and then do the proper vectorized conversion."
   ]
  },
  {
   "cell_type": "code",
   "execution_count": 54,
   "id": "01608ebc",
   "metadata": {},
   "outputs": [],
   "source": [
    "#As always, I use copy when doing any testing\n",
    "test = df.copy()"
   ]
  },
  {
   "cell_type": "code",
   "execution_count": 55,
   "id": "d7ec2731",
   "metadata": {},
   "outputs": [
    {
     "data": {
      "text/plain": [
       "Index(['mwra_concentration', 'mwra_7dayaverage', 'Total Case Counts',\n",
       "       'Two Week Case Counts', 'Average Daily Rate', 'Color',\n",
       "       'Change in Last Week', 'Total Tests', 'Total Tests Last Two Weeks',\n",
       "       'Total Positive Tests', 'Percent Positivity', 'Change Since Last Week',\n",
       "       'Testing Rate'],\n",
       "      dtype='object')"
      ]
     },
     "execution_count": 55,
     "metadata": {},
     "output_type": "execute_result"
    }
   ],
   "source": [
    "test.columns"
   ]
  },
  {
   "cell_type": "code",
   "execution_count": 56,
   "id": "c60ae136",
   "metadata": {},
   "outputs": [
    {
     "data": {
      "text/html": [
       "<div>\n",
       "<style scoped>\n",
       "    .dataframe tbody tr th:only-of-type {\n",
       "        vertical-align: middle;\n",
       "    }\n",
       "\n",
       "    .dataframe tbody tr th {\n",
       "        vertical-align: top;\n",
       "    }\n",
       "\n",
       "    .dataframe thead th {\n",
       "        text-align: right;\n",
       "    }\n",
       "</style>\n",
       "<table border=\"1\" class=\"dataframe\">\n",
       "  <thead>\n",
       "    <tr style=\"text-align: right;\">\n",
       "      <th></th>\n",
       "      <th>mwra_concentration</th>\n",
       "      <th>mwra_7dayaverage</th>\n",
       "      <th>Total Case Counts</th>\n",
       "      <th>Two Week Case Counts</th>\n",
       "      <th>Average Daily Rate</th>\n",
       "      <th>Color</th>\n",
       "      <th>Change in Last Week</th>\n",
       "      <th>Total Tests</th>\n",
       "      <th>Total Tests Last Two Weeks</th>\n",
       "      <th>Total Positive Tests</th>\n",
       "      <th>Percent Positivity</th>\n",
       "      <th>Change Since Last Week</th>\n",
       "      <th>Testing Rate</th>\n",
       "    </tr>\n",
       "    <tr>\n",
       "      <th>date</th>\n",
       "      <th></th>\n",
       "      <th></th>\n",
       "      <th></th>\n",
       "      <th></th>\n",
       "      <th></th>\n",
       "      <th></th>\n",
       "      <th></th>\n",
       "      <th></th>\n",
       "      <th></th>\n",
       "      <th></th>\n",
       "      <th></th>\n",
       "      <th></th>\n",
       "      <th></th>\n",
       "    </tr>\n",
       "  </thead>\n",
       "  <tbody>\n",
       "    <tr>\n",
       "      <th>2020-12-21</th>\n",
       "      <td>775</td>\n",
       "      <td>775</td>\n",
       "      <td>2645</td>\n",
       "      <td>421</td>\n",
       "      <td>26.852121</td>\n",
       "      <td>Yellow</td>\n",
       "      <td>Lower</td>\n",
       "      <td>424399</td>\n",
       "      <td>42729.0</td>\n",
       "      <td>505.0</td>\n",
       "      <td>0.011819</td>\n",
       "      <td>No Change</td>\n",
       "      <td>38154.631981</td>\n",
       "    </tr>\n",
       "    <tr>\n",
       "      <th>2020-12-22</th>\n",
       "      <td>995</td>\n",
       "      <td>974</td>\n",
       "      <td>2645</td>\n",
       "      <td>421</td>\n",
       "      <td>26.852121</td>\n",
       "      <td>Yellow</td>\n",
       "      <td>Lower</td>\n",
       "      <td>424399</td>\n",
       "      <td>42729.0</td>\n",
       "      <td>505.0</td>\n",
       "      <td>0.011819</td>\n",
       "      <td>No Change</td>\n",
       "      <td>38154.631981</td>\n",
       "    </tr>\n",
       "    <tr>\n",
       "      <th>2020-12-23</th>\n",
       "      <td>841</td>\n",
       "      <td>968</td>\n",
       "      <td>2645</td>\n",
       "      <td>421</td>\n",
       "      <td>26.852121</td>\n",
       "      <td>Yellow</td>\n",
       "      <td>Lower</td>\n",
       "      <td>424399</td>\n",
       "      <td>42729.0</td>\n",
       "      <td>505.0</td>\n",
       "      <td>0.011819</td>\n",
       "      <td>No Change</td>\n",
       "      <td>38154.631981</td>\n",
       "    </tr>\n",
       "    <tr>\n",
       "      <th>2020-12-24</th>\n",
       "      <td>985</td>\n",
       "      <td>952</td>\n",
       "      <td>2645</td>\n",
       "      <td>421</td>\n",
       "      <td>26.852121</td>\n",
       "      <td>Yellow</td>\n",
       "      <td>Lower</td>\n",
       "      <td>424399</td>\n",
       "      <td>42729.0</td>\n",
       "      <td>505.0</td>\n",
       "      <td>0.011819</td>\n",
       "      <td>No Change</td>\n",
       "      <td>38154.631981</td>\n",
       "    </tr>\n",
       "    <tr>\n",
       "      <th>2020-12-25</th>\n",
       "      <td>907</td>\n",
       "      <td>932</td>\n",
       "      <td>2645</td>\n",
       "      <td>421</td>\n",
       "      <td>26.852121</td>\n",
       "      <td>Yellow</td>\n",
       "      <td>Lower</td>\n",
       "      <td>424399</td>\n",
       "      <td>42729.0</td>\n",
       "      <td>505.0</td>\n",
       "      <td>0.011819</td>\n",
       "      <td>No Change</td>\n",
       "      <td>38154.631981</td>\n",
       "    </tr>\n",
       "  </tbody>\n",
       "</table>\n",
       "</div>"
      ],
      "text/plain": [
       "           mwra_concentration mwra_7dayaverage Total Case Counts  \\\n",
       "date                                                               \n",
       "2020-12-21                775              775              2645   \n",
       "2020-12-22                995              974              2645   \n",
       "2020-12-23                841              968              2645   \n",
       "2020-12-24                985              952              2645   \n",
       "2020-12-25                907              932              2645   \n",
       "\n",
       "           Two Week Case Counts Average Daily Rate   Color  \\\n",
       "date                                                         \n",
       "2020-12-21                  421          26.852121  Yellow   \n",
       "2020-12-22                  421          26.852121  Yellow   \n",
       "2020-12-23                  421          26.852121  Yellow   \n",
       "2020-12-24                  421          26.852121  Yellow   \n",
       "2020-12-25                  421          26.852121  Yellow   \n",
       "\n",
       "           Change in Last Week  Total Tests  Total Tests Last Two Weeks  \\\n",
       "date                                                                      \n",
       "2020-12-21               Lower       424399                     42729.0   \n",
       "2020-12-22               Lower       424399                     42729.0   \n",
       "2020-12-23               Lower       424399                     42729.0   \n",
       "2020-12-24               Lower       424399                     42729.0   \n",
       "2020-12-25               Lower       424399                     42729.0   \n",
       "\n",
       "            Total Positive Tests Percent Positivity Change Since Last Week  \\\n",
       "date                                                                         \n",
       "2020-12-21                 505.0           0.011819              No Change   \n",
       "2020-12-22                 505.0           0.011819              No Change   \n",
       "2020-12-23                 505.0           0.011819              No Change   \n",
       "2020-12-24                 505.0           0.011819              No Change   \n",
       "2020-12-25                 505.0           0.011819              No Change   \n",
       "\n",
       "            Testing Rate  \n",
       "date                      \n",
       "2020-12-21  38154.631981  \n",
       "2020-12-22  38154.631981  \n",
       "2020-12-23  38154.631981  \n",
       "2020-12-24  38154.631981  \n",
       "2020-12-25  38154.631981  "
      ]
     },
     "execution_count": 56,
     "metadata": {},
     "output_type": "execute_result"
    }
   ],
   "source": [
    "test.head(5)"
   ]
  },
  {
   "cell_type": "code",
   "execution_count": 57,
   "id": "735ac68a",
   "metadata": {},
   "outputs": [
    {
     "data": {
      "text/html": [
       "<div>\n",
       "<style scoped>\n",
       "    .dataframe tbody tr th:only-of-type {\n",
       "        vertical-align: middle;\n",
       "    }\n",
       "\n",
       "    .dataframe tbody tr th {\n",
       "        vertical-align: top;\n",
       "    }\n",
       "\n",
       "    .dataframe thead th {\n",
       "        text-align: right;\n",
       "    }\n",
       "</style>\n",
       "<table border=\"1\" class=\"dataframe\">\n",
       "  <thead>\n",
       "    <tr style=\"text-align: right;\">\n",
       "      <th></th>\n",
       "      <th>mwra_concentration</th>\n",
       "      <th>mwra_7dayaverage</th>\n",
       "      <th>Total Case Counts</th>\n",
       "      <th>Two Week Case Counts</th>\n",
       "      <th>Average Daily Rate</th>\n",
       "      <th>Color</th>\n",
       "      <th>Change in Last Week</th>\n",
       "      <th>Total Tests</th>\n",
       "      <th>Total Tests Last Two Weeks</th>\n",
       "      <th>Total Positive Tests</th>\n",
       "      <th>Percent Positivity</th>\n",
       "      <th>Change Since Last Week</th>\n",
       "      <th>Testing Rate</th>\n",
       "    </tr>\n",
       "    <tr>\n",
       "      <th>date</th>\n",
       "      <th></th>\n",
       "      <th></th>\n",
       "      <th></th>\n",
       "      <th></th>\n",
       "      <th></th>\n",
       "      <th></th>\n",
       "      <th></th>\n",
       "      <th></th>\n",
       "      <th></th>\n",
       "      <th></th>\n",
       "      <th></th>\n",
       "      <th></th>\n",
       "      <th></th>\n",
       "    </tr>\n",
       "  </thead>\n",
       "  <tbody>\n",
       "    <tr>\n",
       "      <th>2021-06-09</th>\n",
       "      <td>14</td>\n",
       "      <td>22</td>\n",
       "      <td>5758</td>\n",
       "      <td>27</td>\n",
       "      <td>1.722108</td>\n",
       "      <td>Green</td>\n",
       "      <td>Lower</td>\n",
       "      <td>1063577</td>\n",
       "      <td>33174.0</td>\n",
       "      <td>31.0</td>\n",
       "      <td>0.000934</td>\n",
       "      <td>No Change</td>\n",
       "      <td>29622.545843</td>\n",
       "    </tr>\n",
       "    <tr>\n",
       "      <th>2021-06-10</th>\n",
       "      <td>33</td>\n",
       "      <td>23</td>\n",
       "      <td>5758</td>\n",
       "      <td>27</td>\n",
       "      <td>1.722108</td>\n",
       "      <td>Green</td>\n",
       "      <td>Lower</td>\n",
       "      <td>1063577</td>\n",
       "      <td>33174.0</td>\n",
       "      <td>31.0</td>\n",
       "      <td>0.000934</td>\n",
       "      <td>No Change</td>\n",
       "      <td>29622.545843</td>\n",
       "    </tr>\n",
       "    <tr>\n",
       "      <th>2021-06-11</th>\n",
       "      <td>40</td>\n",
       "      <td>25</td>\n",
       "      <td>5758</td>\n",
       "      <td>27</td>\n",
       "      <td>1.722108</td>\n",
       "      <td>Green</td>\n",
       "      <td>Lower</td>\n",
       "      <td>1063577</td>\n",
       "      <td>33174.0</td>\n",
       "      <td>31.0</td>\n",
       "      <td>0.000934</td>\n",
       "      <td>No Change</td>\n",
       "      <td>29622.545843</td>\n",
       "    </tr>\n",
       "    <tr>\n",
       "      <th>2021-06-12</th>\n",
       "      <td>32</td>\n",
       "      <td>25</td>\n",
       "      <td>5758</td>\n",
       "      <td>27</td>\n",
       "      <td>1.722108</td>\n",
       "      <td>Green</td>\n",
       "      <td>Lower</td>\n",
       "      <td>1063577</td>\n",
       "      <td>33174.0</td>\n",
       "      <td>31.0</td>\n",
       "      <td>0.000934</td>\n",
       "      <td>No Change</td>\n",
       "      <td>29622.545843</td>\n",
       "    </tr>\n",
       "    <tr>\n",
       "      <th>2021-06-13</th>\n",
       "      <td>20</td>\n",
       "      <td>24</td>\n",
       "      <td>5758</td>\n",
       "      <td>27</td>\n",
       "      <td>1.722108</td>\n",
       "      <td>Green</td>\n",
       "      <td>Lower</td>\n",
       "      <td>1063577</td>\n",
       "      <td>33174.0</td>\n",
       "      <td>31.0</td>\n",
       "      <td>0.000934</td>\n",
       "      <td>No Change</td>\n",
       "      <td>29622.545843</td>\n",
       "    </tr>\n",
       "  </tbody>\n",
       "</table>\n",
       "</div>"
      ],
      "text/plain": [
       "           mwra_concentration mwra_7dayaverage Total Case Counts  \\\n",
       "date                                                               \n",
       "2021-06-09                 14               22              5758   \n",
       "2021-06-10                 33               23              5758   \n",
       "2021-06-11                 40               25              5758   \n",
       "2021-06-12                 32               25              5758   \n",
       "2021-06-13                 20               24              5758   \n",
       "\n",
       "           Two Week Case Counts Average Daily Rate  Color Change in Last Week  \\\n",
       "date                                                                            \n",
       "2021-06-09                   27           1.722108  Green               Lower   \n",
       "2021-06-10                   27           1.722108  Green               Lower   \n",
       "2021-06-11                   27           1.722108  Green               Lower   \n",
       "2021-06-12                   27           1.722108  Green               Lower   \n",
       "2021-06-13                   27           1.722108  Green               Lower   \n",
       "\n",
       "            Total Tests  Total Tests Last Two Weeks  Total Positive Tests  \\\n",
       "date                                                                        \n",
       "2021-06-09      1063577                     33174.0                  31.0   \n",
       "2021-06-10      1063577                     33174.0                  31.0   \n",
       "2021-06-11      1063577                     33174.0                  31.0   \n",
       "2021-06-12      1063577                     33174.0                  31.0   \n",
       "2021-06-13      1063577                     33174.0                  31.0   \n",
       "\n",
       "           Percent Positivity Change Since Last Week  Testing Rate  \n",
       "date                                                                \n",
       "2021-06-09           0.000934              No Change  29622.545843  \n",
       "2021-06-10           0.000934              No Change  29622.545843  \n",
       "2021-06-11           0.000934              No Change  29622.545843  \n",
       "2021-06-12           0.000934              No Change  29622.545843  \n",
       "2021-06-13           0.000934              No Change  29622.545843  "
      ]
     },
     "execution_count": 57,
     "metadata": {},
     "output_type": "execute_result"
    }
   ],
   "source": [
    "test.tail(5)"
   ]
  },
  {
   "cell_type": "markdown",
   "id": "503fc40a",
   "metadata": {},
   "source": [
    "### Here's how I think they should be converted\n",
    "1. Int64 = ['mwra_concetration', 'mwra_7dayaverage', 'Total Case Counts', 'Two Week Case Counts', 'Total Tests', 'Total Positive Tests']\n",
    "2. Category = ['Color', 'Change in Last Week', 'Change Since Last Week']\n",
    "3. Float64 = ['Average Daily Rate', 'Total Tests Last Two Weeks', 'Percent Positivity', 'Testing Rate']\n",
    "\n",
    "Will create a unit test first."
   ]
  },
  {
   "cell_type": "code",
   "execution_count": 58,
   "id": "25ed1842",
   "metadata": {},
   "outputs": [],
   "source": [
    "int64_list = ['mwra_concentration', 'mwra_7dayaverage', 'Total Case Counts', 'Two Week Case Counts',\n",
    "              'Total Tests', 'Total Positive Tests']\n",
    "\n",
    "category_list = ['Color', 'Change in Last Week', 'Change Since Last Week']\n",
    "\n",
    "float64_list = ['Average Daily Rate', 'Total Tests Last Two Weeks', 'Percent Positivity',\n",
    "                'Testing Rate']\n",
    "conversion_list = [int64_list, category_list, float64_list]"
   ]
  },
  {
   "cell_type": "code",
   "execution_count": 59,
   "id": "f3fb1f17",
   "metadata": {},
   "outputs": [
    {
     "name": "stdout",
     "output_type": "stream",
     "text": [
      "['mwra_concentration', 'mwra_7dayaverage', 'Total Case Counts', 'Two Week Case Counts', 'Total Tests', 'Total Positive Tests']\n",
      "Will convert these to int64:  mwra_concentration\n",
      "Will convert these to int64:  mwra_7dayaverage\n",
      "Will convert these to int64:  Total Case Counts\n",
      "Will convert these to int64:  Two Week Case Counts\n",
      "Will convert these to int64:  Total Tests\n",
      "Will convert these to int64:  Total Positive Tests\n",
      "['Color', 'Change in Last Week', 'Change Since Last Week']\n",
      "Will convert these to category:  Color\n",
      "Will convert these to category:  Change in Last Week\n",
      "Will convert these to category:  Change Since Last Week\n",
      "['Average Daily Rate', 'Total Tests Last Two Weeks', 'Percent Positivity', 'Testing Rate']\n",
      "Will convert these to float64:  Average Daily Rate\n",
      "Will convert these to float64:  Total Tests Last Two Weeks\n",
      "Will convert these to float64:  Percent Positivity\n",
      "Will convert these to float64:  Testing Rate\n"
     ]
    }
   ],
   "source": [
    "#Unit testing my conversion loop logic\n",
    "for list in conversion_list:\n",
    "    print(list)\n",
    "    for col in list:\n",
    "        if col in int64_list:\n",
    "            print('Will convert these to int64: ', col)\n",
    "        if col in category_list:\n",
    "            print('Will convert these to category: ',col)\n",
    "        if col in float64_list:\n",
    "            print('Will convert these to float64: ', col)"
   ]
  },
  {
   "cell_type": "code",
   "execution_count": 60,
   "id": "b4bb7b62",
   "metadata": {},
   "outputs": [],
   "source": [
    "for list in conversion_list:\n",
    "    for col in list:\n",
    "        if col in int64_list:\n",
    "            test[col] = test[col].astype('int64')\n",
    "            #print('These should be converted to int64: ', col)\n",
    "        if col in category_list:\n",
    "            test[col] = test[col].astype('category')\n",
    "            #print('These should be converted to categories: ', col)\n",
    "        if col in float64_list:\n",
    "            test[col] = test[col].astype('float64')\n",
    "            #print('These should be converted to float64: ', col)\n"
   ]
  },
  {
   "cell_type": "code",
   "execution_count": 61,
   "id": "44ff58d8",
   "metadata": {},
   "outputs": [
    {
     "name": "stdout",
     "output_type": "stream",
     "text": [
      "<class 'pandas.core.frame.DataFrame'>\n",
      "DatetimeIndex: 175 entries, 2020-12-21 to 2021-06-13\n",
      "Data columns (total 13 columns):\n",
      " #   Column                      Non-Null Count  Dtype   \n",
      "---  ------                      --------------  -----   \n",
      " 0   mwra_concentration          175 non-null    int64   \n",
      " 1   mwra_7dayaverage            175 non-null    int64   \n",
      " 2   Total Case Counts           175 non-null    int64   \n",
      " 3   Two Week Case Counts        175 non-null    int64   \n",
      " 4   Average Daily Rate          175 non-null    float64 \n",
      " 5   Color                       175 non-null    category\n",
      " 6   Change in Last Week         175 non-null    category\n",
      " 7   Total Tests                 175 non-null    int64   \n",
      " 8   Total Tests Last Two Weeks  175 non-null    float64 \n",
      " 9   Total Positive Tests        175 non-null    int64   \n",
      " 10  Percent Positivity          175 non-null    float64 \n",
      " 11  Change Since Last Week      175 non-null    category\n",
      " 12  Testing Rate                175 non-null    float64 \n",
      "dtypes: category(3), float64(4), int64(6)\n",
      "memory usage: 15.9 KB\n"
     ]
    }
   ],
   "source": [
    "test.info()"
   ]
  },
  {
   "cell_type": "markdown",
   "id": "38784ea1",
   "metadata": {},
   "source": [
    "### Conversion unit test passes, convert all features in df"
   ]
  },
  {
   "cell_type": "code",
   "execution_count": 62,
   "id": "4850cefa",
   "metadata": {},
   "outputs": [],
   "source": [
    "def conversion(df, conversion_list):\n",
    "    '''Method to convert my features into their appropriate datatypes'''\n",
    "    for list in conversion_list:\n",
    "        for col in list:\n",
    "            if col in int64_list:\n",
    "                df[col] = df[col].astype('int64')\n",
    "            if col in category_list:\n",
    "                df[col] = df[col].astype('category')\n",
    "            if col in float64_list:\n",
    "                df[col] = df[col].astype('float64')"
   ]
  },
  {
   "cell_type": "code",
   "execution_count": 63,
   "id": "5de0282c",
   "metadata": {},
   "outputs": [
    {
     "name": "stdout",
     "output_type": "stream",
     "text": [
      "<class 'pandas.core.frame.DataFrame'>\n",
      "DatetimeIndex: 175 entries, 2020-12-21 to 2021-06-13\n",
      "Data columns (total 13 columns):\n",
      " #   Column                      Non-Null Count  Dtype  \n",
      "---  ------                      --------------  -----  \n",
      " 0   mwra_concentration          175 non-null    object \n",
      " 1   mwra_7dayaverage            175 non-null    object \n",
      " 2   Total Case Counts           175 non-null    object \n",
      " 3   Two Week Case Counts        175 non-null    object \n",
      " 4   Average Daily Rate          175 non-null    object \n",
      " 5   Color                       175 non-null    object \n",
      " 6   Change in Last Week         175 non-null    object \n",
      " 7   Total Tests                 175 non-null    int64  \n",
      " 8   Total Tests Last Two Weeks  175 non-null    float64\n",
      " 9   Total Positive Tests        175 non-null    float64\n",
      " 10  Percent Positivity          175 non-null    object \n",
      " 11  Change Since Last Week      175 non-null    object \n",
      " 12  Testing Rate                175 non-null    object \n",
      "dtypes: float64(2), int64(1), object(10)\n",
      "memory usage: 19.1+ KB\n"
     ]
    }
   ],
   "source": [
    "#Pre-conversion\n",
    "df.info()"
   ]
  },
  {
   "cell_type": "code",
   "execution_count": 64,
   "id": "079d40f1",
   "metadata": {},
   "outputs": [],
   "source": [
    "conversion(df, conversion_list)"
   ]
  },
  {
   "cell_type": "code",
   "execution_count": 65,
   "id": "6e7b3d72",
   "metadata": {},
   "outputs": [
    {
     "name": "stdout",
     "output_type": "stream",
     "text": [
      "<class 'pandas.core.frame.DataFrame'>\n",
      "DatetimeIndex: 175 entries, 2020-12-21 to 2021-06-13\n",
      "Data columns (total 13 columns):\n",
      " #   Column                      Non-Null Count  Dtype   \n",
      "---  ------                      --------------  -----   \n",
      " 0   mwra_concentration          175 non-null    int64   \n",
      " 1   mwra_7dayaverage            175 non-null    int64   \n",
      " 2   Total Case Counts           175 non-null    int64   \n",
      " 3   Two Week Case Counts        175 non-null    int64   \n",
      " 4   Average Daily Rate          175 non-null    float64 \n",
      " 5   Color                       175 non-null    category\n",
      " 6   Change in Last Week         175 non-null    category\n",
      " 7   Total Tests                 175 non-null    int64   \n",
      " 8   Total Tests Last Two Weeks  175 non-null    float64 \n",
      " 9   Total Positive Tests        175 non-null    int64   \n",
      " 10  Percent Positivity          175 non-null    float64 \n",
      " 11  Change Since Last Week      175 non-null    category\n",
      " 12  Testing Rate                175 non-null    float64 \n",
      "dtypes: category(3), float64(4), int64(6)\n",
      "memory usage: 15.9 KB\n"
     ]
    }
   ],
   "source": [
    "#Post-conversion\n",
    "df.info()"
   ]
  },
  {
   "cell_type": "markdown",
   "id": "9dc06f07",
   "metadata": {},
   "source": [
    "### Dtypes have been converted to the intended type, let's do some Exploratory Data Analysis!"
   ]
  },
  {
   "cell_type": "code",
   "execution_count": 66,
   "id": "a93b0380",
   "metadata": {},
   "outputs": [
    {
     "data": {
      "text/plain": [
       "<AxesSubplot:>"
      ]
     },
     "execution_count": 66,
     "metadata": {},
     "output_type": "execute_result"
    },
    {
     "data": {
      "image/png": "[encoded data removed]",
      "text/plain": [
       "<Figure size 1152x648 with 2 Axes>"
      ]
     },
     "metadata": {
      "needs_background": "light"
     },
     "output_type": "display_data"
    }
   ],
   "source": [
    "plt.figure(figsize = (16,9))\n",
    "sns.heatmap(df.corr(), annot=True)"
   ]
  },
  {
   "cell_type": "markdown",
   "id": "7bd3a15c",
   "metadata": {},
   "source": [
    "The heatmap is a great visual tool, as it looks at all the non-categorical data, and with the right parameters even annotates their Pearson r value."
   ]
  },
  {
   "cell_type": "code",
   "execution_count": 67,
   "id": "9c38ddc3",
   "metadata": {},
   "outputs": [
    {
     "data": {
      "text/html": [
       "<div>\n",
       "<style scoped>\n",
       "    .dataframe tbody tr th:only-of-type {\n",
       "        vertical-align: middle;\n",
       "    }\n",
       "\n",
       "    .dataframe tbody tr th {\n",
       "        vertical-align: top;\n",
       "    }\n",
       "\n",
       "    .dataframe thead th {\n",
       "        text-align: right;\n",
       "    }\n",
       "</style>\n",
       "<table border=\"1\" class=\"dataframe\">\n",
       "  <thead>\n",
       "    <tr style=\"text-align: right;\">\n",
       "      <th></th>\n",
       "      <th>mwra_concentration</th>\n",
       "      <th>mwra_7dayaverage</th>\n",
       "      <th>Total Case Counts</th>\n",
       "      <th>Two Week Case Counts</th>\n",
       "      <th>Average Daily Rate</th>\n",
       "      <th>Total Tests</th>\n",
       "      <th>Total Tests Last Two Weeks</th>\n",
       "      <th>Total Positive Tests</th>\n",
       "      <th>Percent Positivity</th>\n",
       "      <th>Testing Rate</th>\n",
       "    </tr>\n",
       "  </thead>\n",
       "  <tbody>\n",
       "    <tr>\n",
       "      <th>mwra_concentration</th>\n",
       "      <td>1.000000</td>\n",
       "      <td>0.902515</td>\n",
       "      <td>-0.848512</td>\n",
       "      <td>0.717756</td>\n",
       "      <td>0.717756</td>\n",
       "      <td>-0.790691</td>\n",
       "      <td>-0.525887</td>\n",
       "      <td>0.708017</td>\n",
       "      <td>0.847631</td>\n",
       "      <td>-0.525887</td>\n",
       "    </tr>\n",
       "    <tr>\n",
       "      <th>mwra_7dayaverage</th>\n",
       "      <td>0.902515</td>\n",
       "      <td>1.000000</td>\n",
       "      <td>-0.912432</td>\n",
       "      <td>0.812524</td>\n",
       "      <td>0.812524</td>\n",
       "      <td>-0.857633</td>\n",
       "      <td>-0.537141</td>\n",
       "      <td>0.806769</td>\n",
       "      <td>0.912047</td>\n",
       "      <td>-0.537141</td>\n",
       "    </tr>\n",
       "    <tr>\n",
       "      <th>Total Case Counts</th>\n",
       "      <td>-0.848512</td>\n",
       "      <td>-0.912432</td>\n",
       "      <td>1.000000</td>\n",
       "      <td>-0.781040</td>\n",
       "      <td>-0.781040</td>\n",
       "      <td>0.969796</td>\n",
       "      <td>0.511766</td>\n",
       "      <td>-0.776544</td>\n",
       "      <td>-0.863802</td>\n",
       "      <td>0.511766</td>\n",
       "    </tr>\n",
       "    <tr>\n",
       "      <th>Two Week Case Counts</th>\n",
       "      <td>0.717756</td>\n",
       "      <td>0.812524</td>\n",
       "      <td>-0.781040</td>\n",
       "      <td>1.000000</td>\n",
       "      <td>1.000000</td>\n",
       "      <td>-0.843726</td>\n",
       "      <td>-0.198852</td>\n",
       "      <td>0.996875</td>\n",
       "      <td>0.904745</td>\n",
       "      <td>-0.198852</td>\n",
       "    </tr>\n",
       "    <tr>\n",
       "      <th>Average Daily Rate</th>\n",
       "      <td>0.717756</td>\n",
       "      <td>0.812524</td>\n",
       "      <td>-0.781040</td>\n",
       "      <td>1.000000</td>\n",
       "      <td>1.000000</td>\n",
       "      <td>-0.843726</td>\n",
       "      <td>-0.198852</td>\n",
       "      <td>0.996875</td>\n",
       "      <td>0.904745</td>\n",
       "      <td>-0.198852</td>\n",
       "    </tr>\n",
       "    <tr>\n",
       "      <th>Total Tests</th>\n",
       "      <td>-0.790691</td>\n",
       "      <td>-0.857633</td>\n",
       "      <td>0.969796</td>\n",
       "      <td>-0.843726</td>\n",
       "      <td>-0.843726</td>\n",
       "      <td>1.000000</td>\n",
       "      <td>0.354402</td>\n",
       "      <td>-0.841430</td>\n",
       "      <td>-0.854005</td>\n",
       "      <td>0.354402</td>\n",
       "    </tr>\n",
       "    <tr>\n",
       "      <th>Total Tests Last Two Weeks</th>\n",
       "      <td>-0.525887</td>\n",
       "      <td>-0.537141</td>\n",
       "      <td>0.511766</td>\n",
       "      <td>-0.198852</td>\n",
       "      <td>-0.198852</td>\n",
       "      <td>0.354402</td>\n",
       "      <td>1.000000</td>\n",
       "      <td>-0.207075</td>\n",
       "      <td>-0.547539</td>\n",
       "      <td>1.000000</td>\n",
       "    </tr>\n",
       "    <tr>\n",
       "      <th>Total Positive Tests</th>\n",
       "      <td>0.708017</td>\n",
       "      <td>0.806769</td>\n",
       "      <td>-0.776544</td>\n",
       "      <td>0.996875</td>\n",
       "      <td>0.996875</td>\n",
       "      <td>-0.841430</td>\n",
       "      <td>-0.207075</td>\n",
       "      <td>1.000000</td>\n",
       "      <td>0.905930</td>\n",
       "      <td>-0.207075</td>\n",
       "    </tr>\n",
       "    <tr>\n",
       "      <th>Percent Positivity</th>\n",
       "      <td>0.847631</td>\n",
       "      <td>0.912047</td>\n",
       "      <td>-0.863802</td>\n",
       "      <td>0.904745</td>\n",
       "      <td>0.904745</td>\n",
       "      <td>-0.854005</td>\n",
       "      <td>-0.547539</td>\n",
       "      <td>0.905930</td>\n",
       "      <td>1.000000</td>\n",
       "      <td>-0.547539</td>\n",
       "    </tr>\n",
       "    <tr>\n",
       "      <th>Testing Rate</th>\n",
       "      <td>-0.525887</td>\n",
       "      <td>-0.537141</td>\n",
       "      <td>0.511766</td>\n",
       "      <td>-0.198852</td>\n",
       "      <td>-0.198852</td>\n",
       "      <td>0.354402</td>\n",
       "      <td>1.000000</td>\n",
       "      <td>-0.207075</td>\n",
       "      <td>-0.547539</td>\n",
       "      <td>1.000000</td>\n",
       "    </tr>\n",
       "  </tbody>\n",
       "</table>\n",
       "</div>"
      ],
      "text/plain": [
       "                            mwra_concentration  mwra_7dayaverage  \\\n",
       "mwra_concentration                    1.000000          0.902515   \n",
       "mwra_7dayaverage                      0.902515          1.000000   \n",
       "Total Case Counts                    -0.848512         -0.912432   \n",
       "Two Week Case Counts                  0.717756          0.812524   \n",
       "Average Daily Rate                    0.717756          0.812524   \n",
       "Total Tests                          -0.790691         -0.857633   \n",
       "Total Tests Last Two Weeks           -0.525887         -0.537141   \n",
       "Total Positive Tests                  0.708017          0.806769   \n",
       "Percent Positivity                    0.847631          0.912047   \n",
       "Testing Rate                         -0.525887         -0.537141   \n",
       "\n",
       "                            Total Case Counts  Two Week Case Counts  \\\n",
       "mwra_concentration                  -0.848512              0.717756   \n",
       "mwra_7dayaverage                    -0.912432              0.812524   \n",
       "Total Case Counts                    1.000000             -0.781040   \n",
       "Two Week Case Counts                -0.781040              1.000000   \n",
       "Average Daily Rate                  -0.781040              1.000000   \n",
       "Total Tests                          0.969796             -0.843726   \n",
       "Total Tests Last Two Weeks           0.511766             -0.198852   \n",
       "Total Positive Tests                -0.776544              0.996875   \n",
       "Percent Positivity                  -0.863802              0.904745   \n",
       "Testing Rate                         0.511766             -0.198852   \n",
       "\n",
       "                            Average Daily Rate  Total Tests  \\\n",
       "mwra_concentration                    0.717756    -0.790691   \n",
       "mwra_7dayaverage                      0.812524    -0.857633   \n",
       "Total Case Counts                    -0.781040     0.969796   \n",
       "Two Week Case Counts                  1.000000    -0.843726   \n",
       "Average Daily Rate                    1.000000    -0.843726   \n",
       "Total Tests                          -0.843726     1.000000   \n",
       "Total Tests Last Two Weeks           -0.198852     0.354402   \n",
       "Total Positive Tests                  0.996875    -0.841430   \n",
       "Percent Positivity                    0.904745    -0.854005   \n",
       "Testing Rate                         -0.198852     0.354402   \n",
       "\n",
       "                            Total Tests Last Two Weeks  Total Positive Tests  \\\n",
       "mwra_concentration                           -0.525887              0.708017   \n",
       "mwra_7dayaverage                             -0.537141              0.806769   \n",
       "Total Case Counts                             0.511766             -0.776544   \n",
       "Two Week Case Counts                         -0.198852              0.996875   \n",
       "Average Daily Rate                           -0.198852              0.996875   \n",
       "Total Tests                                   0.354402             -0.841430   \n",
       "Total Tests Last Two Weeks                    1.000000             -0.207075   \n",
       "Total Positive Tests                         -0.207075              1.000000   \n",
       "Percent Positivity                           -0.547539              0.905930   \n",
       "Testing Rate                                  1.000000             -0.207075   \n",
       "\n",
       "                            Percent Positivity  Testing Rate  \n",
       "mwra_concentration                    0.847631     -0.525887  \n",
       "mwra_7dayaverage                      0.912047     -0.537141  \n",
       "Total Case Counts                    -0.863802      0.511766  \n",
       "Two Week Case Counts                  0.904745     -0.198852  \n",
       "Average Daily Rate                    0.904745     -0.198852  \n",
       "Total Tests                          -0.854005      0.354402  \n",
       "Total Tests Last Two Weeks           -0.547539      1.000000  \n",
       "Total Positive Tests                  0.905930     -0.207075  \n",
       "Percent Positivity                    1.000000     -0.547539  \n",
       "Testing Rate                         -0.547539      1.000000  "
      ]
     },
     "execution_count": 67,
     "metadata": {},
     "output_type": "execute_result"
    }
   ],
   "source": [
    "#If I didn't want that great visualization...\n",
    "df.corr()"
   ]
  },
  {
   "cell_type": "markdown",
   "id": "6b65eba7",
   "metadata": {},
   "source": [
    "There is a fairly strong positive correlation (0.84761) between mwra_concentration and Percent Positivity. Another strong correlation is between concentration and Average Daily Rate (0.717756).\n",
    "\n",
    "These may be worth checking out."
   ]
  },
  {
   "cell_type": "markdown",
   "id": "04b3ee4c",
   "metadata": {},
   "source": [
    "### Using graphs can be a powerful tool to gain insight into the relationship between features."
   ]
  },
  {
   "cell_type": "code",
   "execution_count": 68,
   "id": "68ffb896",
   "metadata": {},
   "outputs": [
    {
     "data": {
      "text/plain": [
       "Text(0.5, 1.0, 'Percent Positivity')"
      ]
     },
     "execution_count": 68,
     "metadata": {},
     "output_type": "execute_result"
    },
    {
     "data": {
      "image/png": "[encoded data removed]",
      "text/plain": [
       "<Figure size 1152x648 with 1 Axes>"
      ]
     },
     "metadata": {
      "needs_background": "light"
     },
     "output_type": "display_data"
    }
   ],
   "source": [
    "plt.figure(figsize=(16,9))\n",
    "sns.lineplot(y='Percent Positivity', x=df.index, data=df)\n",
    "plt.title('Percent Positivity')"
   ]
  },
  {
   "cell_type": "code",
   "execution_count": 69,
   "id": "b3f59b31",
   "metadata": {},
   "outputs": [
    {
     "data": {
      "text/plain": [
       "Text(0.5, 1.0, 'MWRA Concentration')"
      ]
     },
     "execution_count": 69,
     "metadata": {},
     "output_type": "execute_result"
    },
    {
     "data": {
      "image/png": "[encoded data removed]",
      "text/plain": [
       "<Figure size 1152x648 with 1 Axes>"
      ]
     },
     "metadata": {
      "needs_background": "light"
     },
     "output_type": "display_data"
    }
   ],
   "source": [
    "plt.figure(figsize=(16,9))\n",
    "sns.lineplot(y='mwra_concentration', x=df.index, data=df)\n",
    "plt.title('MWRA Concentration')"
   ]
  },
  {
   "cell_type": "code",
   "execution_count": 70,
   "id": "ebb38b74",
   "metadata": {},
   "outputs": [
    {
     "data": {
      "text/plain": [
       "Text(0.5, 1.0, 'Average Daily Rate')"
      ]
     },
     "execution_count": 70,
     "metadata": {},
     "output_type": "execute_result"
    },
    {
     "data": {
      "image/png": "[encoded data removed]",
      "text/plain": [
       "<Figure size 1152x648 with 1 Axes>"
      ]
     },
     "metadata": {
      "needs_background": "light"
     },
     "output_type": "display_data"
    }
   ],
   "source": [
    "plt.figure(figsize=(16,9))\n",
    "sns.lineplot(y='Average Daily Rate', x=df.index, data=df)\n",
    "plt.title('Average Daily Rate')"
   ]
  },
  {
   "cell_type": "code",
   "execution_count": 71,
   "id": "fd8f445a",
   "metadata": {},
   "outputs": [
    {
     "data": {
      "text/plain": [
       "Text(0.5, 1.0, 'Average Daily Rate and MWRA Concentration Scatter Plot')"
      ]
     },
     "execution_count": 71,
     "metadata": {},
     "output_type": "execute_result"
    },
    {
     "data": {
      "image/png": "[encoded data removed]",
      "text/plain": [
       "<Figure size 1152x648 with 1 Axes>"
      ]
     },
     "metadata": {
      "needs_background": "light"
     },
     "output_type": "display_data"
    }
   ],
   "source": [
    "plt.figure(figsize=(16,9))\n",
    "sns.scatterplot(data = df, x=df['Average Daily Rate'], y=df.mwra_concentration)\n",
    "plt.title('Average Daily Rate and MWRA Concentration Scatter Plot')"
   ]
  },
  {
   "cell_type": "code",
   "execution_count": 72,
   "id": "ade0a24d",
   "metadata": {},
   "outputs": [
    {
     "data": {
      "text/plain": [
       "Text(0.5, 1.0, 'Percent Positivity and MWRA Concentration Scatter Plot')"
      ]
     },
     "execution_count": 72,
     "metadata": {},
     "output_type": "execute_result"
    },
    {
     "data": {
      "image/png": "[encoded data removed]",
      "text/plain": [
       "<Figure size 1152x648 with 1 Axes>"
      ]
     },
     "metadata": {
      "needs_background": "light"
     },
     "output_type": "display_data"
    }
   ],
   "source": [
    "plt.figure(figsize=(16,9))\n",
    "sns.scatterplot(data = df, x=df['Percent Positivity'], y=df.mwra_concentration)\n",
    "plt.title('Percent Positivity and MWRA Concentration Scatter Plot')"
   ]
  },
  {
   "cell_type": "markdown",
   "id": "44968b35",
   "metadata": {},
   "source": [
    "## Notes to Luka for Review\n",
    "\n",
    "The three line plots seems to have some kind of time-series trend that are in tandem with each other.\n",
    "\n",
    "The scatter plots, while showing large variability, I could still fit some kind of line. This could be usefull for regression, maybe?"
   ]
  },
  {
   "cell_type": "code",
   "execution_count": null,
   "id": "650c39fd",
   "metadata": {},
   "outputs": [],
   "source": [
    "#Saving current df for next Capstone 2 Unit\n",
    "#df.to_pickle('Unit16FeatureEngineering.pkl') #Commenting out for Github commit"
   ]
  },
  {
   "cell_type": "markdown",
   "id": "3fcbde43",
   "metadata": {},
   "source": [
    "# Pre-processing (Unit 16.3)"
   ]
  },
  {
   "cell_type": "code",
   "execution_count": null,
   "id": "b6750c79",
   "metadata": {},
   "outputs": [],
   "source": []
  }
 ],
 "metadata": {
  "kernelspec": {
   "display_name": "Python 3",
   "language": "python",
   "name": "python3"
  },
  "language_info": {
   "codemirror_mode": {
    "name": "ipython",
    "version": 3
   },
   "file_extension": ".py",
   "mimetype": "text/x-python",
   "name": "python",
   "nbconvert_exporter": "python",
   "pygments_lexer": "ipython3",
   "version": "3.8.8"
  }
 },
 "nbformat": 4,
 "nbformat_minor": 5
}
