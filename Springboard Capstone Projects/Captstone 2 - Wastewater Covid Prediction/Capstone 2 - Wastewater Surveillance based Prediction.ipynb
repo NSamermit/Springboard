{
 "cells": [
  {
   "cell_type": "markdown",
   "id": "712e769c",
   "metadata": {},
   "source": [
    "# Springboard Capstone 2: \n",
    "## Covid-19 Wastewater Surveillance Prediction\n",
    "### Author: Nantawat Samermit"
   ]
  },
  {
   "cell_type": "markdown",
   "id": "2d01ad24",
   "metadata": {},
   "source": [
    "## Executive Summary\n",
    "\n",
    "### Problem:\n",
    "The Sars-CoV-19 or 'Covid-19' virus is an ongoing pandemic. Businesses and communities are being affected with each wave. Wastewater surveillance is a non-invasive way to measure mRNA concentrations of the virus.\n",
    "\n",
    "### Exploratory Research Question:\n",
    "Can we use the viral concentration surveilled from wastewater to predict a surge?\n",
    "\n",
    "\n",
    "### Methods\n",
    "    Rationale for Method\n",
    "\n",
    "### Results\n",
    "\n",
    "### Implications"
   ]
  },
  {
   "cell_type": "markdown",
   "id": "8c6fd075",
   "metadata": {},
   "source": [
    "# Data Scraping (Unit 7.2)\n",
    "I'll be scraping three datasets. \n",
    "\n",
    "The first is from the Cambridge MA wastewater data archive. It is listed as JSON, which I will convert to a pandas DataFrame. \n",
    "\n",
    "The URL is here: 'https://data.cambridgema.gov/resource/ayt4-g2ye.json'\n",
    "\n",
    "\n",
    "The second dataset is from Massachusetts Department of Health. \n",
    "\n",
    "The URL is here: 'https://www.mass.gov/doc/covid-19-raw-data-june-15-2021/download'\n",
    "\n",
    "The third dataset is from Biobot's Github: https://github.com/biobotanalytics/covid19-wastewater-data/blob/master/wastewater_by_county.csv\n",
    "\n",
    "I downloaded the third dataset from Github and added it to the Biobot Data folder."
   ]
  },
  {
   "cell_type": "code",
   "execution_count": 1,
   "id": "04db6ff6",
   "metadata": {},
   "outputs": [],
   "source": [
    "#import relevant modules for data wrangling - keep on adding as needed\n",
    "import pandas as pd\n",
    "import json, requests\n",
    "import fuzzywuzzy \n",
    "import matplotlib.pyplot as plt\n",
    "import numpy as np\n",
    "import seaborn as sns\n",
    "from sklearn import preprocessing"
   ]
  },
  {
   "cell_type": "markdown",
   "id": "9a194eba",
   "metadata": {},
   "source": [
    "## Notes regarding Massachusetts Data\n",
    "After some attempts, it seems the Massachusetts dataset is a multi-page csv, and it isn't easily accessible.\n",
    "\n",
    "I will have to use BeautifulSoup to isolate the link to the excel file."
   ]
  },
  {
   "cell_type": "code",
   "execution_count": 2,
   "id": "970335e4",
   "metadata": {},
   "outputs": [],
   "source": [
    "from bs4 import BeautifulSoup\n",
    "from urllib.request import urlopen, Request"
   ]
  },
  {
   "cell_type": "code",
   "execution_count": 3,
   "id": "165b8393",
   "metadata": {},
   "outputs": [
    {
     "data": {
      "text/plain": [
       "'/doc/covid-19-raw-data-july-29-2021/download'"
      ]
     },
     "execution_count": 3,
     "metadata": {},
     "output_type": "execute_result"
    }
   ],
   "source": [
    "# Use BS to identify/isolate the html \"class\" pointing to the href of the .xls \n",
    "#class and \"ma__download-link__file-link\" was identified by inspecting the page's elements in chrome\n",
    "source = requests.get(\"https://www.mass.gov/doc/covid-19-raw-data-july-29-2021\")\n",
    "BeautifulSoup(source.content).find(\"a\", {\"class\":\"ma__download-link__file-link\"}).get(\"href\")"
   ]
  },
  {
   "cell_type": "markdown",
   "id": "2375334a",
   "metadata": {},
   "source": [
    "BeautifulSoup has isloated the href link for the .xls spreadsheet. \n",
    "\n",
    "It is here: https://www.mass.gov/doc/covid-19-raw-data-july-29-2021/download"
   ]
  },
  {
   "cell_type": "markdown",
   "id": "27acd9e0",
   "metadata": {},
   "source": [
    "## Scrape, Download, and Save datasets\n",
    "I will write a function to scrape, convert, and save both datasets to my directory as pickle files. "
   ]
  },
  {
   "cell_type": "code",
   "execution_count": 4,
   "id": "acdc8703",
   "metadata": {},
   "outputs": [],
   "source": [
    "#Luka states it is easier (and acceptable) to just download the files to local path. \n",
    "\n",
    "#For the mass.gov dataset, it has mulitiple sheets, so it isolates the intended sheet. (not dynamic, ikr)\n",
    "\n",
    "def get_sources(source_list):\n",
    "    '''\n",
    "    this function takes a list of urls, ID's their format, requests dataset from source,\n",
    "    converts data into a dataframe, then saves it as a pickled file.\n",
    "    '''\n",
    "    for counter, source in enumerate(source_list):\n",
    "        name = str(counter) + '_df.pkl'\n",
    "\n",
    "        if source.endswith('.json'):\n",
    "            response = requests.get(source)\n",
    "            data = response.json()\n",
    "            json_df = pd.DataFrame(data)            \n",
    "            json_df.to_pickle(name)\n",
    "            \n",
    "        \n",
    "        elif source.endswith('.csv'):\n",
    "            csv = pd.read_csv(source, engine='python')\n",
    "            csv.to_pickle(name)\n",
    "            \n",
    "        else:\n",
    "            response = requests.get(source, allow_redirects=True)\n",
    "            with open('excel_data.xlsx', 'wb') as file:\n",
    "                file.write(response.content)\n",
    "            \n",
    "            #using pd.read_excel on a multi-spreadsheet xls yields a dictionary\n",
    "            excel_dict = pd.read_excel('excel_data.xlsx', sheet_name=None)\n",
    "            name = str(counter) + '_df.pkl'\n",
    "            #can ID sheetnames by evaluating keys\n",
    "            #print(excel_dict.keys())\n",
    "            if len(excel_dict.keys()) > 1:\n",
    "                print('There are more than one sheet in this .csv file.','\\n',\n",
    "                      source, '\\n', excel_dict.keys())\n",
    "                myInput = input('Which of these sheets do  you want to use?')\n",
    "                #print(myInput)\n",
    "                excel_specified_sheet = excel_dict[myInput]\n",
    "                excel_specified_sheet.to_pickle(name)\n",
    "            else:\n",
    "                excel_dict.to_pickle(name)\n",
    "            \n",
    "        print(name,' created using this source', source)"
   ]
  },
  {
   "cell_type": "code",
   "execution_count": 6,
   "id": "ed3faa63",
   "metadata": {},
   "outputs": [
    {
     "name": "stdout",
     "output_type": "stream",
     "text": [
      "0_df.pkl  created using this source https://data.cambridgema.gov/resource/ayt4-g2ye.json\n",
      "There are more than one sheet in this .csv file. \n",
      " https://www.mass.gov/doc/covid-19-raw-data-july-29-2021/download \n",
      " dict_keys(['Data Documentation', 'Weekly_Town_Reference', 'Age Means Last2Weeks', 'AgeLast2Weeks', 'Cases (Report Date)', 'CasesbyAge', 'CasesByDate (Test Date)', 'CasesByDate_Probable', 'County_Daily', 'County_Weekly', 'CountyDeaths', 'DateofDeath', 'DeathsReported (Report Date)', 'DeathCharacteristics', 'HigherEd_CasesandTests', 'HospBedAvailable-Regional', 'HospBed-Hospital COVID Census', 'Hospitalization from Hospitals', 'LTC Facilities', 'RaceEthnicityLast2Weeks', 'SexLast2Weeks', 'Testing2 (Report Date)', 'TestingByDate (Test Date)', 'TestingPosByAge', 'Weekly_City_Town', 'Weekly_Statewide', 'Clusters', 'Isolation and Quarantine', 'Contact Tracing', 'CTC workforce', 'Counts by Specimen Date (Sero)'])\n",
      "Which of these sheets do  you want to use?Weekly_City_Town\n",
      "1_df.pkl  created using this source https://www.mass.gov/doc/covid-19-raw-data-july-29-2021/download\n",
      "2_df.pkl  created using this source Biobot Data/wastewater_by_county.csv\n"
     ]
    }
   ],
   "source": [
    "sources = ['https://data.cambridgema.gov/resource/ayt4-g2ye.json', \n",
    "           'https://www.mass.gov/doc/covid-19-raw-data-july-29-2021/download',\n",
    "           'Biobot Data/wastewater_by_county.csv' \n",
    "          ]\n",
    "\n",
    "#old_source = 'https://www.mass.gov/doc/covid-19-raw-data-june-15-2021/download'\n",
    "\n",
    "get_sources(sources)"
   ]
  },
  {
   "cell_type": "markdown",
   "id": "8d53222a",
   "metadata": {},
   "source": [
    "## Use pickle to confirm the saved files can be loaded in Jupyter"
   ]
  },
  {
   "cell_type": "code",
   "execution_count": 7,
   "id": "c5b2fced",
   "metadata": {},
   "outputs": [],
   "source": [
    "import pickle"
   ]
  },
  {
   "cell_type": "code",
   "execution_count": 8,
   "id": "835f2106",
   "metadata": {},
   "outputs": [],
   "source": [
    "#should use context manager to load pickles \n",
    "# Don't forget to state 'rb' param or will get an Unicode Error.\n",
    "\n",
    "    \n",
    "with open('0_df.pkl', 'rb') as f:\n",
    "    Cambridge_df = pickle.load(f)\n",
    "    \n",
    "with open('1_df.pkl', 'rb') as f:\n",
    "    Mass_df = pickle.load(f)\n",
    "\n",
    "with open('2_df.pkl', 'rb') as f:\n",
    "    Biobot_df = pickle.load(f)"
   ]
  },
  {
   "cell_type": "code",
   "execution_count": 9,
   "id": "580e35a0",
   "metadata": {},
   "outputs": [
    {
     "name": "stdout",
     "output_type": "stream",
     "text": [
      "<class 'pandas.core.frame.DataFrame'>\n",
      "RangeIndex: 309 entries, 0 to 308\n",
      "Data columns (total 15 columns):\n",
      " #   Column                        Non-Null Count  Dtype \n",
      "---  ------                        --------------  ----- \n",
      " 0   date                          309 non-null    object\n",
      " 1   mwra_concentration            309 non-null    object\n",
      " 2   mwra_7dayaverage              309 non-null    object\n",
      " 3   concentration_mid_cambridge   309 non-null    object\n",
      " 4   concentration_east_cambridge  309 non-null    object\n",
      " 5   concentration_cambridgeport   309 non-null    object\n",
      " 6   concentration_north_west      309 non-null    object\n",
      " 7   highci_mid_cambridge          309 non-null    object\n",
      " 8   highci_east_cambridge         309 non-null    object\n",
      " 9   highci_cambridgeport          309 non-null    object\n",
      " 10  highci_north_west_cambridge   309 non-null    object\n",
      " 11  lowci_mid_cambridge           309 non-null    object\n",
      " 12  lowci_east_cambridge          309 non-null    object\n",
      " 13  lowci_cambridgeport           309 non-null    object\n",
      " 14  lowci_north_west_cambridge    309 non-null    object\n",
      "dtypes: object(15)\n",
      "memory usage: 36.3+ KB\n"
     ]
    }
   ],
   "source": [
    "#testing both dataframes\n",
    "Cambridge_df.info()"
   ]
  },
  {
   "cell_type": "code",
   "execution_count": 10,
   "id": "5ad8a2f7",
   "metadata": {},
   "outputs": [
    {
     "name": "stdout",
     "output_type": "stream",
     "text": [
      "<class 'pandas.core.frame.DataFrame'>\n",
      "RangeIndex: 11296 entries, 0 to 11295\n",
      "Data columns (total 17 columns):\n",
      " #   Column                      Non-Null Count  Dtype         \n",
      "---  ------                      --------------  -----         \n",
      " 0   City/Town                   11296 non-null  object        \n",
      " 1   County                      11296 non-null  object        \n",
      " 2   Population                  11296 non-null  object        \n",
      " 3   Total Case Counts           11296 non-null  object        \n",
      " 4   Two Week Case Counts        11296 non-null  object        \n",
      " 5   Average Daily Rate          11296 non-null  object        \n",
      " 6   Color                       9495 non-null   object        \n",
      " 7   Change in Last Week         11296 non-null  object        \n",
      " 8   Total Tests                 11296 non-null  int64         \n",
      " 9   Total Tests Last Two Weeks  11295 non-null  float64       \n",
      " 10  Total Positive Tests        11295 non-null  float64       \n",
      " 11  Percent Positivity          11295 non-null  object        \n",
      " 12  Change Since Last Week      11296 non-null  object        \n",
      " 13  Testing Rate                11292 non-null  object        \n",
      " 14  Report Date                 11296 non-null  datetime64[ns]\n",
      " 15  Start_Date                  11296 non-null  datetime64[ns]\n",
      " 16  End_Date                    11296 non-null  datetime64[ns]\n",
      "dtypes: datetime64[ns](3), float64(2), int64(1), object(11)\n",
      "memory usage: 1.5+ MB\n"
     ]
    }
   ],
   "source": [
    "Mass_df.info()"
   ]
  },
  {
   "cell_type": "code",
   "execution_count": 11,
   "id": "af4921be",
   "metadata": {},
   "outputs": [
    {
     "name": "stdout",
     "output_type": "stream",
     "text": [
      "<class 'pandas.core.frame.DataFrame'>\n",
      "RangeIndex: 1267 entries, 0 to 1266\n",
      "Data columns (total 7 columns):\n",
      " #   Column                                    Non-Null Count  Dtype  \n",
      "---  ------                                    --------------  -----  \n",
      " 0   sampling_week                             1267 non-null   object \n",
      " 1   normalized_concentration_rolling_average  1267 non-null   float64\n",
      " 2   population                                1267 non-null   object \n",
      " 3   region                                    1267 non-null   object \n",
      " 4   state                                     1267 non-null   object \n",
      " 5   county_fips_code                          1267 non-null   int64  \n",
      " 6   county_name                               1267 non-null   object \n",
      "dtypes: float64(1), int64(1), object(5)\n",
      "memory usage: 69.4+ KB\n"
     ]
    }
   ],
   "source": [
    "Biobot_df.info()"
   ]
  },
  {
   "cell_type": "markdown",
   "id": "5c4fb5c1",
   "metadata": {},
   "source": [
    "# Data Wrangling (Unit 7.2)\n",
    "Explore the dataset. Understand the datatypes for the various columns, and confirm that there are no missing values."
   ]
  },
  {
   "cell_type": "markdown",
   "id": "b4ff584b",
   "metadata": {},
   "source": [
    "## Cambridge Data"
   ]
  },
  {
   "cell_type": "code",
   "execution_count": 12,
   "id": "1e058153",
   "metadata": {},
   "outputs": [
    {
     "name": "stdout",
     "output_type": "stream",
     "text": [
      "<class 'pandas.core.frame.DataFrame'>\n",
      "RangeIndex: 309 entries, 0 to 308\n",
      "Data columns (total 15 columns):\n",
      " #   Column                        Non-Null Count  Dtype \n",
      "---  ------                        --------------  ----- \n",
      " 0   date                          309 non-null    object\n",
      " 1   mwra_concentration            309 non-null    object\n",
      " 2   mwra_7dayaverage              309 non-null    object\n",
      " 3   concentration_mid_cambridge   309 non-null    object\n",
      " 4   concentration_east_cambridge  309 non-null    object\n",
      " 5   concentration_cambridgeport   309 non-null    object\n",
      " 6   concentration_north_west      309 non-null    object\n",
      " 7   highci_mid_cambridge          309 non-null    object\n",
      " 8   highci_east_cambridge         309 non-null    object\n",
      " 9   highci_cambridgeport          309 non-null    object\n",
      " 10  highci_north_west_cambridge   309 non-null    object\n",
      " 11  lowci_mid_cambridge           309 non-null    object\n",
      " 12  lowci_east_cambridge          309 non-null    object\n",
      " 13  lowci_cambridgeport           309 non-null    object\n",
      " 14  lowci_north_west_cambridge    309 non-null    object\n",
      "dtypes: object(15)\n",
      "memory usage: 36.3+ KB\n"
     ]
    }
   ],
   "source": [
    "Cambridge_df.info()"
   ]
  },
  {
   "cell_type": "code",
   "execution_count": 13,
   "id": "dc012d40",
   "metadata": {},
   "outputs": [
    {
     "data": {
      "text/html": [
       "<div>\n",
       "<style scoped>\n",
       "    .dataframe tbody tr th:only-of-type {\n",
       "        vertical-align: middle;\n",
       "    }\n",
       "\n",
       "    .dataframe tbody tr th {\n",
       "        vertical-align: top;\n",
       "    }\n",
       "\n",
       "    .dataframe thead th {\n",
       "        text-align: right;\n",
       "    }\n",
       "</style>\n",
       "<table border=\"1\" class=\"dataframe\">\n",
       "  <thead>\n",
       "    <tr style=\"text-align: right;\">\n",
       "      <th></th>\n",
       "      <th>date</th>\n",
       "      <th>mwra_concentration</th>\n",
       "      <th>mwra_7dayaverage</th>\n",
       "      <th>concentration_mid_cambridge</th>\n",
       "      <th>concentration_east_cambridge</th>\n",
       "      <th>concentration_cambridgeport</th>\n",
       "      <th>concentration_north_west</th>\n",
       "      <th>highci_mid_cambridge</th>\n",
       "      <th>highci_east_cambridge</th>\n",
       "      <th>highci_cambridgeport</th>\n",
       "      <th>highci_north_west_cambridge</th>\n",
       "      <th>lowci_mid_cambridge</th>\n",
       "      <th>lowci_east_cambridge</th>\n",
       "      <th>lowci_cambridgeport</th>\n",
       "      <th>lowci_north_west_cambridge</th>\n",
       "    </tr>\n",
       "  </thead>\n",
       "  <tbody>\n",
       "    <tr>\n",
       "      <th>count</th>\n",
       "      <td>309</td>\n",
       "      <td>309</td>\n",
       "      <td>309</td>\n",
       "      <td>309</td>\n",
       "      <td>309</td>\n",
       "      <td>309</td>\n",
       "      <td>309</td>\n",
       "      <td>309</td>\n",
       "      <td>309</td>\n",
       "      <td>309</td>\n",
       "      <td>309</td>\n",
       "      <td>309</td>\n",
       "      <td>309</td>\n",
       "      <td>309</td>\n",
       "      <td>309</td>\n",
       "    </tr>\n",
       "    <tr>\n",
       "      <th>unique</th>\n",
       "      <td>309</td>\n",
       "      <td>243</td>\n",
       "      <td>228</td>\n",
       "      <td>30</td>\n",
       "      <td>36</td>\n",
       "      <td>27</td>\n",
       "      <td>34</td>\n",
       "      <td>30</td>\n",
       "      <td>36</td>\n",
       "      <td>27</td>\n",
       "      <td>34</td>\n",
       "      <td>30</td>\n",
       "      <td>36</td>\n",
       "      <td>27</td>\n",
       "      <td>34</td>\n",
       "    </tr>\n",
       "    <tr>\n",
       "      <th>top</th>\n",
       "      <td>2021-02-17T00:00:00.000</td>\n",
       "      <td></td>\n",
       "      <td>20</td>\n",
       "      <td></td>\n",
       "      <td></td>\n",
       "      <td></td>\n",
       "      <td></td>\n",
       "      <td></td>\n",
       "      <td></td>\n",
       "      <td></td>\n",
       "      <td></td>\n",
       "      <td></td>\n",
       "      <td></td>\n",
       "      <td></td>\n",
       "      <td></td>\n",
       "    </tr>\n",
       "    <tr>\n",
       "      <th>freq</th>\n",
       "      <td>1</td>\n",
       "      <td>11</td>\n",
       "      <td>6</td>\n",
       "      <td>273</td>\n",
       "      <td>271</td>\n",
       "      <td>275</td>\n",
       "      <td>271</td>\n",
       "      <td>273</td>\n",
       "      <td>271</td>\n",
       "      <td>275</td>\n",
       "      <td>271</td>\n",
       "      <td>273</td>\n",
       "      <td>271</td>\n",
       "      <td>275</td>\n",
       "      <td>271</td>\n",
       "    </tr>\n",
       "  </tbody>\n",
       "</table>\n",
       "</div>"
      ],
      "text/plain": [
       "                           date mwra_concentration mwra_7dayaverage  \\\n",
       "count                       309                309              309   \n",
       "unique                      309                243              228   \n",
       "top     2021-02-17T00:00:00.000                                  20   \n",
       "freq                          1                 11                6   \n",
       "\n",
       "       concentration_mid_cambridge concentration_east_cambridge  \\\n",
       "count                          309                          309   \n",
       "unique                          30                           36   \n",
       "top                                                               \n",
       "freq                           273                          271   \n",
       "\n",
       "       concentration_cambridgeport concentration_north_west  \\\n",
       "count                          309                      309   \n",
       "unique                          27                       34   \n",
       "top                                                           \n",
       "freq                           275                      271   \n",
       "\n",
       "       highci_mid_cambridge highci_east_cambridge highci_cambridgeport  \\\n",
       "count                   309                   309                  309   \n",
       "unique                   30                    36                   27   \n",
       "top                                                                      \n",
       "freq                    273                   271                  275   \n",
       "\n",
       "       highci_north_west_cambridge lowci_mid_cambridge lowci_east_cambridge  \\\n",
       "count                          309                 309                  309   \n",
       "unique                          34                  30                   36   \n",
       "top                                                                           \n",
       "freq                           271                 273                  271   \n",
       "\n",
       "       lowci_cambridgeport lowci_north_west_cambridge  \n",
       "count                  309                        309  \n",
       "unique                  27                         34  \n",
       "top                                                    \n",
       "freq                   275                        271  "
      ]
     },
     "execution_count": 13,
     "metadata": {},
     "output_type": "execute_result"
    }
   ],
   "source": [
    "Cambridge_df.describe()"
   ]
  },
  {
   "cell_type": "markdown",
   "id": "5d78d47a",
   "metadata": {},
   "source": [
    "# Note to myself:\n",
    "For my own review!\n",
    "\n",
    "Column Definitions:\n",
    "Date - sample date for 24 hour composite sample\n",
    "\n",
    "\n",
    "MWRA_Concentration - Normalized SARS-CoV2 RNA Copies per ML collected during sampling period.\n",
    "\n",
    "\n",
    "MWRA_7DayAverage - 7 day rolling average for Normalized SARS-CoV2 RNA Copies per ML collected during sampling period.\n",
    "\n",
    "\n",
    "Concentration_* - Normalized SARS-CoV2 RNA Copies per ML collected during sampling period.\n",
    "\n",
    "\n",
    "highci_* - Upper Limit on Confidence Interval for Normalized SARS-CoV2 RNA Copies per ML collected during sampling period.\n",
    "\n",
    "\n",
    "lowci_* - Lower Limit on Confidence Interval for Normalized SARS-CoV2 RNA Copies per ML collected during sampling period.\n",
    "* means there are multiple columns with this prefix which share the same definition - Nantawat\n",
    "\n",
    "A refresher on confidence interval limits - https://bit.ly/3vtuI7h\n"
   ]
  },
  {
   "cell_type": "markdown",
   "id": "7d047b34",
   "metadata": {},
   "source": [
    "## Features observations:\n",
    "1. All the features pf Cambridge_df are object dtypes.\n",
    "2. describe() states they (15 features) are all non-null values. Let's confirm that."
   ]
  },
  {
   "cell_type": "code",
   "execution_count": 14,
   "id": "bc7c62e5",
   "metadata": {},
   "outputs": [
    {
     "data": {
      "text/plain": [
       "date                            0\n",
       "mwra_concentration              0\n",
       "mwra_7dayaverage                0\n",
       "concentration_mid_cambridge     0\n",
       "concentration_east_cambridge    0\n",
       "concentration_cambridgeport     0\n",
       "concentration_north_west        0\n",
       "highci_mid_cambridge            0\n",
       "highci_east_cambridge           0\n",
       "highci_cambridgeport            0\n",
       "highci_north_west_cambridge     0\n",
       "lowci_mid_cambridge             0\n",
       "lowci_east_cambridge            0\n",
       "lowci_cambridgeport             0\n",
       "lowci_north_west_cambridge      0\n",
       "dtype: int64"
      ]
     },
     "execution_count": 14,
     "metadata": {},
     "output_type": "execute_result"
    }
   ],
   "source": [
    "#This confirms that none of the features contain null values. \n",
    "Cambridge_df.isnull().sum()"
   ]
  },
  {
   "cell_type": "code",
   "execution_count": 15,
   "id": "c0c8056e",
   "metadata": {},
   "outputs": [
    {
     "data": {
      "text/html": [
       "<div>\n",
       "<style scoped>\n",
       "    .dataframe tbody tr th:only-of-type {\n",
       "        vertical-align: middle;\n",
       "    }\n",
       "\n",
       "    .dataframe tbody tr th {\n",
       "        vertical-align: top;\n",
       "    }\n",
       "\n",
       "    .dataframe thead th {\n",
       "        text-align: right;\n",
       "    }\n",
       "</style>\n",
       "<table border=\"1\" class=\"dataframe\">\n",
       "  <thead>\n",
       "    <tr style=\"text-align: right;\">\n",
       "      <th></th>\n",
       "      <th>date</th>\n",
       "      <th>mwra_concentration</th>\n",
       "      <th>mwra_7dayaverage</th>\n",
       "      <th>concentration_mid_cambridge</th>\n",
       "      <th>concentration_east_cambridge</th>\n",
       "      <th>concentration_cambridgeport</th>\n",
       "      <th>concentration_north_west</th>\n",
       "      <th>highci_mid_cambridge</th>\n",
       "      <th>highci_east_cambridge</th>\n",
       "      <th>highci_cambridgeport</th>\n",
       "      <th>highci_north_west_cambridge</th>\n",
       "      <th>lowci_mid_cambridge</th>\n",
       "      <th>lowci_east_cambridge</th>\n",
       "      <th>lowci_cambridgeport</th>\n",
       "      <th>lowci_north_west_cambridge</th>\n",
       "    </tr>\n",
       "  </thead>\n",
       "  <tbody>\n",
       "    <tr>\n",
       "      <th>0</th>\n",
       "      <td>2020-10-01T00:00:00.000</td>\n",
       "      <td></td>\n",
       "      <td>31</td>\n",
       "      <td></td>\n",
       "      <td></td>\n",
       "      <td></td>\n",
       "      <td></td>\n",
       "      <td></td>\n",
       "      <td></td>\n",
       "      <td></td>\n",
       "      <td></td>\n",
       "      <td></td>\n",
       "      <td></td>\n",
       "      <td></td>\n",
       "      <td></td>\n",
       "    </tr>\n",
       "    <tr>\n",
       "      <th>1</th>\n",
       "      <td>2020-10-02T00:00:00.000</td>\n",
       "      <td>34</td>\n",
       "      <td>31</td>\n",
       "      <td></td>\n",
       "      <td></td>\n",
       "      <td></td>\n",
       "      <td></td>\n",
       "      <td></td>\n",
       "      <td></td>\n",
       "      <td></td>\n",
       "      <td></td>\n",
       "      <td></td>\n",
       "      <td></td>\n",
       "      <td></td>\n",
       "      <td></td>\n",
       "    </tr>\n",
       "    <tr>\n",
       "      <th>2</th>\n",
       "      <td>2020-10-03T00:00:00.000</td>\n",
       "      <td></td>\n",
       "      <td>31</td>\n",
       "      <td></td>\n",
       "      <td></td>\n",
       "      <td></td>\n",
       "      <td></td>\n",
       "      <td></td>\n",
       "      <td></td>\n",
       "      <td></td>\n",
       "      <td></td>\n",
       "      <td></td>\n",
       "      <td></td>\n",
       "      <td></td>\n",
       "      <td></td>\n",
       "    </tr>\n",
       "    <tr>\n",
       "      <th>3</th>\n",
       "      <td>2020-10-04T00:00:00.000</td>\n",
       "      <td></td>\n",
       "      <td>31</td>\n",
       "      <td></td>\n",
       "      <td></td>\n",
       "      <td></td>\n",
       "      <td></td>\n",
       "      <td></td>\n",
       "      <td></td>\n",
       "      <td></td>\n",
       "      <td></td>\n",
       "      <td></td>\n",
       "      <td></td>\n",
       "      <td></td>\n",
       "      <td></td>\n",
       "    </tr>\n",
       "    <tr>\n",
       "      <th>4</th>\n",
       "      <td>2020-10-05T00:00:00.000</td>\n",
       "      <td>38</td>\n",
       "      <td>30</td>\n",
       "      <td></td>\n",
       "      <td></td>\n",
       "      <td></td>\n",
       "      <td></td>\n",
       "      <td></td>\n",
       "      <td></td>\n",
       "      <td></td>\n",
       "      <td></td>\n",
       "      <td></td>\n",
       "      <td></td>\n",
       "      <td></td>\n",
       "      <td></td>\n",
       "    </tr>\n",
       "  </tbody>\n",
       "</table>\n",
       "</div>"
      ],
      "text/plain": [
       "                      date mwra_concentration mwra_7dayaverage  \\\n",
       "0  2020-10-01T00:00:00.000                                  31   \n",
       "1  2020-10-02T00:00:00.000                 34               31   \n",
       "2  2020-10-03T00:00:00.000                                  31   \n",
       "3  2020-10-04T00:00:00.000                                  31   \n",
       "4  2020-10-05T00:00:00.000                 38               30   \n",
       "\n",
       "  concentration_mid_cambridge concentration_east_cambridge  \\\n",
       "0                                                            \n",
       "1                                                            \n",
       "2                                                            \n",
       "3                                                            \n",
       "4                                                            \n",
       "\n",
       "  concentration_cambridgeport concentration_north_west highci_mid_cambridge  \\\n",
       "0                                                                             \n",
       "1                                                                             \n",
       "2                                                                             \n",
       "3                                                                             \n",
       "4                                                                             \n",
       "\n",
       "  highci_east_cambridge highci_cambridgeport highci_north_west_cambridge  \\\n",
       "0                                                                          \n",
       "1                                                                          \n",
       "2                                                                          \n",
       "3                                                                          \n",
       "4                                                                          \n",
       "\n",
       "  lowci_mid_cambridge lowci_east_cambridge lowci_cambridgeport  \\\n",
       "0                                                                \n",
       "1                                                                \n",
       "2                                                                \n",
       "3                                                                \n",
       "4                                                                \n",
       "\n",
       "  lowci_north_west_cambridge  \n",
       "0                             \n",
       "1                             \n",
       "2                             \n",
       "3                             \n",
       "4                             "
      ]
     },
     "execution_count": 15,
     "metadata": {},
     "output_type": "execute_result"
    }
   ],
   "source": [
    "#This will show that although isnull().sum() returns 0 null values, the cells look blank!\n",
    "Cambridge_df.head(5)"
   ]
  },
  {
   "cell_type": "code",
   "execution_count": 16,
   "id": "d503fc20",
   "metadata": {},
   "outputs": [],
   "source": [
    "#Just incase I need to examine this data one day... \n",
    "Cambridge_non_blank_data = pd.DataFrame(Cambridge_df.loc[Cambridge_df['concentration_mid_cambridge'] != ''])"
   ]
  },
  {
   "cell_type": "markdown",
   "id": "6e85d99d",
   "metadata": {},
   "source": [
    "### This does not pass the stench test! mwra_concentration is not 100% non-null"
   ]
  },
  {
   "cell_type": "code",
   "execution_count": 17,
   "id": "06b4ffc3",
   "metadata": {},
   "outputs": [
    {
     "data": {
      "text/plain": [
       "True"
      ]
     },
     "execution_count": 17,
     "metadata": {},
     "output_type": "execute_result"
    }
   ],
   "source": [
    "#Check these blank cells to confirm they are 'filled' with whitespaces\n",
    "Cambridge_df['mwra_concentration'][0] == ''"
   ]
  },
  {
   "cell_type": "code",
   "execution_count": 18,
   "id": "d5371523",
   "metadata": {},
   "outputs": [],
   "source": [
    "#create a method using the logic from the cell above to check for blank cells\n",
    "def blank_check(df):\n",
    "    ''' A method to check my column cells from a pandas DataFrame for whitespace blanks.'''\n",
    "    return dict(zip(df.columns, [(df[x] == '').sum() for x in df.columns]))"
   ]
  },
  {
   "cell_type": "code",
   "execution_count": 19,
   "id": "32ec3840",
   "metadata": {},
   "outputs": [
    {
     "data": {
      "text/plain": [
       "{'date': 0,\n",
       " 'mwra_concentration': 11,\n",
       " 'mwra_7dayaverage': 0,\n",
       " 'concentration_mid_cambridge': 273,\n",
       " 'concentration_east_cambridge': 271,\n",
       " 'concentration_cambridgeport': 275,\n",
       " 'concentration_north_west': 271,\n",
       " 'highci_mid_cambridge': 273,\n",
       " 'highci_east_cambridge': 271,\n",
       " 'highci_cambridgeport': 275,\n",
       " 'highci_north_west_cambridge': 271,\n",
       " 'lowci_mid_cambridge': 273,\n",
       " 'lowci_east_cambridge': 271,\n",
       " 'lowci_cambridgeport': 275,\n",
       " 'lowci_north_west_cambridge': 271}"
      ]
     },
     "execution_count": 19,
     "metadata": {},
     "output_type": "execute_result"
    }
   ],
   "source": [
    "blank_check(Cambridge_df)"
   ]
  },
  {
   "cell_type": "markdown",
   "id": "44e377df",
   "metadata": {},
   "source": [
    "### Looking at how many 'blank' whitespace cells those features have, I think it is prudent to drop them first"
   ]
  },
  {
   "cell_type": "code",
   "execution_count": 20,
   "id": "1a93fbbb",
   "metadata": {},
   "outputs": [],
   "source": [
    "kept_features = ['date', 'mwra_concentration', 'mwra_7dayaverage']\n",
    "Cambridge_df.drop(columns=Cambridge_df.columns.difference(kept_features), inplace=True)"
   ]
  },
  {
   "cell_type": "code",
   "execution_count": 21,
   "id": "7263897f",
   "metadata": {},
   "outputs": [
    {
     "data": {
      "text/html": [
       "<div>\n",
       "<style scoped>\n",
       "    .dataframe tbody tr th:only-of-type {\n",
       "        vertical-align: middle;\n",
       "    }\n",
       "\n",
       "    .dataframe tbody tr th {\n",
       "        vertical-align: top;\n",
       "    }\n",
       "\n",
       "    .dataframe thead th {\n",
       "        text-align: right;\n",
       "    }\n",
       "</style>\n",
       "<table border=\"1\" class=\"dataframe\">\n",
       "  <thead>\n",
       "    <tr style=\"text-align: right;\">\n",
       "      <th></th>\n",
       "      <th>date</th>\n",
       "      <th>mwra_concentration</th>\n",
       "      <th>mwra_7dayaverage</th>\n",
       "    </tr>\n",
       "  </thead>\n",
       "  <tbody>\n",
       "    <tr>\n",
       "      <th>count</th>\n",
       "      <td>309</td>\n",
       "      <td>309</td>\n",
       "      <td>309</td>\n",
       "    </tr>\n",
       "    <tr>\n",
       "      <th>unique</th>\n",
       "      <td>309</td>\n",
       "      <td>243</td>\n",
       "      <td>228</td>\n",
       "    </tr>\n",
       "    <tr>\n",
       "      <th>top</th>\n",
       "      <td>2021-02-17T00:00:00.000</td>\n",
       "      <td></td>\n",
       "      <td>20</td>\n",
       "    </tr>\n",
       "    <tr>\n",
       "      <th>freq</th>\n",
       "      <td>1</td>\n",
       "      <td>11</td>\n",
       "      <td>6</td>\n",
       "    </tr>\n",
       "  </tbody>\n",
       "</table>\n",
       "</div>"
      ],
      "text/plain": [
       "                           date mwra_concentration mwra_7dayaverage\n",
       "count                       309                309              309\n",
       "unique                      309                243              228\n",
       "top     2021-02-17T00:00:00.000                                  20\n",
       "freq                          1                 11                6"
      ]
     },
     "execution_count": 21,
     "metadata": {},
     "output_type": "execute_result"
    }
   ],
   "source": [
    "#confirm those columns were dropped\n",
    "Cambridge_df.describe()"
   ]
  },
  {
   "cell_type": "code",
   "execution_count": 22,
   "id": "e5eec0b1",
   "metadata": {},
   "outputs": [
    {
     "data": {
      "text/plain": [
       "{'date': 0, 'mwra_concentration': 11, 'mwra_7dayaverage': 0}"
      ]
     },
     "execution_count": 22,
     "metadata": {},
     "output_type": "execute_result"
    }
   ],
   "source": [
    "#confirm how many blank cells to wrangle\n",
    "blank_check(Cambridge_df)"
   ]
  },
  {
   "cell_type": "markdown",
   "id": "df0e3d3d",
   "metadata": {},
   "source": [
    "### At this point - Choose:\n",
    "1. Drop those rows with blank columns\n",
    "2. Impute them with something\n",
    "    \n",
    "    A: Can be the mwra_7dayaverage\n",
    "    \n",
    "    B: Can be a front-fill method    \n",
    "    \n",
    "    C:  Can be a back-fill method"
   ]
  },
  {
   "cell_type": "markdown",
   "id": "75c5b58f",
   "metadata": {},
   "source": [
    "#### I chose option 2, and I want to fill with the mwra_7dayaverage where I can. "
   ]
  },
  {
   "cell_type": "code",
   "execution_count": 23,
   "id": "56979c1f",
   "metadata": {},
   "outputs": [],
   "source": [
    "#change 'date' feature into a datetime and assign to index\n",
    "Cambridge_df.date = pd.to_datetime(Cambridge_df.date)\n",
    "Cambridge_df.set_index('date', inplace=True)"
   ]
  },
  {
   "cell_type": "code",
   "execution_count": 24,
   "id": "bc356fe9",
   "metadata": {},
   "outputs": [
    {
     "data": {
      "text/plain": [
       "{'mwra_concentration': 11, 'mwra_7dayaverage': 0}"
      ]
     },
     "execution_count": 24,
     "metadata": {},
     "output_type": "execute_result"
    }
   ],
   "source": [
    "#blank check before the whitespace replacement\n",
    "blank_check(Cambridge_df)"
   ]
  },
  {
   "cell_type": "code",
   "execution_count": 25,
   "id": "a0725783",
   "metadata": {},
   "outputs": [],
   "source": [
    "#replace whitespace with NaN and check for an decrease in blank_check and increase in null\n",
    "#The increase seen with .isnull() is due to us replacing '' with \n",
    "Cambridge_df.replace(r'^\\s*$', np.nan, regex=True, inplace=True)"
   ]
  },
  {
   "cell_type": "code",
   "execution_count": 26,
   "id": "513a71bf",
   "metadata": {},
   "outputs": [
    {
     "data": {
      "text/plain": [
       "{'mwra_concentration': 0, 'mwra_7dayaverage': 0}"
      ]
     },
     "execution_count": 26,
     "metadata": {},
     "output_type": "execute_result"
    }
   ],
   "source": [
    "#blank check after whitespace replacement\n",
    "blank_check(Cambridge_df)"
   ]
  },
  {
   "cell_type": "code",
   "execution_count": 27,
   "id": "ad924061",
   "metadata": {},
   "outputs": [
    {
     "data": {
      "text/plain": [
       "mwra_concentration    11\n",
       "mwra_7dayaverage       0\n",
       "dtype: int64"
      ]
     },
     "execution_count": 27,
     "metadata": {},
     "output_type": "execute_result"
    }
   ],
   "source": [
    "Cambridge_df.isnull().sum()"
   ]
  },
  {
   "cell_type": "markdown",
   "id": "430fef44",
   "metadata": {},
   "source": [
    "#### This passes the stench test now, and we can easily deal with NaNs."
   ]
  },
  {
   "cell_type": "code",
   "execution_count": 28,
   "id": "6f015431",
   "metadata": {},
   "outputs": [
    {
     "data": {
      "text/plain": [
       "mwra_concentration    0\n",
       "mwra_7dayaverage      0\n",
       "dtype: int64"
      ]
     },
     "execution_count": 28,
     "metadata": {},
     "output_type": "execute_result"
    }
   ],
   "source": [
    "#replace mwra_7dayaverage NaNs with .replace() and frontfill method\n",
    "Cambridge_df.mwra_7dayaverage.replace(np.nan, method='ffill', inplace=True)\n",
    "\n",
    "#replace mwra_concentration NaNs with the given mwra_7dayaverage using .fillna()\n",
    "Cambridge_df.mwra_concentration.fillna(Cambridge_df.mwra_7dayaverage, inplace=True)\n",
    "\n",
    "Cambridge_df.isnull().sum()"
   ]
  },
  {
   "cell_type": "code",
   "execution_count": 29,
   "id": "e5ae5d51",
   "metadata": {},
   "outputs": [],
   "source": [
    "Cambridge_cleaned = Cambridge_df.copy()"
   ]
  },
  {
   "cell_type": "markdown",
   "id": "38d556b8",
   "metadata": {},
   "source": [
    "## Masschusetts Data"
   ]
  },
  {
   "cell_type": "code",
   "execution_count": 30,
   "id": "e49dcd55",
   "metadata": {},
   "outputs": [
    {
     "data": {
      "text/plain": [
       "(11296, 17)"
      ]
     },
     "execution_count": 30,
     "metadata": {},
     "output_type": "execute_result"
    }
   ],
   "source": [
    "Mass_df.shape"
   ]
  },
  {
   "cell_type": "code",
   "execution_count": 31,
   "id": "e173bbd9",
   "metadata": {},
   "outputs": [
    {
     "data": {
      "text/plain": [
       "Index(['City/Town', 'County', 'Population', 'Total Case Counts',\n",
       "       'Two Week Case Counts', 'Average Daily Rate', 'Color',\n",
       "       'Change in Last Week', 'Total Tests', 'Total Tests Last Two Weeks',\n",
       "       'Total Positive Tests', 'Percent Positivity', 'Change Since Last Week',\n",
       "       'Testing Rate', 'Report Date', 'Start_Date', 'End_Date'],\n",
       "      dtype='object')"
      ]
     },
     "execution_count": 31,
     "metadata": {},
     "output_type": "execute_result"
    }
   ],
   "source": [
    "Mass_df.columns"
   ]
  },
  {
   "cell_type": "code",
   "execution_count": 32,
   "id": "d9586034",
   "metadata": {},
   "outputs": [
    {
     "data": {
      "text/plain": [
       "Worcester     1920\n",
       "Middlesex     1728\n",
       "Essex         1088\n",
       "Berkshire     1024\n",
       "Norfolk        896\n",
       "Plymouth       864\n",
       "Franklin       832\n",
       "Hampden        736\n",
       "Hampshire      640\n",
       "Bristol        640\n",
       "Barnstable     480\n",
       "Dukes          224\n",
       "Suffolk        128\n",
       "Nantucket       32\n",
       "Statewide       32\n",
       "Unknown         32\n",
       "Name: County, dtype: int64"
      ]
     },
     "execution_count": 32,
     "metadata": {},
     "output_type": "execute_result"
    }
   ],
   "source": [
    "Mass_df.County.value_counts()"
   ]
  },
  {
   "cell_type": "code",
   "execution_count": 33,
   "id": "1946afe1",
   "metadata": {},
   "outputs": [
    {
     "name": "stdout",
     "output_type": "stream",
     "text": [
      "{'City/Town': 0, 'County': 0, 'Population': 0, 'Total Case Counts': 0, 'Two Week Case Counts': 0, 'Average Daily Rate': 0, 'Color': 0, 'Change in Last Week': 0, 'Total Tests': 0, 'Total Tests Last Two Weeks': 0, 'Total Positive Tests': 0, 'Percent Positivity': 0, 'Change Since Last Week': 0, 'Testing Rate': 0, 'Report Date': 0, 'Start_Date': 0, 'End_Date': 0} City/Town                        0\n",
      "County                           0\n",
      "Population                       0\n",
      "Total Case Counts                0\n",
      "Two Week Case Counts             0\n",
      "Average Daily Rate               0\n",
      "Color                         1801\n",
      "Change in Last Week              0\n",
      "Total Tests                      0\n",
      "Total Tests Last Two Weeks       1\n",
      "Total Positive Tests             1\n",
      "Percent Positivity               1\n",
      "Change Since Last Week           0\n",
      "Testing Rate                     4\n",
      "Report Date                      0\n",
      "Start_Date                       0\n",
      "End_Date                         0\n",
      "dtype: int64\n"
     ]
    }
   ],
   "source": [
    "num_nulls = Mass_df.isnull().sum()\n",
    "print(blank_check(Mass_df), num_nulls)"
   ]
  },
  {
   "cell_type": "markdown",
   "id": "d2a1aa42",
   "metadata": {},
   "source": [
    "#### I've decided to drop columns after I merge the Massachusetts and Biobot dfs."
   ]
  },
  {
   "cell_type": "markdown",
   "id": "9190d6b7",
   "metadata": {},
   "source": [
    "## Biobot Data"
   ]
  },
  {
   "cell_type": "code",
   "execution_count": 34,
   "id": "af664702",
   "metadata": {},
   "outputs": [
    {
     "data": {
      "text/plain": [
       "sampling_week                               0\n",
       "normalized_concentration_rolling_average    0\n",
       "population                                  0\n",
       "region                                      0\n",
       "state                                       0\n",
       "county_fips_code                            0\n",
       "county_name                                 0\n",
       "dtype: int64"
      ]
     },
     "execution_count": 34,
     "metadata": {},
     "output_type": "execute_result"
    }
   ],
   "source": [
    "Biobot_df.isnull().sum()"
   ]
  },
  {
   "cell_type": "code",
   "execution_count": 35,
   "id": "27177305",
   "metadata": {},
   "outputs": [
    {
     "data": {
      "text/plain": [
       "{'sampling_week': 0,\n",
       " 'normalized_concentration_rolling_average': 0,\n",
       " 'population': 0,\n",
       " 'region': 0,\n",
       " 'state': 0,\n",
       " 'county_fips_code': 0,\n",
       " 'county_name': 0}"
      ]
     },
     "execution_count": 35,
     "metadata": {},
     "output_type": "execute_result"
    }
   ],
   "source": [
    "blank_check(Biobot_df)"
   ]
  },
  {
   "cell_type": "code",
   "execution_count": 36,
   "id": "b1c82514",
   "metadata": {},
   "outputs": [
    {
     "data": {
      "text/plain": [
       "(1267, 7)"
      ]
     },
     "execution_count": 36,
     "metadata": {},
     "output_type": "execute_result"
    }
   ],
   "source": [
    "Biobot_df.shape"
   ]
  },
  {
   "cell_type": "code",
   "execution_count": 37,
   "id": "ee12cca5",
   "metadata": {},
   "outputs": [
    {
     "name": "stdout",
     "output_type": "stream",
     "text": [
      "MA    257\n",
      "PA    184\n",
      "CA    141\n",
      "IN     81\n",
      "TN     65\n",
      "FL     59\n",
      "NV     58\n",
      "KY     55\n",
      "CT     54\n",
      "OR     49\n",
      "VA     49\n",
      "CO     48\n",
      "NY     38\n",
      "DE     36\n",
      "IL     35\n",
      "MN     30\n",
      "NJ     28\n",
      "Name: state, dtype: int64 1267\n"
     ]
    }
   ],
   "source": [
    "print(Biobot_df.state.value_counts(), Biobot_df.state.value_counts().sum())"
   ]
  },
  {
   "cell_type": "markdown",
   "id": "f0919e2b",
   "metadata": {},
   "source": [
    "Biobot performed the most WBE surveillance in Massachusetts. Affirms my choice to use their dataset."
   ]
  },
  {
   "cell_type": "code",
   "execution_count": 38,
   "id": "864093f5",
   "metadata": {},
   "outputs": [],
   "source": [
    "#Let's slice for MA data only\n",
    "Biobot_MA = pd.DataFrame(Biobot_df.loc[Biobot_df.state=='MA'])"
   ]
  },
  {
   "cell_type": "code",
   "execution_count": 39,
   "id": "fc18111c",
   "metadata": {},
   "outputs": [
    {
     "name": "stdout",
     "output_type": "stream",
     "text": [
      "<class 'pandas.core.frame.DataFrame'>\n",
      "Int64Index: 257 entries, 146 to 714\n",
      "Data columns (total 7 columns):\n",
      " #   Column                                    Non-Null Count  Dtype  \n",
      "---  ------                                    --------------  -----  \n",
      " 0   sampling_week                             257 non-null    object \n",
      " 1   normalized_concentration_rolling_average  257 non-null    float64\n",
      " 2   population                                257 non-null    object \n",
      " 3   region                                    257 non-null    object \n",
      " 4   state                                     257 non-null    object \n",
      " 5   county_fips_code                          257 non-null    int64  \n",
      " 6   county_name                               257 non-null    object \n",
      "dtypes: float64(1), int64(1), object(5)\n",
      "memory usage: 16.1+ KB\n"
     ]
    }
   ],
   "source": [
    "Biobot_MA.info()"
   ]
  },
  {
   "cell_type": "markdown",
   "id": "ba341cc1",
   "metadata": {},
   "source": [
    "### Comparing Biobot's wastewater data to Cambridge"
   ]
  },
  {
   "cell_type": "code",
   "execution_count": 40,
   "id": "35663355",
   "metadata": {},
   "outputs": [
    {
     "data": {
      "text/html": [
       "<div>\n",
       "<style scoped>\n",
       "    .dataframe tbody tr th:only-of-type {\n",
       "        vertical-align: middle;\n",
       "    }\n",
       "\n",
       "    .dataframe tbody tr th {\n",
       "        vertical-align: top;\n",
       "    }\n",
       "\n",
       "    .dataframe thead th {\n",
       "        text-align: right;\n",
       "    }\n",
       "</style>\n",
       "<table border=\"1\" class=\"dataframe\">\n",
       "  <thead>\n",
       "    <tr style=\"text-align: right;\">\n",
       "      <th></th>\n",
       "      <th>mwra_concentration</th>\n",
       "      <th>mwra_7dayaverage</th>\n",
       "    </tr>\n",
       "    <tr>\n",
       "      <th>date</th>\n",
       "      <th></th>\n",
       "      <th></th>\n",
       "    </tr>\n",
       "  </thead>\n",
       "  <tbody>\n",
       "    <tr>\n",
       "      <th>2020-12-01</th>\n",
       "      <td>862</td>\n",
       "      <td>576</td>\n",
       "    </tr>\n",
       "    <tr>\n",
       "      <th>2020-12-02</th>\n",
       "      <td>857</td>\n",
       "      <td>630</td>\n",
       "    </tr>\n",
       "    <tr>\n",
       "      <th>2020-12-03</th>\n",
       "      <td>888</td>\n",
       "      <td>685</td>\n",
       "    </tr>\n",
       "    <tr>\n",
       "      <th>2020-12-04</th>\n",
       "      <td>1384</td>\n",
       "      <td>779</td>\n",
       "    </tr>\n",
       "    <tr>\n",
       "      <th>2020-12-05</th>\n",
       "      <td>956</td>\n",
       "      <td>844</td>\n",
       "    </tr>\n",
       "    <tr>\n",
       "      <th>...</th>\n",
       "      <td>...</td>\n",
       "      <td>...</td>\n",
       "    </tr>\n",
       "    <tr>\n",
       "      <th>2021-01-27</th>\n",
       "      <td>350</td>\n",
       "      <td>549</td>\n",
       "    </tr>\n",
       "    <tr>\n",
       "      <th>2021-01-28</th>\n",
       "      <td>421</td>\n",
       "      <td>523</td>\n",
       "    </tr>\n",
       "    <tr>\n",
       "      <th>2021-01-29</th>\n",
       "      <td>329</td>\n",
       "      <td>470</td>\n",
       "    </tr>\n",
       "    <tr>\n",
       "      <th>2021-01-30</th>\n",
       "      <td>490</td>\n",
       "      <td>434</td>\n",
       "    </tr>\n",
       "    <tr>\n",
       "      <th>2021-01-31</th>\n",
       "      <td>397</td>\n",
       "      <td>403</td>\n",
       "    </tr>\n",
       "  </tbody>\n",
       "</table>\n",
       "<p>62 rows × 2 columns</p>\n",
       "</div>"
      ],
      "text/plain": [
       "           mwra_concentration mwra_7dayaverage\n",
       "date                                          \n",
       "2020-12-01                862              576\n",
       "2020-12-02                857              630\n",
       "2020-12-03                888              685\n",
       "2020-12-04               1384              779\n",
       "2020-12-05                956              844\n",
       "...                       ...              ...\n",
       "2021-01-27                350              549\n",
       "2021-01-28                421              523\n",
       "2021-01-29                329              470\n",
       "2021-01-30                490              434\n",
       "2021-01-31                397              403\n",
       "\n",
       "[62 rows x 2 columns]"
      ]
     },
     "execution_count": 40,
     "metadata": {},
     "output_type": "execute_result"
    }
   ],
   "source": [
    "pd.DataFrame(Cambridge_df.loc['2020-Dec':'2021-Jan', ('mwra_concentration', 'mwra_7dayaverage')])"
   ]
  },
  {
   "cell_type": "code",
   "execution_count": 42,
   "id": "2037ffc6",
   "metadata": {},
   "outputs": [
    {
     "data": {
      "text/html": [
       "<div>\n",
       "<style scoped>\n",
       "    .dataframe tbody tr th:only-of-type {\n",
       "        vertical-align: middle;\n",
       "    }\n",
       "\n",
       "    .dataframe tbody tr th {\n",
       "        vertical-align: top;\n",
       "    }\n",
       "\n",
       "    .dataframe thead th {\n",
       "        text-align: right;\n",
       "    }\n",
       "</style>\n",
       "<table border=\"1\" class=\"dataframe\">\n",
       "  <thead>\n",
       "    <tr style=\"text-align: right;\">\n",
       "      <th></th>\n",
       "      <th>normalized_concentration_rolling_average</th>\n",
       "    </tr>\n",
       "    <tr>\n",
       "      <th>sampling_week</th>\n",
       "      <th></th>\n",
       "    </tr>\n",
       "  </thead>\n",
       "  <tbody>\n",
       "    <tr>\n",
       "      <th>2020-12-02</th>\n",
       "      <td>212.653435</td>\n",
       "    </tr>\n",
       "    <tr>\n",
       "      <th>2020-12-09</th>\n",
       "      <td>291.989119</td>\n",
       "    </tr>\n",
       "    <tr>\n",
       "      <th>2020-12-16</th>\n",
       "      <td>396.851090</td>\n",
       "    </tr>\n",
       "    <tr>\n",
       "      <th>2020-12-23</th>\n",
       "      <td>454.722050</td>\n",
       "    </tr>\n",
       "    <tr>\n",
       "      <th>2020-12-30</th>\n",
       "      <td>407.335752</td>\n",
       "    </tr>\n",
       "    <tr>\n",
       "      <th>2021-01-06</th>\n",
       "      <td>330.828325</td>\n",
       "    </tr>\n",
       "    <tr>\n",
       "      <th>2021-01-13</th>\n",
       "      <td>265.228983</td>\n",
       "    </tr>\n",
       "    <tr>\n",
       "      <th>2021-01-20</th>\n",
       "      <td>260.880836</td>\n",
       "    </tr>\n",
       "    <tr>\n",
       "      <th>2021-01-27</th>\n",
       "      <td>218.415714</td>\n",
       "    </tr>\n",
       "  </tbody>\n",
       "</table>\n",
       "</div>"
      ],
      "text/plain": [
       "               normalized_concentration_rolling_average\n",
       "sampling_week                                          \n",
       "2020-12-02                                   212.653435\n",
       "2020-12-09                                   291.989119\n",
       "2020-12-16                                   396.851090\n",
       "2020-12-23                                   454.722050\n",
       "2020-12-30                                   407.335752\n",
       "2021-01-06                                   330.828325\n",
       "2021-01-13                                   265.228983\n",
       "2021-01-20                                   260.880836\n",
       "2021-01-27                                   218.415714"
      ]
     },
     "execution_count": 42,
     "metadata": {},
     "output_type": "execute_result"
    }
   ],
   "source": [
    "#this cell is broken as I moved it around. Could run this check after resetting biobot_MA's index to sampling_date\n",
    "bio_middlesex = pd.DataFrame(Biobot_MA.\n",
    "                             loc[Biobot_MA['county_name'] == 'Middlesex'])\n",
    "\n",
    "bio_middlesex.loc['2020-Dec':'2021-Jan', 'normalized_concentration_rolling_average']\n",
    "pd.DataFrame(bio_middlesex.loc['2020-Dec':'2021-Jan', 'normalized_concentration_rolling_average'])\n",
    "#bio_middlesex.loc[bio_middlesex['2020-Dec':'2021-Jan'], 'normalized_concentration_rolling_average']"
   ]
  },
  {
   "cell_type": "markdown",
   "id": "4ed7ee07",
   "metadata": {},
   "source": [
    "The Cambrdge_df mwra (a measure of covid-19 rna concentration in wastewater) doesn't look like it matches Biobot's. \n",
    "I cannot explain this discrepancy yet. \n",
    "As Biobot has the larger dataset, I think I will use that over Cambridge_df.\n",
    "\n",
    "# I think this is where I should have stopped the capstone."
   ]
  },
  {
   "cell_type": "markdown",
   "id": "53fed8cb",
   "metadata": {},
   "source": [
    "## Merging Mass_df and Biobot_MA DataFrames\n",
    "\n",
    "### Set the indices for all df to a 'period' datetime range, with week starting on Monday"
   ]
  },
  {
   "cell_type": "code",
   "execution_count": 41,
   "id": "5f8f3300",
   "metadata": {},
   "outputs": [],
   "source": [
    "#setting the indices to all 3 dfs to be a datetime\n",
    "#cam_date = pd.to_datetime(Cambridge_df.date, infer_datetime_format=True)\n",
    "#Cambridge_df.set_index(cam_date, inplace=True)\n",
    "\n",
    "mass_date = pd.to_datetime(Mass_df['Report Date'], infer_datetime_format=True)\n",
    "Mass_df.set_index(mass_date, \n",
    "                  inplace=True)\n",
    "\n",
    "biobot_date = pd.to_datetime(Biobot_MA['sampling_week'], infer_datetime_format=True)\n",
    "Biobot_MA.set_index(biobot_date, \n",
    "                    inplace=True)"
   ]
  },
  {
   "cell_type": "code",
   "execution_count": 43,
   "id": "59c89ba1",
   "metadata": {},
   "outputs": [],
   "source": [
    "\n",
    "#Creating a period feature, using W-MON as the parameter\n",
    "# I do this so I can easily merge these dfs on a standardized time, as the dates on the reports may not match other dfs\n",
    "Cambridge_df['per'] = Cambridge_df.index.to_period('W-MON')\n",
    "Mass_df['per'] = Mass_df.index.to_period('W-MON')\n",
    "Biobot_MA['per'] = Biobot_MA.index.to_period('W-MON')"
   ]
  },
  {
   "cell_type": "code",
   "execution_count": null,
   "id": "4ac0bea7",
   "metadata": {},
   "outputs": [],
   "source": [
    "\n",
    "#This is so I can see what are the common periods between teh two dfs\n",
    "#common_periods = []\n",
    "#for x in Biobot_MA.per.values:\n",
    "#    if x in Mass_df.per.values and x not in common_periods:\n",
    "#        common_periods.append(x)\n",
    "\n",
    "#common_periods"
   ]
  },
  {
   "cell_type": "markdown",
   "id": "9aff3f28",
   "metadata": {},
   "source": [
    "### Slicing by the common_periods shared throughout the dfs"
   ]
  },
  {
   "cell_type": "code",
   "execution_count": null,
   "id": "77270dc8",
   "metadata": {},
   "outputs": [],
   "source": [
    "#this is no longer needed now I know how to merge on multiple columns. Keeping for review\n",
    "#Mass_sliced_by_common_periods = pd.DataFrame(Mass_df.loc[Mass_df['per'].isin(common_periods)])\n",
    "#Biobot_MA_sliced_by_common_periods = pd.DataFrame(Biobot_MA.loc[Biobot_MA['per'].isin(common_periods)])"
   ]
  },
  {
   "cell_type": "code",
   "execution_count": 44,
   "id": "abd15849",
   "metadata": {},
   "outputs": [],
   "source": [
    "#These names are a mouthful, changing to shorter ones\n",
    "df_b = pd.DataFrame(Biobot_MA)\n",
    "df_m = pd.DataFrame(Mass_df)\n",
    "\n",
    "#unifying the County features between the two df\n",
    "df_b['County'] = df_b['county_name']\n",
    "\n",
    "#dropping redundant or non-interested features from df_b\n",
    "drop_list = ['region', 'state', 'county_fips_code', 'county_name']\n",
    "df_b.drop(columns=drop_list, inplace=True)\n",
    "\n",
    "#dropping redundant or non-interested features from df_m\n",
    "kept_list = ['City/Town', 'County', 'Change Since Last Week', 'Percent Positivity', 'per', 'Report Date']\n",
    "df_m.drop(columns=df_m.columns.difference(kept_list), inplace=True)"
   ]
  },
  {
   "cell_type": "code",
   "execution_count": 45,
   "id": "8395be1e",
   "metadata": {},
   "outputs": [
    {
     "name": "stdout",
     "output_type": "stream",
     "text": [
      "11296 16\n"
     ]
    }
   ],
   "source": [
    "#As this is statewide data from MA Dept of Health, all the counties and their reports amount to a large number\n",
    "num_reports = df_m.County.value_counts().sum()\n",
    "num_counties = df_m.County.nunique()\n",
    "print(num_reports, num_counties)"
   ]
  },
  {
   "cell_type": "code",
   "execution_count": 46,
   "id": "22590fb1",
   "metadata": {},
   "outputs": [
    {
     "name": "stdout",
     "output_type": "stream",
     "text": [
      "257 6\n"
     ]
    }
   ],
   "source": [
    "#However Biobot only conducted wastewater surveillance at a select number of counties\n",
    "bio_num_reports = df_b.County.value_counts().sum()\n",
    "bio_num_counties = df_b.County.nunique()\n",
    "print(bio_num_reports, bio_num_counties)"
   ]
  },
  {
   "cell_type": "markdown",
   "id": "c831eeda",
   "metadata": {},
   "source": [
    "### Merging"
   ]
  },
  {
   "cell_type": "code",
   "execution_count": null,
   "id": "5f46cb3b",
   "metadata": {},
   "outputs": [],
   "source": [
    "#test_merge = df_b.merge(test_df, how='outer', on=['County', 'per'])"
   ]
  },
  {
   "cell_type": "code",
   "execution_count": 47,
   "id": "ed9d338e",
   "metadata": {},
   "outputs": [],
   "source": [
    "#doing an inner merge, and we can specify multiple columns on which it will merge\n",
    "merged_df = df_b.merge(df_m, how='inner', on=['County', 'per'])"
   ]
  },
  {
   "cell_type": "markdown",
   "id": "0b38faa6",
   "metadata": {},
   "source": [
    "### Reviewing and Wranging the merged_df"
   ]
  },
  {
   "cell_type": "code",
   "execution_count": 48,
   "id": "ac55b831",
   "metadata": {},
   "outputs": [
    {
     "data": {
      "text/html": [
       "<div>\n",
       "<style scoped>\n",
       "    .dataframe tbody tr th:only-of-type {\n",
       "        vertical-align: middle;\n",
       "    }\n",
       "\n",
       "    .dataframe tbody tr th {\n",
       "        vertical-align: top;\n",
       "    }\n",
       "\n",
       "    .dataframe thead th {\n",
       "        text-align: right;\n",
       "    }\n",
       "</style>\n",
       "<table border=\"1\" class=\"dataframe\">\n",
       "  <thead>\n",
       "    <tr style=\"text-align: right;\">\n",
       "      <th></th>\n",
       "      <th>sampling_week</th>\n",
       "      <th>normalized_concentration_rolling_average</th>\n",
       "      <th>population</th>\n",
       "      <th>per</th>\n",
       "      <th>County</th>\n",
       "      <th>City/Town</th>\n",
       "      <th>Percent Positivity</th>\n",
       "      <th>Change Since Last Week</th>\n",
       "      <th>Report Date</th>\n",
       "    </tr>\n",
       "  </thead>\n",
       "  <tbody>\n",
       "    <tr>\n",
       "      <th>0</th>\n",
       "      <td>2020-12-23</td>\n",
       "      <td>420.042264</td>\n",
       "      <td>50000-100000</td>\n",
       "      <td>2020-12-22/2020-12-28</td>\n",
       "      <td>Berkshire</td>\n",
       "      <td>Adams</td>\n",
       "      <td>0.028758</td>\n",
       "      <td>Lower</td>\n",
       "      <td>2020-12-24</td>\n",
       "    </tr>\n",
       "    <tr>\n",
       "      <th>1</th>\n",
       "      <td>2020-12-23</td>\n",
       "      <td>420.042264</td>\n",
       "      <td>50000-100000</td>\n",
       "      <td>2020-12-22/2020-12-28</td>\n",
       "      <td>Berkshire</td>\n",
       "      <td>Alford</td>\n",
       "      <td>0</td>\n",
       "      <td>No Change</td>\n",
       "      <td>2020-12-24</td>\n",
       "    </tr>\n",
       "    <tr>\n",
       "      <th>2</th>\n",
       "      <td>2020-12-23</td>\n",
       "      <td>420.042264</td>\n",
       "      <td>50000-100000</td>\n",
       "      <td>2020-12-22/2020-12-28</td>\n",
       "      <td>Berkshire</td>\n",
       "      <td>Becket</td>\n",
       "      <td>0.04</td>\n",
       "      <td>Higher</td>\n",
       "      <td>2020-12-24</td>\n",
       "    </tr>\n",
       "    <tr>\n",
       "      <th>3</th>\n",
       "      <td>2020-12-23</td>\n",
       "      <td>420.042264</td>\n",
       "      <td>50000-100000</td>\n",
       "      <td>2020-12-22/2020-12-28</td>\n",
       "      <td>Berkshire</td>\n",
       "      <td>Cheshire</td>\n",
       "      <td>0.024055</td>\n",
       "      <td>Higher</td>\n",
       "      <td>2020-12-24</td>\n",
       "    </tr>\n",
       "    <tr>\n",
       "      <th>4</th>\n",
       "      <td>2020-12-23</td>\n",
       "      <td>420.042264</td>\n",
       "      <td>50000-100000</td>\n",
       "      <td>2020-12-22/2020-12-28</td>\n",
       "      <td>Berkshire</td>\n",
       "      <td>Clarksburg</td>\n",
       "      <td>0.010101</td>\n",
       "      <td>Lower</td>\n",
       "      <td>2020-12-24</td>\n",
       "    </tr>\n",
       "  </tbody>\n",
       "</table>\n",
       "</div>"
      ],
      "text/plain": [
       "  sampling_week  normalized_concentration_rolling_average    population  \\\n",
       "0    2020-12-23                                420.042264  50000-100000   \n",
       "1    2020-12-23                                420.042264  50000-100000   \n",
       "2    2020-12-23                                420.042264  50000-100000   \n",
       "3    2020-12-23                                420.042264  50000-100000   \n",
       "4    2020-12-23                                420.042264  50000-100000   \n",
       "\n",
       "                     per     County   City/Town Percent Positivity  \\\n",
       "0  2020-12-22/2020-12-28  Berkshire       Adams           0.028758   \n",
       "1  2020-12-22/2020-12-28  Berkshire      Alford                  0   \n",
       "2  2020-12-22/2020-12-28  Berkshire      Becket               0.04   \n",
       "3  2020-12-22/2020-12-28  Berkshire    Cheshire           0.024055   \n",
       "4  2020-12-22/2020-12-28  Berkshire  Clarksburg           0.010101   \n",
       "\n",
       "  Change Since Last Week Report Date  \n",
       "0                  Lower  2020-12-24  \n",
       "1              No Change  2020-12-24  \n",
       "2                 Higher  2020-12-24  \n",
       "3                 Higher  2020-12-24  \n",
       "4                  Lower  2020-12-24  "
      ]
     },
     "execution_count": 48,
     "metadata": {},
     "output_type": "execute_result"
    }
   ],
   "source": [
    "merged_df.head()"
   ]
  },
  {
   "cell_type": "code",
   "execution_count": 49,
   "id": "980f74cc",
   "metadata": {},
   "outputs": [
    {
     "name": "stdout",
     "output_type": "stream",
     "text": [
      "6 6\n"
     ]
    }
   ],
   "source": [
    "#expect the number of counties to match bio_num_counties\n",
    "merged_num_counties = merged_df.County.nunique()\n",
    "print(bio_num_counties, merged_num_counties)"
   ]
  },
  {
   "cell_type": "code",
   "execution_count": 50,
   "id": "10951fd0",
   "metadata": {},
   "outputs": [
    {
     "data": {
      "text/plain": [
       "(3162, 9)"
      ]
     },
     "execution_count": 50,
     "metadata": {},
     "output_type": "execute_result"
    }
   ],
   "source": [
    "merged_df.shape"
   ]
  },
  {
   "cell_type": "code",
   "execution_count": 51,
   "id": "9f8ed10c",
   "metadata": {},
   "outputs": [
    {
     "data": {
      "text/plain": [
       "False"
      ]
     },
     "execution_count": 51,
     "metadata": {},
     "output_type": "execute_result"
    }
   ],
   "source": [
    "merged_df.duplicated().any()"
   ]
  },
  {
   "cell_type": "code",
   "execution_count": 52,
   "id": "d08ddf8e",
   "metadata": {},
   "outputs": [
    {
     "data": {
      "text/plain": [
       "sampling_week                               0\n",
       "normalized_concentration_rolling_average    0\n",
       "population                                  0\n",
       "per                                         0\n",
       "County                                      0\n",
       "City/Town                                   0\n",
       "Percent Positivity                          0\n",
       "Change Since Last Week                      0\n",
       "Report Date                                 0\n",
       "dtype: int64"
      ]
     },
     "execution_count": 52,
     "metadata": {},
     "output_type": "execute_result"
    }
   ],
   "source": [
    "merged_df.isnull().sum()"
   ]
  },
  {
   "cell_type": "code",
   "execution_count": 53,
   "id": "46e4b56d",
   "metadata": {},
   "outputs": [
    {
     "data": {
      "text/plain": [
       "{'sampling_week': 0,\n",
       " 'normalized_concentration_rolling_average': 0,\n",
       " 'population': 0,\n",
       " 'per': 0,\n",
       " 'County': 0,\n",
       " 'City/Town': 0,\n",
       " 'Percent Positivity': 0,\n",
       " 'Change Since Last Week': 0,\n",
       " 'Report Date': 0}"
      ]
     },
     "execution_count": 53,
     "metadata": {},
     "output_type": "execute_result"
    }
   ],
   "source": [
    "blank_check(merged_df)"
   ]
  },
  {
   "cell_type": "code",
   "execution_count": 54,
   "id": "b7cbe3fc",
   "metadata": {},
   "outputs": [
    {
     "name": "stdout",
     "output_type": "stream",
     "text": [
      "<class 'pandas.core.frame.DataFrame'>\n",
      "Int64Index: 3162 entries, 0 to 3161\n",
      "Data columns (total 9 columns):\n",
      " #   Column                                    Non-Null Count  Dtype         \n",
      "---  ------                                    --------------  -----         \n",
      " 0   sampling_week                             3162 non-null   object        \n",
      " 1   normalized_concentration_rolling_average  3162 non-null   float64       \n",
      " 2   population                                3162 non-null   object        \n",
      " 3   per                                       3162 non-null   period[W-MON] \n",
      " 4   County                                    3162 non-null   object        \n",
      " 5   City/Town                                 3162 non-null   object        \n",
      " 6   Percent Positivity                        3162 non-null   object        \n",
      " 7   Change Since Last Week                    3162 non-null   object        \n",
      " 8   Report Date                               3162 non-null   datetime64[ns]\n",
      "dtypes: datetime64[ns](1), float64(1), object(6), period[W-MON](1)\n",
      "memory usage: 247.0+ KB\n"
     ]
    }
   ],
   "source": [
    "merged_df.info()"
   ]
  },
  {
   "cell_type": "markdown",
   "id": "e5996223",
   "metadata": {},
   "source": [
    "### In what I would expect to be my categorical features, I am checking and counting unique values"
   ]
  },
  {
   "cell_type": "code",
   "execution_count": 55,
   "id": "607bb5c6",
   "metadata": {},
   "outputs": [
    {
     "data": {
      "text/plain": [
       "[100000-200000      1296\n",
       " 20000-50000         968\n",
       " 50000-100000        640\n",
       " 10000-20000         158\n",
       " 2000000-5000000     100\n",
       " Name: population, dtype: int64,\n",
       " Middlesex    1350\n",
       " Essex         748\n",
       " Berkshire     640\n",
       " Hampshire     300\n",
       " Suffolk       100\n",
       " Nantucket      24\n",
       " Name: County, dtype: int64,\n",
       " Tyngsborough    25\n",
       " Sherborn        25\n",
       " Westford        25\n",
       " Hopkinton       25\n",
       " Holliston       25\n",
       "                 ..\n",
       " Chesterfield    15\n",
       " Hatfield        15\n",
       " Belchertown     15\n",
       " Plainfield      15\n",
       " Goshen          15\n",
       " Name: City/Town, Length: 145, dtype: int64,\n",
       " Lower        1402\n",
       " Higher        953\n",
       " No Change     587\n",
       " Lower         220\n",
       " Name: Change Since Last Week, dtype: int64]"
      ]
     },
     "execution_count": 55,
     "metadata": {},
     "output_type": "execute_result"
    }
   ],
   "source": [
    "cat_list = ['population', 'County', 'City/Town', 'Change Since Last Week']\n",
    "[merged_df[x].value_counts() for x in cat_list]"
   ]
  },
  {
   "cell_type": "code",
   "execution_count": 56,
   "id": "528812d6",
   "metadata": {},
   "outputs": [
    {
     "data": {
      "text/plain": [
       "Lower        1402\n",
       "Higher        953\n",
       "No Change     587\n",
       "Lower         220\n",
       "Name: Change Since Last Week, dtype: int64"
      ]
     },
     "execution_count": 56,
     "metadata": {},
     "output_type": "execute_result"
    }
   ],
   "source": [
    "#In the 'Change Since Last Week' column, 'Lower' shows up twice in the value_counts()\n",
    "merged_df['Change Since Last Week'].value_counts()"
   ]
  },
  {
   "cell_type": "code",
   "execution_count": 57,
   "id": "a9ebdc20",
   "metadata": {},
   "outputs": [
    {
     "data": {
      "text/plain": [
       "220"
      ]
     },
     "execution_count": 57,
     "metadata": {},
     "output_type": "execute_result"
    }
   ],
   "source": [
    "#I suspect there is a whitespace after the r in one of them\n",
    "(merged_df['Change Since Last Week'].values == 'Lower ').sum()"
   ]
  },
  {
   "cell_type": "code",
   "execution_count": 58,
   "id": "274cc5da",
   "metadata": {},
   "outputs": [],
   "source": [
    "#confirmed 220 with whitespace, replacing.\n",
    "merged_df['Change Since Last Week'].replace('Lower ', 'Lower', inplace=True)"
   ]
  },
  {
   "cell_type": "code",
   "execution_count": 59,
   "id": "f4366369",
   "metadata": {},
   "outputs": [
    {
     "data": {
      "text/plain": [
       "Lower        1622\n",
       "Higher        953\n",
       "No Change     587\n",
       "Name: Change Since Last Week, dtype: int64"
      ]
     },
     "execution_count": 59,
     "metadata": {},
     "output_type": "execute_result"
    }
   ],
   "source": [
    "merged_df['Change Since Last Week'].value_counts()"
   ]
  },
  {
   "cell_type": "code",
   "execution_count": 60,
   "id": "73163b2c",
   "metadata": {},
   "outputs": [
    {
     "data": {
      "text/plain": [
       "0"
      ]
     },
     "execution_count": 60,
     "metadata": {},
     "output_type": "execute_result"
    }
   ],
   "source": [
    "(merged_df['Change Since Last Week'].values == 'Lower ').sum()"
   ]
  },
  {
   "cell_type": "code",
   "execution_count": 61,
   "id": "2c3777ec",
   "metadata": {},
   "outputs": [],
   "source": [
    "cleaned_df = merged_df.copy()"
   ]
  },
  {
   "cell_type": "code",
   "execution_count": 62,
   "id": "62f7be51",
   "metadata": {},
   "outputs": [
    {
     "data": {
      "text/plain": [
       "({'sampling_week': 0,\n",
       "  'normalized_concentration_rolling_average': 0,\n",
       "  'population': 0,\n",
       "  'per': 0,\n",
       "  'County': 0,\n",
       "  'City/Town': 0,\n",
       "  'Percent Positivity': 0,\n",
       "  'Change Since Last Week': 0,\n",
       "  'Report Date': 0},\n",
       " sampling_week                               0\n",
       " normalized_concentration_rolling_average    0\n",
       " population                                  0\n",
       " per                                         0\n",
       " County                                      0\n",
       " City/Town                                   0\n",
       " Percent Positivity                          0\n",
       " Change Since Last Week                      0\n",
       " Report Date                                 0\n",
       " dtype: int64)"
      ]
     },
     "execution_count": 62,
     "metadata": {},
     "output_type": "execute_result"
    }
   ],
   "source": [
    "blank_check(cleaned_df), cleaned_df.isnull().sum()"
   ]
  },
  {
   "cell_type": "markdown",
   "id": "dfee179f",
   "metadata": {},
   "source": [
    "## Note about this merged dataframe:\n",
    "1. I think this is considered an inner merge. Based on the 'per' and 'County' columns.\n",
    "2. Inner Join imputed the many features from the Mass_df to Biobot_MA.\n",
    "3. Ready for EDA 7.26.21 NS"
   ]
  },
  {
   "cell_type": "code",
   "execution_count": 63,
   "id": "d412f007",
   "metadata": {},
   "outputs": [
    {
     "data": {
      "text/plain": [
       "(       normalized_concentration_rolling_average\n",
       " count                               3162.000000\n",
       " mean                                 195.761188\n",
       " std                                  220.679590\n",
       " min                                    0.000000\n",
       " 25%                                   50.628972\n",
       " 50%                                  108.200214\n",
       " 75%                                  265.228983\n",
       " max                                 1548.370985,\n",
       " (3162, 9))"
      ]
     },
     "execution_count": 63,
     "metadata": {},
     "output_type": "execute_result"
    }
   ],
   "source": [
    "#Some summary statistics\n",
    "cleaned_df.describe(), cleaned_df.shape"
   ]
  },
  {
   "cell_type": "markdown",
   "id": "60f60ba0",
   "metadata": {},
   "source": [
    "### At every Unit submission, I will create a new pickle file."
   ]
  },
  {
   "cell_type": "code",
   "execution_count": 64,
   "id": "251d2725",
   "metadata": {},
   "outputs": [],
   "source": [
    "cleaned_df.to_pickle('Unit11EDA.pkl') #Created 7.27.21. Updated 8.11.21 NS"
   ]
  },
  {
   "cell_type": "markdown",
   "id": "190dddda",
   "metadata": {},
   "source": [
    "# Exploratory Data Analysis (Unit 11.5)"
   ]
  },
  {
   "cell_type": "markdown",
   "id": "2021fb27",
   "metadata": {},
   "source": [
    "### Goal from the rubric:\n",
    "1. Investigate every feature using histograms, bi-plots, or other visual and numeric means\n",
    "2. Pearson correlation coefficients and other statistical methods were used to ID statistical relationship strengths"
   ]
  },
  {
   "cell_type": "code",
   "execution_count": 75,
   "id": "f0596ddd",
   "metadata": {},
   "outputs": [],
   "source": [
    "with open('Unit11EDA.pkl', 'rb') as f:\n",
    "    df = pickle.load(f)"
   ]
  },
  {
   "cell_type": "code",
   "execution_count": 76,
   "id": "1b21d1a0",
   "metadata": {},
   "outputs": [
    {
     "name": "stdout",
     "output_type": "stream",
     "text": [
      "<class 'pandas.core.frame.DataFrame'>\n",
      "Int64Index: 3162 entries, 0 to 3161\n",
      "Data columns (total 9 columns):\n",
      " #   Column                                    Non-Null Count  Dtype         \n",
      "---  ------                                    --------------  -----         \n",
      " 0   sampling_week                             3162 non-null   object        \n",
      " 1   normalized_concentration_rolling_average  3162 non-null   float64       \n",
      " 2   population                                3162 non-null   object        \n",
      " 3   per                                       3162 non-null   period[W-MON] \n",
      " 4   County                                    3162 non-null   object        \n",
      " 5   City/Town                                 3162 non-null   object        \n",
      " 6   Percent Positivity                        3162 non-null   object        \n",
      " 7   Change Since Last Week                    3162 non-null   object        \n",
      " 8   Report Date                               3162 non-null   datetime64[ns]\n",
      "dtypes: datetime64[ns](1), float64(1), object(6), period[W-MON](1)\n",
      "memory usage: 247.0+ KB\n"
     ]
    }
   ],
   "source": [
    "df.info()"
   ]
  },
  {
   "cell_type": "markdown",
   "id": "b8dd4690",
   "metadata": {},
   "source": [
    "### The types of the features may be problematic when trying to run statistical analysis. Let's see what types they should be, and then do the proper vectorized conversion."
   ]
  },
  {
   "cell_type": "code",
   "execution_count": 77,
   "id": "01608ebc",
   "metadata": {},
   "outputs": [],
   "source": [
    "#As always, I use copy when doing any testing\n",
    "test = df.copy()"
   ]
  },
  {
   "cell_type": "code",
   "execution_count": 78,
   "id": "d7ec2731",
   "metadata": {},
   "outputs": [
    {
     "name": "stdout",
     "output_type": "stream",
     "text": [
      "<class 'pandas.core.frame.DataFrame'>\n",
      "Int64Index: 3162 entries, 0 to 3161\n",
      "Data columns (total 9 columns):\n",
      " #   Column                                    Non-Null Count  Dtype         \n",
      "---  ------                                    --------------  -----         \n",
      " 0   sampling_week                             3162 non-null   object        \n",
      " 1   normalized_concentration_rolling_average  3162 non-null   float64       \n",
      " 2   population                                3162 non-null   object        \n",
      " 3   per                                       3162 non-null   period[W-MON] \n",
      " 4   County                                    3162 non-null   object        \n",
      " 5   City/Town                                 3162 non-null   object        \n",
      " 6   Percent Positivity                        3162 non-null   object        \n",
      " 7   Change Since Last Week                    3162 non-null   object        \n",
      " 8   Report Date                               3162 non-null   datetime64[ns]\n",
      "dtypes: datetime64[ns](1), float64(1), object(6), period[W-MON](1)\n",
      "memory usage: 247.0+ KB\n"
     ]
    }
   ],
   "source": [
    "test.info()"
   ]
  },
  {
   "cell_type": "code",
   "execution_count": 79,
   "id": "c60ae136",
   "metadata": {},
   "outputs": [
    {
     "data": {
      "text/html": [
       "<div>\n",
       "<style scoped>\n",
       "    .dataframe tbody tr th:only-of-type {\n",
       "        vertical-align: middle;\n",
       "    }\n",
       "\n",
       "    .dataframe tbody tr th {\n",
       "        vertical-align: top;\n",
       "    }\n",
       "\n",
       "    .dataframe thead th {\n",
       "        text-align: right;\n",
       "    }\n",
       "</style>\n",
       "<table border=\"1\" class=\"dataframe\">\n",
       "  <thead>\n",
       "    <tr style=\"text-align: right;\">\n",
       "      <th></th>\n",
       "      <th>sampling_week</th>\n",
       "      <th>normalized_concentration_rolling_average</th>\n",
       "      <th>population</th>\n",
       "      <th>per</th>\n",
       "      <th>County</th>\n",
       "      <th>City/Town</th>\n",
       "      <th>Percent Positivity</th>\n",
       "      <th>Change Since Last Week</th>\n",
       "      <th>Report Date</th>\n",
       "    </tr>\n",
       "  </thead>\n",
       "  <tbody>\n",
       "    <tr>\n",
       "      <th>0</th>\n",
       "      <td>2020-12-23</td>\n",
       "      <td>420.042264</td>\n",
       "      <td>50000-100000</td>\n",
       "      <td>2020-12-22/2020-12-28</td>\n",
       "      <td>Berkshire</td>\n",
       "      <td>Adams</td>\n",
       "      <td>0.028758</td>\n",
       "      <td>Lower</td>\n",
       "      <td>2020-12-24</td>\n",
       "    </tr>\n",
       "    <tr>\n",
       "      <th>1</th>\n",
       "      <td>2020-12-23</td>\n",
       "      <td>420.042264</td>\n",
       "      <td>50000-100000</td>\n",
       "      <td>2020-12-22/2020-12-28</td>\n",
       "      <td>Berkshire</td>\n",
       "      <td>Alford</td>\n",
       "      <td>0</td>\n",
       "      <td>No Change</td>\n",
       "      <td>2020-12-24</td>\n",
       "    </tr>\n",
       "    <tr>\n",
       "      <th>2</th>\n",
       "      <td>2020-12-23</td>\n",
       "      <td>420.042264</td>\n",
       "      <td>50000-100000</td>\n",
       "      <td>2020-12-22/2020-12-28</td>\n",
       "      <td>Berkshire</td>\n",
       "      <td>Becket</td>\n",
       "      <td>0.04</td>\n",
       "      <td>Higher</td>\n",
       "      <td>2020-12-24</td>\n",
       "    </tr>\n",
       "    <tr>\n",
       "      <th>3</th>\n",
       "      <td>2020-12-23</td>\n",
       "      <td>420.042264</td>\n",
       "      <td>50000-100000</td>\n",
       "      <td>2020-12-22/2020-12-28</td>\n",
       "      <td>Berkshire</td>\n",
       "      <td>Cheshire</td>\n",
       "      <td>0.024055</td>\n",
       "      <td>Higher</td>\n",
       "      <td>2020-12-24</td>\n",
       "    </tr>\n",
       "    <tr>\n",
       "      <th>4</th>\n",
       "      <td>2020-12-23</td>\n",
       "      <td>420.042264</td>\n",
       "      <td>50000-100000</td>\n",
       "      <td>2020-12-22/2020-12-28</td>\n",
       "      <td>Berkshire</td>\n",
       "      <td>Clarksburg</td>\n",
       "      <td>0.010101</td>\n",
       "      <td>Lower</td>\n",
       "      <td>2020-12-24</td>\n",
       "    </tr>\n",
       "  </tbody>\n",
       "</table>\n",
       "</div>"
      ],
      "text/plain": [
       "  sampling_week  normalized_concentration_rolling_average    population  \\\n",
       "0    2020-12-23                                420.042264  50000-100000   \n",
       "1    2020-12-23                                420.042264  50000-100000   \n",
       "2    2020-12-23                                420.042264  50000-100000   \n",
       "3    2020-12-23                                420.042264  50000-100000   \n",
       "4    2020-12-23                                420.042264  50000-100000   \n",
       "\n",
       "                     per     County   City/Town Percent Positivity  \\\n",
       "0  2020-12-22/2020-12-28  Berkshire       Adams           0.028758   \n",
       "1  2020-12-22/2020-12-28  Berkshire      Alford                  0   \n",
       "2  2020-12-22/2020-12-28  Berkshire      Becket               0.04   \n",
       "3  2020-12-22/2020-12-28  Berkshire    Cheshire           0.024055   \n",
       "4  2020-12-22/2020-12-28  Berkshire  Clarksburg           0.010101   \n",
       "\n",
       "  Change Since Last Week Report Date  \n",
       "0                  Lower  2020-12-24  \n",
       "1              No Change  2020-12-24  \n",
       "2                 Higher  2020-12-24  \n",
       "3                 Higher  2020-12-24  \n",
       "4                  Lower  2020-12-24  "
      ]
     },
     "execution_count": 79,
     "metadata": {},
     "output_type": "execute_result"
    }
   ],
   "source": [
    "test.head()"
   ]
  },
  {
   "cell_type": "code",
   "execution_count": 70,
   "id": "735ac68a",
   "metadata": {},
   "outputs": [
    {
     "data": {
      "text/html": [
       "<div>\n",
       "<style scoped>\n",
       "    .dataframe tbody tr th:only-of-type {\n",
       "        vertical-align: middle;\n",
       "    }\n",
       "\n",
       "    .dataframe tbody tr th {\n",
       "        vertical-align: top;\n",
       "    }\n",
       "\n",
       "    .dataframe thead th {\n",
       "        text-align: right;\n",
       "    }\n",
       "</style>\n",
       "<table border=\"1\" class=\"dataframe\">\n",
       "  <thead>\n",
       "    <tr style=\"text-align: right;\">\n",
       "      <th></th>\n",
       "      <th>sampling_week</th>\n",
       "      <th>normalized_concentration_rolling_average</th>\n",
       "      <th>population</th>\n",
       "      <th>per</th>\n",
       "      <th>County</th>\n",
       "      <th>City/Town</th>\n",
       "      <th>Percent Positivity</th>\n",
       "      <th>Change Since Last Week</th>\n",
       "      <th>Report Date</th>\n",
       "    </tr>\n",
       "  </thead>\n",
       "  <tbody>\n",
       "    <tr>\n",
       "      <th>3157</th>\n",
       "      <td>2021-06-02</td>\n",
       "      <td>28.980287</td>\n",
       "      <td>2000000-5000000</td>\n",
       "      <td>2021-06-01/2021-06-07</td>\n",
       "      <td>Suffolk</td>\n",
       "      <td>Winthrop</td>\n",
       "      <td>0.007618</td>\n",
       "      <td>Lower</td>\n",
       "      <td>2021-06-03</td>\n",
       "    </tr>\n",
       "    <tr>\n",
       "      <th>3158</th>\n",
       "      <td>2021-06-09</td>\n",
       "      <td>26.426384</td>\n",
       "      <td>2000000-5000000</td>\n",
       "      <td>2021-06-08/2021-06-14</td>\n",
       "      <td>Suffolk</td>\n",
       "      <td>Boston</td>\n",
       "      <td>0.004727</td>\n",
       "      <td>No Change</td>\n",
       "      <td>2021-06-10</td>\n",
       "    </tr>\n",
       "    <tr>\n",
       "      <th>3159</th>\n",
       "      <td>2021-06-09</td>\n",
       "      <td>26.426384</td>\n",
       "      <td>2000000-5000000</td>\n",
       "      <td>2021-06-08/2021-06-14</td>\n",
       "      <td>Suffolk</td>\n",
       "      <td>Chelsea</td>\n",
       "      <td>0.008971</td>\n",
       "      <td>Lower</td>\n",
       "      <td>2021-06-10</td>\n",
       "    </tr>\n",
       "    <tr>\n",
       "      <th>3160</th>\n",
       "      <td>2021-06-09</td>\n",
       "      <td>26.426384</td>\n",
       "      <td>2000000-5000000</td>\n",
       "      <td>2021-06-08/2021-06-14</td>\n",
       "      <td>Suffolk</td>\n",
       "      <td>Revere</td>\n",
       "      <td>0.009459</td>\n",
       "      <td>Lower</td>\n",
       "      <td>2021-06-10</td>\n",
       "    </tr>\n",
       "    <tr>\n",
       "      <th>3161</th>\n",
       "      <td>2021-06-09</td>\n",
       "      <td>26.426384</td>\n",
       "      <td>2000000-5000000</td>\n",
       "      <td>2021-06-08/2021-06-14</td>\n",
       "      <td>Suffolk</td>\n",
       "      <td>Winthrop</td>\n",
       "      <td>0.00624</td>\n",
       "      <td>Lower</td>\n",
       "      <td>2021-06-10</td>\n",
       "    </tr>\n",
       "  </tbody>\n",
       "</table>\n",
       "</div>"
      ],
      "text/plain": [
       "     sampling_week  normalized_concentration_rolling_average       population  \\\n",
       "3157    2021-06-02                                 28.980287  2000000-5000000   \n",
       "3158    2021-06-09                                 26.426384  2000000-5000000   \n",
       "3159    2021-06-09                                 26.426384  2000000-5000000   \n",
       "3160    2021-06-09                                 26.426384  2000000-5000000   \n",
       "3161    2021-06-09                                 26.426384  2000000-5000000   \n",
       "\n",
       "                        per   County City/Town Percent Positivity  \\\n",
       "3157  2021-06-01/2021-06-07  Suffolk  Winthrop           0.007618   \n",
       "3158  2021-06-08/2021-06-14  Suffolk    Boston           0.004727   \n",
       "3159  2021-06-08/2021-06-14  Suffolk   Chelsea           0.008971   \n",
       "3160  2021-06-08/2021-06-14  Suffolk    Revere           0.009459   \n",
       "3161  2021-06-08/2021-06-14  Suffolk  Winthrop            0.00624   \n",
       "\n",
       "     Change Since Last Week Report Date  \n",
       "3157                  Lower  2021-06-03  \n",
       "3158              No Change  2021-06-10  \n",
       "3159                  Lower  2021-06-10  \n",
       "3160                  Lower  2021-06-10  \n",
       "3161                  Lower  2021-06-10  "
      ]
     },
     "execution_count": 70,
     "metadata": {},
     "output_type": "execute_result"
    }
   ],
   "source": [
    "test.tail()"
   ]
  },
  {
   "cell_type": "code",
   "execution_count": 71,
   "id": "0f2b8312",
   "metadata": {},
   "outputs": [],
   "source": [
    "#I should not change that name\n",
    "#I really hate typing out the 'normalized_concentration_rolling_average'\n",
    "#test['avg_concentration'] = test['normalized_concentration_rolling_average']\n",
    "#test.drop(columns='normalized_concentration_rolling_average', inplace=True)\n",
    "\n",
    "#df['avg_concentration'] = df['normalized_concentration_rolling_average']\n",
    "#df.drop(columns='normalized_concentration_rolling_average', inplace=True)"
   ]
  },
  {
   "cell_type": "code",
   "execution_count": null,
   "id": "bf1b4e0c",
   "metadata": {},
   "outputs": [],
   "source": [
    "test.info()"
   ]
  },
  {
   "cell_type": "markdown",
   "id": "503fc40a",
   "metadata": {},
   "source": [
    "### Here's how I think they should be converted\n",
    "1. Category = ['population', 'County', 'City/Town', 'Change Since Last Week']\n",
    "2. Float64 = ['avg_concentration', 'Percent Positivity']\n",
    "3. Datetime = ['sampling_week', 'Report Date']\n",
    "\n",
    "Will create a unit test first."
   ]
  },
  {
   "cell_type": "code",
   "execution_count": 80,
   "id": "25ed1842",
   "metadata": {},
   "outputs": [],
   "source": [
    "\n",
    "category_list = ['population', 'County', 'City/Town', 'Change Since Last Week']\n",
    "\n",
    "float64_list = ['normalized_concentration_rolling_average', 'Percent Positivity']\n",
    "\n",
    "datetime_list = ['sampling_week']\n",
    "\n",
    "conversion_list = [datetime_list, category_list, float64_list]"
   ]
  },
  {
   "cell_type": "code",
   "execution_count": 81,
   "id": "f3fb1f17",
   "metadata": {},
   "outputs": [
    {
     "name": "stdout",
     "output_type": "stream",
     "text": [
      "['sampling_week']\n",
      "Will convert these to datetime:  sampling_week\n",
      "['population', 'County', 'City/Town', 'Change Since Last Week']\n",
      "Will convert these to category:  population\n",
      "Will convert these to category:  County\n",
      "Will convert these to category:  City/Town\n",
      "Will convert these to category:  Change Since Last Week\n",
      "['normalized_concentration_rolling_average', 'Percent Positivity']\n",
      "Will convert these to float64:  normalized_concentration_rolling_average\n",
      "Will convert these to float64:  Percent Positivity\n"
     ]
    }
   ],
   "source": [
    "#Unit testing my conversion loop logic\n",
    "for list in conversion_list:\n",
    "    print(list)\n",
    "    for col in list:\n",
    "        if col in datetime_list:\n",
    "            print('Will convert these to datetime: ', col)\n",
    "        if col in category_list:\n",
    "            print('Will convert these to category: ',col)\n",
    "        if col in float64_list:\n",
    "            print('Will convert these to float64: ', col)"
   ]
  },
  {
   "cell_type": "code",
   "execution_count": 82,
   "id": "b4bb7b62",
   "metadata": {},
   "outputs": [],
   "source": [
    "for list in conversion_list:\n",
    "    for col in list:\n",
    "        if col in datetime_list:\n",
    "            test[col] = pd.to_datetime(test[col], infer_datetime_format=True)\n",
    "            #print('These should be converted to int64: ', col)\n",
    "        if col in category_list:\n",
    "            test[col] = test[col].astype('category')\n",
    "            #print('These should be converted to categories: ', col)\n",
    "        if col in float64_list:\n",
    "            test[col] = test[col].astype('float64')\n",
    "            #print('These should be converted to float64: ', col)\n"
   ]
  },
  {
   "cell_type": "code",
   "execution_count": 83,
   "id": "44ff58d8",
   "metadata": {},
   "outputs": [
    {
     "name": "stdout",
     "output_type": "stream",
     "text": [
      "<class 'pandas.core.frame.DataFrame'>\n",
      "Int64Index: 3162 entries, 0 to 3161\n",
      "Data columns (total 9 columns):\n",
      " #   Column                                    Non-Null Count  Dtype         \n",
      "---  ------                                    --------------  -----         \n",
      " 0   sampling_week                             3162 non-null   datetime64[ns]\n",
      " 1   normalized_concentration_rolling_average  3162 non-null   float64       \n",
      " 2   population                                3162 non-null   category      \n",
      " 3   per                                       3162 non-null   period[W-MON] \n",
      " 4   County                                    3162 non-null   category      \n",
      " 5   City/Town                                 3162 non-null   category      \n",
      " 6   Percent Positivity                        3162 non-null   float64       \n",
      " 7   Change Since Last Week                    3162 non-null   category      \n",
      " 8   Report Date                               3162 non-null   datetime64[ns]\n",
      "dtypes: category(4), datetime64[ns](2), float64(2), period[W-MON](1)\n",
      "memory usage: 169.4 KB\n"
     ]
    }
   ],
   "source": [
    "test.info()"
   ]
  },
  {
   "cell_type": "markdown",
   "id": "38784ea1",
   "metadata": {},
   "source": [
    "### Conversion unit test passes, convert all features in df"
   ]
  },
  {
   "cell_type": "code",
   "execution_count": 84,
   "id": "4850cefa",
   "metadata": {},
   "outputs": [],
   "source": [
    "def conversion(df, conversion_list):\n",
    "    '''Method to convert my features into their appropriate datatypes'''\n",
    "    for list in conversion_list:\n",
    "        for col in list:\n",
    "            if col in datetime_list:\n",
    "                df[col] = pd.to_datetime(test[col], infer_datetime_format=True)\n",
    "            if col in category_list:\n",
    "                df[col] = df[col].astype('category')\n",
    "            if col in float64_list:\n",
    "                df[col] = df[col].astype('float64')"
   ]
  },
  {
   "cell_type": "code",
   "execution_count": 85,
   "id": "5de0282c",
   "metadata": {},
   "outputs": [
    {
     "name": "stdout",
     "output_type": "stream",
     "text": [
      "<class 'pandas.core.frame.DataFrame'>\n",
      "Int64Index: 3162 entries, 0 to 3161\n",
      "Data columns (total 9 columns):\n",
      " #   Column                                    Non-Null Count  Dtype         \n",
      "---  ------                                    --------------  -----         \n",
      " 0   sampling_week                             3162 non-null   object        \n",
      " 1   normalized_concentration_rolling_average  3162 non-null   float64       \n",
      " 2   population                                3162 non-null   object        \n",
      " 3   per                                       3162 non-null   period[W-MON] \n",
      " 4   County                                    3162 non-null   object        \n",
      " 5   City/Town                                 3162 non-null   object        \n",
      " 6   Percent Positivity                        3162 non-null   object        \n",
      " 7   Change Since Last Week                    3162 non-null   object        \n",
      " 8   Report Date                               3162 non-null   datetime64[ns]\n",
      "dtypes: datetime64[ns](1), float64(1), object(6), period[W-MON](1)\n",
      "memory usage: 247.0+ KB\n"
     ]
    }
   ],
   "source": [
    "#Pre-conversion\n",
    "df.info()"
   ]
  },
  {
   "cell_type": "code",
   "execution_count": 86,
   "id": "079d40f1",
   "metadata": {},
   "outputs": [],
   "source": [
    "conversion(df, conversion_list)"
   ]
  },
  {
   "cell_type": "code",
   "execution_count": 87,
   "id": "6e7b3d72",
   "metadata": {},
   "outputs": [
    {
     "name": "stdout",
     "output_type": "stream",
     "text": [
      "<class 'pandas.core.frame.DataFrame'>\n",
      "Int64Index: 3162 entries, 0 to 3161\n",
      "Data columns (total 9 columns):\n",
      " #   Column                                    Non-Null Count  Dtype         \n",
      "---  ------                                    --------------  -----         \n",
      " 0   sampling_week                             3162 non-null   datetime64[ns]\n",
      " 1   normalized_concentration_rolling_average  3162 non-null   float64       \n",
      " 2   population                                3162 non-null   category      \n",
      " 3   per                                       3162 non-null   period[W-MON] \n",
      " 4   County                                    3162 non-null   category      \n",
      " 5   City/Town                                 3162 non-null   category      \n",
      " 6   Percent Positivity                        3162 non-null   float64       \n",
      " 7   Change Since Last Week                    3162 non-null   category      \n",
      " 8   Report Date                               3162 non-null   datetime64[ns]\n",
      "dtypes: category(4), datetime64[ns](2), float64(2), period[W-MON](1)\n",
      "memory usage: 169.4 KB\n"
     ]
    }
   ],
   "source": [
    "#Post-conversion\n",
    "df.info()"
   ]
  },
  {
   "cell_type": "markdown",
   "id": "9dc06f07",
   "metadata": {},
   "source": [
    "### Dtypes have been converted to the intended type, let's do some Exploratory Data Analysis!"
   ]
  },
  {
   "cell_type": "markdown",
   "id": "2f122dbe",
   "metadata": {},
   "source": [
    "It's always a good idea to get a sense of the data's distribution.\n",
    "Here's what I'm interested in:\n",
    "1. avg_concentration - float64\n",
    "2. Change Since Last Week - categorical\n",
    "3. Percent Positivity - float64"
   ]
  },
  {
   "cell_type": "code",
   "execution_count": 88,
   "id": "b1f1b7a5",
   "metadata": {},
   "outputs": [
    {
     "name": "stderr",
     "output_type": "stream",
     "text": [
      "C:\\Users\\Aim\\anaconda3\\lib\\site-packages\\seaborn\\distributions.py:2557: FutureWarning: `distplot` is a deprecated function and will be removed in a future version. Please adapt your code to use either `displot` (a figure-level function with similar flexibility) or `histplot` (an axes-level function for histograms).\n",
      "  warnings.warn(msg, FutureWarning)\n"
     ]
    },
    {
     "data": {
      "text/plain": [
       "Text(0.5, 1.0, 'normalized_concentration_rolling_average Distribution')"
      ]
     },
     "execution_count": 88,
     "metadata": {},
     "output_type": "execute_result"
    },
    {
     "data": {
      "image/png": "[encoded data removed]",
      "text/plain": [
       "<Figure size 432x288 with 1 Axes>"
      ]
     },
     "metadata": {
      "needs_background": "light"
     },
     "output_type": "display_data"
    }
   ],
   "source": [
    "#This is NOT a normal distribution. Uh-oh...\n",
    "sns.distplot(df.normalized_concentration_rolling_average)\n",
    "plt.xlabel('Normalized Rolling Average Concentration of Covid-19 mRNA found in wastewater')\n",
    "plt.title('normalized_concentration_rolling_average Distribution')"
   ]
  },
  {
   "cell_type": "code",
   "execution_count": 89,
   "id": "1971873f",
   "metadata": {},
   "outputs": [
    {
     "data": {
      "text/plain": [
       "<seaborn.axisgrid.FacetGrid at 0x215d37e59a0>"
      ]
     },
     "execution_count": 89,
     "metadata": {},
     "output_type": "execute_result"
    },
    {
     "data": {
      "image/png": "[encoded data removed]",
      "text/plain": [
       "<Figure size 360x360 with 1 Axes>"
      ]
     },
     "metadata": {
      "needs_background": "light"
     },
     "output_type": "display_data"
    }
   ],
   "source": [
    "#setting a threshold of less than 700 to see if I can yield a more normal dist\n",
    "data = [x for x in df.normalized_concentration_rolling_average if x <700]\n",
    "sns.displot(data)"
   ]
  },
  {
   "cell_type": "markdown",
   "id": "3b64a899",
   "metadata": {},
   "source": [
    "### Setting a threshold did not change the nature of the distribution. Needs work (in preprocessing)"
   ]
  },
  {
   "cell_type": "code",
   "execution_count": null,
   "id": "a11b3802",
   "metadata": {},
   "outputs": [],
   "source": []
  },
  {
   "cell_type": "code",
   "execution_count": null,
   "id": "e6098e5a",
   "metadata": {},
   "outputs": [],
   "source": [
    "#Move to pre-processing\n",
    "#transforming avg_concentration to be more Gaussian by using Box-Cox\n",
    "import scipy.stats as stats\n",
    "df2 = pd.DataFrame(df.loc[~(df.avg_concentration == 0)]) #filter out for zeroes\n",
    "data = stats.boxcox(df2.avg_concentration)\n",
    "df2['boxcox'] = data[0]\n",
    "\n",
    "#plotting boxcox transformation of avg_concentration\n",
    "sns.displot(data=df2, x=df2.boxcox)\n",
    "plt.xlabel('Count')\n",
    "plt.ylabel('avg_concentration')\n",
    "plt.title('Box-Cox Power Transformed avg_concentration')"
   ]
  },
  {
   "cell_type": "code",
   "execution_count": null,
   "id": "a4283739",
   "metadata": {},
   "outputs": [],
   "source": [
    "#BoxCox could not process non-positivie (including zeroes).\n",
    "#Yeo-Johnson may be a better transformation as there are no negative numbers\n",
    "data = stats.yeojohnson(df.avg_concentration) #note this wasn't sliced for non-zero\n",
    "df3 = df.copy()\n",
    "df3['yeo'] = data[0]\n",
    "sns.displot(data=df3, x=df3.yeo)\n",
    "plt.ylabel('avg_concentration')\n",
    "plt.xlabel('Count')\n",
    "plt.title('Yeo-Johnson Power Transformed of avg_concentration')"
   ]
  },
  {
   "cell_type": "code",
   "execution_count": null,
   "id": "7e41326f",
   "metadata": {},
   "outputs": [],
   "source": [
    "df2.yeo.max()"
   ]
  },
  {
   "cell_type": "code",
   "execution_count": null,
   "id": "a3851981",
   "metadata": {},
   "outputs": [],
   "source": [
    "#move to preprocessing\n",
    "#checking whether the corr coefficients of transformed do better\n",
    "df3.drop(columns=['population', 'County', 'City/Town'], inplace=True)\n",
    "test = pd.get_dummies(df3)\n",
    "test.corr()"
   ]
  },
  {
   "cell_type": "code",
   "execution_count": null,
   "id": "48808606",
   "metadata": {},
   "outputs": [],
   "source": [
    "#The yeo-johnson transformed avg_concentration yields a better corr coefficient than boxcox\n",
    "test.drop('boxcox', axis=1, inplace=True)"
   ]
  },
  {
   "cell_type": "code",
   "execution_count": 90,
   "id": "e572527e",
   "metadata": {},
   "outputs": [
    {
     "data": {
      "text/plain": [
       "Text(0.5, 1.0, 'Percent Positivity Distribution')"
      ]
     },
     "execution_count": 90,
     "metadata": {},
     "output_type": "execute_result"
    },
    {
     "data": {
      "image/png": "[encoded data removed]",
      "text/plain": [
       "<Figure size 360x360 with 1 Axes>"
      ]
     },
     "metadata": {
      "needs_background": "light"
     },
     "output_type": "display_data"
    }
   ],
   "source": [
    "sns.displot(data=df, x='Percent Positivity')\n",
    "plt.xlabel('Percent Positivity')\n",
    "plt.title('Percent Positivity Distribution')"
   ]
  },
  {
   "cell_type": "code",
   "execution_count": 91,
   "id": "910b031e",
   "metadata": {},
   "outputs": [
    {
     "data": {
      "text/plain": [
       "count    3162.000000\n",
       "mean        0.030726\n",
       "std         0.031663\n",
       "min         0.000000\n",
       "25%         0.010101\n",
       "50%         0.023529\n",
       "75%         0.041790\n",
       "max         0.555556\n",
       "Name: Percent Positivity, dtype: float64"
      ]
     },
     "execution_count": 91,
     "metadata": {},
     "output_type": "execute_result"
    }
   ],
   "source": [
    "#Percent positivity distribution is not normal. May need to pre-process.\n",
    "#possible transform ideas:\n",
    "#1. Box Cox\n",
    "#2. Yeo-Johnson\n",
    "\n",
    "#There is a min val of 0, Box-Cox may not work on it\n",
    "df['Percent Positivity'].describe()"
   ]
  },
  {
   "cell_type": "code",
   "execution_count": null,
   "id": "5d778a2a",
   "metadata": {},
   "outputs": [],
   "source": [
    "#move to pre-processing\n",
    "\n",
    "data = stats.yeojohnson(df['Percent Positivity'])\n",
    "df4 = df3.copy()\n",
    "df4['PP-Yeo'] = data[0]\n",
    "sns.displot(data=df4, x='PP-Yeo')\n",
    "plt.xlabel('Yeo-Johnson Percent Positivity')\n",
    "plt.title('Yeo-Johnson Transformation of Percent Positivity')\n",
    "df4[['yeo', 'PP-Yeo','avg_concentration']].corr()"
   ]
  },
  {
   "cell_type": "code",
   "execution_count": null,
   "id": "8e4c1ed8",
   "metadata": {},
   "outputs": [],
   "source": [
    "#move to modelling\n",
    "#Using autocorrelation (because this is a time series!) to see if yeo-transformed avg_concentration \n",
    "#can forecast.\n",
    "#trying to see a pattern to see least amount of days needed to forecast\n",
    "#iterating through a week with 1 through 6 lagged days to forecast\n",
    "\n",
    "\n",
    "#unpacking ax into an [3, 2] array to be called later in .plot_acf() \n",
    "import statsmodels.api as sm\n",
    "import statsmodels.graphics.tsaplots as tsaplots\n",
    "fig, [[ax1, ax2], [ax3, ax4], [ax5, ax6]] = plt.subplots(nrows=3, ncols=2, \n",
    "                                                         sharex=True, sharey=True,\n",
    "                                                         figsize=(21,9))\n",
    "axList = [ax1, ax2, ax3, ax4, ax5, ax6]\n",
    "\n",
    "for x in range(1,7):\n",
    "    ac=sm.tsa.acf(df4.yeo, nlags=x, fft=True)\n",
    "    y = x-1\n",
    "    tsaplots.plot_acf(ac, ax=axList[y])\n",
    "plt.tight_layout()\n",
    "plt.show()\n",
    "\n",
    "#maybe 6 days needed? Will need a windowing function. Perhaps a weighted one."
   ]
  },
  {
   "cell_type": "code",
   "execution_count": null,
   "id": "bdc46ed9",
   "metadata": {},
   "outputs": [],
   "source": [
    "#Move to modelling\n",
    "#Using autocorrelation (because this is a time series!) to see if yeo-transformed Percentage Positivity can forecast\n",
    "ac = sm.tsa.acf(df4['PP-Yeo'], nlags=21, fft=False)\n",
    "fig = tsaplots.plot_acf(ac)\n",
    "plt.show()"
   ]
  },
  {
   "cell_type": "code",
   "execution_count": null,
   "id": "b1b5374a",
   "metadata": {},
   "outputs": [],
   "source": [
    "#move to modelling\n",
    "dummies = pd.get_dummies(df['Change Since Last Week'], prefix='Since Last Week')\n",
    "#period = pd.Series(df.per)\n",
    "#date = pd.Series(df['Report Date'])\n",
    "#dummy_df = pd.DataFrame([date, period, dummies])\n",
    "dummy_df = pd.DataFrame(dummies.merge(df['Report Date'], left_index=True, right_index=True))"
   ]
  },
  {
   "cell_type": "code",
   "execution_count": null,
   "id": "0ae75e9c",
   "metadata": {},
   "outputs": [],
   "source": [
    "#move to modelling\n",
    "ac = sm.tsa.acf(dummy_df['Since Last Week_Higher'], nlags=14, fft=False)\n",
    "fig = tsaplots.plot_acf(ac)\n",
    "plt.show()"
   ]
  },
  {
   "cell_type": "code",
   "execution_count": 93,
   "id": "9d281adb",
   "metadata": {},
   "outputs": [
    {
     "data": {
      "text/plain": [
       "<AxesSubplot:xlabel='Change Since Last Week', ylabel='normalized_concentration_rolling_average'>"
      ]
     },
     "execution_count": 93,
     "metadata": {},
     "output_type": "execute_result"
    },
    {
     "data": {
      "image/png": "[encoded data removed]",
      "text/plain": [
       "<Figure size 432x288 with 1 Axes>"
      ]
     },
     "metadata": {
      "needs_background": "light"
     },
     "output_type": "display_data"
    }
   ],
   "source": [
    "sns.barplot(data = df, x='Change Since Last Week', y=df.normalized_concentration_rolling_average)"
   ]
  },
  {
   "cell_type": "markdown",
   "id": "fc77b464",
   "metadata": {},
   "source": [
    "### Distribution takeaways:\n",
    "1. Concentration and Positivity are not uniform, shows skewedness\n",
    "2. In Change Since the majority of the datapoints are 'lower'\n",
    "3. in Change Since, the 'Higher' category seems to have the higher avg_concentration values\n",
    "\n",
    "Let's explore any correlation gained from this insight."
   ]
  },
  {
   "cell_type": "code",
   "execution_count": null,
   "id": "8570c841",
   "metadata": {},
   "outputs": [],
   "source": [
    "#I need to drop some features or my system won't be able to process the dummy variables for the .corr()\n",
    "\n",
    "#Why did I think I needed to drop these features?\n",
    "test = pd.DataFrame(df.drop(columns=['City/Town', 'County', 'population']))\n",
    "#test = df.copy()\n",
    "\n",
    "#test = pd.DataFrame(df.drop(columns=['population']))"
   ]
  },
  {
   "cell_type": "code",
   "execution_count": null,
   "id": "4cfc3b3d",
   "metadata": {},
   "outputs": [],
   "source": [
    "#I know dummies should be reserved to pre-processing but I couldn't help myself\n",
    "test = pd.get_dummies(test)"
   ]
  },
  {
   "cell_type": "code",
   "execution_count": null,
   "id": "e28f7f3c",
   "metadata": {},
   "outputs": [],
   "source": [
    "plt.figure(figsize = (21,9))\n",
    "sns.heatmap(test.corr(), annot=True)"
   ]
  },
  {
   "cell_type": "markdown",
   "id": "7bd3a15c",
   "metadata": {},
   "source": [
    "The heatmap is a great visual tool, as it looks at all the non-categorical data, and with the right parameters even annotates their Pearson r value."
   ]
  },
  {
   "cell_type": "code",
   "execution_count": null,
   "id": "9c38ddc3",
   "metadata": {},
   "outputs": [],
   "source": [
    "#If I didn't want that great visualization...\n",
    "test.corr()"
   ]
  },
  {
   "cell_type": "markdown",
   "id": "6b65eba7",
   "metadata": {},
   "source": [
    "There is a mild correlation (0.446349) between avg_concentration and Percent Positivity. \n",
    "\n",
    "There is a weak correlation (0.197764) between avg_concentration and a Higher Change Since Last Week"
   ]
  },
  {
   "cell_type": "markdown",
   "id": "04b3ee4c",
   "metadata": {},
   "source": [
    "### Using graphs can be a powerful tool to gain insight into the relationship between features."
   ]
  },
  {
   "cell_type": "code",
   "execution_count": 94,
   "id": "68ffb896",
   "metadata": {},
   "outputs": [
    {
     "data": {
      "text/plain": [
       "Text(0.5, 1.0, 'Percent Positivity of the Surveiled Counties')"
      ]
     },
     "execution_count": 94,
     "metadata": {},
     "output_type": "execute_result"
    },
    {
     "data": {
      "image/png": "[encoded data removed]",
      "text/plain": [
       "<Figure size 1152x648 with 1 Axes>"
      ]
     },
     "metadata": {
      "needs_background": "light"
     },
     "output_type": "display_data"
    }
   ],
   "source": [
    "plt.figure(figsize=(16,9))\n",
    "sns.lineplot(y='Percent Positivity', x=df['Report Date'], data=df, hue='County', ax=None, ci=None)\n",
    "plt.title('Percent Positivity of the Surveiled Counties')"
   ]
  },
  {
   "cell_type": "markdown",
   "id": "9f2806fc",
   "metadata": {},
   "source": [
    "Some subject matter understanding of the vaccination rollouts will explain the downward trend in early 2021, and the vaccine hesitancy and resistance coupled with variants being introduced could explain the upward trends seen after March 2021."
   ]
  },
  {
   "cell_type": "code",
   "execution_count": 95,
   "id": "b3f59b31",
   "metadata": {},
   "outputs": [
    {
     "data": {
      "text/plain": [
       "Text(0.5, 1.0, 'Normalized Concentration of Rolling Average of Covid-19 mRNA found in Wastewater')"
      ]
     },
     "execution_count": 95,
     "metadata": {},
     "output_type": "execute_result"
    },
    {
     "data": {
      "image/png": "[encoded data removed]",
      "text/plain": [
       "<Figure size 1152x648 with 1 Axes>"
      ]
     },
     "metadata": {
      "needs_background": "light"
     },
     "output_type": "display_data"
    }
   ],
   "source": [
    "plt.figure(figsize=(16,9))\n",
    "sns.lineplot(y='normalized_concentration_rolling_average', x=df['Report Date'], data=df)\n",
    "plt.title('Normalized Concentration of Rolling Average of Covid-19 mRNA found in Wastewater')"
   ]
  },
  {
   "cell_type": "code",
   "execution_count": 103,
   "id": "ffc107ea",
   "metadata": {},
   "outputs": [
    {
     "data": {
      "image/png": "[encoded data removed]",
      "text/plain": [
       "<Figure size 720x720 with 2 Axes>"
      ]
     },
     "metadata": {
      "needs_background": "light"
     },
     "output_type": "display_data"
    }
   ],
   "source": [
    "fig, [ax1, ax2] = plt.subplots(2, 1, figsize=(10,10))\n",
    "sns.lineplot(data=df, x=df['Report Date'], y='normalized_concentration_rolling_average', hue='County', ax=ax1)\n",
    "ax1.set_title('Average Concentration of Covid-19 mRNA surveilled by Biobot in six MA counties')\n",
    "                               \n",
    "sns.lineplot(y='Percent Positivity', x=df['Report Date'], data=df, hue='County', ax=ax2, ci=None)\n",
    "ax2.set_title('Percent Positivity of the Surveiled Counties')\n",
    "\n",
    "plt.tight_layout()\n",
    "plt.show()"
   ]
  },
  {
   "cell_type": "markdown",
   "id": "6f97e322",
   "metadata": {},
   "source": [
    "### Insight: \n",
    "1. Both are showing trends\n",
    "2. "
   ]
  },
  {
   "cell_type": "code",
   "execution_count": null,
   "id": "ade0a24d",
   "metadata": {},
   "outputs": [],
   "source": [
    "plt.figure(figsize=(16,9))\n",
    "sns.scatterplot(data = df, x=df['Percent Positivity'], y=df.avg_concentration)\n",
    "sns.regplot(data = df, x=df['Percent Positivity'], y=df.avg_concentration)\n",
    "plt.title('Percent Positivity and MWRA Concentration Scatter Plot')\n",
    "df.avg_concentration.corr(df['Percent Positivity']).round(5)"
   ]
  },
  {
   "cell_type": "code",
   "execution_count": null,
   "id": "4d8cab77",
   "metadata": {},
   "outputs": [],
   "source": [
    "test = df.copy()"
   ]
  },
  {
   "cell_type": "markdown",
   "id": "0e712cab",
   "metadata": {},
   "source": [
    "#### Adding a column that shows the percent change of the average concentration from last week"
   ]
  },
  {
   "cell_type": "code",
   "execution_count": null,
   "id": "54c4f02e",
   "metadata": {},
   "outputs": [],
   "source": [
    "test['concentration_pct_change'] = test.avg_concentration.pct_change(periods=1)*100"
   ]
  },
  {
   "cell_type": "code",
   "execution_count": null,
   "id": "6ba8bbc8",
   "metadata": {},
   "outputs": [],
   "source": [
    "test.loc[test['County']=='Nantucket', ['Report Date', \n",
    "                                      'Change Since Last Week', \n",
    "                                      'Percent Positivity', \n",
    "                                      'avg_concentration', \n",
    "                                      'concentration_pct_change']]"
   ]
  },
  {
   "cell_type": "markdown",
   "id": "54a201e4",
   "metadata": {},
   "source": [
    "### I had a hunch. Could I see more patterns in the data if...\n",
    "1. I grouped it by county/city\n",
    "2. Look at it as a time series"
   ]
  },
  {
   "cell_type": "code",
   "execution_count": null,
   "id": "4220d303",
   "metadata": {},
   "outputs": [],
   "source": [
    "slice = ['County', 'City/Town', 'population',\n",
    "         'Report Date', 'Change Since Last Week', \n",
    "         'Percent Positivity', 'avg_concentration', \n",
    "         'concentration_pct_change']\n",
    "hunch = pd.DataFrame(test[slice])\n"
   ]
  },
  {
   "cell_type": "code",
   "execution_count": null,
   "id": "61372da5",
   "metadata": {},
   "outputs": [],
   "source": [
    "hunch.info()"
   ]
  },
  {
   "cell_type": "code",
   "execution_count": null,
   "id": "60663a3b",
   "metadata": {},
   "outputs": [],
   "source": [
    "hunch.set_index('Report Date', drop=True, inplace=True)\n",
    "hunch.sort_index()"
   ]
  },
  {
   "cell_type": "code",
   "execution_count": null,
   "id": "4267755a",
   "metadata": {},
   "outputs": [],
   "source": [
    "#how many are null values\n",
    "print('Np.nan\\n', hunch.loc[hunch.values== np.nan].sum())\n",
    "\n",
    "\n",
    "#how many have inf values\n",
    "print('\\nNp.inf\\n', hunch.loc[hunch.values== np.inf].sum())"
   ]
  },
  {
   "cell_type": "markdown",
   "id": "3d7c637f",
   "metadata": {},
   "source": [
    "#### Some observation has a negative infinity in their features.\n",
    "Locate."
   ]
  },
  {
   "cell_type": "code",
   "execution_count": null,
   "id": "ea2e18bc",
   "metadata": {},
   "outputs": [],
   "source": [
    "#above we see 'concentration_pct_change' has np.inf in them\n",
    "\n",
    "#slicing all obs where 'concentration_pct_change' equals pos and neg inf\n",
    "pos_inf = hunch['concentration_pct_change'] == np.inf\n",
    "neg_inf = hunch['concentration_pct_change'] == -np.inf\n",
    "\n",
    "#bitwise 'OR' slice \n",
    "hunch.loc[(pos_inf ^ neg_inf)]\n",
    "\n",
    "#too long, look above for shorter code\n",
    "#hunch.loc[((hunch['concentration_pct_change'] == np.inf) ^ (hunch['concentration_pct_change'] == -np.inf))]\n",
    "    "
   ]
  },
  {
   "cell_type": "markdown",
   "id": "4685c3b0",
   "metadata": {},
   "source": [
    "Replace np.inf (both sides of infinity)"
   ]
  },
  {
   "cell_type": "code",
   "execution_count": null,
   "id": "b3b40b45",
   "metadata": {},
   "outputs": [],
   "source": [
    "hunch.replace([np.inf, -np.inf], np.nan, inplace=True)\n",
    "hunch.loc[(pos_inf ^ neg_inf)]"
   ]
  },
  {
   "cell_type": "code",
   "execution_count": null,
   "id": "21f48afc",
   "metadata": {},
   "outputs": [],
   "source": [
    "#how many are null values\n",
    "print('Np.nan\\n', hunch.loc[hunch.values== np.nan].sum())\n",
    "\n",
    "\n",
    "#how many have inf values\n",
    "print('\\nNp.inf\\n', hunch.loc[hunch.values== np.inf].sum())"
   ]
  },
  {
   "cell_type": "code",
   "execution_count": null,
   "id": "f9f708f1",
   "metadata": {},
   "outputs": [],
   "source": [
    "hunch.dropna(inplace=True)\n",
    "hunch.shape"
   ]
  },
  {
   "cell_type": "code",
   "execution_count": null,
   "id": "4c777bed",
   "metadata": {},
   "outputs": [],
   "source": [
    "hunch.concentration_pct_change.max() #that's a pretty large number. Dropping\n",
    "#replace_this = hunch.loc[hunch.concentration_pct_change == hunch.concentration_pct_change.max()]\n",
    "#hunch.replace(hunch.concentration_pct_change.max(), np.nan)\n",
    "#print('Np.nan\\n', hunch.loc[hunch.values== np.nan].sum())\n",
    "test_num = hunch.concentration_pct_change.max()\n"
   ]
  },
  {
   "cell_type": "code",
   "execution_count": null,
   "id": "b881e33f",
   "metadata": {},
   "outputs": [],
   "source": [
    "hunch.replace(test_num, np.nan, inplace=True)"
   ]
  },
  {
   "cell_type": "code",
   "execution_count": null,
   "id": "0e00f404",
   "metadata": {},
   "outputs": [],
   "source": [
    "hunch.concentration_pct_change.max()"
   ]
  },
  {
   "cell_type": "code",
   "execution_count": null,
   "id": "b70ebfd3",
   "metadata": {},
   "outputs": [],
   "source": [
    "#hunch.reset_index(inplace=True)"
   ]
  },
  {
   "cell_type": "code",
   "execution_count": null,
   "id": "711bb33b",
   "metadata": {},
   "outputs": [],
   "source": [
    "c_list = []\n",
    "for county in hunch.County:\n",
    "    if county not in c_list: c_list.append(county)"
   ]
  },
  {
   "cell_type": "code",
   "execution_count": null,
   "id": "8f578834",
   "metadata": {},
   "outputs": [],
   "source": [
    "c_list"
   ]
  },
  {
   "cell_type": "code",
   "execution_count": null,
   "id": "07ec481c",
   "metadata": {},
   "outputs": [],
   "source": [
    "test_dict = dict(zip([county for county in c_list], [hunch[hunch['County']==county] for county in c_list]))"
   ]
  },
  {
   "cell_type": "code",
   "execution_count": null,
   "id": "be2b7f4f",
   "metadata": {},
   "outputs": [],
   "source": [
    "fig,  ax = plt.subplots(len(test_dict.keys()),1, figsize=(9,20))"
   ]
  },
  {
   "cell_type": "code",
   "execution_count": null,
   "id": "5f053693",
   "metadata": {},
   "outputs": [],
   "source": [
    "#I am trying to plot a seaborn linegraph where 6 subplots are generated, and on each subplot the avg_concenentration \n",
    "#by county is grouped by city/town\n",
    "import random\n",
    "fig, ax[[i for i in range(len(test_dict.keys()))]] = plt.subplots(len(test_dict.keys()),1, figsize=(9,20))\n",
    "\n",
    "for counter, (county, dataframe) in enumerate(test_dict.items()):\n",
    "    color = random.choice(['blue', 'red', 'green', 'black', 'yellow', 'orange', 'brown'])\n",
    "    ax[counter].set_title(str(county) + ' County Pct Positivity Time Series')\n",
    "    ax[counter].grid(True)\n",
    "    sns.lineplot(data=dataframe, x='Report Date', y='Percent Positivity', ax=ax[counter], color=color,label='Pct Pos')\n",
    "    ax2 = ax[counter].twinx()\n",
    "    #ax2 = plt.twinx(ax[counter])\n",
    "    sns.lineplot(data=dataframe, x='Report Date', y='avg_concentration', ax=ax2, marker='o')\n",
    "\n",
    "    #fig.autofmt_xdate()\n",
    "    plt.tight_layout()\n"
   ]
  },
  {
   "cell_type": "code",
   "execution_count": null,
   "id": "3abfd101",
   "metadata": {},
   "outputs": [],
   "source": [
    "timeslice = pd.DataFrame(hunch.loc['2021-03-05':'2021-07-31'])"
   ]
  },
  {
   "cell_type": "code",
   "execution_count": null,
   "id": "5b808d8e",
   "metadata": {},
   "outputs": [],
   "source": [
    "sns.lineplot(data=timeslice, x='Report Date', y='Percent Positivity')\n",
    "plt.tight_layout()"
   ]
  },
  {
   "cell_type": "code",
   "execution_count": null,
   "id": "7e343ffc",
   "metadata": {},
   "outputs": [],
   "source": [
    "timeslice['MA_6'] = timeslice.avg_concentration.rolling(window=3).mean().shift()\n",
    "timeslice['MA_30'] = timeslice.avg_concentration.rolling(window=30).mean()"
   ]
  },
  {
   "cell_type": "code",
   "execution_count": null,
   "id": "9057d798",
   "metadata": {},
   "outputs": [],
   "source": [
    "df1 = df.copy()\n",
    "\n",
    "#creating windowing functions\n",
    "df1['MA_7'] = df1.avg_concentration.rolling(window=7).mean().shift(-6)\n",
    "df1['MA_14'] = df1.avg_concentration.rolling(window=14).mean().shift(-13)\n",
    "df1['Volatility_7'] = df1.avg_concentration.rolling(window=7, center=True).std().shift(-6)\n",
    "df1['Volatility_14'] = df1.avg_concentration.rolling(window=14, center=True).std().shift(-13)"
   ]
  },
  {
   "cell_type": "code",
   "execution_count": null,
   "id": "9b2ab252",
   "metadata": {},
   "outputs": [],
   "source": [
    "df1.set_index('Report Date', inplace=True)"
   ]
  },
  {
   "cell_type": "code",
   "execution_count": null,
   "id": "7bcc8dac",
   "metadata": {},
   "outputs": [],
   "source": [
    "figure, ax = plt.subplots(figsize=(21,9))\n",
    "plt.grid(True)\n",
    "#this first one was 'avg_concentration'\n",
    "sns.lineplot(data = df, x=df1.index, \n",
    "             y=df1['Percent Positivity'], color='red')\n",
    "\n",
    "#sns.lineplot(data = df, \n",
    "#             x=df1.index, \n",
    "#             y=df1['MA_7'], \n",
    "#             label='Moving Average 6-Days')\n",
    "#sns.lineplot(data = df, \n",
    "#             x=df1.index, \n",
    "#             y=df1['MA_14'], \n",
    "#             label='Moving Average 14-Days')\n",
    "ax2=plt.twinx(ax)\n",
    "sns.lineplot(data = df, \n",
    "             x=df1.index, \n",
    "             y=df1['Volatility_7'], \n",
    "             label='Volatility 6-Days',\n",
    "             ax=ax2, marker='o', ci=False)\n",
    "sns.lineplot(data = df, \n",
    "             x=df1.index, \n",
    "             y=df1['Volatility_14'], \n",
    "             label='Volatility 14-Days',\n",
    "             ax=ax2, marker='o',  ci=False)\n",
    "plt.legend()\n",
    "plt.ylabel('Volatility')\n",
    "plt.title('Percent Positivity vs 6 and 14 Day Volatility')\n",
    "plt.plot()"
   ]
  },
  {
   "cell_type": "code",
   "execution_count": null,
   "id": "c06ef5be",
   "metadata": {},
   "outputs": [],
   "source": [
    "figure, ax = plt.subplots(figsize=(21,9))\n",
    "plt.grid(True)\n",
    "#this first one was 'avg_concentration'\n",
    "sns.lineplot(data = df, x=df1.index, \n",
    "             y=df1['avg_concentration'], color='red')\n",
    "\n",
    "\n",
    "ax2=plt.twinx(ax)\n",
    "sns.lineplot(data = df, \n",
    "             x=df1.index, \n",
    "             y=df1['MA_7'], \n",
    "             label='Moving Average 6-Days', marker='o', ci=False, ax=ax2)\n",
    "sns.lineplot(data = df, \n",
    "             x=df1.index, \n",
    "             y=df1['MA_14'], \n",
    "             label='Moving Average 14-Days', marker='o', ci=False, ax=ax2)\n",
    "#sns.lineplot(data = df, \n",
    "#             x=df1.index, \n",
    "#             y=df1['Volatility_7'], \n",
    "#             label='Volatility 6-Days',\n",
    "#             ax=ax2, marker='o', ci=False)\n",
    "#sns.lineplot(data = df, \n",
    "#             x=df1.index, \n",
    "#             y=df1['Volatility_14'], \n",
    "#             label='Volatility 14-Days',\n",
    "#             ax=ax2, marker='o',  ci=False)\n",
    "plt.ylabel('Moving Average')\n",
    "plt.legend()\n",
    "plt.title('Average Concentration of Covid-19 mRNA vs 6 and 14 Day Moving Averages')\n",
    "plt.plot()"
   ]
  },
  {
   "cell_type": "code",
   "execution_count": null,
   "id": "ae032799",
   "metadata": {},
   "outputs": [],
   "source": [
    "#I created this method because I found it tedious to keep on slicing city data using pandas .loc\n",
    "#By using this method, I can call up the data using a dict indexing such as dict[city_name]\n",
    "def extract_city_from_df(df, column, the_slice, dictionary):\n",
    "    '''Extract specific slices based on the specified city'''\n",
    "    for city in df[column].unique():\n",
    "        #city_dict.get(df.loc[df[column] == city, the_slice], city)\n",
    "        if the_slice == None:\n",
    "            dictionary[city] = df.loc[df[column] == city].set_index('Report Date', drop=True).copy()\n",
    "        else:\n",
    "            dictionary[city] = df.loc[df[column] == city, the_slice].set_index('Report Date', drop=True).copy()\n",
    "    print('There were {} cities extracted to the dictionary from the DataFrame'.format(len(city_dict.keys())))\n",
    "    return dictionary"
   ]
  },
  {
   "cell_type": "code",
   "execution_count": null,
   "id": "5626b5d9",
   "metadata": {},
   "outputs": [],
   "source": [
    "def city_MA_plot(dataFrame_dict, city, est_color, compared_feature, start_slice, end_slice):\n",
    "    '''This method is to easily plot avg_concentration against another feature from a dict of the df, \n",
    "        with a specific label and color and time slice\n",
    "        \n",
    "        Parameters:\n",
    "        dataFrame_dict: a dictionary type containing k:v of city:wrangled df of city\n",
    "        city: the specific city data you want to graph\n",
    "        est_color: The color wished displayed for the compared feature\n",
    "        compared_feature: what you want to graph against avg_concentration\n",
    "        start_slice: (Optional) Can leave as None or ''. Where to start the timeslce\n",
    "        end_slice: (Optional): Where to end the timeslice\n",
    "        '''\n",
    "    \n",
    "    cities = dataFrame_dict\n",
    "    \n",
    "    #Filter \n",
    "    assert str(city) in cities.keys(), 'That city is not in the dictionary.'\n",
    "    assert compared_feature in cities[city].columns, 'That feature does not exist in the dataframe.'\n",
    "    \n",
    "    if start_slice=='' or end_slice=='':\n",
    "        sns.lineplot(data=cities[city], x='Report Date', \n",
    "                     y='avg_concentration')\n",
    "        sns.lineplot(data=cities[city], x='Report Date', y=str(compared_feature), \n",
    "                     color=str(est_color), label=compared_feature)\n",
    "            \n",
    "    else:\n",
    "        sns.lineplot(data=cities[city].loc[start_slice:end_slice], \n",
    "                     x='Report Date', y='avg_concentration')\n",
    "        sns.lineplot(data=cities[city].loc[start_slice:end_slice], \n",
    "                     x='Report Date', y=str(compared_feature), \n",
    "                     color=str(est_color), label=compared_feature)\n",
    "    plt.title('Average Concentration compared to ' + str(compared_feature) +  ' feature')"
   ]
  },
  {
   "cell_type": "code",
   "execution_count": null,
   "id": "47ddaacb",
   "metadata": {},
   "outputs": [],
   "source": [
    "fig, ax = plt.subplots(figsize=(16,9))\n",
    "city_MA_plot(cities, 'Cambridge', 'black', 'rolling', 'February 2021', 'August 2021')"
   ]
  },
  {
   "cell_type": "code",
   "execution_count": null,
   "id": "92d1da67",
   "metadata": {},
   "outputs": [],
   "source": [
    "sns.catplot(data=df, x='Report Date', y='Change Since Last Week')"
   ]
  },
  {
   "cell_type": "markdown",
   "id": "93fdc8e8",
   "metadata": {},
   "source": [
    "stopped here to sleep. I think I am in a better position to do ARMA now."
   ]
  },
  {
   "cell_type": "code",
   "execution_count": null,
   "id": "d82cc9a3",
   "metadata": {},
   "outputs": [],
   "source": [
    "df"
   ]
  },
  {
   "cell_type": "code",
   "execution_count": null,
   "id": "1ce2354a",
   "metadata": {},
   "outputs": [],
   "source": [
    "sns.catplot(data = df, x='County', y='avg_concentration')"
   ]
  },
  {
   "cell_type": "code",
   "execution_count": null,
   "id": "15b6c928",
   "metadata": {},
   "outputs": [],
   "source": [
    "sns.catplot(data = df, x='Change Since Last Week', y='avg_concentration')"
   ]
  },
  {
   "cell_type": "code",
   "execution_count": null,
   "id": "001819d5",
   "metadata": {},
   "outputs": [],
   "source": [
    "sns.boxplot(data=df, x='County', y='avg_concentration')"
   ]
  },
  {
   "cell_type": "markdown",
   "id": "44968b35",
   "metadata": {},
   "source": [
    "## Notes to Luka for Review\n",
    "\n",
    "The three line plots seems to have some kind of time-series trend that are in tandem with each other.\n",
    "\n",
    "Thoughts on time-series possibilities:\n",
    "1. AR, MA, or ARMA models\n",
    "2. Auto-correlation whilst looking at various lag values\n",
    "3. Probably should test for unit root stationarity.\n",
    "\n",
    "The scatter plots, while showing large variability, a regression line still showed some positive correlation.\n",
    "\n",
    "What I worry about is how those outliers seen in the scatterplots may be affecting the calculated correlation coefficients. Must discuss with Luka. \n",
    "\n",
    "Finally, I did some preprocessing ahead of schedule to see the correlation between 'Change Since Last Week' and the 'mwra_concentration' features. Whil they aren't the strongest, concentration hass the highest rated correlation coefficient.\n",
    "\n",
    "I think I will pursue with concentration and Change Since.\n",
    "\n",
    "### Here are my Null and Alternate Hypothesis to test:\n",
    "\n",
    "#### H0: The concentration of covid-19 rna in sewage does not either Positivity Percentage or Change Since Last Week.\n",
    "\n",
    "#### H-Alternate: The concentration of Covid-19 rna surveilled in sewage does affect Positivity Percentage or Change Since Last Week.\n",
    "\n",
    "\n",
    "#### Discuss with Luka:\n",
    "Do I need to set my p-value here? Howabout the level of significance, or the power needed to support these hypotheses?"
   ]
  },
  {
   "cell_type": "code",
   "execution_count": null,
   "id": "3324ebba",
   "metadata": {},
   "outputs": [],
   "source": [
    "df"
   ]
  },
  {
   "cell_type": "code",
   "execution_count": null,
   "id": "650c39fd",
   "metadata": {},
   "outputs": [],
   "source": [
    "#Saving current df for next Capstone 2 Unit\n",
    "df.to_pickle('Unit16FeatureEngineering.pkl') #Commenting out for Github commit"
   ]
  },
  {
   "cell_type": "markdown",
   "id": "3fcbde43",
   "metadata": {},
   "source": [
    "# Pre-processing (Unit 16.3)"
   ]
  },
  {
   "cell_type": "markdown",
   "id": "be31fd0e",
   "metadata": {},
   "source": [
    "## Goals from the rubric:\n",
    "1. Create dummy features\n",
    "2. Scale standardization\n",
    "3. Split data into training and testing subsets"
   ]
  },
  {
   "cell_type": "markdown",
   "id": "4d5b643c",
   "metadata": {},
   "source": [
    "### Create Dummy features\n",
    "I did this earlier, and will copy the commented out code here for mentor review."
   ]
  },
  {
   "cell_type": "code",
   "execution_count": null,
   "id": "525b5416",
   "metadata": {},
   "outputs": [],
   "source": [
    "#Converted object types into categorical dtypes\n",
    "'''\n",
    "def conversion(df, conversion_list):\n",
    "    '''Method to convert my features into their appropriate datatypes'''\n",
    "    for list in conversion_list:\n",
    "        for col in list:\n",
    "            if col in int64_list:\n",
    "                df[col] = df[col].astype('int64')\n",
    "            if col in category_list:\n",
    "                df[col] = df[col].astype('category')\n",
    "            if col in float64_list:\n",
    "                df[col] = df[col].astype('float64')\n",
    "'''\n",
    "# I converted the following features:\n",
    "# Color, Change Since Last Week, Change in Last Week\n",
    "\n",
    "#Created dummy variables for thes categorical features:\n",
    "# Change Since Last Week and Change in Last Week\n",
    "\n",
    "'''\n",
    "test = pd.get_dummies(df['Change Since Last Week'], prefix='Since Last Week', prefix_sep='-')\n",
    "test1 = pd.get_dummies(df['Change in Last Week'], prefix='In Last Week', prefix_sep='-')\n",
    "'''\n",
    "\n",
    "#Merged my main df with these two dummy-added dfs\n",
    "'''\n",
    "test_df = df.copy()\n",
    "merged_test1 = pd.merge(test_df, test, how='inner', right_index=True, left_index=True)\n",
    "merged_test = pd.merge(merged_test1, test1, how='inner', right_index=True, left_index=True)\n",
    "'''\n",
    "\n",
    "# Finally I updated the main dataframe\n",
    "'''\n",
    "df = merged_test\n",
    "'''"
   ]
  },
  {
   "cell_type": "code",
   "execution_count": null,
   "id": "776f23c8",
   "metadata": {},
   "outputs": [],
   "source": [
    "#load pickle for this unit\n",
    "with open('Unit16FeatureEngineering.pkl', 'rb') as f:\n",
    "    df = pickle.load(f)\n",
    "    \n",
    "df.info()"
   ]
  },
  {
   "cell_type": "code",
   "execution_count": null,
   "id": "e085cf15",
   "metadata": {},
   "outputs": [],
   "source": [
    "#Since I've already pre-processed dummy variables for Change Since, and Change in, should drop those two features\n",
    "#Also dropping colors\n",
    "df.drop(columns=['Change in Last Week', 'Change Since Last Week', 'Color'], inplace=True)"
   ]
  },
  {
   "cell_type": "code",
   "execution_count": null,
   "id": "ea7b9f33",
   "metadata": {},
   "outputs": [],
   "source": [
    "df.info()"
   ]
  },
  {
   "cell_type": "code",
   "execution_count": null,
   "id": "8c3017a5",
   "metadata": {},
   "outputs": [],
   "source": [
    "preprocessed_df = df.select_dtypes(exclude=['uint8'])\n",
    "df = preprocessed_df"
   ]
  },
  {
   "cell_type": "markdown",
   "id": "a55d204d",
   "metadata": {},
   "source": [
    "## Addressing Stationarity:\n",
    "I know it is a timeseries dataset. I have to test for stationarity with these tests:\n",
    "1. Does it show a trend?\n",
    "2. Does it show cyclicality or seasonality?\n",
    "3. Does the variance change with time?\n",
    "4. Does the dynamics change with time?"
   ]
  },
  {
   "cell_type": "markdown",
   "id": "742f894a",
   "metadata": {},
   "source": [
    "Let's look at 'avg_concentration' and then apply the Dicky-Fuller test."
   ]
  },
  {
   "cell_type": "code",
   "execution_count": null,
   "id": "cb8e8958",
   "metadata": {},
   "outputs": [],
   "source": [
    "import statsmodels.api as sm"
   ]
  },
  {
   "cell_type": "code",
   "execution_count": null,
   "id": "0ff03f32",
   "metadata": {},
   "outputs": [],
   "source": [
    "df"
   ]
  },
  {
   "cell_type": "code",
   "execution_count": null,
   "id": "100ca440",
   "metadata": {},
   "outputs": [],
   "source": [
    "sns.lineplot(data=df, x=df.index,y=df['avg_concentration'])"
   ]
  },
  {
   "cell_type": "code",
   "execution_count": null,
   "id": "bf5a761e",
   "metadata": {},
   "outputs": [],
   "source": [
    "results = sm.tsa.stattools.adfuller(df['avg_concentration'])"
   ]
  },
  {
   "cell_type": "markdown",
   "id": "80916822",
   "metadata": {},
   "source": [
    "## Have to partition the testing and training subsets."
   ]
  },
  {
   "cell_type": "code",
   "execution_count": null,
   "id": "2d79b668",
   "metadata": {},
   "outputs": [],
   "source": [
    "from sklearn.preprocessing import MinMaxScaler\n",
    "from sklearn.model_selection import train_test_split\n",
    "import random\n",
    "\n",
    "#this split is to test out 'Percent Positivity'\n",
    "independent_variables = [col for col in preprocessed_df.columns if col != 'Percent Positivity']\n",
    "print(independent_variables)\n",
    "X = df[independent_variables] #these are independent variables\n",
    "\n",
    "y = df['Percent Positivity'] #this is what I want to predict (Dependent variable)\n",
    "\n",
    "X_train, X_test, y_train, y_test = train_test_split(X, y, test_size=0.30, random_state=0)"
   ]
  },
  {
   "cell_type": "code",
   "execution_count": null,
   "id": "5057dec2",
   "metadata": {},
   "outputs": [],
   "source": [
    "# From experience, I should check the shapes of the splits\n",
    "# to see if they match dimensions\n",
    "\n",
    "print(X_train.shape, X_test.shape, y_train.shape, y_test.shape)"
   ]
  },
  {
   "cell_type": "markdown",
   "id": "440e5ce5",
   "metadata": {},
   "source": [
    "### Before we test out any models, we should scale our features!"
   ]
  },
  {
   "cell_type": "code",
   "execution_count": null,
   "id": "37c7a9d5",
   "metadata": {},
   "outputs": [],
   "source": [
    "scaler = MinMaxScaler()\n",
    "scaled_X_train= scaler.fit_transform(X_train)\n",
    "scaled_X_test = scaler.fit_transform(X_test)"
   ]
  },
  {
   "cell_type": "code",
   "execution_count": null,
   "id": "88b784d3",
   "metadata": {},
   "outputs": [],
   "source": [
    "scaled_X_train.shape"
   ]
  },
  {
   "cell_type": "code",
   "execution_count": null,
   "id": "778ea845",
   "metadata": {},
   "outputs": [],
   "source": [
    "#let's try some models!\n",
    "from sklearn import linear_model\n",
    "\n",
    "model = linear_model.LinearRegression()\n",
    "model.fit(scaled_X_train,y_train)\n",
    "y_pred = model.predict(X_test)"
   ]
  },
  {
   "cell_type": "code",
   "execution_count": null,
   "id": "fa005a54",
   "metadata": {},
   "outputs": [],
   "source": [
    "max(model.coef_)"
   ]
  },
  {
   "cell_type": "code",
   "execution_count": null,
   "id": "2642a8a0",
   "metadata": {},
   "outputs": [],
   "source": [
    "from sklearn.metrics import mean_squared_error, r2_score"
   ]
  },
  {
   "cell_type": "code",
   "execution_count": null,
   "id": "f0d2c261",
   "metadata": {},
   "outputs": [],
   "source": [
    "mean_squared_error(y_test, y_pred)"
   ]
  },
  {
   "cell_type": "code",
   "execution_count": null,
   "id": "abbf83f5",
   "metadata": {},
   "outputs": [],
   "source": [
    "r2_score(y_test, y_pred)"
   ]
  },
  {
   "cell_type": "code",
   "execution_count": null,
   "id": "7de60a76",
   "metadata": {},
   "outputs": [],
   "source": [
    "#yikes! Let's try a logistic regression to predict \"Change Since Last Week\"\n",
    "\n",
    "no_int8_df = df.select_dtypes(exclude=['uint8']) #excludes all the dummy features\n",
    "independent_variables = no_int8_df.columns\n",
    "\n",
    "X = df[independent_variables] #these are independent variables\n",
    "y = df['Since Last Week-Higher'] #this is what I want to predict (Dependent variable)\n",
    "\n",
    "X_train, X_test, y_train, y_test = train_test_split(X, y, test_size=0.22, random_state=0)\n",
    "#X_train = X_train.values.reshape(-1, 1)\n",
    "#X_test = X_test.values.reshape(-1,1)\n",
    "scaler = MinMaxScaler()\n",
    "scaled_X_train= scaler.fit_transform(X_train)\n",
    "scaled_X_test = scaler.fit_transform(X_test)"
   ]
  },
  {
   "cell_type": "code",
   "execution_count": null,
   "id": "61897a91",
   "metadata": {},
   "outputs": [],
   "source": [
    "print(X_train.shape, X_test.shape, y_train.shape, y_test.shape)"
   ]
  },
  {
   "cell_type": "code",
   "execution_count": null,
   "id": "227e44af",
   "metadata": {},
   "outputs": [],
   "source": [
    "from sklearn.linear_model import LogisticRegressionCV \n",
    "model = LogisticRegressionCV(cv=5)\n",
    "lr = model.fit(scaled_X_train, y_train)\n",
    "y_pred = lr.predict(scaled_X_test)"
   ]
  },
  {
   "cell_type": "code",
   "execution_count": null,
   "id": "03d2e473",
   "metadata": {},
   "outputs": [],
   "source": [
    "np.sum(y_pred==y_test) / len(y_pred)"
   ]
  },
  {
   "cell_type": "code",
   "execution_count": null,
   "id": "546a5074",
   "metadata": {},
   "outputs": [],
   "source": [
    "lr.coef_"
   ]
  },
  {
   "cell_type": "code",
   "execution_count": null,
   "id": "39f93be3",
   "metadata": {},
   "outputs": [],
   "source": [
    "y_pred"
   ]
  },
  {
   "cell_type": "code",
   "execution_count": null,
   "id": "2a8c812b",
   "metadata": {},
   "outputs": [],
   "source": [
    "len(y_pred)"
   ]
  },
  {
   "cell_type": "code",
   "execution_count": null,
   "id": "b8f92ae2",
   "metadata": {},
   "outputs": [],
   "source": [
    "from sklearn.ensemble import RandomForestClassifier\n",
    "\n"
   ]
  }
 ],
 "metadata": {
  "kernelspec": {
   "display_name": "Python 3",
   "language": "python",
   "name": "python3"
  },
  "language_info": {
   "codemirror_mode": {
    "name": "ipython",
    "version": 3
   },
   "file_extension": ".py",
   "mimetype": "text/x-python",
   "name": "python",
   "nbconvert_exporter": "python",
   "pygments_lexer": "ipython3",
   "version": "3.8.8"
  }
 },
 "nbformat": 4,
 "nbformat_minor": 5
}
