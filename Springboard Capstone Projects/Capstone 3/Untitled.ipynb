{
 "cells": [
  {
   "cell_type": "markdown",
   "id": "f6a2cbdc",
   "metadata": {},
   "source": [
    "Installing Darknet module"
   ]
  },
  {
   "cell_type": "code",
   "execution_count": 2,
   "id": "cdb38ca6",
   "metadata": {},
   "outputs": [
    {
     "name": "stderr",
     "output_type": "stream",
     "text": [
      "Cloning into 'darknet'...\n"
     ]
    }
   ],
   "source": [
    "!git clone https://github.com/pjreddie/darknet"
   ]
  },
  {
   "cell_type": "code",
   "execution_count": 25,
   "id": "2a8f8cbd",
   "metadata": {},
   "outputs": [],
   "source": [
    "!cd darknet"
   ]
  },
  {
   "cell_type": "code",
   "execution_count": 17,
   "id": "e2970679",
   "metadata": {},
   "outputs": [
    {
     "name": "stdout",
     "output_type": "stream",
     "text": [
      " Volume in drive C has no label.\n",
      " Volume Serial Number is 922F-DBC2\n",
      "\n",
      " Directory of C:\\Users\\Aim\\Python\\Springboard\\Springboard Capstone Projects\\Capstone 3\n",
      "\n",
      "08/28/2021  10:48 PM    <DIR>          .\n",
      "08/28/2021  10:48 PM    <DIR>          ..\n",
      "08/28/2021  05:28 PM    <DIR>          .ipynb_checkpoints\n",
      "08/28/2021  10:47 PM    <DIR>          darknet\n",
      "08/28/2021  05:07 PM    <DIR>          Sohas_weapon-Detection\n",
      "08/28/2021  10:48 PM             1,024 Untitled.ipynb\n",
      "               1 File(s)          1,024 bytes\n",
      "               5 Dir(s)  93,518,721,024 bytes free\n"
     ]
    }
   ],
   "source": []
  },
  {
   "cell_type": "code",
   "execution_count": 27,
   "id": "ffdbca88",
   "metadata": {},
   "outputs": [
    {
     "data": {
      "text/plain": [
       "62"
      ]
     },
     "execution_count": 27,
     "metadata": {},
     "output_type": "execute_result"
    }
   ],
   "source": [
    "1000 // 16"
   ]
  },
  {
   "cell_type": "code",
   "execution_count": null,
   "id": "6f828c76",
   "metadata": {},
   "outputs": [],
   "source": []
  }
 ],
 "metadata": {
  "kernelspec": {
   "display_name": "Capstone3",
   "language": "python",
   "name": "capstone3"
  },
  "language_info": {
   "codemirror_mode": {
    "name": "ipython",
    "version": 3
   },
   "file_extension": ".py",
   "mimetype": "text/x-python",
   "name": "python",
   "nbconvert_exporter": "python",
   "pygments_lexer": "ipython3",
   "version": "3.8.8"
  }
 },
 "nbformat": 4,
 "nbformat_minor": 5
}
