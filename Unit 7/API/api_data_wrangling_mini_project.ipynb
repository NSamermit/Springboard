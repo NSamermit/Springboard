{
 "cells": [
  {
   "cell_type": "markdown",
   "metadata": {},
   "source": [
    "This exercise will require you to pull some data from the Qunadl API. Qaundl is currently the most widely used aggregator of financial market data."
   ]
  },
  {
   "cell_type": "markdown",
   "metadata": {},
   "source": [
    "As a first step, you will need to register a free account on the http://www.quandl.com website."
   ]
  },
  {
   "cell_type": "markdown",
   "metadata": {},
   "source": [
    "After you register, you will be provided with a unique API key, that you should store:"
   ]
  },
  {
   "cell_type": "code",
   "execution_count": 2,
   "metadata": {},
   "outputs": [],
   "source": [
    "# Store the API key as a string - according to PEP8, constants are always named in all upper case\n",
    "API_KEY = '_dzvfR4wLBgRTo4xC_mw'"
   ]
  },
  {
   "cell_type": "markdown",
   "metadata": {},
   "source": [
    "Qaundl has a large number of data sources, but, unfortunately, most of them require a Premium subscription. Still, there are also a good number of free datasets."
   ]
  },
  {
   "cell_type": "markdown",
   "metadata": {},
   "source": [
    "For this mini project, we will focus on equities data from the Frankfurt Stock Exhange (FSE), which is available for free. We'll try and analyze the stock prices of a company called Carl Zeiss Meditec, which manufactures tools for eye examinations, as well as medical lasers for laser eye surgery: https://www.zeiss.com/meditec/int/home.html. The company is listed under the stock ticker AFX_X."
   ]
  },
  {
   "cell_type": "markdown",
   "metadata": {},
   "source": [
    "You can find the detailed Quandl API instructions here: https://docs.quandl.com/docs/time-series"
   ]
  },
  {
   "cell_type": "markdown",
   "metadata": {},
   "source": [
    "While there is a dedicated Python package for connecting to the Quandl API, we would prefer that you use the *requests* package, which can be easily downloaded using *pip* or *conda*. You can find the documentation for the package here: http://docs.python-requests.org/en/master/ "
   ]
  },
  {
   "cell_type": "markdown",
   "metadata": {},
   "source": [
    "Finally, apart from the *requests* package, you are encouraged to not use any third party Python packages, such as *pandas*, and instead focus on what's available in the Python Standard Library (the *collections* module might come in handy: https://pymotw.com/3/collections/ ).\n",
    "Also, since you won't have access to DataFrames, you are encouraged to us Python's native data structures - preferably dictionaries, though some questions can also be answered using lists.\n",
    "You can read more on these data structures here: https://docs.python.org/3/tutorial/datastructures.html"
   ]
  },
  {
   "cell_type": "markdown",
   "metadata": {},
   "source": [
    "Keep in mind that the JSON responses you will be getting from the API map almost one-to-one to Python's dictionaries. Unfortunately, they can be very nested, so make sure you read up on indexing dictionaries in the documentation provided above."
   ]
  },
  {
   "cell_type": "code",
   "execution_count": 5,
   "metadata": {},
   "outputs": [],
   "source": [
    "# First, import the relevant modules\n",
    "import requests, json\n"
   ]
  },
  {
   "cell_type": "code",
   "execution_count": 6,
   "metadata": {},
   "outputs": [],
   "source": [
    "# Now, call the Quandl API and pull out a small sample of the data (only one day) to get a glimpse\n",
    "# into the JSON structure that will be returned\n",
    "url = 'https://www.quandl.com/api/v3/datasets/FSE/AFX_X.json?collapse=none&start_date=2017-01-10&end_date=2017-01-10&api_key='\n",
    "res = requests.get(url+API_KEY)"
   ]
  },
  {
   "cell_type": "code",
   "execution_count": 8,
   "metadata": {},
   "outputs": [
    {
     "data": {
      "text/plain": [
       "{'dataset': {'id': 10095370,\n",
       "  'dataset_code': 'AFX_X',\n",
       "  'database_code': 'FSE',\n",
       "  'name': 'Carl Zeiss Meditec (AFX_X)',\n",
       "  'description': 'Stock Prices for Carl Zeiss Meditec (2020-11-02) from the Frankfurt Stock Exchange.<br><br>Trading System: Xetra<br><br>ISIN: DE0005313704',\n",
       "  'refreshed_at': '2020-12-01T14:48:09.907Z',\n",
       "  'newest_available_date': '2020-12-01',\n",
       "  'oldest_available_date': '2000-06-07',\n",
       "  'column_names': ['Date',\n",
       "   'Open',\n",
       "   'High',\n",
       "   'Low',\n",
       "   'Close',\n",
       "   'Change',\n",
       "   'Traded Volume',\n",
       "   'Turnover',\n",
       "   'Last Price of the Day',\n",
       "   'Daily Traded Units',\n",
       "   'Daily Turnover'],\n",
       "  'frequency': 'daily',\n",
       "  'type': 'Time Series',\n",
       "  'premium': False,\n",
       "  'limit': None,\n",
       "  'transform': None,\n",
       "  'column_index': None,\n",
       "  'start_date': '2017-01-10',\n",
       "  'end_date': '2017-01-10',\n",
       "  'data': [['2017-01-10',\n",
       "    34.8,\n",
       "    34.98,\n",
       "    34.46,\n",
       "    34.91,\n",
       "    None,\n",
       "    43976.0,\n",
       "    1528055.0,\n",
       "    None,\n",
       "    None,\n",
       "    None]],\n",
       "  'collapse': None,\n",
       "  'order': None,\n",
       "  'database_id': 6129}}"
      ]
     },
     "execution_count": 8,
     "metadata": {},
     "output_type": "execute_result"
    }
   ],
   "source": [
    "# Inspect the JSON structure of the object you created, and take note of how nested it is,\n",
    "# as well as the overall structure\n",
    "res.json()"
   ]
  },
  {
   "cell_type": "markdown",
   "metadata": {},
   "source": [
    "These are your tasks for this mini project:\n",
    "\n",
    "1. Collect data from the Franfurt Stock Exchange, for the ticker AFX_X, for the whole year 2017 (keep in mind that the date format is YYYY-MM-DD).\n",
    "2. Convert the returned JSON object into a Python dictionary.\n",
    "3. Calculate what the highest and lowest opening prices were for the stock in this period.\n",
    "4. What was the largest change in any one day (based on High and Low price)?\n",
    "5. What was the largest change between any two days (based on Closing Price)?\n",
    "6. What was the average daily trading volume during this year?\n",
    "7. (Optional) What was the median trading volume during this year. (Note: you may need to implement your own function for calculating the median.)"
   ]
  },
  {
   "cell_type": "code",
   "execution_count": 40,
   "metadata": {},
   "outputs": [],
   "source": [
    "# 1 make new URL var with correct date range of 2017-01-01 through to 2017-12-31\n",
    "url = 'https://www.quandl.com/api/v3/datasets/FSE/AFX_X.json?collapse=none&start_date=2017-01-01&end_date=2017-12-31&api_key='\n",
    "res = requests.get(url+API_KEY)\n",
    "\n",
    "#note due to the rate limits of quandl, run this as few times as possible\n",
    "#use new cells for any further work"
   ]
  },
  {
   "cell_type": "code",
   "execution_count": 41,
   "metadata": {},
   "outputs": [],
   "source": [
    "# 2 convert json object to python dict\n",
    "test = dict(res.json()) #res was a response object, converted explicitly to json then to dict\n",
    "#type(test) #confirms dict type\n",
    "AFX2017 = test"
   ]
  },
  {
   "cell_type": "code",
   "execution_count": 42,
   "metadata": {},
   "outputs": [
    {
     "data": {
      "text/plain": [
       "dict_keys(['dataset'])"
      ]
     },
     "execution_count": 42,
     "metadata": {},
     "output_type": "execute_result"
    }
   ],
   "source": [
    "AFX2017.keys()"
   ]
  },
  {
   "cell_type": "code",
   "execution_count": 43,
   "metadata": {},
   "outputs": [
    {
     "data": {
      "text/plain": [
       "1"
      ]
     },
     "execution_count": 43,
     "metadata": {},
     "output_type": "execute_result"
    }
   ],
   "source": [
    "len(AFX2017)"
   ]
  },
  {
   "cell_type": "code",
   "execution_count": 44,
   "metadata": {},
   "outputs": [
    {
     "data": {
      "text/plain": [
       "dict_keys(['id', 'dataset_code', 'database_code', 'name', 'description', 'refreshed_at', 'newest_available_date', 'oldest_available_date', 'column_names', 'frequency', 'type', 'premium', 'limit', 'transform', 'column_index', 'start_date', 'end_date', 'data', 'collapse', 'order', 'database_id'])"
      ]
     },
     "execution_count": 44,
     "metadata": {},
     "output_type": "execute_result"
    }
   ],
   "source": [
    "DataSet = AFX2017['dataset']\n",
    "DataSet.keys()"
   ]
  },
  {
   "cell_type": "code",
   "execution_count": 48,
   "metadata": {},
   "outputs": [
    {
     "name": "stdout",
     "output_type": "stream",
     "text": [
      "['2017-12-29', 51.76, 51.94, 51.45, 51.76, None, 34640.0, 1792304.0, None, None, None] ['2017-01-02', 34.99, 35.94, 34.99, 35.8, None, 44700.0, 1590561.0, None, None, None]\n"
     ]
    }
   ],
   "source": [
    "#want to understand the date order of this list\n",
    "Data17 = DataSet['data']\n",
    "print(Data17[0], Data17[-1]) #seems like LOFI (last out first in)"
   ]
  },
  {
   "cell_type": "code",
   "execution_count": 80,
   "metadata": {},
   "outputs": [
    {
     "data": {
      "text/plain": [
       "255"
      ]
     },
     "execution_count": 80,
     "metadata": {},
     "output_type": "execute_result"
    }
   ],
   "source": [
    "len(Data17) #this confirms the length of the data set to be a full year\n",
    "#note it is not 365 days, as there were no data collected on weekends and presumably holidays"
   ]
  },
  {
   "cell_type": "code",
   "execution_count": 58,
   "metadata": {},
   "outputs": [
    {
     "name": "stdout",
     "output_type": "stream",
     "text": [
      "0 2017-12-29\n",
      "1 51.76\n",
      "2 51.94\n",
      "3 51.45\n",
      "4 51.76\n",
      "5 None\n",
      "6 34640.0\n",
      "7 1792304.0\n",
      "8 None\n",
      "9 None\n",
      "10 None\n"
     ]
    }
   ],
   "source": [
    "for c,v in enumerate(Data17[0]):\n",
    "    print(c,v)\n",
    "#confirms that there are 11 values in Data17 list"
   ]
  },
  {
   "cell_type": "code",
   "execution_count": 74,
   "metadata": {},
   "outputs": [],
   "source": [
    "myHeader = ['Date', 'Open', 'High', 'Low', 'Close', 'Change', 'Traded Volume', 'Turnover', 'Last Price of the Day', 'Daily Traded Units', 'Daily Turnover']\n",
    "myDict = {} #was gonna try zipping here, but no need.\n",
    "openPrice = []\n"
   ]
  },
  {
   "cell_type": "code",
   "execution_count": 75,
   "metadata": {},
   "outputs": [],
   "source": [
    "for _ in range(len(Data17)):\n",
    "    openPrice.append(Data17[_][1])\n",
    "    "
   ]
  },
  {
   "cell_type": "code",
   "execution_count": 79,
   "metadata": {},
   "outputs": [
    {
     "data": {
      "text/plain": [
       "255"
      ]
     },
     "execution_count": 79,
     "metadata": {},
     "output_type": "execute_result"
    }
   ],
   "source": [
    "len(openPrice) #confirms there are 255 points of data, matching the Data17 amount"
   ]
  },
  {
   "cell_type": "code",
   "execution_count": 82,
   "metadata": {},
   "outputs": [
    {
     "data": {
      "text/plain": [
       "list"
      ]
     },
     "execution_count": 82,
     "metadata": {},
     "output_type": "execute_result"
    }
   ],
   "source": [
    "type(openPrice)"
   ]
  },
  {
   "cell_type": "code",
   "execution_count": 95,
   "metadata": {},
   "outputs": [
    {
     "data": {
      "text/plain": [
       "True"
      ]
     },
     "execution_count": 95,
     "metadata": {},
     "output_type": "execute_result"
    }
   ],
   "source": [
    "None in openPrice #there's a nonetype in the open prices??"
   ]
  },
  {
   "cell_type": "code",
   "execution_count": 96,
   "metadata": {},
   "outputs": [],
   "source": [
    "testDel = set(openPrice) #eliminates overlapping prices, probably making the max/min calc faster?"
   ]
  },
  {
   "cell_type": "code",
   "execution_count": 99,
   "metadata": {},
   "outputs": [
    {
     "data": {
      "text/plain": [
       "224"
      ]
     },
     "execution_count": 99,
     "metadata": {},
     "output_type": "execute_result"
    }
   ],
   "source": [
    "len(testDel)"
   ]
  },
  {
   "cell_type": "code",
   "execution_count": 100,
   "metadata": {},
   "outputs": [
    {
     "data": {
      "text/plain": [
       "True"
      ]
     },
     "execution_count": 100,
     "metadata": {},
     "output_type": "execute_result"
    }
   ],
   "source": [
    "None in openPrice #there's a nonetype in the open prices?? \n",
    "#there's still a none at the some position, can remove it"
   ]
  },
  {
   "cell_type": "code",
   "execution_count": 102,
   "metadata": {},
   "outputs": [
    {
     "data": {
      "text/plain": [
       "223"
      ]
     },
     "execution_count": 102,
     "metadata": {},
     "output_type": "execute_result"
    }
   ],
   "source": [
    "testOpen = [e for e in testDel if type(e)==float]\n",
    "len(testOpen)\n"
   ]
  },
  {
   "cell_type": "code",
   "execution_count": 103,
   "metadata": {},
   "outputs": [
    {
     "data": {
      "text/plain": [
       "False"
      ]
     },
     "execution_count": 103,
     "metadata": {},
     "output_type": "execute_result"
    }
   ],
   "source": [
    "None in testOpen #confirms elimination of noneType"
   ]
  },
  {
   "cell_type": "code",
   "execution_count": 108,
   "metadata": {},
   "outputs": [
    {
     "name": "stdout",
     "output_type": "stream",
     "text": [
      "The highest opening price was: $53.11\n",
      "The lowest opening price was: $34.0\n"
     ]
    }
   ],
   "source": [
    "#3 calculate the highest and lowest opening prices for 2017\n",
    "maxOpen = max(testOpen)\n",
    "minOpen = min(testOpen)\n",
    "print(f\"The highest opening price was: ${maxOpen}\\nThe lowest opening price was: ${minOpen}\")"
   ]
  },
  {
   "cell_type": "code",
   "execution_count": 112,
   "metadata": {},
   "outputs": [],
   "source": [
    "#4 What was the largest change in any one day (based on High and Low price)?\n",
    "#note they did not ask on which date this largest change occured! \n",
    "dailyHigh, dailyLow = [], []"
   ]
  },
  {
   "cell_type": "code",
   "execution_count": 113,
   "metadata": {},
   "outputs": [],
   "source": [
    "for _ in range(len(Data17)):\n",
    "    dailyHigh.append(Data17[_][2])\n",
    "    dailyLow.append(Data17[_][3])\n",
    "#note to myself, \"any ONE day\" means same day. the _ var means the high and low values\n",
    "#corresponds to the same day"
   ]
  },
  {
   "cell_type": "code",
   "execution_count": 116,
   "metadata": {},
   "outputs": [
    {
     "data": {
      "text/plain": [
       "255"
      ]
     },
     "execution_count": 116,
     "metadata": {},
     "output_type": "execute_result"
    }
   ],
   "source": [
    "    \n",
    "len(dailyLow)\n",
    "len(dailyHigh) #confirms same shape"
   ]
  },
  {
   "cell_type": "code",
   "execution_count": 141,
   "metadata": {},
   "outputs": [
    {
     "name": "stdout",
     "output_type": "stream",
     "text": [
      "(51.94, 51.45)\n",
      "(51.82, 51.43)\n",
      "(51.89, 50.76)\n",
      "(51.5, 50.92)\n",
      "(51.52, 50.9)\n",
      "(52.04, 51.2)\n",
      "(52.73, 51.07)\n",
      "(52.75, 51.61)\n",
      "(52.7, 51.64)\n",
      "(53.54, 52.15)\n",
      "(53.35, 52.48)\n",
      "(53.1, 51.82)\n",
      "(52.45, 51.26)\n",
      "(52.83, 51.28)\n",
      "(51.47, 50.81)\n",
      "(51.11, 50.39)\n",
      "(51.38, 50.4)\n",
      "(51.23, 49.5)\n",
      "(50.49, 49.17)\n",
      "(49.84, 48.28)\n",
      "(49.64, 48.7)\n",
      "(49.89, 49.03)\n",
      "(49.73, 48.96)\n",
      "(49.41, 48.87)\n",
      "(49.46, 48.45)\n",
      "(49.61, 48.39)\n",
      "(48.59, 46.78)\n",
      "(47.38, 46.54)\n",
      "(47.15, 46.8)\n",
      "(47.23, 46.55)\n",
      "(48.01, 46.75)\n",
      "(48.9, 47.84)\n",
      "(48.61, 47.76)\n",
      "(48.89, 47.16)\n",
      "(48.06, 47.09)\n",
      "(47.72, 46.42)\n",
      "(46.33, 45.84)\n",
      "(46.09, 45.76)\n",
      "(46.04, 44.83)\n",
      "(46.06, 45.18)\n",
      "(46.55, 45.97)\n",
      "(46.65, 45.61)\n",
      "(46.42, 45.46)\n",
      "(45.41, 44.91)\n",
      "(45.06, 44.7)\n",
      "(45.27, 44.75)\n",
      "(45.34, 44.89)\n",
      "(45.34, 44.76)\n",
      "(45.85, 44.79)\n",
      "(46.2, 45.61)\n",
      "(46.06, 45.37)\n",
      "(45.75, 45.3)\n",
      "(45.7, 45.37)\n",
      "(45.58, 45.17)\n",
      "(45.97, 45.25)\n",
      "(46.04, 45.57)\n",
      "(46.2, 45.6)\n",
      "(46.19, 45.69)\n",
      "(46.09, 45.63)\n",
      "(46.17, 45.22)\n",
      "(44.98, 44.18)\n",
      "(44.17, 43.3)\n",
      "(43.56, 42.0)\n",
      "(42.49, 41.78)\n",
      "(42.57, 42.11)\n",
      "(42.3, 41.96)\n",
      "(42.38, 41.48)\n",
      "(42.29, 41.39)\n",
      "(42.54, 41.99)\n",
      "(42.65, 42.13)\n",
      "(42.63, 42.23)\n",
      "(42.81, 42.25)\n",
      "(42.8, 42.35)\n",
      "(42.69, 42.22)\n",
      "(43.34, 42.62)\n",
      "(42.89, 42.56)\n",
      "(42.75, 42.56)\n",
      "(43.02, 42.67)\n",
      "(42.71, 42.34)\n",
      "(43.19, 42.55)\n",
      "(42.75, 41.95)\n",
      "(43.06, 42.07)\n",
      "(42.08, 41.12)\n",
      "(42.2, 41.49)\n",
      "(41.98, 41.33)\n",
      "(42.25, 41.86)\n",
      "(42.64, 42.05)\n",
      "(43.05, 42.63)\n",
      "(43.17, 42.6)\n",
      "(42.96, 42.4)\n",
      "(42.76, 42.2)\n",
      "(42.6, 42.01)\n",
      "(43.01, 41.76)\n",
      "(42.62, 41.98)\n",
      "(42.53, 42.2)\n",
      "(42.69, 42.01)\n",
      "(41.94, 40.96)\n",
      "(41.99, 41.14)\n",
      "(43.5, 41.64)\n",
      "(45.09, 44.15)\n",
      "(46.34, 44.02)\n",
      "(45.13, 44.36)\n",
      "(45.54, 44.91)\n",
      "(45.77, 44.9)\n",
      "(45.54, 45.1)\n",
      "(45.75, 44.94)\n",
      "(45.29, 44.75)\n",
      "(45.45, 45.15)\n",
      "(45.33, 44.46)\n",
      "(45.04, 44.63)\n",
      "(45.31, 44.49)\n",
      "(45.88, 45.04)\n",
      "(45.96, 45.23)\n",
      "(45.72, 44.94)\n",
      "(45.55, 44.7)\n",
      "(46.23, 45.29)\n",
      "(45.56, 44.83)\n",
      "(45.18, 44.67)\n",
      "(45.05, 43.89)\n",
      "(44.94, 44.08)\n",
      "(45.18, 44.51)\n",
      "(44.79, 44.25)\n",
      "(45.5, 44.15)\n",
      "(45.36, 44.44)\n",
      "(45.83, 44.74)\n",
      "(45.83, 45.06)\n",
      "(45.74, 45.0)\n",
      "(45.81, 45.11)\n",
      "(46.68, 45.41)\n",
      "(47.33, 46.39)\n",
      "(47.63, 46.91)\n",
      "(47.4, 46.79)\n",
      "(47.4, 46.75)\n",
      "(47.48, 46.53)\n",
      "(47.43, 46.27)\n",
      "(46.9, 46.25)\n",
      "(46.8, 45.66)\n",
      "(46.34, 45.21)\n",
      "(46.86, 46.05)\n",
      "(46.51, 46.03)\n",
      "(47.43, 45.89)\n",
      "(47.44, 46.55)\n",
      "(47.8, 46.27)\n",
      "(47.43, 47.01)\n",
      "(47.45, 46.21)\n",
      "(46.99, 46.72)\n",
      "(46.52, 45.89)\n",
      "(46.26, 45.22)\n",
      "(46.02, 45.05)\n",
      "(45.61, 45.24)\n",
      "(45.36, 44.71)\n",
      "(44.87, 44.29)\n",
      "(44.67, 43.92)\n",
      "(44.13, 43.55)\n",
      "(44.22, 43.44)\n",
      "(44.12, 43.74)\n",
      "(44.3, 43.29)\n",
      "(45.34, 44.01)\n",
      "(45.36, 44.56)\n",
      "(45.78, 44.31)\n",
      "(45.18, 44.16)\n",
      "(46.06, 43.25)\n",
      "(43.6, 42.53)\n",
      "(43.55, 41.82)\n",
      "(43.0, 42.04)\n",
      "(42.91, 42.38)\n",
      "(42.5, 41.71)\n",
      "(42.29, 41.78)\n",
      "(42.23, 41.76)\n",
      "(42.245, 41.655)\n",
      "(42.25, 41.66)\n",
      "(42.24, 41.51)\n",
      "(41.94, 41.4)\n",
      "(42.18, 41.66)\n",
      "(42.02, 41.23)\n",
      "(42.14, 41.01)\n",
      "(42.64, 41.52)\n",
      "(42.61, 41.94)\n",
      "(42.4, 41.54)\n",
      "(42.48, 41.985)\n",
      "(42.48, 41.985)\n",
      "(42.48, 41.99)\n",
      "(42.45, 41.84)\n",
      "(42.03, 41.53)\n",
      "(41.68, 41.31)\n",
      "(41.42, 40.84)\n",
      "(41.25, 40.83)\n",
      "(41.34, 40.79)\n",
      "(40.88, 39.48)\n",
      "(40.15, 39.54)\n",
      "(40.07, 39.42)\n",
      "(40.14, 39.42)\n",
      "(40.01, 39.05)\n",
      "(39.35, 38.79)\n",
      "(39.1, 38.53)\n",
      "(39.02, 38.6)\n",
      "(39.25, 38.63)\n",
      "(39.02, 37.53)\n",
      "(41.83, 40.97)\n",
      "(42.17, 41.26)\n",
      "(41.59, 41.16)\n",
      "(41.57, 41.09)\n",
      "(41.5, 40.91)\n",
      "(41.5, 41.2)\n",
      "(41.46, 41.08)\n",
      "(41.53, 41.16)\n",
      "(41.61, 41.16)\n",
      "(41.71, 40.95)\n",
      "(41.8, 41.25)\n",
      "(41.4, 40.81)\n",
      "(41.22, 40.84)\n",
      "(41.39, 40.76)\n",
      "(41.57, 40.9)\n",
      "(40.95, 40.38)\n",
      "(40.64, 39.75)\n",
      "(40.14, 38.91)\n",
      "(39.98, 39.38)\n",
      "(39.75, 39.27)\n",
      "(39.57, 38.85)\n",
      "(39.25, 38.81)\n",
      "(39.03, 38.48)\n",
      "(39.2, 38.25)\n",
      "(38.93, 38.4)\n",
      "(38.86, 38.0)\n",
      "(39.36, 37.35)\n",
      "(37.5, 36.57)\n",
      "(36.25, 35.77)\n",
      "(36.14, 35.84)\n",
      "(36.05, 35.36)\n",
      "(36.15, 35.6)\n",
      "(36.2, 35.73)\n",
      "(36.2, 35.7)\n",
      "(36.0, 34.75)\n",
      "(35.24, 34.56)\n",
      "(35.59, 34.95)\n",
      "(35.43, 34.81)\n",
      "(35.58, 34.8)\n",
      "(34.86, 34.03)\n",
      "(34.35, 33.85)\n",
      "(34.12, 33.62)\n",
      "(34.59, 34.05)\n",
      "(35.04, 34.42)\n",
      "(35.51, 34.8)\n",
      "(35.19, 34.79)\n",
      "(35.24, 34.56)\n",
      "(34.98, 34.6)\n",
      "(35.38, 34.31)\n",
      "(36.0, 34.84)\n",
      "(34.98, 34.46)\n",
      "(35.35, 34.43)\n",
      "(35.21, 34.91)\n",
      "(35.2, 34.73)\n",
      "(35.51, 34.75)\n",
      "(35.93, 35.34)\n",
      "(35.94, 34.99)\n"
     ]
    }
   ],
   "source": [
    "zipDaily = zip(dailyHigh, dailyLow) #zipping the two lists\n",
    "for el in zipDaily:\n",
    "    print(el)\n",
    "#this prints the elements of the zipped pair, a means to check what's in it\n",
    "#any subsequent call to zipDaily depletes it! Don't forget it is an generator object"
   ]
  },
  {
   "cell_type": "code",
   "execution_count": 143,
   "metadata": {},
   "outputs": [
    {
     "data": {
      "text/plain": [
       "255"
      ]
     },
     "execution_count": 143,
     "metadata": {},
     "output_type": "execute_result"
    }
   ],
   "source": [
    "#need to confirm shape of zipDaily\n",
    "#used  this stackOverflow post as a guide: https://stackoverflow.com/questions/31011631/python-2-3-object-of-type-zip-has-no-len\n",
    "zipDaily = zip(dailyHigh, dailyLow)\n",
    "zipShape = sum(1 for _ in zipDaily)\n",
    "zipShape #commentor says the sum() function consumes the iterator"
   ]
  },
  {
   "cell_type": "code",
   "execution_count": 144,
   "metadata": {},
   "outputs": [],
   "source": [
    "zipDaily = zip(dailyHigh, dailyLow)"
   ]
  },
  {
   "cell_type": "code",
   "execution_count": 145,
   "metadata": {},
   "outputs": [],
   "source": [
    "dailyDelta = [x - y for (x,y) in zipDaily]"
   ]
  },
  {
   "cell_type": "code",
   "execution_count": 146,
   "metadata": {},
   "outputs": [
    {
     "data": {
      "text/plain": [
       "[0.4899999999999949,\n",
       " 0.39000000000000057,\n",
       " 1.1300000000000026,\n",
       " 0.5799999999999983,\n",
       " 0.6200000000000045,\n",
       " 0.8399999999999963,\n",
       " 1.6599999999999966,\n",
       " 1.1400000000000006,\n",
       " 1.0600000000000023,\n",
       " 1.3900000000000006,\n",
       " 0.8700000000000045,\n",
       " 1.2800000000000011,\n",
       " 1.1900000000000048,\n",
       " 1.5499999999999972,\n",
       " 0.6599999999999966,\n",
       " 0.7199999999999989,\n",
       " 0.980000000000004,\n",
       " 1.7299999999999969,\n",
       " 1.3200000000000003,\n",
       " 1.5600000000000023,\n",
       " 0.9399999999999977,\n",
       " 0.8599999999999994,\n",
       " 0.769999999999996,\n",
       " 0.5399999999999991,\n",
       " 1.009999999999998,\n",
       " 1.2199999999999989,\n",
       " 1.8100000000000023,\n",
       " 0.8400000000000034,\n",
       " 0.3500000000000014,\n",
       " 0.6799999999999997,\n",
       " 1.259999999999998,\n",
       " 1.0599999999999952,\n",
       " 0.8500000000000014,\n",
       " 1.730000000000004,\n",
       " 0.9699999999999989,\n",
       " 1.2999999999999972,\n",
       " 0.4899999999999949,\n",
       " 0.3300000000000054,\n",
       " 1.2100000000000009,\n",
       " 0.8800000000000026,\n",
       " 0.5799999999999983,\n",
       " 1.0399999999999991,\n",
       " 0.9600000000000009,\n",
       " 0.5,\n",
       " 0.35999999999999943,\n",
       " 0.5200000000000031,\n",
       " 0.45000000000000284,\n",
       " 0.5800000000000054,\n",
       " 1.0600000000000023,\n",
       " 0.5900000000000034,\n",
       " 0.6900000000000048,\n",
       " 0.45000000000000284,\n",
       " 0.3300000000000054,\n",
       " 0.4099999999999966,\n",
       " 0.7199999999999989,\n",
       " 0.46999999999999886,\n",
       " 0.6000000000000014,\n",
       " 0.5,\n",
       " 0.46000000000000085,\n",
       " 0.9500000000000028,\n",
       " 0.7999999999999972,\n",
       " 0.8700000000000045,\n",
       " 1.5600000000000023,\n",
       " 0.7100000000000009,\n",
       " 0.46000000000000085,\n",
       " 0.3399999999999963,\n",
       " 0.9000000000000057,\n",
       " 0.8999999999999986,\n",
       " 0.5499999999999972,\n",
       " 0.519999999999996,\n",
       " 0.4000000000000057,\n",
       " 0.5600000000000023,\n",
       " 0.44999999999999574,\n",
       " 0.46999999999999886,\n",
       " 0.720000000000006,\n",
       " 0.3299999999999983,\n",
       " 0.18999999999999773,\n",
       " 0.3500000000000014,\n",
       " 0.36999999999999744,\n",
       " 0.6400000000000006,\n",
       " 0.7999999999999972,\n",
       " 0.990000000000002,\n",
       " 0.9600000000000009,\n",
       " 0.7100000000000009,\n",
       " 0.6499999999999986,\n",
       " 0.39000000000000057,\n",
       " 0.5900000000000034,\n",
       " 0.4199999999999946,\n",
       " 0.5700000000000003,\n",
       " 0.5600000000000023,\n",
       " 0.5599999999999952,\n",
       " 0.5900000000000034,\n",
       " 1.25,\n",
       " 0.6400000000000006,\n",
       " 0.3299999999999983,\n",
       " 0.6799999999999997,\n",
       " 0.9799999999999969,\n",
       " 0.8500000000000014,\n",
       " 1.8599999999999994,\n",
       " 0.9400000000000048,\n",
       " 2.3200000000000003,\n",
       " 0.7700000000000031,\n",
       " 0.6300000000000026,\n",
       " 0.8700000000000045,\n",
       " 0.4399999999999977,\n",
       " 0.8100000000000023,\n",
       " 0.5399999999999991,\n",
       " 0.30000000000000426,\n",
       " 0.8699999999999974,\n",
       " 0.4099999999999966,\n",
       " 0.8200000000000003,\n",
       " 0.8400000000000034,\n",
       " 0.730000000000004,\n",
       " 0.7800000000000011,\n",
       " 0.8499999999999943,\n",
       " 0.9399999999999977,\n",
       " 0.730000000000004,\n",
       " 0.509999999999998,\n",
       " 1.1599999999999966,\n",
       " 0.8599999999999994,\n",
       " 0.6700000000000017,\n",
       " 0.5399999999999991,\n",
       " 1.3500000000000014,\n",
       " 0.9200000000000017,\n",
       " 1.0899999999999963,\n",
       " 0.769999999999996,\n",
       " 0.740000000000002,\n",
       " 0.7000000000000028,\n",
       " 1.2700000000000031,\n",
       " 0.9399999999999977,\n",
       " 0.720000000000006,\n",
       " 0.6099999999999994,\n",
       " 0.6499999999999986,\n",
       " 0.9499999999999957,\n",
       " 1.1599999999999966,\n",
       " 0.6499999999999986,\n",
       " 1.1400000000000006,\n",
       " 1.1300000000000026,\n",
       " 0.8100000000000023,\n",
       " 0.4799999999999969,\n",
       " 1.5399999999999991,\n",
       " 0.8900000000000006,\n",
       " 1.529999999999994,\n",
       " 0.4200000000000017,\n",
       " 1.240000000000002,\n",
       " 0.2700000000000031,\n",
       " 0.6300000000000026,\n",
       " 1.0399999999999991,\n",
       " 0.970000000000006,\n",
       " 0.36999999999999744,\n",
       " 0.6499999999999986,\n",
       " 0.5799999999999983,\n",
       " 0.75,\n",
       " 0.5800000000000054,\n",
       " 0.7800000000000011,\n",
       " 0.37999999999999545,\n",
       " 1.009999999999998,\n",
       " 1.3300000000000054,\n",
       " 0.7999999999999972,\n",
       " 1.4699999999999989,\n",
       " 1.0200000000000031,\n",
       " 2.8100000000000023,\n",
       " 1.0700000000000003,\n",
       " 1.7299999999999969,\n",
       " 0.9600000000000009,\n",
       " 0.529999999999994,\n",
       " 0.7899999999999991,\n",
       " 0.509999999999998,\n",
       " 0.46999999999999886,\n",
       " 0.5899999999999963,\n",
       " 0.5900000000000034,\n",
       " 0.730000000000004,\n",
       " 0.5399999999999991,\n",
       " 0.5200000000000031,\n",
       " 0.7900000000000063,\n",
       " 1.1300000000000026,\n",
       " 1.1199999999999974,\n",
       " 0.6700000000000017,\n",
       " 0.8599999999999994,\n",
       " 0.49499999999999744,\n",
       " 0.49499999999999744,\n",
       " 0.4899999999999949,\n",
       " 0.6099999999999994,\n",
       " 0.5,\n",
       " 0.36999999999999744,\n",
       " 0.5799999999999983,\n",
       " 0.4200000000000017,\n",
       " 0.5500000000000043,\n",
       " 1.4000000000000057,\n",
       " 0.6099999999999994,\n",
       " 0.6499999999999986,\n",
       " 0.7199999999999989,\n",
       " 0.9600000000000009,\n",
       " 0.5600000000000023,\n",
       " 0.5700000000000003,\n",
       " 0.4200000000000017,\n",
       " 0.6199999999999974,\n",
       " 1.490000000000002,\n",
       " 0.8599999999999994,\n",
       " 0.9100000000000037,\n",
       " 0.4300000000000068,\n",
       " 0.4799999999999969,\n",
       " 0.5900000000000034,\n",
       " 0.29999999999999716,\n",
       " 0.38000000000000256,\n",
       " 0.37000000000000455,\n",
       " 0.45000000000000284,\n",
       " 0.759999999999998,\n",
       " 0.5499999999999972,\n",
       " 0.5899999999999963,\n",
       " 0.37999999999999545,\n",
       " 0.6300000000000026,\n",
       " 0.6700000000000017,\n",
       " 0.5700000000000003,\n",
       " 0.8900000000000006,\n",
       " 1.230000000000004,\n",
       " 0.5999999999999943,\n",
       " 0.4799999999999969,\n",
       " 0.7199999999999989,\n",
       " 0.4399999999999977,\n",
       " 0.5500000000000043,\n",
       " 0.9500000000000028,\n",
       " 0.5300000000000011,\n",
       " 0.8599999999999994,\n",
       " 2.009999999999998,\n",
       " 0.9299999999999997,\n",
       " 0.4799999999999969,\n",
       " 0.29999999999999716,\n",
       " 0.6899999999999977,\n",
       " 0.5499999999999972,\n",
       " 0.47000000000000597,\n",
       " 0.5,\n",
       " 1.25,\n",
       " 0.6799999999999997,\n",
       " 0.6400000000000006,\n",
       " 0.6199999999999974,\n",
       " 0.7800000000000011,\n",
       " 0.8299999999999983,\n",
       " 0.5,\n",
       " 0.5,\n",
       " 0.5400000000000063,\n",
       " 0.6199999999999974,\n",
       " 0.7100000000000009,\n",
       " 0.3999999999999986,\n",
       " 0.6799999999999997,\n",
       " 0.37999999999999545,\n",
       " 1.0700000000000003,\n",
       " 1.1599999999999966,\n",
       " 0.519999999999996,\n",
       " 0.9200000000000017,\n",
       " 0.30000000000000426,\n",
       " 0.47000000000000597,\n",
       " 0.759999999999998,\n",
       " 0.5899999999999963,\n",
       " 0.9499999999999957]"
      ]
     },
     "execution_count": 146,
     "metadata": {},
     "output_type": "execute_result"
    }
   ],
   "source": [
    "dailyDelta"
   ]
  },
  {
   "cell_type": "code",
   "execution_count": 148,
   "metadata": {},
   "outputs": [
    {
     "name": "stdout",
     "output_type": "stream",
     "text": [
      "The largest change in one day was: $2.81\n"
     ]
    }
   ],
   "source": [
    "#4 Solution\n",
    "print(f\"The largest change in one day was: ${max(dailyDelta):.2f}\")"
   ]
  },
  {
   "cell_type": "code",
   "execution_count": 165,
   "metadata": {},
   "outputs": [],
   "source": [
    "#5 What was the largest change between any two days (based on Closing Price)?\n",
    "closingDelta = []"
   ]
  },
  {
   "cell_type": "code",
   "execution_count": 166,
   "metadata": {},
   "outputs": [
    {
     "data": {
      "text/plain": [
       "range(0, 255)"
      ]
     },
     "execution_count": 166,
     "metadata": {},
     "output_type": "execute_result"
    }
   ],
   "source": [
    "range(len(Data17))"
   ]
  },
  {
   "cell_type": "code",
   "execution_count": 167,
   "metadata": {},
   "outputs": [],
   "source": [
    "for i in range(1,255):\n",
    "    closingDelta.append(Data17[i][4] - Data17[i-1][4])"
   ]
  },
  {
   "cell_type": "code",
   "execution_count": 168,
   "metadata": {},
   "outputs": [
    {
     "data": {
      "text/plain": [
       "254"
      ]
     },
     "execution_count": 168,
     "metadata": {},
     "output_type": "execute_result"
    }
   ],
   "source": [
    "len(closingDelta) #should be only 254 points of data"
   ]
  },
  {
   "cell_type": "code",
   "execution_count": 169,
   "metadata": {},
   "outputs": [
    {
     "name": "stdout",
     "output_type": "stream",
     "text": [
      "The largest change between any two days was: $2.56\n"
     ]
    }
   ],
   "source": [
    "#5 Solution\n",
    "print(f\"The largest change between any two days was: ${max(closingDelta):.2f}\")"
   ]
  },
  {
   "cell_type": "code",
   "execution_count": 179,
   "metadata": {},
   "outputs": [
    {
     "data": {
      "text/plain": [
       "34640.0"
      ]
     },
     "execution_count": 179,
     "metadata": {},
     "output_type": "execute_result"
    }
   ],
   "source": [
    "#6 What was the average daily trading volume during this year?\n",
    "from functools import reduce\n",
    "# I think trading volume was the 6th indexed in Data17, let's check\n",
    "Data17[0][6]"
   ]
  },
  {
   "cell_type": "code",
   "execution_count": 188,
   "metadata": {},
   "outputs": [
    {
     "data": {
      "text/plain": [
       "255"
      ]
     },
     "execution_count": 188,
     "metadata": {},
     "output_type": "execute_result"
    }
   ],
   "source": [
    "volumeData = []\n",
    "for _ in range(len(Data17)):\n",
    "    volumeData.append(Data17[_][6])\n",
    "len(volumeData)"
   ]
  },
  {
   "cell_type": "code",
   "execution_count": 189,
   "metadata": {},
   "outputs": [
    {
     "data": {
      "text/plain": [
       "89124.33725490196"
      ]
     },
     "execution_count": 189,
     "metadata": {},
     "output_type": "execute_result"
    }
   ],
   "source": [
    "avgDailyTradingVolume = (reduce(lambda x,y: x+y, volumeData))/len(Data17)\n",
    "avgDailyTradingVolume"
   ]
  },
  {
   "cell_type": "code",
   "execution_count": 191,
   "metadata": {},
   "outputs": [
    {
     "name": "stdout",
     "output_type": "stream",
     "text": [
      "The average daily trading volume during 2017 was 89124.3373 shares.\n"
     ]
    }
   ],
   "source": [
    "#6 Answer\n",
    "print(f\"The average daily trading volume during 2017 was {avgDailyTradingVolume:.4f} shares.\")"
   ]
  },
  {
   "cell_type": "code",
   "execution_count": 192,
   "metadata": {},
   "outputs": [
    {
     "name": "stdout",
     "output_type": "stream",
     "text": [
      "#3: The highest opening price was: $53.11\n",
      "The lowest opening price was: $34.0\n",
      "#4: The largest change in one day was: $2.81\n",
      "The largest change between any two days was: $2.56\n",
      "The average daily trading volume during 2017 was 89124.3373 shares.\n"
     ]
    }
   ],
   "source": [
    "#Summary \n",
    "#3 \n",
    "print(f\"#3: The highest opening price was: ${maxOpen}\\nThe lowest opening price was: ${minOpen}\")\n",
    "\n",
    "#4 \n",
    "print(f\"#4: The largest change in one day was: ${max(dailyDelta):.2f}\")\n",
    "\n",
    "#5\n",
    "print(f\"The largest change between any two days was: ${max(closingDelta):.2f}\")\n",
    "\n",
    "#6\n",
    "print(f\"The average daily trading volume during 2017 was {avgDailyTradingVolume:.4f} shares.\")"
   ]
  },
  {
   "cell_type": "code",
   "execution_count": null,
   "metadata": {},
   "outputs": [],
   "source": []
  }
 ],
 "metadata": {
  "kernelspec": {
   "display_name": "Python 3",
   "language": "python",
   "name": "python3"
  },
  "language_info": {
   "codemirror_mode": {
    "name": "ipython",
    "version": 3
   },
   "file_extension": ".py",
   "mimetype": "text/x-python",
   "name": "python",
   "nbconvert_exporter": "python",
   "pygments_lexer": "ipython3",
   "version": "3.7.4"
  }
 },
 "nbformat": 4,
 "nbformat_minor": 2
}
