{
 "cells": [
  {
   "cell_type": "code",
   "execution_count": null,
   "id": "94b2dbf1",
   "metadata": {},
   "outputs": [],
   "source": [
    "'''\n",
    "Unit 7.6 Data Wrangling for Capstone 2\n",
    "Nantawat Samermit \n",
    "'''"
   ]
  },
  {
   "cell_type": "code",
   "execution_count": 3,
   "id": "04db6ff6",
   "metadata": {},
   "outputs": [],
   "source": [
    "#import relevant modules for data wrangling - keep on adding as needed\n",
    "import pandas as pd\n",
    "import json, requests\n",
    "import fuzzywuzzy \n",
    "import matplotlib"
   ]
  },
  {
   "cell_type": "code",
   "execution_count": 4,
   "id": "9bf6a9bd",
   "metadata": {},
   "outputs": [],
   "source": [
    "#ask Luka: Should I just use requests or should I use the API given by the data set manager?\n",
    "#here is a code snippet from the API doc\n",
    "#the source is: https://dev.socrata.com/foundry/data.cambridgema.gov/ayt4-g2ye\n",
    "\n",
    "#from sodapy import Socrates\n",
    "# Unauthenticated client only works with public data sets. Note 'None'\n",
    "# in place of application token, and no username or password:\n",
    "#client = Socrata(\"data.cambridgema.gov\", None)\n",
    "\n",
    "# Example authenticated client (needed for non-public datasets):\n",
    "# client = Socrata(data.cambridgema.gov,\n",
    "#                  MyAppToken,\n",
    "#                  userame=\"user@example.com\",\n",
    "#                  password=\"AFakePassword\")\n",
    "\n",
    "# First 2000 results, returned as JSON from API / converted to Python list of\n",
    "# dictionaries by sodapy.\n",
    "#results = client.get(\"ayt4-g2ye\", limit=2000)\n",
    "\n",
    "# Convert to pandas DataFrame\n",
    "#results_df = pd.DataFrame.from_records(results)"
   ]
  },
  {
   "cell_type": "code",
   "execution_count": 5,
   "id": "8f747106",
   "metadata": {},
   "outputs": [],
   "source": [
    "#Cambridge MA wastewater dataset as JSON\n",
    "url = 'https://data.cambridgema.gov/resource/ayt4-g2ye.json'"
   ]
  },
  {
   "cell_type": "code",
   "execution_count": 6,
   "id": "fe0d4647",
   "metadata": {},
   "outputs": [
    {
     "data": {
      "text/plain": [
       "{'date': '2020-10-01T00:00:00.000',\n",
       " 'mwra_concentration': '',\n",
       " 'mwra_7dayaverage': '31',\n",
       " 'concentration_mid_cambridge': '',\n",
       " 'concentration_east_cambridge': '',\n",
       " 'concentration_cambridgeport': '',\n",
       " 'concentration_north_west': '',\n",
       " 'highci_mid_cambridge': '',\n",
       " 'highci_east_cambridge': '',\n",
       " 'highci_cambridgeport': '',\n",
       " 'highci_north_west_cambridge': '',\n",
       " 'lowci_mid_cambridge': '',\n",
       " 'lowci_east_cambridge': '',\n",
       " 'lowci_cambridgeport': '',\n",
       " 'lowci_north_west_cambridge': ''}"
      ]
     },
     "execution_count": 6,
     "metadata": {},
     "output_type": "execute_result"
    }
   ],
   "source": [
    "request = requests.get(url)\n",
    "json_data = request.json()\n",
    "json_data[0]"
   ]
  },
  {
   "cell_type": "code",
   "execution_count": 6,
   "id": "5026ea67",
   "metadata": {},
   "outputs": [
    {
     "data": {
      "text/plain": [
       "list"
      ]
     },
     "execution_count": 6,
     "metadata": {},
     "output_type": "execute_result"
    }
   ],
   "source": [
    "#confirming json_data is NOT a df yet\n",
    "type(json_data)"
   ]
  },
  {
   "cell_type": "code",
   "execution_count": 7,
   "id": "be36a1a8",
   "metadata": {},
   "outputs": [],
   "source": [
    "#converting json_data to df\n",
    "Cambridge_df = pd.DataFrame(json_data)"
   ]
  },
  {
   "cell_type": "code",
   "execution_count": 8,
   "id": "ca564805",
   "metadata": {},
   "outputs": [
    {
     "data": {
      "text/plain": [
       "pandas.core.frame.DataFrame"
      ]
     },
     "execution_count": 8,
     "metadata": {},
     "output_type": "execute_result"
    }
   ],
   "source": [
    "type(Cambridge_df)"
   ]
  },
  {
   "cell_type": "code",
   "execution_count": 9,
   "id": "612dd577",
   "metadata": {},
   "outputs": [
    {
     "name": "stdout",
     "output_type": "stream",
     "text": [
      "<class 'pandas.core.frame.DataFrame'>\n",
      "RangeIndex: 253 entries, 0 to 252\n",
      "Data columns (total 15 columns):\n",
      " #   Column                        Non-Null Count  Dtype \n",
      "---  ------                        --------------  ----- \n",
      " 0   date                          253 non-null    object\n",
      " 1   mwra_concentration            253 non-null    object\n",
      " 2   mwra_7dayaverage              253 non-null    object\n",
      " 3   concentration_mid_cambridge   253 non-null    object\n",
      " 4   concentration_east_cambridge  253 non-null    object\n",
      " 5   concentration_cambridgeport   253 non-null    object\n",
      " 6   concentration_north_west      253 non-null    object\n",
      " 7   highci_mid_cambridge          253 non-null    object\n",
      " 8   highci_east_cambridge         253 non-null    object\n",
      " 9   highci_cambridgeport          253 non-null    object\n",
      " 10  highci_north_west_cambridge   253 non-null    object\n",
      " 11  lowci_mid_cambridge           253 non-null    object\n",
      " 12  lowci_east_cambridge          253 non-null    object\n",
      " 13  lowci_cambridgeport           253 non-null    object\n",
      " 14  lowci_north_west_cambridge    253 non-null    object\n",
      "dtypes: object(15)\n",
      "memory usage: 29.8+ KB\n"
     ]
    }
   ],
   "source": [
    "Cambridge_df.info()"
   ]
  },
  {
   "cell_type": "code",
   "execution_count": 10,
   "id": "0fe20e54",
   "metadata": {},
   "outputs": [
    {
     "data": {
      "text/html": [
       "<div>\n",
       "<style scoped>\n",
       "    .dataframe tbody tr th:only-of-type {\n",
       "        vertical-align: middle;\n",
       "    }\n",
       "\n",
       "    .dataframe tbody tr th {\n",
       "        vertical-align: top;\n",
       "    }\n",
       "\n",
       "    .dataframe thead th {\n",
       "        text-align: right;\n",
       "    }\n",
       "</style>\n",
       "<table border=\"1\" class=\"dataframe\">\n",
       "  <thead>\n",
       "    <tr style=\"text-align: right;\">\n",
       "      <th></th>\n",
       "      <th>date</th>\n",
       "      <th>mwra_concentration</th>\n",
       "      <th>mwra_7dayaverage</th>\n",
       "      <th>concentration_mid_cambridge</th>\n",
       "      <th>concentration_east_cambridge</th>\n",
       "      <th>concentration_cambridgeport</th>\n",
       "      <th>concentration_north_west</th>\n",
       "      <th>highci_mid_cambridge</th>\n",
       "      <th>highci_east_cambridge</th>\n",
       "      <th>highci_cambridgeport</th>\n",
       "      <th>highci_north_west_cambridge</th>\n",
       "      <th>lowci_mid_cambridge</th>\n",
       "      <th>lowci_east_cambridge</th>\n",
       "      <th>lowci_cambridgeport</th>\n",
       "      <th>lowci_north_west_cambridge</th>\n",
       "    </tr>\n",
       "  </thead>\n",
       "  <tbody>\n",
       "    <tr>\n",
       "      <th>count</th>\n",
       "      <td>253</td>\n",
       "      <td>253</td>\n",
       "      <td>253</td>\n",
       "      <td>253</td>\n",
       "      <td>253</td>\n",
       "      <td>253</td>\n",
       "      <td>253</td>\n",
       "      <td>253</td>\n",
       "      <td>253</td>\n",
       "      <td>253</td>\n",
       "      <td>253</td>\n",
       "      <td>253</td>\n",
       "      <td>253</td>\n",
       "      <td>253</td>\n",
       "      <td>253</td>\n",
       "    </tr>\n",
       "    <tr>\n",
       "      <th>unique</th>\n",
       "      <td>253</td>\n",
       "      <td>216</td>\n",
       "      <td>197</td>\n",
       "      <td>28</td>\n",
       "      <td>30</td>\n",
       "      <td>24</td>\n",
       "      <td>30</td>\n",
       "      <td>28</td>\n",
       "      <td>30</td>\n",
       "      <td>24</td>\n",
       "      <td>30</td>\n",
       "      <td>28</td>\n",
       "      <td>30</td>\n",
       "      <td>24</td>\n",
       "      <td>30</td>\n",
       "    </tr>\n",
       "    <tr>\n",
       "      <th>top</th>\n",
       "      <td>2021-01-05T00:00:00.000</td>\n",
       "      <td></td>\n",
       "      <td>257</td>\n",
       "      <td></td>\n",
       "      <td></td>\n",
       "      <td></td>\n",
       "      <td></td>\n",
       "      <td></td>\n",
       "      <td></td>\n",
       "      <td></td>\n",
       "      <td></td>\n",
       "      <td></td>\n",
       "      <td></td>\n",
       "      <td></td>\n",
       "      <td></td>\n",
       "    </tr>\n",
       "    <tr>\n",
       "      <th>freq</th>\n",
       "      <td>1</td>\n",
       "      <td>10</td>\n",
       "      <td>5</td>\n",
       "      <td>226</td>\n",
       "      <td>224</td>\n",
       "      <td>228</td>\n",
       "      <td>224</td>\n",
       "      <td>226</td>\n",
       "      <td>224</td>\n",
       "      <td>228</td>\n",
       "      <td>224</td>\n",
       "      <td>226</td>\n",
       "      <td>224</td>\n",
       "      <td>228</td>\n",
       "      <td>224</td>\n",
       "    </tr>\n",
       "  </tbody>\n",
       "</table>\n",
       "</div>"
      ],
      "text/plain": [
       "                           date mwra_concentration mwra_7dayaverage  \\\n",
       "count                       253                253              253   \n",
       "unique                      253                216              197   \n",
       "top     2021-01-05T00:00:00.000                                 257   \n",
       "freq                          1                 10                5   \n",
       "\n",
       "       concentration_mid_cambridge concentration_east_cambridge  \\\n",
       "count                          253                          253   \n",
       "unique                          28                           30   \n",
       "top                                                               \n",
       "freq                           226                          224   \n",
       "\n",
       "       concentration_cambridgeport concentration_north_west  \\\n",
       "count                          253                      253   \n",
       "unique                          24                       30   \n",
       "top                                                           \n",
       "freq                           228                      224   \n",
       "\n",
       "       highci_mid_cambridge highci_east_cambridge highci_cambridgeport  \\\n",
       "count                   253                   253                  253   \n",
       "unique                   28                    30                   24   \n",
       "top                                                                      \n",
       "freq                    226                   224                  228   \n",
       "\n",
       "       highci_north_west_cambridge lowci_mid_cambridge lowci_east_cambridge  \\\n",
       "count                          253                 253                  253   \n",
       "unique                          30                  28                   30   \n",
       "top                                                                           \n",
       "freq                           224                 226                  224   \n",
       "\n",
       "       lowci_cambridgeport lowci_north_west_cambridge  \n",
       "count                  253                        253  \n",
       "unique                  24                         30  \n",
       "top                                                    \n",
       "freq                   228                        224  "
      ]
     },
     "execution_count": 10,
     "metadata": {},
     "output_type": "execute_result"
    }
   ],
   "source": [
    "Cambridge_df.describe()"
   ]
  },
  {
   "cell_type": "code",
   "execution_count": 11,
   "id": "3dbd92ae",
   "metadata": {},
   "outputs": [
    {
     "data": {
      "text/plain": [
       "'\\nFor my own review!\\n\\nColumn Definitions:\\nDate - sample date for 24 hour composite sample\\nMWRA_Concentration - Normalized SARS-CoV2 RNA Copies per ML collected during sampling period.\\nMWRA_7DayAverage - 7 day rolling average for Normalized SARS-CoV2 RNA Copies per ML collected during sampling period.\\nConcentration_* - Normalized SARS-CoV2 RNA Copies per ML collected during sampling period.\\nhighci_* - Upper Limit on Confidence Interval for Normalized SARS-CoV2 RNA Copies per ML collected during sampling period.\\nlowci_* - Lower Limit on Confidence Interval for Normalized SARS-CoV2 RNA Copies per ML collected during sampling period.\\n* means there are multiple columns with this prefix which share the same definition - Nantawat\\n\\nA refresher on confidence interval limits - https://bit.ly/3vtuI7h\\n'"
      ]
     },
     "execution_count": 11,
     "metadata": {},
     "output_type": "execute_result"
    }
   ],
   "source": [
    "'''\n",
    "For my own review!\n",
    "\n",
    "Column Definitions:\n",
    "Date - sample date for 24 hour composite sample\n",
    "MWRA_Concentration - Normalized SARS-CoV2 RNA Copies per ML collected during sampling period.\n",
    "MWRA_7DayAverage - 7 day rolling average for Normalized SARS-CoV2 RNA Copies per ML collected during sampling period.\n",
    "Concentration_* - Normalized SARS-CoV2 RNA Copies per ML collected during sampling period.\n",
    "highci_* - Upper Limit on Confidence Interval for Normalized SARS-CoV2 RNA Copies per ML collected during sampling period.\n",
    "lowci_* - Lower Limit on Confidence Interval for Normalized SARS-CoV2 RNA Copies per ML collected during sampling period.\n",
    "* means there are multiple columns with this prefix which share the same definition - Nantawat\n",
    "\n",
    "A refresher on confidence interval limits - https://bit.ly/3vtuI7h\n",
    "'''"
   ]
  },
  {
   "cell_type": "code",
   "execution_count": 12,
   "id": "fd466963",
   "metadata": {},
   "outputs": [
    {
     "data": {
      "text/html": [
       "<div>\n",
       "<style scoped>\n",
       "    .dataframe tbody tr th:only-of-type {\n",
       "        vertical-align: middle;\n",
       "    }\n",
       "\n",
       "    .dataframe tbody tr th {\n",
       "        vertical-align: top;\n",
       "    }\n",
       "\n",
       "    .dataframe thead th {\n",
       "        text-align: right;\n",
       "    }\n",
       "</style>\n",
       "<table border=\"1\" class=\"dataframe\">\n",
       "  <thead>\n",
       "    <tr style=\"text-align: right;\">\n",
       "      <th></th>\n",
       "      <th>date</th>\n",
       "      <th>mwra_concentration</th>\n",
       "      <th>mwra_7dayaverage</th>\n",
       "      <th>concentration_mid_cambridge</th>\n",
       "      <th>concentration_east_cambridge</th>\n",
       "      <th>concentration_cambridgeport</th>\n",
       "      <th>concentration_north_west</th>\n",
       "      <th>highci_mid_cambridge</th>\n",
       "      <th>highci_east_cambridge</th>\n",
       "      <th>highci_cambridgeport</th>\n",
       "      <th>highci_north_west_cambridge</th>\n",
       "      <th>lowci_mid_cambridge</th>\n",
       "      <th>lowci_east_cambridge</th>\n",
       "      <th>lowci_cambridgeport</th>\n",
       "      <th>lowci_north_west_cambridge</th>\n",
       "    </tr>\n",
       "  </thead>\n",
       "  <tbody>\n",
       "    <tr>\n",
       "      <th>248</th>\n",
       "      <td>2021-06-06T00:00:00.000</td>\n",
       "      <td>24</td>\n",
       "      <td>25</td>\n",
       "      <td></td>\n",
       "      <td></td>\n",
       "      <td></td>\n",
       "      <td></td>\n",
       "      <td></td>\n",
       "      <td></td>\n",
       "      <td></td>\n",
       "      <td></td>\n",
       "      <td></td>\n",
       "      <td></td>\n",
       "      <td></td>\n",
       "      <td></td>\n",
       "    </tr>\n",
       "    <tr>\n",
       "      <th>249</th>\n",
       "      <td>2021-06-07T00:00:00.000</td>\n",
       "      <td>29</td>\n",
       "      <td>27</td>\n",
       "      <td></td>\n",
       "      <td></td>\n",
       "      <td></td>\n",
       "      <td></td>\n",
       "      <td></td>\n",
       "      <td></td>\n",
       "      <td></td>\n",
       "      <td></td>\n",
       "      <td></td>\n",
       "      <td></td>\n",
       "      <td></td>\n",
       "      <td></td>\n",
       "    </tr>\n",
       "    <tr>\n",
       "      <th>250</th>\n",
       "      <td>2021-06-08T00:00:00.000</td>\n",
       "      <td>15</td>\n",
       "      <td>24</td>\n",
       "      <td></td>\n",
       "      <td></td>\n",
       "      <td></td>\n",
       "      <td></td>\n",
       "      <td></td>\n",
       "      <td></td>\n",
       "      <td></td>\n",
       "      <td></td>\n",
       "      <td></td>\n",
       "      <td></td>\n",
       "      <td></td>\n",
       "      <td></td>\n",
       "    </tr>\n",
       "    <tr>\n",
       "      <th>251</th>\n",
       "      <td>2021-06-09T00:00:00.000</td>\n",
       "      <td>14</td>\n",
       "      <td>22</td>\n",
       "      <td></td>\n",
       "      <td></td>\n",
       "      <td></td>\n",
       "      <td></td>\n",
       "      <td></td>\n",
       "      <td></td>\n",
       "      <td></td>\n",
       "      <td></td>\n",
       "      <td></td>\n",
       "      <td></td>\n",
       "      <td></td>\n",
       "      <td></td>\n",
       "    </tr>\n",
       "    <tr>\n",
       "      <th>252</th>\n",
       "      <td>2021-06-10T00:00:00.000</td>\n",
       "      <td>33</td>\n",
       "      <td>23</td>\n",
       "      <td></td>\n",
       "      <td></td>\n",
       "      <td></td>\n",
       "      <td></td>\n",
       "      <td></td>\n",
       "      <td></td>\n",
       "      <td></td>\n",
       "      <td></td>\n",
       "      <td></td>\n",
       "      <td></td>\n",
       "      <td></td>\n",
       "      <td></td>\n",
       "    </tr>\n",
       "  </tbody>\n",
       "</table>\n",
       "</div>"
      ],
      "text/plain": [
       "                        date mwra_concentration mwra_7dayaverage  \\\n",
       "248  2021-06-06T00:00:00.000                 24               25   \n",
       "249  2021-06-07T00:00:00.000                 29               27   \n",
       "250  2021-06-08T00:00:00.000                 15               24   \n",
       "251  2021-06-09T00:00:00.000                 14               22   \n",
       "252  2021-06-10T00:00:00.000                 33               23   \n",
       "\n",
       "    concentration_mid_cambridge concentration_east_cambridge  \\\n",
       "248                                                            \n",
       "249                                                            \n",
       "250                                                            \n",
       "251                                                            \n",
       "252                                                            \n",
       "\n",
       "    concentration_cambridgeport concentration_north_west highci_mid_cambridge  \\\n",
       "248                                                                             \n",
       "249                                                                             \n",
       "250                                                                             \n",
       "251                                                                             \n",
       "252                                                                             \n",
       "\n",
       "    highci_east_cambridge highci_cambridgeport highci_north_west_cambridge  \\\n",
       "248                                                                          \n",
       "249                                                                          \n",
       "250                                                                          \n",
       "251                                                                          \n",
       "252                                                                          \n",
       "\n",
       "    lowci_mid_cambridge lowci_east_cambridge lowci_cambridgeport  \\\n",
       "248                                                                \n",
       "249                                                                \n",
       "250                                                                \n",
       "251                                                                \n",
       "252                                                                \n",
       "\n",
       "    lowci_north_west_cambridge  \n",
       "248                             \n",
       "249                             \n",
       "250                             \n",
       "251                             \n",
       "252                             "
      ]
     },
     "execution_count": 12,
     "metadata": {},
     "output_type": "execute_result"
    }
   ],
   "source": [
    "Cambridge_df.tail()"
   ]
  },
  {
   "cell_type": "code",
   "execution_count": 13,
   "id": "888b4658",
   "metadata": {},
   "outputs": [],
   "source": [
    "#Note: There seems to be plenty of empty values, must make sure to sanitize them to NaN \n",
    "# The last date entry is for 6/10/21"
   ]
  },
  {
   "cell_type": "code",
   "execution_count": 14,
   "id": "c0151c40",
   "metadata": {},
   "outputs": [],
   "source": [
    "#scraping for Massachusett's DoH dataset. Note this dataset's last entry is for 6/15/21\n",
    "url2 = 'https://www.mass.gov/doc/covid-19-raw-data-june-15-2021/download'"
   ]
  },
  {
   "cell_type": "code",
   "execution_count": 38,
   "id": "3519a452",
   "metadata": {},
   "outputs": [],
   "source": [
    "#This seems like a big file, can I stream it in chunks?\n",
    "Mass_request = requests.get(url2)    "
   ]
  },
  {
   "cell_type": "code",
   "execution_count": 2,
   "id": "b1d9a14d",
   "metadata": {},
   "outputs": [],
   "source": [
    "#Note: Mass_request.content reveals something funky, can't describe it\n",
    "#Mass_request.content"
   ]
  },
  {
   "cell_type": "code",
   "execution_count": 44,
   "id": "cc0589bc",
   "metadata": {},
   "outputs": [],
   "source": [
    "#from this StackOverflow article, BytesIO might be able to help\n",
    "# https://stackoverflow.com/questions/58147689/python-how-to-read-excel-file-from-requests-response\n",
    "import io"
   ]
  },
  {
   "cell_type": "code",
   "execution_count": 47,
   "id": "cd129b65",
   "metadata": {},
   "outputs": [],
   "source": [
    "with io.BytesIO(Mass_request.content) as file:\n",
    "    df = pd.io.excel.read_excel(file)"
   ]
  },
  {
   "cell_type": "code",
   "execution_count": 50,
   "id": "6332ca3f",
   "metadata": {},
   "outputs": [
    {
     "data": {
      "text/html": [
       "<div>\n",
       "<style scoped>\n",
       "    .dataframe tbody tr th:only-of-type {\n",
       "        vertical-align: middle;\n",
       "    }\n",
       "\n",
       "    .dataframe tbody tr th {\n",
       "        vertical-align: top;\n",
       "    }\n",
       "\n",
       "    .dataframe thead th {\n",
       "        text-align: right;\n",
       "    }\n",
       "</style>\n",
       "<table border=\"1\" class=\"dataframe\">\n",
       "  <thead>\n",
       "    <tr style=\"text-align: right;\">\n",
       "      <th></th>\n",
       "      <th>Current Table Name</th>\n",
       "      <th>Old Table Name</th>\n",
       "      <th>Current Variable Name</th>\n",
       "      <th>Old Variable Name</th>\n",
       "      <th>Frequency of Data Updates</th>\n",
       "      <th>Description</th>\n",
       "      <th>Notes</th>\n",
       "      <th>Unnamed: 7</th>\n",
       "    </tr>\n",
       "  </thead>\n",
       "  <tbody>\n",
       "    <tr>\n",
       "      <th>0</th>\n",
       "      <td>Age MeansLast2Weeks</td>\n",
       "      <td>Age MeansLast2Weeks</td>\n",
       "      <td>Date</td>\n",
       "      <td>Date</td>\n",
       "      <td>Weekly</td>\n",
       "      <td>Date of when this data was reported</td>\n",
       "      <td>NaN</td>\n",
       "      <td>NaN</td>\n",
       "    </tr>\n",
       "    <tr>\n",
       "      <th>1</th>\n",
       "      <td>NaN</td>\n",
       "      <td>NaN</td>\n",
       "      <td>Start Date</td>\n",
       "      <td>NaN</td>\n",
       "      <td>NaN</td>\n",
       "      <td>First day of the \"last two weeks\" period to wh...</td>\n",
       "      <td>NaN</td>\n",
       "      <td>NaN</td>\n",
       "    </tr>\n",
       "    <tr>\n",
       "      <th>2</th>\n",
       "      <td>NaN</td>\n",
       "      <td>NaN</td>\n",
       "      <td>End Date</td>\n",
       "      <td>NaN</td>\n",
       "      <td>NaN</td>\n",
       "      <td>Last day of the \"last two weeks\" period to whi...</td>\n",
       "      <td>NaN</td>\n",
       "      <td>NaN</td>\n",
       "    </tr>\n",
       "    <tr>\n",
       "      <th>3</th>\n",
       "      <td>NaN</td>\n",
       "      <td>NaN</td>\n",
       "      <td>Mean Overall Age_Last2Weeks</td>\n",
       "      <td>Mean Overall Age_Last2Weeks</td>\n",
       "      <td>NaN</td>\n",
       "      <td>Date to which this data applies – by the date ...</td>\n",
       "      <td>NaN</td>\n",
       "      <td>NaN</td>\n",
       "    </tr>\n",
       "    <tr>\n",
       "      <th>4</th>\n",
       "      <td>NaN</td>\n",
       "      <td>NaN</td>\n",
       "      <td>Mean Hospitalized Age_Last2Weeks</td>\n",
       "      <td>Mean Hospitalized Age_Last2Weeks</td>\n",
       "      <td>NaN</td>\n",
       "      <td>Mean age of all probable and confirmed COVID-1...</td>\n",
       "      <td>NaN</td>\n",
       "      <td>NaN</td>\n",
       "    </tr>\n",
       "  </tbody>\n",
       "</table>\n",
       "</div>"
      ],
      "text/plain": [
       "    Current Table Name       Old Table Name             Current Variable Name  \\\n",
       "0  Age MeansLast2Weeks  Age MeansLast2Weeks                              Date   \n",
       "1                  NaN                  NaN                        Start Date   \n",
       "2                  NaN                  NaN                          End Date   \n",
       "3                  NaN                  NaN       Mean Overall Age_Last2Weeks   \n",
       "4                  NaN                  NaN  Mean Hospitalized Age_Last2Weeks   \n",
       "\n",
       "                  Old Variable Name Frequency of Data Updates  \\\n",
       "0                              Date                    Weekly   \n",
       "1                               NaN                       NaN   \n",
       "2                               NaN                       NaN   \n",
       "3       Mean Overall Age_Last2Weeks                       NaN   \n",
       "4  Mean Hospitalized Age_Last2Weeks                       NaN   \n",
       "\n",
       "                                         Description Notes  Unnamed: 7  \n",
       "0                Date of when this data was reported   NaN         NaN  \n",
       "1  First day of the \"last two weeks\" period to wh...   NaN         NaN  \n",
       "2  Last day of the \"last two weeks\" period to whi...   NaN         NaN  \n",
       "3  Date to which this data applies – by the date ...   NaN         NaN  \n",
       "4  Mean age of all probable and confirmed COVID-1...   NaN         NaN  "
      ]
     },
     "execution_count": 50,
     "metadata": {},
     "output_type": "execute_result"
    }
   ],
   "source": [
    "df.head()"
   ]
  },
  {
   "cell_type": "code",
   "execution_count": null,
   "id": "6e590bb3",
   "metadata": {},
   "outputs": [],
   "source": [
    "#Note: df does not match the excel spreadsheet I downloaded, something went wrong. \n",
    "#Maybe the url2 request didn't grab the .xls\n",
    "#Checked in my chrome downloads folder, the .xls should be around 2,425 kb. Small enough for bs4?"
   ]
  },
  {
   "cell_type": "code",
   "execution_count": 15,
   "id": "c96bbe80",
   "metadata": {},
   "outputs": [],
   "source": [
    "from bs4 import BeautifulSoup\n",
    "from urllib.request import urlopen, Request"
   ]
  },
  {
   "cell_type": "code",
   "execution_count": 63,
   "id": "84a1be67",
   "metadata": {},
   "outputs": [
    {
     "ename": "HTTPError",
     "evalue": "HTTP Error 403: Forbidden",
     "output_type": "error",
     "traceback": [
      "\u001b[1;31m---------------------------------------------------------------------------\u001b[0m",
      "\u001b[1;31mHTTPError\u001b[0m                                 Traceback (most recent call last)",
      "\u001b[1;32m<ipython-input-63-ab7d7e9b2d77>\u001b[0m in \u001b[0;36m<module>\u001b[1;34m\u001b[0m\n\u001b[0;32m      1\u001b[0m \u001b[0murl2\u001b[0m \u001b[1;33m=\u001b[0m \u001b[1;34m'https://www.mass.gov/doc/covid-19-raw-data-june-15-2021/download'\u001b[0m\u001b[1;33m\u001b[0m\u001b[1;33m\u001b[0m\u001b[0m\n\u001b[0;32m      2\u001b[0m \u001b[0mrequest\u001b[0m \u001b[1;33m=\u001b[0m \u001b[0mRequest\u001b[0m\u001b[1;33m(\u001b[0m\u001b[0murl2\u001b[0m\u001b[1;33m)\u001b[0m\u001b[1;33m\u001b[0m\u001b[1;33m\u001b[0m\u001b[0m\n\u001b[1;32m----> 3\u001b[1;33m \u001b[0mresponse\u001b[0m \u001b[1;33m=\u001b[0m \u001b[0murlopen\u001b[0m\u001b[1;33m(\u001b[0m\u001b[0mrequest\u001b[0m\u001b[1;33m)\u001b[0m\u001b[1;33m\u001b[0m\u001b[1;33m\u001b[0m\u001b[0m\n\u001b[0m\u001b[0;32m      4\u001b[0m \u001b[0mprint\u001b[0m\u001b[1;33m(\u001b[0m\u001b[0mtype\u001b[0m\u001b[1;33m(\u001b[0m\u001b[0mresponse\u001b[0m\u001b[1;33m)\u001b[0m\u001b[1;33m)\u001b[0m\u001b[1;33m\u001b[0m\u001b[1;33m\u001b[0m\u001b[0m\n\u001b[0;32m      5\u001b[0m \u001b[0mresponse\u001b[0m\u001b[1;33m.\u001b[0m\u001b[0mclose\u001b[0m\u001b[1;33m(\u001b[0m\u001b[1;33m)\u001b[0m\u001b[1;33m\u001b[0m\u001b[1;33m\u001b[0m\u001b[0m\n",
      "\u001b[1;32m~\\anaconda3\\lib\\urllib\\request.py\u001b[0m in \u001b[0;36murlopen\u001b[1;34m(url, data, timeout, cafile, capath, cadefault, context)\u001b[0m\n\u001b[0;32m    220\u001b[0m     \u001b[1;32melse\u001b[0m\u001b[1;33m:\u001b[0m\u001b[1;33m\u001b[0m\u001b[1;33m\u001b[0m\u001b[0m\n\u001b[0;32m    221\u001b[0m         \u001b[0mopener\u001b[0m \u001b[1;33m=\u001b[0m \u001b[0m_opener\u001b[0m\u001b[1;33m\u001b[0m\u001b[1;33m\u001b[0m\u001b[0m\n\u001b[1;32m--> 222\u001b[1;33m     \u001b[1;32mreturn\u001b[0m \u001b[0mopener\u001b[0m\u001b[1;33m.\u001b[0m\u001b[0mopen\u001b[0m\u001b[1;33m(\u001b[0m\u001b[0murl\u001b[0m\u001b[1;33m,\u001b[0m \u001b[0mdata\u001b[0m\u001b[1;33m,\u001b[0m \u001b[0mtimeout\u001b[0m\u001b[1;33m)\u001b[0m\u001b[1;33m\u001b[0m\u001b[1;33m\u001b[0m\u001b[0m\n\u001b[0m\u001b[0;32m    223\u001b[0m \u001b[1;33m\u001b[0m\u001b[0m\n\u001b[0;32m    224\u001b[0m \u001b[1;32mdef\u001b[0m \u001b[0minstall_opener\u001b[0m\u001b[1;33m(\u001b[0m\u001b[0mopener\u001b[0m\u001b[1;33m)\u001b[0m\u001b[1;33m:\u001b[0m\u001b[1;33m\u001b[0m\u001b[1;33m\u001b[0m\u001b[0m\n",
      "\u001b[1;32m~\\anaconda3\\lib\\urllib\\request.py\u001b[0m in \u001b[0;36mopen\u001b[1;34m(self, fullurl, data, timeout)\u001b[0m\n\u001b[0;32m    529\u001b[0m         \u001b[1;32mfor\u001b[0m \u001b[0mprocessor\u001b[0m \u001b[1;32min\u001b[0m \u001b[0mself\u001b[0m\u001b[1;33m.\u001b[0m\u001b[0mprocess_response\u001b[0m\u001b[1;33m.\u001b[0m\u001b[0mget\u001b[0m\u001b[1;33m(\u001b[0m\u001b[0mprotocol\u001b[0m\u001b[1;33m,\u001b[0m \u001b[1;33m[\u001b[0m\u001b[1;33m]\u001b[0m\u001b[1;33m)\u001b[0m\u001b[1;33m:\u001b[0m\u001b[1;33m\u001b[0m\u001b[1;33m\u001b[0m\u001b[0m\n\u001b[0;32m    530\u001b[0m             \u001b[0mmeth\u001b[0m \u001b[1;33m=\u001b[0m \u001b[0mgetattr\u001b[0m\u001b[1;33m(\u001b[0m\u001b[0mprocessor\u001b[0m\u001b[1;33m,\u001b[0m \u001b[0mmeth_name\u001b[0m\u001b[1;33m)\u001b[0m\u001b[1;33m\u001b[0m\u001b[1;33m\u001b[0m\u001b[0m\n\u001b[1;32m--> 531\u001b[1;33m             \u001b[0mresponse\u001b[0m \u001b[1;33m=\u001b[0m \u001b[0mmeth\u001b[0m\u001b[1;33m(\u001b[0m\u001b[0mreq\u001b[0m\u001b[1;33m,\u001b[0m \u001b[0mresponse\u001b[0m\u001b[1;33m)\u001b[0m\u001b[1;33m\u001b[0m\u001b[1;33m\u001b[0m\u001b[0m\n\u001b[0m\u001b[0;32m    532\u001b[0m \u001b[1;33m\u001b[0m\u001b[0m\n\u001b[0;32m    533\u001b[0m         \u001b[1;32mreturn\u001b[0m \u001b[0mresponse\u001b[0m\u001b[1;33m\u001b[0m\u001b[1;33m\u001b[0m\u001b[0m\n",
      "\u001b[1;32m~\\anaconda3\\lib\\urllib\\request.py\u001b[0m in \u001b[0;36mhttp_response\u001b[1;34m(self, request, response)\u001b[0m\n\u001b[0;32m    638\u001b[0m         \u001b[1;31m# request was successfully received, understood, and accepted.\u001b[0m\u001b[1;33m\u001b[0m\u001b[1;33m\u001b[0m\u001b[1;33m\u001b[0m\u001b[0m\n\u001b[0;32m    639\u001b[0m         \u001b[1;32mif\u001b[0m \u001b[1;32mnot\u001b[0m \u001b[1;33m(\u001b[0m\u001b[1;36m200\u001b[0m \u001b[1;33m<=\u001b[0m \u001b[0mcode\u001b[0m \u001b[1;33m<\u001b[0m \u001b[1;36m300\u001b[0m\u001b[1;33m)\u001b[0m\u001b[1;33m:\u001b[0m\u001b[1;33m\u001b[0m\u001b[1;33m\u001b[0m\u001b[0m\n\u001b[1;32m--> 640\u001b[1;33m             response = self.parent.error(\n\u001b[0m\u001b[0;32m    641\u001b[0m                 'http', request, response, code, msg, hdrs)\n\u001b[0;32m    642\u001b[0m \u001b[1;33m\u001b[0m\u001b[0m\n",
      "\u001b[1;32m~\\anaconda3\\lib\\urllib\\request.py\u001b[0m in \u001b[0;36merror\u001b[1;34m(self, proto, *args)\u001b[0m\n\u001b[0;32m    567\u001b[0m         \u001b[1;32mif\u001b[0m \u001b[0mhttp_err\u001b[0m\u001b[1;33m:\u001b[0m\u001b[1;33m\u001b[0m\u001b[1;33m\u001b[0m\u001b[0m\n\u001b[0;32m    568\u001b[0m             \u001b[0margs\u001b[0m \u001b[1;33m=\u001b[0m \u001b[1;33m(\u001b[0m\u001b[0mdict\u001b[0m\u001b[1;33m,\u001b[0m \u001b[1;34m'default'\u001b[0m\u001b[1;33m,\u001b[0m \u001b[1;34m'http_error_default'\u001b[0m\u001b[1;33m)\u001b[0m \u001b[1;33m+\u001b[0m \u001b[0morig_args\u001b[0m\u001b[1;33m\u001b[0m\u001b[1;33m\u001b[0m\u001b[0m\n\u001b[1;32m--> 569\u001b[1;33m             \u001b[1;32mreturn\u001b[0m \u001b[0mself\u001b[0m\u001b[1;33m.\u001b[0m\u001b[0m_call_chain\u001b[0m\u001b[1;33m(\u001b[0m\u001b[1;33m*\u001b[0m\u001b[0margs\u001b[0m\u001b[1;33m)\u001b[0m\u001b[1;33m\u001b[0m\u001b[1;33m\u001b[0m\u001b[0m\n\u001b[0m\u001b[0;32m    570\u001b[0m \u001b[1;33m\u001b[0m\u001b[0m\n\u001b[0;32m    571\u001b[0m \u001b[1;31m# XXX probably also want an abstract factory that knows when it makes\u001b[0m\u001b[1;33m\u001b[0m\u001b[1;33m\u001b[0m\u001b[1;33m\u001b[0m\u001b[0m\n",
      "\u001b[1;32m~\\anaconda3\\lib\\urllib\\request.py\u001b[0m in \u001b[0;36m_call_chain\u001b[1;34m(self, chain, kind, meth_name, *args)\u001b[0m\n\u001b[0;32m    500\u001b[0m         \u001b[1;32mfor\u001b[0m \u001b[0mhandler\u001b[0m \u001b[1;32min\u001b[0m \u001b[0mhandlers\u001b[0m\u001b[1;33m:\u001b[0m\u001b[1;33m\u001b[0m\u001b[1;33m\u001b[0m\u001b[0m\n\u001b[0;32m    501\u001b[0m             \u001b[0mfunc\u001b[0m \u001b[1;33m=\u001b[0m \u001b[0mgetattr\u001b[0m\u001b[1;33m(\u001b[0m\u001b[0mhandler\u001b[0m\u001b[1;33m,\u001b[0m \u001b[0mmeth_name\u001b[0m\u001b[1;33m)\u001b[0m\u001b[1;33m\u001b[0m\u001b[1;33m\u001b[0m\u001b[0m\n\u001b[1;32m--> 502\u001b[1;33m             \u001b[0mresult\u001b[0m \u001b[1;33m=\u001b[0m \u001b[0mfunc\u001b[0m\u001b[1;33m(\u001b[0m\u001b[1;33m*\u001b[0m\u001b[0margs\u001b[0m\u001b[1;33m)\u001b[0m\u001b[1;33m\u001b[0m\u001b[1;33m\u001b[0m\u001b[0m\n\u001b[0m\u001b[0;32m    503\u001b[0m             \u001b[1;32mif\u001b[0m \u001b[0mresult\u001b[0m \u001b[1;32mis\u001b[0m \u001b[1;32mnot\u001b[0m \u001b[1;32mNone\u001b[0m\u001b[1;33m:\u001b[0m\u001b[1;33m\u001b[0m\u001b[1;33m\u001b[0m\u001b[0m\n\u001b[0;32m    504\u001b[0m                 \u001b[1;32mreturn\u001b[0m \u001b[0mresult\u001b[0m\u001b[1;33m\u001b[0m\u001b[1;33m\u001b[0m\u001b[0m\n",
      "\u001b[1;32m~\\anaconda3\\lib\\urllib\\request.py\u001b[0m in \u001b[0;36mhttp_error_default\u001b[1;34m(self, req, fp, code, msg, hdrs)\u001b[0m\n\u001b[0;32m    647\u001b[0m \u001b[1;32mclass\u001b[0m \u001b[0mHTTPDefaultErrorHandler\u001b[0m\u001b[1;33m(\u001b[0m\u001b[0mBaseHandler\u001b[0m\u001b[1;33m)\u001b[0m\u001b[1;33m:\u001b[0m\u001b[1;33m\u001b[0m\u001b[1;33m\u001b[0m\u001b[0m\n\u001b[0;32m    648\u001b[0m     \u001b[1;32mdef\u001b[0m \u001b[0mhttp_error_default\u001b[0m\u001b[1;33m(\u001b[0m\u001b[0mself\u001b[0m\u001b[1;33m,\u001b[0m \u001b[0mreq\u001b[0m\u001b[1;33m,\u001b[0m \u001b[0mfp\u001b[0m\u001b[1;33m,\u001b[0m \u001b[0mcode\u001b[0m\u001b[1;33m,\u001b[0m \u001b[0mmsg\u001b[0m\u001b[1;33m,\u001b[0m \u001b[0mhdrs\u001b[0m\u001b[1;33m)\u001b[0m\u001b[1;33m:\u001b[0m\u001b[1;33m\u001b[0m\u001b[1;33m\u001b[0m\u001b[0m\n\u001b[1;32m--> 649\u001b[1;33m         \u001b[1;32mraise\u001b[0m \u001b[0mHTTPError\u001b[0m\u001b[1;33m(\u001b[0m\u001b[0mreq\u001b[0m\u001b[1;33m.\u001b[0m\u001b[0mfull_url\u001b[0m\u001b[1;33m,\u001b[0m \u001b[0mcode\u001b[0m\u001b[1;33m,\u001b[0m \u001b[0mmsg\u001b[0m\u001b[1;33m,\u001b[0m \u001b[0mhdrs\u001b[0m\u001b[1;33m,\u001b[0m \u001b[0mfp\u001b[0m\u001b[1;33m)\u001b[0m\u001b[1;33m\u001b[0m\u001b[1;33m\u001b[0m\u001b[0m\n\u001b[0m\u001b[0;32m    650\u001b[0m \u001b[1;33m\u001b[0m\u001b[0m\n\u001b[0;32m    651\u001b[0m \u001b[1;32mclass\u001b[0m \u001b[0mHTTPRedirectHandler\u001b[0m\u001b[1;33m(\u001b[0m\u001b[0mBaseHandler\u001b[0m\u001b[1;33m)\u001b[0m\u001b[1;33m:\u001b[0m\u001b[1;33m\u001b[0m\u001b[1;33m\u001b[0m\u001b[0m\n",
      "\u001b[1;31mHTTPError\u001b[0m: HTTP Error 403: Forbidden"
     ]
    }
   ],
   "source": [
    "#Request is forbidden 403 - try BS4\n",
    "#url2 = 'https://www.mass.gov/doc/covid-19-raw-data-june-15-2021/download'\n",
    "#request = Request(url2)\n",
    "#response = urlopen(request)\n",
    "#print(type(response))\n",
    "#response.close()"
   ]
  },
  {
   "cell_type": "code",
   "execution_count": 64,
   "id": "e1a30877",
   "metadata": {},
   "outputs": [
    {
     "name": "stderr",
     "output_type": "stream",
     "text": [
      "IOPub data rate exceeded.\n",
      "The notebook server will temporarily stop sending output\n",
      "to the client in order to avoid crashing it.\n",
      "To change this limit, set the config variable\n",
      "`--NotebookApp.iopub_data_rate_limit`.\n",
      "\n",
      "Current values:\n",
      "NotebookApp.iopub_data_rate_limit=1000000.0 (bytes/sec)\n",
      "NotebookApp.rate_limit_window=3.0 (secs)\n",
      "\n"
     ]
    }
   ],
   "source": [
    "#Once again, the file is too big! Must consider streaming in chunks\n",
    "#r = requests.get(url2)\n",
    "#text = r.text\n",
    "#print(text)"
   ]
  },
  {
   "cell_type": "code",
   "execution_count": 18,
   "id": "e129ab6c",
   "metadata": {},
   "outputs": [
    {
     "name": "stdout",
     "output_type": "stream",
     "text": [
      "<title>covid-19-raw-data-file-6-15-2021.xlsx | Mass.gov</title>\n"
     ]
    }
   ],
   "source": [
    "#found a link to the specific xls\n",
    "#testing to see if BS4 can ID and isolate the href with .xls \n",
    "url3 = 'https://www.mass.gov/doc/covid-19-raw-data-june-15-2021'\n",
    "r = requests.get(url3)\n",
    "html_doc = r.text\n",
    "soup = BeautifulSoup(html_doc)\n",
    "print(soup.title)"
   ]
  },
  {
   "cell_type": "code",
   "execution_count": 20,
   "id": "fc6fa95e",
   "metadata": {},
   "outputs": [
    {
     "name": "stdout",
     "output_type": "stream",
     "text": [
      "#main-content\n",
      "/info-details/massachusetts-state-organizations-a-to-z\n",
      "https://sso.hhs.state.ma.us/\n",
      "https://uionline.detma.org/Claimant/Core/Login.ASPX\n",
      "https://ecse.cse.state.ma.us/ECSE/Login/login.asp\n",
      "/\n",
      "/topics/health-social-services\n",
      "/topics/families-children\n",
      "/topics/housing-property\n",
      "/topics/transportation\n",
      "/topics/legal-justice\n",
      "/topics/public-safety\n",
      "/topics/energy\n",
      "/topics/environment\n",
      "/topics/taxes\n",
      "/topics/unclaimed-property\n",
      "/topics/vital-public-records\n",
      "/topics/voting\n",
      "/topics/living\n",
      "/topics/business-resources\n",
      "/topics/professional-licenses-permits\n",
      "/topics/unemployment\n",
      "/topics/finding-a-job\n",
      "/topics/taxes\n",
      "/topics/workers-rights-safety\n",
      "/topics/industry-regulations\n",
      "/topics/state-employee-resources\n",
      "/topics/working\n",
      "/topics/early-childhood-education-care\n",
      "/topics/elementary-secondary-schools\n",
      "/topics/higher-education\n",
      "/topics/continuing-education\n",
      "/topics/for-educators-administrators\n",
      "/topics/professional-training-career-development\n",
      "/topics/learning\n",
      "/topics/parks-recreation\n",
      "/topics/fishing-hunting\n",
      "/topics/historic-sites\n",
      "/topics/arts\n",
      "/topics/family-fun\n",
      "/topics/travel-options\n",
      "/topics/seasonal-activities\n",
      "/topics/exploring-massachusetts\n",
      "/topics/executive-branch\n",
      "/topics/constitutionals-independents\n",
      "/topics/legislative-branch\n",
      "/topics/judicial-branch\n",
      "/topics/cities-towns\n",
      "https://www.mass.gov/info-details/massachusetts-state-organizations-a-to-z\n",
      "/topics/your-government\n",
      "/covid-19-updates-and-information\n",
      "/info-details/massachusetts-state-organizations-a-to-z\n",
      "https://sso.hhs.state.ma.us/\n",
      "https://uionline.detma.org/Claimant/Core/Login.ASPX\n",
      "https://ecse.cse.state.ma.us/ECSE/Login/login.asp\n",
      "/\n",
      "/doc/covid-19-raw-data-june-15-2021/download\n",
      "/\n",
      "https://www.facebook.com/massgov\n",
      "https://twitter.com/massgov\n",
      "https://www.linkedin.com/company/commonwealth-of-massachusetts\n",
      "https://www.youtube.com/user/massgov\n",
      "https://www.instagram.com/massgov/\n",
      "/privacypolicy\n",
      "/topics/living\n",
      "/topics/working\n",
      "/topics/learning\n",
      "/topics/exploring-massachusetts\n",
      "/topics/your-government\n",
      "/site-policies\n",
      "/topics/public-records-requests\n",
      "#feedback\n"
     ]
    }
   ],
   "source": [
    "file_format = '.xlsx'\n",
    "a_tags = soup.find_all('a')\n",
    "\n",
    "for link in a_tags:\n",
    "    print(link.get('href'))"
   ]
  },
  {
   "cell_type": "code",
   "execution_count": null,
   "id": "3e84b168",
   "metadata": {},
   "outputs": [],
   "source": [
    "#Stuck here. It seems the xls href doesn't point to the file itself, but maybe to a webapp /download\n",
    "#which obfuscates the file location. Ask Luka"
   ]
  }
 ],
 "metadata": {
  "kernelspec": {
   "display_name": "Python 3",
   "language": "python",
   "name": "python3"
  },
  "language_info": {
   "codemirror_mode": {
    "name": "ipython",
    "version": 3
   },
   "file_extension": ".py",
   "mimetype": "text/x-python",
   "name": "python",
   "nbconvert_exporter": "python",
   "pygments_lexer": "ipython3",
   "version": "3.8.8"
  }
 },
 "nbformat": 4,
 "nbformat_minor": 5
}
