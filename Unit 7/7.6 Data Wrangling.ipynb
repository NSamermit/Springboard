{
 "cells": [
  {
   "cell_type": "code",
   "execution_count": null,
   "id": "94b2dbf1",
   "metadata": {},
   "outputs": [],
   "source": [
    "'''\n",
    "Unit 7.6 Data Wrangling for Capstone 2\n",
    "Nantawat Samermit \n",
    "'''"
   ]
  },
  {
   "cell_type": "code",
   "execution_count": 6,
   "id": "04db6ff6",
   "metadata": {},
   "outputs": [],
   "source": [
    "#import relevant modules for data wrangling - keep on adding as needed\n",
    "import pandas as pd\n",
    "import json, requests\n",
    "import fuzzywuzzy \n",
    "import matplotlib"
   ]
  },
  {
   "cell_type": "code",
   "execution_count": 4,
   "id": "9bf6a9bd",
   "metadata": {},
   "outputs": [],
   "source": [
    "#ask Luka: Should I just use requests or should I use the API given by the data set manager?\n",
    "#here is a code snippet from the API doc\n",
    "#the source is: https://dev.socrata.com/foundry/data.cambridgema.gov/ayt4-g2ye\n",
    "\n",
    "#from sodapy import Socrates\n",
    "# Unauthenticated client only works with public data sets. Note 'None'\n",
    "# in place of application token, and no username or password:\n",
    "#client = Socrata(\"data.cambridgema.gov\", None)\n",
    "\n",
    "# Example authenticated client (needed for non-public datasets):\n",
    "# client = Socrata(data.cambridgema.gov,\n",
    "#                  MyAppToken,\n",
    "#                  userame=\"user@example.com\",\n",
    "#                  password=\"AFakePassword\")\n",
    "\n",
    "# First 2000 results, returned as JSON from API / converted to Python list of\n",
    "# dictionaries by sodapy.\n",
    "#results = client.get(\"ayt4-g2ye\", limit=2000)\n",
    "\n",
    "# Convert to pandas DataFrame\n",
    "#results_df = pd.DataFrame.from_records(results)"
   ]
  },
  {
   "cell_type": "code",
   "execution_count": 5,
   "id": "0b599091",
   "metadata": {},
   "outputs": [],
   "source": [
    "#Cambridge MA wastewater dataset as JSON\n",
    "url = 'https://data.cambridgema.gov/resource/ayt4-g2ye.json'"
   ]
  },
  {
   "cell_type": "code",
   "execution_count": 6,
   "id": "abf4c65e",
   "metadata": {},
   "outputs": [
    {
     "data": {
      "text/plain": [
       "{'date': '2020-10-01T00:00:00.000',\n",
       " 'mwra_concentration': '',\n",
       " 'mwra_7dayaverage': '31',\n",
       " 'concentration_mid_cambridge': '',\n",
       " 'concentration_east_cambridge': '',\n",
       " 'concentration_cambridgeport': '',\n",
       " 'concentration_north_west': '',\n",
       " 'highci_mid_cambridge': '',\n",
       " 'highci_east_cambridge': '',\n",
       " 'highci_cambridgeport': '',\n",
       " 'highci_north_west_cambridge': '',\n",
       " 'lowci_mid_cambridge': '',\n",
       " 'lowci_east_cambridge': '',\n",
       " 'lowci_cambridgeport': '',\n",
       " 'lowci_north_west_cambridge': ''}"
      ]
     },
     "execution_count": 6,
     "metadata": {},
     "output_type": "execute_result"
    }
   ],
   "source": [
    "request = requests.get(url)\n",
    "json_data = request.json()\n",
    "json_data[0]"
   ]
  },
  {
   "cell_type": "code",
   "execution_count": 6,
   "id": "2c51440b",
   "metadata": {},
   "outputs": [
    {
     "data": {
      "text/plain": [
       "list"
      ]
     },
     "execution_count": 6,
     "metadata": {},
     "output_type": "execute_result"
    }
   ],
   "source": [
    "#confirming json_data is NOT a df yet\n",
    "type(json_data)"
   ]
  },
  {
   "cell_type": "code",
   "execution_count": 7,
   "id": "a4dc282b",
   "metadata": {},
   "outputs": [],
   "source": [
    "#converting json_data to df\n",
    "Cambridge_df = pd.DataFrame(json_data)"
   ]
  },
  {
   "cell_type": "code",
   "execution_count": 8,
   "id": "84e6e00d",
   "metadata": {},
   "outputs": [
    {
     "data": {
      "text/plain": [
       "pandas.core.frame.DataFrame"
      ]
     },
     "execution_count": 8,
     "metadata": {},
     "output_type": "execute_result"
    }
   ],
   "source": [
    "type(Cambridge_df)"
   ]
  },
  {
   "cell_type": "code",
   "execution_count": 9,
   "id": "1e058153",
   "metadata": {},
   "outputs": [
    {
     "name": "stdout",
     "output_type": "stream",
     "text": [
      "<class 'pandas.core.frame.DataFrame'>\n",
      "RangeIndex: 253 entries, 0 to 252\n",
      "Data columns (total 15 columns):\n",
      " #   Column                        Non-Null Count  Dtype \n",
      "---  ------                        --------------  ----- \n",
      " 0   date                          253 non-null    object\n",
      " 1   mwra_concentration            253 non-null    object\n",
      " 2   mwra_7dayaverage              253 non-null    object\n",
      " 3   concentration_mid_cambridge   253 non-null    object\n",
      " 4   concentration_east_cambridge  253 non-null    object\n",
      " 5   concentration_cambridgeport   253 non-null    object\n",
      " 6   concentration_north_west      253 non-null    object\n",
      " 7   highci_mid_cambridge          253 non-null    object\n",
      " 8   highci_east_cambridge         253 non-null    object\n",
      " 9   highci_cambridgeport          253 non-null    object\n",
      " 10  highci_north_west_cambridge   253 non-null    object\n",
      " 11  lowci_mid_cambridge           253 non-null    object\n",
      " 12  lowci_east_cambridge          253 non-null    object\n",
      " 13  lowci_cambridgeport           253 non-null    object\n",
      " 14  lowci_north_west_cambridge    253 non-null    object\n",
      "dtypes: object(15)\n",
      "memory usage: 29.8+ KB\n"
     ]
    }
   ],
   "source": [
    "Cambridge_df.info()"
   ]
  },
  {
   "cell_type": "code",
   "execution_count": 10,
   "id": "dc012d40",
   "metadata": {},
   "outputs": [
    {
     "data": {
      "text/html": [
       "<div>\n",
       "<style scoped>\n",
       "    .dataframe tbody tr th:only-of-type {\n",
       "        vertical-align: middle;\n",
       "    }\n",
       "\n",
       "    .dataframe tbody tr th {\n",
       "        vertical-align: top;\n",
       "    }\n",
       "\n",
       "    .dataframe thead th {\n",
       "        text-align: right;\n",
       "    }\n",
       "</style>\n",
       "<table border=\"1\" class=\"dataframe\">\n",
       "  <thead>\n",
       "    <tr style=\"text-align: right;\">\n",
       "      <th></th>\n",
       "      <th>date</th>\n",
       "      <th>mwra_concentration</th>\n",
       "      <th>mwra_7dayaverage</th>\n",
       "      <th>concentration_mid_cambridge</th>\n",
       "      <th>concentration_east_cambridge</th>\n",
       "      <th>concentration_cambridgeport</th>\n",
       "      <th>concentration_north_west</th>\n",
       "      <th>highci_mid_cambridge</th>\n",
       "      <th>highci_east_cambridge</th>\n",
       "      <th>highci_cambridgeport</th>\n",
       "      <th>highci_north_west_cambridge</th>\n",
       "      <th>lowci_mid_cambridge</th>\n",
       "      <th>lowci_east_cambridge</th>\n",
       "      <th>lowci_cambridgeport</th>\n",
       "      <th>lowci_north_west_cambridge</th>\n",
       "    </tr>\n",
       "  </thead>\n",
       "  <tbody>\n",
       "    <tr>\n",
       "      <th>count</th>\n",
       "      <td>253</td>\n",
       "      <td>253</td>\n",
       "      <td>253</td>\n",
       "      <td>253</td>\n",
       "      <td>253</td>\n",
       "      <td>253</td>\n",
       "      <td>253</td>\n",
       "      <td>253</td>\n",
       "      <td>253</td>\n",
       "      <td>253</td>\n",
       "      <td>253</td>\n",
       "      <td>253</td>\n",
       "      <td>253</td>\n",
       "      <td>253</td>\n",
       "      <td>253</td>\n",
       "    </tr>\n",
       "    <tr>\n",
       "      <th>unique</th>\n",
       "      <td>253</td>\n",
       "      <td>216</td>\n",
       "      <td>197</td>\n",
       "      <td>28</td>\n",
       "      <td>30</td>\n",
       "      <td>24</td>\n",
       "      <td>30</td>\n",
       "      <td>28</td>\n",
       "      <td>30</td>\n",
       "      <td>24</td>\n",
       "      <td>30</td>\n",
       "      <td>28</td>\n",
       "      <td>30</td>\n",
       "      <td>24</td>\n",
       "      <td>30</td>\n",
       "    </tr>\n",
       "    <tr>\n",
       "      <th>top</th>\n",
       "      <td>2021-01-05T00:00:00.000</td>\n",
       "      <td></td>\n",
       "      <td>257</td>\n",
       "      <td></td>\n",
       "      <td></td>\n",
       "      <td></td>\n",
       "      <td></td>\n",
       "      <td></td>\n",
       "      <td></td>\n",
       "      <td></td>\n",
       "      <td></td>\n",
       "      <td></td>\n",
       "      <td></td>\n",
       "      <td></td>\n",
       "      <td></td>\n",
       "    </tr>\n",
       "    <tr>\n",
       "      <th>freq</th>\n",
       "      <td>1</td>\n",
       "      <td>10</td>\n",
       "      <td>5</td>\n",
       "      <td>226</td>\n",
       "      <td>224</td>\n",
       "      <td>228</td>\n",
       "      <td>224</td>\n",
       "      <td>226</td>\n",
       "      <td>224</td>\n",
       "      <td>228</td>\n",
       "      <td>224</td>\n",
       "      <td>226</td>\n",
       "      <td>224</td>\n",
       "      <td>228</td>\n",
       "      <td>224</td>\n",
       "    </tr>\n",
       "  </tbody>\n",
       "</table>\n",
       "</div>"
      ],
      "text/plain": [
       "                           date mwra_concentration mwra_7dayaverage  \\\n",
       "count                       253                253              253   \n",
       "unique                      253                216              197   \n",
       "top     2021-01-05T00:00:00.000                                 257   \n",
       "freq                          1                 10                5   \n",
       "\n",
       "       concentration_mid_cambridge concentration_east_cambridge  \\\n",
       "count                          253                          253   \n",
       "unique                          28                           30   \n",
       "top                                                               \n",
       "freq                           226                          224   \n",
       "\n",
       "       concentration_cambridgeport concentration_north_west  \\\n",
       "count                          253                      253   \n",
       "unique                          24                       30   \n",
       "top                                                           \n",
       "freq                           228                      224   \n",
       "\n",
       "       highci_mid_cambridge highci_east_cambridge highci_cambridgeport  \\\n",
       "count                   253                   253                  253   \n",
       "unique                   28                    30                   24   \n",
       "top                                                                      \n",
       "freq                    226                   224                  228   \n",
       "\n",
       "       highci_north_west_cambridge lowci_mid_cambridge lowci_east_cambridge  \\\n",
       "count                          253                 253                  253   \n",
       "unique                          30                  28                   30   \n",
       "top                                                                           \n",
       "freq                           224                 226                  224   \n",
       "\n",
       "       lowci_cambridgeport lowci_north_west_cambridge  \n",
       "count                  253                        253  \n",
       "unique                  24                         30  \n",
       "top                                                    \n",
       "freq                   228                        224  "
      ]
     },
     "execution_count": 10,
     "metadata": {},
     "output_type": "execute_result"
    }
   ],
   "source": [
    "Cambridge_df.describe()"
   ]
  },
  {
   "cell_type": "code",
   "execution_count": 11,
   "id": "95f62abc",
   "metadata": {},
   "outputs": [
    {
     "data": {
      "text/plain": [
       "'\\nFor my own review!\\n\\nColumn Definitions:\\nDate - sample date for 24 hour composite sample\\nMWRA_Concentration - Normalized SARS-CoV2 RNA Copies per ML collected during sampling period.\\nMWRA_7DayAverage - 7 day rolling average for Normalized SARS-CoV2 RNA Copies per ML collected during sampling period.\\nConcentration_* - Normalized SARS-CoV2 RNA Copies per ML collected during sampling period.\\nhighci_* - Upper Limit on Confidence Interval for Normalized SARS-CoV2 RNA Copies per ML collected during sampling period.\\nlowci_* - Lower Limit on Confidence Interval for Normalized SARS-CoV2 RNA Copies per ML collected during sampling period.\\n* means there are multiple columns with this prefix which share the same definition - Nantawat\\n\\nA refresher on confidence interval limits - https://bit.ly/3vtuI7h\\n'"
      ]
     },
     "execution_count": 11,
     "metadata": {},
     "output_type": "execute_result"
    }
   ],
   "source": [
    "'''\n",
    "For my own review!\n",
    "\n",
    "Column Definitions:\n",
    "Date - sample date for 24 hour composite sample\n",
    "MWRA_Concentration - Normalized SARS-CoV2 RNA Copies per ML collected during sampling period.\n",
    "MWRA_7DayAverage - 7 day rolling average for Normalized SARS-CoV2 RNA Copies per ML collected during sampling period.\n",
    "Concentration_* - Normalized SARS-CoV2 RNA Copies per ML collected during sampling period.\n",
    "highci_* - Upper Limit on Confidence Interval for Normalized SARS-CoV2 RNA Copies per ML collected during sampling period.\n",
    "lowci_* - Lower Limit on Confidence Interval for Normalized SARS-CoV2 RNA Copies per ML collected during sampling period.\n",
    "* means there are multiple columns with this prefix which share the same definition - Nantawat\n",
    "\n",
    "A refresher on confidence interval limits - https://bit.ly/3vtuI7h\n",
    "'''"
   ]
  },
  {
   "cell_type": "code",
   "execution_count": 12,
   "id": "3d0b8315",
   "metadata": {},
   "outputs": [
    {
     "data": {
      "text/html": [
       "<div>\n",
       "<style scoped>\n",
       "    .dataframe tbody tr th:only-of-type {\n",
       "        vertical-align: middle;\n",
       "    }\n",
       "\n",
       "    .dataframe tbody tr th {\n",
       "        vertical-align: top;\n",
       "    }\n",
       "\n",
       "    .dataframe thead th {\n",
       "        text-align: right;\n",
       "    }\n",
       "</style>\n",
       "<table border=\"1\" class=\"dataframe\">\n",
       "  <thead>\n",
       "    <tr style=\"text-align: right;\">\n",
       "      <th></th>\n",
       "      <th>date</th>\n",
       "      <th>mwra_concentration</th>\n",
       "      <th>mwra_7dayaverage</th>\n",
       "      <th>concentration_mid_cambridge</th>\n",
       "      <th>concentration_east_cambridge</th>\n",
       "      <th>concentration_cambridgeport</th>\n",
       "      <th>concentration_north_west</th>\n",
       "      <th>highci_mid_cambridge</th>\n",
       "      <th>highci_east_cambridge</th>\n",
       "      <th>highci_cambridgeport</th>\n",
       "      <th>highci_north_west_cambridge</th>\n",
       "      <th>lowci_mid_cambridge</th>\n",
       "      <th>lowci_east_cambridge</th>\n",
       "      <th>lowci_cambridgeport</th>\n",
       "      <th>lowci_north_west_cambridge</th>\n",
       "    </tr>\n",
       "  </thead>\n",
       "  <tbody>\n",
       "    <tr>\n",
       "      <th>248</th>\n",
       "      <td>2021-06-06T00:00:00.000</td>\n",
       "      <td>24</td>\n",
       "      <td>25</td>\n",
       "      <td></td>\n",
       "      <td></td>\n",
       "      <td></td>\n",
       "      <td></td>\n",
       "      <td></td>\n",
       "      <td></td>\n",
       "      <td></td>\n",
       "      <td></td>\n",
       "      <td></td>\n",
       "      <td></td>\n",
       "      <td></td>\n",
       "      <td></td>\n",
       "    </tr>\n",
       "    <tr>\n",
       "      <th>249</th>\n",
       "      <td>2021-06-07T00:00:00.000</td>\n",
       "      <td>29</td>\n",
       "      <td>27</td>\n",
       "      <td></td>\n",
       "      <td></td>\n",
       "      <td></td>\n",
       "      <td></td>\n",
       "      <td></td>\n",
       "      <td></td>\n",
       "      <td></td>\n",
       "      <td></td>\n",
       "      <td></td>\n",
       "      <td></td>\n",
       "      <td></td>\n",
       "      <td></td>\n",
       "    </tr>\n",
       "    <tr>\n",
       "      <th>250</th>\n",
       "      <td>2021-06-08T00:00:00.000</td>\n",
       "      <td>15</td>\n",
       "      <td>24</td>\n",
       "      <td></td>\n",
       "      <td></td>\n",
       "      <td></td>\n",
       "      <td></td>\n",
       "      <td></td>\n",
       "      <td></td>\n",
       "      <td></td>\n",
       "      <td></td>\n",
       "      <td></td>\n",
       "      <td></td>\n",
       "      <td></td>\n",
       "      <td></td>\n",
       "    </tr>\n",
       "    <tr>\n",
       "      <th>251</th>\n",
       "      <td>2021-06-09T00:00:00.000</td>\n",
       "      <td>14</td>\n",
       "      <td>22</td>\n",
       "      <td></td>\n",
       "      <td></td>\n",
       "      <td></td>\n",
       "      <td></td>\n",
       "      <td></td>\n",
       "      <td></td>\n",
       "      <td></td>\n",
       "      <td></td>\n",
       "      <td></td>\n",
       "      <td></td>\n",
       "      <td></td>\n",
       "      <td></td>\n",
       "    </tr>\n",
       "    <tr>\n",
       "      <th>252</th>\n",
       "      <td>2021-06-10T00:00:00.000</td>\n",
       "      <td>33</td>\n",
       "      <td>23</td>\n",
       "      <td></td>\n",
       "      <td></td>\n",
       "      <td></td>\n",
       "      <td></td>\n",
       "      <td></td>\n",
       "      <td></td>\n",
       "      <td></td>\n",
       "      <td></td>\n",
       "      <td></td>\n",
       "      <td></td>\n",
       "      <td></td>\n",
       "      <td></td>\n",
       "    </tr>\n",
       "  </tbody>\n",
       "</table>\n",
       "</div>"
      ],
      "text/plain": [
       "                        date mwra_concentration mwra_7dayaverage  \\\n",
       "248  2021-06-06T00:00:00.000                 24               25   \n",
       "249  2021-06-07T00:00:00.000                 29               27   \n",
       "250  2021-06-08T00:00:00.000                 15               24   \n",
       "251  2021-06-09T00:00:00.000                 14               22   \n",
       "252  2021-06-10T00:00:00.000                 33               23   \n",
       "\n",
       "    concentration_mid_cambridge concentration_east_cambridge  \\\n",
       "248                                                            \n",
       "249                                                            \n",
       "250                                                            \n",
       "251                                                            \n",
       "252                                                            \n",
       "\n",
       "    concentration_cambridgeport concentration_north_west highci_mid_cambridge  \\\n",
       "248                                                                             \n",
       "249                                                                             \n",
       "250                                                                             \n",
       "251                                                                             \n",
       "252                                                                             \n",
       "\n",
       "    highci_east_cambridge highci_cambridgeport highci_north_west_cambridge  \\\n",
       "248                                                                          \n",
       "249                                                                          \n",
       "250                                                                          \n",
       "251                                                                          \n",
       "252                                                                          \n",
       "\n",
       "    lowci_mid_cambridge lowci_east_cambridge lowci_cambridgeport  \\\n",
       "248                                                                \n",
       "249                                                                \n",
       "250                                                                \n",
       "251                                                                \n",
       "252                                                                \n",
       "\n",
       "    lowci_north_west_cambridge  \n",
       "248                             \n",
       "249                             \n",
       "250                             \n",
       "251                             \n",
       "252                             "
      ]
     },
     "execution_count": 12,
     "metadata": {},
     "output_type": "execute_result"
    }
   ],
   "source": [
    "Cambridge_df.tail()"
   ]
  },
  {
   "cell_type": "code",
   "execution_count": 13,
   "id": "c8fa46a7",
   "metadata": {},
   "outputs": [],
   "source": [
    "#Note: There seems to be plenty of empty values, must make sure to sanitize them to NaN \n",
    "# The last date entry is for 6/10/21"
   ]
  },
  {
   "cell_type": "code",
   "execution_count": 7,
   "id": "0cf87000",
   "metadata": {},
   "outputs": [],
   "source": [
    "#scraping for Massachusett's DoH dataset. Note this dataset's last entry is for 6/15/21\n",
    "url2 = 'https://www.mass.gov/doc/covid-19-raw-data-june-15-2021/download'"
   ]
  },
  {
   "cell_type": "code",
   "execution_count": 8,
   "id": "32e1af1f",
   "metadata": {},
   "outputs": [],
   "source": [
    "#This seems like a big file, can I stream it in chunks?\n",
    "Mass_request = requests.get(url2)    \n",
    "\n"
   ]
  },
  {
   "cell_type": "code",
   "execution_count": 26,
   "id": "e5466950",
   "metadata": {},
   "outputs": [
    {
     "data": {
      "text/plain": [
       "{'Date': 'Wed, 16 Jun 2021 18:35:42 GMT', 'Content-Type': 'application/vnd.openxmlformats-officedocument.spreadsheetml.sheet', 'Content-Length': '2482381', 'Connection': 'keep-alive', 'CF-Ray': '660623b5dfc9286f-DFW', 'Accept-Ranges': 'bytes', 'Age': '75526', 'Cache-Control': 'public, max-age=60', 'Content-Disposition': 'inline; filename=\"covid-19-raw-data-file-6-15-2021.xlsx\"', 'Expires': 'Wed, 30 Jun 2021 18:35:42 GMT', 'Last-Modified': 'Tue, 15 Jun 2021 21:06:44 GMT', 'Vary': 'Accept-Encoding', 'Via': 'varnish', 'CF-Cache-Status': 'HIT', 'cf-request-id': '0ab7b4a5a90000286f81293000000001', 'Expect-CT': 'max-age=604800, report-uri=\"https://report-uri.cloudflare.com/cdn-cgi/beacon/expect-ct\"', 'X-Cache': 'HIT', 'X-Cache-Hits': '12', 'X-Content-Type-Options': 'nosniff', 'X-Request-ID': 'v-aa5a8f2e-ce1d-11eb-8214-5774f8677340', 'Set-Cookie': '__cfruid=c33e3f8bec17822f86d4e99d11cd5f8e1758c127-1623868542; path=/; domain=.mass.gov; HttpOnly; Secure; SameSite=None', 'Server': 'cloudflare', 'alt-svc': 'h3-27=\":443\"; ma=86400, h3-28=\":443\"; ma=86400, h3-29=\":443\"; ma=86400, h3=\":443\"; ma=86400'}"
      ]
     },
     "execution_count": 26,
     "metadata": {},
     "output_type": "execute_result"
    }
   ],
   "source": [
    "#Note: Mass_request.content reveals something funky, can't describe it\n",
    "#Mass_request.content\n",
    "Mass_request.headers"
   ]
  },
  {
   "cell_type": "code",
   "execution_count": 9,
   "id": "d5b64f57",
   "metadata": {},
   "outputs": [],
   "source": [
    "#from this StackOverflow article, BytesIO might be able to help\n",
    "# https://stackoverflow.com/questions/58147689/python-how-to-read-excel-file-from-requests-response\n",
    "import io"
   ]
  },
  {
   "cell_type": "code",
   "execution_count": 10,
   "id": "d62b5757",
   "metadata": {},
   "outputs": [],
   "source": [
    "with io.BytesIO(Mass_request.content) as file:\n",
    "    df = pd.io.excel.read_excel(file)"
   ]
  },
  {
   "cell_type": "code",
   "execution_count": 14,
   "id": "86e84ae9",
   "metadata": {},
   "outputs": [
    {
     "data": {
      "text/plain": [
       "Index(['Current Table Name', 'Old Table Name', 'Current Variable Name',\n",
       "       'Old Variable Name', 'Frequency of Data Updates', 'Description',\n",
       "       'Notes', 'Unnamed: 7'],\n",
       "      dtype='object')"
      ]
     },
     "execution_count": 14,
     "metadata": {},
     "output_type": "execute_result"
    }
   ],
   "source": [
    "df.columns"
   ]
  },
  {
   "cell_type": "code",
   "execution_count": 2,
   "id": "61ffd277",
   "metadata": {},
   "outputs": [],
   "source": [
    "#Note: df does not match the excel spreadsheet I downloaded, something went wrong. \n",
    "#Maybe the url2 request didn't grab the .xls\n",
    "#Checked in my chrome downloads folder, the .xls should be around 2,425 kb. Small enough for bs4?"
   ]
  },
  {
   "cell_type": "code",
   "execution_count": 15,
   "id": "8cb1e704",
   "metadata": {},
   "outputs": [],
   "source": [
    "from bs4 import BeautifulSoup\n",
    "from urllib.request import urlopen, Request"
   ]
  },
  {
   "cell_type": "code",
   "execution_count": 63,
   "id": "ec7a7ede",
   "metadata": {},
   "outputs": [
    {
     "ename": "HTTPError",
     "evalue": "HTTP Error 403: Forbidden",
     "output_type": "error",
     "traceback": [
      "\u001b[1;31m---------------------------------------------------------------------------\u001b[0m",
      "\u001b[1;31mHTTPError\u001b[0m                                 Traceback (most recent call last)",
      "\u001b[1;32m<ipython-input-63-ab7d7e9b2d77>\u001b[0m in \u001b[0;36m<module>\u001b[1;34m\u001b[0m\n\u001b[0;32m      1\u001b[0m \u001b[0murl2\u001b[0m \u001b[1;33m=\u001b[0m \u001b[1;34m'https://www.mass.gov/doc/covid-19-raw-data-june-15-2021/download'\u001b[0m\u001b[1;33m\u001b[0m\u001b[1;33m\u001b[0m\u001b[0m\n\u001b[0;32m      2\u001b[0m \u001b[0mrequest\u001b[0m \u001b[1;33m=\u001b[0m \u001b[0mRequest\u001b[0m\u001b[1;33m(\u001b[0m\u001b[0murl2\u001b[0m\u001b[1;33m)\u001b[0m\u001b[1;33m\u001b[0m\u001b[1;33m\u001b[0m\u001b[0m\n\u001b[1;32m----> 3\u001b[1;33m \u001b[0mresponse\u001b[0m \u001b[1;33m=\u001b[0m \u001b[0murlopen\u001b[0m\u001b[1;33m(\u001b[0m\u001b[0mrequest\u001b[0m\u001b[1;33m)\u001b[0m\u001b[1;33m\u001b[0m\u001b[1;33m\u001b[0m\u001b[0m\n\u001b[0m\u001b[0;32m      4\u001b[0m \u001b[0mprint\u001b[0m\u001b[1;33m(\u001b[0m\u001b[0mtype\u001b[0m\u001b[1;33m(\u001b[0m\u001b[0mresponse\u001b[0m\u001b[1;33m)\u001b[0m\u001b[1;33m)\u001b[0m\u001b[1;33m\u001b[0m\u001b[1;33m\u001b[0m\u001b[0m\n\u001b[0;32m      5\u001b[0m \u001b[0mresponse\u001b[0m\u001b[1;33m.\u001b[0m\u001b[0mclose\u001b[0m\u001b[1;33m(\u001b[0m\u001b[1;33m)\u001b[0m\u001b[1;33m\u001b[0m\u001b[1;33m\u001b[0m\u001b[0m\n",
      "\u001b[1;32m~\\anaconda3\\lib\\urllib\\request.py\u001b[0m in \u001b[0;36murlopen\u001b[1;34m(url, data, timeout, cafile, capath, cadefault, context)\u001b[0m\n\u001b[0;32m    220\u001b[0m     \u001b[1;32melse\u001b[0m\u001b[1;33m:\u001b[0m\u001b[1;33m\u001b[0m\u001b[1;33m\u001b[0m\u001b[0m\n\u001b[0;32m    221\u001b[0m         \u001b[0mopener\u001b[0m \u001b[1;33m=\u001b[0m \u001b[0m_opener\u001b[0m\u001b[1;33m\u001b[0m\u001b[1;33m\u001b[0m\u001b[0m\n\u001b[1;32m--> 222\u001b[1;33m     \u001b[1;32mreturn\u001b[0m \u001b[0mopener\u001b[0m\u001b[1;33m.\u001b[0m\u001b[0mopen\u001b[0m\u001b[1;33m(\u001b[0m\u001b[0murl\u001b[0m\u001b[1;33m,\u001b[0m \u001b[0mdata\u001b[0m\u001b[1;33m,\u001b[0m \u001b[0mtimeout\u001b[0m\u001b[1;33m)\u001b[0m\u001b[1;33m\u001b[0m\u001b[1;33m\u001b[0m\u001b[0m\n\u001b[0m\u001b[0;32m    223\u001b[0m \u001b[1;33m\u001b[0m\u001b[0m\n\u001b[0;32m    224\u001b[0m \u001b[1;32mdef\u001b[0m \u001b[0minstall_opener\u001b[0m\u001b[1;33m(\u001b[0m\u001b[0mopener\u001b[0m\u001b[1;33m)\u001b[0m\u001b[1;33m:\u001b[0m\u001b[1;33m\u001b[0m\u001b[1;33m\u001b[0m\u001b[0m\n",
      "\u001b[1;32m~\\anaconda3\\lib\\urllib\\request.py\u001b[0m in \u001b[0;36mopen\u001b[1;34m(self, fullurl, data, timeout)\u001b[0m\n\u001b[0;32m    529\u001b[0m         \u001b[1;32mfor\u001b[0m \u001b[0mprocessor\u001b[0m \u001b[1;32min\u001b[0m \u001b[0mself\u001b[0m\u001b[1;33m.\u001b[0m\u001b[0mprocess_response\u001b[0m\u001b[1;33m.\u001b[0m\u001b[0mget\u001b[0m\u001b[1;33m(\u001b[0m\u001b[0mprotocol\u001b[0m\u001b[1;33m,\u001b[0m \u001b[1;33m[\u001b[0m\u001b[1;33m]\u001b[0m\u001b[1;33m)\u001b[0m\u001b[1;33m:\u001b[0m\u001b[1;33m\u001b[0m\u001b[1;33m\u001b[0m\u001b[0m\n\u001b[0;32m    530\u001b[0m             \u001b[0mmeth\u001b[0m \u001b[1;33m=\u001b[0m \u001b[0mgetattr\u001b[0m\u001b[1;33m(\u001b[0m\u001b[0mprocessor\u001b[0m\u001b[1;33m,\u001b[0m \u001b[0mmeth_name\u001b[0m\u001b[1;33m)\u001b[0m\u001b[1;33m\u001b[0m\u001b[1;33m\u001b[0m\u001b[0m\n\u001b[1;32m--> 531\u001b[1;33m             \u001b[0mresponse\u001b[0m \u001b[1;33m=\u001b[0m \u001b[0mmeth\u001b[0m\u001b[1;33m(\u001b[0m\u001b[0mreq\u001b[0m\u001b[1;33m,\u001b[0m \u001b[0mresponse\u001b[0m\u001b[1;33m)\u001b[0m\u001b[1;33m\u001b[0m\u001b[1;33m\u001b[0m\u001b[0m\n\u001b[0m\u001b[0;32m    532\u001b[0m \u001b[1;33m\u001b[0m\u001b[0m\n\u001b[0;32m    533\u001b[0m         \u001b[1;32mreturn\u001b[0m \u001b[0mresponse\u001b[0m\u001b[1;33m\u001b[0m\u001b[1;33m\u001b[0m\u001b[0m\n",
      "\u001b[1;32m~\\anaconda3\\lib\\urllib\\request.py\u001b[0m in \u001b[0;36mhttp_response\u001b[1;34m(self, request, response)\u001b[0m\n\u001b[0;32m    638\u001b[0m         \u001b[1;31m# request was successfully received, understood, and accepted.\u001b[0m\u001b[1;33m\u001b[0m\u001b[1;33m\u001b[0m\u001b[1;33m\u001b[0m\u001b[0m\n\u001b[0;32m    639\u001b[0m         \u001b[1;32mif\u001b[0m \u001b[1;32mnot\u001b[0m \u001b[1;33m(\u001b[0m\u001b[1;36m200\u001b[0m \u001b[1;33m<=\u001b[0m \u001b[0mcode\u001b[0m \u001b[1;33m<\u001b[0m \u001b[1;36m300\u001b[0m\u001b[1;33m)\u001b[0m\u001b[1;33m:\u001b[0m\u001b[1;33m\u001b[0m\u001b[1;33m\u001b[0m\u001b[0m\n\u001b[1;32m--> 640\u001b[1;33m             response = self.parent.error(\n\u001b[0m\u001b[0;32m    641\u001b[0m                 'http', request, response, code, msg, hdrs)\n\u001b[0;32m    642\u001b[0m \u001b[1;33m\u001b[0m\u001b[0m\n",
      "\u001b[1;32m~\\anaconda3\\lib\\urllib\\request.py\u001b[0m in \u001b[0;36merror\u001b[1;34m(self, proto, *args)\u001b[0m\n\u001b[0;32m    567\u001b[0m         \u001b[1;32mif\u001b[0m \u001b[0mhttp_err\u001b[0m\u001b[1;33m:\u001b[0m\u001b[1;33m\u001b[0m\u001b[1;33m\u001b[0m\u001b[0m\n\u001b[0;32m    568\u001b[0m             \u001b[0margs\u001b[0m \u001b[1;33m=\u001b[0m \u001b[1;33m(\u001b[0m\u001b[0mdict\u001b[0m\u001b[1;33m,\u001b[0m \u001b[1;34m'default'\u001b[0m\u001b[1;33m,\u001b[0m \u001b[1;34m'http_error_default'\u001b[0m\u001b[1;33m)\u001b[0m \u001b[1;33m+\u001b[0m \u001b[0morig_args\u001b[0m\u001b[1;33m\u001b[0m\u001b[1;33m\u001b[0m\u001b[0m\n\u001b[1;32m--> 569\u001b[1;33m             \u001b[1;32mreturn\u001b[0m \u001b[0mself\u001b[0m\u001b[1;33m.\u001b[0m\u001b[0m_call_chain\u001b[0m\u001b[1;33m(\u001b[0m\u001b[1;33m*\u001b[0m\u001b[0margs\u001b[0m\u001b[1;33m)\u001b[0m\u001b[1;33m\u001b[0m\u001b[1;33m\u001b[0m\u001b[0m\n\u001b[0m\u001b[0;32m    570\u001b[0m \u001b[1;33m\u001b[0m\u001b[0m\n\u001b[0;32m    571\u001b[0m \u001b[1;31m# XXX probably also want an abstract factory that knows when it makes\u001b[0m\u001b[1;33m\u001b[0m\u001b[1;33m\u001b[0m\u001b[1;33m\u001b[0m\u001b[0m\n",
      "\u001b[1;32m~\\anaconda3\\lib\\urllib\\request.py\u001b[0m in \u001b[0;36m_call_chain\u001b[1;34m(self, chain, kind, meth_name, *args)\u001b[0m\n\u001b[0;32m    500\u001b[0m         \u001b[1;32mfor\u001b[0m \u001b[0mhandler\u001b[0m \u001b[1;32min\u001b[0m \u001b[0mhandlers\u001b[0m\u001b[1;33m:\u001b[0m\u001b[1;33m\u001b[0m\u001b[1;33m\u001b[0m\u001b[0m\n\u001b[0;32m    501\u001b[0m             \u001b[0mfunc\u001b[0m \u001b[1;33m=\u001b[0m \u001b[0mgetattr\u001b[0m\u001b[1;33m(\u001b[0m\u001b[0mhandler\u001b[0m\u001b[1;33m,\u001b[0m \u001b[0mmeth_name\u001b[0m\u001b[1;33m)\u001b[0m\u001b[1;33m\u001b[0m\u001b[1;33m\u001b[0m\u001b[0m\n\u001b[1;32m--> 502\u001b[1;33m             \u001b[0mresult\u001b[0m \u001b[1;33m=\u001b[0m \u001b[0mfunc\u001b[0m\u001b[1;33m(\u001b[0m\u001b[1;33m*\u001b[0m\u001b[0margs\u001b[0m\u001b[1;33m)\u001b[0m\u001b[1;33m\u001b[0m\u001b[1;33m\u001b[0m\u001b[0m\n\u001b[0m\u001b[0;32m    503\u001b[0m             \u001b[1;32mif\u001b[0m \u001b[0mresult\u001b[0m \u001b[1;32mis\u001b[0m \u001b[1;32mnot\u001b[0m \u001b[1;32mNone\u001b[0m\u001b[1;33m:\u001b[0m\u001b[1;33m\u001b[0m\u001b[1;33m\u001b[0m\u001b[0m\n\u001b[0;32m    504\u001b[0m                 \u001b[1;32mreturn\u001b[0m \u001b[0mresult\u001b[0m\u001b[1;33m\u001b[0m\u001b[1;33m\u001b[0m\u001b[0m\n",
      "\u001b[1;32m~\\anaconda3\\lib\\urllib\\request.py\u001b[0m in \u001b[0;36mhttp_error_default\u001b[1;34m(self, req, fp, code, msg, hdrs)\u001b[0m\n\u001b[0;32m    647\u001b[0m \u001b[1;32mclass\u001b[0m \u001b[0mHTTPDefaultErrorHandler\u001b[0m\u001b[1;33m(\u001b[0m\u001b[0mBaseHandler\u001b[0m\u001b[1;33m)\u001b[0m\u001b[1;33m:\u001b[0m\u001b[1;33m\u001b[0m\u001b[1;33m\u001b[0m\u001b[0m\n\u001b[0;32m    648\u001b[0m     \u001b[1;32mdef\u001b[0m \u001b[0mhttp_error_default\u001b[0m\u001b[1;33m(\u001b[0m\u001b[0mself\u001b[0m\u001b[1;33m,\u001b[0m \u001b[0mreq\u001b[0m\u001b[1;33m,\u001b[0m \u001b[0mfp\u001b[0m\u001b[1;33m,\u001b[0m \u001b[0mcode\u001b[0m\u001b[1;33m,\u001b[0m \u001b[0mmsg\u001b[0m\u001b[1;33m,\u001b[0m \u001b[0mhdrs\u001b[0m\u001b[1;33m)\u001b[0m\u001b[1;33m:\u001b[0m\u001b[1;33m\u001b[0m\u001b[1;33m\u001b[0m\u001b[0m\n\u001b[1;32m--> 649\u001b[1;33m         \u001b[1;32mraise\u001b[0m \u001b[0mHTTPError\u001b[0m\u001b[1;33m(\u001b[0m\u001b[0mreq\u001b[0m\u001b[1;33m.\u001b[0m\u001b[0mfull_url\u001b[0m\u001b[1;33m,\u001b[0m \u001b[0mcode\u001b[0m\u001b[1;33m,\u001b[0m \u001b[0mmsg\u001b[0m\u001b[1;33m,\u001b[0m \u001b[0mhdrs\u001b[0m\u001b[1;33m,\u001b[0m \u001b[0mfp\u001b[0m\u001b[1;33m)\u001b[0m\u001b[1;33m\u001b[0m\u001b[1;33m\u001b[0m\u001b[0m\n\u001b[0m\u001b[0;32m    650\u001b[0m \u001b[1;33m\u001b[0m\u001b[0m\n\u001b[0;32m    651\u001b[0m \u001b[1;32mclass\u001b[0m \u001b[0mHTTPRedirectHandler\u001b[0m\u001b[1;33m(\u001b[0m\u001b[0mBaseHandler\u001b[0m\u001b[1;33m)\u001b[0m\u001b[1;33m:\u001b[0m\u001b[1;33m\u001b[0m\u001b[1;33m\u001b[0m\u001b[0m\n",
      "\u001b[1;31mHTTPError\u001b[0m: HTTP Error 403: Forbidden"
     ]
    }
   ],
   "source": [
    "#Request is forbidden 403 - try BS4\n",
    "#url2 = 'https://www.mass.gov/doc/covid-19-raw-data-june-15-2021/download'\n",
    "#request = Request(url2)\n",
    "#response = urlopen(request)\n",
    "#print(type(response))\n",
    "#response.close()"
   ]
  },
  {
   "cell_type": "code",
   "execution_count": 64,
   "id": "1f83f645",
   "metadata": {},
   "outputs": [
    {
     "name": "stderr",
     "output_type": "stream",
     "text": [
      "IOPub data rate exceeded.\n",
      "The notebook server will temporarily stop sending output\n",
      "to the client in order to avoid crashing it.\n",
      "To change this limit, set the config variable\n",
      "`--NotebookApp.iopub_data_rate_limit`.\n",
      "\n",
      "Current values:\n",
      "NotebookApp.iopub_data_rate_limit=1000000.0 (bytes/sec)\n",
      "NotebookApp.rate_limit_window=3.0 (secs)\n",
      "\n"
     ]
    }
   ],
   "source": [
    "#Once again, the file is too big! Must consider streaming in chunks\n",
    "#r = requests.get(url2)\n",
    "#text = r.text\n",
    "#print(text)"
   ]
  },
  {
   "cell_type": "code",
   "execution_count": 18,
   "id": "af931577",
   "metadata": {},
   "outputs": [
    {
     "name": "stdout",
     "output_type": "stream",
     "text": [
      "<title>covid-19-raw-data-file-6-15-2021.xlsx | Mass.gov</title>\n"
     ]
    }
   ],
   "source": [
    "#found a link to the specific xls\n",
    "#testing to see if BS4 can ID and isolate the href with .xls \n",
    "url3 = 'https://www.mass.gov/doc/covid-19-raw-data-june-15-2021'\n",
    "r = requests.get(url3)\n",
    "html_doc = r.text\n",
    "soup = BeautifulSoup(html_doc)\n",
    "print(soup.title)"
   ]
  },
  {
   "cell_type": "code",
   "execution_count": 20,
   "id": "bc7271f5",
   "metadata": {},
   "outputs": [
    {
     "name": "stdout",
     "output_type": "stream",
     "text": [
      "#main-content\n",
      "/info-details/massachusetts-state-organizations-a-to-z\n",
      "https://sso.hhs.state.ma.us/\n",
      "https://uionline.detma.org/Claimant/Core/Login.ASPX\n",
      "https://ecse.cse.state.ma.us/ECSE/Login/login.asp\n",
      "/\n",
      "/topics/health-social-services\n",
      "/topics/families-children\n",
      "/topics/housing-property\n",
      "/topics/transportation\n",
      "/topics/legal-justice\n",
      "/topics/public-safety\n",
      "/topics/energy\n",
      "/topics/environment\n",
      "/topics/taxes\n",
      "/topics/unclaimed-property\n",
      "/topics/vital-public-records\n",
      "/topics/voting\n",
      "/topics/living\n",
      "/topics/business-resources\n",
      "/topics/professional-licenses-permits\n",
      "/topics/unemployment\n",
      "/topics/finding-a-job\n",
      "/topics/taxes\n",
      "/topics/workers-rights-safety\n",
      "/topics/industry-regulations\n",
      "/topics/state-employee-resources\n",
      "/topics/working\n",
      "/topics/early-childhood-education-care\n",
      "/topics/elementary-secondary-schools\n",
      "/topics/higher-education\n",
      "/topics/continuing-education\n",
      "/topics/for-educators-administrators\n",
      "/topics/professional-training-career-development\n",
      "/topics/learning\n",
      "/topics/parks-recreation\n",
      "/topics/fishing-hunting\n",
      "/topics/historic-sites\n",
      "/topics/arts\n",
      "/topics/family-fun\n",
      "/topics/travel-options\n",
      "/topics/seasonal-activities\n",
      "/topics/exploring-massachusetts\n",
      "/topics/executive-branch\n",
      "/topics/constitutionals-independents\n",
      "/topics/legislative-branch\n",
      "/topics/judicial-branch\n",
      "/topics/cities-towns\n",
      "https://www.mass.gov/info-details/massachusetts-state-organizations-a-to-z\n",
      "/topics/your-government\n",
      "/covid-19-updates-and-information\n",
      "/info-details/massachusetts-state-organizations-a-to-z\n",
      "https://sso.hhs.state.ma.us/\n",
      "https://uionline.detma.org/Claimant/Core/Login.ASPX\n",
      "https://ecse.cse.state.ma.us/ECSE/Login/login.asp\n",
      "/\n",
      "/doc/covid-19-raw-data-june-15-2021/download\n",
      "/\n",
      "https://www.facebook.com/massgov\n",
      "https://twitter.com/massgov\n",
      "https://www.linkedin.com/company/commonwealth-of-massachusetts\n",
      "https://www.youtube.com/user/massgov\n",
      "https://www.instagram.com/massgov/\n",
      "/privacypolicy\n",
      "/topics/living\n",
      "/topics/working\n",
      "/topics/learning\n",
      "/topics/exploring-massachusetts\n",
      "/topics/your-government\n",
      "/site-policies\n",
      "/topics/public-records-requests\n",
      "#feedback\n"
     ]
    }
   ],
   "source": [
    "file_format = '.xlsx'\n",
    "a_tags = soup.find_all('a')\n",
    "\n",
    "for link in a_tags:\n",
    "    print(link.get('href'))"
   ]
  },
  {
   "cell_type": "code",
   "execution_count": null,
   "id": "0452a301",
   "metadata": {},
   "outputs": [],
   "source": [
    "#Stuck here. It seems the xls href doesn't point to the file itself, but maybe to a webapp /download\n",
    "#which obfuscates the file location. Ask Luka"
   ]
  },
  {
   "cell_type": "code",
   "execution_count": 30,
   "id": "8a721220",
   "metadata": {},
   "outputs": [
    {
     "data": {
      "text/plain": [
       "'/doc/covid-19-raw-data-june-15-2021/download'"
      ]
     },
     "execution_count": 30,
     "metadata": {},
     "output_type": "execute_result"
    }
   ],
   "source": [
    "#Notes from call with Luka 6.16.21\n",
    "# Use BS to identify/isolate the html \"class\" pointing to the href of the .xls \n",
    "#class and \"ma__download-link__file-link\" was identified by inspecting the page's elements in chrome\n",
    "source = requests.get(\"https://www.mass.gov/doc/covid-19-raw-data-june-15-2021\")\n",
    "BeautifulSoup(source.content).find(\"a\", {\"class\":\"ma__download-link__file-link\"}).get(\"href\")"
   ]
  },
  {
   "cell_type": "code",
   "execution_count": 60,
   "id": "9e1f7493",
   "metadata": {},
   "outputs": [],
   "source": [
    "#BS isolated the download link as: '/doc/covid-19-raw-data-june-15-2021/download'\n",
    "Mass_request = requests.get(\"https://www.mass.gov/doc/covid-19-raw-data-june-15-2021/download\", allow_redirects=True)\n",
    "\n",
    "#Using a context manager to create a .xls file and write content from the Mass_request Response object\n",
    "with open(\"Mass_DoH_data.xlsx\", \"wb\") as file:\n",
    "    file.write(Mass_request.content)\n",
    " \n",
    "# open('Mass_DoH_data.xlsx', 'wb').write(Mass_request.content)\n",
    "    \n",
    "#convert to pd DataFrame using pd.read_excel() - this is for testing - should implement chunk streaming\n",
    "Mass_DoH_df = pd.read_excel(\"Mass_DoH_data.xlsx\", sheet_name=None)"
   ]
  },
  {
   "cell_type": "code",
   "execution_count": 61,
   "id": "7e77407b",
   "metadata": {},
   "outputs": [
    {
     "name": "stdout",
     "output_type": "stream",
     "text": [
      "Data Documentation\n",
      "Weekly_Town_Reference\n",
      "Age Means Last2Weeks\n",
      "AgeLast2Weeks\n",
      "Cases (Report Date)\n",
      "CasesbyAge\n",
      "CasesByDate (Test Date)\n",
      "CasesByDate_Probable\n",
      "County_Daily\n",
      "County_Weekly\n",
      "CountyDeaths\n",
      "DateofDeath\n",
      "DeathsReported (Report Date)\n",
      "DeathCharacteristics\n",
      "HigherEd_CasesandTests\n",
      "HospBedAvailable-Regional\n",
      "HospBed-Hospital COVID Census\n",
      "Hospitalization from Hospitals\n",
      "LTC Facilities\n",
      "RaceEthnicityLast2Weeks\n",
      "SexLast2Weeks\n",
      "Testing2 (Report Date)\n",
      "TestingByDate (Test Date)\n",
      "TestingPosByAge\n",
      "Weekly_City_Town\n",
      "Weekly_Statewide\n",
      "Clusters\n",
      "Isolation and Quarantine\n",
      "Contact Tracing\n",
      "CTC workforce\n",
      "Counts by Specimen Date (Sero)\n"
     ]
    }
   ],
   "source": [
    "# As the downloaded file has multiple sheets, the sheets has been stored as a dict\n",
    "# where the dict is {sheetname: DataFrame}\n",
    "# Confirm that sheetname stored as keys\n",
    "for key in Mass_DoH_df.keys():\n",
    "    print(key)"
   ]
  },
  {
   "cell_type": "code",
   "execution_count": 56,
   "id": "47ba8039",
   "metadata": {},
   "outputs": [
    {
     "data": {
      "text/plain": [
       "(503, 4)"
      ]
     },
     "execution_count": 56,
     "metadata": {},
     "output_type": "execute_result"
    }
   ],
   "source": [
    "Mass_DoH_df['CasesByDate (Test Date)'].shape"
   ]
  },
  {
   "cell_type": "code",
   "execution_count": 59,
   "id": "282ec3e3",
   "metadata": {},
   "outputs": [
    {
     "data": {
      "text/plain": [
       "pandas.core.frame.DataFrame"
      ]
     },
     "execution_count": 59,
     "metadata": {},
     "output_type": "execute_result"
    }
   ],
   "source": [
    "#confirm that Mass_DoH_df[sheetname] stored as DF\n",
    "type(Mass_DoH_df['CasesByDate (Test Date)'])"
   ]
  },
  {
   "cell_type": "code",
   "execution_count": 175,
   "id": "a6d49e79",
   "metadata": {},
   "outputs": [],
   "source": [
    "#Luka states it is easier (and acceptable) to just download the files to local path. \n",
    "\n",
    "#For the mass.gov dataset, it has mulitiple sheets, so it isolates the intended sheet. (not dynamic, ikr)\n",
    "sources = ['https://data.cambridgema.gov/resource/ayt4-g2ye.json', 'https://www.mass.gov/doc/covid-19-raw-data-june-15-2021/download']\n",
    "\n",
    "def get_sources(source_list):\n",
    "    '''\n",
    "    this function takes a list of urls, ID's their format, requests dataset from source,\n",
    "    converts data into a dataframe, then saves it as a pickled file.\n",
    "    '''\n",
    "    for source in source_list:\n",
    "        if source.endswith('.json'):\n",
    "            response = requests.get(source)\n",
    "            data = response.json()\n",
    "            json_df = pd.DataFrame(data)\n",
    "            json_df.to_pickle('Cambridge.pkl')\n",
    "            print('Cambrdige.pkl created using this source: ', source)\n",
    "            \n",
    "        else:\n",
    "            response = requests.get(source, allow_redirects=True)\n",
    "            with open('excel_data.xlsx', 'wb') as file:\n",
    "                file.write(response.content)\n",
    "            \n",
    "            #using pd.read_excel on a multi-spreadsheet xls yields a dictionary\n",
    "            excel_dict = pd.read_excel('excel_data.xlsx', sheet_name=None)\n",
    "            \n",
    "            #can ID sheetnames by evaluating keys\n",
    "            #print(excel_dict.keys())\n",
    "            \n",
    "            #Will be using the \"Weekly_City_Town\" sheet\n",
    "            Mass_weekly_city = excel_dict['Weekly_City_Town']\n",
    "            \n",
    "            #Use df.to_pickle to save as .pkl file\n",
    "            Mass_weekly_city.to_pickle('Mass_Weekly_City_df.pkl')\n",
    "            \n",
    "            print('Mass_Weekly_City.pkl created using this source', source)"
   ]
  },
  {
   "cell_type": "code",
   "execution_count": 176,
   "id": "0e04ee89",
   "metadata": {},
   "outputs": [
    {
     "name": "stdout",
     "output_type": "stream",
     "text": [
      "Cambrdige.pkl created using this source:  https://data.cambridgema.gov/resource/ayt4-g2ye.json\n",
      "Mass_Weekly_City.pkl created using this source https://www.mass.gov/doc/covid-19-raw-data-june-15-2021/download\n"
     ]
    }
   ],
   "source": [
    "get_sources(sources)"
   ]
  },
  {
   "cell_type": "code",
   "execution_count": 16,
   "id": "2185b0c7",
   "metadata": {},
   "outputs": [],
   "source": [
    "#confirm I can load pickled df's\n",
    "import pickle\n",
    "\n",
    "#should use context manager to load pickles\n",
    "with open('Cambridge.pkl', 'rb') as f:\n",
    "    Cambridge_wastewater = pickle.load(f)\n"
   ]
  },
  {
   "cell_type": "code",
   "execution_count": 17,
   "id": "02f9e51b",
   "metadata": {},
   "outputs": [
    {
     "data": {
      "text/plain": [
       "Index(['date', 'mwra_concentration', 'mwra_7dayaverage',\n",
       "       'concentration_mid_cambridge', 'concentration_east_cambridge',\n",
       "       'concentration_cambridgeport', 'concentration_north_west',\n",
       "       'highci_mid_cambridge', 'highci_east_cambridge', 'highci_cambridgeport',\n",
       "       'highci_north_west_cambridge', 'lowci_mid_cambridge',\n",
       "       'lowci_east_cambridge', 'lowci_cambridgeport',\n",
       "       'lowci_north_west_cambridge'],\n",
       "      dtype='object')"
      ]
     },
     "execution_count": 17,
     "metadata": {},
     "output_type": "execute_result"
    }
   ],
   "source": [
    "Cambridge_wastewater.columns"
   ]
  },
  {
   "cell_type": "code",
   "execution_count": 18,
   "id": "c9034be6",
   "metadata": {},
   "outputs": [],
   "source": [
    "#load Mass_DoH pickle\n",
    "with open('Mass_Weekly_City_df.pkl', 'rb') as f:\n",
    "    Mass_Weekly_City_df = pickle.load(f)"
   ]
  },
  {
   "cell_type": "code",
   "execution_count": 19,
   "id": "e49dcd55",
   "metadata": {},
   "outputs": [
    {
     "data": {
      "text/plain": [
       "(8800, 17)"
      ]
     },
     "execution_count": 19,
     "metadata": {},
     "output_type": "execute_result"
    }
   ],
   "source": [
    "Mass_Weekly_City_df.shape"
   ]
  },
  {
   "cell_type": "code",
   "execution_count": 20,
   "id": "e173bbd9",
   "metadata": {},
   "outputs": [
    {
     "data": {
      "text/plain": [
       "Index(['City/Town', 'County', 'Population', 'Total Case Counts',\n",
       "       'Two Week Case Counts', 'Average Daily Rate', 'Color',\n",
       "       'Change in Last Week', 'Total Tests', 'Total Tests Last Two Weeks',\n",
       "       'Total Positive Tests', 'Percent Positivity', 'Change Since Last Week',\n",
       "       'Testing Rate', 'Report Date', 'Start_Date', 'End_Date'],\n",
       "      dtype='object')"
      ]
     },
     "execution_count": 20,
     "metadata": {},
     "output_type": "execute_result"
    }
   ],
   "source": [
    "Mass_Weekly_City_df.columns"
   ]
  },
  {
   "cell_type": "code",
   "execution_count": 21,
   "id": "e140e5b9",
   "metadata": {},
   "outputs": [],
   "source": [
    "Cambridge_weekly_trend = Mass_Weekly_City_df[Mass_Weekly_City_df['City/Town'] == 'Cambridge']"
   ]
  },
  {
   "cell_type": "code",
   "execution_count": 22,
   "id": "3a75dec8",
   "metadata": {},
   "outputs": [
    {
     "data": {
      "text/plain": [
       "(25, 17)"
      ]
     },
     "execution_count": 22,
     "metadata": {},
     "output_type": "execute_result"
    }
   ],
   "source": [
    "Cambridge_weekly_trend.shape"
   ]
  },
  {
   "cell_type": "code",
   "execution_count": 23,
   "id": "f6905178",
   "metadata": {},
   "outputs": [
    {
     "data": {
      "text/plain": [
       "Int64Index([  49,  401,  753, 1105, 1457, 1809, 2161, 2513, 2865, 3217, 3569,\n",
       "            3921, 4273, 4625, 4977, 5329, 5681, 6033, 6385, 6737, 7089, 7441,\n",
       "            7793, 8145, 8497],\n",
       "           dtype='int64')"
      ]
     },
     "execution_count": 23,
     "metadata": {},
     "output_type": "execute_result"
    }
   ],
   "source": [
    "Cambridge_weekly_trend.index"
   ]
  },
  {
   "cell_type": "code",
   "execution_count": 24,
   "id": "18e806ac",
   "metadata": {},
   "outputs": [],
   "source": [
    "#dropping index of Cambridge_weekly_trend\n",
    "#inplace=False will allow a copy to be assigned to Cambridge_weekly - Nantawat\n",
    "Cambridge_weekly = Cambridge_weekly_trend.reset_index(drop=True, inplace=False)"
   ]
  },
  {
   "cell_type": "code",
   "execution_count": 25,
   "id": "2865f2e8",
   "metadata": {},
   "outputs": [
    {
     "data": {
      "text/plain": [
       "RangeIndex(start=0, stop=25, step=1)"
      ]
     },
     "execution_count": 25,
     "metadata": {},
     "output_type": "execute_result"
    }
   ],
   "source": [
    "Cambridge_weekly.index"
   ]
  },
  {
   "cell_type": "code",
   "execution_count": 26,
   "id": "47af7c17",
   "metadata": {},
   "outputs": [
    {
     "data": {
      "text/plain": [
       "False"
      ]
     },
     "execution_count": 26,
     "metadata": {},
     "output_type": "execute_result"
    }
   ],
   "source": [
    "#Time to clean up Cambridge_weekly_trend\n",
    "#Because I isolated Cambridge when defining Cambridge_weekly_trend, I can drop the 'City/Town' column\n",
    "#But before I do, I should check if there are any null City/Town entries\n",
    "Cambridge_weekly['City/Town'].isnull().values.any()"
   ]
  },
  {
   "cell_type": "code",
   "execution_count": 27,
   "id": "b93bd584",
   "metadata": {},
   "outputs": [
    {
     "data": {
      "text/plain": [
       "array(['Cambridge'], dtype=object)"
      ]
     },
     "execution_count": 27,
     "metadata": {},
     "output_type": "execute_result"
    }
   ],
   "source": [
    "#check to see if any entries in 'City/Town' does not match with 'Cambridge'\n",
    "Cambridge_weekly['City/Town'].unique()"
   ]
  },
  {
   "cell_type": "code",
   "execution_count": 28,
   "id": "e317f852",
   "metadata": {},
   "outputs": [
    {
     "data": {
      "text/plain": [
       "False"
      ]
     },
     "execution_count": 28,
     "metadata": {},
     "output_type": "execute_result"
    }
   ],
   "source": [
    "#I feel safe in dropping city/town. Check for County\n",
    "Cambridge_weekly['County'].isnull().values.any()"
   ]
  },
  {
   "cell_type": "code",
   "execution_count": 29,
   "id": "24d754bc",
   "metadata": {},
   "outputs": [
    {
     "data": {
      "text/plain": [
       "array(['Middlesex'], dtype=object)"
      ]
     },
     "execution_count": 29,
     "metadata": {},
     "output_type": "execute_result"
    }
   ],
   "source": [
    "Cambridge_weekly['County'].unique()"
   ]
  },
  {
   "cell_type": "code",
   "execution_count": 30,
   "id": "213a826b",
   "metadata": {},
   "outputs": [
    {
     "data": {
      "text/plain": [
       "Index(['City/Town', 'County', 'Population', 'Total Case Counts',\n",
       "       'Two Week Case Counts', 'Average Daily Rate', 'Color',\n",
       "       'Change in Last Week', 'Total Tests', 'Total Tests Last Two Weeks',\n",
       "       'Total Positive Tests', 'Percent Positivity', 'Change Since Last Week',\n",
       "       'Testing Rate', 'Report Date', 'Start_Date', 'End_Date'],\n",
       "      dtype='object')"
      ]
     },
     "execution_count": 30,
     "metadata": {},
     "output_type": "execute_result"
    }
   ],
   "source": [
    "#I feel safe in dropping County\n",
    "#pre-drop checking of columns\n",
    "Cambridge_weekly.columns"
   ]
  },
  {
   "cell_type": "code",
   "execution_count": 31,
   "id": "6f6eb5c8",
   "metadata": {},
   "outputs": [],
   "source": [
    "labels = ['City/Town', 'County']\n",
    "weekly_trends = Cambridge_weekly.drop(columns = labels)"
   ]
  },
  {
   "cell_type": "code",
   "execution_count": 32,
   "id": "0fb80efe",
   "metadata": {},
   "outputs": [
    {
     "data": {
      "text/plain": [
       "Index(['Population', 'Total Case Counts', 'Two Week Case Counts',\n",
       "       'Average Daily Rate', 'Color', 'Change in Last Week', 'Total Tests',\n",
       "       'Total Tests Last Two Weeks', 'Total Positive Tests',\n",
       "       'Percent Positivity', 'Change Since Last Week', 'Testing Rate',\n",
       "       'Report Date', 'Start_Date', 'End_Date'],\n",
       "      dtype='object')"
      ]
     },
     "execution_count": 32,
     "metadata": {},
     "output_type": "execute_result"
    }
   ],
   "source": [
    "#confirmed the two columns were dropped\n",
    "weekly_trends.columns"
   ]
  },
  {
   "cell_type": "code",
   "execution_count": 33,
   "id": "c9d6a3dc",
   "metadata": {},
   "outputs": [
    {
     "data": {
      "text/plain": [
       "<bound method NDFrame.head of 0    2020-12-24\n",
       "1    2020-12-31\n",
       "2    2021-01-07\n",
       "3    2021-01-14\n",
       "4    2021-01-21\n",
       "5    2021-01-28\n",
       "6    2021-02-04\n",
       "7    2021-02-11\n",
       "8    2021-02-18\n",
       "9    2021-02-25\n",
       "10   2021-03-04\n",
       "11   2021-03-11\n",
       "12   2021-03-18\n",
       "13   2021-03-25\n",
       "14   2021-04-01\n",
       "15   2021-04-08\n",
       "16   2021-04-15\n",
       "17   2021-04-22\n",
       "18   2021-04-29\n",
       "19   2021-05-06\n",
       "20   2021-05-13\n",
       "21   2021-05-20\n",
       "22   2021-05-27\n",
       "23   2021-06-03\n",
       "24   2021-06-10\n",
       "Name: Report Date, dtype: datetime64[ns]>"
      ]
     },
     "execution_count": 33,
     "metadata": {},
     "output_type": "execute_result"
    }
   ],
   "source": [
    "#Exploring data type of 'Report Date' column, reviewing for null values, may need to cast as pd.datetime\n",
    "weekly_trends['Report Date'].shape\n",
    "weekly_trends['Report Date'].describe\n",
    "weekly_trends['Report Date'].head"
   ]
  },
  {
   "cell_type": "code",
   "execution_count": 34,
   "id": "eb0f0420",
   "metadata": {},
   "outputs": [
    {
     "data": {
      "text/plain": [
       "RangeIndex(start=0, stop=25, step=1)"
      ]
     },
     "execution_count": 34,
     "metadata": {},
     "output_type": "execute_result"
    }
   ],
   "source": [
    "#Cambridge wastewater surveillance data starts at 10/01/2020, will select this as the minimum date range\n",
    "#something funky, there is an index for this column? - fixed this with reset_index for Cambridge_weekly - Nantawat\n",
    "weekly_trends['Report Date'].index"
   ]
  },
  {
   "cell_type": "code",
   "execution_count": 35,
   "id": "34602186",
   "metadata": {},
   "outputs": [
    {
     "data": {
      "text/plain": [
       "<bound method NDFrame.describe of 0    2020-12-24\n",
       "1    2020-12-31\n",
       "2    2021-01-07\n",
       "3    2021-01-14\n",
       "4    2021-01-21\n",
       "5    2021-01-28\n",
       "6    2021-02-04\n",
       "7    2021-02-11\n",
       "8    2021-02-18\n",
       "9    2021-02-25\n",
       "10   2021-03-04\n",
       "11   2021-03-11\n",
       "12   2021-03-18\n",
       "13   2021-03-25\n",
       "14   2021-04-01\n",
       "15   2021-04-08\n",
       "16   2021-04-15\n",
       "17   2021-04-22\n",
       "18   2021-04-29\n",
       "19   2021-05-06\n",
       "20   2021-05-13\n",
       "21   2021-05-20\n",
       "22   2021-05-27\n",
       "23   2021-06-03\n",
       "24   2021-06-10\n",
       "Name: dt, dtype: datetime64[ns]>"
      ]
     },
     "execution_count": 35,
     "metadata": {},
     "output_type": "execute_result"
    }
   ],
   "source": [
    "#explicitly convert to datetime object by the 'infer_datetime_format = 'coerce' flag\n",
    "weekly_trends['dt'] = pd.to_datetime(weekly_trends['Report Date'], \n",
    "                                     infer_datetime_format='coerce')\n",
    "weekly_trends['dt'].describe"
   ]
  },
  {
   "cell_type": "code",
   "execution_count": 36,
   "id": "5848bc6b",
   "metadata": {},
   "outputs": [
    {
     "data": {
      "text/plain": [
       "Index(['date', 'mwra_concentration', 'mwra_7dayaverage',\n",
       "       'concentration_mid_cambridge', 'concentration_east_cambridge',\n",
       "       'concentration_cambridgeport', 'concentration_north_west',\n",
       "       'highci_mid_cambridge', 'highci_east_cambridge', 'highci_cambridgeport',\n",
       "       'highci_north_west_cambridge', 'lowci_mid_cambridge',\n",
       "       'lowci_east_cambridge', 'lowci_cambridgeport',\n",
       "       'lowci_north_west_cambridge'],\n",
       "      dtype='object')"
      ]
     },
     "execution_count": 36,
     "metadata": {},
     "output_type": "execute_result"
    }
   ],
   "source": [
    "#should convert 'Report Date' to match with Cambridge_wastewater\n",
    "Cambridge_wastewater.columns"
   ]
  },
  {
   "cell_type": "code",
   "execution_count": 37,
   "id": "0cf6bf30",
   "metadata": {},
   "outputs": [
    {
     "data": {
      "text/plain": [
       "<bound method NDFrame.describe of 0      2020-10-01T00:00:00.000\n",
       "1      2020-10-02T00:00:00.000\n",
       "2      2020-10-03T00:00:00.000\n",
       "3      2020-10-04T00:00:00.000\n",
       "4      2020-10-05T00:00:00.000\n",
       "                ...           \n",
       "248    2021-06-06T00:00:00.000\n",
       "249    2021-06-07T00:00:00.000\n",
       "250    2021-06-08T00:00:00.000\n",
       "251    2021-06-09T00:00:00.000\n",
       "252    2021-06-10T00:00:00.000\n",
       "Name: date, Length: 253, dtype: object>"
      ]
     },
     "execution_count": 37,
     "metadata": {},
     "output_type": "execute_result"
    }
   ],
   "source": [
    "#shows wastewater['date']'s formatting is inconsistent with weekly_trends\n",
    "Cambridge_wastewater['date'].describe"
   ]
  },
  {
   "cell_type": "code",
   "execution_count": 38,
   "id": "7a44bacf",
   "metadata": {},
   "outputs": [
    {
     "data": {
      "text/plain": [
       "False"
      ]
     },
     "execution_count": 38,
     "metadata": {},
     "output_type": "execute_result"
    }
   ],
   "source": [
    "#confirming no null values\n",
    "Cambridge_wastewater['date'].isnull().values.any()"
   ]
  },
  {
   "cell_type": "code",
   "execution_count": 39,
   "id": "c65aca26",
   "metadata": {},
   "outputs": [
    {
     "data": {
      "text/plain": [
       "<bound method NDFrame.describe of 0     2020-10-01\n",
       "1     2020-10-02\n",
       "2     2020-10-03\n",
       "3     2020-10-04\n",
       "4     2020-10-05\n",
       "         ...    \n",
       "248   2021-06-06\n",
       "249   2021-06-07\n",
       "250   2021-06-08\n",
       "251   2021-06-09\n",
       "252   2021-06-10\n",
       "Name: dt, Length: 253, dtype: datetime64[ns]>"
      ]
     },
     "execution_count": 39,
     "metadata": {},
     "output_type": "execute_result"
    }
   ],
   "source": [
    "#casting the entire 'date' column in wastewater to datetime type, will match weekly_trends\n",
    "Cambridge_wastewater['dt'] = pd.to_datetime(Cambridge_wastewater['date'])\n",
    "Cambridge_wastewater['dt'].describe"
   ]
  },
  {
   "cell_type": "code",
   "execution_count": 40,
   "id": "3876e637",
   "metadata": {},
   "outputs": [
    {
     "data": {
      "text/plain": [
       "True"
      ]
     },
     "execution_count": 40,
     "metadata": {},
     "output_type": "execute_result"
    }
   ],
   "source": [
    "#now both wastewater and weekly_trends datetime types matches\n",
    "type(Cambridge_wastewater['dt']) == type(weekly_trends['dt'])"
   ]
  },
  {
   "cell_type": "code",
   "execution_count": 44,
   "id": "e777b309",
   "metadata": {},
   "outputs": [
    {
     "data": {
      "text/plain": [
       "False"
      ]
     },
     "execution_count": 44,
     "metadata": {},
     "output_type": "execute_result"
    }
   ],
   "source": [
    "#check for any duplicate values\n",
    "wastewater_duplicated_list = list(Cambridge_wastewater.duplicated(subset='dt'))\n",
    "\n",
    "#tests if there are any True values from the list populated by .duplicated()\n",
    "#confirms no True - no duplicated values in Cambridge_wastewater. \n",
    "#casted .duplicated into list because there were too many rows to visually inspect\n",
    "True in wastewater_duplicated_list"
   ]
  },
  {
   "cell_type": "code",
   "execution_count": 42,
   "id": "ba95744b",
   "metadata": {},
   "outputs": [
    {
     "data": {
      "text/plain": [
       "0     False\n",
       "1     False\n",
       "2     False\n",
       "3     False\n",
       "4     False\n",
       "5     False\n",
       "6     False\n",
       "7     False\n",
       "8     False\n",
       "9     False\n",
       "10    False\n",
       "11    False\n",
       "12    False\n",
       "13    False\n",
       "14    False\n",
       "15    False\n",
       "16    False\n",
       "17    False\n",
       "18    False\n",
       "19    False\n",
       "20    False\n",
       "21    False\n",
       "22    False\n",
       "23    False\n",
       "24    False\n",
       "dtype: bool"
      ]
     },
     "execution_count": 42,
     "metadata": {},
     "output_type": "execute_result"
    }
   ],
   "source": [
    "#small enough output to visually confirm no duplicated values in weekly_trends\n",
    "weekly_trends.duplicated(subset='dt')"
   ]
  },
  {
   "cell_type": "code",
   "execution_count": null,
   "id": "018983d6",
   "metadata": {},
   "outputs": [],
   "source": [
    "# From this point, can unify the two df's with a join based on their respective 'dt' columns as index\n",
    "# I don't think it is ready to join yet, will have to check other columns of interest for missing values\n",
    "# ID data types (categorical vs. numerical). Pause here - NS\n"
   ]
  },
  {
   "cell_type": "code",
   "execution_count": null,
   "id": "d412f007",
   "metadata": {},
   "outputs": [],
   "source": [
    "#resume work 6.17.21\n",
    "#let's work on Data Definition\n",
    "#ask: \n",
    "#Do column names correspond to what those columns store?\n",
    "#Are data types within columns sensible?\n",
    "#Calculate summary statistics - mean, median, mode, std. dev., range, and number of unique values"
   ]
  },
  {
   "cell_type": "code",
   "execution_count": 69,
   "id": "4f358ac7",
   "metadata": {},
   "outputs": [
    {
     "name": "stdout",
     "output_type": "stream",
     "text": [
      "Index(['Population', 'Total Case Counts', 'Two Week Case Counts',\n",
      "       'Average Daily Rate', 'Color', 'Change in Last Week', 'Total Tests',\n",
      "       'Total Tests Last Two Weeks', 'Total Positive Tests',\n",
      "       'Percent Positivity', 'Change Since Last Week', 'Testing Rate',\n",
      "       'Report Date', 'Start_Date', 'End_Date', 'dt'],\n",
      "      dtype='object') Index(['date', 'mwra_concentration', 'mwra_7dayaverage',\n",
      "       'concentration_mid_cambridge', 'concentration_east_cambridge',\n",
      "       'concentration_cambridgeport', 'concentration_north_west',\n",
      "       'highci_mid_cambridge', 'highci_east_cambridge', 'highci_cambridgeport',\n",
      "       'highci_north_west_cambridge', 'lowci_mid_cambridge',\n",
      "       'lowci_east_cambridge', 'lowci_cambridgeport',\n",
      "       'lowci_north_west_cambridge', 'dt'],\n",
      "      dtype='object')\n"
     ]
    }
   ],
   "source": [
    "weekly_columns = weekly_trends.columns\n",
    "wastewater_columns = Cambridge_wastewater.columns\n",
    "print(weekly_columns, wastewater_columns)"
   ]
  },
  {
   "cell_type": "code",
   "execution_count": 71,
   "id": "6ca569ae",
   "metadata": {},
   "outputs": [
    {
     "name": "stdout",
     "output_type": "stream",
     "text": [
      "           Change in Last Week\n",
      "dt                            \n",
      "2020-12-24               Lower\n",
      "2020-12-31               Lower\n",
      "2021-01-07              Higher\n",
      "2021-01-14              Higher\n",
      "2021-01-21              Higher\n",
      "2021-01-28               Lower\n",
      "2021-02-04               Lower\n",
      "2021-02-11               Lower\n",
      "2021-02-18               Lower\n",
      "2021-02-25               Lower\n",
      "2021-03-04              Higher\n",
      "2021-03-11              Higher\n",
      "2021-03-18               Lower\n",
      "2021-03-25               Lower\n",
      "2021-04-01              Higher\n",
      "2021-04-08              Higher\n",
      "2021-04-15               Lower\n",
      "2021-04-22               Lower\n",
      "2021-04-29               Lower\n",
      "2021-05-06               Lower\n",
      "2021-05-13               Lower\n",
      "2021-05-20               Lower\n",
      "2021-05-27               Lower\n",
      "2021-06-03               Lower\n",
      "2021-06-10               Lower\n"
     ]
    }
   ],
   "source": [
    "#categorical datatype in Change in Last week\n",
    "change_in_last_week = pd.DataFrame(weekly_trends['Change in Last Week']).set_index(keys=weekly_trends.dt, \n",
    "                                                                     inplace=False)\n",
    "print(change_in_last_week)"
   ]
  },
  {
   "cell_type": "code",
   "execution_count": 73,
   "id": "d130c48a",
   "metadata": {},
   "outputs": [
    {
     "name": "stdout",
     "output_type": "stream",
     "text": [
      "           Change Since Last Week\n",
      "dt                               \n",
      "2020-12-24              No Change\n",
      "2020-12-31                 Higher\n",
      "2021-01-07                 Higher\n",
      "2021-01-14              No Change\n",
      "2021-01-21                  Lower\n",
      "2021-01-28                  Lower\n",
      "2021-02-04                  Lower\n",
      "2021-02-11                  Lower\n",
      "2021-02-18                  Lower\n",
      "2021-02-25                  Lower\n",
      "2021-03-04              No Change\n",
      "2021-03-11              No Change\n",
      "2021-03-18              No Change\n",
      "2021-03-25              No Change\n",
      "2021-04-01                 Higher\n",
      "2021-04-08              No Change\n",
      "2021-04-15              No Change\n",
      "2021-04-22              No Change\n",
      "2021-04-29                  Lower\n",
      "2021-05-06                  Lower\n",
      "2021-05-13                  Lower\n",
      "2021-05-20              No Change\n",
      "2021-05-27              No Change\n",
      "2021-06-03              No Change\n",
      "2021-06-10              No Change\n"
     ]
    }
   ],
   "source": [
    "#categorical datatype in Change Since Last week\n",
    "#this might be a better metric to use when looking and surge prediction - Nantawat\n",
    "change_since_last_week = pd.DataFrame(weekly_trends['Change Since Last Week']).set_index(keys=weekly_trends.dt, \n",
    "                                                                     inplace=False)\n",
    "print(change_since_last_week)"
   ]
  },
  {
   "cell_type": "code",
   "execution_count": 46,
   "id": "f9e46bba",
   "metadata": {},
   "outputs": [
    {
     "data": {
      "text/plain": [
       "<bound method NDFrame.describe of 0     26.852121\n",
       "1     26.022958\n",
       "2      26.78834\n",
       "3     32.847607\n",
       "4     35.335095\n",
       "5     32.337353\n",
       "6     27.553721\n",
       "7     21.494453\n",
       "8     14.542241\n",
       "9     12.756352\n",
       "10    13.840642\n",
       "11    16.710821\n",
       "12    16.328131\n",
       "13    15.180059\n",
       "14    20.473945\n",
       "15    22.514962\n",
       "16    21.494453\n",
       "17    20.027473\n",
       "18    12.820134\n",
       "19     9.120792\n",
       "20     6.378176\n",
       "21     2.997743\n",
       "22     2.423707\n",
       "23     1.913453\n",
       "24     1.722108\n",
       "Name: Average Daily Rate, dtype: object>"
      ]
     },
     "execution_count": 46,
     "metadata": {},
     "output_type": "execute_result"
    }
   ],
   "source": [
    "weekly_trends['Average Daily Rate'].describe"
   ]
  },
  {
   "cell_type": "code",
   "execution_count": 84,
   "id": "5cbfc6da",
   "metadata": {},
   "outputs": [],
   "source": [
    "#i'd like to see this paired with the 'dt' as index\n",
    "Average_Daily = pd.DataFrame(weekly_trends['Average Daily Rate'].astype(float)).set_index(\n",
    "    keys = weekly_trends.dt, inplace = False)"
   ]
  },
  {
   "cell_type": "code",
   "execution_count": 85,
   "id": "de6a1d40",
   "metadata": {},
   "outputs": [
    {
     "data": {
      "text/plain": [
       "<bound method NDFrame.describe of             Average Daily Rate\n",
       "dt                            \n",
       "2020-12-24           26.852121\n",
       "2020-12-31           26.022958\n",
       "2021-01-07           26.788340\n",
       "2021-01-14           32.847607\n",
       "2021-01-21           35.335095\n",
       "2021-01-28           32.337353\n",
       "2021-02-04           27.553721\n",
       "2021-02-11           21.494453\n",
       "2021-02-18           14.542241\n",
       "2021-02-25           12.756352\n",
       "2021-03-04           13.840642\n",
       "2021-03-11           16.710821\n",
       "2021-03-18           16.328131\n",
       "2021-03-25           15.180059\n",
       "2021-04-01           20.473945\n",
       "2021-04-08           22.514962\n",
       "2021-04-15           21.494453\n",
       "2021-04-22           20.027473\n",
       "2021-04-29           12.820134\n",
       "2021-05-06            9.120792\n",
       "2021-05-13            6.378176\n",
       "2021-05-20            2.997743\n",
       "2021-05-27            2.423707\n",
       "2021-06-03            1.913453\n",
       "2021-06-10            1.722108>"
      ]
     },
     "execution_count": 85,
     "metadata": {},
     "output_type": "execute_result"
    }
   ],
   "source": [
    "Average_Daily.describe"
   ]
  },
  {
   "cell_type": "code",
   "execution_count": 87,
   "id": "6c881b73",
   "metadata": {},
   "outputs": [
    {
     "name": "stdout",
     "output_type": "stream",
     "text": [
      "    Average Daily Rate\n",
      "0             1.722108\n",
      "1             1.913453\n",
      "2             2.423707\n",
      "3             2.997743\n",
      "4             6.378176\n",
      "5             9.120792\n",
      "6            12.756352\n",
      "7            12.820134\n",
      "8            13.840642\n",
      "9            14.542241\n",
      "10           15.180059\n",
      "11           16.328131\n",
      "12           16.710821\n",
      "13           20.027473\n",
      "14           20.473945\n",
      "15           21.494453\n",
      "16           21.494453\n",
      "17           22.514962\n",
      "18           26.022958\n",
      "19           26.788340\n",
      "20           26.852121\n",
      "21           27.553721\n",
      "22           32.337353\n",
      "23           32.847607\n",
      "24           35.335095\n"
     ]
    }
   ],
   "source": [
    "Average_daily_mean = Average_Daily.mean()\n",
    "Average_daily_median = Average_Daily.median()\n",
    "Average_daily_mode = Average_Daily.mode()\n",
    "print(Average_daily_mode)"
   ]
  },
  {
   "cell_type": "code",
   "execution_count": 56,
   "id": "0b8f8364",
   "metadata": {},
   "outputs": [
    {
     "name": "stdout",
     "output_type": "stream",
     "text": [
      "<bound method NDFrame.head of                Population Total Case Counts Two Week Case Counts  \\\n",
      "dt                                                                 \n",
      "2020-12-24  111989.024088              2645                  421   \n",
      "2020-12-31  111989.024088              2835                  408   \n",
      "2021-01-07  111989.024088              3083                  420   \n",
      "2021-01-14  111989.024088              3346                  515   \n",
      "2021-01-21  111989.024088              3618                  554   \n",
      "2021-01-28  111989.024088              3862                  507   \n",
      "2021-02-04  111989.024088              4058                  432   \n",
      "2021-02-11  111989.024088              4177                  337   \n",
      "2021-02-18  111989.024088              4271                  228   \n",
      "2021-02-25  111989.024088              4377                  200   \n",
      "2021-03-04  111989.024088              4486                  217   \n",
      "2021-03-11  111989.024088              4623                  262   \n",
      "2021-03-18  111989.024088              4734                  256   \n",
      "2021-03-25  111989.024088              4878                  238   \n",
      "2021-04-01  111989.024088              5080                  321   \n",
      "2021-04-08  111989.024088              5221                  353   \n",
      "2021-04-15  111989.024088              5407                  337   \n",
      "2021-04-22  111989.024088              5527                  314   \n",
      "2021-04-29  111989.024088              5603                  201   \n",
      "2021-05-06  111989.024088              5664                  143   \n",
      "2021-05-13  111989.024088              5692                  100   \n",
      "2021-05-20  111989.024088              5713                   47   \n",
      "2021-05-27  111989.024088              5730                   38   \n",
      "2021-06-03  111989.024088              5735                   30   \n",
      "2021-06-10  111989.024088              5758                   27   \n",
      "\n",
      "           Average Daily Rate   Color Change in Last Week  Total Tests  \\\n",
      "dt                                                                       \n",
      "2020-12-24          26.852121  Yellow               Lower       424399   \n",
      "2020-12-31          26.022958  Yellow               Lower       437776   \n",
      "2021-01-07           26.78834  Yellow              Higher       451671   \n",
      "2021-01-14          32.847607  Yellow              Higher       473510   \n",
      "2021-01-21          35.335095  Yellow              Higher       494699   \n",
      "2021-01-28          32.337353  Yellow               Lower       520836   \n",
      "2021-02-04          27.553721  Yellow               Lower       549197   \n",
      "2021-02-11          21.494453  Yellow               Lower       575383   \n",
      "2021-02-18          14.542241  Yellow               Lower       603952   \n",
      "2021-02-25          12.756352  Yellow               Lower       633992   \n",
      "2021-03-04          13.840642  Yellow              Higher       667111   \n",
      "2021-03-11          16.710821  Yellow              Higher       700332   \n",
      "2021-03-18          16.328131  Yellow               Lower       733535   \n",
      "2021-03-25          15.180059  Yellow               Lower       766703   \n",
      "2021-04-01          20.473945  Yellow              Higher       801984   \n",
      "2021-04-08          22.514962  Yellow              Higher       835201   \n",
      "2021-04-15          21.494453  Yellow               Lower       867981   \n",
      "2021-04-22          20.027473  Yellow               Lower       897975   \n",
      "2021-04-29          12.820134  Yellow               Lower       928073   \n",
      "2021-05-06           9.120792   Green               Lower       956875   \n",
      "2021-05-13           6.378176   Green               Lower       986681   \n",
      "2021-05-20           2.997743   Green               Lower      1012048   \n",
      "2021-05-27           2.423707   Green               Lower      1033458   \n",
      "2021-06-03           1.913453   Green               Lower      1047615   \n",
      "2021-06-10           1.722108   Green               Lower      1063577   \n",
      "\n",
      "            Total Tests Last Two Weeks  Total Positive Tests  \\\n",
      "dt                                                             \n",
      "2020-12-24                     42729.0                 505.0   \n",
      "2020-12-31                     36294.0                 479.0   \n",
      "2021-01-07                     27189.0                 488.0   \n",
      "2021-01-14                     34269.0                 619.0   \n",
      "2021-01-21                     44470.0                 663.0   \n",
      "2021-01-28                     45875.0                 602.0   \n",
      "2021-02-04                     50830.0                 538.0   \n",
      "2021-02-11                     54140.0                 434.0   \n",
      "2021-02-18                     55154.0                 290.0   \n",
      "2021-02-25                     55992.0                 230.0   \n",
      "2021-03-04                     60906.0                 235.0   \n",
      "2021-03-11                     67166.0                 299.0   \n",
      "2021-03-18                     66767.0                 301.0   \n",
      "2021-03-25                     65909.0                 281.0   \n",
      "2021-04-01                     66366.0                 370.0   \n",
      "2021-04-08                     67005.0                 394.0   \n",
      "2021-04-15                     65971.0                 395.0   \n",
      "2021-04-22                     64183.0                 382.0   \n",
      "2021-04-29                     60864.0                 267.0   \n",
      "2021-05-06                     59150.0                 191.0   \n",
      "2021-05-13                     58610.0                 121.0   \n",
      "2021-05-20                     54831.0                  63.0   \n",
      "2021-05-27                     48873.0                  52.0   \n",
      "2021-06-03                     41219.0                  40.0   \n",
      "2021-06-10                     33174.0                  31.0   \n",
      "\n",
      "           Percent Positivity Change Since Last Week  Testing Rate  \\\n",
      "dt                                                                   \n",
      "2020-12-24           0.011819              No Change  38154.631981   \n",
      "2020-12-31           0.013198                 Higher  32408.533154   \n",
      "2021-01-07           0.017948                 Higher  24278.272109   \n",
      "2021-01-14           0.018063              No Change  30600.320236   \n",
      "2021-01-21           0.014909                  Lower  39709.248618   \n",
      "2021-01-28           0.013123                  Lower  40963.835852   \n",
      "2021-02-04           0.010584                  Lower  45388.376597   \n",
      "2021-02-11           0.008016                  Lower  48344.023391   \n",
      "2021-02-18           0.005258                  Lower  49249.469267   \n",
      "2021-02-25           0.004108                  Lower  49997.756884   \n",
      "2021-03-04           0.003858              No Change  54385.686898   \n",
      "2021-03-11           0.004452              No Change  59975.520411   \n",
      "2021-03-18           0.004508              No Change  59619.235496   \n",
      "2021-03-25           0.004263              No Change  58853.088985   \n",
      "2021-04-01           0.005575                 Higher  59261.164691   \n",
      "2021-04-08            0.00588              No Change  59831.756323   \n",
      "2021-04-15           0.005987              No Change  58908.451554   \n",
      "2021-04-22           0.005952              No Change  57311.866518   \n",
      "2021-04-29           0.004387                  Lower  54348.183222   \n",
      "2021-05-06           0.003229                  Lower  52817.676091   \n",
      "2021-05-13           0.002064                  Lower   52335.48598   \n",
      "2021-05-20           0.001149              No Change  48961.048144   \n",
      "2021-05-27           0.001064              No Change  43640.883915   \n",
      "2021-06-03            0.00097              No Change  36806.285559   \n",
      "2021-06-10           0.000934              No Change  29622.545843   \n",
      "\n",
      "           Report Date Start_Date   End_Date         dt  \n",
      "dt                                                       \n",
      "2020-12-24  2020-12-24 2020-12-06 2020-12-19 2020-12-24  \n",
      "2020-12-31  2020-12-31 2020-12-13 2020-12-26 2020-12-31  \n",
      "2021-01-07  2021-01-07 2020-12-20 2021-01-02 2021-01-07  \n",
      "2021-01-14  2021-01-14 2020-12-27 2021-01-09 2021-01-14  \n",
      "2021-01-21  2021-01-21 2021-01-03 2021-01-16 2021-01-21  \n",
      "2021-01-28  2021-01-28 2021-01-10 2021-01-23 2021-01-28  \n",
      "2021-02-04  2021-02-04 2021-01-17 2021-01-30 2021-02-04  \n",
      "2021-02-11  2021-02-11 2021-01-24 2021-02-06 2021-02-11  \n",
      "2021-02-18  2021-02-18 2021-01-31 2021-02-13 2021-02-18  \n",
      "2021-02-25  2021-02-25 2021-02-07 2021-02-20 2021-02-25  \n",
      "2021-03-04  2021-03-04 2021-02-14 2021-02-27 2021-03-04  \n",
      "2021-03-11  2021-03-11 2021-02-21 2021-03-06 2021-03-11  \n",
      "2021-03-18  2021-03-18 2021-02-28 2021-03-13 2021-03-18  \n",
      "2021-03-25  2021-03-25 2021-03-07 2021-03-20 2021-03-25  \n",
      "2021-04-01  2021-04-01 2021-03-14 2021-03-27 2021-04-01  \n",
      "2021-04-08  2021-04-08 2021-03-21 2021-04-03 2021-04-08  \n",
      "2021-04-15  2021-04-15 2021-03-28 2021-04-10 2021-04-15  \n",
      "2021-04-22  2021-04-22 2021-04-04 2021-04-17 2021-04-22  \n",
      "2021-04-29  2021-04-29 2021-04-11 2021-04-24 2021-04-29  \n",
      "2021-05-06  2021-05-06 2021-04-18 2021-05-01 2021-05-06  \n",
      "2021-05-13  2021-05-13 2021-04-25 2021-05-08 2021-05-13  \n",
      "2021-05-20  2021-05-20 2021-05-02 2021-05-15 2021-05-20  \n",
      "2021-05-27  2021-05-27 2021-05-09 2021-05-22 2021-05-27  \n",
      "2021-06-03  2021-06-03 2021-05-16 2021-05-29 2021-06-03  \n",
      "2021-06-10  2021-06-10 2021-05-23 2021-06-05 2021-06-10  >\n"
     ]
    }
   ],
   "source": [
    "weekly_trends.set_index(weekly_trends.dt, inplace = True)\n",
    "print(weekly_trends.head)"
   ]
  },
  {
   "cell_type": "code",
   "execution_count": null,
   "id": "0805f1e3",
   "metadata": {},
   "outputs": [],
   "source": [
    "#ask Luka to review 6.17.21 NS"
   ]
  }
 ],
 "metadata": {
  "kernelspec": {
   "display_name": "Python 3",
   "language": "python",
   "name": "python3"
  },
  "language_info": {
   "codemirror_mode": {
    "name": "ipython",
    "version": 3
   },
   "file_extension": ".py",
   "mimetype": "text/x-python",
   "name": "python",
   "nbconvert_exporter": "python",
   "pygments_lexer": "ipython3",
   "version": "3.8.8"
  }
 },
 "nbformat": 4,
 "nbformat_minor": 5
}
