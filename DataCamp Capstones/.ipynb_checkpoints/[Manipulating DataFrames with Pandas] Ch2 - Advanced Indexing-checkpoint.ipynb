{
 "cells": [
  {
   "cell_type": "code",
   "execution_count": null,
   "metadata": {},
   "outputs": [],
   "source": [
    "Video - Index objects and labeled data\n",
    "Key Pandas building blocks:\n",
    "    Indexes - sequence of labels\n",
    "    Serires - 1D arrays with index\n",
    "    DataFrames - 2D array with Series as columsn\n",
    "    \n",
    "Indexes are immutables, and homogenous in data type\n",
    "\n"
   ]
  },
  {
   "cell_type": "code",
   "execution_count": 1,
   "metadata": {},
   "outputs": [
    {
     "name": "stdout",
     "output_type": "stream",
     "text": [
      "0    10.70\n",
      "1    10.86\n",
      "2    10.75\n",
      "3    10.71\n",
      "4    10.79\n",
      "dtype: float64\n"
     ]
    }
   ],
   "source": [
    "import pandas as pd\n",
    "prices = [10.70, 10.86, 10.75, 10.71, 10.79]\n",
    "shares = pd.Series(prices)\n",
    "print(shares)"
   ]
  },
  {
   "cell_type": "code",
   "execution_count": 3,
   "metadata": {},
   "outputs": [
    {
     "name": "stdout",
     "output_type": "stream",
     "text": [
      "Mon     10.70\n",
      "Tue     10.86\n",
      "Wed     10.75\n",
      "Thur    10.71\n",
      "Fri     10.79\n",
      "dtype: float64\n"
     ]
    }
   ],
   "source": [
    "days = ['Mon', 'Tue', 'Wed', 'Thur', 'Fri']\n",
    "shares = pd.Series(prices, index = days)\n",
    "print(shares)"
   ]
  },
  {
   "cell_type": "code",
   "execution_count": 4,
   "metadata": {},
   "outputs": [
    {
     "name": "stdout",
     "output_type": "stream",
     "text": [
      "Index(['Mon', 'Tue', 'Wed', 'Thur', 'Fri'], dtype='object') <class 'pandas.core.indexes.base.Index'>\n"
     ]
    }
   ],
   "source": [
    "print(shares.index, type(shares.index))"
   ]
  },
  {
   "cell_type": "code",
   "execution_count": 7,
   "metadata": {},
   "outputs": [
    {
     "name": "stdout",
     "output_type": "stream",
     "text": [
      "Wed\n",
      "Index(['Thur', 'Fri'], dtype='object')\n"
     ]
    }
   ],
   "source": [
    "#Can index and slice shares.index\n",
    "print(shares.index[2]) #index\n",
    "print(shares.index[-2:]) #slice from the second last elt to the final elt"
   ]
  },
  {
   "cell_type": "code",
   "execution_count": 8,
   "metadata": {},
   "outputs": [
    {
     "name": "stdout",
     "output_type": "stream",
     "text": [
      "None\n"
     ]
    }
   ],
   "source": [
    "#.index has a name attribute with a value of None for shares\n",
    "print(shares.index.name)"
   ]
  },
  {
   "cell_type": "code",
   "execution_count": 9,
   "metadata": {},
   "outputs": [
    {
     "name": "stdout",
     "output_type": "stream",
     "text": [
      "weekday\n",
      "Mon     10.70\n",
      "Tue     10.86\n",
      "Wed     10.75\n",
      "Thur    10.71\n",
      "Fri     10.79\n",
      "dtype: float64\n"
     ]
    }
   ],
   "source": [
    "#Modifying index name\n",
    "shares.index.name = 'weekday'\n",
    "print(shares)"
   ]
  },
  {
   "cell_type": "code",
   "execution_count": 11,
   "metadata": {},
   "outputs": [
    {
     "ename": "TypeError",
     "evalue": "Index does not support mutable operations",
     "output_type": "error",
     "traceback": [
      "\u001b[1;31m---------------------------------------------------------------------------\u001b[0m",
      "\u001b[1;31mTypeError\u001b[0m                                 Traceback (most recent call last)",
      "\u001b[1;32m<ipython-input-11-07831c57d9c2>\u001b[0m in \u001b[0;36m<module>\u001b[1;34m\u001b[0m\n\u001b[0;32m      1\u001b[0m \u001b[1;31m#Index does not support mutable operations\u001b[0m\u001b[1;33m\u001b[0m\u001b[1;33m\u001b[0m\u001b[1;33m\u001b[0m\u001b[0m\n\u001b[1;32m----> 2\u001b[1;33m \u001b[0mshares\u001b[0m\u001b[1;33m.\u001b[0m\u001b[0mindex\u001b[0m\u001b[1;33m[\u001b[0m\u001b[1;36m2\u001b[0m\u001b[1;33m]\u001b[0m \u001b[1;33m=\u001b[0m \u001b[1;34m'Wednesday'\u001b[0m\u001b[1;33m\u001b[0m\u001b[1;33m\u001b[0m\u001b[0m\n\u001b[0m\u001b[0;32m      3\u001b[0m \u001b[0mshares\u001b[0m\u001b[1;33m.\u001b[0m\u001b[0mindex\u001b[0m\u001b[1;33m[\u001b[0m\u001b[1;33m:\u001b[0m\u001b[1;36m4\u001b[0m\u001b[1;33m]\u001b[0m \u001b[1;33m=\u001b[0m \u001b[1;33m[\u001b[0m\u001b[1;34m'Monday'\u001b[0m\u001b[1;33m,\u001b[0m \u001b[1;34m'Tuesday'\u001b[0m\u001b[1;33m,\u001b[0m \u001b[1;34m'Wednesday'\u001b[0m\u001b[1;33m,\u001b[0m \u001b[1;34m'Thursday'\u001b[0m\u001b[1;33m]\u001b[0m\u001b[1;33m\u001b[0m\u001b[1;33m\u001b[0m\u001b[0m\n",
      "\u001b[1;32m~\\Anaconda3\\lib\\site-packages\\pandas\\core\\indexes\\base.py\u001b[0m in \u001b[0;36m__setitem__\u001b[1;34m(self, key, value)\u001b[0m\n\u001b[0;32m   4258\u001b[0m \u001b[1;33m\u001b[0m\u001b[0m\n\u001b[0;32m   4259\u001b[0m     \u001b[1;32mdef\u001b[0m \u001b[0m__setitem__\u001b[0m\u001b[1;33m(\u001b[0m\u001b[0mself\u001b[0m\u001b[1;33m,\u001b[0m \u001b[0mkey\u001b[0m\u001b[1;33m,\u001b[0m \u001b[0mvalue\u001b[0m\u001b[1;33m)\u001b[0m\u001b[1;33m:\u001b[0m\u001b[1;33m\u001b[0m\u001b[1;33m\u001b[0m\u001b[0m\n\u001b[1;32m-> 4260\u001b[1;33m         \u001b[1;32mraise\u001b[0m \u001b[0mTypeError\u001b[0m\u001b[1;33m(\u001b[0m\u001b[1;34m\"Index does not support mutable operations\"\u001b[0m\u001b[1;33m)\u001b[0m\u001b[1;33m\u001b[0m\u001b[1;33m\u001b[0m\u001b[0m\n\u001b[0m\u001b[0;32m   4261\u001b[0m \u001b[1;33m\u001b[0m\u001b[0m\n\u001b[0;32m   4262\u001b[0m     \u001b[1;32mdef\u001b[0m \u001b[0m__getitem__\u001b[0m\u001b[1;33m(\u001b[0m\u001b[0mself\u001b[0m\u001b[1;33m,\u001b[0m \u001b[0mkey\u001b[0m\u001b[1;33m)\u001b[0m\u001b[1;33m:\u001b[0m\u001b[1;33m\u001b[0m\u001b[1;33m\u001b[0m\u001b[0m\n",
      "\u001b[1;31mTypeError\u001b[0m: Index does not support mutable operations"
     ]
    }
   ],
   "source": [
    "#Index does not support mutable operations\n",
    "shares.index[2] = 'Wednesday'\n",
    "shares.index[:4] = ['Monday', 'Tuesday', 'Wednesday', 'Thursday']"
   ]
  },
  {
   "cell_type": "code",
   "execution_count": 13,
   "metadata": {},
   "outputs": [
    {
     "name": "stdout",
     "output_type": "stream",
     "text": [
      "Monday       10.70\n",
      "Tuesday      10.86\n",
      "Wednesday    10.75\n",
      "Thursday     10.71\n",
      "Friday       10.79\n",
      "dtype: float64\n",
      "None\n"
     ]
    }
   ],
   "source": [
    "#It is possible to reassign an index by overwriting it all at once\n",
    "shares.index = ['Monday', 'Tuesday', 'Wednesday', 'Thursday', 'Friday']\n",
    "print(shares)\n",
    "#note by overwriting, the name of the index is also replaced\n",
    "print(shares.index.name) #expect None returned"
   ]
  },
  {
   "cell_type": "code",
   "execution_count": null,
   "metadata": {},
   "outputs": [],
   "source": [
    "#Assigning the index\n",
    "df.index = df['column name']\n",
    "df..head()\n",
    "\n",
    "#as the 'column name' is used as index, can delete the redundant column using del\n",
    "dfl df['column name']\n",
    "\n",
    "#instead of defining 'column name' as the index, we could have defined it when using pd.read_csv\n",
    "#pd.read_csv(csv, index_col = 'column name')\n"
   ]
  },
  {
   "cell_type": "code",
   "execution_count": null,
   "metadata": {},
   "outputs": [],
   "source": [
    "'''\n",
    "Exercise 1\n",
    "Changing index of a DataFrame\n",
    "As you saw in the previous exercise, indexes are immutable objects. This means that if you want to \n",
    "change or modify the index in a DataFrame, then you need to change the whole index. You will do this \n",
    "now, using a list comprehension to create the new index.\n",
    "\n",
    "A list comprehension is a succinct way to generate a list in one line. For example, the following list\n",
    "comprehension generates a list that contains the cubes of all numbers from 0 to 9: \n",
    "cubes = [i**3 for i in range(10)]. This is equivalent to the following code:\n",
    "\n",
    "cubes = []\n",
    "for i in range(10):\n",
    "    cubes.append(i**3)\n",
    "Before getting started, print the sales DataFrame in the IPython Shell and verify that the index is \n",
    "given by month abbreviations containing lowercase characters.\n",
    "\n",
    "INSTRUCTIONS:\n",
    "Create a list new_idx with the same elements as in sales.index, but with all characters capitalized.\n",
    "\n",
    "Assign new_idx to sales.index.\n",
    "\n",
    "Print the sales dataframe. This has been done for you, so hit 'Submit Answer' and to see how the \n",
    "index changed.\n",
    "'''\n",
    "\n",
    "# Create the list of new indexes: new_idx\n",
    "new_idx = [sale.upper() for sale in sales.index]\n",
    "\n",
    "# Assign new_idx to sales.index\n",
    "sales.index = new_idx\n",
    "\n",
    "# Print the sales DataFrame\n",
    "print(sales)\n"
   ]
  },
  {
   "cell_type": "code",
   "execution_count": null,
   "metadata": {},
   "outputs": [],
   "source": [
    "'''\n",
    "Exercise 2\n",
    "Changing index name labels\n",
    "Notice that in the previous exercise, the index was not labeled with a name. In this exercise, you \n",
    "will set its name to 'MONTHS'.\n",
    "\n",
    "Similarly, if all the columns are related in some way, you can provide a label for the set of columns.\n",
    "\n",
    "\n",
    "To get started, print the sales DataFrame in the IPython Shell and verify that the index has no name, \n",
    "only its data (the month names).\n",
    "\n",
    "INSTRUCTIONS:\n",
    "Assign the string 'MONTHS' to sales.index.name to create a name for the index.\n",
    "\n",
    "Print the sales dataframe to see the index name you just created.\n",
    "\n",
    "Now assign the string 'PRODUCTS' to sales.columns.name to give a name to the set of columns.\n",
    "\n",
    "Print the sales dataframe again to see the columns name you just created.\n",
    "\n",
    "'''\n",
    "# Assign the string 'MONTHS' to sales.index.name\n",
    "sales.index.name = 'MONTHS'\n",
    "\n",
    "# Print the sales DataFrame\n",
    "print(sales)\n",
    "\n",
    "# Assign the string 'PRODUCTS' to sales.columns.name \n",
    "sales.columns.name = 'PRODUCTS'\n",
    "\n",
    "# Print the sales dataframe again\n",
    "print(sales)"
   ]
  },
  {
   "cell_type": "code",
   "execution_count": null,
   "metadata": {},
   "outputs": [],
   "source": [
    "'''\n",
    "Exercise 3\n",
    "Building an index, then a DataFrame\n",
    "\n",
    "You can also build the DataFrame and index independently, and then put them together. If you take \n",
    "this route, be careful, as any mistakes in generating the DataFrame or the index can cause the data \n",
    "and the index to be aligned incorrectly.\n",
    "\n",
    "In this exercise, the sales DataFrame has been provided for you without the month index. Your job is \n",
    "to build this index separately and then assign it to the sales DataFrame. Before getting started, \n",
    "print the sales DataFrame in the IPython Shell and note that it's missing the month information.\n",
    "\n",
    "\n",
    "Instructions:\n",
    "Generate a list months with the data ['Jan', 'Feb', 'Mar', 'Apr', 'May', 'Jun']. This has been done \n",
    "for you.\n",
    "\n",
    "Assign months to sales.index.\n",
    "\n",
    "Print the modified sales dataframe and verify that you now have month information in the index.\n",
    "'''\n",
    "# Generate the list of months: months\n",
    "months = ['Jan', 'Feb', 'Mar', 'Apr', 'May', 'Jun']\n",
    "\n",
    "# Assign months to sales.index\n",
    "sales.index = months\n",
    "\n",
    "# Print the modified sales DataFrame\n",
    "print(sales)"
   ]
  },
  {
   "cell_type": "code",
   "execution_count": null,
   "metadata": {},
   "outputs": [],
   "source": [
    "Video 2 - Hierarchical Indexing\n",
    "Would be best if we used a meaningful column sans repetition for Index\n",
    "Use a tuple \n",
    "video uses a stock df\n",
    "stocks = stocks.set_index(['Symbol', 'Date'])\n",
    "if we print out the index\n",
    "print(stocks.index) will yield a tpe of \"MultiIndex\"\n",
    "Also known as a hierarchical index\n",
    "print(stocks.index.name) will return None\n",
    "print(stocks.index.names) will list out the 'Symbol' and 'Date' lists\n",
    "\n",
    ".sort_index() will sort the dataframe. \n",
    "If assigned like this\n",
    "stocks = stocks.sort_index() it will create a new df in memory\n",
    "\n",
    "Indexing (individual row)\n",
    "stocks.loc[('CSCO', '2016-10-04')] #will extract the xth row of the sorted dataframe\n",
    "stocks.loc[('CSCO', '2016-10-04'), 'Volume'] #where 'Volume' is a column name \n",
    "#this extracts a single elt of the table \n",
    "\n",
    "Slicing (outermost index)\n",
    "stocks.loc['AAPL'] slices all rows corresponding to AAPL trades. AAPL is in the outer index\n",
    ".set_index([Outer, Inner])\n",
    "Can slice using a range of symbols\n",
    "stocks.loc['CSCO':'MSFT']\n",
    "\n",
    "Fancy Indexing (outermost index) - Using lists in indexing\n",
    "df.loc[([outer list], inner), column]\n",
    "stocks.loc[(['AAPL', 'MSFT'], '2016-20-05'), :] \n",
    "# can replace the all columns slice ':' with a spec'd column name\n",
    "stocks.loc[(['AAPL', 'MSFT'], '2016-20-05'), 'Close']\n",
    "\n",
    "Fancy Indexing (inner index)\n",
    "df.loc[(outer, [inner list]), column]\n",
    "stocks.loc[('CSCO', )]\n",
    "\n",
    "Slicing Hierarchical Indexes - \"There is a trick\"\n",
    "the tuple used for index does not recognize slicing with colons natively\n",
    "have to \"trick\" it with a python method slice()\n",
    "stocks.loc[(slice(None), slice('arg1', 'arg2')), :]"
   ]
  },
  {
   "cell_type": "code",
   "execution_count": null,
   "metadata": {},
   "outputs": [],
   "source": [
    "'''\n",
    "Exercise 4\n",
    "Extracting data with a MultiIndex\n",
    "In the video, Dhavide explained the concept of a hierarchical index, or a MultiIndex. You will now \n",
    "practice working with these types of indexes.\n",
    "\n",
    "The sales DataFrame you have been working with has been extended to now include State information as \n",
    "well. In the IPython Shell, print the new sales DataFrame to inspect the data. Take note of the \n",
    "MultiIndex!\n",
    "\n",
    "Extracting elements from the outermost level of a MultiIndex is just like in the case of a \n",
    "single-level Index. You can use the .loc[] accessor as Dhavide demonstrated in the video.\n",
    "\n",
    "\n",
    "INSTRUCTIONS:\n",
    "Print sales.loc[['CA', 'TX']]. Note how New York is excluded.\n",
    "Print sales['CA':'TX']. Note how New York is included.\n",
    "'''\n",
    "\n",
    "# Print sales.loc[['CA', 'TX']]\n",
    "print(sales.loc[['CA', 'TX']]) #this is a subsection, excluding NY\n",
    "\n",
    "# Print sales['CA':'TX']\n",
    "print(sales['CA':'TX']) #this is a slice (outermost index)\n"
   ]
  },
  {
   "cell_type": "code",
   "execution_count": null,
   "metadata": {},
   "outputs": [],
   "source": [
    "'''\n",
    "Exercise 5\n",
    "Setting & sorting a MultiIndex\n",
    "In the previous exercise, the MultiIndex was created and sorted for you. Now, you're going to do this \n",
    "yourself! With a MultiIndex, you should always ensure the index is sorted. You can skip this only if \n",
    "you know the data is already sorted on the index fields.\n",
    "\n",
    "To get started, print the pre-loaded sales DataFrame in the IPython Shell to verify that there is no \n",
    "MultiIndex.\n",
    "\n",
    "INSTRUCTIONS:\n",
    "Create a MultiIndex by setting the index to be the columns ['state', 'month'].\n",
    "\n",
    "Sort the MultiIndex using the .sort_index() method.\n",
    "\n",
    "Print the sales DataFrame. This has been done for you, so hit 'Submit Answer' to verify that indeed you have an index with the fields state and month!\n",
    "'''\n",
    "# Set the index to be the columns ['state', 'month']: sales\n",
    "sales = sales.set_index(['state', 'month'])\n",
    "\n",
    "# Sort the MultiIndex: sales\n",
    "sales = sales.sort_index()\n",
    "\n",
    "# Print the sales DataFrame\n",
    "print(sales)"
   ]
  },
  {
   "cell_type": "code",
   "execution_count": null,
   "metadata": {},
   "outputs": [],
   "source": [
    "'''\n",
    "Exercise 6\n",
    "Using .loc[] with nonunique indexes\n",
    "As Dhavide mentioned in the video, it is always preferable to have a meaningful index that uniquely \n",
    "identifies each row. Even though pandas does not require unique index values in DataFrames, it works \n",
    "better if the index values are indeed unique. To see an example of this, you will index your sales \n",
    "data by 'state' in this exercise.\n",
    "\n",
    "As always, begin by printing the sales DataFrame in the IPython Shell and inspecting it.\n",
    "\n",
    "INSTRUCTIONS;\n",
    "Set the index of sales to be the column 'state'.\n",
    "\n",
    "Print the sales DataFrame to verify that indeed you have an index with state values.\n",
    "\n",
    "Access the data from 'NY' and print it to verify that you obtain two rows.\n",
    "'''\n",
    "# Set the index to the column 'state': sales\n",
    "sales = sales.set_index('state')\n",
    "\n",
    "# Print the sales DataFrame\n",
    "print(sales)\n",
    "\n",
    "# Access the data from 'NY'\n",
    "print(sales.loc['NY'])"
   ]
  },
  {
   "cell_type": "code",
   "execution_count": null,
   "metadata": {},
   "outputs": [],
   "source": [
    "'''\n",
    "Exercise 7\n",
    "Indexing multiple levels of a MultiIndex\n",
    "Looking up indexed data is fast and efficient. And you have already seen that lookups based on the \n",
    "outermost level of a MultiIndex work just like lookups on DataFrames that have a single-level Index.\n",
    "\n",
    "Looking up data based on inner levels of a MultiIndex can be a bit trickier. The trickiest of all \n",
    "these lookups are when you want to access some inner levels of the index. In this case, you need to \n",
    "use slice(None) in the slicing parameter for the outermost dimension(s) instead of the usual :, or \n",
    "use pd.IndexSlice. You can refer to the pandas documentation for more details. For example, in the \n",
    "video, Dhavide used the following code to extract rows from all Symbols for the dates Oct. 3rd \n",
    "through 4th inclusive:\n",
    "\n",
    "stocks.loc[(slice(None), slice('2016-10-03', '2016-10-04')), :]\n",
    "Pay particular attention to the tuple (slice(None), slice('2016-10-03', '2016-10-04')).\n",
    "\n",
    "In this exercise, you will use your sales DataFrame to do some increasingly complex lookups. \n",
    "Remember that you can type sales.head() in the console to review the structure of the DataFrame!\n",
    "\n",
    "INSTRUCTIONS:\n",
    "Look up data for New York ('NY') in month 1 in the sales DataFrame.\n",
    "\n",
    "Look up data for California and Texas ('CA', 'TX') in month 2.\n",
    "\n",
    "Access the inner index month and look up data for all states in month 2. Use (slice(None), 2) to \n",
    "extract all rows in month 2.\n",
    "'''\n",
    "\n",
    "# Look up data for NY in month 1 in sales: NY_month1\n",
    "NY_month1 = sales.loc[('NY', 1)]\n",
    "\n",
    "# Look up data for CA and TX in month 2: CA_TX_month2\n",
    "#.loc[([outermost index], innermost]), column]\n",
    "CA_TX_month2 = sales.loc[(['CA', 'TX'], 2), :] #review how I had to slice column with :\n",
    "\n",
    "# Access the inner month index and look up data for all states in month 2: all_month2\n",
    "#[(all states, month == 2)]\n",
    "all_month2 = sales.loc[(slice(None), 2), :] #review how I had to slice column after the tuple with :"
   ]
  }
 ],
 "metadata": {
  "kernelspec": {
   "display_name": "Python 3",
   "language": "python",
   "name": "python3"
  },
  "language_info": {
   "codemirror_mode": {
    "name": "ipython",
    "version": 3
   },
   "file_extension": ".py",
   "mimetype": "text/x-python",
   "name": "python",
   "nbconvert_exporter": "python",
   "pygments_lexer": "ipython3",
   "version": "3.7.4"
  }
 },
 "nbformat": 4,
 "nbformat_minor": 2
}
