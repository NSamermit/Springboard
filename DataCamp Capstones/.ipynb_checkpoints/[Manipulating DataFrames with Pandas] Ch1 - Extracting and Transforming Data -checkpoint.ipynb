{
 "cells": [
  {
   "cell_type": "code",
   "execution_count": 17,
   "metadata": {},
   "outputs": [
    {
     "data": {
      "text/plain": [
       "pandas.core.frame.DataFrame"
      ]
     },
     "execution_count": 17,
     "metadata": {},
     "output_type": "execute_result"
    }
   ],
   "source": [
    "csvFilePath = \"OlympicMedals.csv\"\n",
    "import pandas as pd\n",
    "\n",
    "df = pd.read_csv(csvFilePath)\n",
    "type(df)\n",
    " "
   ]
  },
  {
   "cell_type": "code",
   "execution_count": 21,
   "metadata": {},
   "outputs": [
    {
     "data": {
      "text/html": [
       "<div>\n",
       "<style scoped>\n",
       "    .dataframe tbody tr th:only-of-type {\n",
       "        vertical-align: middle;\n",
       "    }\n",
       "\n",
       "    .dataframe tbody tr th {\n",
       "        vertical-align: top;\n",
       "    }\n",
       "\n",
       "    .dataframe thead th {\n",
       "        text-align: right;\n",
       "    }\n",
       "</style>\n",
       "<table border=\"1\" class=\"dataframe\">\n",
       "  <thead>\n",
       "    <tr style=\"text-align: right;\">\n",
       "      <th></th>\n",
       "      <th>City</th>\n",
       "      <th>Edition</th>\n",
       "      <th>Sport</th>\n",
       "      <th>Discipline</th>\n",
       "      <th>Athlete</th>\n",
       "      <th>NOC</th>\n",
       "      <th>Gender</th>\n",
       "      <th>Event</th>\n",
       "      <th>Event_gender</th>\n",
       "      <th>Medal</th>\n",
       "    </tr>\n",
       "  </thead>\n",
       "  <tbody>\n",
       "    <tr>\n",
       "      <td>29211</td>\n",
       "      <td>Beijing</td>\n",
       "      <td>2008</td>\n",
       "      <td>Wrestling</td>\n",
       "      <td>Wrestling Gre-R</td>\n",
       "      <td>ENGLICH, Mirko</td>\n",
       "      <td>GER</td>\n",
       "      <td>Men</td>\n",
       "      <td>84 - 96kg</td>\n",
       "      <td>M</td>\n",
       "      <td>Silver</td>\n",
       "    </tr>\n",
       "    <tr>\n",
       "      <td>29212</td>\n",
       "      <td>Beijing</td>\n",
       "      <td>2008</td>\n",
       "      <td>Wrestling</td>\n",
       "      <td>Wrestling Gre-R</td>\n",
       "      <td>MIZGAITIS, Mindaugas</td>\n",
       "      <td>LTU</td>\n",
       "      <td>Men</td>\n",
       "      <td>96 - 120kg</td>\n",
       "      <td>M</td>\n",
       "      <td>Bronze</td>\n",
       "    </tr>\n",
       "    <tr>\n",
       "      <td>29213</td>\n",
       "      <td>Beijing</td>\n",
       "      <td>2008</td>\n",
       "      <td>Wrestling</td>\n",
       "      <td>Wrestling Gre-R</td>\n",
       "      <td>PATRIKEEV, Yuri</td>\n",
       "      <td>ARM</td>\n",
       "      <td>Men</td>\n",
       "      <td>96 - 120kg</td>\n",
       "      <td>M</td>\n",
       "      <td>Bronze</td>\n",
       "    </tr>\n",
       "    <tr>\n",
       "      <td>29214</td>\n",
       "      <td>Beijing</td>\n",
       "      <td>2008</td>\n",
       "      <td>Wrestling</td>\n",
       "      <td>Wrestling Gre-R</td>\n",
       "      <td>LOPEZ, Mijain</td>\n",
       "      <td>CUB</td>\n",
       "      <td>Men</td>\n",
       "      <td>96 - 120kg</td>\n",
       "      <td>M</td>\n",
       "      <td>Gold</td>\n",
       "    </tr>\n",
       "    <tr>\n",
       "      <td>29215</td>\n",
       "      <td>Beijing</td>\n",
       "      <td>2008</td>\n",
       "      <td>Wrestling</td>\n",
       "      <td>Wrestling Gre-R</td>\n",
       "      <td>BAROEV, Khasan</td>\n",
       "      <td>RUS</td>\n",
       "      <td>Men</td>\n",
       "      <td>96 - 120kg</td>\n",
       "      <td>M</td>\n",
       "      <td>Silver</td>\n",
       "    </tr>\n",
       "  </tbody>\n",
       "</table>\n",
       "</div>"
      ],
      "text/plain": [
       "          City  Edition      Sport       Discipline               Athlete  \\\n",
       "29211  Beijing     2008  Wrestling  Wrestling Gre-R        ENGLICH, Mirko   \n",
       "29212  Beijing     2008  Wrestling  Wrestling Gre-R  MIZGAITIS, Mindaugas   \n",
       "29213  Beijing     2008  Wrestling  Wrestling Gre-R       PATRIKEEV, Yuri   \n",
       "29214  Beijing     2008  Wrestling  Wrestling Gre-R         LOPEZ, Mijain   \n",
       "29215  Beijing     2008  Wrestling  Wrestling Gre-R        BAROEV, Khasan   \n",
       "\n",
       "       NOC Gender       Event Event_gender   Medal  \n",
       "29211  GER    Men   84 - 96kg            M  Silver  \n",
       "29212  LTU    Men  96 - 120kg            M  Bronze  \n",
       "29213  ARM    Men  96 - 120kg            M  Bronze  \n",
       "29214  CUB    Men  96 - 120kg            M    Gold  \n",
       "29215  RUS    Men  96 - 120kg            M  Silver  "
      ]
     },
     "execution_count": 21,
     "metadata": {},
     "output_type": "execute_result"
    }
   ],
   "source": [
    "df.tail()"
   ]
  },
  {
   "cell_type": "code",
   "execution_count": 23,
   "metadata": {},
   "outputs": [
    {
     "data": {
      "text/plain": [
       "'Handball'"
      ]
     },
     "execution_count": 23,
     "metadata": {},
     "output_type": "execute_result"
    }
   ],
   "source": [
    "import random\n",
    "'''\n",
    "Indexing using square brackets\n",
    "pd[column][row]\n",
    "'''\n",
    "\n",
    "df['Sport'][random.randint(0, 29215)] \n"
   ]
  },
  {
   "cell_type": "code",
   "execution_count": 24,
   "metadata": {},
   "outputs": [
    {
     "data": {
      "text/plain": [
       "'Rowing'"
      ]
     },
     "execution_count": 24,
     "metadata": {},
     "output_type": "execute_result"
    }
   ],
   "source": [
    "'''\n",
    "Using column attribute and row label\n",
    "'''\n",
    "df.Sport[random.randint(0,2915)]"
   ]
  },
  {
   "cell_type": "code",
   "execution_count": 27,
   "metadata": {},
   "outputs": [
    {
     "data": {
      "text/plain": [
       "'Cricket'"
      ]
     },
     "execution_count": 27,
     "metadata": {},
     "output_type": "execute_result"
    }
   ],
   "source": [
    "'''\n",
    "More efficient and PROGRAMMATIC way to access data in a df \n",
    "is by using Accessor\n",
    "'''\n",
    "\n",
    "#includes .loc and .iloc\n",
    "#.loc uses labels .iloc uses index positions\n",
    "#[row, column]\n",
    "rand = random.randint(0,2915)\n",
    "\n",
    "df.loc[rand, 'Sport']\n"
   ]
  },
  {
   "cell_type": "code",
   "execution_count": 28,
   "metadata": {},
   "outputs": [
    {
     "name": "stdout",
     "output_type": "stream",
     "text": [
      "318\n"
     ]
    }
   ],
   "source": [
    "print(rand)"
   ]
  },
  {
   "cell_type": "code",
   "execution_count": 29,
   "metadata": {},
   "outputs": [
    {
     "data": {
      "text/plain": [
       "'Cricket'"
      ]
     },
     "execution_count": 29,
     "metadata": {},
     "output_type": "execute_result"
    }
   ],
   "source": [
    "#same search using iloc\n",
    "df.iloc[318, 3]"
   ]
  },
  {
   "cell_type": "code",
   "execution_count": 33,
   "metadata": {},
   "outputs": [
    {
     "data": {
      "text/plain": [
       "True"
      ]
     },
     "execution_count": 33,
     "metadata": {},
     "output_type": "execute_result"
    }
   ],
   "source": [
    "df.loc[rand, 'Sport'] == df.iloc[318, 3] #confirms the searches are the same"
   ]
  },
  {
   "cell_type": "code",
   "execution_count": 36,
   "metadata": {},
   "outputs": [
    {
     "data": {
      "text/plain": [
       "pandas.core.frame.DataFrame"
      ]
     },
     "execution_count": 36,
     "metadata": {},
     "output_type": "execute_result"
    }
   ],
   "source": [
    "'''\n",
    "When using bracket-indexing sans .loc or .iloc accessors\n",
    "The returned object may be:\n",
    "    a. Individual Value\n",
    "    b. Pandas Series\n",
    "    c. Pandas DataFrame\n",
    "    \n",
    "To ENSURE the return value is a DataFrame use a nested list within square brackets'''\n",
    "#df[column, column] #subselect a dataframe with these x columns only\n",
    "df_new = df[['City', 'Sport']] #note this is a nested list. df_new should be a DataFrame\n",
    "type(df_new)"
   ]
  },
  {
   "cell_type": "code",
   "execution_count": 39,
   "metadata": {},
   "outputs": [
    {
     "data": {
      "text/html": [
       "<div>\n",
       "<style scoped>\n",
       "    .dataframe tbody tr th:only-of-type {\n",
       "        vertical-align: middle;\n",
       "    }\n",
       "\n",
       "    .dataframe tbody tr th {\n",
       "        vertical-align: top;\n",
       "    }\n",
       "\n",
       "    .dataframe thead th {\n",
       "        text-align: right;\n",
       "    }\n",
       "</style>\n",
       "<table border=\"1\" class=\"dataframe\">\n",
       "  <thead>\n",
       "    <tr style=\"text-align: right;\">\n",
       "      <th></th>\n",
       "      <th>state</th>\n",
       "      <th>total</th>\n",
       "      <th>Obama</th>\n",
       "      <th>Romney</th>\n",
       "      <th>winner</th>\n",
       "      <th>voters</th>\n",
       "      <th>turnout</th>\n",
       "      <th>margin</th>\n",
       "    </tr>\n",
       "    <tr>\n",
       "      <th>county</th>\n",
       "      <th></th>\n",
       "      <th></th>\n",
       "      <th></th>\n",
       "      <th></th>\n",
       "      <th></th>\n",
       "      <th></th>\n",
       "      <th></th>\n",
       "      <th></th>\n",
       "    </tr>\n",
       "  </thead>\n",
       "  <tbody>\n",
       "    <tr>\n",
       "      <td>Adams</td>\n",
       "      <td>PA</td>\n",
       "      <td>41973</td>\n",
       "      <td>35.482334</td>\n",
       "      <td>63.112001</td>\n",
       "      <td>Romney</td>\n",
       "      <td>61156</td>\n",
       "      <td>68.632677</td>\n",
       "      <td>27.629667</td>\n",
       "    </tr>\n",
       "    <tr>\n",
       "      <td>Allegheny</td>\n",
       "      <td>PA</td>\n",
       "      <td>614671</td>\n",
       "      <td>56.640219</td>\n",
       "      <td>42.185820</td>\n",
       "      <td>Obama</td>\n",
       "      <td>924351</td>\n",
       "      <td>66.497575</td>\n",
       "      <td>14.454399</td>\n",
       "    </tr>\n",
       "    <tr>\n",
       "      <td>Armstrong</td>\n",
       "      <td>PA</td>\n",
       "      <td>28322</td>\n",
       "      <td>30.696985</td>\n",
       "      <td>67.901278</td>\n",
       "      <td>Romney</td>\n",
       "      <td>42147</td>\n",
       "      <td>67.198140</td>\n",
       "      <td>37.204293</td>\n",
       "    </tr>\n",
       "    <tr>\n",
       "      <td>Beaver</td>\n",
       "      <td>PA</td>\n",
       "      <td>80015</td>\n",
       "      <td>46.032619</td>\n",
       "      <td>52.637630</td>\n",
       "      <td>Romney</td>\n",
       "      <td>115157</td>\n",
       "      <td>69.483401</td>\n",
       "      <td>6.605012</td>\n",
       "    </tr>\n",
       "    <tr>\n",
       "      <td>Bedford</td>\n",
       "      <td>PA</td>\n",
       "      <td>21444</td>\n",
       "      <td>22.057452</td>\n",
       "      <td>76.986570</td>\n",
       "      <td>Romney</td>\n",
       "      <td>32189</td>\n",
       "      <td>66.619031</td>\n",
       "      <td>54.929118</td>\n",
       "    </tr>\n",
       "  </tbody>\n",
       "</table>\n",
       "</div>"
      ],
      "text/plain": [
       "          state   total      Obama     Romney  winner  voters    turnout  \\\n",
       "county                                                                     \n",
       "Adams        PA   41973  35.482334  63.112001  Romney   61156  68.632677   \n",
       "Allegheny    PA  614671  56.640219  42.185820   Obama  924351  66.497575   \n",
       "Armstrong    PA   28322  30.696985  67.901278  Romney   42147  67.198140   \n",
       "Beaver       PA   80015  46.032619  52.637630  Romney  115157  69.483401   \n",
       "Bedford      PA   21444  22.057452  76.986570  Romney   32189  66.619031   \n",
       "\n",
       "              margin  \n",
       "county                \n",
       "Adams      27.629667  \n",
       "Allegheny  14.454399  \n",
       "Armstrong  37.204293  \n",
       "Beaver      6.605012  \n",
       "Bedford    54.929118  "
      ]
     },
     "execution_count": 39,
     "metadata": {},
     "output_type": "execute_result"
    }
   ],
   "source": [
    "\"\"\"\n",
    "Excercise 1\n",
    "Positional and labeled indexing\n",
    "Given a pair of label-based indices, sometimes it's necessary to find the corresponding positions. \n",
    "In this exercise, you will use the Pennsylvania election results again. The DataFrame is provided \n",
    "for you as election.\n",
    "\n",
    "Find x and y such that election.iloc[x, y] == election.loc['Bedford', 'winner']. \n",
    "That is, what is the row position of 'Bedford', and the column position of 'winner'? \n",
    "Remember that the first position in Python is 0, not 1!\n",
    "\n",
    "To answer this question, first explore the DataFrame using election.head() in the IPython Shell \n",
    "and inspect it with your eyes.\n",
    "\n",
    "This course introduces a lot of new concepts, so if you ever need a quick refresher, \n",
    "download the Pandas Cheat Sheet and keep it handy!\n",
    "\"\"\"\n",
    "newCSV = \"pennsylvania2012_turnout.csv\"\n",
    "election = pd.read_csv(newCSV, index_col = \"county\")\n",
    "election.head()"
   ]
  },
  {
   "cell_type": "code",
   "execution_count": 58,
   "metadata": {},
   "outputs": [
    {
     "name": "stdout",
     "output_type": "stream",
     "text": [
      "x:  <class 'int'> \n",
      " y:  <class 'int'>\n",
      "True\n"
     ]
    }
   ],
   "source": [
    "# Assign the row position of election.loc['Bedford']: x\n",
    "x = election.index.get_loc('Bedford')\n",
    "#I think the assignment literally wanted me to assign an int to x. \"x = 4\"\n",
    "#I chose against this because there had to be a way to programmatically find any int value\n",
    "#given an index or a column arg. Found it. NS\n",
    "\n",
    "# Assign the column position of election['winner']: y\n",
    "y = election.columns.get_loc('winner')\n",
    "\n",
    "#print(df.index.get_loc('Bedford'))\n",
    "#print(df.columns.get_loc('winner'))\n",
    "\n",
    "#curious - what are the resulting types of x and y?\n",
    "print('x: ', type(x), '\\n', 'y: ', type(y))\n",
    "#confirms they are both int class\n",
    "\n",
    "# Print the boolean equivalence\n",
    "print(election.iloc[x, y] == election.loc['Bedford', 'winner'])"
   ]
  },
  {
   "cell_type": "code",
   "execution_count": 59,
   "metadata": {},
   "outputs": [
    {
     "data": {
      "text/plain": [
       "\"\\nExercise 2\\nIndexing and column rearrangement\\nThere are circumstances in which it's useful to modify the order of your DataFrame columns. \\nWe do that now by extracting just two columns from the Pennsylvania election results DataFrame.\\n\\nYour job is to read the CSV file and set the index to 'county'. You'll then assign a new DataFrame \\nby selecting the list of columns ['winner', 'total', 'voters']. The CSV file is provided to you in \\nthe variable filename.\\n\""
      ]
     },
     "execution_count": 59,
     "metadata": {},
     "output_type": "execute_result"
    }
   ],
   "source": [
    "'''\n",
    "Exercise 2\n",
    "Indexing and column rearrangement\n",
    "There are circumstances in which it's useful to modify the order of your DataFrame columns. \n",
    "We do that now by extracting just two columns from the Pennsylvania election results DataFrame.\n",
    "\n",
    "Your job is to read the CSV file and set the index to 'county'. You'll then assign a new DataFrame \n",
    "by selecting the list of columns ['winner', 'total', 'voters']. The CSV file is provided to you in \n",
    "the variable filename.\n",
    "'''\n"
   ]
  },
  {
   "cell_type": "code",
   "execution_count": 60,
   "metadata": {},
   "outputs": [
    {
     "name": "stdout",
     "output_type": "stream",
     "text": [
      "           winner   total  voters\n",
      "county                           \n",
      "Adams      Romney   41973   61156\n",
      "Allegheny   Obama  614671  924351\n",
      "Armstrong  Romney   28322   42147\n",
      "Beaver     Romney   80015  115157\n",
      "Bedford    Romney   21444   32189\n"
     ]
    }
   ],
   "source": [
    "filename = \"pennsylvania2012_turnout.csv\"\n",
    "\n",
    "# Import pandas\n",
    "import pandas as pd\n",
    "\n",
    "# Read in filename and set the index: election\n",
    "election = pd.read_csv(filename, index_col='county')\n",
    "\n",
    "# Create a separate dataframe with the columns ['winner', 'total', 'voters']: results\n",
    "colList = ['winner', 'total', 'voters']\n",
    "#df[column, column] #subselect a dataframe with these x columns only\n",
    "results = election[colList]\n",
    "\n",
    "# Print the output of results.head()\n",
    "print(results.head())"
   ]
  },
  {
   "cell_type": "code",
   "execution_count": 62,
   "metadata": {},
   "outputs": [
    {
     "data": {
      "text/plain": [
       "'\\nVideo - Slicing DataFrames\\n\\n'"
      ]
     },
     "execution_count": 62,
     "metadata": {},
     "output_type": "execute_result"
    }
   ],
   "source": [
    "'''\n",
    "Video - Slicing DataFrames\n",
    "\n",
    "'''\n",
    "#Selecting a column\n",
    "df['column'] results in a series\n",
    "a Pandas Series is a one-dimensional array with a labeled index\n",
    "(like a hybrid between a Numpy array and a dict)\n",
    "\n",
    "A dataframe is a 2darray with Series for columns sharing common row labels ** need to comprehend this\n",
    "\n",
    "#slicing and indexing a Series\n",
    "slicing can be performed with or without accesors\n",
    "use the colon for positional slicing \n",
    "df['eggs'][1:4] #part of the eggs column\n",
    "\n",
    "df['eggs'][4] #value associated with the 5th row or \"May\" as explained in video\n",
    "\n",
    "#Pandas extends this colon syntex to allow labels in slices\n",
    "df.loc[:, 'eggs':'salt'] #first colon selects ALL rows, then SOME columns\n",
    "\n",
    "df.loc['Jan':'Apr', :] # SOME rows, ALL columns\n",
    "\n",
    "#.iloc and .loc can use lists in place of slices\n",
    "df.loc['Jan':'May', ['eggs', 'spam']] #has a list of two columns\n",
    "df.iloc[[0,4,5], 0:2] #has a list of 3 rows\n",
    "\n",
    "#ATTENTION:\n",
    "df['eggs'] yields a series\n",
    "df[['eggs']] yields a DataFrame with a single column"
   ]
  },
  {
   "cell_type": "code",
   "execution_count": 64,
   "metadata": {},
   "outputs": [
    {
     "name": "stdout",
     "output_type": "stream",
     "text": [
      "             state   total      Obama     Romney  winner   voters    turnout  \\\n",
      "county                                                                         \n",
      "Perry           PA   18240  29.769737  68.591009  Romney    27245  66.948064   \n",
      "Philadelphia    PA  653598  85.224251  14.051451   Obama  1099197  59.461407   \n",
      "Pike            PA   23164  43.904334  54.882576  Romney    41840  55.363289   \n",
      "Potter          PA    7205  26.259542  72.158223  Romney    10913  66.022175   \n",
      "\n",
      "                 margin  \n",
      "county                   \n",
      "Perry         38.821272  \n",
      "Philadelphia  71.172800  \n",
      "Pike          10.978242  \n",
      "Potter        45.898681  \n",
      "             state   total      Obama     Romney  winner   voters    turnout  \\\n",
      "county                                                                         \n",
      "Potter          PA    7205  26.259542  72.158223  Romney    10913  66.022175   \n",
      "Pike            PA   23164  43.904334  54.882576  Romney    41840  55.363289   \n",
      "Philadelphia    PA  653598  85.224251  14.051451   Obama  1099197  59.461407   \n",
      "Perry           PA   18240  29.769737  68.591009  Romney    27245  66.948064   \n",
      "\n",
      "                 margin  \n",
      "county                   \n",
      "Potter        45.898681  \n",
      "Pike          10.978242  \n",
      "Philadelphia  71.172800  \n",
      "Perry         38.821272  \n"
     ]
    }
   ],
   "source": [
    "'''\n",
    "Exercise 3\n",
    "Slicing rows\n",
    "The Pennsylvania US election results data set that you have been using so far is ordered by county \n",
    "name. This means that county names can be sliced alphabetically. In this exercise, you're going to \n",
    "perform slicing on the county names of the election DataFrame from the previous exercises, which has \n",
    "been pre-loaded for you.\n",
    "\n",
    "Instructions: \n",
    "Slice the row labels 'Perry' to 'Potter' and assign the output to p_counties.\n",
    "\n",
    "Print the p_counties DataFrame. This has been done for you.\n",
    "\n",
    "Slice the row labels 'Potter' to 'Perry' in reverse order. To do this for hypothetical row labels 'a'\n",
    "and 'b', you could use a stepsize of -1 like so: df.loc['b':'a':-1].\n",
    "\n",
    "Print the p_counties_rev DataFrame. This has also been done for you, so hit 'Submit Answer' to see \n",
    "the result of your slicing!\n",
    "'''\n",
    "# Slice the row labels 'Perry' to 'Potter': p_counties\n",
    "p_counties = election['Perry':'Potter']\n",
    "\n",
    "# Print the p_counties DataFrame\n",
    "print(p_counties)\n",
    "\n",
    "# Slice the row labels 'Potter' to 'Perry' in reverse order: p_counties_rev\n",
    "#can define stepcount \n",
    "p_counties_rev = election['Potter':'Perry':-1]\n",
    "\n",
    "# Print the p_counties_rev DataFrame\n",
    "print(p_counties_rev)\n"
   ]
  },
  {
   "cell_type": "code",
   "execution_count": 76,
   "metadata": {},
   "outputs": [
    {
     "name": "stdout",
     "output_type": "stream",
     "text": [
      "          state   total      Obama\n",
      "county                            \n",
      "Adams        PA   41973  35.482334\n",
      "Allegheny    PA  614671  56.640219\n",
      "Armstrong    PA   28322  30.696985\n",
      "Beaver       PA   80015  46.032619\n",
      "Bedford      PA   21444  22.057452\n",
      "               Obama     Romney  winner\n",
      "county                                 \n",
      "Adams      35.482334  63.112001  Romney\n",
      "Allegheny  56.640219  42.185820   Obama\n",
      "Armstrong  30.696985  67.901278  Romney\n",
      "Beaver     46.032619  52.637630  Romney\n",
      "Bedford    22.057452  76.986570  Romney\n",
      "              Romney  winner  voters    turnout     margin\n",
      "county                                                    \n",
      "Adams      63.112001  Romney   61156  68.632677  27.629667\n",
      "Allegheny  42.185820   Obama  924351  66.497575  14.454399\n",
      "Armstrong  67.901278  Romney   42147  67.198140  37.204293\n",
      "Beaver     52.637630  Romney  115157  69.483401   6.605012\n",
      "Bedford    76.986570  Romney   32189  66.619031  54.929118\n"
     ]
    }
   ],
   "source": [
    "'''\n",
    "Excercise 4\n",
    "Slicing columns\n",
    "Similar to row slicing, columns can be sliced by value. In this exercise, your job is to slice \n",
    "column names from the Pennsylvania election results DataFrame using .loc[].\n",
    "\n",
    "It has been pre-loaded for you as election, with the index set to 'county'.\n",
    "\n",
    "Instructions:\n",
    "Slice the columns from the starting column to 'Obama' and assign the result to left_columns\n",
    "\n",
    "Slice the columns from 'Obama' to 'winner' and assign the result to middle_columns\n",
    "\n",
    "Slice the columns from 'Romney' to the end and assign the result to right_columns\n",
    "\n",
    "The code to print the first 5 rows of left_columns, middle_columns, and right_columns has been \n",
    "written, so hit 'Submit Answer' to see the results!\n",
    "'''\n",
    "# Slice the columns from the starting column to 'Obama': left_columns\n",
    "#use .loc\n",
    "left_columns = election.loc[:, :'Obama'] #.loc requires that I always specify 2 args: row and columns\n",
    "#so without the : for all rows, it wouldn't have run properly\n",
    "\n",
    "# Print the output of left_columns.head()\n",
    "print(left_columns.head())\n",
    "\n",
    "\n",
    "# Slice the columns from 'Obama' to 'winner': middle_columns\n",
    "middle_columns = election.loc[:, \"Obama\":\"winner\"]\n",
    "\n",
    "# Print the output of middle_columns.head()\n",
    "print(middle_columns.head())\n",
    "\n",
    "# Slice the columns from 'Romney' to the end:'right_columns'\n",
    "right_columns = election.loc[:, 'Romney':]\n",
    "\n",
    "# Print the output of right_columns.head()\n",
    "print(right_columns.head())"
   ]
  },
  {
   "cell_type": "code",
   "execution_count": 77,
   "metadata": {},
   "outputs": [
    {
     "name": "stdout",
     "output_type": "stream",
     "text": [
      "              winner      Obama     Romney\n",
      "county                                    \n",
      "Philadelphia   Obama  85.224251  14.051451\n",
      "Centre        Romney  48.948416  48.977486\n",
      "Fulton        Romney  21.096291  77.748861\n"
     ]
    }
   ],
   "source": [
    "'''\n",
    "Exercise 5\n",
    "Subselecting DataFrames with lists\n",
    "You can use lists to select specific row and column labels with the .loc[] accessor. In this exercise,\n",
    "your job is to select the counties ['Philadelphia', 'Centre', 'Fulton'] and the columns \n",
    "['winner','Obama','Romney'] from the election DataFrame, which has been pre-loaded for you with the \n",
    "index set to 'county'.\n",
    "\n",
    "Instructions:\n",
    "Create the list of row labels ['Philadelphia', 'Centre', 'Fulton'] and assign it to rows.\n",
    "\n",
    "Create the list of column labels ['winner', 'Obama', 'Romney'] and assign it to cols.\n",
    "\n",
    "Create a new DataFrame by selecting with rows and cols in .loc[] and assign it to three_counties.\n",
    "Print the three_counties DataFrame. This has been done for you, so hit 'Submit Answer` to see your \n",
    "new DataFrame.\n",
    "'''\n",
    "# Create the list of row labels: rows\n",
    "rows = ['Philadelphia', 'Centre', 'Fulton']\n",
    "\n",
    "# Create the list of column labels: cols\n",
    "cols = ['winner', 'Obama', 'Romney']\n",
    "\n",
    "# Create the new DataFrame: three_counties\n",
    "three_counties = election.loc[rows, cols]\n",
    "\n",
    "# Print the three_counties DataFrame\n",
    "print(three_counties)"
   ]
  },
  {
   "cell_type": "code",
   "execution_count": 78,
   "metadata": {},
   "outputs": [
    {
     "ename": "SyntaxError",
     "evalue": "invalid syntax (<ipython-input-78-0a9a4001bd8d>, line 1)",
     "output_type": "error",
     "traceback": [
      "\u001b[1;36m  File \u001b[1;32m\"<ipython-input-78-0a9a4001bd8d>\"\u001b[1;36m, line \u001b[1;32m1\u001b[0m\n\u001b[1;33m    Video - Filtering DataFrames\u001b[0m\n\u001b[1;37m                               ^\u001b[0m\n\u001b[1;31mSyntaxError\u001b[0m\u001b[1;31m:\u001b[0m invalid syntax\n"
     ]
    }
   ],
   "source": [
    "Video - Filtering DataFrames\n",
    "filtering is a tool to selection based on properties of interest of the data itself\n",
    "\n",
    "Boolean Series:\n",
    "    df.salt > 60\n",
    "    Asking: \"Where in the salt Series is the number of sales recorded greater than 60\"\n",
    "    Series returned has True or False values based on the argument\n",
    "Boolean series can be applied as a filter\n",
    "filter is directly applied within the brackets:\n",
    "    df[df.salt > 60]\n",
    "\n",
    "filter is assigned to an explainer variable and then applied:\n",
    "    enough_salt_sold = df.salt > 60\n",
    "    df[enough_salt_sold]\n",
    "\n",
    "Filters can be combined.\n",
    "df[(df.salt >= 50) & (df.eggs < 200)] #both conditions must be met to eval to True\n",
    "df[(df.salt >= 50) | (df.eggs < 200)] #either can be met to eval to True\n",
    "\n",
    "Filtering out zeros or NaN in DataFrames\n",
    "Ask: 'Which columns have all non-zero values'\n",
    "    df2.loc[:, df2.all()] #excludes any columns with zeros\n",
    "\n",
    "Ask: 'Which column have any non-zero entries'\n",
    "    df2.loc[:, df2.any()] #will filter out columns where the entire column is filled with zeros or NaN\n",
    "    In video, there were no zero columns, so all of df2 was returned\n",
    "    \n",
    "Ask: 'Which column have any NaNs'\n",
    "    df.loc[:, df.isnull().any()] #returns any column that has a NaN value\n",
    "    There is also a .notnull(), mentioned in video\n",
    "    \n",
    "Ask: 'Which column has no NaN value (all data is present)'\n",
    "    df.loc[:, df.notnull().all()]\n",
    "    \n",
    "Drop rows with any NaNs\n",
    "\n",
    "df.dropna(how='any') drops a row if any of its value is NaN\n",
    "df.dropna(how='all') drops a row of ALL of its values is NaN\n",
    "\n",
    "Filtering a column based on another\n",
    "df.eggs[df.salt > 55] #select egg sales for months when salt sales are over 55\n",
    "#The result is a Series subselected from the eggs column\n",
    "\n",
    "Modifying a column based on another\n",
    "df.eggs[df.salt > 55] += 5\n",
    "modifies the eggs column based on the salt filter\n",
    "\n"
   ]
  },
  {
   "cell_type": "code",
   "execution_count": 81,
   "metadata": {},
   "outputs": [
    {
     "name": "stdout",
     "output_type": "stream",
     "text": [
      "             state   total      Obama     Romney  winner  voters    turnout  \\\n",
      "county                                                                        \n",
      "Bucks           PA  319407  49.966970  48.801686   Obama  435606  73.324748   \n",
      "Butler          PA   88924  31.920516  66.816607  Romney  122762  72.436096   \n",
      "Chester         PA  248295  49.228539  49.650617  Romney  337822  73.498766   \n",
      "Forest          PA    2308  38.734835  59.835355  Romney    3232  71.410891   \n",
      "Franklin        PA   62802  30.110506  68.583803  Romney   87406  71.850903   \n",
      "Montgomery      PA  401787  56.637223  42.286834   Obama  551105  72.905708   \n",
      "Westmoreland    PA  168709  37.567646  61.306154  Romney  238006  70.884347   \n",
      "\n",
      "                 margin  \n",
      "county                   \n",
      "Bucks          1.165284  \n",
      "Butler        34.896091  \n",
      "Chester        0.422079  \n",
      "Forest        21.100520  \n",
      "Franklin      38.473297  \n",
      "Montgomery    14.350390  \n",
      "Westmoreland  23.738508  \n"
     ]
    }
   ],
   "source": [
    "'''\n",
    "Exercise 6\n",
    "Thresholding data\n",
    "In this exercise, we have provided the Pennsylvania election results and included a column called \n",
    "'turnout' that contains the percentage of voter turnout per county. Your job is to prepare a boolean \n",
    "array to select all of the rows and columns where voter turnout exceeded 70%.\n",
    "\n",
    "As before, the DataFrame is available to you as election with the index set to 'county'.\n",
    "\n",
    "Instructions: \n",
    "Create a boolean array of the condition where the 'turnout' column is greater than 70 and assign it \n",
    "to high_turnout.\n",
    "\n",
    "Filter the election DataFrame with the high_turnout array and assign it to high_turnout_df.\n",
    "\n",
    "Print the filtered DataFrame. This has been done for you, so hit 'Submit Answer' to see it!\n",
    "'''\n",
    "# Create the boolean array: high_turnout\n",
    "high_turnout = election.turnout > 70 \n",
    "\n",
    "# Filter the election DataFrame with the high_turnout array: high_turnout_df\n",
    "high_turnout_df = election[high_turnout]\n",
    "\n",
    "# Print the high_turnout_results DataFrame\n",
    "print(high_turnout_df)\n"
   ]
  },
  {
   "cell_type": "code",
   "execution_count": 110,
   "metadata": {},
   "outputs": [
    {
     "name": "stdout",
     "output_type": "stream",
     "text": [
      "<class 'pandas.core.frame.DataFrame'>\n",
      "Index: 67 entries, Adams to York\n",
      "Data columns (total 8 columns):\n",
      "state      67 non-null object\n",
      "total      67 non-null int64\n",
      "Obama      67 non-null float64\n",
      "Romney     67 non-null float64\n",
      "winner     64 non-null object\n",
      "voters     67 non-null int64\n",
      "turnout    67 non-null float64\n",
      "margin     67 non-null float64\n",
      "dtypes: float64(4), int64(2), object(2)\n",
      "memory usage: 4.7+ KB\n",
      "None\n",
      "        state   total      Obama     Romney winner  voters    turnout  \\\n",
      "county                                                                  \n",
      "Berks      PA  163253  48.939376  49.528646    NaN  250356  65.208343   \n",
      "Centre     PA   68801  48.948416  48.977486    NaN  112949  60.913333   \n",
      "Chester    PA  248295  49.228539  49.650617    NaN  337822  73.498766   \n",
      "\n",
      "           margin  \n",
      "county             \n",
      "Berks    0.589269  \n",
      "Centre   0.029069  \n",
      "Chester  0.422079  \n"
     ]
    }
   ],
   "source": [
    "'''\n",
    "Exercise 7\n",
    "Filtering columns using other columns\n",
    "The election results DataFrame has a column labeled 'margin' which expresses the number of extra votes\n",
    "the winner received over the losing candidate. This number is given as a percentage of the total votes\n",
    "cast. It is reasonable to assume that in counties where this margin was less than 1%, the results \n",
    "would be too-close-to-call.\n",
    "\n",
    "Your job is to use boolean selection to filter the rows where the margin was less than 1. You'll then \n",
    "convert these rows of the 'winner' column to np.nan to indicate that these results are too close to \n",
    "declare a winner.\n",
    "\n",
    "The DataFrame has been pre-loaded for you as election.\n",
    "\n",
    "Instructions:\n",
    "Import numpy as np.\n",
    "\n",
    "Create a boolean array for the condition where the 'margin' column is less than 1 and assign it to \n",
    "too_close.\n",
    "\n",
    "Convert the entries in the 'winner' column where the result was too close to call to np.nan.\n",
    "\n",
    "Print the output of election.info(). This has been done for you, so hit 'Submit Answer' to see the \n",
    "results.\n",
    "'''\n",
    "# Import numpy\n",
    "import numpy as np\n",
    "election = pd.read_csv(filename, index_col='county')\n",
    "election1 = election.copy()\n",
    "# Create the boolean array: too_close\n",
    "too_close = election.margin < 1\n",
    "\n",
    "# Assign np.nan to the 'winner' column where the results were too close to call\n",
    "election1.loc[too_close, 'winner']= np.nan #filter by too_close, then assign np.nan to winner column\n",
    "#.loc[filter, assignment col] this took forever to understand!\n",
    "\n",
    "# Print the output of election.info()\n",
    "\n",
    "print(election1.info()) #winner changes from 67 to 64 non-null\n",
    "print(election1[too_close]) #confirms NaN written to winner based on filter"
   ]
  },
  {
   "cell_type": "code",
   "execution_count": 126,
   "metadata": {},
   "outputs": [
    {
     "name": "stdout",
     "output_type": "stream",
     "text": [
      "(272, 2)\n",
      "(1069, 2)\n",
      "<class 'pandas.core.frame.DataFrame'>\n",
      "RangeIndex: 1309 entries, 0 to 1308\n",
      "Data columns (total 10 columns):\n",
      "pclass      1309 non-null int64\n",
      "survived    1309 non-null int64\n",
      "name        1309 non-null object\n",
      "sex         1309 non-null object\n",
      "age         1046 non-null float64\n",
      "sibsp       1309 non-null int64\n",
      "parch       1309 non-null int64\n",
      "ticket      1309 non-null object\n",
      "fare        1308 non-null float64\n",
      "embarked    1307 non-null object\n",
      "dtypes: float64(2), int64(4), object(4)\n",
      "memory usage: 102.4+ KB\n",
      "None\n"
     ]
    }
   ],
   "source": [
    "'''\n",
    "Exercise 8\n",
    "Filtering using NaNs\n",
    "In certain scenarios, it may be necessary to remove rows and columns with missing data from a \n",
    "DataFrame. The .dropna() method is used to perform this action. You'll now practice using this \n",
    "method on a dataset obtained from Vanderbilt University, which consists of data from passengers on \n",
    "the Titanic.\n",
    "\n",
    "The DataFrame has been pre-loaded for you as titanic. Explore it in the IPython Shell and you will \n",
    "note that there are many NaNs. You will focus specifically on the 'age' and 'cabin' columns in this \n",
    "exercise. Your job is to use .dropna() to remove rows where any of these two columns contains missing \n",
    "data and rows where all of these two columns contain missing data.\n",
    "\n",
    "You'll also use the .shape attribute, which returns the number of rows and columns in a tuple from a \n",
    "DataFrame, or the number of rows from a Series, to see the effect of dropping missing values from a\n",
    "DataFrame.\n",
    "\n",
    "Finally, you'll use the thresh= keyword argument to drop columns from the full dataset that have less \n",
    "than 1000 non-missing values.\n",
    "\n",
    "\n",
    "Instructions:\n",
    "Select the 'age' and 'cabin' columns of titanic and create a new DataFrame df. x\n",
    "\n",
    "Print the shape of df. This has been done for you. x\n",
    "\n",
    "Drop rows in df with how='any' and print the shape.\n",
    "\n",
    "Drop rows in df with how='all' and print the shape.\n",
    "\n",
    "Drop columns from the titanic DataFrame that have less than 1000 non-missing values by specifying the \n",
    "thresh and axis keyword arguments. Print the output of .info() from this.\n",
    "'''\n",
    "\n",
    "csv = \"titanic.csv\"\n",
    "titanic = pd.read_csv(csv)\n",
    "testNaN = titanic.loc[:, titanic.isnull().any()]\n",
    "testNaN #1309! Got some wranglin' do partner!\n",
    "titanic.iloc[0, :]\n",
    "df = titanic[['age', 'cabin']] #two [[]] results in a DataFrame!\n",
    "\n",
    "df.shape\n",
    "\n",
    "print(df.dropna(how='any').shape) # rows were dropped\n",
    "\n",
    "print(df.dropna(how='all').shape) # rows were dropped\n",
    "\n",
    "print(titanic.dropna(thresh=1000, axis='columns').info())#columns were dropped when axis was specified\n",
    "#dropped from 14 columns to 10. "
   ]
  },
  {
   "cell_type": "code",
   "execution_count": 127,
   "metadata": {},
   "outputs": [
    {
     "ename": "SyntaxError",
     "evalue": "invalid syntax (<ipython-input-127-40febe195f32>, line 1)",
     "output_type": "error",
     "traceback": [
      "\u001b[1;36m  File \u001b[1;32m\"<ipython-input-127-40febe195f32>\"\u001b[1;36m, line \u001b[1;32m1\u001b[0m\n\u001b[1;33m    Video - Transforming DataFrames\u001b[0m\n\u001b[1;37m                                  ^\u001b[0m\n\u001b[1;31mSyntaxError\u001b[0m\u001b[1;31m:\u001b[0m invalid syntax\n"
     ]
    }
   ],
   "source": [
    "Video - Transforming DataFrames\n",
    "Best way to transform is via methods INHERENT to DataFrames!\n",
    "Next best is to use Numpy Universal Functions (ufuncs)\n",
    "Vectorized functions are applied to every value in DataFrame without writing loops\n",
    "\n",
    "df.apply(func) executes the function with each entry of the df\n",
    "can use lambda within df.apply():\n",
    "    df.apply(lambda n: n // 12 ) will apply a floor div of 12 with each entry of df\n",
    "    \n",
    "Computing functions (inherent, numpy vectorized, .apply()) returns a new DataFrame\n",
    "the original df is NOT altered!\n",
    "\n",
    "To PRESERVE the newly computed results we can store them in a new column:\n",
    "    df['dozens_of_eggs'] = df.eggs.floordiv(12)\n",
    "    new column 'dozens_of_eggs' now stored in df\n",
    "    \n",
    "\n",
    "df.str() is a accessor for vectorized string transformations\n",
    "For the INDEX there is no .apply() method\n",
    "Index uses .map()"
   ]
  },
  {
   "cell_type": "code",
   "execution_count": 129,
   "metadata": {},
   "outputs": [
    {
     "name": "stdout",
     "output_type": "stream",
     "text": [
      "   Mean TemperatureC  Mean Dew PointC\n",
      "0          -2.222222        -2.777778\n",
      "1          -6.111111       -11.111111\n",
      "2          -4.444444        -9.444444\n",
      "3          -2.222222        -7.222222\n",
      "4          -1.111111        -6.666667\n"
     ]
    }
   ],
   "source": [
    "'''\n",
    "Exercise 9\n",
    "The .apply() method can be used on a pandas DataFrame to apply an arbitrary Python function to every \n",
    "element. In this exercise you'll take daily weather data in Pittsburgh in 2013 obtained from Weather \n",
    "Underground.\n",
    "\n",
    "A function to convert degrees Fahrenheit to degrees Celsius has been written for you. Your job is to \n",
    "use the .apply() method to perform this conversion on the 'Mean TemperatureF' and 'Mean Dew PointF' \n",
    "columns of the weather DataFrame.\n",
    "\n",
    "INSTRUCTIONS:\n",
    "Apply the to_celsius() function over the ['Mean TemperatureF','Mean Dew PointF'] columns of the \n",
    "weather DataFrame.\n",
    "\n",
    "Reassign the column labels of df_celsius to ['Mean TemperatureC','Mean Dew PointC'] using the .columns\n",
    "attribute.\n",
    "\n",
    "Hit 'Submit Answer' to see the new DataFrame with the converted units.\n",
    "'''\n",
    "csv = \"pittsburgh2013.csv\"\n",
    "weather = pd.read_csv(csv)\n",
    "\n",
    "# Write a function to convert degrees Fahrenheit to degrees Celsius: to_celsius\n",
    "def to_celsius(F):\n",
    "    return 5/9*(F - 32)\n",
    "\n",
    "# Apply the function over 'Mean TemperatureF' and 'Mean Dew PointF': df_celsius\n",
    "df_celsius = weather[['Mean TemperatureF', 'Mean Dew PointF']].apply(to_celsius) \n",
    "#note within .apply() didn't need to use the () for the function to_celsius. Why?\n",
    "\n",
    "# Reassign the column labels of df_celsius\n",
    "df_celsius.columns = ['Mean TemperatureC', 'Mean Dew PointC']\n",
    "\n",
    "# Print the output of df_celsius.head()\n",
    "print(df_celsius.head())"
   ]
  },
  {
   "cell_type": "code",
   "execution_count": null,
   "metadata": {},
   "outputs": [],
   "source": []
  }
 ],
 "metadata": {
  "kernelspec": {
   "display_name": "Python 3",
   "language": "python",
   "name": "python3"
  },
  "language_info": {
   "codemirror_mode": {
    "name": "ipython",
    "version": 3
   },
   "file_extension": ".py",
   "mimetype": "text/x-python",
   "name": "python",
   "nbconvert_exporter": "python",
   "pygments_lexer": "ipython3",
   "version": "3.7.4"
  }
 },
 "nbformat": 4,
 "nbformat_minor": 2
}
